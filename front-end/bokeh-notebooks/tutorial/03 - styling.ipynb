{
 "cells": [
  {
   "cell_type": "markdown",
   "metadata": {},
   "source": [
    "<table style=\"float:left; border:none\">\n",
    "   <tr style=\"border:none\">\n",
    "       <td style=\"border:none\">\n",
    "           <a href=\"http://bokeh.pydata.org/\">     \n",
    "           <img \n",
    "               src=\"http://bokeh.pydata.org/en/latest/_static/bokeh-transparent.png\" \n",
    "               style=\"width:70px\"\n",
    "           >\n",
    "           </a>    \n",
    "       </td>\n",
    "       <td style=\"border:none\">\n",
    "           <h1>Bokeh Tutorial &mdash; Styling and Appearance</h1>\n",
    "       </td>\n",
    "   </tr>\n",
    "</table>"
   ]
  },
  {
   "cell_type": "code",
   "execution_count": 1,
   "metadata": {
    "collapsed": false
   },
   "outputs": [],
   "source": [
    "from bokeh.io import output_notebook, show\n",
    "from bokeh.plotting import figure"
   ]
  },
  {
   "cell_type": "code",
   "execution_count": 2,
   "metadata": {
    "collapsed": false
   },
   "outputs": [
    {
     "data": {
      "text/html": [
       "\n",
       "\n",
       "    <script type=\"text/javascript\">\n",
       "      \n",
       "      (function(global) {\n",
       "        function now() {\n",
       "          return new Date();\n",
       "        }\n",
       "      \n",
       "        if (typeof (window._bokeh_onload_callbacks) === \"undefined\") {\n",
       "          window._bokeh_onload_callbacks = [];\n",
       "        }\n",
       "      \n",
       "        function run_callbacks() {\n",
       "          window._bokeh_onload_callbacks.forEach(function(callback) { callback() });\n",
       "          delete window._bokeh_onload_callbacks\n",
       "          console.info(\"Bokeh: all callbacks have finished\");\n",
       "        }\n",
       "      \n",
       "        function load_libs(js_urls, callback) {\n",
       "          window._bokeh_onload_callbacks.push(callback);\n",
       "          if (window._bokeh_is_loading > 0) {\n",
       "            console.log(\"Bokeh: BokehJS is being loaded, scheduling callback at\", now());\n",
       "            return null;\n",
       "          }\n",
       "          if (js_urls == null || js_urls.length === 0) {\n",
       "            run_callbacks();\n",
       "            return null;\n",
       "          }\n",
       "          console.log(\"Bokeh: BokehJS not loaded, scheduling load and callback at\", now());\n",
       "          window._bokeh_is_loading = js_urls.length;\n",
       "          for (var i = 0; i < js_urls.length; i++) {\n",
       "            var url = js_urls[i];\n",
       "            var s = document.createElement('script');\n",
       "            s.src = url;\n",
       "            s.async = false;\n",
       "            s.onreadystatechange = s.onload = function() {\n",
       "              window._bokeh_is_loading--;\n",
       "              if (window._bokeh_is_loading === 0) {\n",
       "                console.log(\"Bokeh: all BokehJS libraries loaded\");\n",
       "                run_callbacks()\n",
       "              }\n",
       "            };\n",
       "            s.onerror = function() {\n",
       "              console.warn(\"failed to load library \" + url);\n",
       "            };\n",
       "            console.log(\"Bokeh: injecting script tag for BokehJS library: \", url);\n",
       "            document.getElementsByTagName(\"head\")[0].appendChild(s);\n",
       "          }\n",
       "        };var js_urls = ['https://cdn.pydata.org/bokeh/release/bokeh-0.11.0.min.js', 'https://cdn.pydata.org/bokeh/release/bokeh-widgets-0.11.0.min.js', 'https://cdn.pydata.org/bokeh/release/bokeh-compiler-0.11.0.min.js'];\n",
       "      \n",
       "        var inline_js = [\n",
       "          function(Bokeh) {\n",
       "            Bokeh.set_log_level(\"info\");\n",
       "          },\n",
       "          function(Bokeh) {\n",
       "            console.log(\"Bokeh: injecting CSS: https://cdn.pydata.org/bokeh/release/bokeh-0.11.0.min.css\");\n",
       "            Bokeh.embed.inject_css(\"https://cdn.pydata.org/bokeh/release/bokeh-0.11.0.min.css\");\n",
       "            console.log(\"Bokeh: injecting CSS: https://cdn.pydata.org/bokeh/release/bokeh-widgets-0.11.0.min.css\");\n",
       "            Bokeh.embed.inject_css(\"https://cdn.pydata.org/bokeh/release/bokeh-widgets-0.11.0.min.css\");\n",
       "          }\n",
       "        ];\n",
       "      \n",
       "        function run_inline_js() {\n",
       "          for (var i = 0; i < inline_js.length; i++) {\n",
       "            inline_js[i](window.Bokeh);\n",
       "          }\n",
       "        }\n",
       "      \n",
       "        if (window._bokeh_is_loading === 0) {\n",
       "          console.log(\"Bokeh: BokehJS loaded, going straight to plotting\");\n",
       "          run_inline_js();\n",
       "        } else {\n",
       "          load_libs(js_urls, function() {\n",
       "            console.log(\"Bokeh: BokehJS plotting callback run at\", now());\n",
       "            run_inline_js();\n",
       "          });\n",
       "        }\n",
       "      }(this));\n",
       "    </script>\n",
       "    <div>\n",
       "        <a href=\"http://bokeh.pydata.org\" target=\"_blank\" class=\"bk-logo bk-logo-small bk-logo-notebook\"></a>\n",
       "        <span>BokehJS successfully loaded.</span>\n",
       "    </div>"
      ]
     },
     "metadata": {},
     "output_type": "display_data"
    }
   ],
   "source": [
    "output_notebook()"
   ]
  },
  {
   "cell_type": "markdown",
   "metadata": {},
   "source": [
    "# Colors\n",
    "\n",
    "There are many places where you may need to specify colors. Bokeh can accept colors in a variety of different ways:\n",
    "\n",
    "* any of the [147 named CSS colors](http://www.w3schools.com/cssref/css_colornames.asp), e.g ``'green'``, ``'indigo'``\n",
    "* an RGB(A) hex value, e.g., ``'#FF0000'``, ``'#44444444'``\n",
    "* a 3-tuple of integers *(r,g,b)* between 0 and 255\n",
    "*  a 4-tuple of *(r,g,b,a)* where *r*, *g*, *b* are integers between 0 and 255 and *a* is a floating point value between 0 and 1\n",
    "\n"
   ]
  },
  {
   "cell_type": "markdown",
   "metadata": {
    "collapsed": true
   },
   "source": [
    "# Properties\n",
    "\n",
    "Regardless of what API (``models``, ``plotting``, or ``charts``) is used to create a Bokeh plot, styling the visual aspects of the plot can always be accomplished by setting attributes on the Bokeh model objects that comprise the resulting plot. Visual properties come in three kinds: line, fill, and text properties. For full information with code and examples see the [Styling Visual Properties](http://bokeh.pydata.org/en/latest/docs/user_guide/styling.html) section of the user guide. \n",
    "\n",
    "## Line Properties\n",
    "\n",
    "Set the visual appearance of lines. The most common are ``line_color``, ``line_alpha``, ``line_width`` and ``line_dash``.\n",
    "\n",
    "## Fill Properties\n",
    "\n",
    "Set the visual appearance of filled areas: ``fill_color`` and ``fill_alpha``.\n",
    "\n",
    "## Text Properties\n",
    "\n",
    "Set the visual appearance of lines of text. The most common are ``text_font``, ``text_font_size``, ``text_color``, and ``text_alpha``.\n",
    "\n",
    "Sometimes a prefix is used with property names, e.g. to distinguish between different line properties on the same object, or to give a more meaningful name. For example, to set the line width of the plot outline, you would say ``myplot.outline_line_width = 2``. "
   ]
  },
  {
   "cell_type": "markdown",
   "metadata": {},
   "source": [
    "# Plots\n",
    "\n",
    "Many top-level attributes of plots (outline, border, etc.) can be configured. See the [Plots](http://bokeh.pydata.org/en/latest/docs/user_guide/styling.html#plots) section of the styling guide for full information. \n",
    "\n",
    "Here is an example that tweaks the plot outline:"
   ]
  },
  {
   "cell_type": "code",
   "execution_count": 3,
   "metadata": {
    "collapsed": false,
    "scrolled": false
   },
   "outputs": [
    {
     "data": {
      "text/html": [
       "\n",
       "\n",
       "    <div class=\"plotdiv\" id=\"594867fb-7214-43fa-80b7-5d2e41c7b649\"></div>\n",
       "<script type=\"text/javascript\">\n",
       "  \n",
       "  (function(global) {\n",
       "    function now() {\n",
       "      return new Date();\n",
       "    }\n",
       "  \n",
       "    if (typeof (window._bokeh_onload_callbacks) === \"undefined\") {\n",
       "      window._bokeh_onload_callbacks = [];\n",
       "    }\n",
       "  \n",
       "    function run_callbacks() {\n",
       "      window._bokeh_onload_callbacks.forEach(function(callback) { callback() });\n",
       "      delete window._bokeh_onload_callbacks\n",
       "      console.info(\"Bokeh: all callbacks have finished\");\n",
       "    }\n",
       "  \n",
       "    function load_libs(js_urls, callback) {\n",
       "      window._bokeh_onload_callbacks.push(callback);\n",
       "      if (window._bokeh_is_loading > 0) {\n",
       "        console.log(\"Bokeh: BokehJS is being loaded, scheduling callback at\", now());\n",
       "        return null;\n",
       "      }\n",
       "      if (js_urls == null || js_urls.length === 0) {\n",
       "        run_callbacks();\n",
       "        return null;\n",
       "      }\n",
       "      console.log(\"Bokeh: BokehJS not loaded, scheduling load and callback at\", now());\n",
       "      window._bokeh_is_loading = js_urls.length;\n",
       "      for (var i = 0; i < js_urls.length; i++) {\n",
       "        var url = js_urls[i];\n",
       "        var s = document.createElement('script');\n",
       "        s.src = url;\n",
       "        s.async = false;\n",
       "        s.onreadystatechange = s.onload = function() {\n",
       "          window._bokeh_is_loading--;\n",
       "          if (window._bokeh_is_loading === 0) {\n",
       "            console.log(\"Bokeh: all BokehJS libraries loaded\");\n",
       "            run_callbacks()\n",
       "          }\n",
       "        };\n",
       "        s.onerror = function() {\n",
       "          console.warn(\"failed to load library \" + url);\n",
       "        };\n",
       "        console.log(\"Bokeh: injecting script tag for BokehJS library: \", url);\n",
       "        document.getElementsByTagName(\"head\")[0].appendChild(s);\n",
       "      }\n",
       "    };var element = document.getElementById(\"594867fb-7214-43fa-80b7-5d2e41c7b649\");\n",
       "    if (element == null) {\n",
       "      console.log(\"Bokeh: ERROR: autoload.js configured with elementid '594867fb-7214-43fa-80b7-5d2e41c7b649' but no matching script tag was found. \")\n",
       "      return false;\n",
       "    }var js_urls = [];\n",
       "  \n",
       "    var inline_js = [\n",
       "      function(Bokeh) {\n",
       "        Bokeh.$(function() {\n",
       "            var docs_json = {\"25ac3209-6fc1-42b5-a94c-70f8126ac0f1\": {\"version\": \"0.11.0\", \"roots\": {\"root_ids\": [\"9c50741d-c9fe-4923-9dbc-2ff916d93b14\"], \"references\": [{\"attributes\": {\"line_color\": {\"value\": \"#1f77b4\"}, \"x\": {\"field\": \"x\"}, \"y\": {\"field\": \"y\"}, \"fill_color\": {\"value\": \"#1f77b4\"}, \"size\": {\"units\": \"screen\", \"value\": 10}}, \"type\": \"Circle\", \"id\": \"6bc69132-a4df-4eaa-b1af-ababfb85d929\"}, {\"attributes\": {\"nonselection_glyph\": {\"type\": \"Circle\", \"id\": \"b985d2b4-7202-4984-bf72-f62ab566113e\"}, \"data_source\": {\"type\": \"ColumnDataSource\", \"id\": \"66ca0b41-2e62-4eeb-bd59-fa946e5c7efd\"}, \"selection_glyph\": null, \"hover_glyph\": null, \"glyph\": {\"type\": \"Circle\", \"id\": \"6bc69132-a4df-4eaa-b1af-ababfb85d929\"}}, \"type\": \"GlyphRenderer\", \"id\": \"90234217-5ff6-42c5-beee-8ce9bc2d9511\"}, {\"attributes\": {\"plot\": {\"subtype\": \"Figure\", \"type\": \"Plot\", \"id\": \"9c50741d-c9fe-4923-9dbc-2ff916d93b14\"}, \"formatter\": {\"type\": \"BasicTickFormatter\", \"id\": \"7a0a9b9c-6dbe-4b6b-9b61-a90f4a2c6a09\"}, \"ticker\": {\"type\": \"BasicTicker\", \"id\": \"b730f5a7-b929-4ca3-bb17-e84b38149c26\"}}, \"type\": \"LinearAxis\", \"id\": \"e56a23c6-2607-460d-9bd8-fcba80c55771\"}, {\"attributes\": {\"plot\": {\"subtype\": \"Figure\", \"type\": \"Plot\", \"id\": \"9c50741d-c9fe-4923-9dbc-2ff916d93b14\"}}, \"type\": \"PreviewSaveTool\", \"id\": \"ae2faae9-3185-41cf-a665-e6e1a9cad120\"}, {\"attributes\": {\"callback\": null, \"column_names\": [\"y\", \"x\"], \"data\": {\"y\": [2, 5, 8, 2, 7], \"x\": [1, 2, 3, 4, 5]}}, \"type\": \"ColumnDataSource\", \"id\": \"66ca0b41-2e62-4eeb-bd59-fa946e5c7efd\"}, {\"attributes\": {\"plot\": {\"subtype\": \"Figure\", \"type\": \"Plot\", \"id\": \"9c50741d-c9fe-4923-9dbc-2ff916d93b14\"}}, \"type\": \"ResizeTool\", \"id\": \"82821871-7f2d-4e4e-81f0-73fc2d8dd05c\"}, {\"attributes\": {\"plot\": {\"subtype\": \"Figure\", \"type\": \"Plot\", \"id\": \"9c50741d-c9fe-4923-9dbc-2ff916d93b14\"}, \"ticker\": {\"type\": \"BasicTicker\", \"id\": \"dbb452ce-7c9a-49ea-ac56-75fb443a0f94\"}}, \"type\": \"Grid\", \"id\": \"6ef6bf91-a531-49ed-aa9c-b5583b18ee8d\"}, {\"attributes\": {\"plot\": {\"subtype\": \"Figure\", \"type\": \"Plot\", \"id\": \"9c50741d-c9fe-4923-9dbc-2ff916d93b14\"}}, \"type\": \"WheelZoomTool\", \"id\": \"a84b4d27-7dd7-4404-86f7-477b8fca7618\"}, {\"attributes\": {\"line_color\": {\"value\": \"#1f77b4\"}, \"line_alpha\": {\"value\": 0.1}, \"fill_color\": {\"value\": \"#1f77b4\"}, \"fill_alpha\": {\"value\": 0.1}, \"y\": {\"field\": \"y\"}, \"x\": {\"field\": \"x\"}, \"size\": {\"units\": \"screen\", \"value\": 10}}, \"type\": \"Circle\", \"id\": \"b985d2b4-7202-4984-bf72-f62ab566113e\"}, {\"attributes\": {}, \"type\": \"BasicTickFormatter\", \"id\": \"7a0a9b9c-6dbe-4b6b-9b61-a90f4a2c6a09\"}, {\"attributes\": {}, \"type\": \"BasicTickFormatter\", \"id\": \"f08cad09-a12c-4972-bd1b-2cd1df6208d6\"}, {\"attributes\": {\"outline_line_width\": {\"value\": 7}, \"x_range\": {\"type\": \"DataRange1d\", \"id\": \"0663b3e5-7953-465c-b6d2-df6ca31c6942\"}, \"outline_line_alpha\": {\"value\": 0.3}, \"y_range\": {\"type\": \"DataRange1d\", \"id\": \"4e575005-3472-46a3-9b2e-5cf90518e2ad\"}, \"outline_line_color\": {\"value\": \"navy\"}, \"plot_width\": 400, \"renderers\": [{\"type\": \"LinearAxis\", \"id\": \"acc2ed99-6ff3-4eb0-aae9-fe9db448fbd3\"}, {\"type\": \"Grid\", \"id\": \"6ef6bf91-a531-49ed-aa9c-b5583b18ee8d\"}, {\"type\": \"LinearAxis\", \"id\": \"e56a23c6-2607-460d-9bd8-fcba80c55771\"}, {\"type\": \"Grid\", \"id\": \"183fb0ab-3841-4586-93a2-a4f4ac3eed15\"}, {\"type\": \"BoxAnnotation\", \"id\": \"02a68ba4-a631-40f3-9c23-bfa9fa4262f4\"}, {\"type\": \"GlyphRenderer\", \"id\": \"90234217-5ff6-42c5-beee-8ce9bc2d9511\"}], \"below\": [{\"type\": \"LinearAxis\", \"id\": \"acc2ed99-6ff3-4eb0-aae9-fe9db448fbd3\"}], \"tool_events\": {\"type\": \"ToolEvents\", \"id\": \"fa20bd23-2ad9-455a-bde0-e8cae59d43be\"}, \"plot_height\": 400, \"tools\": [{\"type\": \"PanTool\", \"id\": \"a35a1d48-ae29-47f2-93a9-7acf26870aa4\"}, {\"type\": \"WheelZoomTool\", \"id\": \"a84b4d27-7dd7-4404-86f7-477b8fca7618\"}, {\"type\": \"BoxZoomTool\", \"id\": \"81c11b71-d558-4831-89f0-a30af7d669e1\"}, {\"type\": \"PreviewSaveTool\", \"id\": \"ae2faae9-3185-41cf-a665-e6e1a9cad120\"}, {\"type\": \"ResizeTool\", \"id\": \"82821871-7f2d-4e4e-81f0-73fc2d8dd05c\"}, {\"type\": \"ResetTool\", \"id\": \"1562277d-7974-4baa-994e-2160431705ea\"}, {\"type\": \"HelpTool\", \"id\": \"4f02d712-b510-49f7-b27c-953ed6362726\"}], \"left\": [{\"type\": \"LinearAxis\", \"id\": \"e56a23c6-2607-460d-9bd8-fcba80c55771\"}]}, \"type\": \"Plot\", \"id\": \"9c50741d-c9fe-4923-9dbc-2ff916d93b14\", \"subtype\": \"Figure\"}, {\"attributes\": {}, \"type\": \"ToolEvents\", \"id\": \"fa20bd23-2ad9-455a-bde0-e8cae59d43be\"}, {\"attributes\": {\"plot\": {\"subtype\": \"Figure\", \"type\": \"Plot\", \"id\": \"9c50741d-c9fe-4923-9dbc-2ff916d93b14\"}}, \"type\": \"HelpTool\", \"id\": \"4f02d712-b510-49f7-b27c-953ed6362726\"}, {\"attributes\": {}, \"type\": \"BasicTicker\", \"id\": \"b730f5a7-b929-4ca3-bb17-e84b38149c26\"}, {\"attributes\": {}, \"type\": \"BasicTicker\", \"id\": \"dbb452ce-7c9a-49ea-ac56-75fb443a0f94\"}, {\"attributes\": {\"plot\": {\"subtype\": \"Figure\", \"type\": \"Plot\", \"id\": \"9c50741d-c9fe-4923-9dbc-2ff916d93b14\"}, \"formatter\": {\"type\": \"BasicTickFormatter\", \"id\": \"f08cad09-a12c-4972-bd1b-2cd1df6208d6\"}, \"ticker\": {\"type\": \"BasicTicker\", \"id\": \"dbb452ce-7c9a-49ea-ac56-75fb443a0f94\"}}, \"type\": \"LinearAxis\", \"id\": \"acc2ed99-6ff3-4eb0-aae9-fe9db448fbd3\"}, {\"attributes\": {\"plot\": {\"subtype\": \"Figure\", \"type\": \"Plot\", \"id\": \"9c50741d-c9fe-4923-9dbc-2ff916d93b14\"}}, \"type\": \"ResetTool\", \"id\": \"1562277d-7974-4baa-994e-2160431705ea\"}, {\"attributes\": {\"plot\": {\"subtype\": \"Figure\", \"type\": \"Plot\", \"id\": \"9c50741d-c9fe-4923-9dbc-2ff916d93b14\"}}, \"type\": \"PanTool\", \"id\": \"a35a1d48-ae29-47f2-93a9-7acf26870aa4\"}, {\"attributes\": {\"plot\": {\"subtype\": \"Figure\", \"type\": \"Plot\", \"id\": \"9c50741d-c9fe-4923-9dbc-2ff916d93b14\"}, \"overlay\": {\"type\": \"BoxAnnotation\", \"id\": \"02a68ba4-a631-40f3-9c23-bfa9fa4262f4\"}}, \"type\": \"BoxZoomTool\", \"id\": \"81c11b71-d558-4831-89f0-a30af7d669e1\"}, {\"attributes\": {\"callback\": null}, \"type\": \"DataRange1d\", \"id\": \"0663b3e5-7953-465c-b6d2-df6ca31c6942\"}, {\"attributes\": {\"plot\": {\"subtype\": \"Figure\", \"type\": \"Plot\", \"id\": \"9c50741d-c9fe-4923-9dbc-2ff916d93b14\"}, \"ticker\": {\"type\": \"BasicTicker\", \"id\": \"b730f5a7-b929-4ca3-bb17-e84b38149c26\"}, \"dimension\": 1}, \"type\": \"Grid\", \"id\": \"183fb0ab-3841-4586-93a2-a4f4ac3eed15\"}, {\"attributes\": {\"callback\": null}, \"type\": \"DataRange1d\", \"id\": \"4e575005-3472-46a3-9b2e-5cf90518e2ad\"}, {\"attributes\": {\"line_color\": {\"value\": \"black\"}, \"line_alpha\": {\"value\": 1.0}, \"render_mode\": \"css\", \"bottom_units\": \"screen\", \"level\": \"overlay\", \"top_units\": \"screen\", \"fill_alpha\": {\"value\": 0.5}, \"plot\": null, \"left_units\": \"screen\", \"line_dash\": [4, 4], \"line_width\": {\"value\": 2}, \"right_units\": \"screen\", \"fill_color\": {\"value\": \"lightgrey\"}}, \"type\": \"BoxAnnotation\", \"id\": \"02a68ba4-a631-40f3-9c23-bfa9fa4262f4\"}]}, \"title\": \"Bokeh Application\"}};\n",
       "            var render_items = [{\"notebook_comms_target\": \"ebe67cef-5e03-4b6a-98c8-66409115f9cf\", \"docid\": \"25ac3209-6fc1-42b5-a94c-70f8126ac0f1\", \"elementid\": \"594867fb-7214-43fa-80b7-5d2e41c7b649\", \"modelid\": \"9c50741d-c9fe-4923-9dbc-2ff916d93b14\"}];\n",
       "            \n",
       "            Bokeh.embed.embed_items(docs_json, render_items);\n",
       "        });\n",
       "      },\n",
       "      function(Bokeh) {\n",
       "      }\n",
       "    ];\n",
       "  \n",
       "    function run_inline_js() {\n",
       "      for (var i = 0; i < inline_js.length; i++) {\n",
       "        inline_js[i](window.Bokeh);\n",
       "      }\n",
       "    }\n",
       "  \n",
       "    if (window._bokeh_is_loading === 0) {\n",
       "      console.log(\"Bokeh: BokehJS loaded, going straight to plotting\");\n",
       "      run_inline_js();\n",
       "    } else {\n",
       "      load_libs(js_urls, function() {\n",
       "        console.log(\"Bokeh: BokehJS plotting callback run at\", now());\n",
       "        run_inline_js();\n",
       "      });\n",
       "    }\n",
       "  }(this));\n",
       "</script>"
      ]
     },
     "metadata": {},
     "output_type": "display_data"
    },
    {
     "data": {
      "text/plain": [
       "<bokeh.io._CommsHandle at 0x7f1d9eb9e3d0>"
      ]
     },
     "execution_count": 3,
     "metadata": {},
     "output_type": "execute_result"
    }
   ],
   "source": [
    "# create a new plot with a title\n",
    "p = figure(plot_width=400, plot_height=400)\n",
    "p.outline_line_width = 7\n",
    "p.outline_line_alpha = 0.3\n",
    "p.outline_line_color = \"navy\"\n",
    "\n",
    "p.circle([1,2,3,4,5], [2,5,8,2,7], size=10)\n",
    "\n",
    "show(p)"
   ]
  },
  {
   "cell_type": "code",
   "execution_count": 4,
   "metadata": {
    "collapsed": true
   },
   "outputs": [],
   "source": [
    "# EXERCISE Create a plot of your own and customize several plot-level properties\n",
    "\n"
   ]
  },
  {
   "cell_type": "markdown",
   "metadata": {},
   "source": [
    "# Axes\n",
    "\n",
    "[Axes](http://bokeh.pydata.org/en/latest/docs/user_guide/styling.html#axes)\n",
    "\n",
    "To style axes, you first must get ahold of `Axis` objects. The simplest way is to use some convenience methods on `Plot`: [axis](http://bokeh.pydata.org/en/latest/docs/reference/plotting.html#bokeh.plotting.Figure.axis), [xaxis](http://bokeh.pydata.org/en/latest/docs/reference/plotting.html#bokeh.plotting.Figure.xaxis), and [yaxis](http://bokeh.pydata.org/en/latest/docs/reference/plotting.html#bokeh.plotting.Figure.yaxis). These methods return lists of axis objects:\n",
    "\n",
    "```\n",
    ">>> p.xaxis\n",
    "[<bokeh.models.axes.LinearAxis at 0x106fa2390>]\n",
    "```\n",
    "However, you can set properties on all the elements of the list as if it was a single object:\n",
    "```\n",
    "p.xaxis.axis_label = \"Temperature\"\n",
    "p.axis.major_label_text_color = \"orange\"\n",
    "```\n",
    "These are referred to as \"splattable\" lists, and tab completion works on them as well. \n"
   ]
  },
  {
   "cell_type": "code",
   "execution_count": 5,
   "metadata": {
    "collapsed": true
   },
   "outputs": [],
   "source": [
    "# EXERCISE Try out tab completion. Type p.xaxis.<press tab key> to see a list of attributes that can be set.\n",
    "\n"
   ]
  },
  {
   "cell_type": "markdown",
   "metadata": {},
   "source": [
    "* **axis** \n",
    " - [line properties](http://bokeh.pydata.org/en/latest/docs/user_guide/styling.html#line-properties)\n",
    "* **axis_label** \n",
    " - [text properties](http://bokeh.pydata.org/en/latest/docs/user_guide/styling.html#text-properties)\n",
    " - ``axis_label_standoff``\n",
    "* **major_label** \n",
    " - [text properties](http://bokeh.pydata.org/en/latest/docs/user_guide/styling.html#text-properties)\n",
    " - ``orientation``\n",
    "* **major_tick** \n",
    " - [line_properties](http://bokeh.pydata.org/en/latest/docs/user_guide/styling.html#line-properties)\n",
    " - ``major_tick_in`` \n",
    " - ``major_tick_out``\n",
    "* **minor_tick** \n",
    " - [line properties](http://bokeh.pydata.org/en/latest/docs/user_guide/styling.html#line-properties)\n",
    " - ``minor_tick_in``\n",
    " - ``minor_tick_out``\n",
    "\n",
    "As a simple first example, let's change the orientation of the major tick labels on both axes of a plot:"
   ]
  },
  {
   "cell_type": "code",
   "execution_count": 6,
   "metadata": {
    "collapsed": false
   },
   "outputs": [
    {
     "data": {
      "text/html": [
       "\n",
       "\n",
       "    <div class=\"plotdiv\" id=\"ebe7dc39-f802-43ac-a8c3-3f59f2017ed9\"></div>\n",
       "<script type=\"text/javascript\">\n",
       "  \n",
       "  (function(global) {\n",
       "    function now() {\n",
       "      return new Date();\n",
       "    }\n",
       "  \n",
       "    if (typeof (window._bokeh_onload_callbacks) === \"undefined\") {\n",
       "      window._bokeh_onload_callbacks = [];\n",
       "    }\n",
       "  \n",
       "    function run_callbacks() {\n",
       "      window._bokeh_onload_callbacks.forEach(function(callback) { callback() });\n",
       "      delete window._bokeh_onload_callbacks\n",
       "      console.info(\"Bokeh: all callbacks have finished\");\n",
       "    }\n",
       "  \n",
       "    function load_libs(js_urls, callback) {\n",
       "      window._bokeh_onload_callbacks.push(callback);\n",
       "      if (window._bokeh_is_loading > 0) {\n",
       "        console.log(\"Bokeh: BokehJS is being loaded, scheduling callback at\", now());\n",
       "        return null;\n",
       "      }\n",
       "      if (js_urls == null || js_urls.length === 0) {\n",
       "        run_callbacks();\n",
       "        return null;\n",
       "      }\n",
       "      console.log(\"Bokeh: BokehJS not loaded, scheduling load and callback at\", now());\n",
       "      window._bokeh_is_loading = js_urls.length;\n",
       "      for (var i = 0; i < js_urls.length; i++) {\n",
       "        var url = js_urls[i];\n",
       "        var s = document.createElement('script');\n",
       "        s.src = url;\n",
       "        s.async = false;\n",
       "        s.onreadystatechange = s.onload = function() {\n",
       "          window._bokeh_is_loading--;\n",
       "          if (window._bokeh_is_loading === 0) {\n",
       "            console.log(\"Bokeh: all BokehJS libraries loaded\");\n",
       "            run_callbacks()\n",
       "          }\n",
       "        };\n",
       "        s.onerror = function() {\n",
       "          console.warn(\"failed to load library \" + url);\n",
       "        };\n",
       "        console.log(\"Bokeh: injecting script tag for BokehJS library: \", url);\n",
       "        document.getElementsByTagName(\"head\")[0].appendChild(s);\n",
       "      }\n",
       "    };var element = document.getElementById(\"ebe7dc39-f802-43ac-a8c3-3f59f2017ed9\");\n",
       "    if (element == null) {\n",
       "      console.log(\"Bokeh: ERROR: autoload.js configured with elementid 'ebe7dc39-f802-43ac-a8c3-3f59f2017ed9' but no matching script tag was found. \")\n",
       "      return false;\n",
       "    }var js_urls = [];\n",
       "  \n",
       "    var inline_js = [\n",
       "      function(Bokeh) {\n",
       "        Bokeh.$(function() {\n",
       "            var docs_json = {\"acdeca39-20a4-497a-97d8-2b32d1ac6302\": {\"version\": \"0.11.0\", \"roots\": {\"root_ids\": [\"9c50741d-c9fe-4923-9dbc-2ff916d93b14\", \"d344d720-6fcd-4555-a9c9-2dfb14979ea9\"], \"references\": [{\"attributes\": {\"plot\": {\"subtype\": \"Figure\", \"type\": \"Plot\", \"id\": \"9c50741d-c9fe-4923-9dbc-2ff916d93b14\"}, \"formatter\": {\"type\": \"BasicTickFormatter\", \"id\": \"f08cad09-a12c-4972-bd1b-2cd1df6208d6\"}, \"ticker\": {\"type\": \"BasicTicker\", \"id\": \"dbb452ce-7c9a-49ea-ac56-75fb443a0f94\"}}, \"type\": \"LinearAxis\", \"id\": \"acc2ed99-6ff3-4eb0-aae9-fe9db448fbd3\"}, {\"attributes\": {\"line_color\": {\"value\": \"#1f77b4\"}, \"line_width\": {\"value\": 2}, \"fill_color\": {\"value\": \"#1f77b4\"}, \"y\": {\"field\": \"y\"}, \"x\": {\"field\": \"x\"}, \"size\": {\"units\": \"screen\", \"value\": 10}}, \"type\": \"X\", \"id\": \"9c8d1824-c8a0-4bed-a783-f223fc7f18f1\"}, {\"attributes\": {\"callback\": null}, \"type\": \"DataRange1d\", \"id\": \"42f5d9e0-d0b3-4f1e-88c6-e50601175475\"}, {\"attributes\": {\"nonselection_glyph\": {\"type\": \"Circle\", \"id\": \"b985d2b4-7202-4984-bf72-f62ab566113e\"}, \"data_source\": {\"type\": \"ColumnDataSource\", \"id\": \"66ca0b41-2e62-4eeb-bd59-fa946e5c7efd\"}, \"selection_glyph\": null, \"hover_glyph\": null, \"glyph\": {\"type\": \"Circle\", \"id\": \"6bc69132-a4df-4eaa-b1af-ababfb85d929\"}}, \"type\": \"GlyphRenderer\", \"id\": \"90234217-5ff6-42c5-beee-8ce9bc2d9511\"}, {\"attributes\": {\"plot\": {\"subtype\": \"Figure\", \"type\": \"Plot\", \"id\": \"9c50741d-c9fe-4923-9dbc-2ff916d93b14\"}, \"formatter\": {\"type\": \"BasicTickFormatter\", \"id\": \"7a0a9b9c-6dbe-4b6b-9b61-a90f4a2c6a09\"}, \"ticker\": {\"type\": \"BasicTicker\", \"id\": \"b730f5a7-b929-4ca3-bb17-e84b38149c26\"}}, \"type\": \"LinearAxis\", \"id\": \"e56a23c6-2607-460d-9bd8-fcba80c55771\"}, {\"attributes\": {}, \"type\": \"ToolEvents\", \"id\": \"171f80dc-59e6-4e7e-8e7c-dc9659f0613e\"}, {\"attributes\": {\"callback\": null, \"column_names\": [\"y\", \"x\"], \"data\": {\"y\": [2, 5, 8, 2, 7], \"x\": [1, 2, 3, 4, 5]}}, \"type\": \"ColumnDataSource\", \"id\": \"08f34e73-1a4b-419a-a434-29a6bd8df4cb\"}, {\"attributes\": {\"plot\": {\"subtype\": \"Figure\", \"type\": \"Plot\", \"id\": \"9c50741d-c9fe-4923-9dbc-2ff916d93b14\"}}, \"type\": \"PreviewSaveTool\", \"id\": \"ae2faae9-3185-41cf-a665-e6e1a9cad120\"}, {\"attributes\": {\"plot\": {\"subtype\": \"Figure\", \"type\": \"Plot\", \"id\": \"d344d720-6fcd-4555-a9c9-2dfb14979ea9\"}, \"ticker\": {\"type\": \"BasicTicker\", \"id\": \"726478cd-239d-4132-acbe-0641ff6a785b\"}}, \"type\": \"Grid\", \"id\": \"0ba7084b-6f4e-4f70-a601-9d50f1afa06f\"}, {\"attributes\": {\"line_color\": {\"value\": \"black\"}, \"line_alpha\": {\"value\": 1.0}, \"render_mode\": \"css\", \"bottom_units\": \"screen\", \"level\": \"overlay\", \"top_units\": \"screen\", \"fill_alpha\": {\"value\": 0.5}, \"plot\": null, \"left_units\": \"screen\", \"line_dash\": [4, 4], \"line_width\": {\"value\": 2}, \"right_units\": \"screen\", \"fill_color\": {\"value\": \"lightgrey\"}}, \"type\": \"BoxAnnotation\", \"id\": \"60531ff1-fdd5-4333-99e0-5647d909adb4\"}, {\"attributes\": {\"callback\": null, \"column_names\": [\"y\", \"x\"], \"data\": {\"y\": [2, 5, 8, 2, 7], \"x\": [1, 2, 3, 4, 5]}}, \"type\": \"ColumnDataSource\", \"id\": \"66ca0b41-2e62-4eeb-bd59-fa946e5c7efd\"}, {\"attributes\": {\"plot\": {\"subtype\": \"Figure\", \"type\": \"Plot\", \"id\": \"d344d720-6fcd-4555-a9c9-2dfb14979ea9\"}}, \"type\": \"HelpTool\", \"id\": \"1f0edf1c-d9e3-4378-99a2-02fdae393041\"}, {\"attributes\": {\"plot\": {\"subtype\": \"Figure\", \"type\": \"Plot\", \"id\": \"d344d720-6fcd-4555-a9c9-2dfb14979ea9\"}, \"overlay\": {\"type\": \"BoxAnnotation\", \"id\": \"60531ff1-fdd5-4333-99e0-5647d909adb4\"}}, \"type\": \"BoxZoomTool\", \"id\": \"df3cfcc5-4ca8-48e4-83f9-fddcec269dc0\"}, {\"attributes\": {\"plot\": {\"subtype\": \"Figure\", \"type\": \"Plot\", \"id\": \"9c50741d-c9fe-4923-9dbc-2ff916d93b14\"}}, \"type\": \"ResizeTool\", \"id\": \"82821871-7f2d-4e4e-81f0-73fc2d8dd05c\"}, {\"attributes\": {}, \"type\": \"BasicTicker\", \"id\": \"b4adcc9f-e844-4fb8-8a04-12213c3066cd\"}, {\"attributes\": {\"plot\": {\"subtype\": \"Figure\", \"type\": \"Plot\", \"id\": \"9c50741d-c9fe-4923-9dbc-2ff916d93b14\"}, \"ticker\": {\"type\": \"BasicTicker\", \"id\": \"dbb452ce-7c9a-49ea-ac56-75fb443a0f94\"}}, \"type\": \"Grid\", \"id\": \"6ef6bf91-a531-49ed-aa9c-b5583b18ee8d\"}, {\"attributes\": {\"plot\": {\"subtype\": \"Figure\", \"type\": \"Plot\", \"id\": \"9c50741d-c9fe-4923-9dbc-2ff916d93b14\"}}, \"type\": \"PanTool\", \"id\": \"a35a1d48-ae29-47f2-93a9-7acf26870aa4\"}, {\"attributes\": {\"major_label_orientation\": \"vertical\", \"plot\": {\"subtype\": \"Figure\", \"type\": \"Plot\", \"id\": \"d344d720-6fcd-4555-a9c9-2dfb14979ea9\"}, \"formatter\": {\"type\": \"BasicTickFormatter\", \"id\": \"218503e5-88e1-4947-8496-856efb79b478\"}, \"ticker\": {\"type\": \"BasicTicker\", \"id\": \"b4adcc9f-e844-4fb8-8a04-12213c3066cd\"}}, \"type\": \"LinearAxis\", \"id\": \"e2ed4965-d67f-47ee-994a-84a9538dc03c\"}, {\"attributes\": {\"line_color\": {\"value\": \"#1f77b4\"}, \"line_alpha\": {\"value\": 0.1}, \"fill_color\": {\"value\": \"#1f77b4\"}, \"fill_alpha\": {\"value\": 0.1}, \"y\": {\"field\": \"y\"}, \"x\": {\"field\": \"x\"}, \"size\": {\"units\": \"screen\", \"value\": 10}}, \"type\": \"Circle\", \"id\": \"b985d2b4-7202-4984-bf72-f62ab566113e\"}, {\"attributes\": {\"plot\": {\"subtype\": \"Figure\", \"type\": \"Plot\", \"id\": \"d344d720-6fcd-4555-a9c9-2dfb14979ea9\"}}, \"type\": \"ResetTool\", \"id\": \"da9a487f-1f0f-47cd-a3fe-1f5ba4298240\"}, {\"attributes\": {}, \"type\": \"BasicTickFormatter\", \"id\": \"7a0a9b9c-6dbe-4b6b-9b61-a90f4a2c6a09\"}, {\"attributes\": {\"plot\": {\"subtype\": \"Figure\", \"type\": \"Plot\", \"id\": \"d344d720-6fcd-4555-a9c9-2dfb14979ea9\"}}, \"type\": \"ResizeTool\", \"id\": \"e535159b-1e4e-49b6-8892-e351e8e4a07d\"}, {\"attributes\": {\"plot\": {\"subtype\": \"Figure\", \"type\": \"Plot\", \"id\": \"d344d720-6fcd-4555-a9c9-2dfb14979ea9\"}}, \"type\": \"PreviewSaveTool\", \"id\": \"c915bbf4-e38f-452c-8d58-c85037a0b75a\"}, {\"attributes\": {\"nonselection_glyph\": {\"type\": \"X\", \"id\": \"1b48d27f-1f9d-4b9c-82a6-d74a95b34664\"}, \"data_source\": {\"type\": \"ColumnDataSource\", \"id\": \"08f34e73-1a4b-419a-a434-29a6bd8df4cb\"}, \"selection_glyph\": null, \"hover_glyph\": null, \"glyph\": {\"type\": \"X\", \"id\": \"9c8d1824-c8a0-4bed-a783-f223fc7f18f1\"}}, \"type\": \"GlyphRenderer\", \"id\": \"264dbbb5-4618-44ab-8df6-dc1002586a6a\"}, {\"attributes\": {\"x_range\": {\"type\": \"DataRange1d\", \"id\": \"4c262ec1-0662-41a6-b063-4152aa9367b6\"}, \"y_range\": {\"type\": \"DataRange1d\", \"id\": \"42f5d9e0-d0b3-4f1e-88c6-e50601175475\"}, \"renderers\": [{\"type\": \"LinearAxis\", \"id\": \"09930e51-7238-4f7e-a56c-6218eba408de\"}, {\"type\": \"Grid\", \"id\": \"0ba7084b-6f4e-4f70-a601-9d50f1afa06f\"}, {\"type\": \"LinearAxis\", \"id\": \"e2ed4965-d67f-47ee-994a-84a9538dc03c\"}, {\"type\": \"Grid\", \"id\": \"31ec6682-23a2-4b37-83c5-65e0d875c7bc\"}, {\"type\": \"BoxAnnotation\", \"id\": \"60531ff1-fdd5-4333-99e0-5647d909adb4\"}, {\"type\": \"GlyphRenderer\", \"id\": \"264dbbb5-4618-44ab-8df6-dc1002586a6a\"}], \"plot_width\": 400, \"below\": [{\"type\": \"LinearAxis\", \"id\": \"09930e51-7238-4f7e-a56c-6218eba408de\"}], \"tool_events\": {\"type\": \"ToolEvents\", \"id\": \"171f80dc-59e6-4e7e-8e7c-dc9659f0613e\"}, \"plot_height\": 400, \"tools\": [{\"type\": \"PanTool\", \"id\": \"4ed5101d-70ed-4e0c-a77d-9f3ed1fd3b48\"}, {\"type\": \"WheelZoomTool\", \"id\": \"47c2e5f5-38d8-4bee-b564-e8c3977b7a27\"}, {\"type\": \"BoxZoomTool\", \"id\": \"df3cfcc5-4ca8-48e4-83f9-fddcec269dc0\"}, {\"type\": \"PreviewSaveTool\", \"id\": \"c915bbf4-e38f-452c-8d58-c85037a0b75a\"}, {\"type\": \"ResizeTool\", \"id\": \"e535159b-1e4e-49b6-8892-e351e8e4a07d\"}, {\"type\": \"ResetTool\", \"id\": \"da9a487f-1f0f-47cd-a3fe-1f5ba4298240\"}, {\"type\": \"HelpTool\", \"id\": \"1f0edf1c-d9e3-4378-99a2-02fdae393041\"}], \"left\": [{\"type\": \"LinearAxis\", \"id\": \"e2ed4965-d67f-47ee-994a-84a9538dc03c\"}]}, \"type\": \"Plot\", \"id\": \"d344d720-6fcd-4555-a9c9-2dfb14979ea9\", \"subtype\": \"Figure\"}, {\"attributes\": {\"plot\": {\"subtype\": \"Figure\", \"type\": \"Plot\", \"id\": \"d344d720-6fcd-4555-a9c9-2dfb14979ea9\"}}, \"type\": \"PanTool\", \"id\": \"4ed5101d-70ed-4e0c-a77d-9f3ed1fd3b48\"}, {\"attributes\": {}, \"type\": \"BasicTicker\", \"id\": \"726478cd-239d-4132-acbe-0641ff6a785b\"}, {\"attributes\": {}, \"type\": \"BasicTickFormatter\", \"id\": \"f08cad09-a12c-4972-bd1b-2cd1df6208d6\"}, {\"attributes\": {\"major_label_orientation\": 0.7853981633974483, \"plot\": {\"subtype\": \"Figure\", \"type\": \"Plot\", \"id\": \"d344d720-6fcd-4555-a9c9-2dfb14979ea9\"}, \"formatter\": {\"type\": \"BasicTickFormatter\", \"id\": \"2f204493-0281-43f7-a699-0daf17c7aa6b\"}, \"ticker\": {\"type\": \"BasicTicker\", \"id\": \"726478cd-239d-4132-acbe-0641ff6a785b\"}}, \"type\": \"LinearAxis\", \"id\": \"09930e51-7238-4f7e-a56c-6218eba408de\"}, {\"attributes\": {\"outline_line_width\": {\"value\": 7}, \"x_range\": {\"type\": \"DataRange1d\", \"id\": \"0663b3e5-7953-465c-b6d2-df6ca31c6942\"}, \"outline_line_alpha\": {\"value\": 0.3}, \"y_range\": {\"type\": \"DataRange1d\", \"id\": \"4e575005-3472-46a3-9b2e-5cf90518e2ad\"}, \"outline_line_color\": {\"value\": \"navy\"}, \"plot_width\": 400, \"renderers\": [{\"type\": \"LinearAxis\", \"id\": \"acc2ed99-6ff3-4eb0-aae9-fe9db448fbd3\"}, {\"type\": \"Grid\", \"id\": \"6ef6bf91-a531-49ed-aa9c-b5583b18ee8d\"}, {\"type\": \"LinearAxis\", \"id\": \"e56a23c6-2607-460d-9bd8-fcba80c55771\"}, {\"type\": \"Grid\", \"id\": \"183fb0ab-3841-4586-93a2-a4f4ac3eed15\"}, {\"type\": \"BoxAnnotation\", \"id\": \"02a68ba4-a631-40f3-9c23-bfa9fa4262f4\"}, {\"type\": \"GlyphRenderer\", \"id\": \"90234217-5ff6-42c5-beee-8ce9bc2d9511\"}], \"below\": [{\"type\": \"LinearAxis\", \"id\": \"acc2ed99-6ff3-4eb0-aae9-fe9db448fbd3\"}], \"tool_events\": {\"type\": \"ToolEvents\", \"id\": \"fa20bd23-2ad9-455a-bde0-e8cae59d43be\"}, \"plot_height\": 400, \"tools\": [{\"type\": \"PanTool\", \"id\": \"a35a1d48-ae29-47f2-93a9-7acf26870aa4\"}, {\"type\": \"WheelZoomTool\", \"id\": \"a84b4d27-7dd7-4404-86f7-477b8fca7618\"}, {\"type\": \"BoxZoomTool\", \"id\": \"81c11b71-d558-4831-89f0-a30af7d669e1\"}, {\"type\": \"PreviewSaveTool\", \"id\": \"ae2faae9-3185-41cf-a665-e6e1a9cad120\"}, {\"type\": \"ResizeTool\", \"id\": \"82821871-7f2d-4e4e-81f0-73fc2d8dd05c\"}, {\"type\": \"ResetTool\", \"id\": \"1562277d-7974-4baa-994e-2160431705ea\"}, {\"type\": \"HelpTool\", \"id\": \"4f02d712-b510-49f7-b27c-953ed6362726\"}], \"left\": [{\"type\": \"LinearAxis\", \"id\": \"e56a23c6-2607-460d-9bd8-fcba80c55771\"}]}, \"type\": \"Plot\", \"id\": \"9c50741d-c9fe-4923-9dbc-2ff916d93b14\", \"subtype\": \"Figure\"}, {\"attributes\": {}, \"type\": \"ToolEvents\", \"id\": \"fa20bd23-2ad9-455a-bde0-e8cae59d43be\"}, {\"attributes\": {\"plot\": {\"subtype\": \"Figure\", \"type\": \"Plot\", \"id\": \"9c50741d-c9fe-4923-9dbc-2ff916d93b14\"}}, \"type\": \"HelpTool\", \"id\": \"4f02d712-b510-49f7-b27c-953ed6362726\"}, {\"attributes\": {}, \"type\": \"BasicTicker\", \"id\": \"b730f5a7-b929-4ca3-bb17-e84b38149c26\"}, {\"attributes\": {}, \"type\": \"BasicTicker\", \"id\": \"dbb452ce-7c9a-49ea-ac56-75fb443a0f94\"}, {\"attributes\": {}, \"type\": \"BasicTickFormatter\", \"id\": \"218503e5-88e1-4947-8496-856efb79b478\"}, {\"attributes\": {\"line_color\": {\"value\": \"#1f77b4\"}, \"x\": {\"field\": \"x\"}, \"y\": {\"field\": \"y\"}, \"fill_color\": {\"value\": \"#1f77b4\"}, \"size\": {\"units\": \"screen\", \"value\": 10}}, \"type\": \"Circle\", \"id\": \"6bc69132-a4df-4eaa-b1af-ababfb85d929\"}, {\"attributes\": {\"plot\": {\"subtype\": \"Figure\", \"type\": \"Plot\", \"id\": \"9c50741d-c9fe-4923-9dbc-2ff916d93b14\"}}, \"type\": \"ResetTool\", \"id\": \"1562277d-7974-4baa-994e-2160431705ea\"}, {\"attributes\": {\"plot\": {\"subtype\": \"Figure\", \"type\": \"Plot\", \"id\": \"9c50741d-c9fe-4923-9dbc-2ff916d93b14\"}}, \"type\": \"WheelZoomTool\", \"id\": \"a84b4d27-7dd7-4404-86f7-477b8fca7618\"}, {\"attributes\": {\"plot\": {\"subtype\": \"Figure\", \"type\": \"Plot\", \"id\": \"9c50741d-c9fe-4923-9dbc-2ff916d93b14\"}, \"overlay\": {\"type\": \"BoxAnnotation\", \"id\": \"02a68ba4-a631-40f3-9c23-bfa9fa4262f4\"}}, \"type\": \"BoxZoomTool\", \"id\": \"81c11b71-d558-4831-89f0-a30af7d669e1\"}, {\"attributes\": {}, \"type\": \"BasicTickFormatter\", \"id\": \"2f204493-0281-43f7-a699-0daf17c7aa6b\"}, {\"attributes\": {\"callback\": null}, \"type\": \"DataRange1d\", \"id\": \"4c262ec1-0662-41a6-b063-4152aa9367b6\"}, {\"attributes\": {\"plot\": {\"subtype\": \"Figure\", \"type\": \"Plot\", \"id\": \"d344d720-6fcd-4555-a9c9-2dfb14979ea9\"}}, \"type\": \"WheelZoomTool\", \"id\": \"47c2e5f5-38d8-4bee-b564-e8c3977b7a27\"}, {\"attributes\": {\"callback\": null}, \"type\": \"DataRange1d\", \"id\": \"0663b3e5-7953-465c-b6d2-df6ca31c6942\"}, {\"attributes\": {\"plot\": {\"subtype\": \"Figure\", \"type\": \"Plot\", \"id\": \"9c50741d-c9fe-4923-9dbc-2ff916d93b14\"}, \"ticker\": {\"type\": \"BasicTicker\", \"id\": \"b730f5a7-b929-4ca3-bb17-e84b38149c26\"}, \"dimension\": 1}, \"type\": \"Grid\", \"id\": \"183fb0ab-3841-4586-93a2-a4f4ac3eed15\"}, {\"attributes\": {\"plot\": {\"subtype\": \"Figure\", \"type\": \"Plot\", \"id\": \"d344d720-6fcd-4555-a9c9-2dfb14979ea9\"}, \"ticker\": {\"type\": \"BasicTicker\", \"id\": \"b4adcc9f-e844-4fb8-8a04-12213c3066cd\"}, \"dimension\": 1}, \"type\": \"Grid\", \"id\": \"31ec6682-23a2-4b37-83c5-65e0d875c7bc\"}, {\"attributes\": {\"callback\": null}, \"type\": \"DataRange1d\", \"id\": \"4e575005-3472-46a3-9b2e-5cf90518e2ad\"}, {\"attributes\": {\"line_color\": {\"value\": \"#1f77b4\"}, \"line_alpha\": {\"value\": 0.1}, \"fill_color\": {\"value\": \"#1f77b4\"}, \"line_width\": {\"value\": 2}, \"fill_alpha\": {\"value\": 0.1}, \"y\": {\"field\": \"y\"}, \"x\": {\"field\": \"x\"}, \"size\": {\"units\": \"screen\", \"value\": 10}}, \"type\": \"X\", \"id\": \"1b48d27f-1f9d-4b9c-82a6-d74a95b34664\"}, {\"attributes\": {\"line_color\": {\"value\": \"black\"}, \"line_alpha\": {\"value\": 1.0}, \"render_mode\": \"css\", \"bottom_units\": \"screen\", \"level\": \"overlay\", \"top_units\": \"screen\", \"fill_alpha\": {\"value\": 0.5}, \"plot\": null, \"left_units\": \"screen\", \"line_dash\": [4, 4], \"line_width\": {\"value\": 2}, \"right_units\": \"screen\", \"fill_color\": {\"value\": \"lightgrey\"}}, \"type\": \"BoxAnnotation\", \"id\": \"02a68ba4-a631-40f3-9c23-bfa9fa4262f4\"}]}, \"title\": \"Bokeh Application\"}};\n",
       "            var render_items = [{\"notebook_comms_target\": \"a346c558-c3ba-45df-9cc9-22adedd0bee8\", \"docid\": \"acdeca39-20a4-497a-97d8-2b32d1ac6302\", \"elementid\": \"ebe7dc39-f802-43ac-a8c3-3f59f2017ed9\", \"modelid\": \"d344d720-6fcd-4555-a9c9-2dfb14979ea9\"}];\n",
       "            \n",
       "            Bokeh.embed.embed_items(docs_json, render_items);\n",
       "        });\n",
       "      },\n",
       "      function(Bokeh) {\n",
       "      }\n",
       "    ];\n",
       "  \n",
       "    function run_inline_js() {\n",
       "      for (var i = 0; i < inline_js.length; i++) {\n",
       "        inline_js[i](window.Bokeh);\n",
       "      }\n",
       "    }\n",
       "  \n",
       "    if (window._bokeh_is_loading === 0) {\n",
       "      console.log(\"Bokeh: BokehJS loaded, going straight to plotting\");\n",
       "      run_inline_js();\n",
       "    } else {\n",
       "      load_libs(js_urls, function() {\n",
       "        console.log(\"Bokeh: BokehJS plotting callback run at\", now());\n",
       "        run_inline_js();\n",
       "      });\n",
       "    }\n",
       "  }(this));\n",
       "</script>"
      ]
     },
     "metadata": {},
     "output_type": "display_data"
    },
    {
     "data": {
      "text/plain": [
       "<bokeh.io._CommsHandle at 0x7f1d9eb9efd0>"
      ]
     },
     "execution_count": 6,
     "metadata": {},
     "output_type": "execute_result"
    }
   ],
   "source": [
    "from math import pi\n",
    "\n",
    "p = figure(plot_width=400, plot_height=400)\n",
    "p.x([1,2,3,4,5], [2,5,8,2,7], size=10, line_width=2)\n",
    "\n",
    "p.xaxis.major_label_orientation = pi/4\n",
    "p.yaxis.major_label_orientation = \"vertical\"\n",
    "\n",
    "show(p)"
   ]
  },
  {
   "cell_type": "markdown",
   "metadata": {},
   "source": [
    "The next example shows customizations on several of the different Axis properties at once:"
   ]
  },
  {
   "cell_type": "code",
   "execution_count": 7,
   "metadata": {
    "collapsed": false
   },
   "outputs": [
    {
     "data": {
      "text/html": [
       "\n",
       "\n",
       "    <div class=\"plotdiv\" id=\"a4ecd896-e1fc-4dc4-ae3c-1b1b55f20a94\"></div>\n",
       "<script type=\"text/javascript\">\n",
       "  \n",
       "  (function(global) {\n",
       "    function now() {\n",
       "      return new Date();\n",
       "    }\n",
       "  \n",
       "    if (typeof (window._bokeh_onload_callbacks) === \"undefined\") {\n",
       "      window._bokeh_onload_callbacks = [];\n",
       "    }\n",
       "  \n",
       "    function run_callbacks() {\n",
       "      window._bokeh_onload_callbacks.forEach(function(callback) { callback() });\n",
       "      delete window._bokeh_onload_callbacks\n",
       "      console.info(\"Bokeh: all callbacks have finished\");\n",
       "    }\n",
       "  \n",
       "    function load_libs(js_urls, callback) {\n",
       "      window._bokeh_onload_callbacks.push(callback);\n",
       "      if (window._bokeh_is_loading > 0) {\n",
       "        console.log(\"Bokeh: BokehJS is being loaded, scheduling callback at\", now());\n",
       "        return null;\n",
       "      }\n",
       "      if (js_urls == null || js_urls.length === 0) {\n",
       "        run_callbacks();\n",
       "        return null;\n",
       "      }\n",
       "      console.log(\"Bokeh: BokehJS not loaded, scheduling load and callback at\", now());\n",
       "      window._bokeh_is_loading = js_urls.length;\n",
       "      for (var i = 0; i < js_urls.length; i++) {\n",
       "        var url = js_urls[i];\n",
       "        var s = document.createElement('script');\n",
       "        s.src = url;\n",
       "        s.async = false;\n",
       "        s.onreadystatechange = s.onload = function() {\n",
       "          window._bokeh_is_loading--;\n",
       "          if (window._bokeh_is_loading === 0) {\n",
       "            console.log(\"Bokeh: all BokehJS libraries loaded\");\n",
       "            run_callbacks()\n",
       "          }\n",
       "        };\n",
       "        s.onerror = function() {\n",
       "          console.warn(\"failed to load library \" + url);\n",
       "        };\n",
       "        console.log(\"Bokeh: injecting script tag for BokehJS library: \", url);\n",
       "        document.getElementsByTagName(\"head\")[0].appendChild(s);\n",
       "      }\n",
       "    };var element = document.getElementById(\"a4ecd896-e1fc-4dc4-ae3c-1b1b55f20a94\");\n",
       "    if (element == null) {\n",
       "      console.log(\"Bokeh: ERROR: autoload.js configured with elementid 'a4ecd896-e1fc-4dc4-ae3c-1b1b55f20a94' but no matching script tag was found. \")\n",
       "      return false;\n",
       "    }var js_urls = [];\n",
       "  \n",
       "    var inline_js = [\n",
       "      function(Bokeh) {\n",
       "        Bokeh.$(function() {\n",
       "            var docs_json = {\"4031f832-0a6b-47bd-a25b-6a78d9a9d8f7\": {\"version\": \"0.11.0\", \"roots\": {\"root_ids\": [\"9c50741d-c9fe-4923-9dbc-2ff916d93b14\", \"d344d720-6fcd-4555-a9c9-2dfb14979ea9\", \"c8b285f0-0af9-4f66-86e0-e837b0a068e6\"], \"references\": [{\"attributes\": {\"plot\": {\"subtype\": \"Figure\", \"type\": \"Plot\", \"id\": \"c8b285f0-0af9-4f66-86e0-e837b0a068e6\"}, \"minor_tick_out\": 6, \"axis_line_color\": {\"value\": \"red\"}, \"minor_tick_in\": -3, \"axis_label\": \"Temp\", \"formatter\": {\"type\": \"BasicTickFormatter\", \"id\": \"007bff35-268b-46aa-ac58-85908b9b7a57\"}, \"ticker\": {\"type\": \"BasicTicker\", \"id\": \"d2c0684d-3271-497a-9fb7-2416a90a3985\"}, \"axis_line_width\": {\"value\": 3}}, \"type\": \"LinearAxis\", \"id\": \"e3dfeebc-eadb-46e9-b1f7-24cf8af38c2d\"}, {\"attributes\": {\"line_color\": {\"value\": \"#1f77b4\"}, \"line_width\": {\"value\": 2}, \"fill_color\": {\"value\": \"#1f77b4\"}, \"y\": {\"field\": \"y\"}, \"x\": {\"field\": \"x\"}, \"size\": {\"units\": \"screen\", \"value\": 10}}, \"type\": \"X\", \"id\": \"9c8d1824-c8a0-4bed-a783-f223fc7f18f1\"}, {\"attributes\": {\"callback\": null}, \"type\": \"DataRange1d\", \"id\": \"42f5d9e0-d0b3-4f1e-88c6-e50601175475\"}, {\"attributes\": {\"nonselection_glyph\": {\"type\": \"Circle\", \"id\": \"b985d2b4-7202-4984-bf72-f62ab566113e\"}, \"data_source\": {\"type\": \"ColumnDataSource\", \"id\": \"66ca0b41-2e62-4eeb-bd59-fa946e5c7efd\"}, \"selection_glyph\": null, \"hover_glyph\": null, \"glyph\": {\"type\": \"Circle\", \"id\": \"6bc69132-a4df-4eaa-b1af-ababfb85d929\"}}, \"type\": \"GlyphRenderer\", \"id\": \"90234217-5ff6-42c5-beee-8ce9bc2d9511\"}, {\"attributes\": {\"plot\": {\"subtype\": \"Figure\", \"type\": \"Plot\", \"id\": \"9c50741d-c9fe-4923-9dbc-2ff916d93b14\"}, \"formatter\": {\"type\": \"BasicTickFormatter\", \"id\": \"7a0a9b9c-6dbe-4b6b-9b61-a90f4a2c6a09\"}, \"ticker\": {\"type\": \"BasicTicker\", \"id\": \"b730f5a7-b929-4ca3-bb17-e84b38149c26\"}}, \"type\": \"LinearAxis\", \"id\": \"e56a23c6-2607-460d-9bd8-fcba80c55771\"}, {\"attributes\": {}, \"type\": \"ToolEvents\", \"id\": \"171f80dc-59e6-4e7e-8e7c-dc9659f0613e\"}, {\"attributes\": {\"x_range\": {\"type\": \"DataRange1d\", \"id\": \"86cf9d1a-d1d3-47a7-9dc7-e5bb293f3986\"}, \"y_range\": {\"type\": \"DataRange1d\", \"id\": \"85a992eb-408f-4f3a-b6cb-eba2216d138d\"}, \"renderers\": [{\"type\": \"LinearAxis\", \"id\": \"e3dfeebc-eadb-46e9-b1f7-24cf8af38c2d\"}, {\"type\": \"Grid\", \"id\": \"78aec0d1-6deb-410a-865d-93fb09bd1e1a\"}, {\"type\": \"LinearAxis\", \"id\": \"673e6435-73a7-40a0-a1a0-ee4aa6a1332f\"}, {\"type\": \"Grid\", \"id\": \"e35e51de-6070-4b52-8f84-6991d29c56c8\"}, {\"type\": \"BoxAnnotation\", \"id\": \"9bc9d770-4e0d-4ef0-9bbc-bb01186f378c\"}, {\"type\": \"GlyphRenderer\", \"id\": \"7c8c5e3f-613b-4b42-ac06-d44921b3a5a1\"}], \"plot_width\": 400, \"below\": [{\"type\": \"LinearAxis\", \"id\": \"e3dfeebc-eadb-46e9-b1f7-24cf8af38c2d\"}], \"tool_events\": {\"type\": \"ToolEvents\", \"id\": \"a111e421-8edc-40ce-8e78-b2e18900674d\"}, \"plot_height\": 400, \"tools\": [{\"type\": \"PanTool\", \"id\": \"9a28d93e-18f9-4658-b31e-d56ec627429e\"}, {\"type\": \"WheelZoomTool\", \"id\": \"dcad87cc-3f47-4b4d-af00-8df3cd686feb\"}, {\"type\": \"BoxZoomTool\", \"id\": \"bd8df307-b5a1-4e06-8226-2aa6715fe568\"}, {\"type\": \"PreviewSaveTool\", \"id\": \"9b9c3797-fc29-44f3-9324-64af8a930ac4\"}, {\"type\": \"ResizeTool\", \"id\": \"ec751161-1d1f-4621-997d-fe8a5e228427\"}, {\"type\": \"ResetTool\", \"id\": \"30f8296c-5423-4e3c-a0c7-edfb631dea25\"}, {\"type\": \"HelpTool\", \"id\": \"bf00296e-5e6e-4f53-8783-62149bc3166d\"}], \"left\": [{\"type\": \"LinearAxis\", \"id\": \"673e6435-73a7-40a0-a1a0-ee4aa6a1332f\"}]}, \"type\": \"Plot\", \"id\": \"c8b285f0-0af9-4f66-86e0-e837b0a068e6\", \"subtype\": \"Figure\"}, {\"attributes\": {\"line_color\": {\"value\": \"#1f77b4\"}, \"line_alpha\": {\"value\": 0.1}, \"fill_color\": {\"value\": \"#1f77b4\"}, \"line_width\": {\"value\": 2}, \"fill_alpha\": {\"value\": 0.1}, \"y\": {\"field\": \"y\"}, \"x\": {\"field\": \"x\"}, \"size\": {\"units\": \"screen\", \"value\": 10}}, \"type\": \"X\", \"id\": \"1b48d27f-1f9d-4b9c-82a6-d74a95b34664\"}, {\"attributes\": {\"nonselection_glyph\": {\"type\": \"Asterisk\", \"id\": \"a3853aa1-3a9e-4586-8551-46d847d2df58\"}, \"data_source\": {\"type\": \"ColumnDataSource\", \"id\": \"65e9b6d1-cd77-466d-b24e-d29b5df9f3d4\"}, \"selection_glyph\": null, \"hover_glyph\": null, \"glyph\": {\"type\": \"Asterisk\", \"id\": \"e92fe008-95f7-431e-b3b5-67b045e37cd5\"}}, \"type\": \"GlyphRenderer\", \"id\": \"7c8c5e3f-613b-4b42-ac06-d44921b3a5a1\"}, {\"attributes\": {\"callback\": null, \"column_names\": [\"y\", \"x\"], \"data\": {\"y\": [2, 5, 8, 2, 7], \"x\": [1, 2, 3, 4, 5]}}, \"type\": \"ColumnDataSource\", \"id\": \"08f34e73-1a4b-419a-a434-29a6bd8df4cb\"}, {\"attributes\": {\"plot\": {\"subtype\": \"Figure\", \"type\": \"Plot\", \"id\": \"9c50741d-c9fe-4923-9dbc-2ff916d93b14\"}}, \"type\": \"PreviewSaveTool\", \"id\": \"ae2faae9-3185-41cf-a665-e6e1a9cad120\"}, {\"attributes\": {\"line_color\": {\"value\": \"black\"}, \"line_alpha\": {\"value\": 1.0}, \"render_mode\": \"css\", \"bottom_units\": \"screen\", \"level\": \"overlay\", \"top_units\": \"screen\", \"fill_alpha\": {\"value\": 0.5}, \"plot\": null, \"left_units\": \"screen\", \"line_dash\": [4, 4], \"line_width\": {\"value\": 2}, \"right_units\": \"screen\", \"fill_color\": {\"value\": \"lightgrey\"}}, \"type\": \"BoxAnnotation\", \"id\": \"60531ff1-fdd5-4333-99e0-5647d909adb4\"}, {\"attributes\": {\"plot\": {\"subtype\": \"Figure\", \"type\": \"Plot\", \"id\": \"c8b285f0-0af9-4f66-86e0-e837b0a068e6\"}}, \"type\": \"PanTool\", \"id\": \"9a28d93e-18f9-4658-b31e-d56ec627429e\"}, {\"attributes\": {\"plot\": {\"subtype\": \"Figure\", \"type\": \"Plot\", \"id\": \"d344d720-6fcd-4555-a9c9-2dfb14979ea9\"}, \"ticker\": {\"type\": \"BasicTicker\", \"id\": \"726478cd-239d-4132-acbe-0641ff6a785b\"}}, \"type\": \"Grid\", \"id\": \"0ba7084b-6f4e-4f70-a601-9d50f1afa06f\"}, {\"attributes\": {\"plot\": {\"subtype\": \"Figure\", \"type\": \"Plot\", \"id\": \"c8b285f0-0af9-4f66-86e0-e837b0a068e6\"}}, \"type\": \"PreviewSaveTool\", \"id\": \"9b9c3797-fc29-44f3-9324-64af8a930ac4\"}, {\"attributes\": {\"callback\": null, \"column_names\": [\"y\", \"x\"], \"data\": {\"y\": [2, 5, 8, 2, 7], \"x\": [1, 2, 3, 4, 5]}}, \"type\": \"ColumnDataSource\", \"id\": \"66ca0b41-2e62-4eeb-bd59-fa946e5c7efd\"}, {\"attributes\": {\"plot\": {\"subtype\": \"Figure\", \"type\": \"Plot\", \"id\": \"d344d720-6fcd-4555-a9c9-2dfb14979ea9\"}}, \"type\": \"HelpTool\", \"id\": \"1f0edf1c-d9e3-4378-99a2-02fdae393041\"}, {\"attributes\": {\"plot\": {\"subtype\": \"Figure\", \"type\": \"Plot\", \"id\": \"c8b285f0-0af9-4f66-86e0-e837b0a068e6\"}, \"overlay\": {\"type\": \"BoxAnnotation\", \"id\": \"9bc9d770-4e0d-4ef0-9bbc-bb01186f378c\"}}, \"type\": \"BoxZoomTool\", \"id\": \"bd8df307-b5a1-4e06-8226-2aa6715fe568\"}, {\"attributes\": {\"plot\": {\"subtype\": \"Figure\", \"type\": \"Plot\", \"id\": \"d344d720-6fcd-4555-a9c9-2dfb14979ea9\"}}, \"type\": \"ResizeTool\", \"id\": \"e535159b-1e4e-49b6-8892-e351e8e4a07d\"}, {\"attributes\": {\"plot\": {\"subtype\": \"Figure\", \"type\": \"Plot\", \"id\": \"d344d720-6fcd-4555-a9c9-2dfb14979ea9\"}}, \"type\": \"PreviewSaveTool\", \"id\": \"c915bbf4-e38f-452c-8d58-c85037a0b75a\"}, {\"attributes\": {\"plot\": {\"subtype\": \"Figure\", \"type\": \"Plot\", \"id\": \"9c50741d-c9fe-4923-9dbc-2ff916d93b14\"}, \"formatter\": {\"type\": \"BasicTickFormatter\", \"id\": \"f08cad09-a12c-4972-bd1b-2cd1df6208d6\"}, \"ticker\": {\"type\": \"BasicTicker\", \"id\": \"dbb452ce-7c9a-49ea-ac56-75fb443a0f94\"}}, \"type\": \"LinearAxis\", \"id\": \"acc2ed99-6ff3-4eb0-aae9-fe9db448fbd3\"}, {\"attributes\": {\"plot\": {\"subtype\": \"Figure\", \"type\": \"Plot\", \"id\": \"9c50741d-c9fe-4923-9dbc-2ff916d93b14\"}}, \"type\": \"ResizeTool\", \"id\": \"82821871-7f2d-4e4e-81f0-73fc2d8dd05c\"}, {\"attributes\": {\"plot\": {\"subtype\": \"Figure\", \"type\": \"Plot\", \"id\": \"d344d720-6fcd-4555-a9c9-2dfb14979ea9\"}, \"overlay\": {\"type\": \"BoxAnnotation\", \"id\": \"60531ff1-fdd5-4333-99e0-5647d909adb4\"}}, \"type\": \"BoxZoomTool\", \"id\": \"df3cfcc5-4ca8-48e4-83f9-fddcec269dc0\"}, {\"attributes\": {\"plot\": {\"subtype\": \"Figure\", \"type\": \"Plot\", \"id\": \"d344d720-6fcd-4555-a9c9-2dfb14979ea9\"}}, \"type\": \"WheelZoomTool\", \"id\": \"47c2e5f5-38d8-4bee-b564-e8c3977b7a27\"}, {\"attributes\": {}, \"type\": \"BasicTicker\", \"id\": \"b4adcc9f-e844-4fb8-8a04-12213c3066cd\"}, {\"attributes\": {\"plot\": {\"subtype\": \"Figure\", \"type\": \"Plot\", \"id\": \"9c50741d-c9fe-4923-9dbc-2ff916d93b14\"}, \"ticker\": {\"type\": \"BasicTicker\", \"id\": \"dbb452ce-7c9a-49ea-ac56-75fb443a0f94\"}}, \"type\": \"Grid\", \"id\": \"6ef6bf91-a531-49ed-aa9c-b5583b18ee8d\"}, {\"attributes\": {\"callback\": null, \"column_names\": [\"y\", \"x\"], \"data\": {\"y\": [2, 5, 8, 2, 7], \"x\": [1, 2, 3, 4, 5]}}, \"type\": \"ColumnDataSource\", \"id\": \"65e9b6d1-cd77-466d-b24e-d29b5df9f3d4\"}, {\"attributes\": {\"line_color\": {\"value\": \"#1f77b4\"}, \"line_alpha\": {\"value\": 0.1}, \"fill_color\": {\"value\": \"#1f77b4\"}, \"fill_alpha\": {\"value\": 0.1}, \"y\": {\"field\": \"y\"}, \"x\": {\"field\": \"x\"}, \"size\": {\"units\": \"screen\", \"value\": 12}}, \"type\": \"Asterisk\", \"id\": \"a3853aa1-3a9e-4586-8551-46d847d2df58\"}, {\"attributes\": {\"plot\": {\"subtype\": \"Figure\", \"type\": \"Plot\", \"id\": \"c8b285f0-0af9-4f66-86e0-e837b0a068e6\"}, \"ticker\": {\"type\": \"BasicTicker\", \"id\": \"ada32b76-7034-4b90-aba8-bd72963a0162\"}, \"dimension\": 1}, \"type\": \"Grid\", \"id\": \"e35e51de-6070-4b52-8f84-6991d29c56c8\"}, {\"attributes\": {\"plot\": {\"subtype\": \"Figure\", \"type\": \"Plot\", \"id\": \"9c50741d-c9fe-4923-9dbc-2ff916d93b14\"}}, \"type\": \"PanTool\", \"id\": \"a35a1d48-ae29-47f2-93a9-7acf26870aa4\"}, {\"attributes\": {\"major_label_orientation\": \"vertical\", \"plot\": {\"subtype\": \"Figure\", \"type\": \"Plot\", \"id\": \"d344d720-6fcd-4555-a9c9-2dfb14979ea9\"}, \"formatter\": {\"type\": \"BasicTickFormatter\", \"id\": \"218503e5-88e1-4947-8496-856efb79b478\"}, \"ticker\": {\"type\": \"BasicTicker\", \"id\": \"b4adcc9f-e844-4fb8-8a04-12213c3066cd\"}}, \"type\": \"LinearAxis\", \"id\": \"e2ed4965-d67f-47ee-994a-84a9538dc03c\"}, {\"attributes\": {\"line_color\": {\"value\": \"#1f77b4\"}, \"line_alpha\": {\"value\": 0.1}, \"fill_color\": {\"value\": \"#1f77b4\"}, \"fill_alpha\": {\"value\": 0.1}, \"y\": {\"field\": \"y\"}, \"x\": {\"field\": \"x\"}, \"size\": {\"units\": \"screen\", \"value\": 10}}, \"type\": \"Circle\", \"id\": \"b985d2b4-7202-4984-bf72-f62ab566113e\"}, {\"attributes\": {\"plot\": {\"subtype\": \"Figure\", \"type\": \"Plot\", \"id\": \"d344d720-6fcd-4555-a9c9-2dfb14979ea9\"}}, \"type\": \"ResetTool\", \"id\": \"da9a487f-1f0f-47cd-a3fe-1f5ba4298240\"}, {\"attributes\": {}, \"type\": \"BasicTickFormatter\", \"id\": \"7a0a9b9c-6dbe-4b6b-9b61-a90f4a2c6a09\"}, {\"attributes\": {\"plot\": {\"subtype\": \"Figure\", \"type\": \"Plot\", \"id\": \"c8b285f0-0af9-4f66-86e0-e837b0a068e6\"}}, \"type\": \"ResizeTool\", \"id\": \"ec751161-1d1f-4621-997d-fe8a5e228427\"}, {\"attributes\": {\"plot\": {\"subtype\": \"Figure\", \"type\": \"Plot\", \"id\": \"c8b285f0-0af9-4f66-86e0-e837b0a068e6\"}}, \"type\": \"WheelZoomTool\", \"id\": \"dcad87cc-3f47-4b4d-af00-8df3cd686feb\"}, {\"attributes\": {\"plot\": {\"subtype\": \"Figure\", \"type\": \"Plot\", \"id\": \"c8b285f0-0af9-4f66-86e0-e837b0a068e6\"}, \"ticker\": {\"type\": \"BasicTicker\", \"id\": \"d2c0684d-3271-497a-9fb7-2416a90a3985\"}}, \"type\": \"Grid\", \"id\": \"78aec0d1-6deb-410a-865d-93fb09bd1e1a\"}, {\"attributes\": {}, \"type\": \"BasicTicker\", \"id\": \"ada32b76-7034-4b90-aba8-bd72963a0162\"}, {\"attributes\": {\"callback\": null}, \"type\": \"DataRange1d\", \"id\": \"85a992eb-408f-4f3a-b6cb-eba2216d138d\"}, {\"attributes\": {\"plot\": {\"subtype\": \"Figure\", \"type\": \"Plot\", \"id\": \"c8b285f0-0af9-4f66-86e0-e837b0a068e6\"}}, \"type\": \"ResetTool\", \"id\": \"30f8296c-5423-4e3c-a0c7-edfb631dea25\"}, {\"attributes\": {\"nonselection_glyph\": {\"type\": \"X\", \"id\": \"1b48d27f-1f9d-4b9c-82a6-d74a95b34664\"}, \"data_source\": {\"type\": \"ColumnDataSource\", \"id\": \"08f34e73-1a4b-419a-a434-29a6bd8df4cb\"}, \"selection_glyph\": null, \"hover_glyph\": null, \"glyph\": {\"type\": \"X\", \"id\": \"9c8d1824-c8a0-4bed-a783-f223fc7f18f1\"}}, \"type\": \"GlyphRenderer\", \"id\": \"264dbbb5-4618-44ab-8df6-dc1002586a6a\"}, {\"attributes\": {\"x_range\": {\"type\": \"DataRange1d\", \"id\": \"4c262ec1-0662-41a6-b063-4152aa9367b6\"}, \"y_range\": {\"type\": \"DataRange1d\", \"id\": \"42f5d9e0-d0b3-4f1e-88c6-e50601175475\"}, \"renderers\": [{\"type\": \"LinearAxis\", \"id\": \"09930e51-7238-4f7e-a56c-6218eba408de\"}, {\"type\": \"Grid\", \"id\": \"0ba7084b-6f4e-4f70-a601-9d50f1afa06f\"}, {\"type\": \"LinearAxis\", \"id\": \"e2ed4965-d67f-47ee-994a-84a9538dc03c\"}, {\"type\": \"Grid\", \"id\": \"31ec6682-23a2-4b37-83c5-65e0d875c7bc\"}, {\"type\": \"BoxAnnotation\", \"id\": \"60531ff1-fdd5-4333-99e0-5647d909adb4\"}, {\"type\": \"GlyphRenderer\", \"id\": \"264dbbb5-4618-44ab-8df6-dc1002586a6a\"}], \"plot_width\": 400, \"below\": [{\"type\": \"LinearAxis\", \"id\": \"09930e51-7238-4f7e-a56c-6218eba408de\"}], \"tool_events\": {\"type\": \"ToolEvents\", \"id\": \"171f80dc-59e6-4e7e-8e7c-dc9659f0613e\"}, \"plot_height\": 400, \"tools\": [{\"type\": \"PanTool\", \"id\": \"4ed5101d-70ed-4e0c-a77d-9f3ed1fd3b48\"}, {\"type\": \"WheelZoomTool\", \"id\": \"47c2e5f5-38d8-4bee-b564-e8c3977b7a27\"}, {\"type\": \"BoxZoomTool\", \"id\": \"df3cfcc5-4ca8-48e4-83f9-fddcec269dc0\"}, {\"type\": \"PreviewSaveTool\", \"id\": \"c915bbf4-e38f-452c-8d58-c85037a0b75a\"}, {\"type\": \"ResizeTool\", \"id\": \"e535159b-1e4e-49b6-8892-e351e8e4a07d\"}, {\"type\": \"ResetTool\", \"id\": \"da9a487f-1f0f-47cd-a3fe-1f5ba4298240\"}, {\"type\": \"HelpTool\", \"id\": \"1f0edf1c-d9e3-4378-99a2-02fdae393041\"}], \"left\": [{\"type\": \"LinearAxis\", \"id\": \"e2ed4965-d67f-47ee-994a-84a9538dc03c\"}]}, \"type\": \"Plot\", \"id\": \"d344d720-6fcd-4555-a9c9-2dfb14979ea9\", \"subtype\": \"Figure\"}, {\"attributes\": {\"plot\": {\"subtype\": \"Figure\", \"type\": \"Plot\", \"id\": \"d344d720-6fcd-4555-a9c9-2dfb14979ea9\"}}, \"type\": \"PanTool\", \"id\": \"4ed5101d-70ed-4e0c-a77d-9f3ed1fd3b48\"}, {\"attributes\": {\"plot\": {\"subtype\": \"Figure\", \"type\": \"Plot\", \"id\": \"c8b285f0-0af9-4f66-86e0-e837b0a068e6\"}, \"minor_tick_out\": 6, \"minor_tick_in\": -3, \"major_label_text_color\": {\"value\": \"orange\"}, \"major_label_orientation\": \"vertical\", \"axis_label\": \"Pressure\", \"formatter\": {\"type\": \"BasicTickFormatter\", \"id\": \"f7071039-8368-43a7-aade-5eb37dc114c3\"}, \"ticker\": {\"type\": \"BasicTicker\", \"id\": \"ada32b76-7034-4b90-aba8-bd72963a0162\"}}, \"type\": \"LinearAxis\", \"id\": \"673e6435-73a7-40a0-a1a0-ee4aa6a1332f\"}, {\"attributes\": {}, \"type\": \"ToolEvents\", \"id\": \"a111e421-8edc-40ce-8e78-b2e18900674d\"}, {\"attributes\": {}, \"type\": \"BasicTickFormatter\", \"id\": \"f08cad09-a12c-4972-bd1b-2cd1df6208d6\"}, {\"attributes\": {\"major_label_orientation\": 0.7853981633974483, \"plot\": {\"subtype\": \"Figure\", \"type\": \"Plot\", \"id\": \"d344d720-6fcd-4555-a9c9-2dfb14979ea9\"}, \"formatter\": {\"type\": \"BasicTickFormatter\", \"id\": \"2f204493-0281-43f7-a699-0daf17c7aa6b\"}, \"ticker\": {\"type\": \"BasicTicker\", \"id\": \"726478cd-239d-4132-acbe-0641ff6a785b\"}}, \"type\": \"LinearAxis\", \"id\": \"09930e51-7238-4f7e-a56c-6218eba408de\"}, {\"attributes\": {\"outline_line_width\": {\"value\": 7}, \"x_range\": {\"type\": \"DataRange1d\", \"id\": \"0663b3e5-7953-465c-b6d2-df6ca31c6942\"}, \"outline_line_alpha\": {\"value\": 0.3}, \"y_range\": {\"type\": \"DataRange1d\", \"id\": \"4e575005-3472-46a3-9b2e-5cf90518e2ad\"}, \"outline_line_color\": {\"value\": \"navy\"}, \"plot_width\": 400, \"renderers\": [{\"type\": \"LinearAxis\", \"id\": \"acc2ed99-6ff3-4eb0-aae9-fe9db448fbd3\"}, {\"type\": \"Grid\", \"id\": \"6ef6bf91-a531-49ed-aa9c-b5583b18ee8d\"}, {\"type\": \"LinearAxis\", \"id\": \"e56a23c6-2607-460d-9bd8-fcba80c55771\"}, {\"type\": \"Grid\", \"id\": \"183fb0ab-3841-4586-93a2-a4f4ac3eed15\"}, {\"type\": \"BoxAnnotation\", \"id\": \"02a68ba4-a631-40f3-9c23-bfa9fa4262f4\"}, {\"type\": \"GlyphRenderer\", \"id\": \"90234217-5ff6-42c5-beee-8ce9bc2d9511\"}], \"below\": [{\"type\": \"LinearAxis\", \"id\": \"acc2ed99-6ff3-4eb0-aae9-fe9db448fbd3\"}], \"tool_events\": {\"type\": \"ToolEvents\", \"id\": \"fa20bd23-2ad9-455a-bde0-e8cae59d43be\"}, \"plot_height\": 400, \"tools\": [{\"type\": \"PanTool\", \"id\": \"a35a1d48-ae29-47f2-93a9-7acf26870aa4\"}, {\"type\": \"WheelZoomTool\", \"id\": \"a84b4d27-7dd7-4404-86f7-477b8fca7618\"}, {\"type\": \"BoxZoomTool\", \"id\": \"81c11b71-d558-4831-89f0-a30af7d669e1\"}, {\"type\": \"PreviewSaveTool\", \"id\": \"ae2faae9-3185-41cf-a665-e6e1a9cad120\"}, {\"type\": \"ResizeTool\", \"id\": \"82821871-7f2d-4e4e-81f0-73fc2d8dd05c\"}, {\"type\": \"ResetTool\", \"id\": \"1562277d-7974-4baa-994e-2160431705ea\"}, {\"type\": \"HelpTool\", \"id\": \"4f02d712-b510-49f7-b27c-953ed6362726\"}], \"left\": [{\"type\": \"LinearAxis\", \"id\": \"e56a23c6-2607-460d-9bd8-fcba80c55771\"}]}, \"type\": \"Plot\", \"id\": \"9c50741d-c9fe-4923-9dbc-2ff916d93b14\", \"subtype\": \"Figure\"}, {\"attributes\": {}, \"type\": \"ToolEvents\", \"id\": \"fa20bd23-2ad9-455a-bde0-e8cae59d43be\"}, {\"attributes\": {\"plot\": {\"subtype\": \"Figure\", \"type\": \"Plot\", \"id\": \"9c50741d-c9fe-4923-9dbc-2ff916d93b14\"}}, \"type\": \"HelpTool\", \"id\": \"4f02d712-b510-49f7-b27c-953ed6362726\"}, {\"attributes\": {}, \"type\": \"BasicTicker\", \"id\": \"b730f5a7-b929-4ca3-bb17-e84b38149c26\"}, {\"attributes\": {}, \"type\": \"BasicTicker\", \"id\": \"dbb452ce-7c9a-49ea-ac56-75fb443a0f94\"}, {\"attributes\": {\"plot\": {\"subtype\": \"Figure\", \"type\": \"Plot\", \"id\": \"c8b285f0-0af9-4f66-86e0-e837b0a068e6\"}}, \"type\": \"HelpTool\", \"id\": \"bf00296e-5e6e-4f53-8783-62149bc3166d\"}, {\"attributes\": {}, \"type\": \"BasicTicker\", \"id\": \"d2c0684d-3271-497a-9fb7-2416a90a3985\"}, {\"attributes\": {}, \"type\": \"BasicTickFormatter\", \"id\": \"218503e5-88e1-4947-8496-856efb79b478\"}, {\"attributes\": {\"line_color\": {\"value\": \"black\"}, \"line_alpha\": {\"value\": 1.0}, \"render_mode\": \"css\", \"bottom_units\": \"screen\", \"level\": \"overlay\", \"top_units\": \"screen\", \"fill_alpha\": {\"value\": 0.5}, \"plot\": null, \"left_units\": \"screen\", \"line_dash\": [4, 4], \"line_width\": {\"value\": 2}, \"right_units\": \"screen\", \"fill_color\": {\"value\": \"lightgrey\"}}, \"type\": \"BoxAnnotation\", \"id\": \"9bc9d770-4e0d-4ef0-9bbc-bb01186f378c\"}, {\"attributes\": {\"line_color\": {\"value\": \"#1f77b4\"}, \"x\": {\"field\": \"x\"}, \"y\": {\"field\": \"y\"}, \"fill_color\": {\"value\": \"#1f77b4\"}, \"size\": {\"units\": \"screen\", \"value\": 10}}, \"type\": \"Circle\", \"id\": \"6bc69132-a4df-4eaa-b1af-ababfb85d929\"}, {\"attributes\": {\"plot\": {\"subtype\": \"Figure\", \"type\": \"Plot\", \"id\": \"9c50741d-c9fe-4923-9dbc-2ff916d93b14\"}}, \"type\": \"ResetTool\", \"id\": \"1562277d-7974-4baa-994e-2160431705ea\"}, {\"attributes\": {\"plot\": {\"subtype\": \"Figure\", \"type\": \"Plot\", \"id\": \"9c50741d-c9fe-4923-9dbc-2ff916d93b14\"}}, \"type\": \"WheelZoomTool\", \"id\": \"a84b4d27-7dd7-4404-86f7-477b8fca7618\"}, {\"attributes\": {\"plot\": {\"subtype\": \"Figure\", \"type\": \"Plot\", \"id\": \"9c50741d-c9fe-4923-9dbc-2ff916d93b14\"}, \"overlay\": {\"type\": \"BoxAnnotation\", \"id\": \"02a68ba4-a631-40f3-9c23-bfa9fa4262f4\"}}, \"type\": \"BoxZoomTool\", \"id\": \"81c11b71-d558-4831-89f0-a30af7d669e1\"}, {\"attributes\": {}, \"type\": \"BasicTickFormatter\", \"id\": \"2f204493-0281-43f7-a699-0daf17c7aa6b\"}, {\"attributes\": {\"callback\": null}, \"type\": \"DataRange1d\", \"id\": \"4c262ec1-0662-41a6-b063-4152aa9367b6\"}, {\"attributes\": {\"line_color\": {\"value\": \"black\"}, \"line_alpha\": {\"value\": 1.0}, \"render_mode\": \"css\", \"bottom_units\": \"screen\", \"level\": \"overlay\", \"top_units\": \"screen\", \"fill_alpha\": {\"value\": 0.5}, \"plot\": null, \"left_units\": \"screen\", \"line_dash\": [4, 4], \"line_width\": {\"value\": 2}, \"right_units\": \"screen\", \"fill_color\": {\"value\": \"lightgrey\"}}, \"type\": \"BoxAnnotation\", \"id\": \"02a68ba4-a631-40f3-9c23-bfa9fa4262f4\"}, {\"attributes\": {\"callback\": null}, \"type\": \"DataRange1d\", \"id\": \"0663b3e5-7953-465c-b6d2-df6ca31c6942\"}, {\"attributes\": {\"plot\": {\"subtype\": \"Figure\", \"type\": \"Plot\", \"id\": \"9c50741d-c9fe-4923-9dbc-2ff916d93b14\"}, \"ticker\": {\"type\": \"BasicTicker\", \"id\": \"b730f5a7-b929-4ca3-bb17-e84b38149c26\"}, \"dimension\": 1}, \"type\": \"Grid\", \"id\": \"183fb0ab-3841-4586-93a2-a4f4ac3eed15\"}, {\"attributes\": {\"plot\": {\"subtype\": \"Figure\", \"type\": \"Plot\", \"id\": \"d344d720-6fcd-4555-a9c9-2dfb14979ea9\"}, \"ticker\": {\"type\": \"BasicTicker\", \"id\": \"b4adcc9f-e844-4fb8-8a04-12213c3066cd\"}, \"dimension\": 1}, \"type\": \"Grid\", \"id\": \"31ec6682-23a2-4b37-83c5-65e0d875c7bc\"}, {\"attributes\": {}, \"type\": \"BasicTicker\", \"id\": \"726478cd-239d-4132-acbe-0641ff6a785b\"}, {\"attributes\": {\"callback\": null}, \"type\": \"DataRange1d\", \"id\": \"4e575005-3472-46a3-9b2e-5cf90518e2ad\"}, {\"attributes\": {}, \"type\": \"BasicTickFormatter\", \"id\": \"f7071039-8368-43a7-aade-5eb37dc114c3\"}, {\"attributes\": {\"line_color\": {\"value\": \"olive\"}, \"x\": {\"field\": \"x\"}, \"y\": {\"field\": \"y\"}, \"fill_color\": {\"value\": \"olive\"}, \"size\": {\"units\": \"screen\", \"value\": 12}}, \"type\": \"Asterisk\", \"id\": \"e92fe008-95f7-431e-b3b5-67b045e37cd5\"}, {\"attributes\": {}, \"type\": \"BasicTickFormatter\", \"id\": \"007bff35-268b-46aa-ac58-85908b9b7a57\"}, {\"attributes\": {\"callback\": null}, \"type\": \"DataRange1d\", \"id\": \"86cf9d1a-d1d3-47a7-9dc7-e5bb293f3986\"}]}, \"title\": \"Bokeh Application\"}};\n",
       "            var render_items = [{\"notebook_comms_target\": \"47e5848f-f9db-4672-9bfc-2c1711a49765\", \"docid\": \"4031f832-0a6b-47bd-a25b-6a78d9a9d8f7\", \"elementid\": \"a4ecd896-e1fc-4dc4-ae3c-1b1b55f20a94\", \"modelid\": \"c8b285f0-0af9-4f66-86e0-e837b0a068e6\"}];\n",
       "            \n",
       "            Bokeh.embed.embed_items(docs_json, render_items);\n",
       "        });\n",
       "      },\n",
       "      function(Bokeh) {\n",
       "      }\n",
       "    ];\n",
       "  \n",
       "    function run_inline_js() {\n",
       "      for (var i = 0; i < inline_js.length; i++) {\n",
       "        inline_js[i](window.Bokeh);\n",
       "      }\n",
       "    }\n",
       "  \n",
       "    if (window._bokeh_is_loading === 0) {\n",
       "      console.log(\"Bokeh: BokehJS loaded, going straight to plotting\");\n",
       "      run_inline_js();\n",
       "    } else {\n",
       "      load_libs(js_urls, function() {\n",
       "        console.log(\"Bokeh: BokehJS plotting callback run at\", now());\n",
       "        run_inline_js();\n",
       "      });\n",
       "    }\n",
       "  }(this));\n",
       "</script>"
      ]
     },
     "metadata": {},
     "output_type": "display_data"
    },
    {
     "data": {
      "text/plain": [
       "<bokeh.io._CommsHandle at 0x7f1d9eace090>"
      ]
     },
     "execution_count": 7,
     "metadata": {},
     "output_type": "execute_result"
    }
   ],
   "source": [
    "p = figure(plot_width=400, plot_height=400)\n",
    "p.asterisk([1,2,3,4,5], [2,5,8,2,7], size=12, color=\"olive\")\n",
    "\n",
    "# change just some things about the x-axes\n",
    "p.xaxis.axis_label = \"Temp\"\n",
    "p.xaxis.axis_line_width = 3\n",
    "p.xaxis.axis_line_color = \"red\"\n",
    "\n",
    "# change just some things about the y-axes\n",
    "p.yaxis.axis_label = \"Pressure\"\n",
    "p.yaxis.major_label_text_color = \"orange\"\n",
    "p.yaxis.major_label_orientation = \"vertical\"\n",
    "\n",
    "# change things on all axes\n",
    "p.axis.minor_tick_in = -3\n",
    "p.axis.minor_tick_out = 6\n",
    "\n",
    "show(p)"
   ]
  },
  {
   "cell_type": "code",
   "execution_count": 8,
   "metadata": {
    "collapsed": true
   },
   "outputs": [],
   "source": [
    "# EXERCISE Create a plot of your own and customize several axis properties\n",
    "\n"
   ]
  },
  {
   "cell_type": "markdown",
   "metadata": {},
   "source": [
    "There are further customizations possible. See the [User Guide](http://bokeh.pydata.org/en/latest/docs/user_guide.html) for more information on topics such as [tick label formatting](http://bokeh.pydata.org/en/latest/docs/user_guide/styling.html#tick-label-formats) or [limiting axis bounds](http://bokeh.pydata.org/en/latest/docs/user_guide/styling.html#bounds)."
   ]
  },
  {
   "cell_type": "markdown",
   "metadata": {},
   "source": [
    "# Grids\n",
    "\n",
    "[Grids](http://bokeh.pydata.org/en/latest/docs/user_guide/styling.html#grids)\n",
    "\n",
    "* **grid** [line properties](http://bokeh.pydata.org/en/latest/docs/user_guide/styling.html#line-properties)\n",
    "* **band** [fill properties]()"
   ]
  },
  {
   "cell_type": "code",
   "execution_count": 9,
   "metadata": {
    "collapsed": false
   },
   "outputs": [
    {
     "data": {
      "text/html": [
       "\n",
       "\n",
       "    <div class=\"plotdiv\" id=\"32d8b26e-affc-4b9c-8359-2f48d23b374b\"></div>\n",
       "<script type=\"text/javascript\">\n",
       "  \n",
       "  (function(global) {\n",
       "    function now() {\n",
       "      return new Date();\n",
       "    }\n",
       "  \n",
       "    if (typeof (window._bokeh_onload_callbacks) === \"undefined\") {\n",
       "      window._bokeh_onload_callbacks = [];\n",
       "    }\n",
       "  \n",
       "    function run_callbacks() {\n",
       "      window._bokeh_onload_callbacks.forEach(function(callback) { callback() });\n",
       "      delete window._bokeh_onload_callbacks\n",
       "      console.info(\"Bokeh: all callbacks have finished\");\n",
       "    }\n",
       "  \n",
       "    function load_libs(js_urls, callback) {\n",
       "      window._bokeh_onload_callbacks.push(callback);\n",
       "      if (window._bokeh_is_loading > 0) {\n",
       "        console.log(\"Bokeh: BokehJS is being loaded, scheduling callback at\", now());\n",
       "        return null;\n",
       "      }\n",
       "      if (js_urls == null || js_urls.length === 0) {\n",
       "        run_callbacks();\n",
       "        return null;\n",
       "      }\n",
       "      console.log(\"Bokeh: BokehJS not loaded, scheduling load and callback at\", now());\n",
       "      window._bokeh_is_loading = js_urls.length;\n",
       "      for (var i = 0; i < js_urls.length; i++) {\n",
       "        var url = js_urls[i];\n",
       "        var s = document.createElement('script');\n",
       "        s.src = url;\n",
       "        s.async = false;\n",
       "        s.onreadystatechange = s.onload = function() {\n",
       "          window._bokeh_is_loading--;\n",
       "          if (window._bokeh_is_loading === 0) {\n",
       "            console.log(\"Bokeh: all BokehJS libraries loaded\");\n",
       "            run_callbacks()\n",
       "          }\n",
       "        };\n",
       "        s.onerror = function() {\n",
       "          console.warn(\"failed to load library \" + url);\n",
       "        };\n",
       "        console.log(\"Bokeh: injecting script tag for BokehJS library: \", url);\n",
       "        document.getElementsByTagName(\"head\")[0].appendChild(s);\n",
       "      }\n",
       "    };var element = document.getElementById(\"32d8b26e-affc-4b9c-8359-2f48d23b374b\");\n",
       "    if (element == null) {\n",
       "      console.log(\"Bokeh: ERROR: autoload.js configured with elementid '32d8b26e-affc-4b9c-8359-2f48d23b374b' but no matching script tag was found. \")\n",
       "      return false;\n",
       "    }var js_urls = [];\n",
       "  \n",
       "    var inline_js = [\n",
       "      function(Bokeh) {\n",
       "        Bokeh.$(function() {\n",
       "            var docs_json = {\"c6b7ae8d-f42f-4f3c-b5bd-1c29396aeb90\": {\"version\": \"0.11.0\", \"roots\": {\"root_ids\": [\"9c50741d-c9fe-4923-9dbc-2ff916d93b14\", \"d344d720-6fcd-4555-a9c9-2dfb14979ea9\", \"c8b285f0-0af9-4f66-86e0-e837b0a068e6\", \"3c001830-f37b-4128-b170-dc8dd8865449\"], \"references\": [{\"attributes\": {\"plot\": {\"subtype\": \"Figure\", \"type\": \"Plot\", \"id\": \"c8b285f0-0af9-4f66-86e0-e837b0a068e6\"}}, \"type\": \"PreviewSaveTool\", \"id\": \"9b9c3797-fc29-44f3-9324-64af8a930ac4\"}, {\"attributes\": {}, \"type\": \"BasicTicker\", \"id\": \"3b6e5359-a27e-492b-9a28-d2f5e33982e9\"}, {\"attributes\": {\"x_range\": {\"type\": \"DataRange1d\", \"id\": \"1736141d-9a49-45e1-914f-b5c7e8cfae38\"}, \"y_range\": {\"type\": \"DataRange1d\", \"id\": \"ae399fd8-38d9-409f-a4c5-9135d1fdff4c\"}, \"renderers\": [{\"type\": \"LinearAxis\", \"id\": \"ef3f6c8b-8b41-4f92-9d8b-31b96488caaf\"}, {\"type\": \"Grid\", \"id\": \"0cefef30-1c2b-4376-a805-b396748feeab\"}, {\"type\": \"LinearAxis\", \"id\": \"c87a6a16-4b34-403f-b5ce-2405b94473c6\"}, {\"type\": \"Grid\", \"id\": \"0821d2bc-2b78-43af-a4fe-002e9d480da3\"}, {\"type\": \"BoxAnnotation\", \"id\": \"08180a5c-acae-4aa9-85d9-85b90932eeac\"}, {\"type\": \"GlyphRenderer\", \"id\": \"784236a4-e7ca-4e39-86ff-6d62bcad7409\"}], \"plot_width\": 400, \"below\": [{\"type\": \"LinearAxis\", \"id\": \"ef3f6c8b-8b41-4f92-9d8b-31b96488caaf\"}], \"tool_events\": {\"type\": \"ToolEvents\", \"id\": \"477de8d8-ff41-4673-b817-7127f781e235\"}, \"plot_height\": 400, \"tools\": [{\"type\": \"PanTool\", \"id\": \"3b04ead2-66d7-4224-a3f2-3140af8f313b\"}, {\"type\": \"WheelZoomTool\", \"id\": \"212d1ed9-5dce-4cdb-9e54-4c461d7bb785\"}, {\"type\": \"BoxZoomTool\", \"id\": \"10526abd-96de-464a-833b-75dcba252215\"}, {\"type\": \"PreviewSaveTool\", \"id\": \"a17e931e-a794-4bb9-a29c-bc86d44804aa\"}, {\"type\": \"ResizeTool\", \"id\": \"1c91eaca-14c4-4a45-8095-842961afaa60\"}, {\"type\": \"ResetTool\", \"id\": \"979290e7-58fb-4cc3-a394-adc6645fad7b\"}, {\"type\": \"HelpTool\", \"id\": \"e06c01a0-b417-4160-9218-e3e4db02e98c\"}], \"left\": [{\"type\": \"LinearAxis\", \"id\": \"c87a6a16-4b34-403f-b5ce-2405b94473c6\"}]}, \"type\": \"Plot\", \"id\": \"3c001830-f37b-4128-b170-dc8dd8865449\", \"subtype\": \"Figure\"}, {\"attributes\": {\"plot\": {\"subtype\": \"Figure\", \"type\": \"Plot\", \"id\": \"d344d720-6fcd-4555-a9c9-2dfb14979ea9\"}, \"ticker\": {\"type\": \"BasicTicker\", \"id\": \"726478cd-239d-4132-acbe-0641ff6a785b\"}}, \"type\": \"Grid\", \"id\": \"0ba7084b-6f4e-4f70-a601-9d50f1afa06f\"}, {\"attributes\": {\"callback\": null, \"column_names\": [\"y\", \"x\"], \"data\": {\"y\": [2, 5, 8, 2, 7], \"x\": [1, 2, 3, 4, 5]}}, \"type\": \"ColumnDataSource\", \"id\": \"66ca0b41-2e62-4eeb-bd59-fa946e5c7efd\"}, {\"attributes\": {\"plot\": {\"subtype\": \"Figure\", \"type\": \"Plot\", \"id\": \"3c001830-f37b-4128-b170-dc8dd8865449\"}, \"formatter\": {\"type\": \"BasicTickFormatter\", \"id\": \"2fec70c5-a0cb-43de-b95e-33c9596f25c8\"}, \"ticker\": {\"type\": \"BasicTicker\", \"id\": \"7fc8d209-f8ee-42f4-a16d-8a073e41e9fc\"}}, \"type\": \"LinearAxis\", \"id\": \"ef3f6c8b-8b41-4f92-9d8b-31b96488caaf\"}, {\"attributes\": {\"plot\": {\"subtype\": \"Figure\", \"type\": \"Plot\", \"id\": \"9c50741d-c9fe-4923-9dbc-2ff916d93b14\"}, \"formatter\": {\"type\": \"BasicTickFormatter\", \"id\": \"7a0a9b9c-6dbe-4b6b-9b61-a90f4a2c6a09\"}, \"ticker\": {\"type\": \"BasicTicker\", \"id\": \"b730f5a7-b929-4ca3-bb17-e84b38149c26\"}}, \"type\": \"LinearAxis\", \"id\": \"e56a23c6-2607-460d-9bd8-fcba80c55771\"}, {\"attributes\": {\"plot\": {\"subtype\": \"Figure\", \"type\": \"Plot\", \"id\": \"d344d720-6fcd-4555-a9c9-2dfb14979ea9\"}}, \"type\": \"WheelZoomTool\", \"id\": \"47c2e5f5-38d8-4bee-b564-e8c3977b7a27\"}, {\"attributes\": {}, \"type\": \"BasicTickFormatter\", \"id\": \"7a0a9b9c-6dbe-4b6b-9b61-a90f4a2c6a09\"}, {\"attributes\": {\"line_color\": {\"value\": \"#1f77b4\"}, \"line_alpha\": {\"value\": 0.1}, \"fill_color\": {\"value\": \"#1f77b4\"}, \"fill_alpha\": {\"value\": 0.1}, \"y\": {\"field\": \"y\"}, \"x\": {\"field\": \"x\"}, \"size\": {\"units\": \"screen\", \"value\": 10}}, \"type\": \"Circle\", \"id\": \"29bdd8ae-667b-4db0-aa49-9de2b02e8fe8\"}, {\"attributes\": {\"plot\": {\"subtype\": \"Figure\", \"type\": \"Plot\", \"id\": \"3c001830-f37b-4128-b170-dc8dd8865449\"}, \"overlay\": {\"type\": \"BoxAnnotation\", \"id\": \"08180a5c-acae-4aa9-85d9-85b90932eeac\"}}, \"type\": \"BoxZoomTool\", \"id\": \"10526abd-96de-464a-833b-75dcba252215\"}, {\"attributes\": {}, \"type\": \"BasicTickFormatter\", \"id\": \"218503e5-88e1-4947-8496-856efb79b478\"}, {\"attributes\": {\"major_label_orientation\": 0.7853981633974483, \"plot\": {\"subtype\": \"Figure\", \"type\": \"Plot\", \"id\": \"d344d720-6fcd-4555-a9c9-2dfb14979ea9\"}, \"formatter\": {\"type\": \"BasicTickFormatter\", \"id\": \"2f204493-0281-43f7-a699-0daf17c7aa6b\"}, \"ticker\": {\"type\": \"BasicTicker\", \"id\": \"726478cd-239d-4132-acbe-0641ff6a785b\"}}, \"type\": \"LinearAxis\", \"id\": \"09930e51-7238-4f7e-a56c-6218eba408de\"}, {\"attributes\": {}, \"type\": \"BasicTicker\", \"id\": \"7fc8d209-f8ee-42f4-a16d-8a073e41e9fc\"}, {\"attributes\": {}, \"type\": \"BasicTicker\", \"id\": \"dbb452ce-7c9a-49ea-ac56-75fb443a0f94\"}, {\"attributes\": {\"plot\": {\"subtype\": \"Figure\", \"type\": \"Plot\", \"id\": \"c8b285f0-0af9-4f66-86e0-e837b0a068e6\"}, \"minor_tick_out\": 6, \"axis_line_color\": {\"value\": \"red\"}, \"minor_tick_in\": -3, \"axis_label\": \"Temp\", \"formatter\": {\"type\": \"BasicTickFormatter\", \"id\": \"007bff35-268b-46aa-ac58-85908b9b7a57\"}, \"ticker\": {\"type\": \"BasicTicker\", \"id\": \"d2c0684d-3271-497a-9fb7-2416a90a3985\"}, \"axis_line_width\": {\"value\": 3}}, \"type\": \"LinearAxis\", \"id\": \"e3dfeebc-eadb-46e9-b1f7-24cf8af38c2d\"}, {\"attributes\": {\"plot\": {\"subtype\": \"Figure\", \"type\": \"Plot\", \"id\": \"9c50741d-c9fe-4923-9dbc-2ff916d93b14\"}}, \"type\": \"WheelZoomTool\", \"id\": \"a84b4d27-7dd7-4404-86f7-477b8fca7618\"}, {\"attributes\": {\"plot\": {\"subtype\": \"Figure\", \"type\": \"Plot\", \"id\": \"9c50741d-c9fe-4923-9dbc-2ff916d93b14\"}, \"overlay\": {\"type\": \"BoxAnnotation\", \"id\": \"02a68ba4-a631-40f3-9c23-bfa9fa4262f4\"}}, \"type\": \"BoxZoomTool\", \"id\": \"81c11b71-d558-4831-89f0-a30af7d669e1\"}, {\"attributes\": {\"plot\": {\"subtype\": \"Figure\", \"type\": \"Plot\", \"id\": \"c8b285f0-0af9-4f66-86e0-e837b0a068e6\"}, \"ticker\": {\"type\": \"BasicTicker\", \"id\": \"d2c0684d-3271-497a-9fb7-2416a90a3985\"}}, \"type\": \"Grid\", \"id\": \"78aec0d1-6deb-410a-865d-93fb09bd1e1a\"}, {\"attributes\": {}, \"type\": \"BasicTickFormatter\", \"id\": \"f7071039-8368-43a7-aade-5eb37dc114c3\"}, {\"attributes\": {\"line_color\": {\"value\": \"#1f77b4\"}, \"line_alpha\": {\"value\": 0.1}, \"fill_color\": {\"value\": \"#1f77b4\"}, \"line_width\": {\"value\": 2}, \"fill_alpha\": {\"value\": 0.1}, \"y\": {\"field\": \"y\"}, \"x\": {\"field\": \"x\"}, \"size\": {\"units\": \"screen\", \"value\": 10}}, \"type\": \"X\", \"id\": \"1b48d27f-1f9d-4b9c-82a6-d74a95b34664\"}, {\"attributes\": {}, \"type\": \"ToolEvents\", \"id\": \"477de8d8-ff41-4673-b817-7127f781e235\"}, {\"attributes\": {\"line_color\": {\"value\": \"black\"}, \"line_alpha\": {\"value\": 1.0}, \"render_mode\": \"css\", \"bottom_units\": \"screen\", \"level\": \"overlay\", \"top_units\": \"screen\", \"fill_alpha\": {\"value\": 0.5}, \"plot\": null, \"left_units\": \"screen\", \"line_dash\": [4, 4], \"line_width\": {\"value\": 2}, \"right_units\": \"screen\", \"fill_color\": {\"value\": \"lightgrey\"}}, \"type\": \"BoxAnnotation\", \"id\": \"08180a5c-acae-4aa9-85d9-85b90932eeac\"}, {\"attributes\": {\"plot\": {\"subtype\": \"Figure\", \"type\": \"Plot\", \"id\": \"c8b285f0-0af9-4f66-86e0-e837b0a068e6\"}}, \"type\": \"ResetTool\", \"id\": \"30f8296c-5423-4e3c-a0c7-edfb631dea25\"}, {\"attributes\": {\"nonselection_glyph\": {\"type\": \"Asterisk\", \"id\": \"a3853aa1-3a9e-4586-8551-46d847d2df58\"}, \"data_source\": {\"type\": \"ColumnDataSource\", \"id\": \"65e9b6d1-cd77-466d-b24e-d29b5df9f3d4\"}, \"selection_glyph\": null, \"hover_glyph\": null, \"glyph\": {\"type\": \"Asterisk\", \"id\": \"e92fe008-95f7-431e-b3b5-67b045e37cd5\"}}, \"type\": \"GlyphRenderer\", \"id\": \"7c8c5e3f-613b-4b42-ac06-d44921b3a5a1\"}, {\"attributes\": {\"plot\": {\"subtype\": \"Figure\", \"type\": \"Plot\", \"id\": \"9c50741d-c9fe-4923-9dbc-2ff916d93b14\"}}, \"type\": \"PreviewSaveTool\", \"id\": \"ae2faae9-3185-41cf-a665-e6e1a9cad120\"}, {\"attributes\": {\"plot\": {\"subtype\": \"Figure\", \"type\": \"Plot\", \"id\": \"d344d720-6fcd-4555-a9c9-2dfb14979ea9\"}, \"overlay\": {\"type\": \"BoxAnnotation\", \"id\": \"60531ff1-fdd5-4333-99e0-5647d909adb4\"}}, \"type\": \"BoxZoomTool\", \"id\": \"df3cfcc5-4ca8-48e4-83f9-fddcec269dc0\"}, {\"attributes\": {}, \"type\": \"BasicTicker\", \"id\": \"ada32b76-7034-4b90-aba8-bd72963a0162\"}, {\"attributes\": {\"plot\": {\"subtype\": \"Figure\", \"type\": \"Plot\", \"id\": \"3c001830-f37b-4128-b170-dc8dd8865449\"}}, \"type\": \"PreviewSaveTool\", \"id\": \"a17e931e-a794-4bb9-a29c-bc86d44804aa\"}, {\"attributes\": {}, \"type\": \"BasicTicker\", \"id\": \"b4adcc9f-e844-4fb8-8a04-12213c3066cd\"}, {\"attributes\": {\"plot\": {\"subtype\": \"Figure\", \"type\": \"Plot\", \"id\": \"9c50741d-c9fe-4923-9dbc-2ff916d93b14\"}, \"ticker\": {\"type\": \"BasicTicker\", \"id\": \"dbb452ce-7c9a-49ea-ac56-75fb443a0f94\"}}, \"type\": \"Grid\", \"id\": \"6ef6bf91-a531-49ed-aa9c-b5583b18ee8d\"}, {\"attributes\": {\"plot\": {\"subtype\": \"Figure\", \"type\": \"Plot\", \"id\": \"c8b285f0-0af9-4f66-86e0-e837b0a068e6\"}, \"ticker\": {\"type\": \"BasicTicker\", \"id\": \"ada32b76-7034-4b90-aba8-bd72963a0162\"}, \"dimension\": 1}, \"type\": \"Grid\", \"id\": \"e35e51de-6070-4b52-8f84-6991d29c56c8\"}, {\"attributes\": {\"plot\": {\"subtype\": \"Figure\", \"type\": \"Plot\", \"id\": \"9c50741d-c9fe-4923-9dbc-2ff916d93b14\"}}, \"type\": \"PanTool\", \"id\": \"a35a1d48-ae29-47f2-93a9-7acf26870aa4\"}, {\"attributes\": {\"major_label_orientation\": \"vertical\", \"plot\": {\"subtype\": \"Figure\", \"type\": \"Plot\", \"id\": \"d344d720-6fcd-4555-a9c9-2dfb14979ea9\"}, \"formatter\": {\"type\": \"BasicTickFormatter\", \"id\": \"218503e5-88e1-4947-8496-856efb79b478\"}, \"ticker\": {\"type\": \"BasicTicker\", \"id\": \"b4adcc9f-e844-4fb8-8a04-12213c3066cd\"}}, \"type\": \"LinearAxis\", \"id\": \"e2ed4965-d67f-47ee-994a-84a9538dc03c\"}, {\"attributes\": {\"line_color\": {\"value\": \"#1f77b4\"}, \"line_alpha\": {\"value\": 0.1}, \"fill_color\": {\"value\": \"#1f77b4\"}, \"fill_alpha\": {\"value\": 0.1}, \"y\": {\"field\": \"y\"}, \"x\": {\"field\": \"x\"}, \"size\": {\"units\": \"screen\", \"value\": 10}}, \"type\": \"Circle\", \"id\": \"b985d2b4-7202-4984-bf72-f62ab566113e\"}, {\"attributes\": {\"plot\": {\"subtype\": \"Figure\", \"type\": \"Plot\", \"id\": \"d344d720-6fcd-4555-a9c9-2dfb14979ea9\"}}, \"type\": \"ResetTool\", \"id\": \"da9a487f-1f0f-47cd-a3fe-1f5ba4298240\"}, {\"attributes\": {\"plot\": {\"subtype\": \"Figure\", \"type\": \"Plot\", \"id\": \"d344d720-6fcd-4555-a9c9-2dfb14979ea9\"}}, \"type\": \"HelpTool\", \"id\": \"1f0edf1c-d9e3-4378-99a2-02fdae393041\"}, {\"attributes\": {\"plot\": {\"subtype\": \"Figure\", \"type\": \"Plot\", \"id\": \"c8b285f0-0af9-4f66-86e0-e837b0a068e6\"}}, \"type\": \"WheelZoomTool\", \"id\": \"dcad87cc-3f47-4b4d-af00-8df3cd686feb\"}, {\"attributes\": {\"plot\": {\"subtype\": \"Figure\", \"type\": \"Plot\", \"id\": \"3c001830-f37b-4128-b170-dc8dd8865449\"}, \"grid_line_dash\": [6, 4], \"grid_line_alpha\": {\"value\": 0.5}, \"ticker\": {\"type\": \"BasicTicker\", \"id\": \"3b6e5359-a27e-492b-9a28-d2f5e33982e9\"}, \"dimension\": 1}, \"type\": \"Grid\", \"id\": \"0821d2bc-2b78-43af-a4fe-002e9d480da3\"}, {\"attributes\": {\"callback\": null}, \"type\": \"DataRange1d\", \"id\": \"1736141d-9a49-45e1-914f-b5c7e8cfae38\"}, {\"attributes\": {}, \"type\": \"BasicTickFormatter\", \"id\": \"f08cad09-a12c-4972-bd1b-2cd1df6208d6\"}, {\"attributes\": {}, \"type\": \"ToolEvents\", \"id\": \"fa20bd23-2ad9-455a-bde0-e8cae59d43be\"}, {\"attributes\": {\"plot\": {\"subtype\": \"Figure\", \"type\": \"Plot\", \"id\": \"3c001830-f37b-4128-b170-dc8dd8865449\"}}, \"type\": \"HelpTool\", \"id\": \"e06c01a0-b417-4160-9218-e3e4db02e98c\"}, {\"attributes\": {\"plot\": {\"subtype\": \"Figure\", \"type\": \"Plot\", \"id\": \"9c50741d-c9fe-4923-9dbc-2ff916d93b14\"}, \"formatter\": {\"type\": \"BasicTickFormatter\", \"id\": \"f08cad09-a12c-4972-bd1b-2cd1df6208d6\"}, \"ticker\": {\"type\": \"BasicTicker\", \"id\": \"dbb452ce-7c9a-49ea-ac56-75fb443a0f94\"}}, \"type\": \"LinearAxis\", \"id\": \"acc2ed99-6ff3-4eb0-aae9-fe9db448fbd3\"}, {\"attributes\": {\"plot\": {\"subtype\": \"Figure\", \"type\": \"Plot\", \"id\": \"c8b285f0-0af9-4f66-86e0-e837b0a068e6\"}, \"minor_tick_out\": 6, \"minor_tick_in\": -3, \"major_label_text_color\": {\"value\": \"orange\"}, \"major_label_orientation\": \"vertical\", \"axis_label\": \"Pressure\", \"formatter\": {\"type\": \"BasicTickFormatter\", \"id\": \"f7071039-8368-43a7-aade-5eb37dc114c3\"}, \"ticker\": {\"type\": \"BasicTicker\", \"id\": \"ada32b76-7034-4b90-aba8-bd72963a0162\"}}, \"type\": \"LinearAxis\", \"id\": \"673e6435-73a7-40a0-a1a0-ee4aa6a1332f\"}, {\"attributes\": {\"callback\": null}, \"type\": \"DataRange1d\", \"id\": \"4c262ec1-0662-41a6-b063-4152aa9367b6\"}, {\"attributes\": {\"plot\": {\"subtype\": \"Figure\", \"type\": \"Plot\", \"id\": \"3c001830-f37b-4128-b170-dc8dd8865449\"}}, \"type\": \"ResizeTool\", \"id\": \"1c91eaca-14c4-4a45-8095-842961afaa60\"}, {\"attributes\": {\"callback\": null}, \"type\": \"DataRange1d\", \"id\": \"4e575005-3472-46a3-9b2e-5cf90518e2ad\"}, {\"attributes\": {\"line_color\": {\"value\": \"black\"}, \"line_alpha\": {\"value\": 1.0}, \"render_mode\": \"css\", \"bottom_units\": \"screen\", \"level\": \"overlay\", \"top_units\": \"screen\", \"fill_alpha\": {\"value\": 0.5}, \"plot\": null, \"left_units\": \"screen\", \"line_dash\": [4, 4], \"line_width\": {\"value\": 2}, \"right_units\": \"screen\", \"fill_color\": {\"value\": \"lightgrey\"}}, \"type\": \"BoxAnnotation\", \"id\": \"02a68ba4-a631-40f3-9c23-bfa9fa4262f4\"}, {\"attributes\": {\"callback\": null}, \"type\": \"DataRange1d\", \"id\": \"ae399fd8-38d9-409f-a4c5-9135d1fdff4c\"}, {\"attributes\": {}, \"type\": \"BasicTicker\", \"id\": \"d2c0684d-3271-497a-9fb7-2416a90a3985\"}, {\"attributes\": {\"callback\": null}, \"type\": \"DataRange1d\", \"id\": \"42f5d9e0-d0b3-4f1e-88c6-e50601175475\"}, {\"attributes\": {\"plot\": {\"subtype\": \"Figure\", \"type\": \"Plot\", \"id\": \"3c001830-f37b-4128-b170-dc8dd8865449\"}, \"formatter\": {\"type\": \"BasicTickFormatter\", \"id\": \"d2c98d6c-3b3b-47d9-890d-c63380685e01\"}, \"ticker\": {\"type\": \"BasicTicker\", \"id\": \"3b6e5359-a27e-492b-9a28-d2f5e33982e9\"}}, \"type\": \"LinearAxis\", \"id\": \"c87a6a16-4b34-403f-b5ce-2405b94473c6\"}, {\"attributes\": {\"nonselection_glyph\": {\"type\": \"Circle\", \"id\": \"29bdd8ae-667b-4db0-aa49-9de2b02e8fe8\"}, \"data_source\": {\"type\": \"ColumnDataSource\", \"id\": \"485d9ae1-f16a-4a91-a9bb-9bbc31bd62d5\"}, \"selection_glyph\": null, \"hover_glyph\": null, \"glyph\": {\"type\": \"Circle\", \"id\": \"729ac44c-713d-4aec-9fa7-f4e90fe4802d\"}}, \"type\": \"GlyphRenderer\", \"id\": \"784236a4-e7ca-4e39-86ff-6d62bcad7409\"}, {\"attributes\": {\"plot\": {\"subtype\": \"Figure\", \"type\": \"Plot\", \"id\": \"3c001830-f37b-4128-b170-dc8dd8865449\"}}, \"type\": \"PanTool\", \"id\": \"3b04ead2-66d7-4224-a3f2-3140af8f313b\"}, {\"attributes\": {\"line_color\": {\"value\": \"#1f77b4\"}, \"line_alpha\": {\"value\": 0.1}, \"fill_color\": {\"value\": \"#1f77b4\"}, \"fill_alpha\": {\"value\": 0.1}, \"y\": {\"field\": \"y\"}, \"x\": {\"field\": \"x\"}, \"size\": {\"units\": \"screen\", \"value\": 12}}, \"type\": \"Asterisk\", \"id\": \"a3853aa1-3a9e-4586-8551-46d847d2df58\"}, {\"attributes\": {\"line_color\": {\"value\": \"olive\"}, \"x\": {\"field\": \"x\"}, \"y\": {\"field\": \"y\"}, \"fill_color\": {\"value\": \"olive\"}, \"size\": {\"units\": \"screen\", \"value\": 12}}, \"type\": \"Asterisk\", \"id\": \"e92fe008-95f7-431e-b3b5-67b045e37cd5\"}, {\"attributes\": {\"plot\": {\"subtype\": \"Figure\", \"type\": \"Plot\", \"id\": \"c8b285f0-0af9-4f66-86e0-e837b0a068e6\"}}, \"type\": \"PanTool\", \"id\": \"9a28d93e-18f9-4658-b31e-d56ec627429e\"}, {\"attributes\": {\"plot\": {\"subtype\": \"Figure\", \"type\": \"Plot\", \"id\": \"d344d720-6fcd-4555-a9c9-2dfb14979ea9\"}}, \"type\": \"PreviewSaveTool\", \"id\": \"c915bbf4-e38f-452c-8d58-c85037a0b75a\"}, {\"attributes\": {}, \"type\": \"ToolEvents\", \"id\": \"a111e421-8edc-40ce-8e78-b2e18900674d\"}, {\"attributes\": {\"plot\": {\"subtype\": \"Figure\", \"type\": \"Plot\", \"id\": \"d344d720-6fcd-4555-a9c9-2dfb14979ea9\"}}, \"type\": \"PanTool\", \"id\": \"4ed5101d-70ed-4e0c-a77d-9f3ed1fd3b48\"}, {\"attributes\": {\"callback\": null, \"column_names\": [\"y\", \"x\"], \"data\": {\"y\": [2, 5, 8, 2, 7], \"x\": [1, 2, 3, 4, 5]}}, \"type\": \"ColumnDataSource\", \"id\": \"08f34e73-1a4b-419a-a434-29a6bd8df4cb\"}, {\"attributes\": {\"outline_line_width\": {\"value\": 7}, \"x_range\": {\"type\": \"DataRange1d\", \"id\": \"0663b3e5-7953-465c-b6d2-df6ca31c6942\"}, \"outline_line_alpha\": {\"value\": 0.3}, \"y_range\": {\"type\": \"DataRange1d\", \"id\": \"4e575005-3472-46a3-9b2e-5cf90518e2ad\"}, \"outline_line_color\": {\"value\": \"navy\"}, \"plot_width\": 400, \"renderers\": [{\"type\": \"LinearAxis\", \"id\": \"acc2ed99-6ff3-4eb0-aae9-fe9db448fbd3\"}, {\"type\": \"Grid\", \"id\": \"6ef6bf91-a531-49ed-aa9c-b5583b18ee8d\"}, {\"type\": \"LinearAxis\", \"id\": \"e56a23c6-2607-460d-9bd8-fcba80c55771\"}, {\"type\": \"Grid\", \"id\": \"183fb0ab-3841-4586-93a2-a4f4ac3eed15\"}, {\"type\": \"BoxAnnotation\", \"id\": \"02a68ba4-a631-40f3-9c23-bfa9fa4262f4\"}, {\"type\": \"GlyphRenderer\", \"id\": \"90234217-5ff6-42c5-beee-8ce9bc2d9511\"}], \"below\": [{\"type\": \"LinearAxis\", \"id\": \"acc2ed99-6ff3-4eb0-aae9-fe9db448fbd3\"}], \"tool_events\": {\"type\": \"ToolEvents\", \"id\": \"fa20bd23-2ad9-455a-bde0-e8cae59d43be\"}, \"plot_height\": 400, \"tools\": [{\"type\": \"PanTool\", \"id\": \"a35a1d48-ae29-47f2-93a9-7acf26870aa4\"}, {\"type\": \"WheelZoomTool\", \"id\": \"a84b4d27-7dd7-4404-86f7-477b8fca7618\"}, {\"type\": \"BoxZoomTool\", \"id\": \"81c11b71-d558-4831-89f0-a30af7d669e1\"}, {\"type\": \"PreviewSaveTool\", \"id\": \"ae2faae9-3185-41cf-a665-e6e1a9cad120\"}, {\"type\": \"ResizeTool\", \"id\": \"82821871-7f2d-4e4e-81f0-73fc2d8dd05c\"}, {\"type\": \"ResetTool\", \"id\": \"1562277d-7974-4baa-994e-2160431705ea\"}, {\"type\": \"HelpTool\", \"id\": \"4f02d712-b510-49f7-b27c-953ed6362726\"}], \"left\": [{\"type\": \"LinearAxis\", \"id\": \"e56a23c6-2607-460d-9bd8-fcba80c55771\"}]}, \"type\": \"Plot\", \"id\": \"9c50741d-c9fe-4923-9dbc-2ff916d93b14\", \"subtype\": \"Figure\"}, {\"attributes\": {\"plot\": {\"subtype\": \"Figure\", \"type\": \"Plot\", \"id\": \"3c001830-f37b-4128-b170-dc8dd8865449\"}}, \"type\": \"WheelZoomTool\", \"id\": \"212d1ed9-5dce-4cdb-9e54-4c461d7bb785\"}, {\"attributes\": {}, \"type\": \"BasicTickFormatter\", \"id\": \"d2c98d6c-3b3b-47d9-890d-c63380685e01\"}, {\"attributes\": {\"plot\": {\"subtype\": \"Figure\", \"type\": \"Plot\", \"id\": \"9c50741d-c9fe-4923-9dbc-2ff916d93b14\"}}, \"type\": \"HelpTool\", \"id\": \"4f02d712-b510-49f7-b27c-953ed6362726\"}, {\"attributes\": {}, \"type\": \"BasicTicker\", \"id\": \"b730f5a7-b929-4ca3-bb17-e84b38149c26\"}, {\"attributes\": {\"line_color\": {\"value\": \"black\"}, \"line_alpha\": {\"value\": 1.0}, \"render_mode\": \"css\", \"bottom_units\": \"screen\", \"level\": \"overlay\", \"top_units\": \"screen\", \"fill_alpha\": {\"value\": 0.5}, \"plot\": null, \"left_units\": \"screen\", \"line_dash\": [4, 4], \"line_width\": {\"value\": 2}, \"right_units\": \"screen\", \"fill_color\": {\"value\": \"lightgrey\"}}, \"type\": \"BoxAnnotation\", \"id\": \"60531ff1-fdd5-4333-99e0-5647d909adb4\"}, {\"attributes\": {}, \"type\": \"BasicTickFormatter\", \"id\": \"2f204493-0281-43f7-a699-0daf17c7aa6b\"}, {\"attributes\": {\"plot\": {\"subtype\": \"Figure\", \"type\": \"Plot\", \"id\": \"9c50741d-c9fe-4923-9dbc-2ff916d93b14\"}, \"ticker\": {\"type\": \"BasicTicker\", \"id\": \"b730f5a7-b929-4ca3-bb17-e84b38149c26\"}, \"dimension\": 1}, \"type\": \"Grid\", \"id\": \"183fb0ab-3841-4586-93a2-a4f4ac3eed15\"}, {\"attributes\": {\"plot\": {\"subtype\": \"Figure\", \"type\": \"Plot\", \"id\": \"d344d720-6fcd-4555-a9c9-2dfb14979ea9\"}, \"ticker\": {\"type\": \"BasicTicker\", \"id\": \"b4adcc9f-e844-4fb8-8a04-12213c3066cd\"}, \"dimension\": 1}, \"type\": \"Grid\", \"id\": \"31ec6682-23a2-4b37-83c5-65e0d875c7bc\"}, {\"attributes\": {}, \"type\": \"BasicTickFormatter\", \"id\": \"2fec70c5-a0cb-43de-b95e-33c9596f25c8\"}, {\"attributes\": {}, \"type\": \"BasicTickFormatter\", \"id\": \"007bff35-268b-46aa-ac58-85908b9b7a57\"}, {\"attributes\": {\"callback\": null}, \"type\": \"DataRange1d\", \"id\": \"86cf9d1a-d1d3-47a7-9dc7-e5bb293f3986\"}, {\"attributes\": {\"line_color\": {\"value\": \"#1f77b4\"}, \"line_width\": {\"value\": 2}, \"fill_color\": {\"value\": \"#1f77b4\"}, \"y\": {\"field\": \"y\"}, \"x\": {\"field\": \"x\"}, \"size\": {\"units\": \"screen\", \"value\": 10}}, \"type\": \"X\", \"id\": \"9c8d1824-c8a0-4bed-a783-f223fc7f18f1\"}, {\"attributes\": {\"nonselection_glyph\": {\"type\": \"Circle\", \"id\": \"b985d2b4-7202-4984-bf72-f62ab566113e\"}, \"data_source\": {\"type\": \"ColumnDataSource\", \"id\": \"66ca0b41-2e62-4eeb-bd59-fa946e5c7efd\"}, \"selection_glyph\": null, \"hover_glyph\": null, \"glyph\": {\"type\": \"Circle\", \"id\": \"6bc69132-a4df-4eaa-b1af-ababfb85d929\"}}, \"type\": \"GlyphRenderer\", \"id\": \"90234217-5ff6-42c5-beee-8ce9bc2d9511\"}, {\"attributes\": {}, \"type\": \"ToolEvents\", \"id\": \"171f80dc-59e6-4e7e-8e7c-dc9659f0613e\"}, {\"attributes\": {\"plot\": {\"subtype\": \"Figure\", \"type\": \"Plot\", \"id\": \"3c001830-f37b-4128-b170-dc8dd8865449\"}, \"grid_line_color\": {\"value\": null}, \"ticker\": {\"type\": \"BasicTicker\", \"id\": \"7fc8d209-f8ee-42f4-a16d-8a073e41e9fc\"}}, \"type\": \"Grid\", \"id\": \"0cefef30-1c2b-4376-a805-b396748feeab\"}, {\"attributes\": {\"x_range\": {\"type\": \"DataRange1d\", \"id\": \"86cf9d1a-d1d3-47a7-9dc7-e5bb293f3986\"}, \"y_range\": {\"type\": \"DataRange1d\", \"id\": \"85a992eb-408f-4f3a-b6cb-eba2216d138d\"}, \"renderers\": [{\"type\": \"LinearAxis\", \"id\": \"e3dfeebc-eadb-46e9-b1f7-24cf8af38c2d\"}, {\"type\": \"Grid\", \"id\": \"78aec0d1-6deb-410a-865d-93fb09bd1e1a\"}, {\"type\": \"LinearAxis\", \"id\": \"673e6435-73a7-40a0-a1a0-ee4aa6a1332f\"}, {\"type\": \"Grid\", \"id\": \"e35e51de-6070-4b52-8f84-6991d29c56c8\"}, {\"type\": \"BoxAnnotation\", \"id\": \"9bc9d770-4e0d-4ef0-9bbc-bb01186f378c\"}, {\"type\": \"GlyphRenderer\", \"id\": \"7c8c5e3f-613b-4b42-ac06-d44921b3a5a1\"}], \"plot_width\": 400, \"below\": [{\"type\": \"LinearAxis\", \"id\": \"e3dfeebc-eadb-46e9-b1f7-24cf8af38c2d\"}], \"tool_events\": {\"type\": \"ToolEvents\", \"id\": \"a111e421-8edc-40ce-8e78-b2e18900674d\"}, \"plot_height\": 400, \"tools\": [{\"type\": \"PanTool\", \"id\": \"9a28d93e-18f9-4658-b31e-d56ec627429e\"}, {\"type\": \"WheelZoomTool\", \"id\": \"dcad87cc-3f47-4b4d-af00-8df3cd686feb\"}, {\"type\": \"BoxZoomTool\", \"id\": \"bd8df307-b5a1-4e06-8226-2aa6715fe568\"}, {\"type\": \"PreviewSaveTool\", \"id\": \"9b9c3797-fc29-44f3-9324-64af8a930ac4\"}, {\"type\": \"ResizeTool\", \"id\": \"ec751161-1d1f-4621-997d-fe8a5e228427\"}, {\"type\": \"ResetTool\", \"id\": \"30f8296c-5423-4e3c-a0c7-edfb631dea25\"}, {\"type\": \"HelpTool\", \"id\": \"bf00296e-5e6e-4f53-8783-62149bc3166d\"}], \"left\": [{\"type\": \"LinearAxis\", \"id\": \"673e6435-73a7-40a0-a1a0-ee4aa6a1332f\"}]}, \"type\": \"Plot\", \"id\": \"c8b285f0-0af9-4f66-86e0-e837b0a068e6\", \"subtype\": \"Figure\"}, {\"attributes\": {\"plot\": {\"subtype\": \"Figure\", \"type\": \"Plot\", \"id\": \"9c50741d-c9fe-4923-9dbc-2ff916d93b14\"}}, \"type\": \"ResetTool\", \"id\": \"1562277d-7974-4baa-994e-2160431705ea\"}, {\"attributes\": {\"plot\": {\"subtype\": \"Figure\", \"type\": \"Plot\", \"id\": \"c8b285f0-0af9-4f66-86e0-e837b0a068e6\"}, \"overlay\": {\"type\": \"BoxAnnotation\", \"id\": \"9bc9d770-4e0d-4ef0-9bbc-bb01186f378c\"}}, \"type\": \"BoxZoomTool\", \"id\": \"bd8df307-b5a1-4e06-8226-2aa6715fe568\"}, {\"attributes\": {\"line_color\": {\"value\": \"#1f77b4\"}, \"x\": {\"field\": \"x\"}, \"y\": {\"field\": \"y\"}, \"fill_color\": {\"value\": \"#1f77b4\"}, \"size\": {\"units\": \"screen\", \"value\": 10}}, \"type\": \"Circle\", \"id\": \"729ac44c-713d-4aec-9fa7-f4e90fe4802d\"}, {\"attributes\": {\"plot\": {\"subtype\": \"Figure\", \"type\": \"Plot\", \"id\": \"9c50741d-c9fe-4923-9dbc-2ff916d93b14\"}}, \"type\": \"ResizeTool\", \"id\": \"82821871-7f2d-4e4e-81f0-73fc2d8dd05c\"}, {\"attributes\": {\"callback\": null, \"column_names\": [\"y\", \"x\"], \"data\": {\"y\": [2, 5, 8, 2, 7], \"x\": [1, 2, 3, 4, 5]}}, \"type\": \"ColumnDataSource\", \"id\": \"65e9b6d1-cd77-466d-b24e-d29b5df9f3d4\"}, {\"attributes\": {\"plot\": {\"subtype\": \"Figure\", \"type\": \"Plot\", \"id\": \"3c001830-f37b-4128-b170-dc8dd8865449\"}}, \"type\": \"ResetTool\", \"id\": \"979290e7-58fb-4cc3-a394-adc6645fad7b\"}, {\"attributes\": {\"plot\": {\"subtype\": \"Figure\", \"type\": \"Plot\", \"id\": \"c8b285f0-0af9-4f66-86e0-e837b0a068e6\"}}, \"type\": \"ResizeTool\", \"id\": \"ec751161-1d1f-4621-997d-fe8a5e228427\"}, {\"attributes\": {\"plot\": {\"subtype\": \"Figure\", \"type\": \"Plot\", \"id\": \"d344d720-6fcd-4555-a9c9-2dfb14979ea9\"}}, \"type\": \"ResizeTool\", \"id\": \"e535159b-1e4e-49b6-8892-e351e8e4a07d\"}, {\"attributes\": {\"callback\": null}, \"type\": \"DataRange1d\", \"id\": \"85a992eb-408f-4f3a-b6cb-eba2216d138d\"}, {\"attributes\": {\"nonselection_glyph\": {\"type\": \"X\", \"id\": \"1b48d27f-1f9d-4b9c-82a6-d74a95b34664\"}, \"data_source\": {\"type\": \"ColumnDataSource\", \"id\": \"08f34e73-1a4b-419a-a434-29a6bd8df4cb\"}, \"selection_glyph\": null, \"hover_glyph\": null, \"glyph\": {\"type\": \"X\", \"id\": \"9c8d1824-c8a0-4bed-a783-f223fc7f18f1\"}}, \"type\": \"GlyphRenderer\", \"id\": \"264dbbb5-4618-44ab-8df6-dc1002586a6a\"}, {\"attributes\": {\"x_range\": {\"type\": \"DataRange1d\", \"id\": \"4c262ec1-0662-41a6-b063-4152aa9367b6\"}, \"y_range\": {\"type\": \"DataRange1d\", \"id\": \"42f5d9e0-d0b3-4f1e-88c6-e50601175475\"}, \"renderers\": [{\"type\": \"LinearAxis\", \"id\": \"09930e51-7238-4f7e-a56c-6218eba408de\"}, {\"type\": \"Grid\", \"id\": \"0ba7084b-6f4e-4f70-a601-9d50f1afa06f\"}, {\"type\": \"LinearAxis\", \"id\": \"e2ed4965-d67f-47ee-994a-84a9538dc03c\"}, {\"type\": \"Grid\", \"id\": \"31ec6682-23a2-4b37-83c5-65e0d875c7bc\"}, {\"type\": \"BoxAnnotation\", \"id\": \"60531ff1-fdd5-4333-99e0-5647d909adb4\"}, {\"type\": \"GlyphRenderer\", \"id\": \"264dbbb5-4618-44ab-8df6-dc1002586a6a\"}], \"plot_width\": 400, \"below\": [{\"type\": \"LinearAxis\", \"id\": \"09930e51-7238-4f7e-a56c-6218eba408de\"}], \"tool_events\": {\"type\": \"ToolEvents\", \"id\": \"171f80dc-59e6-4e7e-8e7c-dc9659f0613e\"}, \"plot_height\": 400, \"tools\": [{\"type\": \"PanTool\", \"id\": \"4ed5101d-70ed-4e0c-a77d-9f3ed1fd3b48\"}, {\"type\": \"WheelZoomTool\", \"id\": \"47c2e5f5-38d8-4bee-b564-e8c3977b7a27\"}, {\"type\": \"BoxZoomTool\", \"id\": \"df3cfcc5-4ca8-48e4-83f9-fddcec269dc0\"}, {\"type\": \"PreviewSaveTool\", \"id\": \"c915bbf4-e38f-452c-8d58-c85037a0b75a\"}, {\"type\": \"ResizeTool\", \"id\": \"e535159b-1e4e-49b6-8892-e351e8e4a07d\"}, {\"type\": \"ResetTool\", \"id\": \"da9a487f-1f0f-47cd-a3fe-1f5ba4298240\"}, {\"type\": \"HelpTool\", \"id\": \"1f0edf1c-d9e3-4378-99a2-02fdae393041\"}], \"left\": [{\"type\": \"LinearAxis\", \"id\": \"e2ed4965-d67f-47ee-994a-84a9538dc03c\"}]}, \"type\": \"Plot\", \"id\": \"d344d720-6fcd-4555-a9c9-2dfb14979ea9\", \"subtype\": \"Figure\"}, {\"attributes\": {}, \"type\": \"BasicTicker\", \"id\": \"726478cd-239d-4132-acbe-0641ff6a785b\"}, {\"attributes\": {\"plot\": {\"subtype\": \"Figure\", \"type\": \"Plot\", \"id\": \"c8b285f0-0af9-4f66-86e0-e837b0a068e6\"}}, \"type\": \"HelpTool\", \"id\": \"bf00296e-5e6e-4f53-8783-62149bc3166d\"}, {\"attributes\": {\"line_color\": {\"value\": \"#1f77b4\"}, \"x\": {\"field\": \"x\"}, \"y\": {\"field\": \"y\"}, \"fill_color\": {\"value\": \"#1f77b4\"}, \"size\": {\"units\": \"screen\", \"value\": 10}}, \"type\": \"Circle\", \"id\": \"6bc69132-a4df-4eaa-b1af-ababfb85d929\"}, {\"attributes\": {\"callback\": null, \"column_names\": [\"y\", \"x\"], \"data\": {\"y\": [2, 5, 8, 2, 7], \"x\": [1, 2, 3, 4, 5]}}, \"type\": \"ColumnDataSource\", \"id\": \"485d9ae1-f16a-4a91-a9bb-9bbc31bd62d5\"}, {\"attributes\": {\"callback\": null}, \"type\": \"DataRange1d\", \"id\": \"0663b3e5-7953-465c-b6d2-df6ca31c6942\"}, {\"attributes\": {\"line_color\": {\"value\": \"black\"}, \"line_alpha\": {\"value\": 1.0}, \"render_mode\": \"css\", \"bottom_units\": \"screen\", \"level\": \"overlay\", \"top_units\": \"screen\", \"fill_alpha\": {\"value\": 0.5}, \"plot\": null, \"left_units\": \"screen\", \"line_dash\": [4, 4], \"line_width\": {\"value\": 2}, \"right_units\": \"screen\", \"fill_color\": {\"value\": \"lightgrey\"}}, \"type\": \"BoxAnnotation\", \"id\": \"9bc9d770-4e0d-4ef0-9bbc-bb01186f378c\"}]}, \"title\": \"Bokeh Application\"}};\n",
       "            var render_items = [{\"notebook_comms_target\": \"d29e45fe-8221-4756-858d-c0d2db6b5e12\", \"docid\": \"c6b7ae8d-f42f-4f3c-b5bd-1c29396aeb90\", \"elementid\": \"32d8b26e-affc-4b9c-8359-2f48d23b374b\", \"modelid\": \"3c001830-f37b-4128-b170-dc8dd8865449\"}];\n",
       "            \n",
       "            Bokeh.embed.embed_items(docs_json, render_items);\n",
       "        });\n",
       "      },\n",
       "      function(Bokeh) {\n",
       "      }\n",
       "    ];\n",
       "  \n",
       "    function run_inline_js() {\n",
       "      for (var i = 0; i < inline_js.length; i++) {\n",
       "        inline_js[i](window.Bokeh);\n",
       "      }\n",
       "    }\n",
       "  \n",
       "    if (window._bokeh_is_loading === 0) {\n",
       "      console.log(\"Bokeh: BokehJS loaded, going straight to plotting\");\n",
       "      run_inline_js();\n",
       "    } else {\n",
       "      load_libs(js_urls, function() {\n",
       "        console.log(\"Bokeh: BokehJS plotting callback run at\", now());\n",
       "        run_inline_js();\n",
       "      });\n",
       "    }\n",
       "  }(this));\n",
       "</script>"
      ]
     },
     "metadata": {},
     "output_type": "display_data"
    },
    {
     "data": {
      "text/plain": [
       "<bokeh.io._CommsHandle at 0x7f1d9eace710>"
      ]
     },
     "execution_count": 9,
     "metadata": {},
     "output_type": "execute_result"
    }
   ],
   "source": [
    "p = figure(plot_width=400, plot_height=400)\n",
    "p.circle([1,2,3,4,5], [2,5,8,2,7], size=10)\n",
    "\n",
    "# change just some things about the x-grid\n",
    "p.xgrid.grid_line_color = None\n",
    "\n",
    "# change just some things about the y-grid\n",
    "p.ygrid.grid_line_alpha = 0.5\n",
    "p.ygrid.grid_line_dash = [6, 4]\n",
    "\n",
    "show(p)"
   ]
  },
  {
   "cell_type": "code",
   "execution_count": 10,
   "metadata": {
    "collapsed": false
   },
   "outputs": [
    {
     "data": {
      "text/html": [
       "\n",
       "\n",
       "    <div class=\"plotdiv\" id=\"cd51b91b-70f3-442b-8ef7-c04b0f333b3f\"></div>\n",
       "<script type=\"text/javascript\">\n",
       "  \n",
       "  (function(global) {\n",
       "    function now() {\n",
       "      return new Date();\n",
       "    }\n",
       "  \n",
       "    if (typeof (window._bokeh_onload_callbacks) === \"undefined\") {\n",
       "      window._bokeh_onload_callbacks = [];\n",
       "    }\n",
       "  \n",
       "    function run_callbacks() {\n",
       "      window._bokeh_onload_callbacks.forEach(function(callback) { callback() });\n",
       "      delete window._bokeh_onload_callbacks\n",
       "      console.info(\"Bokeh: all callbacks have finished\");\n",
       "    }\n",
       "  \n",
       "    function load_libs(js_urls, callback) {\n",
       "      window._bokeh_onload_callbacks.push(callback);\n",
       "      if (window._bokeh_is_loading > 0) {\n",
       "        console.log(\"Bokeh: BokehJS is being loaded, scheduling callback at\", now());\n",
       "        return null;\n",
       "      }\n",
       "      if (js_urls == null || js_urls.length === 0) {\n",
       "        run_callbacks();\n",
       "        return null;\n",
       "      }\n",
       "      console.log(\"Bokeh: BokehJS not loaded, scheduling load and callback at\", now());\n",
       "      window._bokeh_is_loading = js_urls.length;\n",
       "      for (var i = 0; i < js_urls.length; i++) {\n",
       "        var url = js_urls[i];\n",
       "        var s = document.createElement('script');\n",
       "        s.src = url;\n",
       "        s.async = false;\n",
       "        s.onreadystatechange = s.onload = function() {\n",
       "          window._bokeh_is_loading--;\n",
       "          if (window._bokeh_is_loading === 0) {\n",
       "            console.log(\"Bokeh: all BokehJS libraries loaded\");\n",
       "            run_callbacks()\n",
       "          }\n",
       "        };\n",
       "        s.onerror = function() {\n",
       "          console.warn(\"failed to load library \" + url);\n",
       "        };\n",
       "        console.log(\"Bokeh: injecting script tag for BokehJS library: \", url);\n",
       "        document.getElementsByTagName(\"head\")[0].appendChild(s);\n",
       "      }\n",
       "    };var element = document.getElementById(\"cd51b91b-70f3-442b-8ef7-c04b0f333b3f\");\n",
       "    if (element == null) {\n",
       "      console.log(\"Bokeh: ERROR: autoload.js configured with elementid 'cd51b91b-70f3-442b-8ef7-c04b0f333b3f' but no matching script tag was found. \")\n",
       "      return false;\n",
       "    }var js_urls = [];\n",
       "  \n",
       "    var inline_js = [\n",
       "      function(Bokeh) {\n",
       "        Bokeh.$(function() {\n",
       "            var docs_json = {\"9bd779b5-6726-4821-b6fd-50e3ff7a4532\": {\"version\": \"0.11.0\", \"roots\": {\"root_ids\": [\"9c50741d-c9fe-4923-9dbc-2ff916d93b14\", \"d344d720-6fcd-4555-a9c9-2dfb14979ea9\", \"c8b285f0-0af9-4f66-86e0-e837b0a068e6\", \"3c001830-f37b-4128-b170-dc8dd8865449\", \"3e001435-68d4-46c8-b9c7-4680e52e57ac\"], \"references\": [{\"attributes\": {\"plot\": {\"subtype\": \"Figure\", \"type\": \"Plot\", \"id\": \"c8b285f0-0af9-4f66-86e0-e837b0a068e6\"}}, \"type\": \"PreviewSaveTool\", \"id\": \"9b9c3797-fc29-44f3-9324-64af8a930ac4\"}, {\"attributes\": {}, \"type\": \"BasicTicker\", \"id\": \"3b6e5359-a27e-492b-9a28-d2f5e33982e9\"}, {\"attributes\": {\"line_color\": {\"value\": \"#1f77b4\"}, \"line_alpha\": {\"value\": 0.1}, \"fill_color\": {\"value\": \"#1f77b4\"}, \"fill_alpha\": {\"value\": 0.1}, \"y\": {\"field\": \"y\"}, \"x\": {\"field\": \"x\"}, \"size\": {\"units\": \"screen\", \"value\": 10}}, \"type\": \"Circle\", \"id\": \"6e815597-8f0e-4667-b51d-e1edbbf0baf8\"}, {\"attributes\": {\"x_range\": {\"type\": \"DataRange1d\", \"id\": \"1736141d-9a49-45e1-914f-b5c7e8cfae38\"}, \"y_range\": {\"type\": \"DataRange1d\", \"id\": \"ae399fd8-38d9-409f-a4c5-9135d1fdff4c\"}, \"renderers\": [{\"type\": \"LinearAxis\", \"id\": \"ef3f6c8b-8b41-4f92-9d8b-31b96488caaf\"}, {\"type\": \"Grid\", \"id\": \"0cefef30-1c2b-4376-a805-b396748feeab\"}, {\"type\": \"LinearAxis\", \"id\": \"c87a6a16-4b34-403f-b5ce-2405b94473c6\"}, {\"type\": \"Grid\", \"id\": \"0821d2bc-2b78-43af-a4fe-002e9d480da3\"}, {\"type\": \"BoxAnnotation\", \"id\": \"08180a5c-acae-4aa9-85d9-85b90932eeac\"}, {\"type\": \"GlyphRenderer\", \"id\": \"784236a4-e7ca-4e39-86ff-6d62bcad7409\"}], \"plot_width\": 400, \"below\": [{\"type\": \"LinearAxis\", \"id\": \"ef3f6c8b-8b41-4f92-9d8b-31b96488caaf\"}], \"tool_events\": {\"type\": \"ToolEvents\", \"id\": \"477de8d8-ff41-4673-b817-7127f781e235\"}, \"plot_height\": 400, \"tools\": [{\"type\": \"PanTool\", \"id\": \"3b04ead2-66d7-4224-a3f2-3140af8f313b\"}, {\"type\": \"WheelZoomTool\", \"id\": \"212d1ed9-5dce-4cdb-9e54-4c461d7bb785\"}, {\"type\": \"BoxZoomTool\", \"id\": \"10526abd-96de-464a-833b-75dcba252215\"}, {\"type\": \"PreviewSaveTool\", \"id\": \"a17e931e-a794-4bb9-a29c-bc86d44804aa\"}, {\"type\": \"ResizeTool\", \"id\": \"1c91eaca-14c4-4a45-8095-842961afaa60\"}, {\"type\": \"ResetTool\", \"id\": \"979290e7-58fb-4cc3-a394-adc6645fad7b\"}, {\"type\": \"HelpTool\", \"id\": \"e06c01a0-b417-4160-9218-e3e4db02e98c\"}], \"left\": [{\"type\": \"LinearAxis\", \"id\": \"c87a6a16-4b34-403f-b5ce-2405b94473c6\"}]}, \"type\": \"Plot\", \"id\": \"3c001830-f37b-4128-b170-dc8dd8865449\", \"subtype\": \"Figure\"}, {\"attributes\": {\"plot\": {\"subtype\": \"Figure\", \"type\": \"Plot\", \"id\": \"d344d720-6fcd-4555-a9c9-2dfb14979ea9\"}, \"ticker\": {\"type\": \"BasicTicker\", \"id\": \"726478cd-239d-4132-acbe-0641ff6a785b\"}}, \"type\": \"Grid\", \"id\": \"0ba7084b-6f4e-4f70-a601-9d50f1afa06f\"}, {\"attributes\": {\"plot\": {\"subtype\": \"Figure\", \"type\": \"Plot\", \"id\": \"3e001435-68d4-46c8-b9c7-4680e52e57ac\"}}, \"type\": \"PreviewSaveTool\", \"id\": \"5158f630-7016-4b5e-b921-bc1fcf2e30fb\"}, {\"attributes\": {\"plot\": {\"subtype\": \"Figure\", \"type\": \"Plot\", \"id\": \"3e001435-68d4-46c8-b9c7-4680e52e57ac\"}}, \"type\": \"WheelZoomTool\", \"id\": \"92c65d67-fc2c-4b8a-9237-f6d9471b2dca\"}, {\"attributes\": {\"plot\": {\"subtype\": \"Figure\", \"type\": \"Plot\", \"id\": \"3c001830-f37b-4128-b170-dc8dd8865449\"}, \"formatter\": {\"type\": \"BasicTickFormatter\", \"id\": \"2fec70c5-a0cb-43de-b95e-33c9596f25c8\"}, \"ticker\": {\"type\": \"BasicTicker\", \"id\": \"7fc8d209-f8ee-42f4-a16d-8a073e41e9fc\"}}, \"type\": \"LinearAxis\", \"id\": \"ef3f6c8b-8b41-4f92-9d8b-31b96488caaf\"}, {\"attributes\": {\"callback\": null, \"column_names\": [\"y\", \"x\"], \"data\": {\"y\": [2, 5, 8, 2, 7], \"x\": [1, 2, 3, 4, 5]}}, \"type\": \"ColumnDataSource\", \"id\": \"971b4a40-ae5c-4977-a949-53de09e0370a\"}, {\"attributes\": {\"plot\": {\"subtype\": \"Figure\", \"type\": \"Plot\", \"id\": \"3e001435-68d4-46c8-b9c7-4680e52e57ac\"}, \"grid_line_color\": {\"value\": null}, \"ticker\": {\"type\": \"BasicTicker\", \"id\": \"d265ee12-8f9b-494a-82be-166bd4fea654\"}}, \"type\": \"Grid\", \"id\": \"15c97f26-0227-4c04-a48a-4c8136e6bf79\"}, {\"attributes\": {\"plot\": {\"subtype\": \"Figure\", \"type\": \"Plot\", \"id\": \"9c50741d-c9fe-4923-9dbc-2ff916d93b14\"}, \"formatter\": {\"type\": \"BasicTickFormatter\", \"id\": \"7a0a9b9c-6dbe-4b6b-9b61-a90f4a2c6a09\"}, \"ticker\": {\"type\": \"BasicTicker\", \"id\": \"b730f5a7-b929-4ca3-bb17-e84b38149c26\"}}, \"type\": \"LinearAxis\", \"id\": \"e56a23c6-2607-460d-9bd8-fcba80c55771\"}, {\"attributes\": {\"plot\": {\"subtype\": \"Figure\", \"type\": \"Plot\", \"id\": \"d344d720-6fcd-4555-a9c9-2dfb14979ea9\"}}, \"type\": \"WheelZoomTool\", \"id\": \"47c2e5f5-38d8-4bee-b564-e8c3977b7a27\"}, {\"attributes\": {}, \"type\": \"BasicTickFormatter\", \"id\": \"7a0a9b9c-6dbe-4b6b-9b61-a90f4a2c6a09\"}, {\"attributes\": {\"line_color\": {\"value\": \"#1f77b4\"}, \"line_alpha\": {\"value\": 0.1}, \"fill_color\": {\"value\": \"#1f77b4\"}, \"fill_alpha\": {\"value\": 0.1}, \"y\": {\"field\": \"y\"}, \"x\": {\"field\": \"x\"}, \"size\": {\"units\": \"screen\", \"value\": 10}}, \"type\": \"Circle\", \"id\": \"29bdd8ae-667b-4db0-aa49-9de2b02e8fe8\"}, {\"attributes\": {\"plot\": {\"subtype\": \"Figure\", \"type\": \"Plot\", \"id\": \"3c001830-f37b-4128-b170-dc8dd8865449\"}, \"overlay\": {\"type\": \"BoxAnnotation\", \"id\": \"08180a5c-acae-4aa9-85d9-85b90932eeac\"}}, \"type\": \"BoxZoomTool\", \"id\": \"10526abd-96de-464a-833b-75dcba252215\"}, {\"attributes\": {}, \"type\": \"BasicTickFormatter\", \"id\": \"218503e5-88e1-4947-8496-856efb79b478\"}, {\"attributes\": {\"plot\": {\"subtype\": \"Figure\", \"type\": \"Plot\", \"id\": \"3e001435-68d4-46c8-b9c7-4680e52e57ac\"}, \"formatter\": {\"type\": \"BasicTickFormatter\", \"id\": \"3b6aac94-ca3c-4530-b066-82a3b39d5e54\"}, \"ticker\": {\"type\": \"BasicTicker\", \"id\": \"d265ee12-8f9b-494a-82be-166bd4fea654\"}}, \"type\": \"LinearAxis\", \"id\": \"aaafc43b-0721-495f-8313-22b2ca457fe2\"}, {\"attributes\": {\"nonselection_glyph\": {\"type\": \"Circle\", \"id\": \"6e815597-8f0e-4667-b51d-e1edbbf0baf8\"}, \"data_source\": {\"type\": \"ColumnDataSource\", \"id\": \"971b4a40-ae5c-4977-a949-53de09e0370a\"}, \"selection_glyph\": null, \"hover_glyph\": null, \"glyph\": {\"type\": \"Circle\", \"id\": \"1d722cbd-328a-4be4-aaa3-77bd1e6072d2\"}}, \"type\": \"GlyphRenderer\", \"id\": \"e927f6db-94fb-4284-a7eb-d82190574e3c\"}, {\"attributes\": {\"major_label_orientation\": 0.7853981633974483, \"plot\": {\"subtype\": \"Figure\", \"type\": \"Plot\", \"id\": \"d344d720-6fcd-4555-a9c9-2dfb14979ea9\"}, \"formatter\": {\"type\": \"BasicTickFormatter\", \"id\": \"2f204493-0281-43f7-a699-0daf17c7aa6b\"}, \"ticker\": {\"type\": \"BasicTicker\", \"id\": \"726478cd-239d-4132-acbe-0641ff6a785b\"}}, \"type\": \"LinearAxis\", \"id\": \"09930e51-7238-4f7e-a56c-6218eba408de\"}, {\"attributes\": {}, \"type\": \"BasicTicker\", \"id\": \"7fc8d209-f8ee-42f4-a16d-8a073e41e9fc\"}, {\"attributes\": {}, \"type\": \"BasicTicker\", \"id\": \"dbb452ce-7c9a-49ea-ac56-75fb443a0f94\"}, {\"attributes\": {\"plot\": {\"subtype\": \"Figure\", \"type\": \"Plot\", \"id\": \"c8b285f0-0af9-4f66-86e0-e837b0a068e6\"}, \"minor_tick_out\": 6, \"axis_line_color\": {\"value\": \"red\"}, \"minor_tick_in\": -3, \"axis_label\": \"Temp\", \"formatter\": {\"type\": \"BasicTickFormatter\", \"id\": \"007bff35-268b-46aa-ac58-85908b9b7a57\"}, \"ticker\": {\"type\": \"BasicTicker\", \"id\": \"d2c0684d-3271-497a-9fb7-2416a90a3985\"}, \"axis_line_width\": {\"value\": 3}}, \"type\": \"LinearAxis\", \"id\": \"e3dfeebc-eadb-46e9-b1f7-24cf8af38c2d\"}, {\"attributes\": {}, \"type\": \"BasicTickFormatter\", \"id\": \"3b6aac94-ca3c-4530-b066-82a3b39d5e54\"}, {\"attributes\": {\"plot\": {\"subtype\": \"Figure\", \"type\": \"Plot\", \"id\": \"9c50741d-c9fe-4923-9dbc-2ff916d93b14\"}}, \"type\": \"PanTool\", \"id\": \"a35a1d48-ae29-47f2-93a9-7acf26870aa4\"}, {\"attributes\": {\"plot\": {\"subtype\": \"Figure\", \"type\": \"Plot\", \"id\": \"9c50741d-c9fe-4923-9dbc-2ff916d93b14\"}, \"overlay\": {\"type\": \"BoxAnnotation\", \"id\": \"02a68ba4-a631-40f3-9c23-bfa9fa4262f4\"}}, \"type\": \"BoxZoomTool\", \"id\": \"81c11b71-d558-4831-89f0-a30af7d669e1\"}, {\"attributes\": {\"plot\": {\"subtype\": \"Figure\", \"type\": \"Plot\", \"id\": \"c8b285f0-0af9-4f66-86e0-e837b0a068e6\"}, \"ticker\": {\"type\": \"BasicTicker\", \"id\": \"d2c0684d-3271-497a-9fb7-2416a90a3985\"}}, \"type\": \"Grid\", \"id\": \"78aec0d1-6deb-410a-865d-93fb09bd1e1a\"}, {\"attributes\": {}, \"type\": \"BasicTickFormatter\", \"id\": \"f7071039-8368-43a7-aade-5eb37dc114c3\"}, {\"attributes\": {\"line_color\": {\"value\": \"#1f77b4\"}, \"line_alpha\": {\"value\": 0.1}, \"fill_color\": {\"value\": \"#1f77b4\"}, \"line_width\": {\"value\": 2}, \"fill_alpha\": {\"value\": 0.1}, \"y\": {\"field\": \"y\"}, \"x\": {\"field\": \"x\"}, \"size\": {\"units\": \"screen\", \"value\": 10}}, \"type\": \"X\", \"id\": \"1b48d27f-1f9d-4b9c-82a6-d74a95b34664\"}, {\"attributes\": {}, \"type\": \"ToolEvents\", \"id\": \"477de8d8-ff41-4673-b817-7127f781e235\"}, {\"attributes\": {\"line_color\": {\"value\": \"black\"}, \"line_alpha\": {\"value\": 1.0}, \"render_mode\": \"css\", \"bottom_units\": \"screen\", \"level\": \"overlay\", \"top_units\": \"screen\", \"fill_alpha\": {\"value\": 0.5}, \"plot\": null, \"left_units\": \"screen\", \"line_dash\": [4, 4], \"line_width\": {\"value\": 2}, \"right_units\": \"screen\", \"fill_color\": {\"value\": \"lightgrey\"}}, \"type\": \"BoxAnnotation\", \"id\": \"08180a5c-acae-4aa9-85d9-85b90932eeac\"}, {\"attributes\": {\"plot\": {\"subtype\": \"Figure\", \"type\": \"Plot\", \"id\": \"3e001435-68d4-46c8-b9c7-4680e52e57ac\"}}, \"type\": \"HelpTool\", \"id\": \"207e8890-c2ab-474c-96ac-6f6d3d7430d1\"}, {\"attributes\": {\"plot\": {\"subtype\": \"Figure\", \"type\": \"Plot\", \"id\": \"c8b285f0-0af9-4f66-86e0-e837b0a068e6\"}}, \"type\": \"ResetTool\", \"id\": \"30f8296c-5423-4e3c-a0c7-edfb631dea25\"}, {\"attributes\": {\"nonselection_glyph\": {\"type\": \"Asterisk\", \"id\": \"a3853aa1-3a9e-4586-8551-46d847d2df58\"}, \"data_source\": {\"type\": \"ColumnDataSource\", \"id\": \"65e9b6d1-cd77-466d-b24e-d29b5df9f3d4\"}, \"selection_glyph\": null, \"hover_glyph\": null, \"glyph\": {\"type\": \"Asterisk\", \"id\": \"e92fe008-95f7-431e-b3b5-67b045e37cd5\"}}, \"type\": \"GlyphRenderer\", \"id\": \"7c8c5e3f-613b-4b42-ac06-d44921b3a5a1\"}, {\"attributes\": {\"plot\": {\"subtype\": \"Figure\", \"type\": \"Plot\", \"id\": \"9c50741d-c9fe-4923-9dbc-2ff916d93b14\"}}, \"type\": \"PreviewSaveTool\", \"id\": \"ae2faae9-3185-41cf-a665-e6e1a9cad120\"}, {\"attributes\": {\"plot\": {\"subtype\": \"Figure\", \"type\": \"Plot\", \"id\": \"3e001435-68d4-46c8-b9c7-4680e52e57ac\"}, \"formatter\": {\"type\": \"BasicTickFormatter\", \"id\": \"c2a5c953-a536-45e9-a12a-50b926d34d59\"}, \"ticker\": {\"type\": \"BasicTicker\", \"id\": \"3973605d-0d68-4faf-8af7-f47412ca65d7\"}}, \"type\": \"LinearAxis\", \"id\": \"a675df65-593f-431e-98b8-9995c69d53ab\"}, {\"attributes\": {\"plot\": {\"subtype\": \"Figure\", \"type\": \"Plot\", \"id\": \"d344d720-6fcd-4555-a9c9-2dfb14979ea9\"}, \"overlay\": {\"type\": \"BoxAnnotation\", \"id\": \"60531ff1-fdd5-4333-99e0-5647d909adb4\"}}, \"type\": \"BoxZoomTool\", \"id\": \"df3cfcc5-4ca8-48e4-83f9-fddcec269dc0\"}, {\"attributes\": {\"plot\": {\"subtype\": \"Figure\", \"type\": \"Plot\", \"id\": \"d344d720-6fcd-4555-a9c9-2dfb14979ea9\"}}, \"type\": \"ResizeTool\", \"id\": \"e535159b-1e4e-49b6-8892-e351e8e4a07d\"}, {\"attributes\": {\"plot\": {\"subtype\": \"Figure\", \"type\": \"Plot\", \"id\": \"3c001830-f37b-4128-b170-dc8dd8865449\"}}, \"type\": \"PreviewSaveTool\", \"id\": \"a17e931e-a794-4bb9-a29c-bc86d44804aa\"}, {\"attributes\": {}, \"type\": \"BasicTicker\", \"id\": \"b4adcc9f-e844-4fb8-8a04-12213c3066cd\"}, {\"attributes\": {\"line_color\": {\"value\": \"black\"}, \"line_alpha\": {\"value\": 1.0}, \"render_mode\": \"css\", \"bottom_units\": \"screen\", \"level\": \"overlay\", \"top_units\": \"screen\", \"fill_alpha\": {\"value\": 0.5}, \"plot\": null, \"left_units\": \"screen\", \"line_dash\": [4, 4], \"line_width\": {\"value\": 2}, \"right_units\": \"screen\", \"fill_color\": {\"value\": \"lightgrey\"}}, \"type\": \"BoxAnnotation\", \"id\": \"edb16806-c20d-4ee8-b959-e5460b6228e1\"}, {\"attributes\": {\"plot\": {\"subtype\": \"Figure\", \"type\": \"Plot\", \"id\": \"9c50741d-c9fe-4923-9dbc-2ff916d93b14\"}, \"ticker\": {\"type\": \"BasicTicker\", \"id\": \"dbb452ce-7c9a-49ea-ac56-75fb443a0f94\"}}, \"type\": \"Grid\", \"id\": \"6ef6bf91-a531-49ed-aa9c-b5583b18ee8d\"}, {\"attributes\": {\"plot\": {\"subtype\": \"Figure\", \"type\": \"Plot\", \"id\": \"c8b285f0-0af9-4f66-86e0-e837b0a068e6\"}, \"ticker\": {\"type\": \"BasicTicker\", \"id\": \"ada32b76-7034-4b90-aba8-bd72963a0162\"}, \"dimension\": 1}, \"type\": \"Grid\", \"id\": \"e35e51de-6070-4b52-8f84-6991d29c56c8\"}, {\"attributes\": {\"callback\": null, \"column_names\": [\"y\", \"x\"], \"data\": {\"y\": [2, 5, 8, 2, 7], \"x\": [1, 2, 3, 4, 5]}}, \"type\": \"ColumnDataSource\", \"id\": \"66ca0b41-2e62-4eeb-bd59-fa946e5c7efd\"}, {\"attributes\": {\"plot\": {\"subtype\": \"Figure\", \"type\": \"Plot\", \"id\": \"9c50741d-c9fe-4923-9dbc-2ff916d93b14\"}}, \"type\": \"WheelZoomTool\", \"id\": \"a84b4d27-7dd7-4404-86f7-477b8fca7618\"}, {\"attributes\": {\"major_label_orientation\": \"vertical\", \"plot\": {\"subtype\": \"Figure\", \"type\": \"Plot\", \"id\": \"d344d720-6fcd-4555-a9c9-2dfb14979ea9\"}, \"formatter\": {\"type\": \"BasicTickFormatter\", \"id\": \"218503e5-88e1-4947-8496-856efb79b478\"}, \"ticker\": {\"type\": \"BasicTicker\", \"id\": \"b4adcc9f-e844-4fb8-8a04-12213c3066cd\"}}, \"type\": \"LinearAxis\", \"id\": \"e2ed4965-d67f-47ee-994a-84a9538dc03c\"}, {\"attributes\": {\"line_color\": {\"value\": \"#1f77b4\"}, \"line_alpha\": {\"value\": 0.1}, \"fill_color\": {\"value\": \"#1f77b4\"}, \"fill_alpha\": {\"value\": 0.1}, \"y\": {\"field\": \"y\"}, \"x\": {\"field\": \"x\"}, \"size\": {\"units\": \"screen\", \"value\": 10}}, \"type\": \"Circle\", \"id\": \"b985d2b4-7202-4984-bf72-f62ab566113e\"}, {\"attributes\": {\"plot\": {\"subtype\": \"Figure\", \"type\": \"Plot\", \"id\": \"d344d720-6fcd-4555-a9c9-2dfb14979ea9\"}}, \"type\": \"ResetTool\", \"id\": \"da9a487f-1f0f-47cd-a3fe-1f5ba4298240\"}, {\"attributes\": {\"plot\": {\"subtype\": \"Figure\", \"type\": \"Plot\", \"id\": \"d344d720-6fcd-4555-a9c9-2dfb14979ea9\"}}, \"type\": \"HelpTool\", \"id\": \"1f0edf1c-d9e3-4378-99a2-02fdae393041\"}, {\"attributes\": {\"plot\": {\"subtype\": \"Figure\", \"type\": \"Plot\", \"id\": \"c8b285f0-0af9-4f66-86e0-e837b0a068e6\"}}, \"type\": \"WheelZoomTool\", \"id\": \"dcad87cc-3f47-4b4d-af00-8df3cd686feb\"}, {\"attributes\": {\"plot\": {\"subtype\": \"Figure\", \"type\": \"Plot\", \"id\": \"3c001830-f37b-4128-b170-dc8dd8865449\"}, \"grid_line_dash\": [6, 4], \"grid_line_alpha\": {\"value\": 0.5}, \"ticker\": {\"type\": \"BasicTicker\", \"id\": \"3b6e5359-a27e-492b-9a28-d2f5e33982e9\"}, \"dimension\": 1}, \"type\": \"Grid\", \"id\": \"0821d2bc-2b78-43af-a4fe-002e9d480da3\"}, {\"attributes\": {}, \"type\": \"ToolEvents\", \"id\": \"00392aa8-2558-489b-9044-8bd5d658bac6\"}, {\"attributes\": {\"plot\": {\"subtype\": \"Figure\", \"type\": \"Plot\", \"id\": \"c8b285f0-0af9-4f66-86e0-e837b0a068e6\"}, \"minor_tick_out\": 6, \"minor_tick_in\": -3, \"major_label_text_color\": {\"value\": \"orange\"}, \"major_label_orientation\": \"vertical\", \"axis_label\": \"Pressure\", \"formatter\": {\"type\": \"BasicTickFormatter\", \"id\": \"f7071039-8368-43a7-aade-5eb37dc114c3\"}, \"ticker\": {\"type\": \"BasicTicker\", \"id\": \"ada32b76-7034-4b90-aba8-bd72963a0162\"}}, \"type\": \"LinearAxis\", \"id\": \"673e6435-73a7-40a0-a1a0-ee4aa6a1332f\"}, {\"attributes\": {}, \"type\": \"BasicTickFormatter\", \"id\": \"f08cad09-a12c-4972-bd1b-2cd1df6208d6\"}, {\"attributes\": {}, \"type\": \"ToolEvents\", \"id\": \"fa20bd23-2ad9-455a-bde0-e8cae59d43be\"}, {\"attributes\": {\"plot\": {\"subtype\": \"Figure\", \"type\": \"Plot\", \"id\": \"3c001830-f37b-4128-b170-dc8dd8865449\"}}, \"type\": \"HelpTool\", \"id\": \"e06c01a0-b417-4160-9218-e3e4db02e98c\"}, {\"attributes\": {\"plot\": {\"subtype\": \"Figure\", \"type\": \"Plot\", \"id\": \"9c50741d-c9fe-4923-9dbc-2ff916d93b14\"}, \"formatter\": {\"type\": \"BasicTickFormatter\", \"id\": \"f08cad09-a12c-4972-bd1b-2cd1df6208d6\"}, \"ticker\": {\"type\": \"BasicTicker\", \"id\": \"dbb452ce-7c9a-49ea-ac56-75fb443a0f94\"}}, \"type\": \"LinearAxis\", \"id\": \"acc2ed99-6ff3-4eb0-aae9-fe9db448fbd3\"}, {\"attributes\": {\"callback\": null}, \"type\": \"DataRange1d\", \"id\": \"1736141d-9a49-45e1-914f-b5c7e8cfae38\"}, {\"attributes\": {\"callback\": null}, \"type\": \"DataRange1d\", \"id\": \"4c262ec1-0662-41a6-b063-4152aa9367b6\"}, {\"attributes\": {}, \"type\": \"BasicTicker\", \"id\": \"726478cd-239d-4132-acbe-0641ff6a785b\"}, {\"attributes\": {\"callback\": null}, \"type\": \"DataRange1d\", \"id\": \"4e575005-3472-46a3-9b2e-5cf90518e2ad\"}, {\"attributes\": {\"line_color\": {\"value\": \"black\"}, \"line_alpha\": {\"value\": 1.0}, \"render_mode\": \"css\", \"bottom_units\": \"screen\", \"level\": \"overlay\", \"top_units\": \"screen\", \"fill_alpha\": {\"value\": 0.5}, \"plot\": null, \"left_units\": \"screen\", \"line_dash\": [4, 4], \"line_width\": {\"value\": 2}, \"right_units\": \"screen\", \"fill_color\": {\"value\": \"lightgrey\"}}, \"type\": \"BoxAnnotation\", \"id\": \"02a68ba4-a631-40f3-9c23-bfa9fa4262f4\"}, {\"attributes\": {\"callback\": null}, \"type\": \"DataRange1d\", \"id\": \"ae399fd8-38d9-409f-a4c5-9135d1fdff4c\"}, {\"attributes\": {}, \"type\": \"BasicTicker\", \"id\": \"d2c0684d-3271-497a-9fb7-2416a90a3985\"}, {\"attributes\": {\"callback\": null}, \"type\": \"DataRange1d\", \"id\": \"42f5d9e0-d0b3-4f1e-88c6-e50601175475\"}, {\"attributes\": {\"x_range\": {\"type\": \"DataRange1d\", \"id\": \"4f07eddd-25df-46b0-bf4a-82741261d033\"}, \"y_range\": {\"type\": \"DataRange1d\", \"id\": \"d6bd8fec-d82c-455a-9502-deb3b5d43497\"}, \"renderers\": [{\"type\": \"LinearAxis\", \"id\": \"aaafc43b-0721-495f-8313-22b2ca457fe2\"}, {\"type\": \"Grid\", \"id\": \"15c97f26-0227-4c04-a48a-4c8136e6bf79\"}, {\"type\": \"LinearAxis\", \"id\": \"a675df65-593f-431e-98b8-9995c69d53ab\"}, {\"type\": \"Grid\", \"id\": \"e345f775-94c4-4b91-8e8f-086ece1f5bae\"}, {\"type\": \"BoxAnnotation\", \"id\": \"edb16806-c20d-4ee8-b959-e5460b6228e1\"}, {\"type\": \"GlyphRenderer\", \"id\": \"e927f6db-94fb-4284-a7eb-d82190574e3c\"}], \"plot_width\": 400, \"below\": [{\"type\": \"LinearAxis\", \"id\": \"aaafc43b-0721-495f-8313-22b2ca457fe2\"}], \"tool_events\": {\"type\": \"ToolEvents\", \"id\": \"00392aa8-2558-489b-9044-8bd5d658bac6\"}, \"plot_height\": 400, \"tools\": [{\"type\": \"PanTool\", \"id\": \"43a5cdfe-68a4-48c2-b206-01663db2ca6b\"}, {\"type\": \"WheelZoomTool\", \"id\": \"92c65d67-fc2c-4b8a-9237-f6d9471b2dca\"}, {\"type\": \"BoxZoomTool\", \"id\": \"e644c620-7b94-4b5c-97fd-8808bf050d24\"}, {\"type\": \"PreviewSaveTool\", \"id\": \"5158f630-7016-4b5e-b921-bc1fcf2e30fb\"}, {\"type\": \"ResizeTool\", \"id\": \"42ad38d8-6879-4574-9517-6cf0ea4e0914\"}, {\"type\": \"ResetTool\", \"id\": \"f13c8045-5070-4128-913c-26edd2ba5daa\"}, {\"type\": \"HelpTool\", \"id\": \"207e8890-c2ab-474c-96ac-6f6d3d7430d1\"}], \"left\": [{\"type\": \"LinearAxis\", \"id\": \"a675df65-593f-431e-98b8-9995c69d53ab\"}]}, \"type\": \"Plot\", \"id\": \"3e001435-68d4-46c8-b9c7-4680e52e57ac\", \"subtype\": \"Figure\"}, {\"attributes\": {\"plot\": {\"subtype\": \"Figure\", \"type\": \"Plot\", \"id\": \"3c001830-f37b-4128-b170-dc8dd8865449\"}, \"formatter\": {\"type\": \"BasicTickFormatter\", \"id\": \"d2c98d6c-3b3b-47d9-890d-c63380685e01\"}, \"ticker\": {\"type\": \"BasicTicker\", \"id\": \"3b6e5359-a27e-492b-9a28-d2f5e33982e9\"}}, \"type\": \"LinearAxis\", \"id\": \"c87a6a16-4b34-403f-b5ce-2405b94473c6\"}, {\"attributes\": {\"nonselection_glyph\": {\"type\": \"Circle\", \"id\": \"29bdd8ae-667b-4db0-aa49-9de2b02e8fe8\"}, \"data_source\": {\"type\": \"ColumnDataSource\", \"id\": \"485d9ae1-f16a-4a91-a9bb-9bbc31bd62d5\"}, \"selection_glyph\": null, \"hover_glyph\": null, \"glyph\": {\"type\": \"Circle\", \"id\": \"729ac44c-713d-4aec-9fa7-f4e90fe4802d\"}}, \"type\": \"GlyphRenderer\", \"id\": \"784236a4-e7ca-4e39-86ff-6d62bcad7409\"}, {\"attributes\": {\"band_fill_color\": {\"value\": \"navy\"}, \"band_fill_alpha\": {\"value\": 0.1}, \"ticker\": {\"type\": \"BasicTicker\", \"id\": \"3973605d-0d68-4faf-8af7-f47412ca65d7\"}, \"dimension\": 1, \"plot\": {\"subtype\": \"Figure\", \"type\": \"Plot\", \"id\": \"3e001435-68d4-46c8-b9c7-4680e52e57ac\"}}, \"type\": \"Grid\", \"id\": \"e345f775-94c4-4b91-8e8f-086ece1f5bae\"}, {\"attributes\": {\"plot\": {\"subtype\": \"Figure\", \"type\": \"Plot\", \"id\": \"3c001830-f37b-4128-b170-dc8dd8865449\"}}, \"type\": \"PanTool\", \"id\": \"3b04ead2-66d7-4224-a3f2-3140af8f313b\"}, {\"attributes\": {\"plot\": {\"subtype\": \"Figure\", \"type\": \"Plot\", \"id\": \"3e001435-68d4-46c8-b9c7-4680e52e57ac\"}, \"overlay\": {\"type\": \"BoxAnnotation\", \"id\": \"edb16806-c20d-4ee8-b959-e5460b6228e1\"}}, \"type\": \"BoxZoomTool\", \"id\": \"e644c620-7b94-4b5c-97fd-8808bf050d24\"}, {\"attributes\": {\"line_color\": {\"value\": \"#1f77b4\"}, \"line_alpha\": {\"value\": 0.1}, \"fill_color\": {\"value\": \"#1f77b4\"}, \"fill_alpha\": {\"value\": 0.1}, \"y\": {\"field\": \"y\"}, \"x\": {\"field\": \"x\"}, \"size\": {\"units\": \"screen\", \"value\": 12}}, \"type\": \"Asterisk\", \"id\": \"a3853aa1-3a9e-4586-8551-46d847d2df58\"}, {\"attributes\": {\"plot\": {\"subtype\": \"Figure\", \"type\": \"Plot\", \"id\": \"3e001435-68d4-46c8-b9c7-4680e52e57ac\"}}, \"type\": \"ResizeTool\", \"id\": \"42ad38d8-6879-4574-9517-6cf0ea4e0914\"}, {\"attributes\": {\"plot\": {\"subtype\": \"Figure\", \"type\": \"Plot\", \"id\": \"c8b285f0-0af9-4f66-86e0-e837b0a068e6\"}}, \"type\": \"PanTool\", \"id\": \"9a28d93e-18f9-4658-b31e-d56ec627429e\"}, {\"attributes\": {\"plot\": {\"subtype\": \"Figure\", \"type\": \"Plot\", \"id\": \"d344d720-6fcd-4555-a9c9-2dfb14979ea9\"}}, \"type\": \"PreviewSaveTool\", \"id\": \"c915bbf4-e38f-452c-8d58-c85037a0b75a\"}, {\"attributes\": {}, \"type\": \"BasicTicker\", \"id\": \"d265ee12-8f9b-494a-82be-166bd4fea654\"}, {\"attributes\": {\"plot\": {\"subtype\": \"Figure\", \"type\": \"Plot\", \"id\": \"d344d720-6fcd-4555-a9c9-2dfb14979ea9\"}}, \"type\": \"PanTool\", \"id\": \"4ed5101d-70ed-4e0c-a77d-9f3ed1fd3b48\"}, {\"attributes\": {\"callback\": null, \"column_names\": [\"y\", \"x\"], \"data\": {\"y\": [2, 5, 8, 2, 7], \"x\": [1, 2, 3, 4, 5]}}, \"type\": \"ColumnDataSource\", \"id\": \"08f34e73-1a4b-419a-a434-29a6bd8df4cb\"}, {\"attributes\": {\"outline_line_width\": {\"value\": 7}, \"x_range\": {\"type\": \"DataRange1d\", \"id\": \"0663b3e5-7953-465c-b6d2-df6ca31c6942\"}, \"outline_line_alpha\": {\"value\": 0.3}, \"y_range\": {\"type\": \"DataRange1d\", \"id\": \"4e575005-3472-46a3-9b2e-5cf90518e2ad\"}, \"outline_line_color\": {\"value\": \"navy\"}, \"plot_width\": 400, \"renderers\": [{\"type\": \"LinearAxis\", \"id\": \"acc2ed99-6ff3-4eb0-aae9-fe9db448fbd3\"}, {\"type\": \"Grid\", \"id\": \"6ef6bf91-a531-49ed-aa9c-b5583b18ee8d\"}, {\"type\": \"LinearAxis\", \"id\": \"e56a23c6-2607-460d-9bd8-fcba80c55771\"}, {\"type\": \"Grid\", \"id\": \"183fb0ab-3841-4586-93a2-a4f4ac3eed15\"}, {\"type\": \"BoxAnnotation\", \"id\": \"02a68ba4-a631-40f3-9c23-bfa9fa4262f4\"}, {\"type\": \"GlyphRenderer\", \"id\": \"90234217-5ff6-42c5-beee-8ce9bc2d9511\"}], \"below\": [{\"type\": \"LinearAxis\", \"id\": \"acc2ed99-6ff3-4eb0-aae9-fe9db448fbd3\"}], \"tool_events\": {\"type\": \"ToolEvents\", \"id\": \"fa20bd23-2ad9-455a-bde0-e8cae59d43be\"}, \"plot_height\": 400, \"tools\": [{\"type\": \"PanTool\", \"id\": \"a35a1d48-ae29-47f2-93a9-7acf26870aa4\"}, {\"type\": \"WheelZoomTool\", \"id\": \"a84b4d27-7dd7-4404-86f7-477b8fca7618\"}, {\"type\": \"BoxZoomTool\", \"id\": \"81c11b71-d558-4831-89f0-a30af7d669e1\"}, {\"type\": \"PreviewSaveTool\", \"id\": \"ae2faae9-3185-41cf-a665-e6e1a9cad120\"}, {\"type\": \"ResizeTool\", \"id\": \"82821871-7f2d-4e4e-81f0-73fc2d8dd05c\"}, {\"type\": \"ResetTool\", \"id\": \"1562277d-7974-4baa-994e-2160431705ea\"}, {\"type\": \"HelpTool\", \"id\": \"4f02d712-b510-49f7-b27c-953ed6362726\"}], \"left\": [{\"type\": \"LinearAxis\", \"id\": \"e56a23c6-2607-460d-9bd8-fcba80c55771\"}]}, \"type\": \"Plot\", \"id\": \"9c50741d-c9fe-4923-9dbc-2ff916d93b14\", \"subtype\": \"Figure\"}, {\"attributes\": {\"plot\": {\"subtype\": \"Figure\", \"type\": \"Plot\", \"id\": \"3c001830-f37b-4128-b170-dc8dd8865449\"}}, \"type\": \"WheelZoomTool\", \"id\": \"212d1ed9-5dce-4cdb-9e54-4c461d7bb785\"}, {\"attributes\": {}, \"type\": \"BasicTickFormatter\", \"id\": \"d2c98d6c-3b3b-47d9-890d-c63380685e01\"}, {\"attributes\": {\"plot\": {\"subtype\": \"Figure\", \"type\": \"Plot\", \"id\": \"9c50741d-c9fe-4923-9dbc-2ff916d93b14\"}}, \"type\": \"HelpTool\", \"id\": \"4f02d712-b510-49f7-b27c-953ed6362726\"}, {\"attributes\": {}, \"type\": \"BasicTicker\", \"id\": \"b730f5a7-b929-4ca3-bb17-e84b38149c26\"}, {\"attributes\": {\"line_color\": {\"value\": \"black\"}, \"line_alpha\": {\"value\": 1.0}, \"render_mode\": \"css\", \"bottom_units\": \"screen\", \"level\": \"overlay\", \"top_units\": \"screen\", \"fill_alpha\": {\"value\": 0.5}, \"plot\": null, \"left_units\": \"screen\", \"line_dash\": [4, 4], \"line_width\": {\"value\": 2}, \"right_units\": \"screen\", \"fill_color\": {\"value\": \"lightgrey\"}}, \"type\": \"BoxAnnotation\", \"id\": \"60531ff1-fdd5-4333-99e0-5647d909adb4\"}, {\"attributes\": {}, \"type\": \"BasicTickFormatter\", \"id\": \"2f204493-0281-43f7-a699-0daf17c7aa6b\"}, {\"attributes\": {\"line_color\": {\"value\": \"olive\"}, \"x\": {\"field\": \"x\"}, \"y\": {\"field\": \"y\"}, \"fill_color\": {\"value\": \"olive\"}, \"size\": {\"units\": \"screen\", \"value\": 12}}, \"type\": \"Asterisk\", \"id\": \"e92fe008-95f7-431e-b3b5-67b045e37cd5\"}, {\"attributes\": {\"plot\": {\"subtype\": \"Figure\", \"type\": \"Plot\", \"id\": \"9c50741d-c9fe-4923-9dbc-2ff916d93b14\"}, \"ticker\": {\"type\": \"BasicTicker\", \"id\": \"b730f5a7-b929-4ca3-bb17-e84b38149c26\"}, \"dimension\": 1}, \"type\": \"Grid\", \"id\": \"183fb0ab-3841-4586-93a2-a4f4ac3eed15\"}, {\"attributes\": {\"plot\": {\"subtype\": \"Figure\", \"type\": \"Plot\", \"id\": \"d344d720-6fcd-4555-a9c9-2dfb14979ea9\"}, \"ticker\": {\"type\": \"BasicTicker\", \"id\": \"b4adcc9f-e844-4fb8-8a04-12213c3066cd\"}, \"dimension\": 1}, \"type\": \"Grid\", \"id\": \"31ec6682-23a2-4b37-83c5-65e0d875c7bc\"}, {\"attributes\": {}, \"type\": \"BasicTickFormatter\", \"id\": \"2fec70c5-a0cb-43de-b95e-33c9596f25c8\"}, {\"attributes\": {}, \"type\": \"BasicTickFormatter\", \"id\": \"007bff35-268b-46aa-ac58-85908b9b7a57\"}, {\"attributes\": {\"callback\": null}, \"type\": \"DataRange1d\", \"id\": \"86cf9d1a-d1d3-47a7-9dc7-e5bb293f3986\"}, {\"attributes\": {\"line_color\": {\"value\": \"#1f77b4\"}, \"line_width\": {\"value\": 2}, \"fill_color\": {\"value\": \"#1f77b4\"}, \"y\": {\"field\": \"y\"}, \"x\": {\"field\": \"x\"}, \"size\": {\"units\": \"screen\", \"value\": 10}}, \"type\": \"X\", \"id\": \"9c8d1824-c8a0-4bed-a783-f223fc7f18f1\"}, {\"attributes\": {\"nonselection_glyph\": {\"type\": \"Circle\", \"id\": \"b985d2b4-7202-4984-bf72-f62ab566113e\"}, \"data_source\": {\"type\": \"ColumnDataSource\", \"id\": \"66ca0b41-2e62-4eeb-bd59-fa946e5c7efd\"}, \"selection_glyph\": null, \"hover_glyph\": null, \"glyph\": {\"type\": \"Circle\", \"id\": \"6bc69132-a4df-4eaa-b1af-ababfb85d929\"}}, \"type\": \"GlyphRenderer\", \"id\": \"90234217-5ff6-42c5-beee-8ce9bc2d9511\"}, {\"attributes\": {}, \"type\": \"ToolEvents\", \"id\": \"171f80dc-59e6-4e7e-8e7c-dc9659f0613e\"}, {\"attributes\": {\"plot\": {\"subtype\": \"Figure\", \"type\": \"Plot\", \"id\": \"3c001830-f37b-4128-b170-dc8dd8865449\"}, \"grid_line_color\": {\"value\": null}, \"ticker\": {\"type\": \"BasicTicker\", \"id\": \"7fc8d209-f8ee-42f4-a16d-8a073e41e9fc\"}}, \"type\": \"Grid\", \"id\": \"0cefef30-1c2b-4376-a805-b396748feeab\"}, {\"attributes\": {\"x_range\": {\"type\": \"DataRange1d\", \"id\": \"86cf9d1a-d1d3-47a7-9dc7-e5bb293f3986\"}, \"y_range\": {\"type\": \"DataRange1d\", \"id\": \"85a992eb-408f-4f3a-b6cb-eba2216d138d\"}, \"renderers\": [{\"type\": \"LinearAxis\", \"id\": \"e3dfeebc-eadb-46e9-b1f7-24cf8af38c2d\"}, {\"type\": \"Grid\", \"id\": \"78aec0d1-6deb-410a-865d-93fb09bd1e1a\"}, {\"type\": \"LinearAxis\", \"id\": \"673e6435-73a7-40a0-a1a0-ee4aa6a1332f\"}, {\"type\": \"Grid\", \"id\": \"e35e51de-6070-4b52-8f84-6991d29c56c8\"}, {\"type\": \"BoxAnnotation\", \"id\": \"9bc9d770-4e0d-4ef0-9bbc-bb01186f378c\"}, {\"type\": \"GlyphRenderer\", \"id\": \"7c8c5e3f-613b-4b42-ac06-d44921b3a5a1\"}], \"plot_width\": 400, \"below\": [{\"type\": \"LinearAxis\", \"id\": \"e3dfeebc-eadb-46e9-b1f7-24cf8af38c2d\"}], \"tool_events\": {\"type\": \"ToolEvents\", \"id\": \"a111e421-8edc-40ce-8e78-b2e18900674d\"}, \"plot_height\": 400, \"tools\": [{\"type\": \"PanTool\", \"id\": \"9a28d93e-18f9-4658-b31e-d56ec627429e\"}, {\"type\": \"WheelZoomTool\", \"id\": \"dcad87cc-3f47-4b4d-af00-8df3cd686feb\"}, {\"type\": \"BoxZoomTool\", \"id\": \"bd8df307-b5a1-4e06-8226-2aa6715fe568\"}, {\"type\": \"PreviewSaveTool\", \"id\": \"9b9c3797-fc29-44f3-9324-64af8a930ac4\"}, {\"type\": \"ResizeTool\", \"id\": \"ec751161-1d1f-4621-997d-fe8a5e228427\"}, {\"type\": \"ResetTool\", \"id\": \"30f8296c-5423-4e3c-a0c7-edfb631dea25\"}, {\"type\": \"HelpTool\", \"id\": \"bf00296e-5e6e-4f53-8783-62149bc3166d\"}], \"left\": [{\"type\": \"LinearAxis\", \"id\": \"673e6435-73a7-40a0-a1a0-ee4aa6a1332f\"}]}, \"type\": \"Plot\", \"id\": \"c8b285f0-0af9-4f66-86e0-e837b0a068e6\", \"subtype\": \"Figure\"}, {\"attributes\": {\"callback\": null, \"column_names\": [\"y\", \"x\"], \"data\": {\"y\": [2, 5, 8, 2, 7], \"x\": [1, 2, 3, 4, 5]}}, \"type\": \"ColumnDataSource\", \"id\": \"485d9ae1-f16a-4a91-a9bb-9bbc31bd62d5\"}, {\"attributes\": {\"plot\": {\"subtype\": \"Figure\", \"type\": \"Plot\", \"id\": \"3e001435-68d4-46c8-b9c7-4680e52e57ac\"}}, \"type\": \"ResetTool\", \"id\": \"f13c8045-5070-4128-913c-26edd2ba5daa\"}, {\"attributes\": {\"callback\": null}, \"type\": \"DataRange1d\", \"id\": \"d6bd8fec-d82c-455a-9502-deb3b5d43497\"}, {\"attributes\": {\"plot\": {\"subtype\": \"Figure\", \"type\": \"Plot\", \"id\": \"c8b285f0-0af9-4f66-86e0-e837b0a068e6\"}, \"overlay\": {\"type\": \"BoxAnnotation\", \"id\": \"9bc9d770-4e0d-4ef0-9bbc-bb01186f378c\"}}, \"type\": \"BoxZoomTool\", \"id\": \"bd8df307-b5a1-4e06-8226-2aa6715fe568\"}, {\"attributes\": {\"line_color\": {\"value\": \"#1f77b4\"}, \"x\": {\"field\": \"x\"}, \"y\": {\"field\": \"y\"}, \"fill_color\": {\"value\": \"#1f77b4\"}, \"size\": {\"units\": \"screen\", \"value\": 10}}, \"type\": \"Circle\", \"id\": \"729ac44c-713d-4aec-9fa7-f4e90fe4802d\"}, {\"attributes\": {}, \"type\": \"BasicTicker\", \"id\": \"3973605d-0d68-4faf-8af7-f47412ca65d7\"}, {\"attributes\": {\"plot\": {\"subtype\": \"Figure\", \"type\": \"Plot\", \"id\": \"3e001435-68d4-46c8-b9c7-4680e52e57ac\"}}, \"type\": \"PanTool\", \"id\": \"43a5cdfe-68a4-48c2-b206-01663db2ca6b\"}, {\"attributes\": {}, \"type\": \"BasicTickFormatter\", \"id\": \"c2a5c953-a536-45e9-a12a-50b926d34d59\"}, {\"attributes\": {\"callback\": null, \"column_names\": [\"y\", \"x\"], \"data\": {\"y\": [2, 5, 8, 2, 7], \"x\": [1, 2, 3, 4, 5]}}, \"type\": \"ColumnDataSource\", \"id\": \"65e9b6d1-cd77-466d-b24e-d29b5df9f3d4\"}, {\"attributes\": {\"plot\": {\"subtype\": \"Figure\", \"type\": \"Plot\", \"id\": \"3c001830-f37b-4128-b170-dc8dd8865449\"}}, \"type\": \"ResetTool\", \"id\": \"979290e7-58fb-4cc3-a394-adc6645fad7b\"}, {\"attributes\": {\"callback\": null}, \"type\": \"DataRange1d\", \"id\": \"4f07eddd-25df-46b0-bf4a-82741261d033\"}, {\"attributes\": {\"plot\": {\"subtype\": \"Figure\", \"type\": \"Plot\", \"id\": \"c8b285f0-0af9-4f66-86e0-e837b0a068e6\"}}, \"type\": \"ResizeTool\", \"id\": \"ec751161-1d1f-4621-997d-fe8a5e228427\"}, {\"attributes\": {}, \"type\": \"BasicTicker\", \"id\": \"ada32b76-7034-4b90-aba8-bd72963a0162\"}, {\"attributes\": {\"callback\": null}, \"type\": \"DataRange1d\", \"id\": \"85a992eb-408f-4f3a-b6cb-eba2216d138d\"}, {\"attributes\": {\"nonselection_glyph\": {\"type\": \"X\", \"id\": \"1b48d27f-1f9d-4b9c-82a6-d74a95b34664\"}, \"data_source\": {\"type\": \"ColumnDataSource\", \"id\": \"08f34e73-1a4b-419a-a434-29a6bd8df4cb\"}, \"selection_glyph\": null, \"hover_glyph\": null, \"glyph\": {\"type\": \"X\", \"id\": \"9c8d1824-c8a0-4bed-a783-f223fc7f18f1\"}}, \"type\": \"GlyphRenderer\", \"id\": \"264dbbb5-4618-44ab-8df6-dc1002586a6a\"}, {\"attributes\": {\"x_range\": {\"type\": \"DataRange1d\", \"id\": \"4c262ec1-0662-41a6-b063-4152aa9367b6\"}, \"y_range\": {\"type\": \"DataRange1d\", \"id\": \"42f5d9e0-d0b3-4f1e-88c6-e50601175475\"}, \"renderers\": [{\"type\": \"LinearAxis\", \"id\": \"09930e51-7238-4f7e-a56c-6218eba408de\"}, {\"type\": \"Grid\", \"id\": \"0ba7084b-6f4e-4f70-a601-9d50f1afa06f\"}, {\"type\": \"LinearAxis\", \"id\": \"e2ed4965-d67f-47ee-994a-84a9538dc03c\"}, {\"type\": \"Grid\", \"id\": \"31ec6682-23a2-4b37-83c5-65e0d875c7bc\"}, {\"type\": \"BoxAnnotation\", \"id\": \"60531ff1-fdd5-4333-99e0-5647d909adb4\"}, {\"type\": \"GlyphRenderer\", \"id\": \"264dbbb5-4618-44ab-8df6-dc1002586a6a\"}], \"plot_width\": 400, \"below\": [{\"type\": \"LinearAxis\", \"id\": \"09930e51-7238-4f7e-a56c-6218eba408de\"}], \"tool_events\": {\"type\": \"ToolEvents\", \"id\": \"171f80dc-59e6-4e7e-8e7c-dc9659f0613e\"}, \"plot_height\": 400, \"tools\": [{\"type\": \"PanTool\", \"id\": \"4ed5101d-70ed-4e0c-a77d-9f3ed1fd3b48\"}, {\"type\": \"WheelZoomTool\", \"id\": \"47c2e5f5-38d8-4bee-b564-e8c3977b7a27\"}, {\"type\": \"BoxZoomTool\", \"id\": \"df3cfcc5-4ca8-48e4-83f9-fddcec269dc0\"}, {\"type\": \"PreviewSaveTool\", \"id\": \"c915bbf4-e38f-452c-8d58-c85037a0b75a\"}, {\"type\": \"ResizeTool\", \"id\": \"e535159b-1e4e-49b6-8892-e351e8e4a07d\"}, {\"type\": \"ResetTool\", \"id\": \"da9a487f-1f0f-47cd-a3fe-1f5ba4298240\"}, {\"type\": \"HelpTool\", \"id\": \"1f0edf1c-d9e3-4378-99a2-02fdae393041\"}], \"left\": [{\"type\": \"LinearAxis\", \"id\": \"e2ed4965-d67f-47ee-994a-84a9538dc03c\"}]}, \"type\": \"Plot\", \"id\": \"d344d720-6fcd-4555-a9c9-2dfb14979ea9\", \"subtype\": \"Figure\"}, {\"attributes\": {}, \"type\": \"ToolEvents\", \"id\": \"a111e421-8edc-40ce-8e78-b2e18900674d\"}, {\"attributes\": {\"plot\": {\"subtype\": \"Figure\", \"type\": \"Plot\", \"id\": \"3c001830-f37b-4128-b170-dc8dd8865449\"}}, \"type\": \"ResizeTool\", \"id\": \"1c91eaca-14c4-4a45-8095-842961afaa60\"}, {\"attributes\": {\"line_color\": {\"value\": \"#1f77b4\"}, \"x\": {\"field\": \"x\"}, \"y\": {\"field\": \"y\"}, \"fill_color\": {\"value\": \"#1f77b4\"}, \"size\": {\"units\": \"screen\", \"value\": 10}}, \"type\": \"Circle\", \"id\": \"1d722cbd-328a-4be4-aaa3-77bd1e6072d2\"}, {\"attributes\": {\"plot\": {\"subtype\": \"Figure\", \"type\": \"Plot\", \"id\": \"c8b285f0-0af9-4f66-86e0-e837b0a068e6\"}}, \"type\": \"HelpTool\", \"id\": \"bf00296e-5e6e-4f53-8783-62149bc3166d\"}, {\"attributes\": {\"line_color\": {\"value\": \"#1f77b4\"}, \"x\": {\"field\": \"x\"}, \"y\": {\"field\": \"y\"}, \"fill_color\": {\"value\": \"#1f77b4\"}, \"size\": {\"units\": \"screen\", \"value\": 10}}, \"type\": \"Circle\", \"id\": \"6bc69132-a4df-4eaa-b1af-ababfb85d929\"}, {\"attributes\": {\"plot\": {\"subtype\": \"Figure\", \"type\": \"Plot\", \"id\": \"9c50741d-c9fe-4923-9dbc-2ff916d93b14\"}}, \"type\": \"ResetTool\", \"id\": \"1562277d-7974-4baa-994e-2160431705ea\"}, {\"attributes\": {\"plot\": {\"subtype\": \"Figure\", \"type\": \"Plot\", \"id\": \"9c50741d-c9fe-4923-9dbc-2ff916d93b14\"}}, \"type\": \"ResizeTool\", \"id\": \"82821871-7f2d-4e4e-81f0-73fc2d8dd05c\"}, {\"attributes\": {\"callback\": null}, \"type\": \"DataRange1d\", \"id\": \"0663b3e5-7953-465c-b6d2-df6ca31c6942\"}, {\"attributes\": {\"line_color\": {\"value\": \"black\"}, \"line_alpha\": {\"value\": 1.0}, \"render_mode\": \"css\", \"bottom_units\": \"screen\", \"level\": \"overlay\", \"top_units\": \"screen\", \"fill_alpha\": {\"value\": 0.5}, \"plot\": null, \"left_units\": \"screen\", \"line_dash\": [4, 4], \"line_width\": {\"value\": 2}, \"right_units\": \"screen\", \"fill_color\": {\"value\": \"lightgrey\"}}, \"type\": \"BoxAnnotation\", \"id\": \"9bc9d770-4e0d-4ef0-9bbc-bb01186f378c\"}]}, \"title\": \"Bokeh Application\"}};\n",
       "            var render_items = [{\"notebook_comms_target\": \"89d5656d-a944-47fd-b4c9-652201e34ce9\", \"docid\": \"9bd779b5-6726-4821-b6fd-50e3ff7a4532\", \"elementid\": \"cd51b91b-70f3-442b-8ef7-c04b0f333b3f\", \"modelid\": \"3e001435-68d4-46c8-b9c7-4680e52e57ac\"}];\n",
       "            \n",
       "            Bokeh.embed.embed_items(docs_json, render_items);\n",
       "        });\n",
       "      },\n",
       "      function(Bokeh) {\n",
       "      }\n",
       "    ];\n",
       "  \n",
       "    function run_inline_js() {\n",
       "      for (var i = 0; i < inline_js.length; i++) {\n",
       "        inline_js[i](window.Bokeh);\n",
       "      }\n",
       "    }\n",
       "  \n",
       "    if (window._bokeh_is_loading === 0) {\n",
       "      console.log(\"Bokeh: BokehJS loaded, going straight to plotting\");\n",
       "      run_inline_js();\n",
       "    } else {\n",
       "      load_libs(js_urls, function() {\n",
       "        console.log(\"Bokeh: BokehJS plotting callback run at\", now());\n",
       "        run_inline_js();\n",
       "      });\n",
       "    }\n",
       "  }(this));\n",
       "</script>"
      ]
     },
     "metadata": {},
     "output_type": "display_data"
    },
    {
     "data": {
      "text/plain": [
       "<bokeh.io._CommsHandle at 0x7f1d9ea7f1d0>"
      ]
     },
     "execution_count": 10,
     "metadata": {},
     "output_type": "execute_result"
    }
   ],
   "source": [
    "p = figure(plot_width=400, plot_height=400)\n",
    "p.circle([1,2,3,4,5], [2,5,8,2,7], size=10)\n",
    "\n",
    "# change just some things about the x-grid\n",
    "p.xgrid.grid_line_color = None\n",
    "\n",
    "# change just some things about the y-grid\n",
    "p.ygrid.band_fill_alpha = 0.1\n",
    "p.ygrid.band_fill_color = \"navy\"\n",
    "\n",
    "show(p)"
   ]
  },
  {
   "cell_type": "code",
   "execution_count": 11,
   "metadata": {
    "collapsed": true
   },
   "outputs": [],
   "source": [
    "# EXERCISE Create a plot of your own and customize several grid properties\n",
    "\n"
   ]
  },
  {
   "cell_type": "markdown",
   "metadata": {},
   "source": [
    "# Legends\n",
    "\n",
    "[Legends](http://bokeh.pydata.org/en/latest/docs/user_guide/styling.html#legends)"
   ]
  },
  {
   "cell_type": "code",
   "execution_count": 12,
   "metadata": {
    "collapsed": false
   },
   "outputs": [
    {
     "name": "stderr",
     "output_type": "stream",
     "text": [
      "/home/shukla/anaconda2/envs/bokeh_tutorial/lib/python2.7/site-packages/bokeh/core/properties.py:714: BokehDeprecationWarning: bokeh.models.annotations.orientation was deprecated in Bokeh 0.11; please use Legend.location instead\n",
      "  super(HasProps, self).__setattr__(name, value)\n"
     ]
    },
    {
     "data": {
      "text/html": [
       "\n",
       "\n",
       "    <div class=\"plotdiv\" id=\"b388109f-f299-4a50-8ba9-b65cc057af81\"></div>\n",
       "<script type=\"text/javascript\">\n",
       "  \n",
       "  (function(global) {\n",
       "    function now() {\n",
       "      return new Date();\n",
       "    }\n",
       "  \n",
       "    if (typeof (window._bokeh_onload_callbacks) === \"undefined\") {\n",
       "      window._bokeh_onload_callbacks = [];\n",
       "    }\n",
       "  \n",
       "    function run_callbacks() {\n",
       "      window._bokeh_onload_callbacks.forEach(function(callback) { callback() });\n",
       "      delete window._bokeh_onload_callbacks\n",
       "      console.info(\"Bokeh: all callbacks have finished\");\n",
       "    }\n",
       "  \n",
       "    function load_libs(js_urls, callback) {\n",
       "      window._bokeh_onload_callbacks.push(callback);\n",
       "      if (window._bokeh_is_loading > 0) {\n",
       "        console.log(\"Bokeh: BokehJS is being loaded, scheduling callback at\", now());\n",
       "        return null;\n",
       "      }\n",
       "      if (js_urls == null || js_urls.length === 0) {\n",
       "        run_callbacks();\n",
       "        return null;\n",
       "      }\n",
       "      console.log(\"Bokeh: BokehJS not loaded, scheduling load and callback at\", now());\n",
       "      window._bokeh_is_loading = js_urls.length;\n",
       "      for (var i = 0; i < js_urls.length; i++) {\n",
       "        var url = js_urls[i];\n",
       "        var s = document.createElement('script');\n",
       "        s.src = url;\n",
       "        s.async = false;\n",
       "        s.onreadystatechange = s.onload = function() {\n",
       "          window._bokeh_is_loading--;\n",
       "          if (window._bokeh_is_loading === 0) {\n",
       "            console.log(\"Bokeh: all BokehJS libraries loaded\");\n",
       "            run_callbacks()\n",
       "          }\n",
       "        };\n",
       "        s.onerror = function() {\n",
       "          console.warn(\"failed to load library \" + url);\n",
       "        };\n",
       "        console.log(\"Bokeh: injecting script tag for BokehJS library: \", url);\n",
       "        document.getElementsByTagName(\"head\")[0].appendChild(s);\n",
       "      }\n",
       "    };var element = document.getElementById(\"b388109f-f299-4a50-8ba9-b65cc057af81\");\n",
       "    if (element == null) {\n",
       "      console.log(\"Bokeh: ERROR: autoload.js configured with elementid 'b388109f-f299-4a50-8ba9-b65cc057af81' but no matching script tag was found. \")\n",
       "      return false;\n",
       "    }var js_urls = [];\n",
       "  \n",
       "    var inline_js = [\n",
       "      function(Bokeh) {\n",
       "        Bokeh.$(function() {\n",
       "            var docs_json = {\"48ffea3e-e2c8-4bda-a18c-784639fae141\": {\"version\": \"0.11.0\", \"roots\": {\"root_ids\": [\"9c50741d-c9fe-4923-9dbc-2ff916d93b14\", \"d344d720-6fcd-4555-a9c9-2dfb14979ea9\", \"c8b285f0-0af9-4f66-86e0-e837b0a068e6\", \"3c001830-f37b-4128-b170-dc8dd8865449\", \"3e001435-68d4-46c8-b9c7-4680e52e57ac\", \"d57d7cfb-2a5a-4f79-b999-29ca45562b25\"], \"references\": [{\"attributes\": {\"plot\": {\"subtype\": \"Figure\", \"type\": \"Plot\", \"id\": \"c8b285f0-0af9-4f66-86e0-e837b0a068e6\"}}, \"type\": \"PreviewSaveTool\", \"id\": \"9b9c3797-fc29-44f3-9324-64af8a930ac4\"}, {\"attributes\": {\"callback\": null}, \"type\": \"DataRange1d\", \"id\": \"ae399fd8-38d9-409f-a4c5-9135d1fdff4c\"}, {\"attributes\": {}, \"type\": \"BasicTicker\", \"id\": \"3b6e5359-a27e-492b-9a28-d2f5e33982e9\"}, {\"attributes\": {\"line_color\": {\"value\": \"#1f77b4\"}, \"line_alpha\": {\"value\": 0.1}, \"fill_color\": {\"value\": \"#1f77b4\"}, \"fill_alpha\": {\"value\": 0.1}, \"y\": {\"field\": \"y\"}, \"x\": {\"field\": \"x\"}, \"size\": {\"units\": \"screen\", \"value\": 10}}, \"type\": \"Circle\", \"id\": \"6e815597-8f0e-4667-b51d-e1edbbf0baf8\"}, {\"attributes\": {\"callback\": null, \"column_names\": [\"y\", \"x\"], \"data\": {\"y\": [0.0, 0.12659245357374926, 0.2511479871810792, 0.3716624556603276, 0.4861967361004687, 0.5929079290546404, 0.690079011482112, 0.7761464642917568, 0.8497254299495144, 0.9096319953545183, 0.9549022414440739, 0.984807753012208, 0.998867339183008, 0.9968547759519424, 0.9788024462147787, 0.9450008187146685, 0.8959937742913359, 0.8325698546347714, 0.7557495743542583, 0.6667690005162917, 0.5670598638627709, 0.4582265217274105, 0.3420201433256689, 0.2203105327865408, 0.09505604330418244, -0.03172793349806786, -0.15800139597335008, -0.28173255684142984, -0.4009305354066138, -0.5136773915734064, -0.6181589862206053, -0.7126941713788629, -0.7957618405308321, -0.8660254037844388, -0.9223542941045814, -0.9638421585599422, -0.9898214418809327, -0.9998741276738751, -0.9938384644612541, -0.9718115683235417, -0.9341478602651068, -0.881453363447582, -0.8145759520503358, -0.7345917086575332, -0.6427876096865396, -0.5406408174555974, -0.4297949120891719, -0.31203344569848707, -0.18925124436040974, -0.06342391965656452, 0.06342391965656492, 0.18925124436041013, 0.31203344569848745, 0.4297949120891715, 0.5406408174555978, 0.6427876096865391, 0.7345917086575334, 0.8145759520503356, 0.8814533634475821, 0.9341478602651067, 0.9718115683235418, 0.9938384644612541, 0.9998741276738751, 0.9898214418809328, 0.963842158559942, 0.9223542941045816, 0.8660254037844383, 0.7957618405308319, 0.7126941713788629, 0.6181589862206056, 0.5136773915734058, 0.40093053540661344, 0.2817325568414299, 0.15800139597335056, 0.03172793349806701, -0.09505604330418282, -0.22031053278654034, -0.342020143325668, -0.45822652172741085, -0.5670598638627707, -0.6667690005162913, -0.7557495743542588, -0.8325698546347716, -0.8959937742913359, -0.9450008187146683, -0.9788024462147789, -0.9968547759519424, -0.998867339183008, -0.9848077530122081, -0.9549022414440737, -0.9096319953545183, -0.8497254299495145, -0.7761464642917573, -0.6900790114821116, -0.5929079290546404, -0.48619673610046904, -0.3716624556603267, -0.2511479871810788, -0.1265924535737493, -4.898587196589413e-16], \"x\": [0.0, 0.12693303650867852, 0.25386607301735703, 0.3807991095260356, 0.5077321460347141, 0.6346651825433925, 0.7615982190520711, 0.8885312555607496, 1.0154642920694281, 1.1423973285781066, 1.269330365086785, 1.3962634015954636, 1.5231964381041423, 1.6501294746128208, 1.7770625111214993, 1.9039955476301778, 2.0309285841388562, 2.1578616206475347, 2.284794657156213, 2.4117276936648917, 2.53866073017357, 2.6655937666822487, 2.792526803190927, 2.9194598396996057, 3.0463928762082846, 3.173325912716963, 3.3002589492256416, 3.42719198573432, 3.5541250222429985, 3.681058058751677, 3.8079910952603555, 3.934924131769034, 4.0618571682777125, 4.188790204786391, 4.3157232412950695, 4.442656277803748, 4.569589314312426, 4.696522350821105, 4.823455387329783, 4.950388423838462, 5.07732146034714, 5.204254496855819, 5.331187533364497, 5.458120569873176, 5.585053606381854, 5.711986642890533, 5.838919679399211, 5.96585271590789, 6.092785752416569, 6.219718788925247, 6.346651825433926, 6.473584861942604, 6.600517898451283, 6.727450934959961, 6.85438397146864, 6.981317007977318, 7.108250044485997, 7.235183080994675, 7.362116117503354, 7.489049154012032, 7.615982190520711, 7.742915227029389, 7.869848263538068, 7.996781300046746, 8.123714336555425, 8.250647373064103, 8.377580409572783, 8.50451344608146, 8.631446482590139, 8.758379519098817, 8.885312555607497, 9.012245592116175, 9.139178628624853, 9.266111665133531, 9.39304470164221, 9.519977738150889, 9.646910774659567, 9.773843811168245, 9.900776847676925, 10.027709884185603, 10.15464292069428, 10.28157595720296, 10.408508993711639, 10.535442030220317, 10.662375066728995, 10.789308103237675, 10.916241139746353, 11.04317417625503, 11.170107212763709, 11.297040249272388, 11.423973285781067, 11.550906322289745, 11.677839358798423, 11.804772395307102, 11.93170543181578, 12.058638468324459, 12.185571504833138, 12.312504541341816, 12.439437577850494, 12.566370614359172]}}, \"type\": \"ColumnDataSource\", \"id\": \"3dd7d08d-b064-45f5-a0f5-d3efd0f27f3f\"}, {\"attributes\": {\"x_range\": {\"type\": \"DataRange1d\", \"id\": \"1736141d-9a49-45e1-914f-b5c7e8cfae38\"}, \"y_range\": {\"type\": \"DataRange1d\", \"id\": \"ae399fd8-38d9-409f-a4c5-9135d1fdff4c\"}, \"renderers\": [{\"type\": \"LinearAxis\", \"id\": \"ef3f6c8b-8b41-4f92-9d8b-31b96488caaf\"}, {\"type\": \"Grid\", \"id\": \"0cefef30-1c2b-4376-a805-b396748feeab\"}, {\"type\": \"LinearAxis\", \"id\": \"c87a6a16-4b34-403f-b5ce-2405b94473c6\"}, {\"type\": \"Grid\", \"id\": \"0821d2bc-2b78-43af-a4fe-002e9d480da3\"}, {\"type\": \"BoxAnnotation\", \"id\": \"08180a5c-acae-4aa9-85d9-85b90932eeac\"}, {\"type\": \"GlyphRenderer\", \"id\": \"784236a4-e7ca-4e39-86ff-6d62bcad7409\"}], \"plot_width\": 400, \"below\": [{\"type\": \"LinearAxis\", \"id\": \"ef3f6c8b-8b41-4f92-9d8b-31b96488caaf\"}], \"tool_events\": {\"type\": \"ToolEvents\", \"id\": \"477de8d8-ff41-4673-b817-7127f781e235\"}, \"plot_height\": 400, \"tools\": [{\"type\": \"PanTool\", \"id\": \"3b04ead2-66d7-4224-a3f2-3140af8f313b\"}, {\"type\": \"WheelZoomTool\", \"id\": \"212d1ed9-5dce-4cdb-9e54-4c461d7bb785\"}, {\"type\": \"BoxZoomTool\", \"id\": \"10526abd-96de-464a-833b-75dcba252215\"}, {\"type\": \"PreviewSaveTool\", \"id\": \"a17e931e-a794-4bb9-a29c-bc86d44804aa\"}, {\"type\": \"ResizeTool\", \"id\": \"1c91eaca-14c4-4a45-8095-842961afaa60\"}, {\"type\": \"ResetTool\", \"id\": \"979290e7-58fb-4cc3-a394-adc6645fad7b\"}, {\"type\": \"HelpTool\", \"id\": \"e06c01a0-b417-4160-9218-e3e4db02e98c\"}], \"left\": [{\"type\": \"LinearAxis\", \"id\": \"c87a6a16-4b34-403f-b5ce-2405b94473c6\"}]}, \"type\": \"Plot\", \"id\": \"3c001830-f37b-4128-b170-dc8dd8865449\", \"subtype\": \"Figure\"}, {\"attributes\": {\"outline_line_width\": {\"value\": 7}, \"x_range\": {\"type\": \"DataRange1d\", \"id\": \"0663b3e5-7953-465c-b6d2-df6ca31c6942\"}, \"outline_line_alpha\": {\"value\": 0.3}, \"y_range\": {\"type\": \"DataRange1d\", \"id\": \"4e575005-3472-46a3-9b2e-5cf90518e2ad\"}, \"outline_line_color\": {\"value\": \"navy\"}, \"plot_width\": 400, \"renderers\": [{\"type\": \"LinearAxis\", \"id\": \"acc2ed99-6ff3-4eb0-aae9-fe9db448fbd3\"}, {\"type\": \"Grid\", \"id\": \"6ef6bf91-a531-49ed-aa9c-b5583b18ee8d\"}, {\"type\": \"LinearAxis\", \"id\": \"e56a23c6-2607-460d-9bd8-fcba80c55771\"}, {\"type\": \"Grid\", \"id\": \"183fb0ab-3841-4586-93a2-a4f4ac3eed15\"}, {\"type\": \"BoxAnnotation\", \"id\": \"02a68ba4-a631-40f3-9c23-bfa9fa4262f4\"}, {\"type\": \"GlyphRenderer\", \"id\": \"90234217-5ff6-42c5-beee-8ce9bc2d9511\"}], \"below\": [{\"type\": \"LinearAxis\", \"id\": \"acc2ed99-6ff3-4eb0-aae9-fe9db448fbd3\"}], \"tool_events\": {\"type\": \"ToolEvents\", \"id\": \"fa20bd23-2ad9-455a-bde0-e8cae59d43be\"}, \"plot_height\": 400, \"tools\": [{\"type\": \"PanTool\", \"id\": \"a35a1d48-ae29-47f2-93a9-7acf26870aa4\"}, {\"type\": \"WheelZoomTool\", \"id\": \"a84b4d27-7dd7-4404-86f7-477b8fca7618\"}, {\"type\": \"BoxZoomTool\", \"id\": \"81c11b71-d558-4831-89f0-a30af7d669e1\"}, {\"type\": \"PreviewSaveTool\", \"id\": \"ae2faae9-3185-41cf-a665-e6e1a9cad120\"}, {\"type\": \"ResizeTool\", \"id\": \"82821871-7f2d-4e4e-81f0-73fc2d8dd05c\"}, {\"type\": \"ResetTool\", \"id\": \"1562277d-7974-4baa-994e-2160431705ea\"}, {\"type\": \"HelpTool\", \"id\": \"4f02d712-b510-49f7-b27c-953ed6362726\"}], \"left\": [{\"type\": \"LinearAxis\", \"id\": \"e56a23c6-2607-460d-9bd8-fcba80c55771\"}]}, \"type\": \"Plot\", \"id\": \"9c50741d-c9fe-4923-9dbc-2ff916d93b14\", \"subtype\": \"Figure\"}, {\"attributes\": {\"plot\": {\"subtype\": \"Figure\", \"type\": \"Plot\", \"id\": \"3e001435-68d4-46c8-b9c7-4680e52e57ac\"}}, \"type\": \"PreviewSaveTool\", \"id\": \"5158f630-7016-4b5e-b921-bc1fcf2e30fb\"}, {\"attributes\": {\"plot\": {\"subtype\": \"Figure\", \"type\": \"Plot\", \"id\": \"d57d7cfb-2a5a-4f79-b999-29ca45562b25\"}, \"legends\": [[\"sin(x)\", [{\"type\": \"GlyphRenderer\", \"id\": \"2c4b93f4-1d04-4364-acf5-37aa8b7df0c3\"}, {\"type\": \"GlyphRenderer\", \"id\": \"b412575b-a2bd-4070-9057-81e90f5e6e67\"}]], [\"2*sin(x)\", [{\"type\": \"GlyphRenderer\", \"id\": \"f861b2b9-d217-44f5-8ed3-1e2c6c844bbf\"}]], [\"3*sin(x)\", [{\"type\": \"GlyphRenderer\", \"id\": \"32dc2ace-fd57-40c5-a739-54749c0baac4\"}, {\"type\": \"GlyphRenderer\", \"id\": \"5da25f2c-fb6b-48a9-a2a9-01de2f477bf6\"}]]], \"location\": \"bottom_left\"}, \"type\": \"Legend\", \"id\": \"00852f99-1711-4695-b1db-b2ff619be9ac\"}, {\"attributes\": {\"plot\": {\"subtype\": \"Figure\", \"type\": \"Plot\", \"id\": \"3e001435-68d4-46c8-b9c7-4680e52e57ac\"}}, \"type\": \"WheelZoomTool\", \"id\": \"92c65d67-fc2c-4b8a-9237-f6d9471b2dca\"}, {\"attributes\": {\"plot\": {\"subtype\": \"Figure\", \"type\": \"Plot\", \"id\": \"3c001830-f37b-4128-b170-dc8dd8865449\"}, \"formatter\": {\"type\": \"BasicTickFormatter\", \"id\": \"2fec70c5-a0cb-43de-b95e-33c9596f25c8\"}, \"ticker\": {\"type\": \"BasicTicker\", \"id\": \"7fc8d209-f8ee-42f4-a16d-8a073e41e9fc\"}}, \"type\": \"LinearAxis\", \"id\": \"ef3f6c8b-8b41-4f92-9d8b-31b96488caaf\"}, {\"attributes\": {\"callback\": null, \"column_names\": [\"y\", \"x\"], \"data\": {\"y\": [0.0, 0.12659245357374926, 0.2511479871810792, 0.3716624556603276, 0.4861967361004687, 0.5929079290546404, 0.690079011482112, 0.7761464642917568, 0.8497254299495144, 0.9096319953545183, 0.9549022414440739, 0.984807753012208, 0.998867339183008, 0.9968547759519424, 0.9788024462147787, 0.9450008187146685, 0.8959937742913359, 0.8325698546347714, 0.7557495743542583, 0.6667690005162917, 0.5670598638627709, 0.4582265217274105, 0.3420201433256689, 0.2203105327865408, 0.09505604330418244, -0.03172793349806786, -0.15800139597335008, -0.28173255684142984, -0.4009305354066138, -0.5136773915734064, -0.6181589862206053, -0.7126941713788629, -0.7957618405308321, -0.8660254037844388, -0.9223542941045814, -0.9638421585599422, -0.9898214418809327, -0.9998741276738751, -0.9938384644612541, -0.9718115683235417, -0.9341478602651068, -0.881453363447582, -0.8145759520503358, -0.7345917086575332, -0.6427876096865396, -0.5406408174555974, -0.4297949120891719, -0.31203344569848707, -0.18925124436040974, -0.06342391965656452, 0.06342391965656492, 0.18925124436041013, 0.31203344569848745, 0.4297949120891715, 0.5406408174555978, 0.6427876096865391, 0.7345917086575334, 0.8145759520503356, 0.8814533634475821, 0.9341478602651067, 0.9718115683235418, 0.9938384644612541, 0.9998741276738751, 0.9898214418809328, 0.963842158559942, 0.9223542941045816, 0.8660254037844383, 0.7957618405308319, 0.7126941713788629, 0.6181589862206056, 0.5136773915734058, 0.40093053540661344, 0.2817325568414299, 0.15800139597335056, 0.03172793349806701, -0.09505604330418282, -0.22031053278654034, -0.342020143325668, -0.45822652172741085, -0.5670598638627707, -0.6667690005162913, -0.7557495743542588, -0.8325698546347716, -0.8959937742913359, -0.9450008187146683, -0.9788024462147789, -0.9968547759519424, -0.998867339183008, -0.9848077530122081, -0.9549022414440737, -0.9096319953545183, -0.8497254299495145, -0.7761464642917573, -0.6900790114821116, -0.5929079290546404, -0.48619673610046904, -0.3716624556603267, -0.2511479871810788, -0.1265924535737493, -4.898587196589413e-16], \"x\": [0.0, 0.12693303650867852, 0.25386607301735703, 0.3807991095260356, 0.5077321460347141, 0.6346651825433925, 0.7615982190520711, 0.8885312555607496, 1.0154642920694281, 1.1423973285781066, 1.269330365086785, 1.3962634015954636, 1.5231964381041423, 1.6501294746128208, 1.7770625111214993, 1.9039955476301778, 2.0309285841388562, 2.1578616206475347, 2.284794657156213, 2.4117276936648917, 2.53866073017357, 2.6655937666822487, 2.792526803190927, 2.9194598396996057, 3.0463928762082846, 3.173325912716963, 3.3002589492256416, 3.42719198573432, 3.5541250222429985, 3.681058058751677, 3.8079910952603555, 3.934924131769034, 4.0618571682777125, 4.188790204786391, 4.3157232412950695, 4.442656277803748, 4.569589314312426, 4.696522350821105, 4.823455387329783, 4.950388423838462, 5.07732146034714, 5.204254496855819, 5.331187533364497, 5.458120569873176, 5.585053606381854, 5.711986642890533, 5.838919679399211, 5.96585271590789, 6.092785752416569, 6.219718788925247, 6.346651825433926, 6.473584861942604, 6.600517898451283, 6.727450934959961, 6.85438397146864, 6.981317007977318, 7.108250044485997, 7.235183080994675, 7.362116117503354, 7.489049154012032, 7.615982190520711, 7.742915227029389, 7.869848263538068, 7.996781300046746, 8.123714336555425, 8.250647373064103, 8.377580409572783, 8.50451344608146, 8.631446482590139, 8.758379519098817, 8.885312555607497, 9.012245592116175, 9.139178628624853, 9.266111665133531, 9.39304470164221, 9.519977738150889, 9.646910774659567, 9.773843811168245, 9.900776847676925, 10.027709884185603, 10.15464292069428, 10.28157595720296, 10.408508993711639, 10.535442030220317, 10.662375066728995, 10.789308103237675, 10.916241139746353, 11.04317417625503, 11.170107212763709, 11.297040249272388, 11.423973285781067, 11.550906322289745, 11.677839358798423, 11.804772395307102, 11.93170543181578, 12.058638468324459, 12.185571504833138, 12.312504541341816, 12.439437577850494, 12.566370614359172]}}, \"type\": \"ColumnDataSource\", \"id\": \"f3b9e932-8d8e-407a-8b06-ecd7770d551e\"}, {\"attributes\": {\"plot\": {\"subtype\": \"Figure\", \"type\": \"Plot\", \"id\": \"9c50741d-c9fe-4923-9dbc-2ff916d93b14\"}, \"formatter\": {\"type\": \"BasicTickFormatter\", \"id\": \"f08cad09-a12c-4972-bd1b-2cd1df6208d6\"}, \"ticker\": {\"type\": \"BasicTicker\", \"id\": \"dbb452ce-7c9a-49ea-ac56-75fb443a0f94\"}}, \"type\": \"LinearAxis\", \"id\": \"acc2ed99-6ff3-4eb0-aae9-fe9db448fbd3\"}, {\"attributes\": {\"callback\": null, \"column_names\": [\"y\", \"x\"], \"data\": {\"y\": [2, 5, 8, 2, 7], \"x\": [1, 2, 3, 4, 5]}}, \"type\": \"ColumnDataSource\", \"id\": \"971b4a40-ae5c-4977-a949-53de09e0370a\"}, {\"attributes\": {\"plot\": {\"subtype\": \"Figure\", \"type\": \"Plot\", \"id\": \"3e001435-68d4-46c8-b9c7-4680e52e57ac\"}, \"grid_line_color\": {\"value\": null}, \"ticker\": {\"type\": \"BasicTicker\", \"id\": \"d265ee12-8f9b-494a-82be-166bd4fea654\"}}, \"type\": \"Grid\", \"id\": \"15c97f26-0227-4c04-a48a-4c8136e6bf79\"}, {\"attributes\": {\"line_color\": {\"value\": \"#1f77b4\"}, \"line_alpha\": {\"value\": 0.1}, \"y\": {\"field\": \"y\"}, \"x\": {\"field\": \"x\"}}, \"type\": \"Line\", \"id\": \"77100afa-a391-46eb-8e40-7ff14ffa60dc\"}, {\"attributes\": {\"plot\": {\"subtype\": \"Figure\", \"type\": \"Plot\", \"id\": \"9c50741d-c9fe-4923-9dbc-2ff916d93b14\"}, \"formatter\": {\"type\": \"BasicTickFormatter\", \"id\": \"7a0a9b9c-6dbe-4b6b-9b61-a90f4a2c6a09\"}, \"ticker\": {\"type\": \"BasicTicker\", \"id\": \"b730f5a7-b929-4ca3-bb17-e84b38149c26\"}}, \"type\": \"LinearAxis\", \"id\": \"e56a23c6-2607-460d-9bd8-fcba80c55771\"}, {\"attributes\": {\"plot\": {\"subtype\": \"Figure\", \"type\": \"Plot\", \"id\": \"d57d7cfb-2a5a-4f79-b999-29ca45562b25\"}}, \"type\": \"ResetTool\", \"id\": \"d48b6504-50cd-46dd-b730-b53372acc2c3\"}, {\"attributes\": {\"plot\": {\"subtype\": \"Figure\", \"type\": \"Plot\", \"id\": \"d344d720-6fcd-4555-a9c9-2dfb14979ea9\"}}, \"type\": \"WheelZoomTool\", \"id\": \"47c2e5f5-38d8-4bee-b564-e8c3977b7a27\"}, {\"attributes\": {}, \"type\": \"BasicTickFormatter\", \"id\": \"7a0a9b9c-6dbe-4b6b-9b61-a90f4a2c6a09\"}, {\"attributes\": {\"line_color\": {\"value\": \"#1f77b4\"}, \"line_alpha\": {\"value\": 0.1}, \"fill_color\": {\"value\": \"#1f77b4\"}, \"fill_alpha\": {\"value\": 0.1}, \"y\": {\"field\": \"y\"}, \"x\": {\"field\": \"x\"}, \"size\": {\"units\": \"screen\", \"value\": 10}}, \"type\": \"Circle\", \"id\": \"29bdd8ae-667b-4db0-aa49-9de2b02e8fe8\"}, {\"attributes\": {\"plot\": {\"subtype\": \"Figure\", \"type\": \"Plot\", \"id\": \"3c001830-f37b-4128-b170-dc8dd8865449\"}, \"overlay\": {\"type\": \"BoxAnnotation\", \"id\": \"08180a5c-acae-4aa9-85d9-85b90932eeac\"}}, \"type\": \"BoxZoomTool\", \"id\": \"10526abd-96de-464a-833b-75dcba252215\"}, {\"attributes\": {}, \"type\": \"BasicTickFormatter\", \"id\": \"218503e5-88e1-4947-8496-856efb79b478\"}, {\"attributes\": {\"plot\": {\"subtype\": \"Figure\", \"type\": \"Plot\", \"id\": \"3e001435-68d4-46c8-b9c7-4680e52e57ac\"}, \"formatter\": {\"type\": \"BasicTickFormatter\", \"id\": \"3b6aac94-ca3c-4530-b066-82a3b39d5e54\"}, \"ticker\": {\"type\": \"BasicTicker\", \"id\": \"d265ee12-8f9b-494a-82be-166bd4fea654\"}}, \"type\": \"LinearAxis\", \"id\": \"aaafc43b-0721-495f-8313-22b2ca457fe2\"}, {\"attributes\": {\"nonselection_glyph\": {\"type\": \"Circle\", \"id\": \"6e815597-8f0e-4667-b51d-e1edbbf0baf8\"}, \"data_source\": {\"type\": \"ColumnDataSource\", \"id\": \"971b4a40-ae5c-4977-a949-53de09e0370a\"}, \"selection_glyph\": null, \"hover_glyph\": null, \"glyph\": {\"type\": \"Circle\", \"id\": \"1d722cbd-328a-4be4-aaa3-77bd1e6072d2\"}}, \"type\": \"GlyphRenderer\", \"id\": \"e927f6db-94fb-4284-a7eb-d82190574e3c\"}, {\"attributes\": {\"major_label_orientation\": 0.7853981633974483, \"plot\": {\"subtype\": \"Figure\", \"type\": \"Plot\", \"id\": \"d344d720-6fcd-4555-a9c9-2dfb14979ea9\"}, \"formatter\": {\"type\": \"BasicTickFormatter\", \"id\": \"2f204493-0281-43f7-a699-0daf17c7aa6b\"}, \"ticker\": {\"type\": \"BasicTicker\", \"id\": \"726478cd-239d-4132-acbe-0641ff6a785b\"}}, \"type\": \"LinearAxis\", \"id\": \"09930e51-7238-4f7e-a56c-6218eba408de\"}, {\"attributes\": {\"plot\": {\"subtype\": \"Figure\", \"type\": \"Plot\", \"id\": \"d57d7cfb-2a5a-4f79-b999-29ca45562b25\"}}, \"type\": \"ResizeTool\", \"id\": \"9c7d1761-4a6b-468f-84bf-7ab66c1860c7\"}, {\"attributes\": {\"line_color\": {\"value\": \"#1f77b4\"}, \"line_alpha\": {\"value\": 0.1}, \"y\": {\"field\": \"y\"}, \"x\": {\"field\": \"x\"}}, \"type\": \"Line\", \"id\": \"34dff0d5-836b-4e12-b91c-eb3e6a0ab708\"}, {\"attributes\": {}, \"type\": \"BasicTicker\", \"id\": \"7fc8d209-f8ee-42f4-a16d-8a073e41e9fc\"}, {\"attributes\": {}, \"type\": \"BasicTicker\", \"id\": \"dbb452ce-7c9a-49ea-ac56-75fb443a0f94\"}, {\"attributes\": {}, \"type\": \"BasicTickFormatter\", \"id\": \"ee2b598f-b5db-4c25-b9e2-4961a4686bdc\"}, {\"attributes\": {\"plot\": {\"subtype\": \"Figure\", \"type\": \"Plot\", \"id\": \"c8b285f0-0af9-4f66-86e0-e837b0a068e6\"}, \"minor_tick_out\": 6, \"axis_line_color\": {\"value\": \"red\"}, \"minor_tick_in\": -3, \"axis_label\": \"Temp\", \"formatter\": {\"type\": \"BasicTickFormatter\", \"id\": \"007bff35-268b-46aa-ac58-85908b9b7a57\"}, \"ticker\": {\"type\": \"BasicTicker\", \"id\": \"d2c0684d-3271-497a-9fb7-2416a90a3985\"}, \"axis_line_width\": {\"value\": 3}}, \"type\": \"LinearAxis\", \"id\": \"e3dfeebc-eadb-46e9-b1f7-24cf8af38c2d\"}, {\"attributes\": {}, \"type\": \"BasicTickFormatter\", \"id\": \"3b6aac94-ca3c-4530-b066-82a3b39d5e54\"}, {\"attributes\": {\"plot\": {\"subtype\": \"Figure\", \"type\": \"Plot\", \"id\": \"9c50741d-c9fe-4923-9dbc-2ff916d93b14\"}}, \"type\": \"WheelZoomTool\", \"id\": \"a84b4d27-7dd7-4404-86f7-477b8fca7618\"}, {\"attributes\": {\"plot\": {\"subtype\": \"Figure\", \"type\": \"Plot\", \"id\": \"9c50741d-c9fe-4923-9dbc-2ff916d93b14\"}, \"overlay\": {\"type\": \"BoxAnnotation\", \"id\": \"02a68ba4-a631-40f3-9c23-bfa9fa4262f4\"}}, \"type\": \"BoxZoomTool\", \"id\": \"81c11b71-d558-4831-89f0-a30af7d669e1\"}, {\"attributes\": {\"plot\": {\"subtype\": \"Figure\", \"type\": \"Plot\", \"id\": \"c8b285f0-0af9-4f66-86e0-e837b0a068e6\"}, \"ticker\": {\"type\": \"BasicTicker\", \"id\": \"d2c0684d-3271-497a-9fb7-2416a90a3985\"}}, \"type\": \"Grid\", \"id\": \"78aec0d1-6deb-410a-865d-93fb09bd1e1a\"}, {\"attributes\": {\"callback\": null, \"column_names\": [\"y\", \"x\"], \"data\": {\"y\": [0.0, 0.3797773607212478, 0.7534439615432377, 1.1149873669809827, 1.4585902083014062, 1.7787237871639212, 2.070237034446336, 2.3284393928752705, 2.549176289848543, 2.728895986063555, 2.8647067243322217, 2.954423259036624, 2.9966020175490238, 2.990564327855827, 2.936407338644336, 2.8350024561440055, 2.6879813228740077, 2.4977095639043143, 2.267248723062775, 2.000307001548875, 1.7011795915883126, 1.3746795651822317, 1.0260604299770066, 0.6609315983596225, 0.2851681299125473, -0.09518380049420358, -0.4740041879200503, -0.8451976705242895, -1.2027916062198414, -1.5410321747202191, -1.8544769586618157, -2.1380825141365887, -2.387285521592496, -2.5980762113533165, -2.767062882313744, -2.8915264756798265, -2.969464325642798, -2.999622383021625, -2.9815153933837624, -2.915434704970625, -2.8024435807953205, -2.644360090342746, -2.4437278561510074, -2.2037751259725997, -1.9283628290596186, -1.6219224523667923, -1.2893847362675157, -0.9361003370954613, -0.5677537330812292, -0.19027175896969356, 0.19027175896969478, 0.5677537330812303, 0.9361003370954624, 1.2893847362675144, 1.6219224523667934, 1.9283628290596173, 2.2037751259726, 2.443727856151007, 2.6443600903427464, 2.80244358079532, 2.9154347049706253, 2.9815153933837624, 2.999622383021625, 2.9694643256427984, 2.891526475679826, 2.767062882313745, 2.5980762113533147, 2.3872855215924957, 2.1380825141365887, 1.8544769586618168, 1.5410321747202174, 1.2027916062198403, 0.8451976705242896, 0.47400418792005167, 0.09518380049420103, -0.2851681299125485, -0.660931598359621, -1.026060429977004, -1.3746795651822326, -1.7011795915883123, -2.0003070015488738, -2.2672487230627763, -2.4977095639043148, -2.6879813228740077, -2.835002456144005, -2.9364073386443366, -2.990564327855827, -2.9966020175490238, -2.9544232590366244, -2.864706724332221, -2.728895986063555, -2.5491762898485435, -2.328439392875272, -2.070237034446335, -1.7787237871639212, -1.458590208301407, -1.11498736698098, -0.7534439615432363, -0.3797773607212479, -1.4695761589768238e-15], \"x\": [0.0, 0.12693303650867852, 0.25386607301735703, 0.3807991095260356, 0.5077321460347141, 0.6346651825433925, 0.7615982190520711, 0.8885312555607496, 1.0154642920694281, 1.1423973285781066, 1.269330365086785, 1.3962634015954636, 1.5231964381041423, 1.6501294746128208, 1.7770625111214993, 1.9039955476301778, 2.0309285841388562, 2.1578616206475347, 2.284794657156213, 2.4117276936648917, 2.53866073017357, 2.6655937666822487, 2.792526803190927, 2.9194598396996057, 3.0463928762082846, 3.173325912716963, 3.3002589492256416, 3.42719198573432, 3.5541250222429985, 3.681058058751677, 3.8079910952603555, 3.934924131769034, 4.0618571682777125, 4.188790204786391, 4.3157232412950695, 4.442656277803748, 4.569589314312426, 4.696522350821105, 4.823455387329783, 4.950388423838462, 5.07732146034714, 5.204254496855819, 5.331187533364497, 5.458120569873176, 5.585053606381854, 5.711986642890533, 5.838919679399211, 5.96585271590789, 6.092785752416569, 6.219718788925247, 6.346651825433926, 6.473584861942604, 6.600517898451283, 6.727450934959961, 6.85438397146864, 6.981317007977318, 7.108250044485997, 7.235183080994675, 7.362116117503354, 7.489049154012032, 7.615982190520711, 7.742915227029389, 7.869848263538068, 7.996781300046746, 8.123714336555425, 8.250647373064103, 8.377580409572783, 8.50451344608146, 8.631446482590139, 8.758379519098817, 8.885312555607497, 9.012245592116175, 9.139178628624853, 9.266111665133531, 9.39304470164221, 9.519977738150889, 9.646910774659567, 9.773843811168245, 9.900776847676925, 10.027709884185603, 10.15464292069428, 10.28157595720296, 10.408508993711639, 10.535442030220317, 10.662375066728995, 10.789308103237675, 10.916241139746353, 11.04317417625503, 11.170107212763709, 11.297040249272388, 11.423973285781067, 11.550906322289745, 11.677839358798423, 11.804772395307102, 11.93170543181578, 12.058638468324459, 12.185571504833138, 12.312504541341816, 12.439437577850494, 12.566370614359172]}}, \"type\": \"ColumnDataSource\", \"id\": \"9d34b0fe-b4d6-4c61-ae5a-2c859d1bd755\"}, {\"attributes\": {\"line_color\": {\"value\": \"#1f77b4\"}, \"line_alpha\": {\"value\": 0.1}, \"fill_color\": {\"value\": \"#1f77b4\"}, \"fill_alpha\": {\"value\": 0.1}, \"y\": {\"field\": \"y\"}, \"x\": {\"field\": \"x\"}}, \"type\": \"Circle\", \"id\": \"ea08f7d7-b44c-40d9-9621-c2e08b6940ff\"}, {\"attributes\": {}, \"type\": \"BasicTickFormatter\", \"id\": \"f7071039-8368-43a7-aade-5eb37dc114c3\"}, {\"attributes\": {\"line_color\": {\"value\": \"#1f77b4\"}, \"line_alpha\": {\"value\": 0.1}, \"fill_color\": {\"value\": \"#1f77b4\"}, \"line_width\": {\"value\": 2}, \"fill_alpha\": {\"value\": 0.1}, \"y\": {\"field\": \"y\"}, \"x\": {\"field\": \"x\"}, \"size\": {\"units\": \"screen\", \"value\": 10}}, \"type\": \"X\", \"id\": \"1b48d27f-1f9d-4b9c-82a6-d74a95b34664\"}, {\"attributes\": {}, \"type\": \"ToolEvents\", \"id\": \"477de8d8-ff41-4673-b817-7127f781e235\"}, {\"attributes\": {\"line_color\": {\"value\": \"black\"}, \"line_alpha\": {\"value\": 1.0}, \"render_mode\": \"css\", \"bottom_units\": \"screen\", \"level\": \"overlay\", \"top_units\": \"screen\", \"fill_alpha\": {\"value\": 0.5}, \"plot\": null, \"left_units\": \"screen\", \"line_dash\": [4, 4], \"line_width\": {\"value\": 2}, \"right_units\": \"screen\", \"fill_color\": {\"value\": \"lightgrey\"}}, \"type\": \"BoxAnnotation\", \"id\": \"08180a5c-acae-4aa9-85d9-85b90932eeac\"}, {\"attributes\": {\"plot\": {\"subtype\": \"Figure\", \"type\": \"Plot\", \"id\": \"d57d7cfb-2a5a-4f79-b999-29ca45562b25\"}, \"formatter\": {\"type\": \"BasicTickFormatter\", \"id\": \"0b8f7121-8edc-4423-98fc-0019e6fdf9c7\"}, \"ticker\": {\"type\": \"BasicTicker\", \"id\": \"41a50bcd-ce3e-4f4c-836e-f507839a6379\"}}, \"type\": \"LinearAxis\", \"id\": \"42cca4c4-bdfb-4a27-9727-8c9948269b33\"}, {\"attributes\": {\"plot\": {\"subtype\": \"Figure\", \"type\": \"Plot\", \"id\": \"3e001435-68d4-46c8-b9c7-4680e52e57ac\"}}, \"type\": \"HelpTool\", \"id\": \"207e8890-c2ab-474c-96ac-6f6d3d7430d1\"}, {\"attributes\": {\"plot\": {\"subtype\": \"Figure\", \"type\": \"Plot\", \"id\": \"c8b285f0-0af9-4f66-86e0-e837b0a068e6\"}}, \"type\": \"ResetTool\", \"id\": \"30f8296c-5423-4e3c-a0c7-edfb631dea25\"}, {\"attributes\": {\"nonselection_glyph\": {\"type\": \"Asterisk\", \"id\": \"a3853aa1-3a9e-4586-8551-46d847d2df58\"}, \"data_source\": {\"type\": \"ColumnDataSource\", \"id\": \"65e9b6d1-cd77-466d-b24e-d29b5df9f3d4\"}, \"selection_glyph\": null, \"hover_glyph\": null, \"glyph\": {\"type\": \"Asterisk\", \"id\": \"e92fe008-95f7-431e-b3b5-67b045e37cd5\"}}, \"type\": \"GlyphRenderer\", \"id\": \"7c8c5e3f-613b-4b42-ac06-d44921b3a5a1\"}, {\"attributes\": {\"line_color\": {\"value\": \"#1f77b4\"}, \"line_alpha\": {\"value\": 0.1}, \"fill_color\": {\"value\": \"#1f77b4\"}, \"fill_alpha\": {\"value\": 0.1}, \"y\": {\"field\": \"y\"}, \"x\": {\"field\": \"x\"}}, \"type\": \"Square\", \"id\": \"a35f77c9-2159-411f-b1e9-5ca78588b4b9\"}, {\"attributes\": {\"callback\": null, \"column_names\": [\"y\", \"x\"], \"data\": {\"y\": [2, 5, 8, 2, 7], \"x\": [1, 2, 3, 4, 5]}}, \"type\": \"ColumnDataSource\", \"id\": \"08f34e73-1a4b-419a-a434-29a6bd8df4cb\"}, {\"attributes\": {\"plot\": {\"subtype\": \"Figure\", \"type\": \"Plot\", \"id\": \"3e001435-68d4-46c8-b9c7-4680e52e57ac\"}, \"formatter\": {\"type\": \"BasicTickFormatter\", \"id\": \"c2a5c953-a536-45e9-a12a-50b926d34d59\"}, \"ticker\": {\"type\": \"BasicTicker\", \"id\": \"3973605d-0d68-4faf-8af7-f47412ca65d7\"}}, \"type\": \"LinearAxis\", \"id\": \"a675df65-593f-431e-98b8-9995c69d53ab\"}, {\"attributes\": {\"plot\": {\"subtype\": \"Figure\", \"type\": \"Plot\", \"id\": \"d344d720-6fcd-4555-a9c9-2dfb14979ea9\"}, \"overlay\": {\"type\": \"BoxAnnotation\", \"id\": \"60531ff1-fdd5-4333-99e0-5647d909adb4\"}}, \"type\": \"BoxZoomTool\", \"id\": \"df3cfcc5-4ca8-48e4-83f9-fddcec269dc0\"}, {\"attributes\": {}, \"type\": \"BasicTicker\", \"id\": \"ada32b76-7034-4b90-aba8-bd72963a0162\"}, {\"attributes\": {}, \"type\": \"BasicTickFormatter\", \"id\": \"0b8f7121-8edc-4423-98fc-0019e6fdf9c7\"}, {\"attributes\": {}, \"type\": \"BasicTicker\", \"id\": \"b4adcc9f-e844-4fb8-8a04-12213c3066cd\"}, {\"attributes\": {\"line_color\": {\"value\": \"black\"}, \"line_alpha\": {\"value\": 1.0}, \"render_mode\": \"css\", \"bottom_units\": \"screen\", \"level\": \"overlay\", \"top_units\": \"screen\", \"fill_alpha\": {\"value\": 0.5}, \"plot\": null, \"left_units\": \"screen\", \"line_dash\": [4, 4], \"line_width\": {\"value\": 2}, \"right_units\": \"screen\", \"fill_color\": {\"value\": \"lightgrey\"}}, \"type\": \"BoxAnnotation\", \"id\": \"edb16806-c20d-4ee8-b959-e5460b6228e1\"}, {\"attributes\": {\"plot\": {\"subtype\": \"Figure\", \"type\": \"Plot\", \"id\": \"9c50741d-c9fe-4923-9dbc-2ff916d93b14\"}, \"ticker\": {\"type\": \"BasicTicker\", \"id\": \"dbb452ce-7c9a-49ea-ac56-75fb443a0f94\"}}, \"type\": \"Grid\", \"id\": \"6ef6bf91-a531-49ed-aa9c-b5583b18ee8d\"}, {\"attributes\": {\"nonselection_glyph\": {\"type\": \"Square\", \"id\": \"a35f77c9-2159-411f-b1e9-5ca78588b4b9\"}, \"data_source\": {\"type\": \"ColumnDataSource\", \"id\": \"9d34b0fe-b4d6-4c61-ae5a-2c859d1bd755\"}, \"selection_glyph\": null, \"hover_glyph\": null, \"glyph\": {\"type\": \"Square\", \"id\": \"1ed6b813-43ac-4c6f-bf83-94bf03fdb64d\"}}, \"type\": \"GlyphRenderer\", \"id\": \"5da25f2c-fb6b-48a9-a2a9-01de2f477bf6\"}, {\"attributes\": {\"plot\": {\"subtype\": \"Figure\", \"type\": \"Plot\", \"id\": \"c8b285f0-0af9-4f66-86e0-e837b0a068e6\"}, \"ticker\": {\"type\": \"BasicTicker\", \"id\": \"ada32b76-7034-4b90-aba8-bd72963a0162\"}, \"dimension\": 1}, \"type\": \"Grid\", \"id\": \"e35e51de-6070-4b52-8f84-6991d29c56c8\"}, {\"attributes\": {}, \"type\": \"ToolEvents\", \"id\": \"2baf6247-8e8d-4ae5-941d-c6a4ec91be74\"}, {\"attributes\": {\"callback\": null, \"column_names\": [\"y\", \"x\"], \"data\": {\"y\": [2, 5, 8, 2, 7], \"x\": [1, 2, 3, 4, 5]}}, \"type\": \"ColumnDataSource\", \"id\": \"66ca0b41-2e62-4eeb-bd59-fa946e5c7efd\"}, {\"attributes\": {\"plot\": {\"subtype\": \"Figure\", \"type\": \"Plot\", \"id\": \"9c50741d-c9fe-4923-9dbc-2ff916d93b14\"}}, \"type\": \"PanTool\", \"id\": \"a35a1d48-ae29-47f2-93a9-7acf26870aa4\"}, {\"attributes\": {\"major_label_orientation\": \"vertical\", \"plot\": {\"subtype\": \"Figure\", \"type\": \"Plot\", \"id\": \"d344d720-6fcd-4555-a9c9-2dfb14979ea9\"}, \"formatter\": {\"type\": \"BasicTickFormatter\", \"id\": \"218503e5-88e1-4947-8496-856efb79b478\"}, \"ticker\": {\"type\": \"BasicTicker\", \"id\": \"b4adcc9f-e844-4fb8-8a04-12213c3066cd\"}}, \"type\": \"LinearAxis\", \"id\": \"e2ed4965-d67f-47ee-994a-84a9538dc03c\"}, {\"attributes\": {\"line_color\": {\"value\": \"#1f77b4\"}, \"line_alpha\": {\"value\": 0.1}, \"fill_color\": {\"value\": \"#1f77b4\"}, \"fill_alpha\": {\"value\": 0.1}, \"y\": {\"field\": \"y\"}, \"x\": {\"field\": \"x\"}, \"size\": {\"units\": \"screen\", \"value\": 10}}, \"type\": \"Circle\", \"id\": \"b985d2b4-7202-4984-bf72-f62ab566113e\"}, {\"attributes\": {\"plot\": {\"subtype\": \"Figure\", \"type\": \"Plot\", \"id\": \"d344d720-6fcd-4555-a9c9-2dfb14979ea9\"}}, \"type\": \"ResetTool\", \"id\": \"da9a487f-1f0f-47cd-a3fe-1f5ba4298240\"}, {\"attributes\": {\"plot\": {\"subtype\": \"Figure\", \"type\": \"Plot\", \"id\": \"d344d720-6fcd-4555-a9c9-2dfb14979ea9\"}}, \"type\": \"HelpTool\", \"id\": \"1f0edf1c-d9e3-4378-99a2-02fdae393041\"}, {\"attributes\": {\"plot\": {\"subtype\": \"Figure\", \"type\": \"Plot\", \"id\": \"c8b285f0-0af9-4f66-86e0-e837b0a068e6\"}}, \"type\": \"WheelZoomTool\", \"id\": \"dcad87cc-3f47-4b4d-af00-8df3cd686feb\"}, {\"attributes\": {\"plot\": {\"subtype\": \"Figure\", \"type\": \"Plot\", \"id\": \"3c001830-f37b-4128-b170-dc8dd8865449\"}, \"grid_line_dash\": [6, 4], \"grid_line_alpha\": {\"value\": 0.5}, \"ticker\": {\"type\": \"BasicTicker\", \"id\": \"3b6e5359-a27e-492b-9a28-d2f5e33982e9\"}, \"dimension\": 1}, \"type\": \"Grid\", \"id\": \"0821d2bc-2b78-43af-a4fe-002e9d480da3\"}, {\"attributes\": {}, \"type\": \"ToolEvents\", \"id\": \"00392aa8-2558-489b-9044-8bd5d658bac6\"}, {\"attributes\": {\"callback\": null}, \"type\": \"DataRange1d\", \"id\": \"1736141d-9a49-45e1-914f-b5c7e8cfae38\"}, {\"attributes\": {}, \"type\": \"BasicTickFormatter\", \"id\": \"f08cad09-a12c-4972-bd1b-2cd1df6208d6\"}, {\"attributes\": {}, \"type\": \"ToolEvents\", \"id\": \"fa20bd23-2ad9-455a-bde0-e8cae59d43be\"}, {\"attributes\": {\"plot\": {\"subtype\": \"Figure\", \"type\": \"Plot\", \"id\": \"3c001830-f37b-4128-b170-dc8dd8865449\"}}, \"type\": \"HelpTool\", \"id\": \"e06c01a0-b417-4160-9218-e3e4db02e98c\"}, {\"attributes\": {\"callback\": null, \"column_names\": [\"y\", \"x\"], \"data\": {\"y\": [0.0, 0.25318490714749853, 0.5022959743621584, 0.7433249113206551, 0.9723934722009374, 1.1858158581092808, 1.380158022964224, 1.5522929285835136, 1.6994508598990288, 1.8192639907090367, 1.9098044828881477, 1.969615506024416, 1.997734678366016, 1.9937095519038848, 1.9576048924295575, 1.890001637429337, 1.7919875485826717, 1.6651397092695428, 1.5114991487085165, 1.3335380010325835, 1.1341197277255417, 0.916453043454821, 0.6840402866513378, 0.4406210655730816, 0.19011208660836487, -0.06345586699613572, -0.31600279194670017, -0.5634651136828597, -0.8018610708132275, -1.0273547831468128, -1.2363179724412106, -1.4253883427577259, -1.5915236810616642, -1.7320508075688776, -1.8447085882091627, -1.9276843171198843, -1.9796428837618654, -1.9997482553477501, -1.9876769289225082, -1.9436231366470833, -1.8682957205302135, -1.762906726895164, -1.6291519041006717, -1.4691834173150664, -1.2855752193730792, -1.0812816349111949, -0.8595898241783438, -0.6240668913969741, -0.3785024887208195, -0.12684783931312904, 0.12684783931312985, 0.37850248872082026, 0.6240668913969749, 0.859589824178343, 1.0812816349111956, 1.2855752193730783, 1.4691834173150669, 1.6291519041006712, 1.7629067268951641, 1.8682957205302133, 1.9436231366470835, 1.9876769289225082, 1.9997482553477501, 1.9796428837618656, 1.927684317119884, 1.8447085882091632, 1.7320508075688765, 1.5915236810616638, 1.4253883427577259, 1.2363179724412112, 1.0273547831468115, 0.8018610708132269, 0.5634651136828598, 0.3160027919467011, 0.06345586699613402, -0.19011208660836565, -0.4406210655730807, -0.684040286651336, -0.9164530434548217, -1.1341197277255415, -1.3335380010325826, -1.5114991487085176, -1.6651397092695432, -1.7919875485826717, -1.8900016374293367, -1.9576048924295577, -1.9937095519038848, -1.997734678366016, -1.9696155060244163, -1.9098044828881473, -1.8192639907090367, -1.699450859899029, -1.5522929285835145, -1.3801580229642232, -1.1858158581092808, -0.9723934722009381, -0.7433249113206534, -0.5022959743621576, -0.2531849071474986, -9.797174393178826e-16], \"x\": [0.0, 0.12693303650867852, 0.25386607301735703, 0.3807991095260356, 0.5077321460347141, 0.6346651825433925, 0.7615982190520711, 0.8885312555607496, 1.0154642920694281, 1.1423973285781066, 1.269330365086785, 1.3962634015954636, 1.5231964381041423, 1.6501294746128208, 1.7770625111214993, 1.9039955476301778, 2.0309285841388562, 2.1578616206475347, 2.284794657156213, 2.4117276936648917, 2.53866073017357, 2.6655937666822487, 2.792526803190927, 2.9194598396996057, 3.0463928762082846, 3.173325912716963, 3.3002589492256416, 3.42719198573432, 3.5541250222429985, 3.681058058751677, 3.8079910952603555, 3.934924131769034, 4.0618571682777125, 4.188790204786391, 4.3157232412950695, 4.442656277803748, 4.569589314312426, 4.696522350821105, 4.823455387329783, 4.950388423838462, 5.07732146034714, 5.204254496855819, 5.331187533364497, 5.458120569873176, 5.585053606381854, 5.711986642890533, 5.838919679399211, 5.96585271590789, 6.092785752416569, 6.219718788925247, 6.346651825433926, 6.473584861942604, 6.600517898451283, 6.727450934959961, 6.85438397146864, 6.981317007977318, 7.108250044485997, 7.235183080994675, 7.362116117503354, 7.489049154012032, 7.615982190520711, 7.742915227029389, 7.869848263538068, 7.996781300046746, 8.123714336555425, 8.250647373064103, 8.377580409572783, 8.50451344608146, 8.631446482590139, 8.758379519098817, 8.885312555607497, 9.012245592116175, 9.139178628624853, 9.266111665133531, 9.39304470164221, 9.519977738150889, 9.646910774659567, 9.773843811168245, 9.900776847676925, 10.027709884185603, 10.15464292069428, 10.28157595720296, 10.408508993711639, 10.535442030220317, 10.662375066728995, 10.789308103237675, 10.916241139746353, 11.04317417625503, 11.170107212763709, 11.297040249272388, 11.423973285781067, 11.550906322289745, 11.677839358798423, 11.804772395307102, 11.93170543181578, 12.058638468324459, 12.185571504833138, 12.312504541341816, 12.439437577850494, 12.566370614359172]}}, \"type\": \"ColumnDataSource\", \"id\": \"24e26271-b7ec-43fc-ae8f-f4918a32bdf7\"}, {\"attributes\": {\"line_color\": {\"value\": \"green\"}, \"x\": {\"field\": \"x\"}, \"fill_color\": {\"value\": \"white\"}, \"y\": {\"field\": \"y\"}}, \"type\": \"Square\", \"id\": \"1ed6b813-43ac-4c6f-bf83-94bf03fdb64d\"}, {\"attributes\": {\"plot\": {\"subtype\": \"Figure\", \"type\": \"Plot\", \"id\": \"c8b285f0-0af9-4f66-86e0-e837b0a068e6\"}, \"minor_tick_out\": 6, \"minor_tick_in\": -3, \"major_label_text_color\": {\"value\": \"orange\"}, \"major_label_orientation\": \"vertical\", \"axis_label\": \"Pressure\", \"formatter\": {\"type\": \"BasicTickFormatter\", \"id\": \"f7071039-8368-43a7-aade-5eb37dc114c3\"}, \"ticker\": {\"type\": \"BasicTicker\", \"id\": \"ada32b76-7034-4b90-aba8-bd72963a0162\"}}, \"type\": \"LinearAxis\", \"id\": \"673e6435-73a7-40a0-a1a0-ee4aa6a1332f\"}, {\"attributes\": {\"callback\": null}, \"type\": \"DataRange1d\", \"id\": \"4c262ec1-0662-41a6-b063-4152aa9367b6\"}, {\"attributes\": {}, \"type\": \"BasicTicker\", \"id\": \"41a50bcd-ce3e-4f4c-836e-f507839a6379\"}, {\"attributes\": {}, \"type\": \"BasicTicker\", \"id\": \"726478cd-239d-4132-acbe-0641ff6a785b\"}, {\"attributes\": {\"callback\": null}, \"type\": \"DataRange1d\", \"id\": \"4e575005-3472-46a3-9b2e-5cf90518e2ad\"}, {\"attributes\": {\"line_color\": {\"value\": \"black\"}, \"line_alpha\": {\"value\": 1.0}, \"render_mode\": \"css\", \"bottom_units\": \"screen\", \"level\": \"overlay\", \"top_units\": \"screen\", \"fill_alpha\": {\"value\": 0.5}, \"plot\": null, \"left_units\": \"screen\", \"line_dash\": [4, 4], \"line_width\": {\"value\": 2}, \"right_units\": \"screen\", \"fill_color\": {\"value\": \"lightgrey\"}}, \"type\": \"BoxAnnotation\", \"id\": \"02a68ba4-a631-40f3-9c23-bfa9fa4262f4\"}, {\"attributes\": {\"plot\": {\"subtype\": \"Figure\", \"type\": \"Plot\", \"id\": \"3c001830-f37b-4128-b170-dc8dd8865449\"}}, \"type\": \"PreviewSaveTool\", \"id\": \"a17e931e-a794-4bb9-a29c-bc86d44804aa\"}, {\"attributes\": {\"line_color\": {\"value\": \"green\"}, \"x\": {\"field\": \"x\"}, \"y\": {\"field\": \"y\"}}, \"type\": \"Line\", \"id\": \"fca1afd6-f3e8-4a3c-8c86-705376c3de9d\"}, {\"attributes\": {\"callback\": null}, \"type\": \"DataRange1d\", \"id\": \"6fc6f1d8-c709-4ccd-9670-ec3235c214c1\"}, {\"attributes\": {}, \"type\": \"BasicTicker\", \"id\": \"d2c0684d-3271-497a-9fb7-2416a90a3985\"}, {\"attributes\": {\"callback\": null}, \"type\": \"DataRange1d\", \"id\": \"42f5d9e0-d0b3-4f1e-88c6-e50601175475\"}, {\"attributes\": {\"plot\": {\"subtype\": \"Figure\", \"type\": \"Plot\", \"id\": \"3c001830-f37b-4128-b170-dc8dd8865449\"}}, \"type\": \"PanTool\", \"id\": \"3b04ead2-66d7-4224-a3f2-3140af8f313b\"}, {\"attributes\": {\"line_color\": {\"value\": \"orange\"}, \"line_dash\": [4, 4], \"y\": {\"field\": \"y\"}, \"x\": {\"field\": \"x\"}, \"line_width\": {\"value\": 2}}, \"type\": \"Line\", \"id\": \"54d29ebc-3e5f-4331-8f2c-309e4d504ccf\"}, {\"attributes\": {\"plot\": {\"subtype\": \"Figure\", \"type\": \"Plot\", \"id\": \"3c001830-f37b-4128-b170-dc8dd8865449\"}, \"formatter\": {\"type\": \"BasicTickFormatter\", \"id\": \"d2c98d6c-3b3b-47d9-890d-c63380685e01\"}, \"ticker\": {\"type\": \"BasicTicker\", \"id\": \"3b6e5359-a27e-492b-9a28-d2f5e33982e9\"}}, \"type\": \"LinearAxis\", \"id\": \"c87a6a16-4b34-403f-b5ce-2405b94473c6\"}, {\"attributes\": {\"nonselection_glyph\": {\"type\": \"Circle\", \"id\": \"29bdd8ae-667b-4db0-aa49-9de2b02e8fe8\"}, \"data_source\": {\"type\": \"ColumnDataSource\", \"id\": \"485d9ae1-f16a-4a91-a9bb-9bbc31bd62d5\"}, \"selection_glyph\": null, \"hover_glyph\": null, \"glyph\": {\"type\": \"Circle\", \"id\": \"729ac44c-713d-4aec-9fa7-f4e90fe4802d\"}}, \"type\": \"GlyphRenderer\", \"id\": \"784236a4-e7ca-4e39-86ff-6d62bcad7409\"}, {\"attributes\": {\"band_fill_color\": {\"value\": \"navy\"}, \"band_fill_alpha\": {\"value\": 0.1}, \"ticker\": {\"type\": \"BasicTicker\", \"id\": \"3973605d-0d68-4faf-8af7-f47412ca65d7\"}, \"dimension\": 1, \"plot\": {\"subtype\": \"Figure\", \"type\": \"Plot\", \"id\": \"3e001435-68d4-46c8-b9c7-4680e52e57ac\"}}, \"type\": \"Grid\", \"id\": \"e345f775-94c4-4b91-8e8f-086ece1f5bae\"}, {\"attributes\": {\"x_range\": {\"type\": \"DataRange1d\", \"id\": \"4f07eddd-25df-46b0-bf4a-82741261d033\"}, \"y_range\": {\"type\": \"DataRange1d\", \"id\": \"d6bd8fec-d82c-455a-9502-deb3b5d43497\"}, \"renderers\": [{\"type\": \"LinearAxis\", \"id\": \"aaafc43b-0721-495f-8313-22b2ca457fe2\"}, {\"type\": \"Grid\", \"id\": \"15c97f26-0227-4c04-a48a-4c8136e6bf79\"}, {\"type\": \"LinearAxis\", \"id\": \"a675df65-593f-431e-98b8-9995c69d53ab\"}, {\"type\": \"Grid\", \"id\": \"e345f775-94c4-4b91-8e8f-086ece1f5bae\"}, {\"type\": \"BoxAnnotation\", \"id\": \"edb16806-c20d-4ee8-b959-e5460b6228e1\"}, {\"type\": \"GlyphRenderer\", \"id\": \"e927f6db-94fb-4284-a7eb-d82190574e3c\"}], \"plot_width\": 400, \"below\": [{\"type\": \"LinearAxis\", \"id\": \"aaafc43b-0721-495f-8313-22b2ca457fe2\"}], \"tool_events\": {\"type\": \"ToolEvents\", \"id\": \"00392aa8-2558-489b-9044-8bd5d658bac6\"}, \"plot_height\": 400, \"tools\": [{\"type\": \"PanTool\", \"id\": \"43a5cdfe-68a4-48c2-b206-01663db2ca6b\"}, {\"type\": \"WheelZoomTool\", \"id\": \"92c65d67-fc2c-4b8a-9237-f6d9471b2dca\"}, {\"type\": \"BoxZoomTool\", \"id\": \"e644c620-7b94-4b5c-97fd-8808bf050d24\"}, {\"type\": \"PreviewSaveTool\", \"id\": \"5158f630-7016-4b5e-b921-bc1fcf2e30fb\"}, {\"type\": \"ResizeTool\", \"id\": \"42ad38d8-6879-4574-9517-6cf0ea4e0914\"}, {\"type\": \"ResetTool\", \"id\": \"f13c8045-5070-4128-913c-26edd2ba5daa\"}, {\"type\": \"HelpTool\", \"id\": \"207e8890-c2ab-474c-96ac-6f6d3d7430d1\"}], \"left\": [{\"type\": \"LinearAxis\", \"id\": \"a675df65-593f-431e-98b8-9995c69d53ab\"}]}, \"type\": \"Plot\", \"id\": \"3e001435-68d4-46c8-b9c7-4680e52e57ac\", \"subtype\": \"Figure\"}, {\"attributes\": {\"plot\": {\"subtype\": \"Figure\", \"type\": \"Plot\", \"id\": \"3e001435-68d4-46c8-b9c7-4680e52e57ac\"}, \"overlay\": {\"type\": \"BoxAnnotation\", \"id\": \"edb16806-c20d-4ee8-b959-e5460b6228e1\"}}, \"type\": \"BoxZoomTool\", \"id\": \"e644c620-7b94-4b5c-97fd-8808bf050d24\"}, {\"attributes\": {\"nonselection_glyph\": {\"type\": \"Line\", \"id\": \"77100afa-a391-46eb-8e40-7ff14ffa60dc\"}, \"data_source\": {\"type\": \"ColumnDataSource\", \"id\": \"f3b9e932-8d8e-407a-8b06-ecd7770d551e\"}, \"selection_glyph\": null, \"hover_glyph\": null, \"glyph\": {\"type\": \"Line\", \"id\": \"cc76483d-15d4-47ef-81b6-4f2bca89ab38\"}}, \"type\": \"GlyphRenderer\", \"id\": \"b412575b-a2bd-4070-9057-81e90f5e6e67\"}, {\"attributes\": {\"line_color\": {\"value\": \"#1f77b4\"}, \"line_alpha\": {\"value\": 0.1}, \"fill_color\": {\"value\": \"#1f77b4\"}, \"fill_alpha\": {\"value\": 0.1}, \"y\": {\"field\": \"y\"}, \"x\": {\"field\": \"x\"}, \"size\": {\"units\": \"screen\", \"value\": 12}}, \"type\": \"Asterisk\", \"id\": \"a3853aa1-3a9e-4586-8551-46d847d2df58\"}, {\"attributes\": {\"nonselection_glyph\": {\"type\": \"Line\", \"id\": \"34dff0d5-836b-4e12-b91c-eb3e6a0ab708\"}, \"data_source\": {\"type\": \"ColumnDataSource\", \"id\": \"eec314f5-fadc-4096-a5dc-4d478d7fb61a\"}, \"selection_glyph\": null, \"hover_glyph\": null, \"glyph\": {\"type\": \"Line\", \"id\": \"fca1afd6-f3e8-4a3c-8c86-705376c3de9d\"}}, \"type\": \"GlyphRenderer\", \"id\": \"32dc2ace-fd57-40c5-a739-54749c0baac4\"}, {\"attributes\": {\"plot\": {\"subtype\": \"Figure\", \"type\": \"Plot\", \"id\": \"d57d7cfb-2a5a-4f79-b999-29ca45562b25\"}}, \"type\": \"HelpTool\", \"id\": \"5c339541-3c4c-4f03-b65f-cc3488752d00\"}, {\"attributes\": {\"plot\": {\"subtype\": \"Figure\", \"type\": \"Plot\", \"id\": \"d57d7cfb-2a5a-4f79-b999-29ca45562b25\"}, \"overlay\": {\"type\": \"BoxAnnotation\", \"id\": \"a1e97715-c99a-4721-89c4-796c0a19b10e\"}}, \"type\": \"BoxZoomTool\", \"id\": \"93709c22-a9d3-41a5-bf80-d53f48eecc86\"}, {\"attributes\": {\"line_color\": {\"value\": \"olive\"}, \"x\": {\"field\": \"x\"}, \"y\": {\"field\": \"y\"}, \"fill_color\": {\"value\": \"olive\"}, \"size\": {\"units\": \"screen\", \"value\": 12}}, \"type\": \"Asterisk\", \"id\": \"e92fe008-95f7-431e-b3b5-67b045e37cd5\"}, {\"attributes\": {\"line_color\": {\"value\": \"black\"}, \"line_alpha\": {\"value\": 1.0}, \"render_mode\": \"css\", \"bottom_units\": \"screen\", \"level\": \"overlay\", \"top_units\": \"screen\", \"fill_alpha\": {\"value\": 0.5}, \"plot\": null, \"left_units\": \"screen\", \"line_dash\": [4, 4], \"line_width\": {\"value\": 2}, \"right_units\": \"screen\", \"fill_color\": {\"value\": \"lightgrey\"}}, \"type\": \"BoxAnnotation\", \"id\": \"a1e97715-c99a-4721-89c4-796c0a19b10e\"}, {\"attributes\": {\"plot\": {\"subtype\": \"Figure\", \"type\": \"Plot\", \"id\": \"c8b285f0-0af9-4f66-86e0-e837b0a068e6\"}}, \"type\": \"PanTool\", \"id\": \"9a28d93e-18f9-4658-b31e-d56ec627429e\"}, {\"attributes\": {\"plot\": {\"subtype\": \"Figure\", \"type\": \"Plot\", \"id\": \"d344d720-6fcd-4555-a9c9-2dfb14979ea9\"}}, \"type\": \"PreviewSaveTool\", \"id\": \"c915bbf4-e38f-452c-8d58-c85037a0b75a\"}, {\"attributes\": {\"plot\": {\"subtype\": \"Figure\", \"type\": \"Plot\", \"id\": \"d57d7cfb-2a5a-4f79-b999-29ca45562b25\"}}, \"type\": \"PanTool\", \"id\": \"7290f8ca-024a-4801-9236-df865c24be1d\"}, {\"attributes\": {}, \"type\": \"BasicTicker\", \"id\": \"d265ee12-8f9b-494a-82be-166bd4fea654\"}, {\"attributes\": {\"plot\": {\"subtype\": \"Figure\", \"type\": \"Plot\", \"id\": \"d344d720-6fcd-4555-a9c9-2dfb14979ea9\"}}, \"type\": \"PanTool\", \"id\": \"4ed5101d-70ed-4e0c-a77d-9f3ed1fd3b48\"}, {\"attributes\": {\"plot\": {\"subtype\": \"Figure\", \"type\": \"Plot\", \"id\": \"d57d7cfb-2a5a-4f79-b999-29ca45562b25\"}, \"ticker\": {\"type\": \"BasicTicker\", \"id\": \"5f9f2238-a20c-4793-9d63-455693fc9076\"}, \"dimension\": 1}, \"type\": \"Grid\", \"id\": \"fcda88df-bc09-4ad7-845b-f4a1f524a84c\"}, {\"attributes\": {\"plot\": {\"subtype\": \"Figure\", \"type\": \"Plot\", \"id\": \"d344d720-6fcd-4555-a9c9-2dfb14979ea9\"}, \"ticker\": {\"type\": \"BasicTicker\", \"id\": \"726478cd-239d-4132-acbe-0641ff6a785b\"}}, \"type\": \"Grid\", \"id\": \"0ba7084b-6f4e-4f70-a601-9d50f1afa06f\"}, {\"attributes\": {\"plot\": {\"subtype\": \"Figure\", \"type\": \"Plot\", \"id\": \"9c50741d-c9fe-4923-9dbc-2ff916d93b14\"}}, \"type\": \"PreviewSaveTool\", \"id\": \"ae2faae9-3185-41cf-a665-e6e1a9cad120\"}, {\"attributes\": {\"plot\": {\"subtype\": \"Figure\", \"type\": \"Plot\", \"id\": \"3c001830-f37b-4128-b170-dc8dd8865449\"}}, \"type\": \"WheelZoomTool\", \"id\": \"212d1ed9-5dce-4cdb-9e54-4c461d7bb785\"}, {\"attributes\": {}, \"type\": \"BasicTickFormatter\", \"id\": \"d2c98d6c-3b3b-47d9-890d-c63380685e01\"}, {\"attributes\": {\"x_range\": {\"type\": \"DataRange1d\", \"id\": \"6fc6f1d8-c709-4ccd-9670-ec3235c214c1\"}, \"y_range\": {\"type\": \"DataRange1d\", \"id\": \"c97cb482-88f3-4653-a8e9-23d8d225dc27\"}, \"renderers\": [{\"type\": \"LinearAxis\", \"id\": \"42cca4c4-bdfb-4a27-9727-8c9948269b33\"}, {\"type\": \"Grid\", \"id\": \"1ef56786-fad6-4708-9f7b-69c26a851016\"}, {\"type\": \"LinearAxis\", \"id\": \"89ab82bb-a349-4376-8576-c866c1304a6c\"}, {\"type\": \"Grid\", \"id\": \"fcda88df-bc09-4ad7-845b-f4a1f524a84c\"}, {\"type\": \"BoxAnnotation\", \"id\": \"a1e97715-c99a-4721-89c4-796c0a19b10e\"}, {\"type\": \"Legend\", \"id\": \"00852f99-1711-4695-b1db-b2ff619be9ac\"}, {\"type\": \"GlyphRenderer\", \"id\": \"2c4b93f4-1d04-4364-acf5-37aa8b7df0c3\"}, {\"type\": \"GlyphRenderer\", \"id\": \"b412575b-a2bd-4070-9057-81e90f5e6e67\"}, {\"type\": \"GlyphRenderer\", \"id\": \"f861b2b9-d217-44f5-8ed3-1e2c6c844bbf\"}, {\"type\": \"GlyphRenderer\", \"id\": \"32dc2ace-fd57-40c5-a739-54749c0baac4\"}, {\"type\": \"GlyphRenderer\", \"id\": \"5da25f2c-fb6b-48a9-a2a9-01de2f477bf6\"}], \"below\": [{\"type\": \"LinearAxis\", \"id\": \"42cca4c4-bdfb-4a27-9727-8c9948269b33\"}], \"tool_events\": {\"type\": \"ToolEvents\", \"id\": \"2baf6247-8e8d-4ae5-941d-c6a4ec91be74\"}, \"tools\": [{\"type\": \"PanTool\", \"id\": \"7290f8ca-024a-4801-9236-df865c24be1d\"}, {\"type\": \"WheelZoomTool\", \"id\": \"80d25a58-9fa7-4cf4-8ff7-c46293943b50\"}, {\"type\": \"BoxZoomTool\", \"id\": \"93709c22-a9d3-41a5-bf80-d53f48eecc86\"}, {\"type\": \"PreviewSaveTool\", \"id\": \"e15a9917-81f2-42b1-8628-3b34af28d4d2\"}, {\"type\": \"ResizeTool\", \"id\": \"9c7d1761-4a6b-468f-84bf-7ab66c1860c7\"}, {\"type\": \"ResetTool\", \"id\": \"d48b6504-50cd-46dd-b730-b53372acc2c3\"}, {\"type\": \"HelpTool\", \"id\": \"5c339541-3c4c-4f03-b65f-cc3488752d00\"}], \"left\": [{\"type\": \"LinearAxis\", \"id\": \"89ab82bb-a349-4376-8576-c866c1304a6c\"}]}, \"type\": \"Plot\", \"id\": \"d57d7cfb-2a5a-4f79-b999-29ca45562b25\", \"subtype\": \"Figure\"}, {\"attributes\": {\"plot\": {\"subtype\": \"Figure\", \"type\": \"Plot\", \"id\": \"9c50741d-c9fe-4923-9dbc-2ff916d93b14\"}}, \"type\": \"HelpTool\", \"id\": \"4f02d712-b510-49f7-b27c-953ed6362726\"}, {\"attributes\": {}, \"type\": \"BasicTicker\", \"id\": \"b730f5a7-b929-4ca3-bb17-e84b38149c26\"}, {\"attributes\": {\"line_color\": {\"value\": \"black\"}, \"line_alpha\": {\"value\": 1.0}, \"render_mode\": \"css\", \"bottom_units\": \"screen\", \"level\": \"overlay\", \"top_units\": \"screen\", \"fill_alpha\": {\"value\": 0.5}, \"plot\": null, \"left_units\": \"screen\", \"line_dash\": [4, 4], \"line_width\": {\"value\": 2}, \"right_units\": \"screen\", \"fill_color\": {\"value\": \"lightgrey\"}}, \"type\": \"BoxAnnotation\", \"id\": \"60531ff1-fdd5-4333-99e0-5647d909adb4\"}, {\"attributes\": {\"line_color\": {\"value\": \"#1f77b4\"}, \"line_alpha\": {\"value\": 0.1}, \"line_width\": {\"value\": 2}, \"line_dash\": [4, 4], \"y\": {\"field\": \"y\"}, \"x\": {\"field\": \"x\"}}, \"type\": \"Line\", \"id\": \"087ee737-42b0-4a14-907e-74348576ae5c\"}, {\"attributes\": {}, \"type\": \"BasicTickFormatter\", \"id\": \"2f204493-0281-43f7-a699-0daf17c7aa6b\"}, {\"attributes\": {\"plot\": {\"subtype\": \"Figure\", \"type\": \"Plot\", \"id\": \"3e001435-68d4-46c8-b9c7-4680e52e57ac\"}}, \"type\": \"ResizeTool\", \"id\": \"42ad38d8-6879-4574-9517-6cf0ea4e0914\"}, {\"attributes\": {\"plot\": {\"subtype\": \"Figure\", \"type\": \"Plot\", \"id\": \"d57d7cfb-2a5a-4f79-b999-29ca45562b25\"}}, \"type\": \"WheelZoomTool\", \"id\": \"80d25a58-9fa7-4cf4-8ff7-c46293943b50\"}, {\"attributes\": {\"plot\": {\"subtype\": \"Figure\", \"type\": \"Plot\", \"id\": \"9c50741d-c9fe-4923-9dbc-2ff916d93b14\"}, \"ticker\": {\"type\": \"BasicTicker\", \"id\": \"b730f5a7-b929-4ca3-bb17-e84b38149c26\"}, \"dimension\": 1}, \"type\": \"Grid\", \"id\": \"183fb0ab-3841-4586-93a2-a4f4ac3eed15\"}, {\"attributes\": {\"plot\": {\"subtype\": \"Figure\", \"type\": \"Plot\", \"id\": \"d344d720-6fcd-4555-a9c9-2dfb14979ea9\"}, \"ticker\": {\"type\": \"BasicTicker\", \"id\": \"b4adcc9f-e844-4fb8-8a04-12213c3066cd\"}, \"dimension\": 1}, \"type\": \"Grid\", \"id\": \"31ec6682-23a2-4b37-83c5-65e0d875c7bc\"}, {\"attributes\": {}, \"type\": \"BasicTickFormatter\", \"id\": \"2fec70c5-a0cb-43de-b95e-33c9596f25c8\"}, {\"attributes\": {}, \"type\": \"BasicTickFormatter\", \"id\": \"007bff35-268b-46aa-ac58-85908b9b7a57\"}, {\"attributes\": {\"callback\": null}, \"type\": \"DataRange1d\", \"id\": \"86cf9d1a-d1d3-47a7-9dc7-e5bb293f3986\"}, {\"attributes\": {\"nonselection_glyph\": {\"type\": \"Circle\", \"id\": \"ea08f7d7-b44c-40d9-9621-c2e08b6940ff\"}, \"data_source\": {\"type\": \"ColumnDataSource\", \"id\": \"3dd7d08d-b064-45f5-a0f5-d3efd0f27f3f\"}, \"selection_glyph\": null, \"hover_glyph\": null, \"glyph\": {\"type\": \"Circle\", \"id\": \"57b3dda1-0bb0-4160-9375-1af1e2891eb8\"}}, \"type\": \"GlyphRenderer\", \"id\": \"2c4b93f4-1d04-4364-acf5-37aa8b7df0c3\"}, {\"attributes\": {\"line_color\": {\"value\": \"#1f77b4\"}, \"line_width\": {\"value\": 2}, \"fill_color\": {\"value\": \"#1f77b4\"}, \"y\": {\"field\": \"y\"}, \"x\": {\"field\": \"x\"}, \"size\": {\"units\": \"screen\", \"value\": 10}}, \"type\": \"X\", \"id\": \"9c8d1824-c8a0-4bed-a783-f223fc7f18f1\"}, {\"attributes\": {\"nonselection_glyph\": {\"type\": \"Circle\", \"id\": \"b985d2b4-7202-4984-bf72-f62ab566113e\"}, \"data_source\": {\"type\": \"ColumnDataSource\", \"id\": \"66ca0b41-2e62-4eeb-bd59-fa946e5c7efd\"}, \"selection_glyph\": null, \"hover_glyph\": null, \"glyph\": {\"type\": \"Circle\", \"id\": \"6bc69132-a4df-4eaa-b1af-ababfb85d929\"}}, \"type\": \"GlyphRenderer\", \"id\": \"90234217-5ff6-42c5-beee-8ce9bc2d9511\"}, {\"attributes\": {}, \"type\": \"ToolEvents\", \"id\": \"171f80dc-59e6-4e7e-8e7c-dc9659f0613e\"}, {\"attributes\": {\"plot\": {\"subtype\": \"Figure\", \"type\": \"Plot\", \"id\": \"d57d7cfb-2a5a-4f79-b999-29ca45562b25\"}}, \"type\": \"PreviewSaveTool\", \"id\": \"e15a9917-81f2-42b1-8628-3b34af28d4d2\"}, {\"attributes\": {\"plot\": {\"subtype\": \"Figure\", \"type\": \"Plot\", \"id\": \"3c001830-f37b-4128-b170-dc8dd8865449\"}, \"grid_line_color\": {\"value\": null}, \"ticker\": {\"type\": \"BasicTicker\", \"id\": \"7fc8d209-f8ee-42f4-a16d-8a073e41e9fc\"}}, \"type\": \"Grid\", \"id\": \"0cefef30-1c2b-4376-a805-b396748feeab\"}, {\"attributes\": {\"x_range\": {\"type\": \"DataRange1d\", \"id\": \"86cf9d1a-d1d3-47a7-9dc7-e5bb293f3986\"}, \"y_range\": {\"type\": \"DataRange1d\", \"id\": \"85a992eb-408f-4f3a-b6cb-eba2216d138d\"}, \"renderers\": [{\"type\": \"LinearAxis\", \"id\": \"e3dfeebc-eadb-46e9-b1f7-24cf8af38c2d\"}, {\"type\": \"Grid\", \"id\": \"78aec0d1-6deb-410a-865d-93fb09bd1e1a\"}, {\"type\": \"LinearAxis\", \"id\": \"673e6435-73a7-40a0-a1a0-ee4aa6a1332f\"}, {\"type\": \"Grid\", \"id\": \"e35e51de-6070-4b52-8f84-6991d29c56c8\"}, {\"type\": \"BoxAnnotation\", \"id\": \"9bc9d770-4e0d-4ef0-9bbc-bb01186f378c\"}, {\"type\": \"GlyphRenderer\", \"id\": \"7c8c5e3f-613b-4b42-ac06-d44921b3a5a1\"}], \"plot_width\": 400, \"below\": [{\"type\": \"LinearAxis\", \"id\": \"e3dfeebc-eadb-46e9-b1f7-24cf8af38c2d\"}], \"tool_events\": {\"type\": \"ToolEvents\", \"id\": \"a111e421-8edc-40ce-8e78-b2e18900674d\"}, \"plot_height\": 400, \"tools\": [{\"type\": \"PanTool\", \"id\": \"9a28d93e-18f9-4658-b31e-d56ec627429e\"}, {\"type\": \"WheelZoomTool\", \"id\": \"dcad87cc-3f47-4b4d-af00-8df3cd686feb\"}, {\"type\": \"BoxZoomTool\", \"id\": \"bd8df307-b5a1-4e06-8226-2aa6715fe568\"}, {\"type\": \"PreviewSaveTool\", \"id\": \"9b9c3797-fc29-44f3-9324-64af8a930ac4\"}, {\"type\": \"ResizeTool\", \"id\": \"ec751161-1d1f-4621-997d-fe8a5e228427\"}, {\"type\": \"ResetTool\", \"id\": \"30f8296c-5423-4e3c-a0c7-edfb631dea25\"}, {\"type\": \"HelpTool\", \"id\": \"bf00296e-5e6e-4f53-8783-62149bc3166d\"}], \"left\": [{\"type\": \"LinearAxis\", \"id\": \"673e6435-73a7-40a0-a1a0-ee4aa6a1332f\"}]}, \"type\": \"Plot\", \"id\": \"c8b285f0-0af9-4f66-86e0-e837b0a068e6\", \"subtype\": \"Figure\"}, {\"attributes\": {\"plot\": {\"subtype\": \"Figure\", \"type\": \"Plot\", \"id\": \"9c50741d-c9fe-4923-9dbc-2ff916d93b14\"}}, \"type\": \"ResetTool\", \"id\": \"1562277d-7974-4baa-994e-2160431705ea\"}, {\"attributes\": {\"plot\": {\"subtype\": \"Figure\", \"type\": \"Plot\", \"id\": \"3e001435-68d4-46c8-b9c7-4680e52e57ac\"}}, \"type\": \"ResetTool\", \"id\": \"f13c8045-5070-4128-913c-26edd2ba5daa\"}, {\"attributes\": {\"callback\": null}, \"type\": \"DataRange1d\", \"id\": \"d6bd8fec-d82c-455a-9502-deb3b5d43497\"}, {\"attributes\": {\"plot\": {\"subtype\": \"Figure\", \"type\": \"Plot\", \"id\": \"c8b285f0-0af9-4f66-86e0-e837b0a068e6\"}, \"overlay\": {\"type\": \"BoxAnnotation\", \"id\": \"9bc9d770-4e0d-4ef0-9bbc-bb01186f378c\"}}, \"type\": \"BoxZoomTool\", \"id\": \"bd8df307-b5a1-4e06-8226-2aa6715fe568\"}, {\"attributes\": {\"line_color\": {\"value\": \"#1f77b4\"}, \"x\": {\"field\": \"x\"}, \"y\": {\"field\": \"y\"}, \"fill_color\": {\"value\": \"#1f77b4\"}, \"size\": {\"units\": \"screen\", \"value\": 10}}, \"type\": \"Circle\", \"id\": \"729ac44c-713d-4aec-9fa7-f4e90fe4802d\"}, {\"attributes\": {}, \"type\": \"BasicTicker\", \"id\": \"3973605d-0d68-4faf-8af7-f47412ca65d7\"}, {\"attributes\": {\"plot\": {\"subtype\": \"Figure\", \"type\": \"Plot\", \"id\": \"3e001435-68d4-46c8-b9c7-4680e52e57ac\"}}, \"type\": \"PanTool\", \"id\": \"43a5cdfe-68a4-48c2-b206-01663db2ca6b\"}, {\"attributes\": {\"plot\": {\"subtype\": \"Figure\", \"type\": \"Plot\", \"id\": \"d57d7cfb-2a5a-4f79-b999-29ca45562b25\"}, \"formatter\": {\"type\": \"BasicTickFormatter\", \"id\": \"ee2b598f-b5db-4c25-b9e2-4961a4686bdc\"}, \"ticker\": {\"type\": \"BasicTicker\", \"id\": \"5f9f2238-a20c-4793-9d63-455693fc9076\"}}, \"type\": \"LinearAxis\", \"id\": \"89ab82bb-a349-4376-8576-c866c1304a6c\"}, {\"attributes\": {}, \"type\": \"BasicTickFormatter\", \"id\": \"c2a5c953-a536-45e9-a12a-50b926d34d59\"}, {\"attributes\": {\"callback\": null, \"column_names\": [\"y\", \"x\"], \"data\": {\"y\": [2, 5, 8, 2, 7], \"x\": [1, 2, 3, 4, 5]}}, \"type\": \"ColumnDataSource\", \"id\": \"65e9b6d1-cd77-466d-b24e-d29b5df9f3d4\"}, {\"attributes\": {\"line_color\": {\"value\": \"#1f77b4\"}, \"x\": {\"field\": \"x\"}, \"y\": {\"field\": \"y\"}}, \"type\": \"Line\", \"id\": \"cc76483d-15d4-47ef-81b6-4f2bca89ab38\"}, {\"attributes\": {\"plot\": {\"subtype\": \"Figure\", \"type\": \"Plot\", \"id\": \"3c001830-f37b-4128-b170-dc8dd8865449\"}}, \"type\": \"ResetTool\", \"id\": \"979290e7-58fb-4cc3-a394-adc6645fad7b\"}, {\"attributes\": {\"callback\": null}, \"type\": \"DataRange1d\", \"id\": \"4f07eddd-25df-46b0-bf4a-82741261d033\"}, {\"attributes\": {\"plot\": {\"subtype\": \"Figure\", \"type\": \"Plot\", \"id\": \"c8b285f0-0af9-4f66-86e0-e837b0a068e6\"}}, \"type\": \"ResizeTool\", \"id\": \"ec751161-1d1f-4621-997d-fe8a5e228427\"}, {\"attributes\": {\"plot\": {\"subtype\": \"Figure\", \"type\": \"Plot\", \"id\": \"d57d7cfb-2a5a-4f79-b999-29ca45562b25\"}, \"ticker\": {\"type\": \"BasicTicker\", \"id\": \"41a50bcd-ce3e-4f4c-836e-f507839a6379\"}}, \"type\": \"Grid\", \"id\": \"1ef56786-fad6-4708-9f7b-69c26a851016\"}, {\"attributes\": {\"plot\": {\"subtype\": \"Figure\", \"type\": \"Plot\", \"id\": \"d344d720-6fcd-4555-a9c9-2dfb14979ea9\"}}, \"type\": \"ResizeTool\", \"id\": \"e535159b-1e4e-49b6-8892-e351e8e4a07d\"}, {\"attributes\": {\"callback\": null}, \"type\": \"DataRange1d\", \"id\": \"85a992eb-408f-4f3a-b6cb-eba2216d138d\"}, {\"attributes\": {\"nonselection_glyph\": {\"type\": \"X\", \"id\": \"1b48d27f-1f9d-4b9c-82a6-d74a95b34664\"}, \"data_source\": {\"type\": \"ColumnDataSource\", \"id\": \"08f34e73-1a4b-419a-a434-29a6bd8df4cb\"}, \"selection_glyph\": null, \"hover_glyph\": null, \"glyph\": {\"type\": \"X\", \"id\": \"9c8d1824-c8a0-4bed-a783-f223fc7f18f1\"}}, \"type\": \"GlyphRenderer\", \"id\": \"264dbbb5-4618-44ab-8df6-dc1002586a6a\"}, {\"attributes\": {\"x_range\": {\"type\": \"DataRange1d\", \"id\": \"4c262ec1-0662-41a6-b063-4152aa9367b6\"}, \"y_range\": {\"type\": \"DataRange1d\", \"id\": \"42f5d9e0-d0b3-4f1e-88c6-e50601175475\"}, \"renderers\": [{\"type\": \"LinearAxis\", \"id\": \"09930e51-7238-4f7e-a56c-6218eba408de\"}, {\"type\": \"Grid\", \"id\": \"0ba7084b-6f4e-4f70-a601-9d50f1afa06f\"}, {\"type\": \"LinearAxis\", \"id\": \"e2ed4965-d67f-47ee-994a-84a9538dc03c\"}, {\"type\": \"Grid\", \"id\": \"31ec6682-23a2-4b37-83c5-65e0d875c7bc\"}, {\"type\": \"BoxAnnotation\", \"id\": \"60531ff1-fdd5-4333-99e0-5647d909adb4\"}, {\"type\": \"GlyphRenderer\", \"id\": \"264dbbb5-4618-44ab-8df6-dc1002586a6a\"}], \"plot_width\": 400, \"below\": [{\"type\": \"LinearAxis\", \"id\": \"09930e51-7238-4f7e-a56c-6218eba408de\"}], \"tool_events\": {\"type\": \"ToolEvents\", \"id\": \"171f80dc-59e6-4e7e-8e7c-dc9659f0613e\"}, \"plot_height\": 400, \"tools\": [{\"type\": \"PanTool\", \"id\": \"4ed5101d-70ed-4e0c-a77d-9f3ed1fd3b48\"}, {\"type\": \"WheelZoomTool\", \"id\": \"47c2e5f5-38d8-4bee-b564-e8c3977b7a27\"}, {\"type\": \"BoxZoomTool\", \"id\": \"df3cfcc5-4ca8-48e4-83f9-fddcec269dc0\"}, {\"type\": \"PreviewSaveTool\", \"id\": \"c915bbf4-e38f-452c-8d58-c85037a0b75a\"}, {\"type\": \"ResizeTool\", \"id\": \"e535159b-1e4e-49b6-8892-e351e8e4a07d\"}, {\"type\": \"ResetTool\", \"id\": \"da9a487f-1f0f-47cd-a3fe-1f5ba4298240\"}, {\"type\": \"HelpTool\", \"id\": \"1f0edf1c-d9e3-4378-99a2-02fdae393041\"}], \"left\": [{\"type\": \"LinearAxis\", \"id\": \"e2ed4965-d67f-47ee-994a-84a9538dc03c\"}]}, \"type\": \"Plot\", \"id\": \"d344d720-6fcd-4555-a9c9-2dfb14979ea9\", \"subtype\": \"Figure\"}, {\"attributes\": {}, \"type\": \"ToolEvents\", \"id\": \"a111e421-8edc-40ce-8e78-b2e18900674d\"}, {\"attributes\": {\"plot\": {\"subtype\": \"Figure\", \"type\": \"Plot\", \"id\": \"3c001830-f37b-4128-b170-dc8dd8865449\"}}, \"type\": \"ResizeTool\", \"id\": \"1c91eaca-14c4-4a45-8095-842961afaa60\"}, {\"attributes\": {\"callback\": null, \"column_names\": [\"y\", \"x\"], \"data\": {\"y\": [0.0, 0.3797773607212478, 0.7534439615432377, 1.1149873669809827, 1.4585902083014062, 1.7787237871639212, 2.070237034446336, 2.3284393928752705, 2.549176289848543, 2.728895986063555, 2.8647067243322217, 2.954423259036624, 2.9966020175490238, 2.990564327855827, 2.936407338644336, 2.8350024561440055, 2.6879813228740077, 2.4977095639043143, 2.267248723062775, 2.000307001548875, 1.7011795915883126, 1.3746795651822317, 1.0260604299770066, 0.6609315983596225, 0.2851681299125473, -0.09518380049420358, -0.4740041879200503, -0.8451976705242895, -1.2027916062198414, -1.5410321747202191, -1.8544769586618157, -2.1380825141365887, -2.387285521592496, -2.5980762113533165, -2.767062882313744, -2.8915264756798265, -2.969464325642798, -2.999622383021625, -2.9815153933837624, -2.915434704970625, -2.8024435807953205, -2.644360090342746, -2.4437278561510074, -2.2037751259725997, -1.9283628290596186, -1.6219224523667923, -1.2893847362675157, -0.9361003370954613, -0.5677537330812292, -0.19027175896969356, 0.19027175896969478, 0.5677537330812303, 0.9361003370954624, 1.2893847362675144, 1.6219224523667934, 1.9283628290596173, 2.2037751259726, 2.443727856151007, 2.6443600903427464, 2.80244358079532, 2.9154347049706253, 2.9815153933837624, 2.999622383021625, 2.9694643256427984, 2.891526475679826, 2.767062882313745, 2.5980762113533147, 2.3872855215924957, 2.1380825141365887, 1.8544769586618168, 1.5410321747202174, 1.2027916062198403, 0.8451976705242896, 0.47400418792005167, 0.09518380049420103, -0.2851681299125485, -0.660931598359621, -1.026060429977004, -1.3746795651822326, -1.7011795915883123, -2.0003070015488738, -2.2672487230627763, -2.4977095639043148, -2.6879813228740077, -2.835002456144005, -2.9364073386443366, -2.990564327855827, -2.9966020175490238, -2.9544232590366244, -2.864706724332221, -2.728895986063555, -2.5491762898485435, -2.328439392875272, -2.070237034446335, -1.7787237871639212, -1.458590208301407, -1.11498736698098, -0.7534439615432363, -0.3797773607212479, -1.4695761589768238e-15], \"x\": [0.0, 0.12693303650867852, 0.25386607301735703, 0.3807991095260356, 0.5077321460347141, 0.6346651825433925, 0.7615982190520711, 0.8885312555607496, 1.0154642920694281, 1.1423973285781066, 1.269330365086785, 1.3962634015954636, 1.5231964381041423, 1.6501294746128208, 1.7770625111214993, 1.9039955476301778, 2.0309285841388562, 2.1578616206475347, 2.284794657156213, 2.4117276936648917, 2.53866073017357, 2.6655937666822487, 2.792526803190927, 2.9194598396996057, 3.0463928762082846, 3.173325912716963, 3.3002589492256416, 3.42719198573432, 3.5541250222429985, 3.681058058751677, 3.8079910952603555, 3.934924131769034, 4.0618571682777125, 4.188790204786391, 4.3157232412950695, 4.442656277803748, 4.569589314312426, 4.696522350821105, 4.823455387329783, 4.950388423838462, 5.07732146034714, 5.204254496855819, 5.331187533364497, 5.458120569873176, 5.585053606381854, 5.711986642890533, 5.838919679399211, 5.96585271590789, 6.092785752416569, 6.219718788925247, 6.346651825433926, 6.473584861942604, 6.600517898451283, 6.727450934959961, 6.85438397146864, 6.981317007977318, 7.108250044485997, 7.235183080994675, 7.362116117503354, 7.489049154012032, 7.615982190520711, 7.742915227029389, 7.869848263538068, 7.996781300046746, 8.123714336555425, 8.250647373064103, 8.377580409572783, 8.50451344608146, 8.631446482590139, 8.758379519098817, 8.885312555607497, 9.012245592116175, 9.139178628624853, 9.266111665133531, 9.39304470164221, 9.519977738150889, 9.646910774659567, 9.773843811168245, 9.900776847676925, 10.027709884185603, 10.15464292069428, 10.28157595720296, 10.408508993711639, 10.535442030220317, 10.662375066728995, 10.789308103237675, 10.916241139746353, 11.04317417625503, 11.170107212763709, 11.297040249272388, 11.423973285781067, 11.550906322289745, 11.677839358798423, 11.804772395307102, 11.93170543181578, 12.058638468324459, 12.185571504833138, 12.312504541341816, 12.439437577850494, 12.566370614359172]}}, \"type\": \"ColumnDataSource\", \"id\": \"eec314f5-fadc-4096-a5dc-4d478d7fb61a\"}, {\"attributes\": {\"line_color\": {\"value\": \"#1f77b4\"}, \"x\": {\"field\": \"x\"}, \"y\": {\"field\": \"y\"}, \"fill_color\": {\"value\": \"#1f77b4\"}, \"size\": {\"units\": \"screen\", \"value\": 10}}, \"type\": \"Circle\", \"id\": \"1d722cbd-328a-4be4-aaa3-77bd1e6072d2\"}, {\"attributes\": {\"nonselection_glyph\": {\"type\": \"Line\", \"id\": \"087ee737-42b0-4a14-907e-74348576ae5c\"}, \"data_source\": {\"type\": \"ColumnDataSource\", \"id\": \"24e26271-b7ec-43fc-ae8f-f4918a32bdf7\"}, \"selection_glyph\": null, \"hover_glyph\": null, \"glyph\": {\"type\": \"Line\", \"id\": \"54d29ebc-3e5f-4331-8f2c-309e4d504ccf\"}}, \"type\": \"GlyphRenderer\", \"id\": \"f861b2b9-d217-44f5-8ed3-1e2c6c844bbf\"}, {\"attributes\": {\"plot\": {\"subtype\": \"Figure\", \"type\": \"Plot\", \"id\": \"c8b285f0-0af9-4f66-86e0-e837b0a068e6\"}}, \"type\": \"HelpTool\", \"id\": \"bf00296e-5e6e-4f53-8783-62149bc3166d\"}, {\"attributes\": {\"line_color\": {\"value\": \"#1f77b4\"}, \"x\": {\"field\": \"x\"}, \"y\": {\"field\": \"y\"}, \"fill_color\": {\"value\": \"#1f77b4\"}, \"size\": {\"units\": \"screen\", \"value\": 10}}, \"type\": \"Circle\", \"id\": \"6bc69132-a4df-4eaa-b1af-ababfb85d929\"}, {\"attributes\": {\"callback\": null, \"column_names\": [\"y\", \"x\"], \"data\": {\"y\": [2, 5, 8, 2, 7], \"x\": [1, 2, 3, 4, 5]}}, \"type\": \"ColumnDataSource\", \"id\": \"485d9ae1-f16a-4a91-a9bb-9bbc31bd62d5\"}, {\"attributes\": {\"plot\": {\"subtype\": \"Figure\", \"type\": \"Plot\", \"id\": \"9c50741d-c9fe-4923-9dbc-2ff916d93b14\"}}, \"type\": \"ResizeTool\", \"id\": \"82821871-7f2d-4e4e-81f0-73fc2d8dd05c\"}, {\"attributes\": {\"callback\": null}, \"type\": \"DataRange1d\", \"id\": \"c97cb482-88f3-4653-a8e9-23d8d225dc27\"}, {\"attributes\": {\"callback\": null}, \"type\": \"DataRange1d\", \"id\": \"0663b3e5-7953-465c-b6d2-df6ca31c6942\"}, {\"attributes\": {}, \"type\": \"BasicTicker\", \"id\": \"5f9f2238-a20c-4793-9d63-455693fc9076\"}, {\"attributes\": {\"line_color\": {\"value\": \"black\"}, \"line_alpha\": {\"value\": 1.0}, \"render_mode\": \"css\", \"bottom_units\": \"screen\", \"level\": \"overlay\", \"top_units\": \"screen\", \"fill_alpha\": {\"value\": 0.5}, \"plot\": null, \"left_units\": \"screen\", \"line_dash\": [4, 4], \"line_width\": {\"value\": 2}, \"right_units\": \"screen\", \"fill_color\": {\"value\": \"lightgrey\"}}, \"type\": \"BoxAnnotation\", \"id\": \"9bc9d770-4e0d-4ef0-9bbc-bb01186f378c\"}, {\"attributes\": {\"line_color\": {\"value\": \"#1f77b4\"}, \"x\": {\"field\": \"x\"}, \"fill_color\": {\"value\": \"#1f77b4\"}, \"y\": {\"field\": \"y\"}}, \"type\": \"Circle\", \"id\": \"57b3dda1-0bb0-4160-9375-1af1e2891eb8\"}]}, \"title\": \"Bokeh Application\"}};\n",
       "            var render_items = [{\"notebook_comms_target\": \"cdfe5b01-ad59-4a9f-aff9-8f2f3189cde7\", \"docid\": \"48ffea3e-e2c8-4bda-a18c-784639fae141\", \"elementid\": \"b388109f-f299-4a50-8ba9-b65cc057af81\", \"modelid\": \"d57d7cfb-2a5a-4f79-b999-29ca45562b25\"}];\n",
       "            \n",
       "            Bokeh.embed.embed_items(docs_json, render_items);\n",
       "        });\n",
       "      },\n",
       "      function(Bokeh) {\n",
       "      }\n",
       "    ];\n",
       "  \n",
       "    function run_inline_js() {\n",
       "      for (var i = 0; i < inline_js.length; i++) {\n",
       "        inline_js[i](window.Bokeh);\n",
       "      }\n",
       "    }\n",
       "  \n",
       "    if (window._bokeh_is_loading === 0) {\n",
       "      console.log(\"Bokeh: BokehJS loaded, going straight to plotting\");\n",
       "      run_inline_js();\n",
       "    } else {\n",
       "      load_libs(js_urls, function() {\n",
       "        console.log(\"Bokeh: BokehJS plotting callback run at\", now());\n",
       "        run_inline_js();\n",
       "      });\n",
       "    }\n",
       "  }(this));\n",
       "</script>"
      ]
     },
     "metadata": {},
     "output_type": "display_data"
    },
    {
     "data": {
      "text/plain": [
       "<bokeh.io._CommsHandle at 0x7f1d9ea3aa50>"
      ]
     },
     "execution_count": 12,
     "metadata": {},
     "output_type": "execute_result"
    }
   ],
   "source": [
    "import numpy as np\n",
    "\n",
    "x = np.linspace(0, 4*np.pi, 100)\n",
    "y = np.sin(x)\n",
    "\n",
    "p = figure()\n",
    "\n",
    "p.circle(x, y, legend=\"sin(x)\")\n",
    "p.line(x, y, legend=\"sin(x)\")\n",
    "\n",
    "p.line(x, 2*y, legend=\"2*sin(x)\", line_dash=[4, 4], line_color=\"orange\", line_width=2)\n",
    "\n",
    "p.line(x, 3*y, legend=\"3*sin(x)\", line_color=\"green\")\n",
    "p.square(x, 3*y, legend=\"3*sin(x)\", fill_color=\"white\", line_color=\"green\")\n",
    "\n",
    "p.legend.orientation = \"bottom_left\"\n",
    "\n",
    "show(p)"
   ]
  },
  {
   "cell_type": "code",
   "execution_count": 13,
   "metadata": {
    "collapsed": true
   },
   "outputs": [],
   "source": [
    "# EXERCISE Create a plot of your own and add a legend\n",
    "\n"
   ]
  }
 ],
 "metadata": {
  "kernelspec": {
   "display_name": "Python 2",
   "language": "python",
   "name": "python2"
  },
  "language_info": {
   "codemirror_mode": {
    "name": "ipython",
    "version": 2
   },
   "file_extension": ".py",
   "mimetype": "text/x-python",
   "name": "python",
   "nbconvert_exporter": "python",
   "pygments_lexer": "ipython2",
   "version": "2.7.11"
  }
 },
 "nbformat": 4,
 "nbformat_minor": 0
}
