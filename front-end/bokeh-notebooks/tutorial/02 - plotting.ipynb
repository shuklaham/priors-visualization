{
 "cells": [
  {
   "cell_type": "markdown",
   "metadata": {
    "collapsed": true
   },
   "source": [
    "<table style=\"float:left; border:none\">\n",
    "   <tr style=\"border:none\">\n",
    "       <td style=\"border:none\">\n",
    "           <a href=\"http://bokeh.pydata.org/\">     \n",
    "           <img \n",
    "               src=\"http://bokeh.pydata.org/en/latest/_static/bokeh-transparent.png\" \n",
    "               style=\"width:70px\"\n",
    "           >\n",
    "           </a>    \n",
    "       </td>\n",
    "       <td style=\"border:none\">\n",
    "           <h1>Bokeh Tutorial &mdash; <tt style=\"display:inline\">bokeh.plotting</tt> interface</h1>\n",
    "       </td>\n",
    "   </tr>\n",
    "</table>"
   ]
  },
  {
   "cell_type": "markdown",
   "metadata": {},
   "source": [
    "This section of the tutorial covers the [`bokeh.plotting`](http://bokeh.pydata.org/en/latest/docs/user_guide/plotting.html) \n",
    "interface. This interface is a \"mid-level\" interface, and the main idea can be described by the statement:\n",
    "\n",
    "> Starting from simple default figures (with default tools, grids and axes), add markers and other shapes whose \n",
    "visual attributes are tied to data.\n",
    "\n",
    "We will see that it is possible to customize and change all of the defaults, but having them means that it is possible to get up and running very quickly. "
   ]
  },
  {
   "cell_type": "markdown",
   "metadata": {},
   "source": [
    "# Imports and Setup\n",
    "\n",
    "When using the [`bokeh.plotting`](http://bokeh.pydata.org/en/latest/docs/user_guide/plotting.html) interface, there are a few common imports:\n",
    "* Use the [`figure`](http://bokeh.pydata.org/en/latest/docs/reference/plotting.html#bokeh.plotting.figure) function to  create new plot objects to work with. \n",
    "* Call the functions [`output_file`](http://bokeh.pydata.org/en/latest/docs/reference/resources_embedding.html#bokeh.io.output_file), [`output_notebook`](http://bokeh.pydata.org/en/latest/docs/reference/resources_embedding.html#bokeh.io.output_notebook), and [`output_server`](http://bokeh.pydata.org/en/latest/docs/reference/resources_embedding.html#bokeh.io.output_server) (possibly in combination) to tell Bokeh how to display or save output. \n",
    "* Execute [`show`](http://bokeh.pydata.org/en/latest/docs/reference/resources_embedding.html#bokeh.io.show) and  [`save`](http://bokeh.pydata.org/en/latest/docs/reference/resources_embedding.html#bokeh.io.save) to display or save plots and layouts."
   ]
  },
  {
   "cell_type": "code",
   "execution_count": 1,
   "metadata": {
    "collapsed": false
   },
   "outputs": [],
   "source": [
    "from bokeh.io import output_notebook, show\n",
    "from bokeh.plotting import figure"
   ]
  },
  {
   "cell_type": "markdown",
   "metadata": {},
   "source": [
    "In this case, we are in the Jupyter notebook, so call `output_notebook()`. We only need to call this once, and all subsequent calls to `show()` will display inline in the notebook."
   ]
  },
  {
   "cell_type": "code",
   "execution_count": 2,
   "metadata": {
    "collapsed": false
   },
   "outputs": [
    {
     "data": {
      "text/html": [
       "\n",
       "\n",
       "    <script type=\"text/javascript\">\n",
       "      \n",
       "      (function(global) {\n",
       "        function now() {\n",
       "          return new Date();\n",
       "        }\n",
       "      \n",
       "        if (typeof (window._bokeh_onload_callbacks) === \"undefined\") {\n",
       "          window._bokeh_onload_callbacks = [];\n",
       "        }\n",
       "      \n",
       "        function run_callbacks() {\n",
       "          window._bokeh_onload_callbacks.forEach(function(callback) { callback() });\n",
       "          delete window._bokeh_onload_callbacks\n",
       "          console.info(\"Bokeh: all callbacks have finished\");\n",
       "        }\n",
       "      \n",
       "        function load_libs(js_urls, callback) {\n",
       "          window._bokeh_onload_callbacks.push(callback);\n",
       "          if (window._bokeh_is_loading > 0) {\n",
       "            console.log(\"Bokeh: BokehJS is being loaded, scheduling callback at\", now());\n",
       "            return null;\n",
       "          }\n",
       "          if (js_urls == null || js_urls.length === 0) {\n",
       "            run_callbacks();\n",
       "            return null;\n",
       "          }\n",
       "          console.log(\"Bokeh: BokehJS not loaded, scheduling load and callback at\", now());\n",
       "          window._bokeh_is_loading = js_urls.length;\n",
       "          for (var i = 0; i < js_urls.length; i++) {\n",
       "            var url = js_urls[i];\n",
       "            var s = document.createElement('script');\n",
       "            s.src = url;\n",
       "            s.async = false;\n",
       "            s.onreadystatechange = s.onload = function() {\n",
       "              window._bokeh_is_loading--;\n",
       "              if (window._bokeh_is_loading === 0) {\n",
       "                console.log(\"Bokeh: all BokehJS libraries loaded\");\n",
       "                run_callbacks()\n",
       "              }\n",
       "            };\n",
       "            s.onerror = function() {\n",
       "              console.warn(\"failed to load library \" + url);\n",
       "            };\n",
       "            console.log(\"Bokeh: injecting script tag for BokehJS library: \", url);\n",
       "            document.getElementsByTagName(\"head\")[0].appendChild(s);\n",
       "          }\n",
       "        };var js_urls = ['https://cdn.pydata.org/bokeh/release/bokeh-0.11.0.min.js', 'https://cdn.pydata.org/bokeh/release/bokeh-widgets-0.11.0.min.js', 'https://cdn.pydata.org/bokeh/release/bokeh-compiler-0.11.0.min.js'];\n",
       "      \n",
       "        var inline_js = [\n",
       "          function(Bokeh) {\n",
       "            Bokeh.set_log_level(\"info\");\n",
       "          },\n",
       "          function(Bokeh) {\n",
       "            console.log(\"Bokeh: injecting CSS: https://cdn.pydata.org/bokeh/release/bokeh-0.11.0.min.css\");\n",
       "            Bokeh.embed.inject_css(\"https://cdn.pydata.org/bokeh/release/bokeh-0.11.0.min.css\");\n",
       "            console.log(\"Bokeh: injecting CSS: https://cdn.pydata.org/bokeh/release/bokeh-widgets-0.11.0.min.css\");\n",
       "            Bokeh.embed.inject_css(\"https://cdn.pydata.org/bokeh/release/bokeh-widgets-0.11.0.min.css\");\n",
       "          }\n",
       "        ];\n",
       "      \n",
       "        function run_inline_js() {\n",
       "          for (var i = 0; i < inline_js.length; i++) {\n",
       "            inline_js[i](window.Bokeh);\n",
       "          }\n",
       "        }\n",
       "      \n",
       "        if (window._bokeh_is_loading === 0) {\n",
       "          console.log(\"Bokeh: BokehJS loaded, going straight to plotting\");\n",
       "          run_inline_js();\n",
       "        } else {\n",
       "          load_libs(js_urls, function() {\n",
       "            console.log(\"Bokeh: BokehJS plotting callback run at\", now());\n",
       "            run_inline_js();\n",
       "          });\n",
       "        }\n",
       "      }(this));\n",
       "    </script>\n",
       "    <div>\n",
       "        <a href=\"http://bokeh.pydata.org\" target=\"_blank\" class=\"bk-logo bk-logo-small bk-logo-notebook\"></a>\n",
       "        <span>BokehJS successfully loaded.</span>\n",
       "    </div>"
      ]
     },
     "metadata": {},
     "output_type": "display_data"
    }
   ],
   "source": [
    "output_notebook()"
   ]
  },
  {
   "cell_type": "markdown",
   "metadata": {},
   "source": [
    "# Some Basic Scatter Plots\n",
    "\n",
    "In this section you will see how to use Bokeh's various marker types to create simple scatter plots. "
   ]
  },
  {
   "cell_type": "code",
   "execution_count": 3,
   "metadata": {
    "collapsed": false
   },
   "outputs": [
    {
     "data": {
      "text/html": [
       "\n",
       "\n",
       "    <div class=\"plotdiv\" id=\"55e44ff8-d38f-4020-9597-b97c9c85d78a\"></div>\n",
       "<script type=\"text/javascript\">\n",
       "  \n",
       "  (function(global) {\n",
       "    function now() {\n",
       "      return new Date();\n",
       "    }\n",
       "  \n",
       "    if (typeof (window._bokeh_onload_callbacks) === \"undefined\") {\n",
       "      window._bokeh_onload_callbacks = [];\n",
       "    }\n",
       "  \n",
       "    function run_callbacks() {\n",
       "      window._bokeh_onload_callbacks.forEach(function(callback) { callback() });\n",
       "      delete window._bokeh_onload_callbacks\n",
       "      console.info(\"Bokeh: all callbacks have finished\");\n",
       "    }\n",
       "  \n",
       "    function load_libs(js_urls, callback) {\n",
       "      window._bokeh_onload_callbacks.push(callback);\n",
       "      if (window._bokeh_is_loading > 0) {\n",
       "        console.log(\"Bokeh: BokehJS is being loaded, scheduling callback at\", now());\n",
       "        return null;\n",
       "      }\n",
       "      if (js_urls == null || js_urls.length === 0) {\n",
       "        run_callbacks();\n",
       "        return null;\n",
       "      }\n",
       "      console.log(\"Bokeh: BokehJS not loaded, scheduling load and callback at\", now());\n",
       "      window._bokeh_is_loading = js_urls.length;\n",
       "      for (var i = 0; i < js_urls.length; i++) {\n",
       "        var url = js_urls[i];\n",
       "        var s = document.createElement('script');\n",
       "        s.src = url;\n",
       "        s.async = false;\n",
       "        s.onreadystatechange = s.onload = function() {\n",
       "          window._bokeh_is_loading--;\n",
       "          if (window._bokeh_is_loading === 0) {\n",
       "            console.log(\"Bokeh: all BokehJS libraries loaded\");\n",
       "            run_callbacks()\n",
       "          }\n",
       "        };\n",
       "        s.onerror = function() {\n",
       "          console.warn(\"failed to load library \" + url);\n",
       "        };\n",
       "        console.log(\"Bokeh: injecting script tag for BokehJS library: \", url);\n",
       "        document.getElementsByTagName(\"head\")[0].appendChild(s);\n",
       "      }\n",
       "    };var element = document.getElementById(\"55e44ff8-d38f-4020-9597-b97c9c85d78a\");\n",
       "    if (element == null) {\n",
       "      console.log(\"Bokeh: ERROR: autoload.js configured with elementid '55e44ff8-d38f-4020-9597-b97c9c85d78a' but no matching script tag was found. \")\n",
       "      return false;\n",
       "    }var js_urls = [];\n",
       "  \n",
       "    var inline_js = [\n",
       "      function(Bokeh) {\n",
       "        Bokeh.$(function() {\n",
       "            var docs_json = {\"d9c25449-cf46-4465-a8e4-fc88ad4a35c2\": {\"version\": \"0.11.0\", \"roots\": {\"root_ids\": [\"14d1c747-16af-465f-91b9-12731e4f38be\"], \"references\": [{\"attributes\": {\"plot\": {\"subtype\": \"Figure\", \"type\": \"Plot\", \"id\": \"14d1c747-16af-465f-91b9-12731e4f38be\"}}, \"type\": \"PreviewSaveTool\", \"id\": \"4385305c-994c-4288-a940-b378fb4923cd\"}, {\"attributes\": {\"line_color\": {\"value\": \"navy\"}, \"fill_color\": {\"value\": \"orange\"}, \"fill_alpha\": {\"value\": 0.5}, \"y\": {\"field\": \"y\"}, \"x\": {\"field\": \"x\"}, \"size\": {\"units\": \"screen\", \"value\": 15}}, \"type\": \"Circle\", \"id\": \"395b1b0b-125d-4710-a6b8-b458904fa499\"}, {\"attributes\": {\"line_color\": {\"value\": \"#1f77b4\"}, \"line_alpha\": {\"value\": 0.1}, \"fill_color\": {\"value\": \"#1f77b4\"}, \"fill_alpha\": {\"value\": 0.1}, \"y\": {\"field\": \"y\"}, \"x\": {\"field\": \"x\"}, \"size\": {\"units\": \"screen\", \"value\": 15}}, \"type\": \"Circle\", \"id\": \"dd619af7-bb55-40ef-b91c-b15c04ea95da\"}, {\"attributes\": {\"plot\": {\"subtype\": \"Figure\", \"type\": \"Plot\", \"id\": \"14d1c747-16af-465f-91b9-12731e4f38be\"}}, \"type\": \"WheelZoomTool\", \"id\": \"ea5ce1d8-af20-4ad1-81b3-ae2957d7ab12\"}, {\"attributes\": {}, \"type\": \"BasicTickFormatter\", \"id\": \"0e2b6212-c17b-4ca5-a65b-a9e12cd7464f\"}, {\"attributes\": {}, \"type\": \"BasicTicker\", \"id\": \"fdfe7461-7715-45ed-94f4-1d80865cda1d\"}, {\"attributes\": {\"plot\": {\"subtype\": \"Figure\", \"type\": \"Plot\", \"id\": \"14d1c747-16af-465f-91b9-12731e4f38be\"}, \"ticker\": {\"type\": \"BasicTicker\", \"id\": \"984f8357-1648-45f7-826d-f18072be689b\"}}, \"type\": \"Grid\", \"id\": \"bfd616df-9529-4c79-9c7e-bf4ef2070949\"}, {\"attributes\": {\"plot\": {\"subtype\": \"Figure\", \"type\": \"Plot\", \"id\": \"14d1c747-16af-465f-91b9-12731e4f38be\"}}, \"type\": \"HelpTool\", \"id\": \"0f5e5b69-46a9-4184-8e92-59413bbbe6a6\"}, {\"attributes\": {}, \"type\": \"ToolEvents\", \"id\": \"958e172f-274b-4f73-afb5-0c6c97c72a35\"}, {\"attributes\": {\"plot\": {\"subtype\": \"Figure\", \"type\": \"Plot\", \"id\": \"14d1c747-16af-465f-91b9-12731e4f38be\"}}, \"type\": \"PanTool\", \"id\": \"1c140fdb-8fea-463e-90b1-3daa1c8947d5\"}, {\"attributes\": {\"callback\": null, \"column_names\": [\"y\", \"x\"], \"data\": {\"y\": [6, 7, 2, 4, 5], \"x\": [1, 2, 3, 4, 5]}}, \"type\": \"ColumnDataSource\", \"id\": \"35e16c38-cfd3-409f-90c9-1059f2610cc1\"}, {\"attributes\": {\"nonselection_glyph\": {\"type\": \"Circle\", \"id\": \"dd619af7-bb55-40ef-b91c-b15c04ea95da\"}, \"data_source\": {\"type\": \"ColumnDataSource\", \"id\": \"35e16c38-cfd3-409f-90c9-1059f2610cc1\"}, \"selection_glyph\": null, \"hover_glyph\": null, \"glyph\": {\"type\": \"Circle\", \"id\": \"395b1b0b-125d-4710-a6b8-b458904fa499\"}}, \"type\": \"GlyphRenderer\", \"id\": \"ff58fc84-d613-4c60-912c-86496c3f7536\"}, {\"attributes\": {}, \"type\": \"BasicTickFormatter\", \"id\": \"cdb6b37f-1b01-4edc-82f4-3a44bdc28d10\"}, {\"attributes\": {\"line_color\": {\"value\": \"black\"}, \"line_alpha\": {\"value\": 1.0}, \"render_mode\": \"css\", \"bottom_units\": \"screen\", \"level\": \"overlay\", \"top_units\": \"screen\", \"fill_alpha\": {\"value\": 0.5}, \"plot\": null, \"left_units\": \"screen\", \"line_dash\": [4, 4], \"line_width\": {\"value\": 2}, \"right_units\": \"screen\", \"fill_color\": {\"value\": \"lightgrey\"}}, \"type\": \"BoxAnnotation\", \"id\": \"d757dc02-adc2-4582-b9d6-6426974162ce\"}, {\"attributes\": {\"plot\": {\"subtype\": \"Figure\", \"type\": \"Plot\", \"id\": \"14d1c747-16af-465f-91b9-12731e4f38be\"}}, \"type\": \"ResizeTool\", \"id\": \"3d363118-6acc-4ab2-a394-12eddf789160\"}, {\"attributes\": {\"callback\": null}, \"type\": \"DataRange1d\", \"id\": \"044e46d4-bfc8-472d-9305-5e4aa6499d92\"}, {\"attributes\": {}, \"type\": \"BasicTicker\", \"id\": \"984f8357-1648-45f7-826d-f18072be689b\"}, {\"attributes\": {\"plot\": {\"subtype\": \"Figure\", \"type\": \"Plot\", \"id\": \"14d1c747-16af-465f-91b9-12731e4f38be\"}, \"ticker\": {\"type\": \"BasicTicker\", \"id\": \"fdfe7461-7715-45ed-94f4-1d80865cda1d\"}, \"dimension\": 1}, \"type\": \"Grid\", \"id\": \"092913aa-3ae6-4b47-b11f-06a662f1dd24\"}, {\"attributes\": {\"plot\": {\"subtype\": \"Figure\", \"type\": \"Plot\", \"id\": \"14d1c747-16af-465f-91b9-12731e4f38be\"}}, \"type\": \"ResetTool\", \"id\": \"28933ab9-2696-41bf-9f47-661bbedfd3c0\"}, {\"attributes\": {\"plot\": {\"subtype\": \"Figure\", \"type\": \"Plot\", \"id\": \"14d1c747-16af-465f-91b9-12731e4f38be\"}, \"formatter\": {\"type\": \"BasicTickFormatter\", \"id\": \"0e2b6212-c17b-4ca5-a65b-a9e12cd7464f\"}, \"ticker\": {\"type\": \"BasicTicker\", \"id\": \"984f8357-1648-45f7-826d-f18072be689b\"}}, \"type\": \"LinearAxis\", \"id\": \"a4b65378-f0cc-46bf-85fa-69f4e988ef65\"}, {\"attributes\": {\"plot\": {\"subtype\": \"Figure\", \"type\": \"Plot\", \"id\": \"14d1c747-16af-465f-91b9-12731e4f38be\"}, \"overlay\": {\"type\": \"BoxAnnotation\", \"id\": \"d757dc02-adc2-4582-b9d6-6426974162ce\"}}, \"type\": \"BoxZoomTool\", \"id\": \"713bf457-33a3-4615-9357-216c1b08e222\"}, {\"attributes\": {\"callback\": null}, \"type\": \"DataRange1d\", \"id\": \"3c45b0ed-af0e-4ddc-a937-a28da0d74555\"}, {\"attributes\": {\"x_range\": {\"type\": \"DataRange1d\", \"id\": \"3c45b0ed-af0e-4ddc-a937-a28da0d74555\"}, \"y_range\": {\"type\": \"DataRange1d\", \"id\": \"044e46d4-bfc8-472d-9305-5e4aa6499d92\"}, \"renderers\": [{\"type\": \"LinearAxis\", \"id\": \"a4b65378-f0cc-46bf-85fa-69f4e988ef65\"}, {\"type\": \"Grid\", \"id\": \"bfd616df-9529-4c79-9c7e-bf4ef2070949\"}, {\"type\": \"LinearAxis\", \"id\": \"36bd32ab-8652-4f23-bed9-40553e19d295\"}, {\"type\": \"Grid\", \"id\": \"092913aa-3ae6-4b47-b11f-06a662f1dd24\"}, {\"type\": \"BoxAnnotation\", \"id\": \"d757dc02-adc2-4582-b9d6-6426974162ce\"}, {\"type\": \"GlyphRenderer\", \"id\": \"ff58fc84-d613-4c60-912c-86496c3f7536\"}], \"plot_width\": 400, \"below\": [{\"type\": \"LinearAxis\", \"id\": \"a4b65378-f0cc-46bf-85fa-69f4e988ef65\"}], \"tool_events\": {\"type\": \"ToolEvents\", \"id\": \"958e172f-274b-4f73-afb5-0c6c97c72a35\"}, \"plot_height\": 400, \"tools\": [{\"type\": \"PanTool\", \"id\": \"1c140fdb-8fea-463e-90b1-3daa1c8947d5\"}, {\"type\": \"WheelZoomTool\", \"id\": \"ea5ce1d8-af20-4ad1-81b3-ae2957d7ab12\"}, {\"type\": \"BoxZoomTool\", \"id\": \"713bf457-33a3-4615-9357-216c1b08e222\"}, {\"type\": \"PreviewSaveTool\", \"id\": \"4385305c-994c-4288-a940-b378fb4923cd\"}, {\"type\": \"ResizeTool\", \"id\": \"3d363118-6acc-4ab2-a394-12eddf789160\"}, {\"type\": \"ResetTool\", \"id\": \"28933ab9-2696-41bf-9f47-661bbedfd3c0\"}, {\"type\": \"HelpTool\", \"id\": \"0f5e5b69-46a9-4184-8e92-59413bbbe6a6\"}], \"left\": [{\"type\": \"LinearAxis\", \"id\": \"36bd32ab-8652-4f23-bed9-40553e19d295\"}]}, \"type\": \"Plot\", \"id\": \"14d1c747-16af-465f-91b9-12731e4f38be\", \"subtype\": \"Figure\"}, {\"attributes\": {\"plot\": {\"subtype\": \"Figure\", \"type\": \"Plot\", \"id\": \"14d1c747-16af-465f-91b9-12731e4f38be\"}, \"formatter\": {\"type\": \"BasicTickFormatter\", \"id\": \"cdb6b37f-1b01-4edc-82f4-3a44bdc28d10\"}, \"ticker\": {\"type\": \"BasicTicker\", \"id\": \"fdfe7461-7715-45ed-94f4-1d80865cda1d\"}}, \"type\": \"LinearAxis\", \"id\": \"36bd32ab-8652-4f23-bed9-40553e19d295\"}]}, \"title\": \"Bokeh Application\"}};\n",
       "            var render_items = [{\"notebook_comms_target\": \"caa09d50-882f-4c20-bb4c-4a7feb95de72\", \"docid\": \"d9c25449-cf46-4465-a8e4-fc88ad4a35c2\", \"elementid\": \"55e44ff8-d38f-4020-9597-b97c9c85d78a\", \"modelid\": \"14d1c747-16af-465f-91b9-12731e4f38be\"}];\n",
       "            \n",
       "            Bokeh.embed.embed_items(docs_json, render_items);\n",
       "        });\n",
       "      },\n",
       "      function(Bokeh) {\n",
       "      }\n",
       "    ];\n",
       "  \n",
       "    function run_inline_js() {\n",
       "      for (var i = 0; i < inline_js.length; i++) {\n",
       "        inline_js[i](window.Bokeh);\n",
       "      }\n",
       "    }\n",
       "  \n",
       "    if (window._bokeh_is_loading === 0) {\n",
       "      console.log(\"Bokeh: BokehJS loaded, going straight to plotting\");\n",
       "      run_inline_js();\n",
       "    } else {\n",
       "      load_libs(js_urls, function() {\n",
       "        console.log(\"Bokeh: BokehJS plotting callback run at\", now());\n",
       "        run_inline_js();\n",
       "      });\n",
       "    }\n",
       "  }(this));\n",
       "</script>"
      ]
     },
     "metadata": {},
     "output_type": "display_data"
    },
    {
     "data": {
      "text/plain": [
       "<bokeh.io._CommsHandle at 0x7fe98977f050>"
      ]
     },
     "execution_count": 3,
     "metadata": {},
     "output_type": "execute_result"
    }
   ],
   "source": [
    "# create a new plot with default tools, using figure\n",
    "p = figure(plot_width=400, plot_height=400)\n",
    "\n",
    "# add a circle renderer with a size, color, and alpha\n",
    "p.circle([1, 2, 3, 4, 5], [6, 7, 2, 4, 5], size=15, line_color=\"navy\", fill_color=\"orange\", fill_alpha=0.5)\n",
    "\n",
    "show(p) # show the results"
   ]
  },
  {
   "cell_type": "markdown",
   "metadata": {},
   "source": [
    "All Bokeh markers accept `size` (measured in screen space units) as a property. Circles also have `radius` (measured in \"data\" space units). "
   ]
  },
  {
   "cell_type": "code",
   "execution_count": 4,
   "metadata": {
    "collapsed": true
   },
   "outputs": [],
   "source": [
    "# EXERCISE: Try changing the example above to set a `radius` value instead of `size`\n",
    "\n"
   ]
  },
  {
   "cell_type": "markdown",
   "metadata": {},
   "source": [
    "To scatter square markers instead of circles, you can use the `square` method on figures. "
   ]
  },
  {
   "cell_type": "code",
   "execution_count": 5,
   "metadata": {
    "collapsed": false
   },
   "outputs": [
    {
     "data": {
      "text/html": [
       "\n",
       "\n",
       "    <div class=\"plotdiv\" id=\"99c7bc45-268f-4edc-b3d5-cde2c2a472f5\"></div>\n",
       "<script type=\"text/javascript\">\n",
       "  \n",
       "  (function(global) {\n",
       "    function now() {\n",
       "      return new Date();\n",
       "    }\n",
       "  \n",
       "    if (typeof (window._bokeh_onload_callbacks) === \"undefined\") {\n",
       "      window._bokeh_onload_callbacks = [];\n",
       "    }\n",
       "  \n",
       "    function run_callbacks() {\n",
       "      window._bokeh_onload_callbacks.forEach(function(callback) { callback() });\n",
       "      delete window._bokeh_onload_callbacks\n",
       "      console.info(\"Bokeh: all callbacks have finished\");\n",
       "    }\n",
       "  \n",
       "    function load_libs(js_urls, callback) {\n",
       "      window._bokeh_onload_callbacks.push(callback);\n",
       "      if (window._bokeh_is_loading > 0) {\n",
       "        console.log(\"Bokeh: BokehJS is being loaded, scheduling callback at\", now());\n",
       "        return null;\n",
       "      }\n",
       "      if (js_urls == null || js_urls.length === 0) {\n",
       "        run_callbacks();\n",
       "        return null;\n",
       "      }\n",
       "      console.log(\"Bokeh: BokehJS not loaded, scheduling load and callback at\", now());\n",
       "      window._bokeh_is_loading = js_urls.length;\n",
       "      for (var i = 0; i < js_urls.length; i++) {\n",
       "        var url = js_urls[i];\n",
       "        var s = document.createElement('script');\n",
       "        s.src = url;\n",
       "        s.async = false;\n",
       "        s.onreadystatechange = s.onload = function() {\n",
       "          window._bokeh_is_loading--;\n",
       "          if (window._bokeh_is_loading === 0) {\n",
       "            console.log(\"Bokeh: all BokehJS libraries loaded\");\n",
       "            run_callbacks()\n",
       "          }\n",
       "        };\n",
       "        s.onerror = function() {\n",
       "          console.warn(\"failed to load library \" + url);\n",
       "        };\n",
       "        console.log(\"Bokeh: injecting script tag for BokehJS library: \", url);\n",
       "        document.getElementsByTagName(\"head\")[0].appendChild(s);\n",
       "      }\n",
       "    };var element = document.getElementById(\"99c7bc45-268f-4edc-b3d5-cde2c2a472f5\");\n",
       "    if (element == null) {\n",
       "      console.log(\"Bokeh: ERROR: autoload.js configured with elementid '99c7bc45-268f-4edc-b3d5-cde2c2a472f5' but no matching script tag was found. \")\n",
       "      return false;\n",
       "    }var js_urls = [];\n",
       "  \n",
       "    var inline_js = [\n",
       "      function(Bokeh) {\n",
       "        Bokeh.$(function() {\n",
       "            var docs_json = {\"67f08904-920c-4eb9-9313-e572846c861f\": {\"version\": \"0.11.0\", \"roots\": {\"root_ids\": [\"14d1c747-16af-465f-91b9-12731e4f38be\", \"c42e1261-3880-46ad-9cb5-bfe8a249bd01\"], \"references\": [{\"attributes\": {}, \"type\": \"BasicTicker\", \"id\": \"1602fb1e-b705-4c96-bf4a-871881a76a85\"}, {\"attributes\": {\"plot\": {\"subtype\": \"Figure\", \"type\": \"Plot\", \"id\": \"c42e1261-3880-46ad-9cb5-bfe8a249bd01\"}}, \"type\": \"WheelZoomTool\", \"id\": \"db37e6d2-74a2-4fe7-83cc-bd906787c87d\"}, {\"attributes\": {\"plot\": {\"subtype\": \"Figure\", \"type\": \"Plot\", \"id\": \"14d1c747-16af-465f-91b9-12731e4f38be\"}}, \"type\": \"PreviewSaveTool\", \"id\": \"4385305c-994c-4288-a940-b378fb4923cd\"}, {\"attributes\": {\"line_color\": {\"value\": \"navy\"}, \"fill_color\": {\"value\": \"orange\"}, \"fill_alpha\": {\"value\": 0.5}, \"y\": {\"field\": \"y\"}, \"x\": {\"field\": \"x\"}, \"size\": {\"units\": \"screen\", \"value\": 15}}, \"type\": \"Circle\", \"id\": \"395b1b0b-125d-4710-a6b8-b458904fa499\"}, {\"attributes\": {\"plot\": {\"subtype\": \"Figure\", \"type\": \"Plot\", \"id\": \"c42e1261-3880-46ad-9cb5-bfe8a249bd01\"}}, \"type\": \"PreviewSaveTool\", \"id\": \"8c66bcf0-c4f4-4d6b-afdd-170dca933b4f\"}, {\"attributes\": {\"line_color\": {\"value\": \"#1f77b4\"}, \"line_alpha\": {\"value\": 0.1}, \"fill_color\": {\"value\": \"#1f77b4\"}, \"fill_alpha\": {\"value\": 0.1}, \"y\": {\"field\": \"y\"}, \"x\": {\"field\": \"x\"}, \"size\": {\"units\": \"screen\", \"value\": 15}}, \"type\": \"Circle\", \"id\": \"dd619af7-bb55-40ef-b91c-b15c04ea95da\"}, {\"attributes\": {\"line_color\": {\"value\": \"black\"}, \"line_alpha\": {\"value\": 1.0}, \"render_mode\": \"css\", \"bottom_units\": \"screen\", \"level\": \"overlay\", \"top_units\": \"screen\", \"fill_alpha\": {\"value\": 0.5}, \"plot\": null, \"left_units\": \"screen\", \"line_dash\": [4, 4], \"line_width\": {\"value\": 2}, \"right_units\": \"screen\", \"fill_color\": {\"value\": \"lightgrey\"}}, \"type\": \"BoxAnnotation\", \"id\": \"f00e6a6d-b514-47f0-9d3b-c8266250e84f\"}, {\"attributes\": {}, \"type\": \"BasicTicker\", \"id\": \"c446a25f-bd6a-4d39-a578-f8bdf9333e2e\"}, {\"attributes\": {}, \"type\": \"BasicTickFormatter\", \"id\": \"5fbdc38c-cc91-417a-b534-613299d105f0\"}, {\"attributes\": {\"plot\": {\"subtype\": \"Figure\", \"type\": \"Plot\", \"id\": \"c42e1261-3880-46ad-9cb5-bfe8a249bd01\"}}, \"type\": \"ResetTool\", \"id\": \"d279da04-a218-4ec6-9fa5-1d46aa9543db\"}, {\"attributes\": {}, \"type\": \"BasicTickFormatter\", \"id\": \"0e2b6212-c17b-4ca5-a65b-a9e12cd7464f\"}, {\"attributes\": {}, \"type\": \"BasicTicker\", \"id\": \"fdfe7461-7715-45ed-94f4-1d80865cda1d\"}, {\"attributes\": {\"plot\": {\"subtype\": \"Figure\", \"type\": \"Plot\", \"id\": \"c42e1261-3880-46ad-9cb5-bfe8a249bd01\"}}, \"type\": \"HelpTool\", \"id\": \"0d727e97-d1d6-4c9f-ad57-f85aaca4c2d4\"}, {\"attributes\": {\"plot\": {\"subtype\": \"Figure\", \"type\": \"Plot\", \"id\": \"14d1c747-16af-465f-91b9-12731e4f38be\"}, \"ticker\": {\"type\": \"BasicTicker\", \"id\": \"984f8357-1648-45f7-826d-f18072be689b\"}}, \"type\": \"Grid\", \"id\": \"bfd616df-9529-4c79-9c7e-bf4ef2070949\"}, {\"attributes\": {\"plot\": {\"subtype\": \"Figure\", \"type\": \"Plot\", \"id\": \"14d1c747-16af-465f-91b9-12731e4f38be\"}}, \"type\": \"ResizeTool\", \"id\": \"3d363118-6acc-4ab2-a394-12eddf789160\"}, {\"attributes\": {\"plot\": {\"subtype\": \"Figure\", \"type\": \"Plot\", \"id\": \"14d1c747-16af-465f-91b9-12731e4f38be\"}}, \"type\": \"HelpTool\", \"id\": \"0f5e5b69-46a9-4184-8e92-59413bbbe6a6\"}, {\"attributes\": {}, \"type\": \"ToolEvents\", \"id\": \"958e172f-274b-4f73-afb5-0c6c97c72a35\"}, {\"attributes\": {\"plot\": {\"subtype\": \"Figure\", \"type\": \"Plot\", \"id\": \"14d1c747-16af-465f-91b9-12731e4f38be\"}}, \"type\": \"PanTool\", \"id\": \"1c140fdb-8fea-463e-90b1-3daa1c8947d5\"}, {\"attributes\": {\"line_color\": {\"value\": \"firebrick\"}, \"line_alpha\": {\"value\": 0.6}, \"fill_color\": {\"value\": \"firebrick\"}, \"fill_alpha\": {\"value\": 0.6}, \"y\": {\"field\": \"y\"}, \"x\": {\"field\": \"x\"}, \"size\": {\"units\": \"screen\", \"field\": \"size\"}}, \"type\": \"Square\", \"id\": \"9085ddc4-da13-43cb-b2a3-bcad47b63075\"}, {\"attributes\": {\"nonselection_glyph\": {\"type\": \"Circle\", \"id\": \"dd619af7-bb55-40ef-b91c-b15c04ea95da\"}, \"data_source\": {\"type\": \"ColumnDataSource\", \"id\": \"35e16c38-cfd3-409f-90c9-1059f2610cc1\"}, \"selection_glyph\": null, \"hover_glyph\": null, \"glyph\": {\"type\": \"Circle\", \"id\": \"395b1b0b-125d-4710-a6b8-b458904fa499\"}}, \"type\": \"GlyphRenderer\", \"id\": \"ff58fc84-d613-4c60-912c-86496c3f7536\"}, {\"attributes\": {\"callback\": null}, \"type\": \"DataRange1d\", \"id\": \"85224112-fc43-472a-83a0-2f030448991f\"}, {\"attributes\": {\"plot\": {\"subtype\": \"Figure\", \"type\": \"Plot\", \"id\": \"c42e1261-3880-46ad-9cb5-bfe8a249bd01\"}}, \"type\": \"PanTool\", \"id\": \"eb512f4e-a071-4798-b11d-d10048ce6c5d\"}, {\"attributes\": {\"line_color\": {\"value\": \"black\"}, \"line_alpha\": {\"value\": 1.0}, \"render_mode\": \"css\", \"bottom_units\": \"screen\", \"level\": \"overlay\", \"top_units\": \"screen\", \"fill_alpha\": {\"value\": 0.5}, \"plot\": null, \"left_units\": \"screen\", \"line_dash\": [4, 4], \"line_width\": {\"value\": 2}, \"right_units\": \"screen\", \"fill_color\": {\"value\": \"lightgrey\"}}, \"type\": \"BoxAnnotation\", \"id\": \"d757dc02-adc2-4582-b9d6-6426974162ce\"}, {\"attributes\": {\"x_range\": {\"type\": \"DataRange1d\", \"id\": \"85224112-fc43-472a-83a0-2f030448991f\"}, \"y_range\": {\"type\": \"DataRange1d\", \"id\": \"9fe6aed1-4a14-45d0-b0c0-d30659a0d881\"}, \"renderers\": [{\"type\": \"LinearAxis\", \"id\": \"fe1166fe-db38-4580-acb0-a576d00f02c1\"}, {\"type\": \"Grid\", \"id\": \"e25ccb73-a776-4003-a5c2-e0e031456985\"}, {\"type\": \"LinearAxis\", \"id\": \"7935f758-8f25-421c-8a43-413b18440846\"}, {\"type\": \"Grid\", \"id\": \"695835a5-0c48-43d5-869a-9f122deef601\"}, {\"type\": \"BoxAnnotation\", \"id\": \"f00e6a6d-b514-47f0-9d3b-c8266250e84f\"}, {\"type\": \"GlyphRenderer\", \"id\": \"68b73edf-a0a4-4849-ac67-0c1737d24bc2\"}], \"plot_width\": 400, \"below\": [{\"type\": \"LinearAxis\", \"id\": \"fe1166fe-db38-4580-acb0-a576d00f02c1\"}], \"tool_events\": {\"type\": \"ToolEvents\", \"id\": \"1e2ae9c7-12af-46d1-a794-6ec7bed06a3a\"}, \"plot_height\": 400, \"tools\": [{\"type\": \"PanTool\", \"id\": \"eb512f4e-a071-4798-b11d-d10048ce6c5d\"}, {\"type\": \"WheelZoomTool\", \"id\": \"db37e6d2-74a2-4fe7-83cc-bd906787c87d\"}, {\"type\": \"BoxZoomTool\", \"id\": \"77004142-0b77-4159-aa98-8043a43e4301\"}, {\"type\": \"PreviewSaveTool\", \"id\": \"8c66bcf0-c4f4-4d6b-afdd-170dca933b4f\"}, {\"type\": \"ResizeTool\", \"id\": \"06f707f1-a37c-4054-9cac-23300feaa134\"}, {\"type\": \"ResetTool\", \"id\": \"d279da04-a218-4ec6-9fa5-1d46aa9543db\"}, {\"type\": \"HelpTool\", \"id\": \"0d727e97-d1d6-4c9f-ad57-f85aaca4c2d4\"}], \"left\": [{\"type\": \"LinearAxis\", \"id\": \"7935f758-8f25-421c-8a43-413b18440846\"}]}, \"type\": \"Plot\", \"id\": \"c42e1261-3880-46ad-9cb5-bfe8a249bd01\", \"subtype\": \"Figure\"}, {\"attributes\": {\"callback\": null, \"column_names\": [\"x\", \"y\", \"size\"], \"data\": {\"y\": [6, 7, 2, 4, 5], \"x\": [1, 2, 3, 4, 5], \"size\": [10, 15, 20, 25, 30]}}, \"type\": \"ColumnDataSource\", \"id\": \"af592b47-cda0-4921-92c1-adb3274b24e4\"}, {\"attributes\": {}, \"type\": \"ToolEvents\", \"id\": \"1e2ae9c7-12af-46d1-a794-6ec7bed06a3a\"}, {\"attributes\": {\"callback\": null, \"column_names\": [\"y\", \"x\"], \"data\": {\"y\": [6, 7, 2, 4, 5], \"x\": [1, 2, 3, 4, 5]}}, \"type\": \"ColumnDataSource\", \"id\": \"35e16c38-cfd3-409f-90c9-1059f2610cc1\"}, {\"attributes\": {\"callback\": null}, \"type\": \"DataRange1d\", \"id\": \"9fe6aed1-4a14-45d0-b0c0-d30659a0d881\"}, {\"attributes\": {\"plot\": {\"subtype\": \"Figure\", \"type\": \"Plot\", \"id\": \"c42e1261-3880-46ad-9cb5-bfe8a249bd01\"}, \"formatter\": {\"type\": \"BasicTickFormatter\", \"id\": \"a9504236-0022-4097-8822-d06968c2bd31\"}, \"ticker\": {\"type\": \"BasicTicker\", \"id\": \"c446a25f-bd6a-4d39-a578-f8bdf9333e2e\"}}, \"type\": \"LinearAxis\", \"id\": \"7935f758-8f25-421c-8a43-413b18440846\"}, {\"attributes\": {\"callback\": null}, \"type\": \"DataRange1d\", \"id\": \"044e46d4-bfc8-472d-9305-5e4aa6499d92\"}, {\"attributes\": {\"plot\": {\"subtype\": \"Figure\", \"type\": \"Plot\", \"id\": \"c42e1261-3880-46ad-9cb5-bfe8a249bd01\"}}, \"type\": \"ResizeTool\", \"id\": \"06f707f1-a37c-4054-9cac-23300feaa134\"}, {\"attributes\": {\"plot\": {\"subtype\": \"Figure\", \"type\": \"Plot\", \"id\": \"c42e1261-3880-46ad-9cb5-bfe8a249bd01\"}, \"formatter\": {\"type\": \"BasicTickFormatter\", \"id\": \"5fbdc38c-cc91-417a-b534-613299d105f0\"}, \"ticker\": {\"type\": \"BasicTicker\", \"id\": \"1602fb1e-b705-4c96-bf4a-871881a76a85\"}}, \"type\": \"LinearAxis\", \"id\": \"fe1166fe-db38-4580-acb0-a576d00f02c1\"}, {\"attributes\": {}, \"type\": \"BasicTicker\", \"id\": \"984f8357-1648-45f7-826d-f18072be689b\"}, {\"attributes\": {\"plot\": {\"subtype\": \"Figure\", \"type\": \"Plot\", \"id\": \"14d1c747-16af-465f-91b9-12731e4f38be\"}, \"ticker\": {\"type\": \"BasicTicker\", \"id\": \"fdfe7461-7715-45ed-94f4-1d80865cda1d\"}, \"dimension\": 1}, \"type\": \"Grid\", \"id\": \"092913aa-3ae6-4b47-b11f-06a662f1dd24\"}, {\"attributes\": {\"plot\": {\"subtype\": \"Figure\", \"type\": \"Plot\", \"id\": \"14d1c747-16af-465f-91b9-12731e4f38be\"}}, \"type\": \"ResetTool\", \"id\": \"28933ab9-2696-41bf-9f47-661bbedfd3c0\"}, {\"attributes\": {\"plot\": {\"subtype\": \"Figure\", \"type\": \"Plot\", \"id\": \"c42e1261-3880-46ad-9cb5-bfe8a249bd01\"}, \"overlay\": {\"type\": \"BoxAnnotation\", \"id\": \"f00e6a6d-b514-47f0-9d3b-c8266250e84f\"}}, \"type\": \"BoxZoomTool\", \"id\": \"77004142-0b77-4159-aa98-8043a43e4301\"}, {\"attributes\": {\"plot\": {\"subtype\": \"Figure\", \"type\": \"Plot\", \"id\": \"c42e1261-3880-46ad-9cb5-bfe8a249bd01\"}, \"ticker\": {\"type\": \"BasicTicker\", \"id\": \"1602fb1e-b705-4c96-bf4a-871881a76a85\"}}, \"type\": \"Grid\", \"id\": \"e25ccb73-a776-4003-a5c2-e0e031456985\"}, {\"attributes\": {\"nonselection_glyph\": {\"type\": \"Square\", \"id\": \"1d496625-06a2-4469-868f-b808edee3dc6\"}, \"data_source\": {\"type\": \"ColumnDataSource\", \"id\": \"af592b47-cda0-4921-92c1-adb3274b24e4\"}, \"selection_glyph\": null, \"hover_glyph\": null, \"glyph\": {\"type\": \"Square\", \"id\": \"9085ddc4-da13-43cb-b2a3-bcad47b63075\"}}, \"type\": \"GlyphRenderer\", \"id\": \"68b73edf-a0a4-4849-ac67-0c1737d24bc2\"}, {\"attributes\": {\"line_color\": {\"value\": \"#1f77b4\"}, \"line_alpha\": {\"value\": 0.1}, \"fill_color\": {\"value\": \"#1f77b4\"}, \"fill_alpha\": {\"value\": 0.1}, \"y\": {\"field\": \"y\"}, \"x\": {\"field\": \"x\"}, \"size\": {\"units\": \"screen\", \"field\": \"size\"}}, \"type\": \"Square\", \"id\": \"1d496625-06a2-4469-868f-b808edee3dc6\"}, {\"attributes\": {\"callback\": null}, \"type\": \"DataRange1d\", \"id\": \"3c45b0ed-af0e-4ddc-a937-a28da0d74555\"}, {\"attributes\": {\"plot\": {\"subtype\": \"Figure\", \"type\": \"Plot\", \"id\": \"c42e1261-3880-46ad-9cb5-bfe8a249bd01\"}, \"ticker\": {\"type\": \"BasicTicker\", \"id\": \"c446a25f-bd6a-4d39-a578-f8bdf9333e2e\"}, \"dimension\": 1}, \"type\": \"Grid\", \"id\": \"695835a5-0c48-43d5-869a-9f122deef601\"}, {\"attributes\": {\"plot\": {\"subtype\": \"Figure\", \"type\": \"Plot\", \"id\": \"14d1c747-16af-465f-91b9-12731e4f38be\"}, \"overlay\": {\"type\": \"BoxAnnotation\", \"id\": \"d757dc02-adc2-4582-b9d6-6426974162ce\"}}, \"type\": \"BoxZoomTool\", \"id\": \"713bf457-33a3-4615-9357-216c1b08e222\"}, {\"attributes\": {\"plot\": {\"subtype\": \"Figure\", \"type\": \"Plot\", \"id\": \"14d1c747-16af-465f-91b9-12731e4f38be\"}, \"formatter\": {\"type\": \"BasicTickFormatter\", \"id\": \"0e2b6212-c17b-4ca5-a65b-a9e12cd7464f\"}, \"ticker\": {\"type\": \"BasicTicker\", \"id\": \"984f8357-1648-45f7-826d-f18072be689b\"}}, \"type\": \"LinearAxis\", \"id\": \"a4b65378-f0cc-46bf-85fa-69f4e988ef65\"}, {\"attributes\": {}, \"type\": \"BasicTickFormatter\", \"id\": \"a9504236-0022-4097-8822-d06968c2bd31\"}, {\"attributes\": {\"x_range\": {\"type\": \"DataRange1d\", \"id\": \"3c45b0ed-af0e-4ddc-a937-a28da0d74555\"}, \"y_range\": {\"type\": \"DataRange1d\", \"id\": \"044e46d4-bfc8-472d-9305-5e4aa6499d92\"}, \"renderers\": [{\"type\": \"LinearAxis\", \"id\": \"a4b65378-f0cc-46bf-85fa-69f4e988ef65\"}, {\"type\": \"Grid\", \"id\": \"bfd616df-9529-4c79-9c7e-bf4ef2070949\"}, {\"type\": \"LinearAxis\", \"id\": \"36bd32ab-8652-4f23-bed9-40553e19d295\"}, {\"type\": \"Grid\", \"id\": \"092913aa-3ae6-4b47-b11f-06a662f1dd24\"}, {\"type\": \"BoxAnnotation\", \"id\": \"d757dc02-adc2-4582-b9d6-6426974162ce\"}, {\"type\": \"GlyphRenderer\", \"id\": \"ff58fc84-d613-4c60-912c-86496c3f7536\"}], \"plot_width\": 400, \"below\": [{\"type\": \"LinearAxis\", \"id\": \"a4b65378-f0cc-46bf-85fa-69f4e988ef65\"}], \"tool_events\": {\"type\": \"ToolEvents\", \"id\": \"958e172f-274b-4f73-afb5-0c6c97c72a35\"}, \"plot_height\": 400, \"tools\": [{\"type\": \"PanTool\", \"id\": \"1c140fdb-8fea-463e-90b1-3daa1c8947d5\"}, {\"type\": \"WheelZoomTool\", \"id\": \"ea5ce1d8-af20-4ad1-81b3-ae2957d7ab12\"}, {\"type\": \"BoxZoomTool\", \"id\": \"713bf457-33a3-4615-9357-216c1b08e222\"}, {\"type\": \"PreviewSaveTool\", \"id\": \"4385305c-994c-4288-a940-b378fb4923cd\"}, {\"type\": \"ResizeTool\", \"id\": \"3d363118-6acc-4ab2-a394-12eddf789160\"}, {\"type\": \"ResetTool\", \"id\": \"28933ab9-2696-41bf-9f47-661bbedfd3c0\"}, {\"type\": \"HelpTool\", \"id\": \"0f5e5b69-46a9-4184-8e92-59413bbbe6a6\"}], \"left\": [{\"type\": \"LinearAxis\", \"id\": \"36bd32ab-8652-4f23-bed9-40553e19d295\"}]}, \"type\": \"Plot\", \"id\": \"14d1c747-16af-465f-91b9-12731e4f38be\", \"subtype\": \"Figure\"}, {\"attributes\": {\"plot\": {\"subtype\": \"Figure\", \"type\": \"Plot\", \"id\": \"14d1c747-16af-465f-91b9-12731e4f38be\"}}, \"type\": \"WheelZoomTool\", \"id\": \"ea5ce1d8-af20-4ad1-81b3-ae2957d7ab12\"}, {\"attributes\": {}, \"type\": \"BasicTickFormatter\", \"id\": \"cdb6b37f-1b01-4edc-82f4-3a44bdc28d10\"}, {\"attributes\": {\"plot\": {\"subtype\": \"Figure\", \"type\": \"Plot\", \"id\": \"14d1c747-16af-465f-91b9-12731e4f38be\"}, \"formatter\": {\"type\": \"BasicTickFormatter\", \"id\": \"cdb6b37f-1b01-4edc-82f4-3a44bdc28d10\"}, \"ticker\": {\"type\": \"BasicTicker\", \"id\": \"fdfe7461-7715-45ed-94f4-1d80865cda1d\"}}, \"type\": \"LinearAxis\", \"id\": \"36bd32ab-8652-4f23-bed9-40553e19d295\"}]}, \"title\": \"Bokeh Application\"}};\n",
       "            var render_items = [{\"notebook_comms_target\": \"fc3ecd14-9c25-45d4-a0ac-b0d1e3e8a41b\", \"docid\": \"67f08904-920c-4eb9-9313-e572846c861f\", \"elementid\": \"99c7bc45-268f-4edc-b3d5-cde2c2a472f5\", \"modelid\": \"c42e1261-3880-46ad-9cb5-bfe8a249bd01\"}];\n",
       "            \n",
       "            Bokeh.embed.embed_items(docs_json, render_items);\n",
       "        });\n",
       "      },\n",
       "      function(Bokeh) {\n",
       "      }\n",
       "    ];\n",
       "  \n",
       "    function run_inline_js() {\n",
       "      for (var i = 0; i < inline_js.length; i++) {\n",
       "        inline_js[i](window.Bokeh);\n",
       "      }\n",
       "    }\n",
       "  \n",
       "    if (window._bokeh_is_loading === 0) {\n",
       "      console.log(\"Bokeh: BokehJS loaded, going straight to plotting\");\n",
       "      run_inline_js();\n",
       "    } else {\n",
       "      load_libs(js_urls, function() {\n",
       "        console.log(\"Bokeh: BokehJS plotting callback run at\", now());\n",
       "        run_inline_js();\n",
       "      });\n",
       "    }\n",
       "  }(this));\n",
       "</script>"
      ]
     },
     "metadata": {},
     "output_type": "display_data"
    },
    {
     "data": {
      "text/plain": [
       "<bokeh.io._CommsHandle at 0x7fe98977fed0>"
      ]
     },
     "execution_count": 5,
     "metadata": {},
     "output_type": "execute_result"
    }
   ],
   "source": [
    "# create a new plot using figure\n",
    "p = figure(plot_width=400, plot_height=400)\n",
    "\n",
    "# add a square renderer with a size, color, alpha, and sizes\n",
    "p.square([1, 2, 3, 4, 5], [6, 7, 2, 4, 5], size=[10, 15, 20, 25, 30], color=\"firebrick\", alpha=0.6)\n",
    "\n",
    "show(p) # show the results"
   ]
  },
  {
   "cell_type": "markdown",
   "metadata": {},
   "source": [
    "Note that in the example above, we are also specifying different sizes for each individual marker. ***In general, all of a glyph's properties can be \"vectorized\" in this fashion. ***  Also note that we have passed ``color`` as a shorthand to set both the line and fill colors easily at the same time. This is a convenience specific to ``bokeh.plotting``.\n",
    "\n",
    "</table><p>There are many marker types available in Bokeh, you can see details and\n",
    "example plots for all of them in the reference guide by clicking on entries in the list below:</p>\n",
    "<table class=\"hlist\" style=\"float:left\"><tr><td><ul>\n",
    "<li><a href=\"http://bokeh.pydata.org/en/latest/docs/reference/plotting.html#bokeh.plotting.Figure.asterisk\" title=\"bokeh.plotting.Figure.asterisk\"><code class=\"xref py py-func docutils literal\"><span class=\"pre\">asterisk()</span></code></a></li>\n",
    "<li><a href=\"http://bokeh.pydata.org/en/latest/docs/reference/plotting.html#bokeh.plotting.Figure.circle\" title=\"bokeh.plotting.Figure.circle\"><code class=\"xref py py-func docutils literal\"><span class=\"pre\">circle()</span></code></a></li>\n",
    "<li><a href=\"http://bokeh.pydata.org/en/latest/docs/reference/plotting.html#bokeh.plotting.Figure.circle_cross\" title=\"bokeh.plotting.Figure.circle_cross\"><code class=\"xref py py-func docutils literal\"><span class=\"pre\">circle_cross()</span></code></a></li>\n",
    "<li><a href=\"http://bokeh.pydata.org/en/latest/docs/reference/plotting.html#bokeh.plotting.Figure.circle_x\" title=\"bokeh.plotting.Figure.circle_x\"><code class=\"xref py py-func docutils literal\"><span class=\"pre\">circle_x()</span></code></a></li>\n",
    "<li><a href=\"http://bokeh.pydata.org/en/latest/docs/reference/plotting.html#bokeh.plotting.Figure.cross\" title=\"bokeh.plotting.Figure.cross\"><code class=\"xref py py-func docutils literal\"><span class=\"pre\">cross()</span></code></a></li>\n",
    "</ul>\n",
    "</td><td><ul>\n",
    "<li><a href=\"http://bokeh.pydata.org/en/latest/docs/reference/plotting.html#bokeh.plotting.Figure.diamond\" title=\"bokeh.plotting.Figure.diamond\"><code class=\"xref py py-func docutils literal\"><span class=\"pre\">diamond()</span></code></a></li>\n",
    "<li><a href=\"http://bokeh.pydata.org/en/latest/docs/reference/plotting.html#bokeh.plotting.Figure.diamond_cross\" title=\"bokeh.plotting.Figure.diamond_cross\"><code class=\"xref py py-func docutils literal\"><span class=\"pre\">diamond_cross()</span></code></a></li>\n",
    "<li><a href=\"http://bokeh.pydata.org/en/latest/docs/reference/plotting.html#bokeh.plotting.Figure.inverted_triangle\" title=\"bokeh.plotting.Figure.inverted_triangle\"><code class=\"xref py py-func docutils literal\"><span class=\"pre\">inverted_triangle()</span></code></a></li>\n",
    "<li><a href=\"http://bokeh.pydata.org/en/latest/docs/reference/plotting.html#bokeh.plotting.Figure.square\" title=\"bokeh.plotting.Figure.square\"><code class=\"xref py py-func docutils literal\"><span class=\"pre\">square()</span></code></a></li>\n",
    "</ul>\n",
    "</td><td><ul>\n",
    "<li><a href=\"http://bokeh.pydata.org/en/latest/docs/reference/plotting.html#bokeh.plotting.Figure.square_cross\" title=\"bokeh.plotting.Figure.square_cross\"><code class=\"xref py py-func docutils literal\"><span class=\"pre\">square_cross()</span></code></a></li>\n",
    "<li><a href=\"http://bokeh.pydata.org/en/latest/docs/reference/plotting.html#bokeh.plotting.Figure.square_x\" title=\"bokeh.plotting.Figure.square_x\"><code class=\"xref py py-func docutils literal\"><span class=\"pre\">square_x()</span></code></a></li>\n",
    "<li><a href=\"http://bokeh.pydata.org/en/latest/docs/reference/plotting.html#bokeh.plotting.Figure.triangle\" title=\"bokeh.plotting.Figure.triangle\"><code class=\"xref py py-func docutils literal\"><span class=\"pre\">triangle()</span></code></a></li>\n",
    "<li><a href=\"http://bokeh.pydata.org/en/latest/docs/reference/plotting.html#bokeh.plotting.Figure.x\" title=\"bokeh.plotting.Figure.x\"><code class=\"xref py py-func docutils literal\"><span class=\"pre\">x()</span></code></a></li>\n",
    "</ul>\n",
    "</td></tr></table>"
   ]
  },
  {
   "cell_type": "code",
   "execution_count": 6,
   "metadata": {
    "collapsed": true
   },
   "outputs": [],
   "source": [
    "# EXERCISE: Plot some different markers in this cell\n",
    "\n"
   ]
  },
  {
   "cell_type": "markdown",
   "metadata": {},
   "source": [
    "# Basic Line Plots"
   ]
  },
  {
   "cell_type": "code",
   "execution_count": 7,
   "metadata": {
    "collapsed": false
   },
   "outputs": [
    {
     "data": {
      "text/html": [
       "\n",
       "\n",
       "    <div class=\"plotdiv\" id=\"dff917b8-5751-4f12-8680-1a24e5985f68\"></div>\n",
       "<script type=\"text/javascript\">\n",
       "  \n",
       "  (function(global) {\n",
       "    function now() {\n",
       "      return new Date();\n",
       "    }\n",
       "  \n",
       "    if (typeof (window._bokeh_onload_callbacks) === \"undefined\") {\n",
       "      window._bokeh_onload_callbacks = [];\n",
       "    }\n",
       "  \n",
       "    function run_callbacks() {\n",
       "      window._bokeh_onload_callbacks.forEach(function(callback) { callback() });\n",
       "      delete window._bokeh_onload_callbacks\n",
       "      console.info(\"Bokeh: all callbacks have finished\");\n",
       "    }\n",
       "  \n",
       "    function load_libs(js_urls, callback) {\n",
       "      window._bokeh_onload_callbacks.push(callback);\n",
       "      if (window._bokeh_is_loading > 0) {\n",
       "        console.log(\"Bokeh: BokehJS is being loaded, scheduling callback at\", now());\n",
       "        return null;\n",
       "      }\n",
       "      if (js_urls == null || js_urls.length === 0) {\n",
       "        run_callbacks();\n",
       "        return null;\n",
       "      }\n",
       "      console.log(\"Bokeh: BokehJS not loaded, scheduling load and callback at\", now());\n",
       "      window._bokeh_is_loading = js_urls.length;\n",
       "      for (var i = 0; i < js_urls.length; i++) {\n",
       "        var url = js_urls[i];\n",
       "        var s = document.createElement('script');\n",
       "        s.src = url;\n",
       "        s.async = false;\n",
       "        s.onreadystatechange = s.onload = function() {\n",
       "          window._bokeh_is_loading--;\n",
       "          if (window._bokeh_is_loading === 0) {\n",
       "            console.log(\"Bokeh: all BokehJS libraries loaded\");\n",
       "            run_callbacks()\n",
       "          }\n",
       "        };\n",
       "        s.onerror = function() {\n",
       "          console.warn(\"failed to load library \" + url);\n",
       "        };\n",
       "        console.log(\"Bokeh: injecting script tag for BokehJS library: \", url);\n",
       "        document.getElementsByTagName(\"head\")[0].appendChild(s);\n",
       "      }\n",
       "    };var element = document.getElementById(\"dff917b8-5751-4f12-8680-1a24e5985f68\");\n",
       "    if (element == null) {\n",
       "      console.log(\"Bokeh: ERROR: autoload.js configured with elementid 'dff917b8-5751-4f12-8680-1a24e5985f68' but no matching script tag was found. \")\n",
       "      return false;\n",
       "    }var js_urls = [];\n",
       "  \n",
       "    var inline_js = [\n",
       "      function(Bokeh) {\n",
       "        Bokeh.$(function() {\n",
       "            var docs_json = {\"ea8a60d7-f681-43fc-bdd3-30b08a634d52\": {\"version\": \"0.11.0\", \"roots\": {\"root_ids\": [\"14d1c747-16af-465f-91b9-12731e4f38be\", \"c42e1261-3880-46ad-9cb5-bfe8a249bd01\", \"0dda62bd-7a51-4bd6-b205-d9b0da9c04ea\"], \"references\": [{\"attributes\": {}, \"type\": \"BasicTicker\", \"id\": \"1602fb1e-b705-4c96-bf4a-871881a76a85\"}, {\"attributes\": {\"plot\": {\"subtype\": \"Figure\", \"type\": \"Plot\", \"id\": \"c42e1261-3880-46ad-9cb5-bfe8a249bd01\"}}, \"type\": \"WheelZoomTool\", \"id\": \"db37e6d2-74a2-4fe7-83cc-bd906787c87d\"}, {\"attributes\": {}, \"type\": \"BasicTicker\", \"id\": \"97d687b3-f9e4-4dd1-a2d9-07a2f57813a1\"}, {\"attributes\": {}, \"type\": \"BasicTicker\", \"id\": \"fdfe7461-7715-45ed-94f4-1d80865cda1d\"}, {\"attributes\": {\"line_color\": {\"value\": \"navy\"}, \"fill_color\": {\"value\": \"orange\"}, \"fill_alpha\": {\"value\": 0.5}, \"y\": {\"field\": \"y\"}, \"x\": {\"field\": \"x\"}, \"size\": {\"units\": \"screen\", \"value\": 15}}, \"type\": \"Circle\", \"id\": \"395b1b0b-125d-4710-a6b8-b458904fa499\"}, {\"attributes\": {\"plot\": {\"subtype\": \"Figure\", \"type\": \"Plot\", \"id\": \"14d1c747-16af-465f-91b9-12731e4f38be\"}}, \"type\": \"HelpTool\", \"id\": \"0f5e5b69-46a9-4184-8e92-59413bbbe6a6\"}, {\"attributes\": {\"plot\": {\"subtype\": \"Figure\", \"type\": \"Plot\", \"id\": \"c42e1261-3880-46ad-9cb5-bfe8a249bd01\"}, \"formatter\": {\"type\": \"BasicTickFormatter\", \"id\": \"5fbdc38c-cc91-417a-b534-613299d105f0\"}, \"ticker\": {\"type\": \"BasicTicker\", \"id\": \"1602fb1e-b705-4c96-bf4a-871881a76a85\"}}, \"type\": \"LinearAxis\", \"id\": \"fe1166fe-db38-4580-acb0-a576d00f02c1\"}, {\"attributes\": {\"plot\": {\"subtype\": \"Figure\", \"type\": \"Plot\", \"id\": \"c42e1261-3880-46ad-9cb5-bfe8a249bd01\"}}, \"type\": \"PreviewSaveTool\", \"id\": \"8c66bcf0-c4f4-4d6b-afdd-170dca933b4f\"}, {\"attributes\": {\"line_color\": {\"value\": \"#1f77b4\"}, \"line_alpha\": {\"value\": 0.1}, \"fill_color\": {\"value\": \"#1f77b4\"}, \"fill_alpha\": {\"value\": 0.1}, \"y\": {\"field\": \"y\"}, \"x\": {\"field\": \"x\"}, \"size\": {\"units\": \"screen\", \"value\": 15}}, \"type\": \"Circle\", \"id\": \"dd619af7-bb55-40ef-b91c-b15c04ea95da\"}, {\"attributes\": {\"line_color\": {\"value\": \"#1f77b4\"}, \"line_alpha\": {\"value\": 0.1}, \"y\": {\"field\": \"y\"}, \"x\": {\"field\": \"x\"}, \"line_width\": {\"value\": 2}}, \"type\": \"Line\", \"id\": \"c2993164-4e04-4378-86e6-3f66cc9e5c60\"}, {\"attributes\": {\"line_color\": {\"value\": \"black\"}, \"line_alpha\": {\"value\": 1.0}, \"render_mode\": \"css\", \"bottom_units\": \"screen\", \"level\": \"overlay\", \"top_units\": \"screen\", \"fill_alpha\": {\"value\": 0.5}, \"plot\": null, \"left_units\": \"screen\", \"line_dash\": [4, 4], \"line_width\": {\"value\": 2}, \"right_units\": \"screen\", \"fill_color\": {\"value\": \"lightgrey\"}}, \"type\": \"BoxAnnotation\", \"id\": \"f00e6a6d-b514-47f0-9d3b-c8266250e84f\"}, {\"attributes\": {}, \"type\": \"BasicTicker\", \"id\": \"c446a25f-bd6a-4d39-a578-f8bdf9333e2e\"}, {\"attributes\": {\"nonselection_glyph\": {\"type\": \"Line\", \"id\": \"c2993164-4e04-4378-86e6-3f66cc9e5c60\"}, \"data_source\": {\"type\": \"ColumnDataSource\", \"id\": \"4dcc3e62-d891-4dc7-9f06-cf1f95793319\"}, \"selection_glyph\": null, \"hover_glyph\": null, \"glyph\": {\"type\": \"Line\", \"id\": \"f3afd29c-2f19-4a1e-b36d-10b8118b85af\"}}, \"type\": \"GlyphRenderer\", \"id\": \"c6fb1017-e54e-45a3-9407-79cc3bf6cd27\"}, {\"attributes\": {\"plot\": {\"subtype\": \"Figure\", \"type\": \"Plot\", \"id\": \"c42e1261-3880-46ad-9cb5-bfe8a249bd01\"}}, \"type\": \"ResetTool\", \"id\": \"d279da04-a218-4ec6-9fa5-1d46aa9543db\"}, {\"attributes\": {\"line_color\": {\"value\": \"#1f77b4\"}, \"line_alpha\": {\"value\": 0.1}, \"fill_color\": {\"value\": \"#1f77b4\"}, \"fill_alpha\": {\"value\": 0.1}, \"y\": {\"field\": \"y\"}, \"x\": {\"field\": \"x\"}, \"size\": {\"units\": \"screen\", \"field\": \"size\"}}, \"type\": \"Square\", \"id\": \"1d496625-06a2-4469-868f-b808edee3dc6\"}, {\"attributes\": {\"plot\": {\"subtype\": \"Figure\", \"type\": \"Plot\", \"id\": \"0dda62bd-7a51-4bd6-b205-d9b0da9c04ea\"}}, \"type\": \"WheelZoomTool\", \"id\": \"10a69a48-e8ac-492c-bf7f-b28549894b35\"}, {\"attributes\": {\"plot\": {\"subtype\": \"Figure\", \"type\": \"Plot\", \"id\": \"0dda62bd-7a51-4bd6-b205-d9b0da9c04ea\"}, \"formatter\": {\"type\": \"BasicTickFormatter\", \"id\": \"b867b100-ba46-47a5-995f-9d3f70a20d7a\"}, \"ticker\": {\"type\": \"BasicTicker\", \"id\": \"97d687b3-f9e4-4dd1-a2d9-07a2f57813a1\"}}, \"type\": \"LinearAxis\", \"id\": \"c6ab4eb6-bd01-488a-bc54-8ac6877a0eb3\"}, {\"attributes\": {}, \"type\": \"BasicTicker\", \"id\": \"9f20d5c5-da62-41a5-88e3-a0fe9292a413\"}, {\"attributes\": {}, \"type\": \"BasicTickFormatter\", \"id\": \"0e2b6212-c17b-4ca5-a65b-a9e12cd7464f\"}, {\"attributes\": {\"plot\": {\"subtype\": \"Figure\", \"type\": \"Plot\", \"id\": \"14d1c747-16af-465f-91b9-12731e4f38be\"}}, \"type\": \"PreviewSaveTool\", \"id\": \"4385305c-994c-4288-a940-b378fb4923cd\"}, {\"attributes\": {\"plot\": {\"subtype\": \"Figure\", \"type\": \"Plot\", \"id\": \"c42e1261-3880-46ad-9cb5-bfe8a249bd01\"}}, \"type\": \"HelpTool\", \"id\": \"0d727e97-d1d6-4c9f-ad57-f85aaca4c2d4\"}, {\"attributes\": {\"plot\": {\"subtype\": \"Figure\", \"type\": \"Plot\", \"id\": \"0dda62bd-7a51-4bd6-b205-d9b0da9c04ea\"}}, \"type\": \"HelpTool\", \"id\": \"18f2c83f-e8e4-4319-85e1-9a23e55e59b4\"}, {\"attributes\": {\"plot\": {\"subtype\": \"Figure\", \"type\": \"Plot\", \"id\": \"14d1c747-16af-465f-91b9-12731e4f38be\"}, \"ticker\": {\"type\": \"BasicTicker\", \"id\": \"984f8357-1648-45f7-826d-f18072be689b\"}}, \"type\": \"Grid\", \"id\": \"bfd616df-9529-4c79-9c7e-bf4ef2070949\"}, {\"attributes\": {\"line_color\": {\"value\": \"black\"}, \"line_alpha\": {\"value\": 1.0}, \"render_mode\": \"css\", \"bottom_units\": \"screen\", \"level\": \"overlay\", \"top_units\": \"screen\", \"fill_alpha\": {\"value\": 0.5}, \"plot\": null, \"left_units\": \"screen\", \"line_dash\": [4, 4], \"line_width\": {\"value\": 2}, \"right_units\": \"screen\", \"fill_color\": {\"value\": \"lightgrey\"}}, \"type\": \"BoxAnnotation\", \"id\": \"7b79f4a7-36d4-44a0-be2d-980e5441cab7\"}, {\"attributes\": {\"plot\": {\"subtype\": \"Figure\", \"type\": \"Plot\", \"id\": \"14d1c747-16af-465f-91b9-12731e4f38be\"}}, \"type\": \"ResizeTool\", \"id\": \"3d363118-6acc-4ab2-a394-12eddf789160\"}, {\"attributes\": {\"plot\": {\"subtype\": \"Figure\", \"type\": \"Plot\", \"id\": \"0dda62bd-7a51-4bd6-b205-d9b0da9c04ea\"}, \"ticker\": {\"type\": \"BasicTicker\", \"id\": \"97d687b3-f9e4-4dd1-a2d9-07a2f57813a1\"}}, \"type\": \"Grid\", \"id\": \"87482fed-adcc-417b-93e2-9363727dea66\"}, {\"attributes\": {\"plot\": {\"subtype\": \"Figure\", \"type\": \"Plot\", \"id\": \"0dda62bd-7a51-4bd6-b205-d9b0da9c04ea\"}, \"overlay\": {\"type\": \"BoxAnnotation\", \"id\": \"7b79f4a7-36d4-44a0-be2d-980e5441cab7\"}}, \"type\": \"BoxZoomTool\", \"id\": \"47aeb530-14a6-4e80-b4c8-f58f096d514a\"}, {\"attributes\": {\"plot\": {\"subtype\": \"Figure\", \"type\": \"Plot\", \"id\": \"0dda62bd-7a51-4bd6-b205-d9b0da9c04ea\"}}, \"type\": \"ResetTool\", \"id\": \"c3348ea2-21eb-4f14-9833-17b78550e9ea\"}, {\"attributes\": {}, \"type\": \"ToolEvents\", \"id\": \"958e172f-274b-4f73-afb5-0c6c97c72a35\"}, {\"attributes\": {}, \"type\": \"BasicTickFormatter\", \"id\": \"08935b5b-84d5-400a-b263-f49a76d3815c\"}, {\"attributes\": {\"plot\": {\"subtype\": \"Figure\", \"type\": \"Plot\", \"id\": \"14d1c747-16af-465f-91b9-12731e4f38be\"}}, \"type\": \"PanTool\", \"id\": \"1c140fdb-8fea-463e-90b1-3daa1c8947d5\"}, {\"attributes\": {\"line_color\": {\"value\": \"firebrick\"}, \"line_alpha\": {\"value\": 0.6}, \"fill_color\": {\"value\": \"firebrick\"}, \"fill_alpha\": {\"value\": 0.6}, \"y\": {\"field\": \"y\"}, \"x\": {\"field\": \"x\"}, \"size\": {\"units\": \"screen\", \"field\": \"size\"}}, \"type\": \"Square\", \"id\": \"9085ddc4-da13-43cb-b2a3-bcad47b63075\"}, {\"attributes\": {\"nonselection_glyph\": {\"type\": \"Circle\", \"id\": \"dd619af7-bb55-40ef-b91c-b15c04ea95da\"}, \"data_source\": {\"type\": \"ColumnDataSource\", \"id\": \"35e16c38-cfd3-409f-90c9-1059f2610cc1\"}, \"selection_glyph\": null, \"hover_glyph\": null, \"glyph\": {\"type\": \"Circle\", \"id\": \"395b1b0b-125d-4710-a6b8-b458904fa499\"}}, \"type\": \"GlyphRenderer\", \"id\": \"ff58fc84-d613-4c60-912c-86496c3f7536\"}, {\"attributes\": {\"callback\": null}, \"type\": \"DataRange1d\", \"id\": \"85224112-fc43-472a-83a0-2f030448991f\"}, {\"attributes\": {\"plot\": {\"subtype\": \"Figure\", \"type\": \"Plot\", \"id\": \"c42e1261-3880-46ad-9cb5-bfe8a249bd01\"}}, \"type\": \"PanTool\", \"id\": \"eb512f4e-a071-4798-b11d-d10048ce6c5d\"}, {\"attributes\": {\"line_color\": {\"value\": \"black\"}, \"line_alpha\": {\"value\": 1.0}, \"render_mode\": \"css\", \"bottom_units\": \"screen\", \"level\": \"overlay\", \"top_units\": \"screen\", \"fill_alpha\": {\"value\": 0.5}, \"plot\": null, \"left_units\": \"screen\", \"line_dash\": [4, 4], \"line_width\": {\"value\": 2}, \"right_units\": \"screen\", \"fill_color\": {\"value\": \"lightgrey\"}}, \"type\": \"BoxAnnotation\", \"id\": \"d757dc02-adc2-4582-b9d6-6426974162ce\"}, {\"attributes\": {\"x_range\": {\"type\": \"DataRange1d\", \"id\": \"85224112-fc43-472a-83a0-2f030448991f\"}, \"y_range\": {\"type\": \"DataRange1d\", \"id\": \"9fe6aed1-4a14-45d0-b0c0-d30659a0d881\"}, \"renderers\": [{\"type\": \"LinearAxis\", \"id\": \"fe1166fe-db38-4580-acb0-a576d00f02c1\"}, {\"type\": \"Grid\", \"id\": \"e25ccb73-a776-4003-a5c2-e0e031456985\"}, {\"type\": \"LinearAxis\", \"id\": \"7935f758-8f25-421c-8a43-413b18440846\"}, {\"type\": \"Grid\", \"id\": \"695835a5-0c48-43d5-869a-9f122deef601\"}, {\"type\": \"BoxAnnotation\", \"id\": \"f00e6a6d-b514-47f0-9d3b-c8266250e84f\"}, {\"type\": \"GlyphRenderer\", \"id\": \"68b73edf-a0a4-4849-ac67-0c1737d24bc2\"}], \"plot_width\": 400, \"below\": [{\"type\": \"LinearAxis\", \"id\": \"fe1166fe-db38-4580-acb0-a576d00f02c1\"}], \"tool_events\": {\"type\": \"ToolEvents\", \"id\": \"1e2ae9c7-12af-46d1-a794-6ec7bed06a3a\"}, \"plot_height\": 400, \"tools\": [{\"type\": \"PanTool\", \"id\": \"eb512f4e-a071-4798-b11d-d10048ce6c5d\"}, {\"type\": \"WheelZoomTool\", \"id\": \"db37e6d2-74a2-4fe7-83cc-bd906787c87d\"}, {\"type\": \"BoxZoomTool\", \"id\": \"77004142-0b77-4159-aa98-8043a43e4301\"}, {\"type\": \"PreviewSaveTool\", \"id\": \"8c66bcf0-c4f4-4d6b-afdd-170dca933b4f\"}, {\"type\": \"ResizeTool\", \"id\": \"06f707f1-a37c-4054-9cac-23300feaa134\"}, {\"type\": \"ResetTool\", \"id\": \"d279da04-a218-4ec6-9fa5-1d46aa9543db\"}, {\"type\": \"HelpTool\", \"id\": \"0d727e97-d1d6-4c9f-ad57-f85aaca4c2d4\"}], \"left\": [{\"type\": \"LinearAxis\", \"id\": \"7935f758-8f25-421c-8a43-413b18440846\"}]}, \"type\": \"Plot\", \"id\": \"c42e1261-3880-46ad-9cb5-bfe8a249bd01\", \"subtype\": \"Figure\"}, {\"attributes\": {\"callback\": null, \"column_names\": [\"x\", \"y\", \"size\"], \"data\": {\"y\": [6, 7, 2, 4, 5], \"x\": [1, 2, 3, 4, 5], \"size\": [10, 15, 20, 25, 30]}}, \"type\": \"ColumnDataSource\", \"id\": \"af592b47-cda0-4921-92c1-adb3274b24e4\"}, {\"attributes\": {\"plot\": {\"subtype\": \"Figure\", \"type\": \"Plot\", \"id\": \"0dda62bd-7a51-4bd6-b205-d9b0da9c04ea\"}, \"formatter\": {\"type\": \"BasicTickFormatter\", \"id\": \"08935b5b-84d5-400a-b263-f49a76d3815c\"}, \"ticker\": {\"type\": \"BasicTicker\", \"id\": \"9f20d5c5-da62-41a5-88e3-a0fe9292a413\"}}, \"type\": \"LinearAxis\", \"id\": \"c0726e18-f414-4978-a11b-62a4b1684508\"}, {\"attributes\": {}, \"type\": \"ToolEvents\", \"id\": \"1e2ae9c7-12af-46d1-a794-6ec7bed06a3a\"}, {\"attributes\": {\"callback\": null}, \"type\": \"DataRange1d\", \"id\": \"07afd89f-f017-4b4b-a98b-32004d2719e6\"}, {\"attributes\": {\"callback\": null, \"column_names\": [\"y\", \"x\"], \"data\": {\"y\": [6, 7, 2, 4, 5], \"x\": [1, 2, 3, 4, 5]}}, \"type\": \"ColumnDataSource\", \"id\": \"35e16c38-cfd3-409f-90c9-1059f2610cc1\"}, {\"attributes\": {\"callback\": null}, \"type\": \"DataRange1d\", \"id\": \"9fe6aed1-4a14-45d0-b0c0-d30659a0d881\"}, {\"attributes\": {\"plot\": {\"subtype\": \"Figure\", \"type\": \"Plot\", \"id\": \"c42e1261-3880-46ad-9cb5-bfe8a249bd01\"}, \"formatter\": {\"type\": \"BasicTickFormatter\", \"id\": \"a9504236-0022-4097-8822-d06968c2bd31\"}, \"ticker\": {\"type\": \"BasicTicker\", \"id\": \"c446a25f-bd6a-4d39-a578-f8bdf9333e2e\"}}, \"type\": \"LinearAxis\", \"id\": \"7935f758-8f25-421c-8a43-413b18440846\"}, {\"attributes\": {\"callback\": null}, \"type\": \"DataRange1d\", \"id\": \"044e46d4-bfc8-472d-9305-5e4aa6499d92\"}, {\"attributes\": {\"plot\": {\"subtype\": \"Figure\", \"type\": \"Plot\", \"id\": \"0dda62bd-7a51-4bd6-b205-d9b0da9c04ea\"}}, \"type\": \"ResizeTool\", \"id\": \"e81bed7c-34c6-4ba7-8a95-3e87d19be697\"}, {\"attributes\": {\"plot\": {\"subtype\": \"Figure\", \"type\": \"Plot\", \"id\": \"c42e1261-3880-46ad-9cb5-bfe8a249bd01\"}}, \"type\": \"ResizeTool\", \"id\": \"06f707f1-a37c-4054-9cac-23300feaa134\"}, {\"attributes\": {\"plot\": {\"subtype\": \"Figure\", \"type\": \"Plot\", \"id\": \"0dda62bd-7a51-4bd6-b205-d9b0da9c04ea\"}}, \"type\": \"PreviewSaveTool\", \"id\": \"2d082792-d55f-42e3-9c70-1a5a7fa6f871\"}, {\"attributes\": {\"callback\": null}, \"type\": \"DataRange1d\", \"id\": \"b814f06b-8cfc-4ab6-b30b-61f3e36d233a\"}, {\"attributes\": {}, \"type\": \"BasicTicker\", \"id\": \"984f8357-1648-45f7-826d-f18072be689b\"}, {\"attributes\": {\"plot\": {\"subtype\": \"Figure\", \"type\": \"Plot\", \"id\": \"14d1c747-16af-465f-91b9-12731e4f38be\"}, \"ticker\": {\"type\": \"BasicTicker\", \"id\": \"fdfe7461-7715-45ed-94f4-1d80865cda1d\"}, \"dimension\": 1}, \"type\": \"Grid\", \"id\": \"092913aa-3ae6-4b47-b11f-06a662f1dd24\"}, {\"attributes\": {\"plot\": {\"subtype\": \"Figure\", \"type\": \"Plot\", \"id\": \"14d1c747-16af-465f-91b9-12731e4f38be\"}}, \"type\": \"ResetTool\", \"id\": \"28933ab9-2696-41bf-9f47-661bbedfd3c0\"}, {\"attributes\": {\"plot\": {\"subtype\": \"Figure\", \"type\": \"Plot\", \"id\": \"14d1c747-16af-465f-91b9-12731e4f38be\"}}, \"type\": \"WheelZoomTool\", \"id\": \"ea5ce1d8-af20-4ad1-81b3-ae2957d7ab12\"}, {\"attributes\": {\"x_range\": {\"type\": \"DataRange1d\", \"id\": \"07afd89f-f017-4b4b-a98b-32004d2719e6\"}, \"title\": \"My Line Plot\", \"y_range\": {\"type\": \"DataRange1d\", \"id\": \"b814f06b-8cfc-4ab6-b30b-61f3e36d233a\"}, \"renderers\": [{\"type\": \"LinearAxis\", \"id\": \"c6ab4eb6-bd01-488a-bc54-8ac6877a0eb3\"}, {\"type\": \"Grid\", \"id\": \"87482fed-adcc-417b-93e2-9363727dea66\"}, {\"type\": \"LinearAxis\", \"id\": \"c0726e18-f414-4978-a11b-62a4b1684508\"}, {\"type\": \"Grid\", \"id\": \"62335f24-20f6-44ed-b313-0abcda21decf\"}, {\"type\": \"BoxAnnotation\", \"id\": \"7b79f4a7-36d4-44a0-be2d-980e5441cab7\"}, {\"type\": \"GlyphRenderer\", \"id\": \"c6fb1017-e54e-45a3-9407-79cc3bf6cd27\"}], \"plot_width\": 400, \"below\": [{\"type\": \"LinearAxis\", \"id\": \"c6ab4eb6-bd01-488a-bc54-8ac6877a0eb3\"}], \"tool_events\": {\"type\": \"ToolEvents\", \"id\": \"fca96ed8-a79a-4b4c-9337-47b176cb71c7\"}, \"plot_height\": 400, \"tools\": [{\"type\": \"PanTool\", \"id\": \"21793b68-0bc9-49b0-98e7-650d4626213b\"}, {\"type\": \"WheelZoomTool\", \"id\": \"10a69a48-e8ac-492c-bf7f-b28549894b35\"}, {\"type\": \"BoxZoomTool\", \"id\": \"47aeb530-14a6-4e80-b4c8-f58f096d514a\"}, {\"type\": \"PreviewSaveTool\", \"id\": \"2d082792-d55f-42e3-9c70-1a5a7fa6f871\"}, {\"type\": \"ResizeTool\", \"id\": \"e81bed7c-34c6-4ba7-8a95-3e87d19be697\"}, {\"type\": \"ResetTool\", \"id\": \"c3348ea2-21eb-4f14-9833-17b78550e9ea\"}, {\"type\": \"HelpTool\", \"id\": \"18f2c83f-e8e4-4319-85e1-9a23e55e59b4\"}], \"left\": [{\"type\": \"LinearAxis\", \"id\": \"c0726e18-f414-4978-a11b-62a4b1684508\"}]}, \"type\": \"Plot\", \"id\": \"0dda62bd-7a51-4bd6-b205-d9b0da9c04ea\", \"subtype\": \"Figure\"}, {\"attributes\": {\"plot\": {\"subtype\": \"Figure\", \"type\": \"Plot\", \"id\": \"c42e1261-3880-46ad-9cb5-bfe8a249bd01\"}, \"overlay\": {\"type\": \"BoxAnnotation\", \"id\": \"f00e6a6d-b514-47f0-9d3b-c8266250e84f\"}}, \"type\": \"BoxZoomTool\", \"id\": \"77004142-0b77-4159-aa98-8043a43e4301\"}, {\"attributes\": {\"plot\": {\"subtype\": \"Figure\", \"type\": \"Plot\", \"id\": \"c42e1261-3880-46ad-9cb5-bfe8a249bd01\"}, \"ticker\": {\"type\": \"BasicTicker\", \"id\": \"1602fb1e-b705-4c96-bf4a-871881a76a85\"}}, \"type\": \"Grid\", \"id\": \"e25ccb73-a776-4003-a5c2-e0e031456985\"}, {\"attributes\": {\"nonselection_glyph\": {\"type\": \"Square\", \"id\": \"1d496625-06a2-4469-868f-b808edee3dc6\"}, \"data_source\": {\"type\": \"ColumnDataSource\", \"id\": \"af592b47-cda0-4921-92c1-adb3274b24e4\"}, \"selection_glyph\": null, \"hover_glyph\": null, \"glyph\": {\"type\": \"Square\", \"id\": \"9085ddc4-da13-43cb-b2a3-bcad47b63075\"}}, \"type\": \"GlyphRenderer\", \"id\": \"68b73edf-a0a4-4849-ac67-0c1737d24bc2\"}, {\"attributes\": {}, \"type\": \"ToolEvents\", \"id\": \"fca96ed8-a79a-4b4c-9337-47b176cb71c7\"}, {\"attributes\": {}, \"type\": \"BasicTickFormatter\", \"id\": \"b867b100-ba46-47a5-995f-9d3f70a20d7a\"}, {\"attributes\": {\"plot\": {\"subtype\": \"Figure\", \"type\": \"Plot\", \"id\": \"0dda62bd-7a51-4bd6-b205-d9b0da9c04ea\"}}, \"type\": \"PanTool\", \"id\": \"21793b68-0bc9-49b0-98e7-650d4626213b\"}, {\"attributes\": {\"plot\": {\"subtype\": \"Figure\", \"type\": \"Plot\", \"id\": \"14d1c747-16af-465f-91b9-12731e4f38be\"}, \"formatter\": {\"type\": \"BasicTickFormatter\", \"id\": \"0e2b6212-c17b-4ca5-a65b-a9e12cd7464f\"}, \"ticker\": {\"type\": \"BasicTicker\", \"id\": \"984f8357-1648-45f7-826d-f18072be689b\"}}, \"type\": \"LinearAxis\", \"id\": \"a4b65378-f0cc-46bf-85fa-69f4e988ef65\"}, {\"attributes\": {\"plot\": {\"subtype\": \"Figure\", \"type\": \"Plot\", \"id\": \"c42e1261-3880-46ad-9cb5-bfe8a249bd01\"}, \"ticker\": {\"type\": \"BasicTicker\", \"id\": \"c446a25f-bd6a-4d39-a578-f8bdf9333e2e\"}, \"dimension\": 1}, \"type\": \"Grid\", \"id\": \"695835a5-0c48-43d5-869a-9f122deef601\"}, {\"attributes\": {\"plot\": {\"subtype\": \"Figure\", \"type\": \"Plot\", \"id\": \"14d1c747-16af-465f-91b9-12731e4f38be\"}, \"overlay\": {\"type\": \"BoxAnnotation\", \"id\": \"d757dc02-adc2-4582-b9d6-6426974162ce\"}}, \"type\": \"BoxZoomTool\", \"id\": \"713bf457-33a3-4615-9357-216c1b08e222\"}, {\"attributes\": {\"callback\": null}, \"type\": \"DataRange1d\", \"id\": \"3c45b0ed-af0e-4ddc-a937-a28da0d74555\"}, {\"attributes\": {}, \"type\": \"BasicTickFormatter\", \"id\": \"a9504236-0022-4097-8822-d06968c2bd31\"}, {\"attributes\": {\"x_range\": {\"type\": \"DataRange1d\", \"id\": \"3c45b0ed-af0e-4ddc-a937-a28da0d74555\"}, \"y_range\": {\"type\": \"DataRange1d\", \"id\": \"044e46d4-bfc8-472d-9305-5e4aa6499d92\"}, \"renderers\": [{\"type\": \"LinearAxis\", \"id\": \"a4b65378-f0cc-46bf-85fa-69f4e988ef65\"}, {\"type\": \"Grid\", \"id\": \"bfd616df-9529-4c79-9c7e-bf4ef2070949\"}, {\"type\": \"LinearAxis\", \"id\": \"36bd32ab-8652-4f23-bed9-40553e19d295\"}, {\"type\": \"Grid\", \"id\": \"092913aa-3ae6-4b47-b11f-06a662f1dd24\"}, {\"type\": \"BoxAnnotation\", \"id\": \"d757dc02-adc2-4582-b9d6-6426974162ce\"}, {\"type\": \"GlyphRenderer\", \"id\": \"ff58fc84-d613-4c60-912c-86496c3f7536\"}], \"plot_width\": 400, \"below\": [{\"type\": \"LinearAxis\", \"id\": \"a4b65378-f0cc-46bf-85fa-69f4e988ef65\"}], \"tool_events\": {\"type\": \"ToolEvents\", \"id\": \"958e172f-274b-4f73-afb5-0c6c97c72a35\"}, \"plot_height\": 400, \"tools\": [{\"type\": \"PanTool\", \"id\": \"1c140fdb-8fea-463e-90b1-3daa1c8947d5\"}, {\"type\": \"WheelZoomTool\", \"id\": \"ea5ce1d8-af20-4ad1-81b3-ae2957d7ab12\"}, {\"type\": \"BoxZoomTool\", \"id\": \"713bf457-33a3-4615-9357-216c1b08e222\"}, {\"type\": \"PreviewSaveTool\", \"id\": \"4385305c-994c-4288-a940-b378fb4923cd\"}, {\"type\": \"ResizeTool\", \"id\": \"3d363118-6acc-4ab2-a394-12eddf789160\"}, {\"type\": \"ResetTool\", \"id\": \"28933ab9-2696-41bf-9f47-661bbedfd3c0\"}, {\"type\": \"HelpTool\", \"id\": \"0f5e5b69-46a9-4184-8e92-59413bbbe6a6\"}], \"left\": [{\"type\": \"LinearAxis\", \"id\": \"36bd32ab-8652-4f23-bed9-40553e19d295\"}]}, \"type\": \"Plot\", \"id\": \"14d1c747-16af-465f-91b9-12731e4f38be\", \"subtype\": \"Figure\"}, {\"attributes\": {\"line_color\": {\"value\": \"#1f77b4\"}, \"line_width\": {\"value\": 2}, \"y\": {\"field\": \"y\"}, \"x\": {\"field\": \"x\"}}, \"type\": \"Line\", \"id\": \"f3afd29c-2f19-4a1e-b36d-10b8118b85af\"}, {\"attributes\": {}, \"type\": \"BasicTickFormatter\", \"id\": \"cdb6b37f-1b01-4edc-82f4-3a44bdc28d10\"}, {\"attributes\": {\"callback\": null, \"column_names\": [\"y\", \"x\"], \"data\": {\"y\": [6, 7, 2, 4, 5], \"x\": [1, 2, 3, 4, 5]}}, \"type\": \"ColumnDataSource\", \"id\": \"4dcc3e62-d891-4dc7-9f06-cf1f95793319\"}, {\"attributes\": {\"plot\": {\"subtype\": \"Figure\", \"type\": \"Plot\", \"id\": \"14d1c747-16af-465f-91b9-12731e4f38be\"}, \"formatter\": {\"type\": \"BasicTickFormatter\", \"id\": \"cdb6b37f-1b01-4edc-82f4-3a44bdc28d10\"}, \"ticker\": {\"type\": \"BasicTicker\", \"id\": \"fdfe7461-7715-45ed-94f4-1d80865cda1d\"}}, \"type\": \"LinearAxis\", \"id\": \"36bd32ab-8652-4f23-bed9-40553e19d295\"}, {\"attributes\": {\"plot\": {\"subtype\": \"Figure\", \"type\": \"Plot\", \"id\": \"0dda62bd-7a51-4bd6-b205-d9b0da9c04ea\"}, \"ticker\": {\"type\": \"BasicTicker\", \"id\": \"9f20d5c5-da62-41a5-88e3-a0fe9292a413\"}, \"dimension\": 1}, \"type\": \"Grid\", \"id\": \"62335f24-20f6-44ed-b313-0abcda21decf\"}, {\"attributes\": {}, \"type\": \"BasicTickFormatter\", \"id\": \"5fbdc38c-cc91-417a-b534-613299d105f0\"}]}, \"title\": \"Bokeh Application\"}};\n",
       "            var render_items = [{\"notebook_comms_target\": \"8511294c-c478-4ac7-a40b-7f33f61bf1e9\", \"docid\": \"ea8a60d7-f681-43fc-bdd3-30b08a634d52\", \"elementid\": \"dff917b8-5751-4f12-8680-1a24e5985f68\", \"modelid\": \"0dda62bd-7a51-4bd6-b205-d9b0da9c04ea\"}];\n",
       "            \n",
       "            Bokeh.embed.embed_items(docs_json, render_items);\n",
       "        });\n",
       "      },\n",
       "      function(Bokeh) {\n",
       "      }\n",
       "    ];\n",
       "  \n",
       "    function run_inline_js() {\n",
       "      for (var i = 0; i < inline_js.length; i++) {\n",
       "        inline_js[i](window.Bokeh);\n",
       "      }\n",
       "    }\n",
       "  \n",
       "    if (window._bokeh_is_loading === 0) {\n",
       "      console.log(\"Bokeh: BokehJS loaded, going straight to plotting\");\n",
       "      run_inline_js();\n",
       "    } else {\n",
       "      load_libs(js_urls, function() {\n",
       "        console.log(\"Bokeh: BokehJS plotting callback run at\", now());\n",
       "        run_inline_js();\n",
       "      });\n",
       "    }\n",
       "  }(this));\n",
       "</script>"
      ]
     },
     "metadata": {},
     "output_type": "display_data"
    },
    {
     "data": {
      "text/plain": [
       "<bokeh.io._CommsHandle at 0x7fe989743750>"
      ]
     },
     "execution_count": 7,
     "metadata": {},
     "output_type": "execute_result"
    }
   ],
   "source": [
    "# create a new plot (with a title) using figure\n",
    "p = figure(plot_width=400, plot_height=400, title=\"My Line Plot\")\n",
    "\n",
    "# add a line renderer\n",
    "p.line([1, 2, 3, 4, 5], [6, 7, 2, 4, 5], line_width=2)\n",
    "\n",
    "show(p) # show the results"
   ]
  },
  {
   "cell_type": "markdown",
   "metadata": {},
   "source": [
    "# Images"
   ]
  },
  {
   "cell_type": "markdown",
   "metadata": {},
   "source": [
    "The example below shows how to use the `image_rgba` method to display raw RGBA data. \n",
    "\n",
    "**Note**: This example makes use of the NumPy library "
   ]
  },
  {
   "cell_type": "code",
   "execution_count": 8,
   "metadata": {
    "collapsed": false
   },
   "outputs": [
    {
     "data": {
      "text/html": [
       "\n",
       "\n",
       "    <div class=\"plotdiv\" id=\"05392b0a-7d69-4f51-90bb-7b6037e4e1a8\"></div>\n",
       "<script type=\"text/javascript\">\n",
       "  \n",
       "  (function(global) {\n",
       "    function now() {\n",
       "      return new Date();\n",
       "    }\n",
       "  \n",
       "    if (typeof (window._bokeh_onload_callbacks) === \"undefined\") {\n",
       "      window._bokeh_onload_callbacks = [];\n",
       "    }\n",
       "  \n",
       "    function run_callbacks() {\n",
       "      window._bokeh_onload_callbacks.forEach(function(callback) { callback() });\n",
       "      delete window._bokeh_onload_callbacks\n",
       "      console.info(\"Bokeh: all callbacks have finished\");\n",
       "    }\n",
       "  \n",
       "    function load_libs(js_urls, callback) {\n",
       "      window._bokeh_onload_callbacks.push(callback);\n",
       "      if (window._bokeh_is_loading > 0) {\n",
       "        console.log(\"Bokeh: BokehJS is being loaded, scheduling callback at\", now());\n",
       "        return null;\n",
       "      }\n",
       "      if (js_urls == null || js_urls.length === 0) {\n",
       "        run_callbacks();\n",
       "        return null;\n",
       "      }\n",
       "      console.log(\"Bokeh: BokehJS not loaded, scheduling load and callback at\", now());\n",
       "      window._bokeh_is_loading = js_urls.length;\n",
       "      for (var i = 0; i < js_urls.length; i++) {\n",
       "        var url = js_urls[i];\n",
       "        var s = document.createElement('script');\n",
       "        s.src = url;\n",
       "        s.async = false;\n",
       "        s.onreadystatechange = s.onload = function() {\n",
       "          window._bokeh_is_loading--;\n",
       "          if (window._bokeh_is_loading === 0) {\n",
       "            console.log(\"Bokeh: all BokehJS libraries loaded\");\n",
       "            run_callbacks()\n",
       "          }\n",
       "        };\n",
       "        s.onerror = function() {\n",
       "          console.warn(\"failed to load library \" + url);\n",
       "        };\n",
       "        console.log(\"Bokeh: injecting script tag for BokehJS library: \", url);\n",
       "        document.getElementsByTagName(\"head\")[0].appendChild(s);\n",
       "      }\n",
       "    };var element = document.getElementById(\"05392b0a-7d69-4f51-90bb-7b6037e4e1a8\");\n",
       "    if (element == null) {\n",
       "      console.log(\"Bokeh: ERROR: autoload.js configured with elementid '05392b0a-7d69-4f51-90bb-7b6037e4e1a8' but no matching script tag was found. \")\n",
       "      return false;\n",
       "    }var js_urls = [];\n",
       "  \n",
       "    var inline_js = [\n",
       "      function(Bokeh) {\n",
       "        Bokeh.$(function() {\n",
       "            var docs_json = {\"fee8752f-ee9a-4f42-a667-76a00d2e89c9\": {\"version\": \"0.11.0\", \"roots\": {\"root_ids\": [\"14d1c747-16af-465f-91b9-12731e4f38be\", \"c42e1261-3880-46ad-9cb5-bfe8a249bd01\", \"0dda62bd-7a51-4bd6-b205-d9b0da9c04ea\", \"8c5f645b-4fc4-421e-98a5-2306b5c66fa0\"], \"references\": [{\"attributes\": {\"line_color\": {\"value\": \"#1f77b4\"}, \"line_alpha\": {\"value\": 0.1}, \"fill_color\": {\"value\": \"#1f77b4\"}, \"fill_alpha\": {\"value\": 0.1}, \"y\": {\"field\": \"y\"}, \"x\": {\"field\": \"x\"}, \"size\": {\"units\": \"screen\", \"value\": 15}}, \"type\": \"Circle\", \"id\": \"dd619af7-bb55-40ef-b91c-b15c04ea95da\"}, {\"attributes\": {\"plot\": {\"subtype\": \"Figure\", \"type\": \"Plot\", \"id\": \"14d1c747-16af-465f-91b9-12731e4f38be\"}}, \"type\": \"WheelZoomTool\", \"id\": \"ea5ce1d8-af20-4ad1-81b3-ae2957d7ab12\"}, {\"attributes\": {}, \"type\": \"BasicTickFormatter\", \"id\": \"0e2b6212-c17b-4ca5-a65b-a9e12cd7464f\"}, {\"attributes\": {\"nonselection_glyph\": {\"type\": \"Square\", \"id\": \"1d496625-06a2-4469-868f-b808edee3dc6\"}, \"data_source\": {\"type\": \"ColumnDataSource\", \"id\": \"af592b47-cda0-4921-92c1-adb3274b24e4\"}, \"selection_glyph\": null, \"hover_glyph\": null, \"glyph\": {\"type\": \"Square\", \"id\": \"9085ddc4-da13-43cb-b2a3-bcad47b63075\"}}, \"type\": \"GlyphRenderer\", \"id\": \"68b73edf-a0a4-4849-ac67-0c1737d24bc2\"}, {\"attributes\": {\"plot\": {\"subtype\": \"Figure\", \"type\": \"Plot\", \"id\": \"0dda62bd-7a51-4bd6-b205-d9b0da9c04ea\"}}, \"type\": \"HelpTool\", \"id\": \"18f2c83f-e8e4-4319-85e1-9a23e55e59b4\"}, {\"attributes\": {\"plot\": {\"subtype\": \"Figure\", \"type\": \"Plot\", \"id\": \"14d1c747-16af-465f-91b9-12731e4f38be\"}, \"ticker\": {\"type\": \"BasicTicker\", \"id\": \"984f8357-1648-45f7-826d-f18072be689b\"}}, \"type\": \"Grid\", \"id\": \"bfd616df-9529-4c79-9c7e-bf4ef2070949\"}, {\"attributes\": {\"plot\": {\"subtype\": \"Figure\", \"type\": \"Plot\", \"id\": \"0dda62bd-7a51-4bd6-b205-d9b0da9c04ea\"}, \"ticker\": {\"type\": \"BasicTicker\", \"id\": \"97d687b3-f9e4-4dd1-a2d9-07a2f57813a1\"}}, \"type\": \"Grid\", \"id\": \"87482fed-adcc-417b-93e2-9363727dea66\"}, {\"attributes\": {}, \"type\": \"ToolEvents\", \"id\": \"958e172f-274b-4f73-afb5-0c6c97c72a35\"}, {\"attributes\": {}, \"type\": \"BasicTickFormatter\", \"id\": \"cdb6b37f-1b01-4edc-82f4-3a44bdc28d10\"}, {\"attributes\": {}, \"type\": \"ToolEvents\", \"id\": \"1e2ae9c7-12af-46d1-a794-6ec7bed06a3a\"}, {\"attributes\": {\"plot\": {\"subtype\": \"Figure\", \"type\": \"Plot\", \"id\": \"14d1c747-16af-465f-91b9-12731e4f38be\"}}, \"type\": \"ResizeTool\", \"id\": \"3d363118-6acc-4ab2-a394-12eddf789160\"}, {\"attributes\": {\"plot\": {\"subtype\": \"Figure\", \"type\": \"Plot\", \"id\": \"c42e1261-3880-46ad-9cb5-bfe8a249bd01\"}, \"ticker\": {\"type\": \"BasicTicker\", \"id\": \"1602fb1e-b705-4c96-bf4a-871881a76a85\"}}, \"type\": \"Grid\", \"id\": \"e25ccb73-a776-4003-a5c2-e0e031456985\"}, {\"attributes\": {\"y\": {\"field\": \"y\"}, \"dw\": {\"units\": \"data\", \"field\": \"dw\"}, \"image\": {\"field\": \"image\"}, \"dh\": {\"units\": \"data\", \"field\": \"dh\"}, \"x\": {\"field\": \"x\"}}, \"type\": \"ImageRGBA\", \"id\": \"ffb6b397-c098-43fd-b49e-1e7462a99467\"}, {\"attributes\": {}, \"type\": \"BasicTicker\", \"id\": \"97d687b3-f9e4-4dd1-a2d9-07a2f57813a1\"}, {\"attributes\": {}, \"type\": \"BasicTicker\", \"id\": \"fdfe7461-7715-45ed-94f4-1d80865cda1d\"}, {\"attributes\": {\"line_color\": {\"value\": \"navy\"}, \"fill_color\": {\"value\": \"orange\"}, \"fill_alpha\": {\"value\": 0.5}, \"y\": {\"field\": \"y\"}, \"x\": {\"field\": \"x\"}, \"size\": {\"units\": \"screen\", \"value\": 15}}, \"type\": \"Circle\", \"id\": \"395b1b0b-125d-4710-a6b8-b458904fa499\"}, {\"attributes\": {}, \"type\": \"BasicTickFormatter\", \"id\": \"9ffc32de-1522-427b-b627-fe7cafbd2287\"}, {\"attributes\": {\"line_color\": {\"value\": \"black\"}, \"line_alpha\": {\"value\": 1.0}, \"render_mode\": \"css\", \"bottom_units\": \"screen\", \"level\": \"overlay\", \"top_units\": \"screen\", \"fill_alpha\": {\"value\": 0.5}, \"plot\": null, \"left_units\": \"screen\", \"line_dash\": [4, 4], \"line_width\": {\"value\": 2}, \"right_units\": \"screen\", \"fill_color\": {\"value\": \"lightgrey\"}}, \"type\": \"BoxAnnotation\", \"id\": \"f00e6a6d-b514-47f0-9d3b-c8266250e84f\"}, {\"attributes\": {\"line_color\": {\"value\": \"#1f77b4\"}, \"line_width\": {\"value\": 2}, \"y\": {\"field\": \"y\"}, \"x\": {\"field\": \"x\"}}, \"type\": \"Line\", \"id\": \"f3afd29c-2f19-4a1e-b36d-10b8118b85af\"}, {\"attributes\": {\"plot\": {\"subtype\": \"Figure\", \"type\": \"Plot\", \"id\": \"8c5f645b-4fc4-421e-98a5-2306b5c66fa0\"}, \"ticker\": {\"type\": \"BasicTicker\", \"id\": \"7da87c92-9de0-47a3-a1f4-d2d4700355a7\"}, \"dimension\": 1}, \"type\": \"Grid\", \"id\": \"a4143b9a-238e-4b3a-9dfe-b1c94761ce3b\"}, {\"attributes\": {\"plot\": {\"subtype\": \"Figure\", \"type\": \"Plot\", \"id\": \"0dda62bd-7a51-4bd6-b205-d9b0da9c04ea\"}}, \"type\": \"ResetTool\", \"id\": \"c3348ea2-21eb-4f14-9833-17b78550e9ea\"}, {\"attributes\": {\"plot\": {\"subtype\": \"Figure\", \"type\": \"Plot\", \"id\": \"0dda62bd-7a51-4bd6-b205-d9b0da9c04ea\"}, \"ticker\": {\"type\": \"BasicTicker\", \"id\": \"9f20d5c5-da62-41a5-88e3-a0fe9292a413\"}, \"dimension\": 1}, \"type\": \"Grid\", \"id\": \"62335f24-20f6-44ed-b313-0abcda21decf\"}, {\"attributes\": {\"plot\": {\"subtype\": \"Figure\", \"type\": \"Plot\", \"id\": \"0dda62bd-7a51-4bd6-b205-d9b0da9c04ea\"}, \"overlay\": {\"type\": \"BoxAnnotation\", \"id\": \"7b79f4a7-36d4-44a0-be2d-980e5441cab7\"}}, \"type\": \"BoxZoomTool\", \"id\": \"47aeb530-14a6-4e80-b4c8-f58f096d514a\"}, {\"attributes\": {\"callback\": null, \"column_names\": [\"y\", \"x\", \"image\", \"dh\", \"dw\"], \"data\": {\"y\": [0], \"dw\": [10], \"image\": [[[4278230528, 4279016960, 4279868928, 4280720896, 4281572864, 4282359296, 4283211264, 4284063232, 4284915200, 4285701632, 4286553600, 4287405568, 4288257536, 4289043968, 4289895936, 4290747904, 4291599872, 4292386304, 4293238272, 4294090240], [4278230540, 4279016972, 4279868940, 4280720908, 4281572876, 4282359308, 4283211276, 4284063244, 4284915212, 4285701644, 4286553612, 4287405580, 4288257548, 4289043980, 4289895948, 4290747916, 4291599884, 4292386316, 4293238284, 4294090252], [4278230553, 4279016985, 4279868953, 4280720921, 4281572889, 4282359321, 4283211289, 4284063257, 4284915225, 4285701657, 4286553625, 4287405593, 4288257561, 4289043993, 4289895961, 4290747929, 4291599897, 4292386329, 4293238297, 4294090265], [4278230566, 4279016998, 4279868966, 4280720934, 4281572902, 4282359334, 4283211302, 4284063270, 4284915238, 4285701670, 4286553638, 4287405606, 4288257574, 4289044006, 4289895974, 4290747942, 4291599910, 4292386342, 4293238310, 4294090278], [4278230579, 4279017011, 4279868979, 4280720947, 4281572915, 4282359347, 4283211315, 4284063283, 4284915251, 4285701683, 4286553651, 4287405619, 4288257587, 4289044019, 4289895987, 4290747955, 4291599923, 4292386355, 4293238323, 4294090291], [4278230591, 4279017023, 4279868991, 4280720959, 4281572927, 4282359359, 4283211327, 4284063295, 4284915263, 4285701695, 4286553663, 4287405631, 4288257599, 4289044031, 4289895999, 4290747967, 4291599935, 4292386367, 4293238335, 4294090303], [4278230604, 4279017036, 4279869004, 4280720972, 4281572940, 4282359372, 4283211340, 4284063308, 4284915276, 4285701708, 4286553676, 4287405644, 4288257612, 4289044044, 4289896012, 4290747980, 4291599948, 4292386380, 4293238348, 4294090316], [4278230617, 4279017049, 4279869017, 4280720985, 4281572953, 4282359385, 4283211353, 4284063321, 4284915289, 4285701721, 4286553689, 4287405657, 4288257625, 4289044057, 4289896025, 4290747993, 4291599961, 4292386393, 4293238361, 4294090329], [4278230630, 4279017062, 4279869030, 4280720998, 4281572966, 4282359398, 4283211366, 4284063334, 4284915302, 4285701734, 4286553702, 4287405670, 4288257638, 4289044070, 4289896038, 4290748006, 4291599974, 4292386406, 4293238374, 4294090342], [4278230642, 4279017074, 4279869042, 4280721010, 4281572978, 4282359410, 4283211378, 4284063346, 4284915314, 4285701746, 4286553714, 4287405682, 4288257650, 4289044082, 4289896050, 4290748018, 4291599986, 4292386418, 4293238386, 4294090354], [4278230655, 4279017087, 4279869055, 4280721023, 4281572991, 4282359423, 4283211391, 4284063359, 4284915327, 4285701759, 4286553727, 4287405695, 4288257663, 4289044095, 4289896063, 4290748031, 4291599999, 4292386431, 4293238399, 4294090367], [4278230668, 4279017100, 4279869068, 4280721036, 4281573004, 4282359436, 4283211404, 4284063372, 4284915340, 4285701772, 4286553740, 4287405708, 4288257676, 4289044108, 4289896076, 4290748044, 4291600012, 4292386444, 4293238412, 4294090380], [4278230681, 4279017113, 4279869081, 4280721049, 4281573017, 4282359449, 4283211417, 4284063385, 4284915353, 4285701785, 4286553753, 4287405721, 4288257689, 4289044121, 4289896089, 4290748057, 4291600025, 4292386457, 4293238425, 4294090393], [4278230693, 4279017125, 4279869093, 4280721061, 4281573029, 4282359461, 4283211429, 4284063397, 4284915365, 4285701797, 4286553765, 4287405733, 4288257701, 4289044133, 4289896101, 4290748069, 4291600037, 4292386469, 4293238437, 4294090405], [4278230706, 4279017138, 4279869106, 4280721074, 4281573042, 4282359474, 4283211442, 4284063410, 4284915378, 4285701810, 4286553778, 4287405746, 4288257714, 4289044146, 4289896114, 4290748082, 4291600050, 4292386482, 4293238450, 4294090418], [4278230719, 4279017151, 4279869119, 4280721087, 4281573055, 4282359487, 4283211455, 4284063423, 4284915391, 4285701823, 4286553791, 4287405759, 4288257727, 4289044159, 4289896127, 4290748095, 4291600063, 4292386495, 4293238463, 4294090431], [4278230732, 4279017164, 4279869132, 4280721100, 4281573068, 4282359500, 4283211468, 4284063436, 4284915404, 4285701836, 4286553804, 4287405772, 4288257740, 4289044172, 4289896140, 4290748108, 4291600076, 4292386508, 4293238476, 4294090444], [4278230744, 4279017176, 4279869144, 4280721112, 4281573080, 4282359512, 4283211480, 4284063448, 4284915416, 4285701848, 4286553816, 4287405784, 4288257752, 4289044184, 4289896152, 4290748120, 4291600088, 4292386520, 4293238488, 4294090456], [4278230757, 4279017189, 4279869157, 4280721125, 4281573093, 4282359525, 4283211493, 4284063461, 4284915429, 4285701861, 4286553829, 4287405797, 4288257765, 4289044197, 4289896165, 4290748133, 4291600101, 4292386533, 4293238501, 4294090469], [4278230770, 4279017202, 4279869170, 4280721138, 4281573106, 4282359538, 4283211506, 4284063474, 4284915442, 4285701874, 4286553842, 4287405810, 4288257778, 4289044210, 4289896178, 4290748146, 4291600114, 4292386546, 4293238514, 4294090482]]], \"dh\": [10], \"x\": [0]}}, \"type\": \"ColumnDataSource\", \"id\": \"540e139d-f1c6-4e71-a004-d0f9e91bf012\"}, {\"attributes\": {\"plot\": {\"subtype\": \"Figure\", \"type\": \"Plot\", \"id\": \"14d1c747-16af-465f-91b9-12731e4f38be\"}}, \"type\": \"PanTool\", \"id\": \"1c140fdb-8fea-463e-90b1-3daa1c8947d5\"}, {\"attributes\": {\"callback\": null}, \"type\": \"DataRange1d\", \"id\": \"85224112-fc43-472a-83a0-2f030448991f\"}, {\"attributes\": {\"plot\": {\"subtype\": \"Figure\", \"type\": \"Plot\", \"id\": \"c42e1261-3880-46ad-9cb5-bfe8a249bd01\"}}, \"type\": \"PanTool\", \"id\": \"eb512f4e-a071-4798-b11d-d10048ce6c5d\"}, {\"attributes\": {\"line_color\": {\"value\": \"black\"}, \"line_alpha\": {\"value\": 1.0}, \"render_mode\": \"css\", \"bottom_units\": \"screen\", \"level\": \"overlay\", \"top_units\": \"screen\", \"fill_alpha\": {\"value\": 0.5}, \"plot\": null, \"left_units\": \"screen\", \"line_dash\": [4, 4], \"line_width\": {\"value\": 2}, \"right_units\": \"screen\", \"fill_color\": {\"value\": \"lightgrey\"}}, \"type\": \"BoxAnnotation\", \"id\": \"d757dc02-adc2-4582-b9d6-6426974162ce\"}, {\"attributes\": {\"line_color\": {\"value\": \"#1f77b4\"}, \"line_alpha\": {\"value\": 0.1}, \"y\": {\"field\": \"y\"}, \"x\": {\"field\": \"x\"}, \"line_width\": {\"value\": 2}}, \"type\": \"Line\", \"id\": \"c2993164-4e04-4378-86e6-3f66cc9e5c60\"}, {\"attributes\": {\"callback\": null, \"column_names\": [\"y\", \"x\"], \"data\": {\"y\": [6, 7, 2, 4, 5], \"x\": [1, 2, 3, 4, 5]}}, \"type\": \"ColumnDataSource\", \"id\": \"35e16c38-cfd3-409f-90c9-1059f2610cc1\"}, {\"attributes\": {\"callback\": null}, \"type\": \"DataRange1d\", \"id\": \"9fe6aed1-4a14-45d0-b0c0-d30659a0d881\"}, {\"attributes\": {\"plot\": {\"subtype\": \"Figure\", \"type\": \"Plot\", \"id\": \"c42e1261-3880-46ad-9cb5-bfe8a249bd01\"}, \"formatter\": {\"type\": \"BasicTickFormatter\", \"id\": \"a9504236-0022-4097-8822-d06968c2bd31\"}, \"ticker\": {\"type\": \"BasicTicker\", \"id\": \"c446a25f-bd6a-4d39-a578-f8bdf9333e2e\"}}, \"type\": \"LinearAxis\", \"id\": \"7935f758-8f25-421c-8a43-413b18440846\"}, {\"attributes\": {\"callback\": null}, \"type\": \"DataRange1d\", \"id\": \"044e46d4-bfc8-472d-9305-5e4aa6499d92\"}, {\"attributes\": {\"plot\": {\"subtype\": \"Figure\", \"type\": \"Plot\", \"id\": \"c42e1261-3880-46ad-9cb5-bfe8a249bd01\"}}, \"type\": \"ResizeTool\", \"id\": \"06f707f1-a37c-4054-9cac-23300feaa134\"}, {\"attributes\": {\"callback\": null}, \"type\": \"DataRange1d\", \"id\": \"b814f06b-8cfc-4ab6-b30b-61f3e36d233a\"}, {\"attributes\": {\"x_range\": {\"type\": \"DataRange1d\", \"id\": \"07afd89f-f017-4b4b-a98b-32004d2719e6\"}, \"title\": \"My Line Plot\", \"y_range\": {\"type\": \"DataRange1d\", \"id\": \"b814f06b-8cfc-4ab6-b30b-61f3e36d233a\"}, \"renderers\": [{\"type\": \"LinearAxis\", \"id\": \"c6ab4eb6-bd01-488a-bc54-8ac6877a0eb3\"}, {\"type\": \"Grid\", \"id\": \"87482fed-adcc-417b-93e2-9363727dea66\"}, {\"type\": \"LinearAxis\", \"id\": \"c0726e18-f414-4978-a11b-62a4b1684508\"}, {\"type\": \"Grid\", \"id\": \"62335f24-20f6-44ed-b313-0abcda21decf\"}, {\"type\": \"BoxAnnotation\", \"id\": \"7b79f4a7-36d4-44a0-be2d-980e5441cab7\"}, {\"type\": \"GlyphRenderer\", \"id\": \"c6fb1017-e54e-45a3-9407-79cc3bf6cd27\"}], \"plot_width\": 400, \"below\": [{\"type\": \"LinearAxis\", \"id\": \"c6ab4eb6-bd01-488a-bc54-8ac6877a0eb3\"}], \"tool_events\": {\"type\": \"ToolEvents\", \"id\": \"fca96ed8-a79a-4b4c-9337-47b176cb71c7\"}, \"plot_height\": 400, \"tools\": [{\"type\": \"PanTool\", \"id\": \"21793b68-0bc9-49b0-98e7-650d4626213b\"}, {\"type\": \"WheelZoomTool\", \"id\": \"10a69a48-e8ac-492c-bf7f-b28549894b35\"}, {\"type\": \"BoxZoomTool\", \"id\": \"47aeb530-14a6-4e80-b4c8-f58f096d514a\"}, {\"type\": \"PreviewSaveTool\", \"id\": \"2d082792-d55f-42e3-9c70-1a5a7fa6f871\"}, {\"type\": \"ResizeTool\", \"id\": \"e81bed7c-34c6-4ba7-8a95-3e87d19be697\"}, {\"type\": \"ResetTool\", \"id\": \"c3348ea2-21eb-4f14-9833-17b78550e9ea\"}, {\"type\": \"HelpTool\", \"id\": \"18f2c83f-e8e4-4319-85e1-9a23e55e59b4\"}], \"left\": [{\"type\": \"LinearAxis\", \"id\": \"c0726e18-f414-4978-a11b-62a4b1684508\"}]}, \"type\": \"Plot\", \"id\": \"0dda62bd-7a51-4bd6-b205-d9b0da9c04ea\", \"subtype\": \"Figure\"}, {\"attributes\": {\"plot\": {\"subtype\": \"Figure\", \"type\": \"Plot\", \"id\": \"c42e1261-3880-46ad-9cb5-bfe8a249bd01\"}, \"overlay\": {\"type\": \"BoxAnnotation\", \"id\": \"f00e6a6d-b514-47f0-9d3b-c8266250e84f\"}}, \"type\": \"BoxZoomTool\", \"id\": \"77004142-0b77-4159-aa98-8043a43e4301\"}, {\"attributes\": {\"plot\": {\"subtype\": \"Figure\", \"type\": \"Plot\", \"id\": \"0dda62bd-7a51-4bd6-b205-d9b0da9c04ea\"}}, \"type\": \"PreviewSaveTool\", \"id\": \"2d082792-d55f-42e3-9c70-1a5a7fa6f871\"}, {\"attributes\": {}, \"type\": \"ToolEvents\", \"id\": \"fca96ed8-a79a-4b4c-9337-47b176cb71c7\"}, {\"attributes\": {\"line_color\": {\"value\": \"#1f77b4\"}, \"line_alpha\": {\"value\": 0.1}, \"fill_color\": {\"value\": \"#1f77b4\"}, \"fill_alpha\": {\"value\": 0.1}, \"y\": {\"field\": \"y\"}, \"x\": {\"field\": \"x\"}, \"size\": {\"units\": \"screen\", \"field\": \"size\"}}, \"type\": \"Square\", \"id\": \"1d496625-06a2-4469-868f-b808edee3dc6\"}, {\"attributes\": {\"callback\": null}, \"type\": \"DataRange1d\", \"id\": \"3c45b0ed-af0e-4ddc-a937-a28da0d74555\"}, {\"attributes\": {\"plot\": {\"subtype\": \"Figure\", \"type\": \"Plot\", \"id\": \"14d1c747-16af-465f-91b9-12731e4f38be\"}}, \"type\": \"HelpTool\", \"id\": \"0f5e5b69-46a9-4184-8e92-59413bbbe6a6\"}, {\"attributes\": {\"plot\": {\"subtype\": \"Figure\", \"type\": \"Plot\", \"id\": \"8c5f645b-4fc4-421e-98a5-2306b5c66fa0\"}}, \"type\": \"PanTool\", \"id\": \"ed5af17d-6931-4557-9ce3-cb5171f8946e\"}, {\"attributes\": {\"plot\": {\"subtype\": \"Figure\", \"type\": \"Plot\", \"id\": \"8c5f645b-4fc4-421e-98a5-2306b5c66fa0\"}, \"overlay\": {\"type\": \"BoxAnnotation\", \"id\": \"229f4a55-25a2-44c4-8af3-5f3112389c5d\"}}, \"type\": \"BoxZoomTool\", \"id\": \"10038d76-45b1-4236-9fe1-028a27b1614b\"}, {\"attributes\": {\"x_range\": {\"type\": \"DataRange1d\", \"id\": \"3c45b0ed-af0e-4ddc-a937-a28da0d74555\"}, \"y_range\": {\"type\": \"DataRange1d\", \"id\": \"044e46d4-bfc8-472d-9305-5e4aa6499d92\"}, \"renderers\": [{\"type\": \"LinearAxis\", \"id\": \"a4b65378-f0cc-46bf-85fa-69f4e988ef65\"}, {\"type\": \"Grid\", \"id\": \"bfd616df-9529-4c79-9c7e-bf4ef2070949\"}, {\"type\": \"LinearAxis\", \"id\": \"36bd32ab-8652-4f23-bed9-40553e19d295\"}, {\"type\": \"Grid\", \"id\": \"092913aa-3ae6-4b47-b11f-06a662f1dd24\"}, {\"type\": \"BoxAnnotation\", \"id\": \"d757dc02-adc2-4582-b9d6-6426974162ce\"}, {\"type\": \"GlyphRenderer\", \"id\": \"ff58fc84-d613-4c60-912c-86496c3f7536\"}], \"plot_width\": 400, \"below\": [{\"type\": \"LinearAxis\", \"id\": \"a4b65378-f0cc-46bf-85fa-69f4e988ef65\"}], \"tool_events\": {\"type\": \"ToolEvents\", \"id\": \"958e172f-274b-4f73-afb5-0c6c97c72a35\"}, \"plot_height\": 400, \"tools\": [{\"type\": \"PanTool\", \"id\": \"1c140fdb-8fea-463e-90b1-3daa1c8947d5\"}, {\"type\": \"WheelZoomTool\", \"id\": \"ea5ce1d8-af20-4ad1-81b3-ae2957d7ab12\"}, {\"type\": \"BoxZoomTool\", \"id\": \"713bf457-33a3-4615-9357-216c1b08e222\"}, {\"type\": \"PreviewSaveTool\", \"id\": \"4385305c-994c-4288-a940-b378fb4923cd\"}, {\"type\": \"ResizeTool\", \"id\": \"3d363118-6acc-4ab2-a394-12eddf789160\"}, {\"type\": \"ResetTool\", \"id\": \"28933ab9-2696-41bf-9f47-661bbedfd3c0\"}, {\"type\": \"HelpTool\", \"id\": \"0f5e5b69-46a9-4184-8e92-59413bbbe6a6\"}], \"left\": [{\"type\": \"LinearAxis\", \"id\": \"36bd32ab-8652-4f23-bed9-40553e19d295\"}]}, \"type\": \"Plot\", \"id\": \"14d1c747-16af-465f-91b9-12731e4f38be\", \"subtype\": \"Figure\"}, {\"attributes\": {\"callback\": null, \"end\": 10}, \"type\": \"Range1d\", \"id\": \"cebd570d-8c43-45d7-a067-3f1c0d438b11\"}, {\"attributes\": {\"plot\": {\"subtype\": \"Figure\", \"type\": \"Plot\", \"id\": \"8c5f645b-4fc4-421e-98a5-2306b5c66fa0\"}}, \"type\": \"HelpTool\", \"id\": \"5cddbd14-aaa2-4c31-b5e4-301086b92816\"}, {\"attributes\": {\"plot\": {\"subtype\": \"Figure\", \"type\": \"Plot\", \"id\": \"8c5f645b-4fc4-421e-98a5-2306b5c66fa0\"}}, \"type\": \"PreviewSaveTool\", \"id\": \"634d40bf-d855-45cc-b944-303bccf02c6e\"}, {\"attributes\": {\"plot\": {\"subtype\": \"Figure\", \"type\": \"Plot\", \"id\": \"c42e1261-3880-46ad-9cb5-bfe8a249bd01\"}}, \"type\": \"WheelZoomTool\", \"id\": \"db37e6d2-74a2-4fe7-83cc-bd906787c87d\"}, {\"attributes\": {\"plot\": {\"subtype\": \"Figure\", \"type\": \"Plot\", \"id\": \"14d1c747-16af-465f-91b9-12731e4f38be\"}}, \"type\": \"PreviewSaveTool\", \"id\": \"4385305c-994c-4288-a940-b378fb4923cd\"}, {\"attributes\": {\"line_color\": {\"value\": \"black\"}, \"line_alpha\": {\"value\": 1.0}, \"render_mode\": \"css\", \"bottom_units\": \"screen\", \"level\": \"overlay\", \"top_units\": \"screen\", \"fill_alpha\": {\"value\": 0.5}, \"plot\": null, \"left_units\": \"screen\", \"line_dash\": [4, 4], \"line_width\": {\"value\": 2}, \"right_units\": \"screen\", \"fill_color\": {\"value\": \"lightgrey\"}}, \"type\": \"BoxAnnotation\", \"id\": \"229f4a55-25a2-44c4-8af3-5f3112389c5d\"}, {\"attributes\": {}, \"type\": \"BasicTicker\", \"id\": \"1602fb1e-b705-4c96-bf4a-871881a76a85\"}, {\"attributes\": {}, \"type\": \"BasicTickFormatter\", \"id\": \"5fbdc38c-cc91-417a-b534-613299d105f0\"}, {\"attributes\": {\"plot\": {\"subtype\": \"Figure\", \"type\": \"Plot\", \"id\": \"c42e1261-3880-46ad-9cb5-bfe8a249bd01\"}}, \"type\": \"ResetTool\", \"id\": \"d279da04-a218-4ec6-9fa5-1d46aa9543db\"}, {\"attributes\": {}, \"type\": \"BasicTicker\", \"id\": \"9f20d5c5-da62-41a5-88e3-a0fe9292a413\"}, {\"attributes\": {\"nonselection_glyph\": {\"type\": \"Circle\", \"id\": \"dd619af7-bb55-40ef-b91c-b15c04ea95da\"}, \"data_source\": {\"type\": \"ColumnDataSource\", \"id\": \"35e16c38-cfd3-409f-90c9-1059f2610cc1\"}, \"selection_glyph\": null, \"hover_glyph\": null, \"glyph\": {\"type\": \"Circle\", \"id\": \"395b1b0b-125d-4710-a6b8-b458904fa499\"}}, \"type\": \"GlyphRenderer\", \"id\": \"ff58fc84-d613-4c60-912c-86496c3f7536\"}, {\"attributes\": {}, \"type\": \"BasicTicker\", \"id\": \"7da87c92-9de0-47a3-a1f4-d2d4700355a7\"}, {\"attributes\": {\"y\": {\"field\": \"y\"}, \"dw\": {\"units\": \"data\", \"field\": \"dw\"}, \"image\": {\"field\": \"image\"}, \"dh\": {\"units\": \"data\", \"field\": \"dh\"}, \"x\": {\"field\": \"x\"}}, \"type\": \"ImageRGBA\", \"id\": \"42d6cffa-5eeb-4423-b73b-7f584818fb76\"}, {\"attributes\": {\"x_range\": {\"type\": \"DataRange1d\", \"id\": \"85224112-fc43-472a-83a0-2f030448991f\"}, \"y_range\": {\"type\": \"DataRange1d\", \"id\": \"9fe6aed1-4a14-45d0-b0c0-d30659a0d881\"}, \"renderers\": [{\"type\": \"LinearAxis\", \"id\": \"fe1166fe-db38-4580-acb0-a576d00f02c1\"}, {\"type\": \"Grid\", \"id\": \"e25ccb73-a776-4003-a5c2-e0e031456985\"}, {\"type\": \"LinearAxis\", \"id\": \"7935f758-8f25-421c-8a43-413b18440846\"}, {\"type\": \"Grid\", \"id\": \"695835a5-0c48-43d5-869a-9f122deef601\"}, {\"type\": \"BoxAnnotation\", \"id\": \"f00e6a6d-b514-47f0-9d3b-c8266250e84f\"}, {\"type\": \"GlyphRenderer\", \"id\": \"68b73edf-a0a4-4849-ac67-0c1737d24bc2\"}], \"plot_width\": 400, \"below\": [{\"type\": \"LinearAxis\", \"id\": \"fe1166fe-db38-4580-acb0-a576d00f02c1\"}], \"tool_events\": {\"type\": \"ToolEvents\", \"id\": \"1e2ae9c7-12af-46d1-a794-6ec7bed06a3a\"}, \"plot_height\": 400, \"tools\": [{\"type\": \"PanTool\", \"id\": \"eb512f4e-a071-4798-b11d-d10048ce6c5d\"}, {\"type\": \"WheelZoomTool\", \"id\": \"db37e6d2-74a2-4fe7-83cc-bd906787c87d\"}, {\"type\": \"BoxZoomTool\", \"id\": \"77004142-0b77-4159-aa98-8043a43e4301\"}, {\"type\": \"PreviewSaveTool\", \"id\": \"8c66bcf0-c4f4-4d6b-afdd-170dca933b4f\"}, {\"type\": \"ResizeTool\", \"id\": \"06f707f1-a37c-4054-9cac-23300feaa134\"}, {\"type\": \"ResetTool\", \"id\": \"d279da04-a218-4ec6-9fa5-1d46aa9543db\"}, {\"type\": \"HelpTool\", \"id\": \"0d727e97-d1d6-4c9f-ad57-f85aaca4c2d4\"}], \"left\": [{\"type\": \"LinearAxis\", \"id\": \"7935f758-8f25-421c-8a43-413b18440846\"}]}, \"type\": \"Plot\", \"id\": \"c42e1261-3880-46ad-9cb5-bfe8a249bd01\", \"subtype\": \"Figure\"}, {\"attributes\": {\"plot\": {\"subtype\": \"Figure\", \"type\": \"Plot\", \"id\": \"0dda62bd-7a51-4bd6-b205-d9b0da9c04ea\"}, \"formatter\": {\"type\": \"BasicTickFormatter\", \"id\": \"08935b5b-84d5-400a-b263-f49a76d3815c\"}, \"ticker\": {\"type\": \"BasicTicker\", \"id\": \"9f20d5c5-da62-41a5-88e3-a0fe9292a413\"}}, \"type\": \"LinearAxis\", \"id\": \"c0726e18-f414-4978-a11b-62a4b1684508\"}, {\"attributes\": {\"plot\": {\"subtype\": \"Figure\", \"type\": \"Plot\", \"id\": \"c42e1261-3880-46ad-9cb5-bfe8a249bd01\"}}, \"type\": \"PreviewSaveTool\", \"id\": \"8c66bcf0-c4f4-4d6b-afdd-170dca933b4f\"}, {\"attributes\": {}, \"type\": \"BasicTicker\", \"id\": \"984f8357-1648-45f7-826d-f18072be689b\"}, {\"attributes\": {\"plot\": {\"subtype\": \"Figure\", \"type\": \"Plot\", \"id\": \"14d1c747-16af-465f-91b9-12731e4f38be\"}, \"ticker\": {\"type\": \"BasicTicker\", \"id\": \"fdfe7461-7715-45ed-94f4-1d80865cda1d\"}, \"dimension\": 1}, \"type\": \"Grid\", \"id\": \"092913aa-3ae6-4b47-b11f-06a662f1dd24\"}, {\"attributes\": {\"plot\": {\"subtype\": \"Figure\", \"type\": \"Plot\", \"id\": \"14d1c747-16af-465f-91b9-12731e4f38be\"}}, \"type\": \"ResetTool\", \"id\": \"28933ab9-2696-41bf-9f47-661bbedfd3c0\"}, {\"attributes\": {}, \"type\": \"ToolEvents\", \"id\": \"69a44925-0b7d-4285-a26c-f514ed2553e0\"}, {\"attributes\": {\"callback\": null, \"end\": 10}, \"type\": \"Range1d\", \"id\": \"c29b53d5-5757-454c-80b6-bb86015975ca\"}, {\"attributes\": {\"plot\": {\"subtype\": \"Figure\", \"type\": \"Plot\", \"id\": \"8c5f645b-4fc4-421e-98a5-2306b5c66fa0\"}}, \"type\": \"ResizeTool\", \"id\": \"8b9f7123-63f3-4bca-8c3f-0251b0732eb6\"}, {\"attributes\": {\"plot\": {\"subtype\": \"Figure\", \"type\": \"Plot\", \"id\": \"14d1c747-16af-465f-91b9-12731e4f38be\"}, \"overlay\": {\"type\": \"BoxAnnotation\", \"id\": \"d757dc02-adc2-4582-b9d6-6426974162ce\"}}, \"type\": \"BoxZoomTool\", \"id\": \"713bf457-33a3-4615-9357-216c1b08e222\"}, {\"attributes\": {}, \"type\": \"BasicTicker\", \"id\": \"c446a25f-bd6a-4d39-a578-f8bdf9333e2e\"}, {\"attributes\": {\"callback\": null, \"column_names\": [\"y\", \"x\"], \"data\": {\"y\": [6, 7, 2, 4, 5], \"x\": [1, 2, 3, 4, 5]}}, \"type\": \"ColumnDataSource\", \"id\": \"4dcc3e62-d891-4dc7-9f06-cf1f95793319\"}, {\"attributes\": {\"plot\": {\"subtype\": \"Figure\", \"type\": \"Plot\", \"id\": \"0dda62bd-7a51-4bd6-b205-d9b0da9c04ea\"}}, \"type\": \"PanTool\", \"id\": \"21793b68-0bc9-49b0-98e7-650d4626213b\"}, {\"attributes\": {\"plot\": {\"subtype\": \"Figure\", \"type\": \"Plot\", \"id\": \"8c5f645b-4fc4-421e-98a5-2306b5c66fa0\"}, \"ticker\": {\"type\": \"BasicTicker\", \"id\": \"8c6e2eb9-d810-4252-8f90-b13f720bb341\"}}, \"type\": \"Grid\", \"id\": \"a40d4c20-9c03-4a2a-a1f7-e219422966f1\"}, {\"attributes\": {\"plot\": {\"subtype\": \"Figure\", \"type\": \"Plot\", \"id\": \"8c5f645b-4fc4-421e-98a5-2306b5c66fa0\"}, \"formatter\": {\"type\": \"BasicTickFormatter\", \"id\": \"6ea8fc0e-f5ec-4b2f-af79-029aeb6e9270\"}, \"ticker\": {\"type\": \"BasicTicker\", \"id\": \"8c6e2eb9-d810-4252-8f90-b13f720bb341\"}}, \"type\": \"LinearAxis\", \"id\": \"2fbf76e8-2948-41a6-8b6a-dd10cb012820\"}, {\"attributes\": {\"nonselection_glyph\": {\"type\": \"Line\", \"id\": \"c2993164-4e04-4378-86e6-3f66cc9e5c60\"}, \"data_source\": {\"type\": \"ColumnDataSource\", \"id\": \"4dcc3e62-d891-4dc7-9f06-cf1f95793319\"}, \"selection_glyph\": null, \"hover_glyph\": null, \"glyph\": {\"type\": \"Line\", \"id\": \"f3afd29c-2f19-4a1e-b36d-10b8118b85af\"}}, \"type\": \"GlyphRenderer\", \"id\": \"c6fb1017-e54e-45a3-9407-79cc3bf6cd27\"}, {\"attributes\": {\"nonselection_glyph\": {\"type\": \"ImageRGBA\", \"id\": \"42d6cffa-5eeb-4423-b73b-7f584818fb76\"}, \"data_source\": {\"type\": \"ColumnDataSource\", \"id\": \"540e139d-f1c6-4e71-a004-d0f9e91bf012\"}, \"selection_glyph\": null, \"hover_glyph\": null, \"glyph\": {\"type\": \"ImageRGBA\", \"id\": \"ffb6b397-c098-43fd-b49e-1e7462a99467\"}}, \"type\": \"GlyphRenderer\", \"id\": \"c2773414-c2ed-4f6b-975d-ca8d6d7e794e\"}, {\"attributes\": {\"line_color\": {\"value\": \"black\"}, \"line_alpha\": {\"value\": 1.0}, \"render_mode\": \"css\", \"bottom_units\": \"screen\", \"level\": \"overlay\", \"top_units\": \"screen\", \"fill_alpha\": {\"value\": 0.5}, \"plot\": null, \"left_units\": \"screen\", \"line_dash\": [4, 4], \"line_width\": {\"value\": 2}, \"right_units\": \"screen\", \"fill_color\": {\"value\": \"lightgrey\"}}, \"type\": \"BoxAnnotation\", \"id\": \"7b79f4a7-36d4-44a0-be2d-980e5441cab7\"}, {\"attributes\": {\"x_range\": {\"type\": \"Range1d\", \"id\": \"cebd570d-8c43-45d7-a067-3f1c0d438b11\"}, \"y_range\": {\"type\": \"Range1d\", \"id\": \"c29b53d5-5757-454c-80b6-bb86015975ca\"}, \"renderers\": [{\"type\": \"LinearAxis\", \"id\": \"2fbf76e8-2948-41a6-8b6a-dd10cb012820\"}, {\"type\": \"Grid\", \"id\": \"a40d4c20-9c03-4a2a-a1f7-e219422966f1\"}, {\"type\": \"LinearAxis\", \"id\": \"efa1c1bc-a478-471c-8de1-9b823c5b3255\"}, {\"type\": \"Grid\", \"id\": \"a4143b9a-238e-4b3a-9dfe-b1c94761ce3b\"}, {\"type\": \"BoxAnnotation\", \"id\": \"229f4a55-25a2-44c4-8af3-5f3112389c5d\"}, {\"type\": \"GlyphRenderer\", \"id\": \"c2773414-c2ed-4f6b-975d-ca8d6d7e794e\"}], \"below\": [{\"type\": \"LinearAxis\", \"id\": \"2fbf76e8-2948-41a6-8b6a-dd10cb012820\"}], \"tool_events\": {\"type\": \"ToolEvents\", \"id\": \"69a44925-0b7d-4285-a26c-f514ed2553e0\"}, \"tools\": [{\"type\": \"PanTool\", \"id\": \"ed5af17d-6931-4557-9ce3-cb5171f8946e\"}, {\"type\": \"WheelZoomTool\", \"id\": \"1aef62e1-05d2-40c8-bf5c-b0ae9610b110\"}, {\"type\": \"BoxZoomTool\", \"id\": \"10038d76-45b1-4236-9fe1-028a27b1614b\"}, {\"type\": \"PreviewSaveTool\", \"id\": \"634d40bf-d855-45cc-b944-303bccf02c6e\"}, {\"type\": \"ResizeTool\", \"id\": \"8b9f7123-63f3-4bca-8c3f-0251b0732eb6\"}, {\"type\": \"ResetTool\", \"id\": \"ab621d92-7dc8-4c87-aa93-8d120587aee2\"}, {\"type\": \"HelpTool\", \"id\": \"5cddbd14-aaa2-4c31-b5e4-301086b92816\"}], \"left\": [{\"type\": \"LinearAxis\", \"id\": \"efa1c1bc-a478-471c-8de1-9b823c5b3255\"}]}, \"type\": \"Plot\", \"id\": \"8c5f645b-4fc4-421e-98a5-2306b5c66fa0\", \"subtype\": \"Figure\"}, {\"attributes\": {\"plot\": {\"subtype\": \"Figure\", \"type\": \"Plot\", \"id\": \"0dda62bd-7a51-4bd6-b205-d9b0da9c04ea\"}, \"formatter\": {\"type\": \"BasicTickFormatter\", \"id\": \"b867b100-ba46-47a5-995f-9d3f70a20d7a\"}, \"ticker\": {\"type\": \"BasicTicker\", \"id\": \"97d687b3-f9e4-4dd1-a2d9-07a2f57813a1\"}}, \"type\": \"LinearAxis\", \"id\": \"c6ab4eb6-bd01-488a-bc54-8ac6877a0eb3\"}, {\"attributes\": {}, \"type\": \"BasicTickFormatter\", \"id\": \"08935b5b-84d5-400a-b263-f49a76d3815c\"}, {\"attributes\": {\"line_color\": {\"value\": \"firebrick\"}, \"line_alpha\": {\"value\": 0.6}, \"fill_color\": {\"value\": \"firebrick\"}, \"fill_alpha\": {\"value\": 0.6}, \"y\": {\"field\": \"y\"}, \"x\": {\"field\": \"x\"}, \"size\": {\"units\": \"screen\", \"field\": \"size\"}}, \"type\": \"Square\", \"id\": \"9085ddc4-da13-43cb-b2a3-bcad47b63075\"}, {\"attributes\": {\"plot\": {\"subtype\": \"Figure\", \"type\": \"Plot\", \"id\": \"8c5f645b-4fc4-421e-98a5-2306b5c66fa0\"}}, \"type\": \"WheelZoomTool\", \"id\": \"1aef62e1-05d2-40c8-bf5c-b0ae9610b110\"}, {\"attributes\": {\"plot\": {\"subtype\": \"Figure\", \"type\": \"Plot\", \"id\": \"8c5f645b-4fc4-421e-98a5-2306b5c66fa0\"}}, \"type\": \"ResetTool\", \"id\": \"ab621d92-7dc8-4c87-aa93-8d120587aee2\"}, {\"attributes\": {\"callback\": null}, \"type\": \"DataRange1d\", \"id\": \"07afd89f-f017-4b4b-a98b-32004d2719e6\"}, {\"attributes\": {\"plot\": {\"subtype\": \"Figure\", \"type\": \"Plot\", \"id\": \"c42e1261-3880-46ad-9cb5-bfe8a249bd01\"}}, \"type\": \"HelpTool\", \"id\": \"0d727e97-d1d6-4c9f-ad57-f85aaca4c2d4\"}, {\"attributes\": {\"plot\": {\"subtype\": \"Figure\", \"type\": \"Plot\", \"id\": \"0dda62bd-7a51-4bd6-b205-d9b0da9c04ea\"}}, \"type\": \"WheelZoomTool\", \"id\": \"10a69a48-e8ac-492c-bf7f-b28549894b35\"}, {\"attributes\": {\"plot\": {\"subtype\": \"Figure\", \"type\": \"Plot\", \"id\": \"0dda62bd-7a51-4bd6-b205-d9b0da9c04ea\"}}, \"type\": \"ResizeTool\", \"id\": \"e81bed7c-34c6-4ba7-8a95-3e87d19be697\"}, {\"attributes\": {\"plot\": {\"subtype\": \"Figure\", \"type\": \"Plot\", \"id\": \"c42e1261-3880-46ad-9cb5-bfe8a249bd01\"}, \"formatter\": {\"type\": \"BasicTickFormatter\", \"id\": \"5fbdc38c-cc91-417a-b534-613299d105f0\"}, \"ticker\": {\"type\": \"BasicTicker\", \"id\": \"1602fb1e-b705-4c96-bf4a-871881a76a85\"}}, \"type\": \"LinearAxis\", \"id\": \"fe1166fe-db38-4580-acb0-a576d00f02c1\"}, {\"attributes\": {}, \"type\": \"BasicTickFormatter\", \"id\": \"6ea8fc0e-f5ec-4b2f-af79-029aeb6e9270\"}, {\"attributes\": {\"callback\": null, \"column_names\": [\"x\", \"y\", \"size\"], \"data\": {\"y\": [6, 7, 2, 4, 5], \"x\": [1, 2, 3, 4, 5], \"size\": [10, 15, 20, 25, 30]}}, \"type\": \"ColumnDataSource\", \"id\": \"af592b47-cda0-4921-92c1-adb3274b24e4\"}, {\"attributes\": {\"plot\": {\"subtype\": \"Figure\", \"type\": \"Plot\", \"id\": \"8c5f645b-4fc4-421e-98a5-2306b5c66fa0\"}, \"formatter\": {\"type\": \"BasicTickFormatter\", \"id\": \"9ffc32de-1522-427b-b627-fe7cafbd2287\"}, \"ticker\": {\"type\": \"BasicTicker\", \"id\": \"7da87c92-9de0-47a3-a1f4-d2d4700355a7\"}}, \"type\": \"LinearAxis\", \"id\": \"efa1c1bc-a478-471c-8de1-9b823c5b3255\"}, {\"attributes\": {\"plot\": {\"subtype\": \"Figure\", \"type\": \"Plot\", \"id\": \"14d1c747-16af-465f-91b9-12731e4f38be\"}, \"formatter\": {\"type\": \"BasicTickFormatter\", \"id\": \"cdb6b37f-1b01-4edc-82f4-3a44bdc28d10\"}, \"ticker\": {\"type\": \"BasicTicker\", \"id\": \"fdfe7461-7715-45ed-94f4-1d80865cda1d\"}}, \"type\": \"LinearAxis\", \"id\": \"36bd32ab-8652-4f23-bed9-40553e19d295\"}, {\"attributes\": {\"plot\": {\"subtype\": \"Figure\", \"type\": \"Plot\", \"id\": \"14d1c747-16af-465f-91b9-12731e4f38be\"}, \"formatter\": {\"type\": \"BasicTickFormatter\", \"id\": \"0e2b6212-c17b-4ca5-a65b-a9e12cd7464f\"}, \"ticker\": {\"type\": \"BasicTicker\", \"id\": \"984f8357-1648-45f7-826d-f18072be689b\"}}, \"type\": \"LinearAxis\", \"id\": \"a4b65378-f0cc-46bf-85fa-69f4e988ef65\"}, {\"attributes\": {\"plot\": {\"subtype\": \"Figure\", \"type\": \"Plot\", \"id\": \"c42e1261-3880-46ad-9cb5-bfe8a249bd01\"}, \"ticker\": {\"type\": \"BasicTicker\", \"id\": \"c446a25f-bd6a-4d39-a578-f8bdf9333e2e\"}, \"dimension\": 1}, \"type\": \"Grid\", \"id\": \"695835a5-0c48-43d5-869a-9f122deef601\"}, {\"attributes\": {}, \"type\": \"BasicTickFormatter\", \"id\": \"b867b100-ba46-47a5-995f-9d3f70a20d7a\"}, {\"attributes\": {}, \"type\": \"BasicTicker\", \"id\": \"8c6e2eb9-d810-4252-8f90-b13f720bb341\"}, {\"attributes\": {}, \"type\": \"BasicTickFormatter\", \"id\": \"a9504236-0022-4097-8822-d06968c2bd31\"}]}, \"title\": \"Bokeh Application\"}};\n",
       "            var render_items = [{\"notebook_comms_target\": \"bca8adb6-2604-49ec-9c18-2f40fa07c3c2\", \"docid\": \"fee8752f-ee9a-4f42-a667-76a00d2e89c9\", \"elementid\": \"05392b0a-7d69-4f51-90bb-7b6037e4e1a8\", \"modelid\": \"8c5f645b-4fc4-421e-98a5-2306b5c66fa0\"}];\n",
       "            \n",
       "            Bokeh.embed.embed_items(docs_json, render_items);\n",
       "        });\n",
       "      },\n",
       "      function(Bokeh) {\n",
       "      }\n",
       "    ];\n",
       "  \n",
       "    function run_inline_js() {\n",
       "      for (var i = 0; i < inline_js.length; i++) {\n",
       "        inline_js[i](window.Bokeh);\n",
       "      }\n",
       "    }\n",
       "  \n",
       "    if (window._bokeh_is_loading === 0) {\n",
       "      console.log(\"Bokeh: BokehJS loaded, going straight to plotting\");\n",
       "      run_inline_js();\n",
       "    } else {\n",
       "      load_libs(js_urls, function() {\n",
       "        console.log(\"Bokeh: BokehJS plotting callback run at\", now());\n",
       "        run_inline_js();\n",
       "      });\n",
       "    }\n",
       "  }(this));\n",
       "</script>"
      ]
     },
     "metadata": {},
     "output_type": "display_data"
    },
    {
     "data": {
      "text/plain": [
       "<bokeh.io._CommsHandle at 0x7fe98970a850>"
      ]
     },
     "execution_count": 8,
     "metadata": {},
     "output_type": "execute_result"
    }
   ],
   "source": [
    "from __future__ import division\n",
    "import numpy as np\n",
    "\n",
    "# set up some data\n",
    "N = 20\n",
    "img = np.empty((N,N), dtype=np.uint32)\n",
    "view = img.view(dtype=np.uint8).reshape((N, N, 4))\n",
    "for i in range(N):\n",
    "    for j in range(N):\n",
    "        view[i, j, 0] = int(i/N*255) # red\n",
    "        view[i, j, 1] = 158          # green\n",
    "        view[i, j, 2] = int(j/N*255) # blue\n",
    "        view[i, j, 3] = 255          # alpha\n",
    "        \n",
    "# create a new plot (with a fixed range) using figure\n",
    "p = figure(x_range=[0,10], y_range=[0,10])\n",
    "\n",
    "# add an RGBA image renderer\n",
    "p.image_rgba(image=[img], x=[0], y=[0], dw=[10], dh=[10])\n",
    "\n",
    "show(p) # show the results"
   ]
  },
  {
   "cell_type": "markdown",
   "metadata": {},
   "source": [
    "# Other Kinds of Glyphs\n",
    "\n",
    "Bokeh supports many other kinds of glyphs. You can click on the User Guide links below to see how to create plots with these glyphs using the [`bokeh.plotting`](http://bokeh.pydata.org/en/latest/docs/user_guide/plotting.html) interface.\n",
    "\n",
    "* [Rectangles and Ovals](http://bokeh.pydata.org/en/latest/docs/user_guide/plotting.html#rectangles-and-ovals)\n",
    "* [Segments and Rays](http://bokeh.pydata.org/en/latest/docs/user_guide/plotting.html#segments-and-rays)\n",
    "* [Wedges and Arcs](http://bokeh.pydata.org/en/latest/docs/user_guide/plotting.html#wedges-and-arcs)\n",
    "* [Specialized Curves](http://bokeh.pydata.org/en/latest/docs/user_guide/plotting.html#specialized-curves)\n"
   ]
  },
  {
   "cell_type": "code",
   "execution_count": 9,
   "metadata": {
    "collapsed": true
   },
   "outputs": [],
   "source": [
    "# EXERCISE: Plot some of the other glyph types, following the examples in the User Guide. \n",
    "\n"
   ]
  },
  {
   "cell_type": "markdown",
   "metadata": {},
   "source": [
    "# Plots with Multiple Glyphs \n",
    "\n",
    "It is possible to combine more than one glyph on a single figure. You just need to call multiple glyph methods on one figure object:"
   ]
  },
  {
   "cell_type": "code",
   "execution_count": 10,
   "metadata": {
    "collapsed": false
   },
   "outputs": [
    {
     "data": {
      "text/html": [
       "\n",
       "\n",
       "    <div class=\"plotdiv\" id=\"0e1c5b81-5cd5-4ea9-affe-52d522018445\"></div>\n",
       "<script type=\"text/javascript\">\n",
       "  \n",
       "  (function(global) {\n",
       "    function now() {\n",
       "      return new Date();\n",
       "    }\n",
       "  \n",
       "    if (typeof (window._bokeh_onload_callbacks) === \"undefined\") {\n",
       "      window._bokeh_onload_callbacks = [];\n",
       "    }\n",
       "  \n",
       "    function run_callbacks() {\n",
       "      window._bokeh_onload_callbacks.forEach(function(callback) { callback() });\n",
       "      delete window._bokeh_onload_callbacks\n",
       "      console.info(\"Bokeh: all callbacks have finished\");\n",
       "    }\n",
       "  \n",
       "    function load_libs(js_urls, callback) {\n",
       "      window._bokeh_onload_callbacks.push(callback);\n",
       "      if (window._bokeh_is_loading > 0) {\n",
       "        console.log(\"Bokeh: BokehJS is being loaded, scheduling callback at\", now());\n",
       "        return null;\n",
       "      }\n",
       "      if (js_urls == null || js_urls.length === 0) {\n",
       "        run_callbacks();\n",
       "        return null;\n",
       "      }\n",
       "      console.log(\"Bokeh: BokehJS not loaded, scheduling load and callback at\", now());\n",
       "      window._bokeh_is_loading = js_urls.length;\n",
       "      for (var i = 0; i < js_urls.length; i++) {\n",
       "        var url = js_urls[i];\n",
       "        var s = document.createElement('script');\n",
       "        s.src = url;\n",
       "        s.async = false;\n",
       "        s.onreadystatechange = s.onload = function() {\n",
       "          window._bokeh_is_loading--;\n",
       "          if (window._bokeh_is_loading === 0) {\n",
       "            console.log(\"Bokeh: all BokehJS libraries loaded\");\n",
       "            run_callbacks()\n",
       "          }\n",
       "        };\n",
       "        s.onerror = function() {\n",
       "          console.warn(\"failed to load library \" + url);\n",
       "        };\n",
       "        console.log(\"Bokeh: injecting script tag for BokehJS library: \", url);\n",
       "        document.getElementsByTagName(\"head\")[0].appendChild(s);\n",
       "      }\n",
       "    };var element = document.getElementById(\"0e1c5b81-5cd5-4ea9-affe-52d522018445\");\n",
       "    if (element == null) {\n",
       "      console.log(\"Bokeh: ERROR: autoload.js configured with elementid '0e1c5b81-5cd5-4ea9-affe-52d522018445' but no matching script tag was found. \")\n",
       "      return false;\n",
       "    }var js_urls = [];\n",
       "  \n",
       "    var inline_js = [\n",
       "      function(Bokeh) {\n",
       "        Bokeh.$(function() {\n",
       "            var docs_json = {\"2165e632-a0f3-40c2-b50d-abb2a0f620fd\": {\"version\": \"0.11.0\", \"roots\": {\"root_ids\": [\"14d1c747-16af-465f-91b9-12731e4f38be\", \"c42e1261-3880-46ad-9cb5-bfe8a249bd01\", \"0dda62bd-7a51-4bd6-b205-d9b0da9c04ea\", \"8c5f645b-4fc4-421e-98a5-2306b5c66fa0\", \"883c046e-90a2-42a3-92d8-78d2a95f3332\"], \"references\": [{\"attributes\": {\"line_color\": {\"value\": \"#1f77b4\"}, \"line_alpha\": {\"value\": 0.1}, \"fill_color\": {\"value\": \"#1f77b4\"}, \"fill_alpha\": {\"value\": 0.1}, \"y\": {\"field\": \"y\"}, \"x\": {\"field\": \"x\"}, \"size\": {\"units\": \"screen\", \"value\": 15}}, \"type\": \"Circle\", \"id\": \"dd619af7-bb55-40ef-b91c-b15c04ea95da\"}, {\"attributes\": {\"plot\": {\"subtype\": \"Figure\", \"type\": \"Plot\", \"id\": \"14d1c747-16af-465f-91b9-12731e4f38be\"}}, \"type\": \"WheelZoomTool\", \"id\": \"ea5ce1d8-af20-4ad1-81b3-ae2957d7ab12\"}, {\"attributes\": {}, \"type\": \"BasicTickFormatter\", \"id\": \"0e2b6212-c17b-4ca5-a65b-a9e12cd7464f\"}, {\"attributes\": {\"nonselection_glyph\": {\"type\": \"Square\", \"id\": \"1d496625-06a2-4469-868f-b808edee3dc6\"}, \"data_source\": {\"type\": \"ColumnDataSource\", \"id\": \"af592b47-cda0-4921-92c1-adb3274b24e4\"}, \"selection_glyph\": null, \"hover_glyph\": null, \"glyph\": {\"type\": \"Square\", \"id\": \"9085ddc4-da13-43cb-b2a3-bcad47b63075\"}}, \"type\": \"GlyphRenderer\", \"id\": \"68b73edf-a0a4-4849-ac67-0c1737d24bc2\"}, {\"attributes\": {\"plot\": {\"subtype\": \"Figure\", \"type\": \"Plot\", \"id\": \"0dda62bd-7a51-4bd6-b205-d9b0da9c04ea\"}}, \"type\": \"HelpTool\", \"id\": \"18f2c83f-e8e4-4319-85e1-9a23e55e59b4\"}, {\"attributes\": {\"plot\": {\"subtype\": \"Figure\", \"type\": \"Plot\", \"id\": \"14d1c747-16af-465f-91b9-12731e4f38be\"}, \"ticker\": {\"type\": \"BasicTicker\", \"id\": \"984f8357-1648-45f7-826d-f18072be689b\"}}, \"type\": \"Grid\", \"id\": \"bfd616df-9529-4c79-9c7e-bf4ef2070949\"}, {\"attributes\": {\"plot\": {\"subtype\": \"Figure\", \"type\": \"Plot\", \"id\": \"14d1c747-16af-465f-91b9-12731e4f38be\"}}, \"type\": \"HelpTool\", \"id\": \"0f5e5b69-46a9-4184-8e92-59413bbbe6a6\"}, {\"attributes\": {}, \"type\": \"ToolEvents\", \"id\": \"958e172f-274b-4f73-afb5-0c6c97c72a35\"}, {\"attributes\": {}, \"type\": \"BasicTickFormatter\", \"id\": \"cdb6b37f-1b01-4edc-82f4-3a44bdc28d10\"}, {\"attributes\": {}, \"type\": \"ToolEvents\", \"id\": \"1e2ae9c7-12af-46d1-a794-6ec7bed06a3a\"}, {\"attributes\": {\"plot\": {\"subtype\": \"Figure\", \"type\": \"Plot\", \"id\": \"14d1c747-16af-465f-91b9-12731e4f38be\"}}, \"type\": \"ResizeTool\", \"id\": \"3d363118-6acc-4ab2-a394-12eddf789160\"}, {\"attributes\": {\"plot\": {\"subtype\": \"Figure\", \"type\": \"Plot\", \"id\": \"883c046e-90a2-42a3-92d8-78d2a95f3332\"}}, \"type\": \"WheelZoomTool\", \"id\": \"3c8af4df-4345-447c-b43e-0ead0132443c\"}, {\"attributes\": {\"plot\": {\"subtype\": \"Figure\", \"type\": \"Plot\", \"id\": \"c42e1261-3880-46ad-9cb5-bfe8a249bd01\"}, \"ticker\": {\"type\": \"BasicTicker\", \"id\": \"1602fb1e-b705-4c96-bf4a-871881a76a85\"}}, \"type\": \"Grid\", \"id\": \"e25ccb73-a776-4003-a5c2-e0e031456985\"}, {\"attributes\": {\"y\": {\"field\": \"y\"}, \"dw\": {\"units\": \"data\", \"field\": \"dw\"}, \"image\": {\"field\": \"image\"}, \"dh\": {\"units\": \"data\", \"field\": \"dh\"}, \"x\": {\"field\": \"x\"}}, \"type\": \"ImageRGBA\", \"id\": \"ffb6b397-c098-43fd-b49e-1e7462a99467\"}, {\"attributes\": {\"plot\": {\"subtype\": \"Figure\", \"type\": \"Plot\", \"id\": \"14d1c747-16af-465f-91b9-12731e4f38be\"}, \"overlay\": {\"type\": \"BoxAnnotation\", \"id\": \"d757dc02-adc2-4582-b9d6-6426974162ce\"}}, \"type\": \"BoxZoomTool\", \"id\": \"713bf457-33a3-4615-9357-216c1b08e222\"}, {\"attributes\": {\"plot\": {\"subtype\": \"Figure\", \"type\": \"Plot\", \"id\": \"883c046e-90a2-42a3-92d8-78d2a95f3332\"}, \"formatter\": {\"type\": \"BasicTickFormatter\", \"id\": \"b8108c5a-cf5e-4fb7-82c8-0dc5f1b308ae\"}, \"ticker\": {\"type\": \"BasicTicker\", \"id\": \"b8fd1671-3a21-468b-b5cd-c60bda1390bf\"}}, \"type\": \"LinearAxis\", \"id\": \"bf47a960-7ba4-4587-92cf-2f71566e264d\"}, {\"attributes\": {}, \"type\": \"BasicTicker\", \"id\": \"97d687b3-f9e4-4dd1-a2d9-07a2f57813a1\"}, {\"attributes\": {\"plot\": {\"subtype\": \"Figure\", \"type\": \"Plot\", \"id\": \"c42e1261-3880-46ad-9cb5-bfe8a249bd01\"}}, \"type\": \"ResetTool\", \"id\": \"d279da04-a218-4ec6-9fa5-1d46aa9543db\"}, {\"attributes\": {\"line_color\": {\"value\": \"navy\"}, \"fill_color\": {\"value\": \"orange\"}, \"fill_alpha\": {\"value\": 0.5}, \"y\": {\"field\": \"y\"}, \"x\": {\"field\": \"x\"}, \"size\": {\"units\": \"screen\", \"value\": 15}}, \"type\": \"Circle\", \"id\": \"395b1b0b-125d-4710-a6b8-b458904fa499\"}, {\"attributes\": {\"plot\": {\"subtype\": \"Figure\", \"type\": \"Plot\", \"id\": \"c42e1261-3880-46ad-9cb5-bfe8a249bd01\"}}, \"type\": \"ResizeTool\", \"id\": \"06f707f1-a37c-4054-9cac-23300feaa134\"}, {\"attributes\": {\"plot\": {\"subtype\": \"Figure\", \"type\": \"Plot\", \"id\": \"c42e1261-3880-46ad-9cb5-bfe8a249bd01\"}}, \"type\": \"PreviewSaveTool\", \"id\": \"8c66bcf0-c4f4-4d6b-afdd-170dca933b4f\"}, {\"attributes\": {\"line_color\": {\"value\": \"black\"}, \"line_alpha\": {\"value\": 1.0}, \"render_mode\": \"css\", \"bottom_units\": \"screen\", \"level\": \"overlay\", \"top_units\": \"screen\", \"fill_alpha\": {\"value\": 0.5}, \"plot\": null, \"left_units\": \"screen\", \"line_dash\": [4, 4], \"line_width\": {\"value\": 2}, \"right_units\": \"screen\", \"fill_color\": {\"value\": \"lightgrey\"}}, \"type\": \"BoxAnnotation\", \"id\": \"f00e6a6d-b514-47f0-9d3b-c8266250e84f\"}, {\"attributes\": {\"line_color\": {\"value\": \"#1f77b4\"}, \"line_width\": {\"value\": 2}, \"y\": {\"field\": \"y\"}, \"x\": {\"field\": \"x\"}}, \"type\": \"Line\", \"id\": \"f3afd29c-2f19-4a1e-b36d-10b8118b85af\"}, {\"attributes\": {\"callback\": null, \"column_names\": [\"y\", \"x\"], \"data\": {\"y\": [6, 7, 8, 7, 3], \"x\": [1, 2, 3, 4, 5]}}, \"type\": \"ColumnDataSource\", \"id\": \"3dc294dd-b535-4677-a3df-1610e5f7d637\"}, {\"attributes\": {\"plot\": {\"subtype\": \"Figure\", \"type\": \"Plot\", \"id\": \"0dda62bd-7a51-4bd6-b205-d9b0da9c04ea\"}}, \"type\": \"ResetTool\", \"id\": \"c3348ea2-21eb-4f14-9833-17b78550e9ea\"}, {\"attributes\": {\"plot\": {\"subtype\": \"Figure\", \"type\": \"Plot\", \"id\": \"883c046e-90a2-42a3-92d8-78d2a95f3332\"}}, \"type\": \"HelpTool\", \"id\": \"f10e4e66-5717-4286-80a9-93c463fd8b74\"}, {\"attributes\": {\"plot\": {\"subtype\": \"Figure\", \"type\": \"Plot\", \"id\": \"8c5f645b-4fc4-421e-98a5-2306b5c66fa0\"}, \"ticker\": {\"type\": \"BasicTicker\", \"id\": \"7da87c92-9de0-47a3-a1f4-d2d4700355a7\"}, \"dimension\": 1}, \"type\": \"Grid\", \"id\": \"a4143b9a-238e-4b3a-9dfe-b1c94761ce3b\"}, {\"attributes\": {\"plot\": {\"subtype\": \"Figure\", \"type\": \"Plot\", \"id\": \"0dda62bd-7a51-4bd6-b205-d9b0da9c04ea\"}, \"ticker\": {\"type\": \"BasicTicker\", \"id\": \"9f20d5c5-da62-41a5-88e3-a0fe9292a413\"}, \"dimension\": 1}, \"type\": \"Grid\", \"id\": \"62335f24-20f6-44ed-b313-0abcda21decf\"}, {\"attributes\": {\"plot\": {\"subtype\": \"Figure\", \"type\": \"Plot\", \"id\": \"0dda62bd-7a51-4bd6-b205-d9b0da9c04ea\"}, \"overlay\": {\"type\": \"BoxAnnotation\", \"id\": \"7b79f4a7-36d4-44a0-be2d-980e5441cab7\"}}, \"type\": \"BoxZoomTool\", \"id\": \"47aeb530-14a6-4e80-b4c8-f58f096d514a\"}, {\"attributes\": {\"callback\": null, \"column_names\": [\"y\", \"x\", \"image\", \"dh\", \"dw\"], \"data\": {\"y\": [0], \"dw\": [10], \"image\": [[[4278230528, 4279016960, 4279868928, 4280720896, 4281572864, 4282359296, 4283211264, 4284063232, 4284915200, 4285701632, 4286553600, 4287405568, 4288257536, 4289043968, 4289895936, 4290747904, 4291599872, 4292386304, 4293238272, 4294090240], [4278230540, 4279016972, 4279868940, 4280720908, 4281572876, 4282359308, 4283211276, 4284063244, 4284915212, 4285701644, 4286553612, 4287405580, 4288257548, 4289043980, 4289895948, 4290747916, 4291599884, 4292386316, 4293238284, 4294090252], [4278230553, 4279016985, 4279868953, 4280720921, 4281572889, 4282359321, 4283211289, 4284063257, 4284915225, 4285701657, 4286553625, 4287405593, 4288257561, 4289043993, 4289895961, 4290747929, 4291599897, 4292386329, 4293238297, 4294090265], [4278230566, 4279016998, 4279868966, 4280720934, 4281572902, 4282359334, 4283211302, 4284063270, 4284915238, 4285701670, 4286553638, 4287405606, 4288257574, 4289044006, 4289895974, 4290747942, 4291599910, 4292386342, 4293238310, 4294090278], [4278230579, 4279017011, 4279868979, 4280720947, 4281572915, 4282359347, 4283211315, 4284063283, 4284915251, 4285701683, 4286553651, 4287405619, 4288257587, 4289044019, 4289895987, 4290747955, 4291599923, 4292386355, 4293238323, 4294090291], [4278230591, 4279017023, 4279868991, 4280720959, 4281572927, 4282359359, 4283211327, 4284063295, 4284915263, 4285701695, 4286553663, 4287405631, 4288257599, 4289044031, 4289895999, 4290747967, 4291599935, 4292386367, 4293238335, 4294090303], [4278230604, 4279017036, 4279869004, 4280720972, 4281572940, 4282359372, 4283211340, 4284063308, 4284915276, 4285701708, 4286553676, 4287405644, 4288257612, 4289044044, 4289896012, 4290747980, 4291599948, 4292386380, 4293238348, 4294090316], [4278230617, 4279017049, 4279869017, 4280720985, 4281572953, 4282359385, 4283211353, 4284063321, 4284915289, 4285701721, 4286553689, 4287405657, 4288257625, 4289044057, 4289896025, 4290747993, 4291599961, 4292386393, 4293238361, 4294090329], [4278230630, 4279017062, 4279869030, 4280720998, 4281572966, 4282359398, 4283211366, 4284063334, 4284915302, 4285701734, 4286553702, 4287405670, 4288257638, 4289044070, 4289896038, 4290748006, 4291599974, 4292386406, 4293238374, 4294090342], [4278230642, 4279017074, 4279869042, 4280721010, 4281572978, 4282359410, 4283211378, 4284063346, 4284915314, 4285701746, 4286553714, 4287405682, 4288257650, 4289044082, 4289896050, 4290748018, 4291599986, 4292386418, 4293238386, 4294090354], [4278230655, 4279017087, 4279869055, 4280721023, 4281572991, 4282359423, 4283211391, 4284063359, 4284915327, 4285701759, 4286553727, 4287405695, 4288257663, 4289044095, 4289896063, 4290748031, 4291599999, 4292386431, 4293238399, 4294090367], [4278230668, 4279017100, 4279869068, 4280721036, 4281573004, 4282359436, 4283211404, 4284063372, 4284915340, 4285701772, 4286553740, 4287405708, 4288257676, 4289044108, 4289896076, 4290748044, 4291600012, 4292386444, 4293238412, 4294090380], [4278230681, 4279017113, 4279869081, 4280721049, 4281573017, 4282359449, 4283211417, 4284063385, 4284915353, 4285701785, 4286553753, 4287405721, 4288257689, 4289044121, 4289896089, 4290748057, 4291600025, 4292386457, 4293238425, 4294090393], [4278230693, 4279017125, 4279869093, 4280721061, 4281573029, 4282359461, 4283211429, 4284063397, 4284915365, 4285701797, 4286553765, 4287405733, 4288257701, 4289044133, 4289896101, 4290748069, 4291600037, 4292386469, 4293238437, 4294090405], [4278230706, 4279017138, 4279869106, 4280721074, 4281573042, 4282359474, 4283211442, 4284063410, 4284915378, 4285701810, 4286553778, 4287405746, 4288257714, 4289044146, 4289896114, 4290748082, 4291600050, 4292386482, 4293238450, 4294090418], [4278230719, 4279017151, 4279869119, 4280721087, 4281573055, 4282359487, 4283211455, 4284063423, 4284915391, 4285701823, 4286553791, 4287405759, 4288257727, 4289044159, 4289896127, 4290748095, 4291600063, 4292386495, 4293238463, 4294090431], [4278230732, 4279017164, 4279869132, 4280721100, 4281573068, 4282359500, 4283211468, 4284063436, 4284915404, 4285701836, 4286553804, 4287405772, 4288257740, 4289044172, 4289896140, 4290748108, 4291600076, 4292386508, 4293238476, 4294090444], [4278230744, 4279017176, 4279869144, 4280721112, 4281573080, 4282359512, 4283211480, 4284063448, 4284915416, 4285701848, 4286553816, 4287405784, 4288257752, 4289044184, 4289896152, 4290748120, 4291600088, 4292386520, 4293238488, 4294090456], [4278230757, 4279017189, 4279869157, 4280721125, 4281573093, 4282359525, 4283211493, 4284063461, 4284915429, 4285701861, 4286553829, 4287405797, 4288257765, 4289044197, 4289896165, 4290748133, 4291600101, 4292386533, 4293238501, 4294090469], [4278230770, 4279017202, 4279869170, 4280721138, 4281573106, 4282359538, 4283211506, 4284063474, 4284915442, 4285701874, 4286553842, 4287405810, 4288257778, 4289044210, 4289896178, 4290748146, 4291600114, 4292386546, 4293238514, 4294090482]]], \"dh\": [10], \"x\": [0]}}, \"type\": \"ColumnDataSource\", \"id\": \"540e139d-f1c6-4e71-a004-d0f9e91bf012\"}, {\"attributes\": {\"plot\": {\"subtype\": \"Figure\", \"type\": \"Plot\", \"id\": \"14d1c747-16af-465f-91b9-12731e4f38be\"}}, \"type\": \"PanTool\", \"id\": \"1c140fdb-8fea-463e-90b1-3daa1c8947d5\"}, {\"attributes\": {\"plot\": {\"subtype\": \"Figure\", \"type\": \"Plot\", \"id\": \"883c046e-90a2-42a3-92d8-78d2a95f3332\"}}, \"type\": \"PanTool\", \"id\": \"62f1fa1c-4045-4f12-b7c0-5468b0a3a294\"}, {\"attributes\": {\"plot\": {\"subtype\": \"Figure\", \"type\": \"Plot\", \"id\": \"883c046e-90a2-42a3-92d8-78d2a95f3332\"}, \"ticker\": {\"type\": \"BasicTicker\", \"id\": \"b8fd1671-3a21-468b-b5cd-c60bda1390bf\"}, \"dimension\": 1}, \"type\": \"Grid\", \"id\": \"d4c6df5e-e3a8-45e9-ac98-e3b3a3495a8d\"}, {\"attributes\": {\"callback\": null}, \"type\": \"DataRange1d\", \"id\": \"85224112-fc43-472a-83a0-2f030448991f\"}, {\"attributes\": {\"plot\": {\"subtype\": \"Figure\", \"type\": \"Plot\", \"id\": \"c42e1261-3880-46ad-9cb5-bfe8a249bd01\"}}, \"type\": \"PanTool\", \"id\": \"eb512f4e-a071-4798-b11d-d10048ce6c5d\"}, {\"attributes\": {\"line_color\": {\"value\": \"black\"}, \"line_alpha\": {\"value\": 1.0}, \"render_mode\": \"css\", \"bottom_units\": \"screen\", \"level\": \"overlay\", \"top_units\": \"screen\", \"fill_alpha\": {\"value\": 0.5}, \"plot\": null, \"left_units\": \"screen\", \"line_dash\": [4, 4], \"line_width\": {\"value\": 2}, \"right_units\": \"screen\", \"fill_color\": {\"value\": \"lightgrey\"}}, \"type\": \"BoxAnnotation\", \"id\": \"d757dc02-adc2-4582-b9d6-6426974162ce\"}, {\"attributes\": {\"line_color\": {\"value\": \"#1f77b4\"}, \"line_alpha\": {\"value\": 0.1}, \"y\": {\"field\": \"y\"}, \"x\": {\"field\": \"x\"}, \"line_width\": {\"value\": 2}}, \"type\": \"Line\", \"id\": \"c2993164-4e04-4378-86e6-3f66cc9e5c60\"}, {\"attributes\": {\"callback\": null, \"column_names\": [\"y\", \"x\"], \"data\": {\"y\": [6, 7, 2, 4, 5], \"x\": [1, 2, 3, 4, 5]}}, \"type\": \"ColumnDataSource\", \"id\": \"35e16c38-cfd3-409f-90c9-1059f2610cc1\"}, {\"attributes\": {\"callback\": null}, \"type\": \"DataRange1d\", \"id\": \"9fe6aed1-4a14-45d0-b0c0-d30659a0d881\"}, {\"attributes\": {\"plot\": {\"subtype\": \"Figure\", \"type\": \"Plot\", \"id\": \"c42e1261-3880-46ad-9cb5-bfe8a249bd01\"}, \"formatter\": {\"type\": \"BasicTickFormatter\", \"id\": \"a9504236-0022-4097-8822-d06968c2bd31\"}, \"ticker\": {\"type\": \"BasicTicker\", \"id\": \"c446a25f-bd6a-4d39-a578-f8bdf9333e2e\"}}, \"type\": \"LinearAxis\", \"id\": \"7935f758-8f25-421c-8a43-413b18440846\"}, {\"attributes\": {\"callback\": null}, \"type\": \"DataRange1d\", \"id\": \"044e46d4-bfc8-472d-9305-5e4aa6499d92\"}, {\"attributes\": {\"line_color\": {\"value\": \"black\"}, \"line_alpha\": {\"value\": 1.0}, \"render_mode\": \"css\", \"bottom_units\": \"screen\", \"level\": \"overlay\", \"top_units\": \"screen\", \"fill_alpha\": {\"value\": 0.5}, \"plot\": null, \"left_units\": \"screen\", \"line_dash\": [4, 4], \"line_width\": {\"value\": 2}, \"right_units\": \"screen\", \"fill_color\": {\"value\": \"lightgrey\"}}, \"type\": \"BoxAnnotation\", \"id\": \"9fd24da0-8ee6-4c59-94cb-74d2e3915d5e\"}, {\"attributes\": {\"plot\": {\"subtype\": \"Figure\", \"type\": \"Plot\", \"id\": \"0dda62bd-7a51-4bd6-b205-d9b0da9c04ea\"}}, \"type\": \"PreviewSaveTool\", \"id\": \"2d082792-d55f-42e3-9c70-1a5a7fa6f871\"}, {\"attributes\": {\"callback\": null}, \"type\": \"DataRange1d\", \"id\": \"b814f06b-8cfc-4ab6-b30b-61f3e36d233a\"}, {\"attributes\": {\"line_color\": {\"value\": \"#1f77b4\"}, \"line_alpha\": {\"value\": 0.1}, \"y\": {\"field\": \"y\"}, \"x\": {\"field\": \"x\"}, \"line_width\": {\"value\": 2}}, \"type\": \"Line\", \"id\": \"2602941a-d6fb-460c-b5ec-e8a540aa0ec5\"}, {\"attributes\": {\"x_range\": {\"type\": \"DataRange1d\", \"id\": \"07afd89f-f017-4b4b-a98b-32004d2719e6\"}, \"title\": \"My Line Plot\", \"y_range\": {\"type\": \"DataRange1d\", \"id\": \"b814f06b-8cfc-4ab6-b30b-61f3e36d233a\"}, \"renderers\": [{\"type\": \"LinearAxis\", \"id\": \"c6ab4eb6-bd01-488a-bc54-8ac6877a0eb3\"}, {\"type\": \"Grid\", \"id\": \"87482fed-adcc-417b-93e2-9363727dea66\"}, {\"type\": \"LinearAxis\", \"id\": \"c0726e18-f414-4978-a11b-62a4b1684508\"}, {\"type\": \"Grid\", \"id\": \"62335f24-20f6-44ed-b313-0abcda21decf\"}, {\"type\": \"BoxAnnotation\", \"id\": \"7b79f4a7-36d4-44a0-be2d-980e5441cab7\"}, {\"type\": \"GlyphRenderer\", \"id\": \"c6fb1017-e54e-45a3-9407-79cc3bf6cd27\"}], \"plot_width\": 400, \"below\": [{\"type\": \"LinearAxis\", \"id\": \"c6ab4eb6-bd01-488a-bc54-8ac6877a0eb3\"}], \"tool_events\": {\"type\": \"ToolEvents\", \"id\": \"fca96ed8-a79a-4b4c-9337-47b176cb71c7\"}, \"plot_height\": 400, \"tools\": [{\"type\": \"PanTool\", \"id\": \"21793b68-0bc9-49b0-98e7-650d4626213b\"}, {\"type\": \"WheelZoomTool\", \"id\": \"10a69a48-e8ac-492c-bf7f-b28549894b35\"}, {\"type\": \"BoxZoomTool\", \"id\": \"47aeb530-14a6-4e80-b4c8-f58f096d514a\"}, {\"type\": \"PreviewSaveTool\", \"id\": \"2d082792-d55f-42e3-9c70-1a5a7fa6f871\"}, {\"type\": \"ResizeTool\", \"id\": \"e81bed7c-34c6-4ba7-8a95-3e87d19be697\"}, {\"type\": \"ResetTool\", \"id\": \"c3348ea2-21eb-4f14-9833-17b78550e9ea\"}, {\"type\": \"HelpTool\", \"id\": \"18f2c83f-e8e4-4319-85e1-9a23e55e59b4\"}], \"left\": [{\"type\": \"LinearAxis\", \"id\": \"c0726e18-f414-4978-a11b-62a4b1684508\"}]}, \"type\": \"Plot\", \"id\": \"0dda62bd-7a51-4bd6-b205-d9b0da9c04ea\", \"subtype\": \"Figure\"}, {\"attributes\": {\"plot\": {\"subtype\": \"Figure\", \"type\": \"Plot\", \"id\": \"c42e1261-3880-46ad-9cb5-bfe8a249bd01\"}, \"overlay\": {\"type\": \"BoxAnnotation\", \"id\": \"f00e6a6d-b514-47f0-9d3b-c8266250e84f\"}}, \"type\": \"BoxZoomTool\", \"id\": \"77004142-0b77-4159-aa98-8043a43e4301\"}, {\"attributes\": {}, \"type\": \"ToolEvents\", \"id\": \"fca96ed8-a79a-4b4c-9337-47b176cb71c7\"}, {\"attributes\": {\"line_color\": {\"value\": \"#1f77b4\"}, \"line_alpha\": {\"value\": 0.1}, \"fill_color\": {\"value\": \"#1f77b4\"}, \"fill_alpha\": {\"value\": 0.1}, \"y\": {\"field\": \"y\"}, \"x\": {\"field\": \"x\"}, \"size\": {\"units\": \"screen\", \"field\": \"size\"}}, \"type\": \"Square\", \"id\": \"1d496625-06a2-4469-868f-b808edee3dc6\"}, {\"attributes\": {\"callback\": null}, \"type\": \"DataRange1d\", \"id\": \"3c45b0ed-af0e-4ddc-a937-a28da0d74555\"}, {\"attributes\": {\"plot\": {\"subtype\": \"Figure\", \"type\": \"Plot\", \"id\": \"0dda62bd-7a51-4bd6-b205-d9b0da9c04ea\"}, \"ticker\": {\"type\": \"BasicTicker\", \"id\": \"97d687b3-f9e4-4dd1-a2d9-07a2f57813a1\"}}, \"type\": \"Grid\", \"id\": \"87482fed-adcc-417b-93e2-9363727dea66\"}, {\"attributes\": {\"plot\": {\"subtype\": \"Figure\", \"type\": \"Plot\", \"id\": \"8c5f645b-4fc4-421e-98a5-2306b5c66fa0\"}}, \"type\": \"PanTool\", \"id\": \"ed5af17d-6931-4557-9ce3-cb5171f8946e\"}, {\"attributes\": {\"line_color\": {\"value\": \"#1f77b4\"}, \"line_width\": {\"value\": 2}, \"y\": {\"field\": \"y\"}, \"x\": {\"field\": \"x\"}}, \"type\": \"Line\", \"id\": \"6a09931f-c489-4b69-bede-c3648ce2dcd9\"}, {\"attributes\": {\"plot\": {\"subtype\": \"Figure\", \"type\": \"Plot\", \"id\": \"8c5f645b-4fc4-421e-98a5-2306b5c66fa0\"}, \"overlay\": {\"type\": \"BoxAnnotation\", \"id\": \"229f4a55-25a2-44c4-8af3-5f3112389c5d\"}}, \"type\": \"BoxZoomTool\", \"id\": \"10038d76-45b1-4236-9fe1-028a27b1614b\"}, {\"attributes\": {\"x_range\": {\"type\": \"DataRange1d\", \"id\": \"3c45b0ed-af0e-4ddc-a937-a28da0d74555\"}, \"y_range\": {\"type\": \"DataRange1d\", \"id\": \"044e46d4-bfc8-472d-9305-5e4aa6499d92\"}, \"renderers\": [{\"type\": \"LinearAxis\", \"id\": \"a4b65378-f0cc-46bf-85fa-69f4e988ef65\"}, {\"type\": \"Grid\", \"id\": \"bfd616df-9529-4c79-9c7e-bf4ef2070949\"}, {\"type\": \"LinearAxis\", \"id\": \"36bd32ab-8652-4f23-bed9-40553e19d295\"}, {\"type\": \"Grid\", \"id\": \"092913aa-3ae6-4b47-b11f-06a662f1dd24\"}, {\"type\": \"BoxAnnotation\", \"id\": \"d757dc02-adc2-4582-b9d6-6426974162ce\"}, {\"type\": \"GlyphRenderer\", \"id\": \"ff58fc84-d613-4c60-912c-86496c3f7536\"}], \"plot_width\": 400, \"below\": [{\"type\": \"LinearAxis\", \"id\": \"a4b65378-f0cc-46bf-85fa-69f4e988ef65\"}], \"tool_events\": {\"type\": \"ToolEvents\", \"id\": \"958e172f-274b-4f73-afb5-0c6c97c72a35\"}, \"plot_height\": 400, \"tools\": [{\"type\": \"PanTool\", \"id\": \"1c140fdb-8fea-463e-90b1-3daa1c8947d5\"}, {\"type\": \"WheelZoomTool\", \"id\": \"ea5ce1d8-af20-4ad1-81b3-ae2957d7ab12\"}, {\"type\": \"BoxZoomTool\", \"id\": \"713bf457-33a3-4615-9357-216c1b08e222\"}, {\"type\": \"PreviewSaveTool\", \"id\": \"4385305c-994c-4288-a940-b378fb4923cd\"}, {\"type\": \"ResizeTool\", \"id\": \"3d363118-6acc-4ab2-a394-12eddf789160\"}, {\"type\": \"ResetTool\", \"id\": \"28933ab9-2696-41bf-9f47-661bbedfd3c0\"}, {\"type\": \"HelpTool\", \"id\": \"0f5e5b69-46a9-4184-8e92-59413bbbe6a6\"}], \"left\": [{\"type\": \"LinearAxis\", \"id\": \"36bd32ab-8652-4f23-bed9-40553e19d295\"}]}, \"type\": \"Plot\", \"id\": \"14d1c747-16af-465f-91b9-12731e4f38be\", \"subtype\": \"Figure\"}, {\"attributes\": {\"callback\": null, \"end\": 10}, \"type\": \"Range1d\", \"id\": \"cebd570d-8c43-45d7-a067-3f1c0d438b11\"}, {\"attributes\": {\"plot\": {\"subtype\": \"Figure\", \"type\": \"Plot\", \"id\": \"14d1c747-16af-465f-91b9-12731e4f38be\"}, \"formatter\": {\"type\": \"BasicTickFormatter\", \"id\": \"cdb6b37f-1b01-4edc-82f4-3a44bdc28d10\"}, \"ticker\": {\"type\": \"BasicTicker\", \"id\": \"fdfe7461-7715-45ed-94f4-1d80865cda1d\"}}, \"type\": \"LinearAxis\", \"id\": \"36bd32ab-8652-4f23-bed9-40553e19d295\"}, {\"attributes\": {\"plot\": {\"subtype\": \"Figure\", \"type\": \"Plot\", \"id\": \"8c5f645b-4fc4-421e-98a5-2306b5c66fa0\"}}, \"type\": \"PreviewSaveTool\", \"id\": \"634d40bf-d855-45cc-b944-303bccf02c6e\"}, {\"attributes\": {\"plot\": {\"subtype\": \"Figure\", \"type\": \"Plot\", \"id\": \"c42e1261-3880-46ad-9cb5-bfe8a249bd01\"}}, \"type\": \"WheelZoomTool\", \"id\": \"db37e6d2-74a2-4fe7-83cc-bd906787c87d\"}, {\"attributes\": {\"plot\": {\"subtype\": \"Figure\", \"type\": \"Plot\", \"id\": \"14d1c747-16af-465f-91b9-12731e4f38be\"}}, \"type\": \"PreviewSaveTool\", \"id\": \"4385305c-994c-4288-a940-b378fb4923cd\"}, {\"attributes\": {\"line_color\": {\"value\": \"black\"}, \"line_alpha\": {\"value\": 1.0}, \"render_mode\": \"css\", \"bottom_units\": \"screen\", \"level\": \"overlay\", \"top_units\": \"screen\", \"fill_alpha\": {\"value\": 0.5}, \"plot\": null, \"left_units\": \"screen\", \"line_dash\": [4, 4], \"line_width\": {\"value\": 2}, \"right_units\": \"screen\", \"fill_color\": {\"value\": \"lightgrey\"}}, \"type\": \"BoxAnnotation\", \"id\": \"229f4a55-25a2-44c4-8af3-5f3112389c5d\"}, {\"attributes\": {}, \"type\": \"BasicTicker\", \"id\": \"1602fb1e-b705-4c96-bf4a-871881a76a85\"}, {\"attributes\": {}, \"type\": \"BasicTickFormatter\", \"id\": \"5fbdc38c-cc91-417a-b534-613299d105f0\"}, {\"attributes\": {\"plot\": {\"subtype\": \"Figure\", \"type\": \"Plot\", \"id\": \"883c046e-90a2-42a3-92d8-78d2a95f3332\"}}, \"type\": \"PreviewSaveTool\", \"id\": \"01dca220-a692-4a9b-8fbf-7be0637020e4\"}, {\"attributes\": {}, \"type\": \"BasicTicker\", \"id\": \"9f20d5c5-da62-41a5-88e3-a0fe9292a413\"}, {\"attributes\": {}, \"type\": \"BasicTicker\", \"id\": \"fdfe7461-7715-45ed-94f4-1d80865cda1d\"}, {\"attributes\": {\"callback\": null}, \"type\": \"DataRange1d\", \"id\": \"e0a830ce-fc00-4a3c-a747-b43a9ef89760\"}, {\"attributes\": {}, \"type\": \"BasicTickFormatter\", \"id\": \"71b4b83e-8ff1-4c0d-badf-accdcf6a74df\"}, {\"attributes\": {\"nonselection_glyph\": {\"type\": \"Line\", \"id\": \"2602941a-d6fb-460c-b5ec-e8a540aa0ec5\"}, \"data_source\": {\"type\": \"ColumnDataSource\", \"id\": \"3dc294dd-b535-4677-a3df-1610e5f7d637\"}, \"selection_glyph\": null, \"hover_glyph\": null, \"glyph\": {\"type\": \"Line\", \"id\": \"6a09931f-c489-4b69-bede-c3648ce2dcd9\"}}, \"type\": \"GlyphRenderer\", \"id\": \"016b9647-3cb2-4611-afa8-8842fbda5a5b\"}, {\"attributes\": {\"line_color\": {\"value\": \"#1f77b4\"}, \"line_alpha\": {\"value\": 0.1}, \"fill_color\": {\"value\": \"#1f77b4\"}, \"fill_alpha\": {\"value\": 0.1}, \"y\": {\"field\": \"y\"}, \"x\": {\"field\": \"x\"}, \"size\": {\"units\": \"screen\", \"value\": 8}}, \"type\": \"Circle\", \"id\": \"c803d89b-61fe-40b8-8f29-dd3cab7610ae\"}, {\"attributes\": {\"nonselection_glyph\": {\"type\": \"Circle\", \"id\": \"dd619af7-bb55-40ef-b91c-b15c04ea95da\"}, \"data_source\": {\"type\": \"ColumnDataSource\", \"id\": \"35e16c38-cfd3-409f-90c9-1059f2610cc1\"}, \"selection_glyph\": null, \"hover_glyph\": null, \"glyph\": {\"type\": \"Circle\", \"id\": \"395b1b0b-125d-4710-a6b8-b458904fa499\"}}, \"type\": \"GlyphRenderer\", \"id\": \"ff58fc84-d613-4c60-912c-86496c3f7536\"}, {\"attributes\": {\"callback\": null}, \"type\": \"DataRange1d\", \"id\": \"01b6d1a3-58f5-418e-9de1-8a10f9893ce9\"}, {\"attributes\": {}, \"type\": \"BasicTicker\", \"id\": \"7da87c92-9de0-47a3-a1f4-d2d4700355a7\"}, {\"attributes\": {\"y\": {\"field\": \"y\"}, \"dw\": {\"units\": \"data\", \"field\": \"dw\"}, \"image\": {\"field\": \"image\"}, \"dh\": {\"units\": \"data\", \"field\": \"dh\"}, \"x\": {\"field\": \"x\"}}, \"type\": \"ImageRGBA\", \"id\": \"42d6cffa-5eeb-4423-b73b-7f584818fb76\"}, {\"attributes\": {\"x_range\": {\"type\": \"DataRange1d\", \"id\": \"85224112-fc43-472a-83a0-2f030448991f\"}, \"y_range\": {\"type\": \"DataRange1d\", \"id\": \"9fe6aed1-4a14-45d0-b0c0-d30659a0d881\"}, \"renderers\": [{\"type\": \"LinearAxis\", \"id\": \"fe1166fe-db38-4580-acb0-a576d00f02c1\"}, {\"type\": \"Grid\", \"id\": \"e25ccb73-a776-4003-a5c2-e0e031456985\"}, {\"type\": \"LinearAxis\", \"id\": \"7935f758-8f25-421c-8a43-413b18440846\"}, {\"type\": \"Grid\", \"id\": \"695835a5-0c48-43d5-869a-9f122deef601\"}, {\"type\": \"BoxAnnotation\", \"id\": \"f00e6a6d-b514-47f0-9d3b-c8266250e84f\"}, {\"type\": \"GlyphRenderer\", \"id\": \"68b73edf-a0a4-4849-ac67-0c1737d24bc2\"}], \"plot_width\": 400, \"below\": [{\"type\": \"LinearAxis\", \"id\": \"fe1166fe-db38-4580-acb0-a576d00f02c1\"}], \"tool_events\": {\"type\": \"ToolEvents\", \"id\": \"1e2ae9c7-12af-46d1-a794-6ec7bed06a3a\"}, \"plot_height\": 400, \"tools\": [{\"type\": \"PanTool\", \"id\": \"eb512f4e-a071-4798-b11d-d10048ce6c5d\"}, {\"type\": \"WheelZoomTool\", \"id\": \"db37e6d2-74a2-4fe7-83cc-bd906787c87d\"}, {\"type\": \"BoxZoomTool\", \"id\": \"77004142-0b77-4159-aa98-8043a43e4301\"}, {\"type\": \"PreviewSaveTool\", \"id\": \"8c66bcf0-c4f4-4d6b-afdd-170dca933b4f\"}, {\"type\": \"ResizeTool\", \"id\": \"06f707f1-a37c-4054-9cac-23300feaa134\"}, {\"type\": \"ResetTool\", \"id\": \"d279da04-a218-4ec6-9fa5-1d46aa9543db\"}, {\"type\": \"HelpTool\", \"id\": \"0d727e97-d1d6-4c9f-ad57-f85aaca4c2d4\"}], \"left\": [{\"type\": \"LinearAxis\", \"id\": \"7935f758-8f25-421c-8a43-413b18440846\"}]}, \"type\": \"Plot\", \"id\": \"c42e1261-3880-46ad-9cb5-bfe8a249bd01\", \"subtype\": \"Figure\"}, {\"attributes\": {\"plot\": {\"subtype\": \"Figure\", \"type\": \"Plot\", \"id\": \"0dda62bd-7a51-4bd6-b205-d9b0da9c04ea\"}, \"formatter\": {\"type\": \"BasicTickFormatter\", \"id\": \"08935b5b-84d5-400a-b263-f49a76d3815c\"}, \"ticker\": {\"type\": \"BasicTicker\", \"id\": \"9f20d5c5-da62-41a5-88e3-a0fe9292a413\"}}, \"type\": \"LinearAxis\", \"id\": \"c0726e18-f414-4978-a11b-62a4b1684508\"}, {\"attributes\": {}, \"type\": \"BasicTickFormatter\", \"id\": \"9ffc32de-1522-427b-b627-fe7cafbd2287\"}, {\"attributes\": {}, \"type\": \"BasicTicker\", \"id\": \"984f8357-1648-45f7-826d-f18072be689b\"}, {\"attributes\": {\"plot\": {\"subtype\": \"Figure\", \"type\": \"Plot\", \"id\": \"14d1c747-16af-465f-91b9-12731e4f38be\"}, \"ticker\": {\"type\": \"BasicTicker\", \"id\": \"fdfe7461-7715-45ed-94f4-1d80865cda1d\"}, \"dimension\": 1}, \"type\": \"Grid\", \"id\": \"092913aa-3ae6-4b47-b11f-06a662f1dd24\"}, {\"attributes\": {\"plot\": {\"subtype\": \"Figure\", \"type\": \"Plot\", \"id\": \"14d1c747-16af-465f-91b9-12731e4f38be\"}}, \"type\": \"ResetTool\", \"id\": \"28933ab9-2696-41bf-9f47-661bbedfd3c0\"}, {\"attributes\": {}, \"type\": \"ToolEvents\", \"id\": \"69a44925-0b7d-4285-a26c-f514ed2553e0\"}, {\"attributes\": {\"line_color\": {\"value\": \"#1f77b4\"}, \"x\": {\"field\": \"x\"}, \"y\": {\"field\": \"y\"}, \"fill_color\": {\"value\": \"white\"}, \"size\": {\"units\": \"screen\", \"value\": 8}}, \"type\": \"Circle\", \"id\": \"e0f38a52-0adf-45e0-ad68-1604535795db\"}, {\"attributes\": {\"callback\": null, \"end\": 10}, \"type\": \"Range1d\", \"id\": \"c29b53d5-5757-454c-80b6-bb86015975ca\"}, {\"attributes\": {\"plot\": {\"subtype\": \"Figure\", \"type\": \"Plot\", \"id\": \"8c5f645b-4fc4-421e-98a5-2306b5c66fa0\"}}, \"type\": \"ResizeTool\", \"id\": \"8b9f7123-63f3-4bca-8c3f-0251b0732eb6\"}, {\"attributes\": {\"plot\": {\"subtype\": \"Figure\", \"type\": \"Plot\", \"id\": \"883c046e-90a2-42a3-92d8-78d2a95f3332\"}}, \"type\": \"ResetTool\", \"id\": \"9b9b8006-cd48-4138-8afe-461530334032\"}, {\"attributes\": {\"plot\": {\"subtype\": \"Figure\", \"type\": \"Plot\", \"id\": \"883c046e-90a2-42a3-92d8-78d2a95f3332\"}, \"overlay\": {\"type\": \"BoxAnnotation\", \"id\": \"9fd24da0-8ee6-4c59-94cb-74d2e3915d5e\"}}, \"type\": \"BoxZoomTool\", \"id\": \"eb083057-024e-4fc8-af28-a3b3ae6ca9ac\"}, {\"attributes\": {}, \"type\": \"BasicTicker\", \"id\": \"c446a25f-bd6a-4d39-a578-f8bdf9333e2e\"}, {\"attributes\": {\"callback\": null, \"column_names\": [\"y\", \"x\"], \"data\": {\"y\": [6, 7, 2, 4, 5], \"x\": [1, 2, 3, 4, 5]}}, \"type\": \"ColumnDataSource\", \"id\": \"4dcc3e62-d891-4dc7-9f06-cf1f95793319\"}, {\"attributes\": {\"callback\": null, \"column_names\": [\"y\", \"x\"], \"data\": {\"y\": [6, 7, 8, 7, 3], \"x\": [1, 2, 3, 4, 5]}}, \"type\": \"ColumnDataSource\", \"id\": \"599c5338-88d6-47d9-b35b-d1cae660fb2c\"}, {\"attributes\": {\"plot\": {\"subtype\": \"Figure\", \"type\": \"Plot\", \"id\": \"0dda62bd-7a51-4bd6-b205-d9b0da9c04ea\"}}, \"type\": \"PanTool\", \"id\": \"21793b68-0bc9-49b0-98e7-650d4626213b\"}, {\"attributes\": {\"plot\": {\"subtype\": \"Figure\", \"type\": \"Plot\", \"id\": \"883c046e-90a2-42a3-92d8-78d2a95f3332\"}, \"formatter\": {\"type\": \"BasicTickFormatter\", \"id\": \"71b4b83e-8ff1-4c0d-badf-accdcf6a74df\"}, \"ticker\": {\"type\": \"BasicTicker\", \"id\": \"ec988a30-df2b-42bb-bc93-7b75a6635ff6\"}}, \"type\": \"LinearAxis\", \"id\": \"dae028dc-0ab3-475f-b854-437db636a3d7\"}, {\"attributes\": {\"plot\": {\"subtype\": \"Figure\", \"type\": \"Plot\", \"id\": \"8c5f645b-4fc4-421e-98a5-2306b5c66fa0\"}, \"ticker\": {\"type\": \"BasicTicker\", \"id\": \"8c6e2eb9-d810-4252-8f90-b13f720bb341\"}}, \"type\": \"Grid\", \"id\": \"a40d4c20-9c03-4a2a-a1f7-e219422966f1\"}, {\"attributes\": {}, \"type\": \"BasicTicker\", \"id\": \"b8fd1671-3a21-468b-b5cd-c60bda1390bf\"}, {\"attributes\": {\"plot\": {\"subtype\": \"Figure\", \"type\": \"Plot\", \"id\": \"8c5f645b-4fc4-421e-98a5-2306b5c66fa0\"}, \"formatter\": {\"type\": \"BasicTickFormatter\", \"id\": \"6ea8fc0e-f5ec-4b2f-af79-029aeb6e9270\"}, \"ticker\": {\"type\": \"BasicTicker\", \"id\": \"8c6e2eb9-d810-4252-8f90-b13f720bb341\"}}, \"type\": \"LinearAxis\", \"id\": \"2fbf76e8-2948-41a6-8b6a-dd10cb012820\"}, {\"attributes\": {\"nonselection_glyph\": {\"type\": \"Circle\", \"id\": \"c803d89b-61fe-40b8-8f29-dd3cab7610ae\"}, \"data_source\": {\"type\": \"ColumnDataSource\", \"id\": \"599c5338-88d6-47d9-b35b-d1cae660fb2c\"}, \"selection_glyph\": null, \"hover_glyph\": null, \"glyph\": {\"type\": \"Circle\", \"id\": \"e0f38a52-0adf-45e0-ad68-1604535795db\"}}, \"type\": \"GlyphRenderer\", \"id\": \"1a6e41ec-806c-4dff-90b4-e645e826d047\"}, {\"attributes\": {\"nonselection_glyph\": {\"type\": \"Line\", \"id\": \"c2993164-4e04-4378-86e6-3f66cc9e5c60\"}, \"data_source\": {\"type\": \"ColumnDataSource\", \"id\": \"4dcc3e62-d891-4dc7-9f06-cf1f95793319\"}, \"selection_glyph\": null, \"hover_glyph\": null, \"glyph\": {\"type\": \"Line\", \"id\": \"f3afd29c-2f19-4a1e-b36d-10b8118b85af\"}}, \"type\": \"GlyphRenderer\", \"id\": \"c6fb1017-e54e-45a3-9407-79cc3bf6cd27\"}, {\"attributes\": {\"nonselection_glyph\": {\"type\": \"ImageRGBA\", \"id\": \"42d6cffa-5eeb-4423-b73b-7f584818fb76\"}, \"data_source\": {\"type\": \"ColumnDataSource\", \"id\": \"540e139d-f1c6-4e71-a004-d0f9e91bf012\"}, \"selection_glyph\": null, \"hover_glyph\": null, \"glyph\": {\"type\": \"ImageRGBA\", \"id\": \"ffb6b397-c098-43fd-b49e-1e7462a99467\"}}, \"type\": \"GlyphRenderer\", \"id\": \"c2773414-c2ed-4f6b-975d-ca8d6d7e794e\"}, {\"attributes\": {\"plot\": {\"subtype\": \"Figure\", \"type\": \"Plot\", \"id\": \"883c046e-90a2-42a3-92d8-78d2a95f3332\"}, \"ticker\": {\"type\": \"BasicTicker\", \"id\": \"ec988a30-df2b-42bb-bc93-7b75a6635ff6\"}}, \"type\": \"Grid\", \"id\": \"d1e40124-40a2-4647-96a2-b273f32cdc9f\"}, {\"attributes\": {\"line_color\": {\"value\": \"black\"}, \"line_alpha\": {\"value\": 1.0}, \"render_mode\": \"css\", \"bottom_units\": \"screen\", \"level\": \"overlay\", \"top_units\": \"screen\", \"fill_alpha\": {\"value\": 0.5}, \"plot\": null, \"left_units\": \"screen\", \"line_dash\": [4, 4], \"line_width\": {\"value\": 2}, \"right_units\": \"screen\", \"fill_color\": {\"value\": \"lightgrey\"}}, \"type\": \"BoxAnnotation\", \"id\": \"7b79f4a7-36d4-44a0-be2d-980e5441cab7\"}, {\"attributes\": {}, \"type\": \"BasicTickFormatter\", \"id\": \"b867b100-ba46-47a5-995f-9d3f70a20d7a\"}, {\"attributes\": {\"plot\": {\"subtype\": \"Figure\", \"type\": \"Plot\", \"id\": \"0dda62bd-7a51-4bd6-b205-d9b0da9c04ea\"}, \"formatter\": {\"type\": \"BasicTickFormatter\", \"id\": \"b867b100-ba46-47a5-995f-9d3f70a20d7a\"}, \"ticker\": {\"type\": \"BasicTicker\", \"id\": \"97d687b3-f9e4-4dd1-a2d9-07a2f57813a1\"}}, \"type\": \"LinearAxis\", \"id\": \"c6ab4eb6-bd01-488a-bc54-8ac6877a0eb3\"}, {\"attributes\": {}, \"type\": \"BasicTickFormatter\", \"id\": \"08935b5b-84d5-400a-b263-f49a76d3815c\"}, {\"attributes\": {\"line_color\": {\"value\": \"firebrick\"}, \"line_alpha\": {\"value\": 0.6}, \"fill_color\": {\"value\": \"firebrick\"}, \"fill_alpha\": {\"value\": 0.6}, \"y\": {\"field\": \"y\"}, \"x\": {\"field\": \"x\"}, \"size\": {\"units\": \"screen\", \"field\": \"size\"}}, \"type\": \"Square\", \"id\": \"9085ddc4-da13-43cb-b2a3-bcad47b63075\"}, {\"attributes\": {\"plot\": {\"subtype\": \"Figure\", \"type\": \"Plot\", \"id\": \"8c5f645b-4fc4-421e-98a5-2306b5c66fa0\"}}, \"type\": \"WheelZoomTool\", \"id\": \"1aef62e1-05d2-40c8-bf5c-b0ae9610b110\"}, {\"attributes\": {\"plot\": {\"subtype\": \"Figure\", \"type\": \"Plot\", \"id\": \"8c5f645b-4fc4-421e-98a5-2306b5c66fa0\"}}, \"type\": \"ResetTool\", \"id\": \"ab621d92-7dc8-4c87-aa93-8d120587aee2\"}, {\"attributes\": {}, \"type\": \"BasicTicker\", \"id\": \"ec988a30-df2b-42bb-bc93-7b75a6635ff6\"}, {\"attributes\": {\"callback\": null}, \"type\": \"DataRange1d\", \"id\": \"07afd89f-f017-4b4b-a98b-32004d2719e6\"}, {\"attributes\": {\"plot\": {\"subtype\": \"Figure\", \"type\": \"Plot\", \"id\": \"c42e1261-3880-46ad-9cb5-bfe8a249bd01\"}}, \"type\": \"HelpTool\", \"id\": \"0d727e97-d1d6-4c9f-ad57-f85aaca4c2d4\"}, {\"attributes\": {\"plot\": {\"subtype\": \"Figure\", \"type\": \"Plot\", \"id\": \"0dda62bd-7a51-4bd6-b205-d9b0da9c04ea\"}}, \"type\": \"WheelZoomTool\", \"id\": \"10a69a48-e8ac-492c-bf7f-b28549894b35\"}, {\"attributes\": {\"plot\": {\"subtype\": \"Figure\", \"type\": \"Plot\", \"id\": \"883c046e-90a2-42a3-92d8-78d2a95f3332\"}}, \"type\": \"ResizeTool\", \"id\": \"7a2283d3-a50a-46b2-807d-a2b983ee9923\"}, {\"attributes\": {}, \"type\": \"BasicTickFormatter\", \"id\": \"b8108c5a-cf5e-4fb7-82c8-0dc5f1b308ae\"}, {\"attributes\": {\"plot\": {\"subtype\": \"Figure\", \"type\": \"Plot\", \"id\": \"0dda62bd-7a51-4bd6-b205-d9b0da9c04ea\"}}, \"type\": \"ResizeTool\", \"id\": \"e81bed7c-34c6-4ba7-8a95-3e87d19be697\"}, {\"attributes\": {\"plot\": {\"subtype\": \"Figure\", \"type\": \"Plot\", \"id\": \"c42e1261-3880-46ad-9cb5-bfe8a249bd01\"}, \"formatter\": {\"type\": \"BasicTickFormatter\", \"id\": \"5fbdc38c-cc91-417a-b534-613299d105f0\"}, \"ticker\": {\"type\": \"BasicTicker\", \"id\": \"1602fb1e-b705-4c96-bf4a-871881a76a85\"}}, \"type\": \"LinearAxis\", \"id\": \"fe1166fe-db38-4580-acb0-a576d00f02c1\"}, {\"attributes\": {}, \"type\": \"BasicTickFormatter\", \"id\": \"6ea8fc0e-f5ec-4b2f-af79-029aeb6e9270\"}, {\"attributes\": {\"callback\": null, \"column_names\": [\"x\", \"y\", \"size\"], \"data\": {\"y\": [6, 7, 2, 4, 5], \"x\": [1, 2, 3, 4, 5], \"size\": [10, 15, 20, 25, 30]}}, \"type\": \"ColumnDataSource\", \"id\": \"af592b47-cda0-4921-92c1-adb3274b24e4\"}, {\"attributes\": {\"plot\": {\"subtype\": \"Figure\", \"type\": \"Plot\", \"id\": \"8c5f645b-4fc4-421e-98a5-2306b5c66fa0\"}, \"formatter\": {\"type\": \"BasicTickFormatter\", \"id\": \"9ffc32de-1522-427b-b627-fe7cafbd2287\"}, \"ticker\": {\"type\": \"BasicTicker\", \"id\": \"7da87c92-9de0-47a3-a1f4-d2d4700355a7\"}}, \"type\": \"LinearAxis\", \"id\": \"efa1c1bc-a478-471c-8de1-9b823c5b3255\"}, {\"attributes\": {\"plot\": {\"subtype\": \"Figure\", \"type\": \"Plot\", \"id\": \"8c5f645b-4fc4-421e-98a5-2306b5c66fa0\"}}, \"type\": \"HelpTool\", \"id\": \"5cddbd14-aaa2-4c31-b5e4-301086b92816\"}, {\"attributes\": {\"plot\": {\"subtype\": \"Figure\", \"type\": \"Plot\", \"id\": \"14d1c747-16af-465f-91b9-12731e4f38be\"}, \"formatter\": {\"type\": \"BasicTickFormatter\", \"id\": \"0e2b6212-c17b-4ca5-a65b-a9e12cd7464f\"}, \"ticker\": {\"type\": \"BasicTicker\", \"id\": \"984f8357-1648-45f7-826d-f18072be689b\"}}, \"type\": \"LinearAxis\", \"id\": \"a4b65378-f0cc-46bf-85fa-69f4e988ef65\"}, {\"attributes\": {\"plot\": {\"subtype\": \"Figure\", \"type\": \"Plot\", \"id\": \"c42e1261-3880-46ad-9cb5-bfe8a249bd01\"}, \"ticker\": {\"type\": \"BasicTicker\", \"id\": \"c446a25f-bd6a-4d39-a578-f8bdf9333e2e\"}, \"dimension\": 1}, \"type\": \"Grid\", \"id\": \"695835a5-0c48-43d5-869a-9f122deef601\"}, {\"attributes\": {\"x_range\": {\"type\": \"Range1d\", \"id\": \"cebd570d-8c43-45d7-a067-3f1c0d438b11\"}, \"y_range\": {\"type\": \"Range1d\", \"id\": \"c29b53d5-5757-454c-80b6-bb86015975ca\"}, \"renderers\": [{\"type\": \"LinearAxis\", \"id\": \"2fbf76e8-2948-41a6-8b6a-dd10cb012820\"}, {\"type\": \"Grid\", \"id\": \"a40d4c20-9c03-4a2a-a1f7-e219422966f1\"}, {\"type\": \"LinearAxis\", \"id\": \"efa1c1bc-a478-471c-8de1-9b823c5b3255\"}, {\"type\": \"Grid\", \"id\": \"a4143b9a-238e-4b3a-9dfe-b1c94761ce3b\"}, {\"type\": \"BoxAnnotation\", \"id\": \"229f4a55-25a2-44c4-8af3-5f3112389c5d\"}, {\"type\": \"GlyphRenderer\", \"id\": \"c2773414-c2ed-4f6b-975d-ca8d6d7e794e\"}], \"below\": [{\"type\": \"LinearAxis\", \"id\": \"2fbf76e8-2948-41a6-8b6a-dd10cb012820\"}], \"tool_events\": {\"type\": \"ToolEvents\", \"id\": \"69a44925-0b7d-4285-a26c-f514ed2553e0\"}, \"tools\": [{\"type\": \"PanTool\", \"id\": \"ed5af17d-6931-4557-9ce3-cb5171f8946e\"}, {\"type\": \"WheelZoomTool\", \"id\": \"1aef62e1-05d2-40c8-bf5c-b0ae9610b110\"}, {\"type\": \"BoxZoomTool\", \"id\": \"10038d76-45b1-4236-9fe1-028a27b1614b\"}, {\"type\": \"PreviewSaveTool\", \"id\": \"634d40bf-d855-45cc-b944-303bccf02c6e\"}, {\"type\": \"ResizeTool\", \"id\": \"8b9f7123-63f3-4bca-8c3f-0251b0732eb6\"}, {\"type\": \"ResetTool\", \"id\": \"ab621d92-7dc8-4c87-aa93-8d120587aee2\"}, {\"type\": \"HelpTool\", \"id\": \"5cddbd14-aaa2-4c31-b5e4-301086b92816\"}], \"left\": [{\"type\": \"LinearAxis\", \"id\": \"efa1c1bc-a478-471c-8de1-9b823c5b3255\"}]}, \"type\": \"Plot\", \"id\": \"8c5f645b-4fc4-421e-98a5-2306b5c66fa0\", \"subtype\": \"Figure\"}, {\"attributes\": {}, \"type\": \"BasicTicker\", \"id\": \"8c6e2eb9-d810-4252-8f90-b13f720bb341\"}, {\"attributes\": {}, \"type\": \"BasicTickFormatter\", \"id\": \"a9504236-0022-4097-8822-d06968c2bd31\"}, {\"attributes\": {\"x_range\": {\"type\": \"DataRange1d\", \"id\": \"e0a830ce-fc00-4a3c-a747-b43a9ef89760\"}, \"y_range\": {\"type\": \"DataRange1d\", \"id\": \"01b6d1a3-58f5-418e-9de1-8a10f9893ce9\"}, \"renderers\": [{\"type\": \"LinearAxis\", \"id\": \"dae028dc-0ab3-475f-b854-437db636a3d7\"}, {\"type\": \"Grid\", \"id\": \"d1e40124-40a2-4647-96a2-b273f32cdc9f\"}, {\"type\": \"LinearAxis\", \"id\": \"bf47a960-7ba4-4587-92cf-2f71566e264d\"}, {\"type\": \"Grid\", \"id\": \"d4c6df5e-e3a8-45e9-ac98-e3b3a3495a8d\"}, {\"type\": \"BoxAnnotation\", \"id\": \"9fd24da0-8ee6-4c59-94cb-74d2e3915d5e\"}, {\"type\": \"GlyphRenderer\", \"id\": \"016b9647-3cb2-4611-afa8-8842fbda5a5b\"}, {\"type\": \"GlyphRenderer\", \"id\": \"1a6e41ec-806c-4dff-90b4-e645e826d047\"}], \"plot_width\": 400, \"below\": [{\"type\": \"LinearAxis\", \"id\": \"dae028dc-0ab3-475f-b854-437db636a3d7\"}], \"tool_events\": {\"type\": \"ToolEvents\", \"id\": \"c7421c5f-44bc-4ab7-92c0-e94f0dbdfd26\"}, \"plot_height\": 400, \"tools\": [{\"type\": \"PanTool\", \"id\": \"62f1fa1c-4045-4f12-b7c0-5468b0a3a294\"}, {\"type\": \"WheelZoomTool\", \"id\": \"3c8af4df-4345-447c-b43e-0ead0132443c\"}, {\"type\": \"BoxZoomTool\", \"id\": \"eb083057-024e-4fc8-af28-a3b3ae6ca9ac\"}, {\"type\": \"PreviewSaveTool\", \"id\": \"01dca220-a692-4a9b-8fbf-7be0637020e4\"}, {\"type\": \"ResizeTool\", \"id\": \"7a2283d3-a50a-46b2-807d-a2b983ee9923\"}, {\"type\": \"ResetTool\", \"id\": \"9b9b8006-cd48-4138-8afe-461530334032\"}, {\"type\": \"HelpTool\", \"id\": \"f10e4e66-5717-4286-80a9-93c463fd8b74\"}], \"left\": [{\"type\": \"LinearAxis\", \"id\": \"bf47a960-7ba4-4587-92cf-2f71566e264d\"}]}, \"type\": \"Plot\", \"id\": \"883c046e-90a2-42a3-92d8-78d2a95f3332\", \"subtype\": \"Figure\"}, {\"attributes\": {}, \"type\": \"ToolEvents\", \"id\": \"c7421c5f-44bc-4ab7-92c0-e94f0dbdfd26\"}]}, \"title\": \"Bokeh Application\"}};\n",
       "            var render_items = [{\"notebook_comms_target\": \"15f3b89c-b5d6-48f0-b285-fb8cbb5b97dd\", \"docid\": \"2165e632-a0f3-40c2-b50d-abb2a0f620fd\", \"elementid\": \"0e1c5b81-5cd5-4ea9-affe-52d522018445\", \"modelid\": \"883c046e-90a2-42a3-92d8-78d2a95f3332\"}];\n",
       "            \n",
       "            Bokeh.embed.embed_items(docs_json, render_items);\n",
       "        });\n",
       "      },\n",
       "      function(Bokeh) {\n",
       "      }\n",
       "    ];\n",
       "  \n",
       "    function run_inline_js() {\n",
       "      for (var i = 0; i < inline_js.length; i++) {\n",
       "        inline_js[i](window.Bokeh);\n",
       "      }\n",
       "    }\n",
       "  \n",
       "    if (window._bokeh_is_loading === 0) {\n",
       "      console.log(\"Bokeh: BokehJS loaded, going straight to plotting\");\n",
       "      run_inline_js();\n",
       "    } else {\n",
       "      load_libs(js_urls, function() {\n",
       "        console.log(\"Bokeh: BokehJS plotting callback run at\", now());\n",
       "        run_inline_js();\n",
       "      });\n",
       "    }\n",
       "  }(this));\n",
       "</script>"
      ]
     },
     "metadata": {},
     "output_type": "display_data"
    },
    {
     "data": {
      "text/plain": [
       "<bokeh.io._CommsHandle at 0x7fe9897b9810>"
      ]
     },
     "execution_count": 10,
     "metadata": {},
     "output_type": "execute_result"
    }
   ],
   "source": [
    "# set up some data\n",
    "x = [1, 2, 3, 4, 5]\n",
    "y = [6, 7, 8, 7, 3]\n",
    "\n",
    "# create a new plot with figure\n",
    "p = figure(plot_width=400, plot_height=400)\n",
    "\n",
    "# add both a line and circles on the same plot\n",
    "p.line(x, y, line_width=2)\n",
    "p.circle(x, y, fill_color=\"white\", size=8)\n",
    "\n",
    "show(p) # show the results"
   ]
  },
  {
   "cell_type": "code",
   "execution_count": 11,
   "metadata": {
    "collapsed": true
   },
   "outputs": [],
   "source": [
    "# EXERCISE: create your own plot combining multiple glyphs together\n",
    "\n"
   ]
  },
  {
   "cell_type": "code",
   "execution_count": null,
   "metadata": {
    "collapsed": true
   },
   "outputs": [],
   "source": []
  }
 ],
 "metadata": {
  "kernelspec": {
   "display_name": "Python 2",
   "language": "python",
   "name": "python2"
  },
  "language_info": {
   "codemirror_mode": {
    "name": "ipython",
    "version": 2
   },
   "file_extension": ".py",
   "mimetype": "text/x-python",
   "name": "python",
   "nbconvert_exporter": "python",
   "pygments_lexer": "ipython2",
   "version": "2.7.11"
  }
 },
 "nbformat": 4,
 "nbformat_minor": 0
}
