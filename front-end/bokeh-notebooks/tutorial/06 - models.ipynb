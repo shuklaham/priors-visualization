{
 "cells": [
  {
   "cell_type": "markdown",
   "metadata": {},
   "source": [
    "<table style=\"float:left; border:none\">\n",
    "   <tr style=\"border:none\">\n",
    "       <td style=\"border:none\">\n",
    "           <a href=\"http://bokeh.pydata.org/\">     \n",
    "           <img \n",
    "               src=\"http://bokeh.pydata.org/en/latest/_static/bokeh-transparent.png\" \n",
    "               style=\"width:70px\"\n",
    "           >\n",
    "           </a>    \n",
    "       </td>\n",
    "       <td style=\"border:none\">\n",
    "           <h1>Bokeh Tutorial &mdash; <tt style=\"display:inline\">bokeh.models</tt> interface</h1>\n",
    "       </td>\n",
    "   </tr>\n",
    "</table>"
   ]
  },
  {
   "cell_type": "markdown",
   "metadata": {
    "collapsed": true
   },
   "source": [
    "## Models\n",
    "\n",
    "NYTimes interactive chart [Usain Bolt vs. 116 years of Olympic sprinters](http://www.nytimes.com/interactive/2012/08/05/sports/olympics/the-100-meter-dash-one-race-every-medalist-ever.html)"
   ]
  },
  {
   "cell_type": "markdown",
   "metadata": {},
   "source": [
    "The first thing we need is to get the data. The data for this chart is located in the ``bokeh.sampledata`` module as a Pandas DataFrame. You can see the first ten rows below:?"
   ]
  },
  {
   "cell_type": "code",
   "execution_count": 1,
   "metadata": {
    "collapsed": false
   },
   "outputs": [
    {
     "data": {
      "text/html": [
       "<div>\n",
       "<table border=\"1\" class=\"dataframe\">\n",
       "  <thead>\n",
       "    <tr style=\"text-align: right;\">\n",
       "      <th></th>\n",
       "      <th>Name</th>\n",
       "      <th>Country</th>\n",
       "      <th>Medal</th>\n",
       "      <th>Time</th>\n",
       "      <th>Year</th>\n",
       "    </tr>\n",
       "  </thead>\n",
       "  <tbody>\n",
       "    <tr>\n",
       "      <th>0</th>\n",
       "      <td>Usain Bolt</td>\n",
       "      <td>JAM</td>\n",
       "      <td>GOLD</td>\n",
       "      <td>9.63</td>\n",
       "      <td>2012</td>\n",
       "    </tr>\n",
       "    <tr>\n",
       "      <th>1</th>\n",
       "      <td>Yohan Blake</td>\n",
       "      <td>JAM</td>\n",
       "      <td>SILVER</td>\n",
       "      <td>9.75</td>\n",
       "      <td>2012</td>\n",
       "    </tr>\n",
       "    <tr>\n",
       "      <th>2</th>\n",
       "      <td>Justin Gatlin</td>\n",
       "      <td>USA</td>\n",
       "      <td>BRONZE</td>\n",
       "      <td>9.79</td>\n",
       "      <td>2012</td>\n",
       "    </tr>\n",
       "    <tr>\n",
       "      <th>3</th>\n",
       "      <td>Usain Bolt</td>\n",
       "      <td>JAM</td>\n",
       "      <td>GOLD</td>\n",
       "      <td>9.69</td>\n",
       "      <td>2008</td>\n",
       "    </tr>\n",
       "    <tr>\n",
       "      <th>4</th>\n",
       "      <td>Richard Thompson</td>\n",
       "      <td>TRI</td>\n",
       "      <td>SILVER</td>\n",
       "      <td>9.89</td>\n",
       "      <td>2008</td>\n",
       "    </tr>\n",
       "    <tr>\n",
       "      <th>5</th>\n",
       "      <td>Walter Dix</td>\n",
       "      <td>USA</td>\n",
       "      <td>BRONZE</td>\n",
       "      <td>9.91</td>\n",
       "      <td>2008</td>\n",
       "    </tr>\n",
       "    <tr>\n",
       "      <th>6</th>\n",
       "      <td>Justin Gatlin</td>\n",
       "      <td>USA</td>\n",
       "      <td>GOLD</td>\n",
       "      <td>9.85</td>\n",
       "      <td>2004</td>\n",
       "    </tr>\n",
       "    <tr>\n",
       "      <th>7</th>\n",
       "      <td>Francis Obikwelu</td>\n",
       "      <td>POR</td>\n",
       "      <td>SILVER</td>\n",
       "      <td>9.86</td>\n",
       "      <td>2004</td>\n",
       "    </tr>\n",
       "    <tr>\n",
       "      <th>8</th>\n",
       "      <td>Maurice Greene</td>\n",
       "      <td>USA</td>\n",
       "      <td>BRONZE</td>\n",
       "      <td>9.87</td>\n",
       "      <td>2004</td>\n",
       "    </tr>\n",
       "    <tr>\n",
       "      <th>9</th>\n",
       "      <td>Maurice Greene</td>\n",
       "      <td>USA</td>\n",
       "      <td>GOLD</td>\n",
       "      <td>9.87</td>\n",
       "      <td>2000</td>\n",
       "    </tr>\n",
       "  </tbody>\n",
       "</table>\n",
       "</div>"
      ],
      "text/plain": [
       "               Name Country   Medal  Time  Year\n",
       "0        Usain Bolt     JAM    GOLD  9.63  2012\n",
       "1       Yohan Blake     JAM  SILVER  9.75  2012\n",
       "2     Justin Gatlin     USA  BRONZE  9.79  2012\n",
       "3        Usain Bolt     JAM    GOLD  9.69  2008\n",
       "4  Richard Thompson     TRI  SILVER  9.89  2008\n",
       "5        Walter Dix     USA  BRONZE  9.91  2008\n",
       "6     Justin Gatlin     USA    GOLD  9.85  2004\n",
       "7  Francis Obikwelu     POR  SILVER  9.86  2004\n",
       "8    Maurice Greene     USA  BRONZE  9.87  2004\n",
       "9    Maurice Greene     USA    GOLD  9.87  2000"
      ]
     },
     "execution_count": 1,
     "metadata": {},
     "output_type": "execute_result"
    }
   ],
   "source": [
    "from bokeh.sampledata.sprint import sprint\n",
    "sprint[:10]"
   ]
  },
  {
   "cell_type": "markdown",
   "metadata": {},
   "source": [
    "Next we import some of the Bokeh models that need to be assembled to make a plot. At a minimum, we need to start with ``Plot``, the glyphs (``Circle`` and ``Text``) we want to display, as well as ``ColumnDataSource`` to hold the data and range obejcts to set the plot bounds. "
   ]
  },
  {
   "cell_type": "code",
   "execution_count": 2,
   "metadata": {
    "collapsed": false
   },
   "outputs": [],
   "source": [
    "from bokeh.io import output_notebook, show\n",
    "from bokeh.models.glyphs import Circle, Text\n",
    "from bokeh.models import ColumnDataSource, Range1d, DataRange1d, Plot"
   ]
  },
  {
   "cell_type": "code",
   "execution_count": 3,
   "metadata": {
    "collapsed": false
   },
   "outputs": [
    {
     "data": {
      "text/html": [
       "\n",
       "\n",
       "    <script type=\"text/javascript\">\n",
       "      \n",
       "      (function(global) {\n",
       "        function now() {\n",
       "          return new Date();\n",
       "        }\n",
       "      \n",
       "        if (typeof (window._bokeh_onload_callbacks) === \"undefined\") {\n",
       "          window._bokeh_onload_callbacks = [];\n",
       "        }\n",
       "      \n",
       "        function run_callbacks() {\n",
       "          window._bokeh_onload_callbacks.forEach(function(callback) { callback() });\n",
       "          delete window._bokeh_onload_callbacks\n",
       "          console.info(\"Bokeh: all callbacks have finished\");\n",
       "        }\n",
       "      \n",
       "        function load_libs(js_urls, callback) {\n",
       "          window._bokeh_onload_callbacks.push(callback);\n",
       "          if (window._bokeh_is_loading > 0) {\n",
       "            console.log(\"Bokeh: BokehJS is being loaded, scheduling callback at\", now());\n",
       "            return null;\n",
       "          }\n",
       "          if (js_urls == null || js_urls.length === 0) {\n",
       "            run_callbacks();\n",
       "            return null;\n",
       "          }\n",
       "          console.log(\"Bokeh: BokehJS not loaded, scheduling load and callback at\", now());\n",
       "          window._bokeh_is_loading = js_urls.length;\n",
       "          for (var i = 0; i < js_urls.length; i++) {\n",
       "            var url = js_urls[i];\n",
       "            var s = document.createElement('script');\n",
       "            s.src = url;\n",
       "            s.async = false;\n",
       "            s.onreadystatechange = s.onload = function() {\n",
       "              window._bokeh_is_loading--;\n",
       "              if (window._bokeh_is_loading === 0) {\n",
       "                console.log(\"Bokeh: all BokehJS libraries loaded\");\n",
       "                run_callbacks()\n",
       "              }\n",
       "            };\n",
       "            s.onerror = function() {\n",
       "              console.warn(\"failed to load library \" + url);\n",
       "            };\n",
       "            console.log(\"Bokeh: injecting script tag for BokehJS library: \", url);\n",
       "            document.getElementsByTagName(\"head\")[0].appendChild(s);\n",
       "          }\n",
       "        };var js_urls = ['https://cdn.pydata.org/bokeh/release/bokeh-0.11.0.min.js', 'https://cdn.pydata.org/bokeh/release/bokeh-widgets-0.11.0.min.js', 'https://cdn.pydata.org/bokeh/release/bokeh-compiler-0.11.0.min.js'];\n",
       "      \n",
       "        var inline_js = [\n",
       "          function(Bokeh) {\n",
       "            Bokeh.set_log_level(\"info\");\n",
       "          },\n",
       "          function(Bokeh) {\n",
       "            console.log(\"Bokeh: injecting CSS: https://cdn.pydata.org/bokeh/release/bokeh-0.11.0.min.css\");\n",
       "            Bokeh.embed.inject_css(\"https://cdn.pydata.org/bokeh/release/bokeh-0.11.0.min.css\");\n",
       "            console.log(\"Bokeh: injecting CSS: https://cdn.pydata.org/bokeh/release/bokeh-widgets-0.11.0.min.css\");\n",
       "            Bokeh.embed.inject_css(\"https://cdn.pydata.org/bokeh/release/bokeh-widgets-0.11.0.min.css\");\n",
       "          }\n",
       "        ];\n",
       "      \n",
       "        function run_inline_js() {\n",
       "          for (var i = 0; i < inline_js.length; i++) {\n",
       "            inline_js[i](window.Bokeh);\n",
       "          }\n",
       "        }\n",
       "      \n",
       "        if (window._bokeh_is_loading === 0) {\n",
       "          console.log(\"Bokeh: BokehJS loaded, going straight to plotting\");\n",
       "          run_inline_js();\n",
       "        } else {\n",
       "          load_libs(js_urls, function() {\n",
       "            console.log(\"Bokeh: BokehJS plotting callback run at\", now());\n",
       "            run_inline_js();\n",
       "          });\n",
       "        }\n",
       "      }(this));\n",
       "    </script>\n",
       "    <div>\n",
       "        <a href=\"http://bokeh.pydata.org\" target=\"_blank\" class=\"bk-logo bk-logo-small bk-logo-notebook\"></a>\n",
       "        <span>BokehJS successfully loaded.</span>\n",
       "    </div>"
      ]
     },
     "metadata": {},
     "output_type": "display_data"
    }
   ],
   "source": [
    "output_notebook()"
   ]
  },
  {
   "cell_type": "markdown",
   "metadata": {},
   "source": [
    "## Setting up Data"
   ]
  },
  {
   "cell_type": "code",
   "execution_count": 4,
   "metadata": {
    "collapsed": true
   },
   "outputs": [],
   "source": [
    "abbrev_to_country = {\n",
    "    \"USA\": \"United States\",\n",
    "    \"GBR\": \"Britain\",\n",
    "    \"JAM\": \"Jamaica\",\n",
    "    \"CAN\": \"Canada\",\n",
    "    \"TRI\": \"Trinidad and Tobago\",\n",
    "    \"AUS\": \"Australia\",\n",
    "    \"GER\": \"Germany\",\n",
    "    \"CUB\": \"Cuba\",\n",
    "    \"NAM\": \"Namibia\",\n",
    "    \"URS\": \"Soviet Union\",\n",
    "    \"BAR\": \"Barbados\",\n",
    "    \"BUL\": \"Bulgaria\",\n",
    "    \"HUN\": \"Hungary\",\n",
    "    \"NED\": \"Netherlands\",\n",
    "    \"NZL\": \"New Zealand\",\n",
    "    \"PAN\": \"Panama\",\n",
    "    \"POR\": \"Portugal\",\n",
    "    \"RSA\": \"South Africa\",\n",
    "    \"EUA\": \"United Team of Germany\",\n",
    "}\n",
    "\n",
    "gold_fill   = \"#efcf6d\"\n",
    "gold_line   = \"#c8a850\"\n",
    "silver_fill = \"#cccccc\"\n",
    "silver_line = \"#b0b0b1\"\n",
    "bronze_fill = \"#c59e8a\"\n",
    "bronze_line = \"#98715d\"\n",
    "\n",
    "fill_color = { \"gold\": gold_fill, \"silver\": silver_fill, \"bronze\": bronze_fill }\n",
    "line_color = { \"gold\": gold_line, \"silver\": silver_line, \"bronze\": bronze_line }\n",
    "\n",
    "def selected_name(name, medal, year):\n",
    "    return name if medal == \"gold\" and year in [1988, 1968, 1936, 1896] else None\n",
    "\n",
    "t0 = sprint.Time[0]\n",
    "\n",
    "sprint[\"Abbrev\"]       = sprint.Country\n",
    "sprint[\"Country\"]      = sprint.Abbrev.map(lambda abbr: abbrev_to_country[abbr])\n",
    "sprint[\"Medal\"]        = sprint.Medal.map(lambda medal: medal.lower())\n",
    "sprint[\"Speed\"]        = 100.0/sprint.Time\n",
    "sprint[\"MetersBack\"]   = 100.0*(1.0 - t0/sprint.Time)\n",
    "sprint[\"MedalFill\"]    = sprint.Medal.map(lambda medal: fill_color[medal])\n",
    "sprint[\"MedalLine\"]    = sprint.Medal.map(lambda medal: line_color[medal])\n",
    "sprint[\"SelectedName\"] = sprint[[\"Name\", \"Medal\", \"Year\"]].apply(tuple, axis=1).map(lambda args: selected_name(*args))\n",
    "\n",
    "source = ColumnDataSource(sprint)"
   ]
  },
  {
   "cell_type": "markdown",
   "metadata": {},
   "source": [
    "## Basic Plot with Glyphs"
   ]
  },
  {
   "cell_type": "code",
   "execution_count": 5,
   "metadata": {
    "collapsed": false
   },
   "outputs": [],
   "source": [
    "plot_options = dict(plot_width=800, plot_height=480, toolbar_location=None, \n",
    "                    outline_line_color=None, title = \"Usain Bolt vs. 116 years of Olympic sprinters\")"
   ]
  },
  {
   "cell_type": "code",
   "execution_count": 6,
   "metadata": {
    "collapsed": false
   },
   "outputs": [],
   "source": [
    "radius = dict(value=5, units=\"screen\")\n",
    "medal_glyph = Circle(x=\"MetersBack\", y=\"Year\", radius=radius, fill_color=\"MedalFill\", \n",
    "                     line_color=\"MedalLine\", fill_alpha=0.5)\n",
    "\n",
    "athlete_glyph = Text(x=\"MetersBack\", y=\"Year\", x_offset=10, text=\"SelectedName\",\n",
    "    text_align=\"left\", text_baseline=\"middle\", text_font_size=\"9pt\")\n",
    "\n",
    "no_olympics_glyph = Text(x=7.5, y=1942, text=[\"No Olympics in 1940 or 1944\"],\n",
    "    text_align=\"center\", text_baseline=\"middle\",\n",
    "    text_font_size=\"9pt\", text_font_style=\"italic\", text_color=\"silver\")\n"
   ]
  },
  {
   "cell_type": "code",
   "execution_count": 8,
   "metadata": {
    "collapsed": false
   },
   "outputs": [
    {
     "data": {
      "text/plain": [
       "<bokeh.models.renderers.GlyphRenderer at 0x7ff505c28390>"
      ]
     },
     "execution_count": 8,
     "metadata": {},
     "output_type": "execute_result"
    }
   ],
   "source": [
    "xdr = Range1d(start=sprint.MetersBack.max()+2, end=0)  # +2 is for padding\n",
    "ydr = DataRange1d(range_padding=0.05)  \n",
    "\n",
    "plot = Plot(x_range=xdr, y_range=ydr, **plot_options)\n",
    "plot.add_glyph(source, medal_glyph)\n",
    "plot.add_glyph(source, athlete_glyph)\n",
    "plot.add_glyph(no_olympics_glyph)"
   ]
  },
  {
   "cell_type": "code",
   "execution_count": 9,
   "metadata": {
    "collapsed": false
   },
   "outputs": [
    {
     "data": {
      "text/html": [
       "\n",
       "\n",
       "    <div class=\"plotdiv\" id=\"20e3a3d4-38a3-48b5-8971-e28aca868520\"></div>\n",
       "<script type=\"text/javascript\">\n",
       "  \n",
       "  (function(global) {\n",
       "    function now() {\n",
       "      return new Date();\n",
       "    }\n",
       "  \n",
       "    if (typeof (window._bokeh_onload_callbacks) === \"undefined\") {\n",
       "      window._bokeh_onload_callbacks = [];\n",
       "    }\n",
       "  \n",
       "    function run_callbacks() {\n",
       "      window._bokeh_onload_callbacks.forEach(function(callback) { callback() });\n",
       "      delete window._bokeh_onload_callbacks\n",
       "      console.info(\"Bokeh: all callbacks have finished\");\n",
       "    }\n",
       "  \n",
       "    function load_libs(js_urls, callback) {\n",
       "      window._bokeh_onload_callbacks.push(callback);\n",
       "      if (window._bokeh_is_loading > 0) {\n",
       "        console.log(\"Bokeh: BokehJS is being loaded, scheduling callback at\", now());\n",
       "        return null;\n",
       "      }\n",
       "      if (js_urls == null || js_urls.length === 0) {\n",
       "        run_callbacks();\n",
       "        return null;\n",
       "      }\n",
       "      console.log(\"Bokeh: BokehJS not loaded, scheduling load and callback at\", now());\n",
       "      window._bokeh_is_loading = js_urls.length;\n",
       "      for (var i = 0; i < js_urls.length; i++) {\n",
       "        var url = js_urls[i];\n",
       "        var s = document.createElement('script');\n",
       "        s.src = url;\n",
       "        s.async = false;\n",
       "        s.onreadystatechange = s.onload = function() {\n",
       "          window._bokeh_is_loading--;\n",
       "          if (window._bokeh_is_loading === 0) {\n",
       "            console.log(\"Bokeh: all BokehJS libraries loaded\");\n",
       "            run_callbacks()\n",
       "          }\n",
       "        };\n",
       "        s.onerror = function() {\n",
       "          console.warn(\"failed to load library \" + url);\n",
       "        };\n",
       "        console.log(\"Bokeh: injecting script tag for BokehJS library: \", url);\n",
       "        document.getElementsByTagName(\"head\")[0].appendChild(s);\n",
       "      }\n",
       "    };var element = document.getElementById(\"20e3a3d4-38a3-48b5-8971-e28aca868520\");\n",
       "    if (element == null) {\n",
       "      console.log(\"Bokeh: ERROR: autoload.js configured with elementid '20e3a3d4-38a3-48b5-8971-e28aca868520' but no matching script tag was found. \")\n",
       "      return false;\n",
       "    }var js_urls = [];\n",
       "  \n",
       "    var inline_js = [\n",
       "      function(Bokeh) {\n",
       "        Bokeh.$(function() {\n",
       "            var docs_json = {\"2f73e64e-5537-42a0-8087-60fa9277cbe0\": {\"version\": \"0.11.0\", \"roots\": {\"root_ids\": [\"8b057d9b-2a73-4d6c-87d4-2a6d650e6f1a\"], \"references\": [{\"attributes\": {}, \"type\": \"ToolEvents\", \"id\": \"18ac0b6e-674a-4b13-ab9b-8ff69ba65b4b\"}, {\"attributes\": {\"callback\": null, \"end\": 0, \"start\": 25.571428571428566}, \"type\": \"Range1d\", \"id\": \"83bc3031-35cb-40f7-b17c-9b4c89173376\"}, {\"attributes\": {\"x_range\": {\"type\": \"Range1d\", \"id\": \"83bc3031-35cb-40f7-b17c-9b4c89173376\"}, \"title\": \"Usain Bolt vs. 116 years of Olympic sprinters\", \"toolbar_location\": null, \"outline_line_color\": {\"value\": null}, \"plot_width\": 800, \"renderers\": [{\"type\": \"GlyphRenderer\", \"id\": \"bf2433d3-e5ab-4f89-87e4-755ffa67ced9\"}, {\"type\": \"GlyphRenderer\", \"id\": \"4fa0135d-64ec-429a-b2fd-b524c20f459a\"}, {\"type\": \"GlyphRenderer\", \"id\": \"898a4b21-e23c-435c-9d98-f623c5aac870\"}], \"plot_height\": 480, \"tool_events\": {\"type\": \"ToolEvents\", \"id\": \"18ac0b6e-674a-4b13-ab9b-8ff69ba65b4b\"}, \"y_range\": {\"type\": \"DataRange1d\", \"id\": \"ff6435f1-4561-48d9-ad3e-5bec459ea6e3\"}}, \"type\": \"Plot\", \"id\": \"8b057d9b-2a73-4d6c-87d4-2a6d650e6f1a\"}, {\"attributes\": {\"line_color\": {\"field\": \"MedalLine\"}, \"fill_color\": {\"field\": \"MedalFill\"}, \"fill_alpha\": {\"value\": 0.5}, \"radius\": {\"units\": \"screen\", \"value\": 5}, \"y\": {\"field\": \"Year\"}, \"x\": {\"field\": \"MetersBack\"}}, \"type\": \"Circle\", \"id\": \"9ced6f76-f84e-4151-99d8-d46add7f90b2\"}, {\"attributes\": {\"nonselection_glyph\": null, \"data_source\": {\"type\": \"ColumnDataSource\", \"id\": \"3b5dbb90-e3a7-477e-a49d-df5d6f53d62a\"}, \"selection_glyph\": null, \"hover_glyph\": null, \"glyph\": {\"type\": \"Text\", \"id\": \"506e78d7-8287-4080-a8b5-395b94b9b3fe\"}}, \"type\": \"GlyphRenderer\", \"id\": \"898a4b21-e23c-435c-9d98-f623c5aac870\"}, {\"attributes\": {\"nonselection_glyph\": null, \"data_source\": {\"type\": \"ColumnDataSource\", \"id\": \"afd6bdfb-3052-4244-8b00-cf91997d343f\"}, \"selection_glyph\": null, \"hover_glyph\": null, \"glyph\": {\"type\": \"Circle\", \"id\": \"9ced6f76-f84e-4151-99d8-d46add7f90b2\"}}, \"type\": \"GlyphRenderer\", \"id\": \"bf2433d3-e5ab-4f89-87e4-755ffa67ced9\"}, {\"attributes\": {\"range_padding\": 0.05, \"callback\": null}, \"type\": \"DataRange1d\", \"id\": \"ff6435f1-4561-48d9-ad3e-5bec459ea6e3\"}, {\"attributes\": {\"text\": {\"value\": \"No Olympics in 1940 or 1944\"}, \"text_font_size\": {\"value\": \"9pt\"}, \"text_align\": \"center\", \"text_color\": {\"value\": \"silver\"}, \"y\": {\"value\": 1942}, \"text_baseline\": \"middle\", \"x\": {\"value\": 7.5}, \"text_font_style\": \"italic\"}, \"type\": \"Text\", \"id\": \"506e78d7-8287-4080-a8b5-395b94b9b3fe\"}, {\"attributes\": {\"nonselection_glyph\": null, \"data_source\": {\"type\": \"ColumnDataSource\", \"id\": \"afd6bdfb-3052-4244-8b00-cf91997d343f\"}, \"selection_glyph\": null, \"hover_glyph\": null, \"glyph\": {\"type\": \"Text\", \"id\": \"ede595c3-3dfc-470b-bff7-da1244f6ecbf\"}}, \"type\": \"GlyphRenderer\", \"id\": \"4fa0135d-64ec-429a-b2fd-b524c20f459a\"}, {\"attributes\": {\"text\": {\"field\": \"SelectedName\"}, \"text_font_size\": {\"value\": \"9pt\"}, \"y\": {\"field\": \"Year\"}, \"x_offset\": {\"value\": 10}, \"text_baseline\": \"middle\", \"x\": {\"field\": \"MetersBack\"}}, \"type\": \"Text\", \"id\": \"ede595c3-3dfc-470b-bff7-da1244f6ecbf\"}, {\"attributes\": {\"callback\": null}, \"type\": \"ColumnDataSource\", \"id\": \"3b5dbb90-e3a7-477e-a49d-df5d6f53d62a\"}, {\"attributes\": {\"callback\": null, \"column_names\": [\"index\", \"MedalFill\", \"Name\", \"MedalLine\", \"Country\", \"Time\", \"Speed\", \"Abbrev\", \"Year\", \"SelectedName\", \"Medal\", \"MetersBack\"], \"data\": {\"index\": [0, 1, 2, 3, 4, 5, 6, 7, 8, 9, 10, 11, 12, 13, 14, 15, 16, 17, 18, 19, 20, 21, 22, 23, 24, 25, 26, 27, 28, 29, 30, 31, 32, 33, 34, 35, 36, 37, 38, 39, 40, 41, 42, 43, 44, 45, 46, 47, 48, 49, 50, 51, 52, 53, 54, 55, 56, 57, 58, 59, 60, 61, 62, 63, 64, 65, 66, 67, 68, 69, 70, 71, 72, 73, 74, 75, 76, 77, 78, 79, 80, 81, 82, 83, 84], \"MedalLine\": [\"#c8a850\", \"#b0b0b1\", \"#98715d\", \"#c8a850\", \"#b0b0b1\", \"#98715d\", \"#c8a850\", \"#b0b0b1\", \"#98715d\", \"#c8a850\", \"#b0b0b1\", \"#98715d\", \"#c8a850\", \"#b0b0b1\", \"#98715d\", \"#c8a850\", \"#b0b0b1\", \"#98715d\", \"#c8a850\", \"#b0b0b1\", \"#98715d\", \"#c8a850\", \"#b0b0b1\", \"#98715d\", \"#c8a850\", \"#b0b0b1\", \"#98715d\", \"#c8a850\", \"#b0b0b1\", \"#98715d\", \"#c8a850\", \"#b0b0b1\", \"#98715d\", \"#c8a850\", \"#b0b0b1\", \"#98715d\", \"#c8a850\", \"#b0b0b1\", \"#98715d\", \"#c8a850\", \"#b0b0b1\", \"#98715d\", \"#c8a850\", \"#b0b0b1\", \"#98715d\", \"#c8a850\", \"#b0b0b1\", \"#98715d\", \"#c8a850\", \"#b0b0b1\", \"#98715d\", \"#c8a850\", \"#b0b0b1\", \"#98715d\", \"#c8a850\", \"#b0b0b1\", \"#98715d\", \"#c8a850\", \"#b0b0b1\", \"#98715d\", \"#c8a850\", \"#b0b0b1\", \"#98715d\", \"#c8a850\", \"#b0b0b1\", \"#98715d\", \"#c8a850\", \"#b0b0b1\", \"#98715d\", \"#c8a850\", \"#b0b0b1\", \"#98715d\", \"#c8a850\", \"#b0b0b1\", \"#98715d\", \"#c8a850\", \"#b0b0b1\", \"#98715d\", \"#c8a850\", \"#b0b0b1\", \"#98715d\", \"#c8a850\", \"#b0b0b1\", \"#98715d\", \"#98715d\"], \"Name\": [\"Usain Bolt\", \"Yohan Blake\", \"Justin Gatlin\", \"Usain Bolt\", \"Richard Thompson\", \"Walter Dix\", \"Justin Gatlin\", \"Francis Obikwelu\", \"Maurice Greene\", \"Maurice Greene\", \"Ato Boldon\", \"Obadele Thompson\", \"Donovan Bailey\", \"Frankie Fredericks\", \"Ato Boldon\", \"Linford Christie\", \"Frankie Fredericks\", \"Dennis Mitchell\", \"Carl Lewis\", \"Linford Christie\", \"Calvin Smith\", \"Carl Lewis\", \"Sam Graddy\", \"Ben Johnson\", \"Allan Wells\", \"Silvio Leonard Tartabull\", \"Petar Petrov\", \"Hasely Crawford\", \"Donald Quarrie\", \"Valery Borzov\", \"Valery Borzov\", \"Robert Taylor\", \"Lennox Miller\", \"Jim Hines\", \"Lennox Miller\", \"Charles Greene\", \"Bob Hayes\", \"Enrique Figuerola Camue\", \"Harry Jerome\", \"Armin Hary\", \"David Sime\", \"Peter Radford\", \"Bobby Joe Morrow\", \"W. Thane Baker\", \"Hector Hogan\", \"Lindy Remigino\", \"Herbert McKenley\", \"E. McDonald Bailey\", \"W. Harrison Dillard\", \"H. Norwood \\\"Barney\\\" Ewell\", \"Lloyd LaBeach\", \"Jesse Owens\", \"Ralph Metcalfe\", \"Martinus Osendarp\", \"T. \\\"Eddie\\\" Tolan\", \"Ralph Metcalfe\", \"Arthur Jonath\", \"Percy Williams\", \"John \\\"Jack\\\" London\", \"Georg Lammers\", \"Harold Abrahams\", \"Jackson Scholz\", \"Arthur Porritt\", \"Charles Paddock\", \"Morris Kirksey\", \"Harry Edward\", \"Ralph Craig\", \"Alvah Meyer\", \"Donald Lippincott\", \"Reginald Walker\", \"James Rector\", \"Robert Kerr\", \"Charles \\\"Archie\\\" Hahn\", \"Fay Moulton\", \"Nigel Barker\", \"Charles \\\"Archie\\\" Hahn\", \"Nathaniel Cartmell\", \"Bill Hogenson\", \"Frank Jarvis\", \"J. Walter Tewksbury\", \"Stanley Rowley\", \"Thomas Burke\", \"Fritz Hofmann\", \"Alojz Sokol\", \"Francis Lane\"], \"Year\": [2012, 2012, 2012, 2008, 2008, 2008, 2004, 2004, 2004, 2000, 2000, 2000, 1996, 1996, 1996, 1992, 1992, 1992, 1988, 1988, 1988, 1984, 1984, 1984, 1980, 1980, 1980, 1976, 1976, 1976, 1972, 1972, 1972, 1968, 1968, 1968, 1964, 1964, 1964, 1960, 1960, 1960, 1956, 1956, 1956, 1952, 1952, 1952, 1948, 1948, 1948, 1936, 1936, 1936, 1932, 1932, 1932, 1928, 1928, 1928, 1924, 1924, 1924, 1920, 1920, 1920, 1912, 1912, 1912, 1908, 1908, 1908, 1906, 1906, 1906, 1904, 1904, 1904, 1900, 1900, 1900, 1896, 1896, 1896, 1896], \"Country\": [\"Jamaica\", \"Jamaica\", \"United States\", \"Jamaica\", \"Trinidad and Tobago\", \"United States\", \"United States\", \"Portugal\", \"United States\", \"United States\", \"Trinidad and Tobago\", \"Barbados\", \"Canada\", \"Namibia\", \"Trinidad and Tobago\", \"Britain\", \"Namibia\", \"United States\", \"United States\", \"Britain\", \"United States\", \"United States\", \"United States\", \"Canada\", \"Britain\", \"Cuba\", \"Bulgaria\", \"Trinidad and Tobago\", \"Jamaica\", \"Soviet Union\", \"Soviet Union\", \"United States\", \"Jamaica\", \"United States\", \"Jamaica\", \"United States\", \"United States\", \"Cuba\", \"Canada\", \"United Team of Germany\", \"United States\", \"Britain\", \"United States\", \"United States\", \"Australia\", \"United States\", \"Jamaica\", \"Britain\", \"United States\", \"United States\", \"Panama\", \"United States\", \"United States\", \"Netherlands\", \"United States\", \"United States\", \"Germany\", \"Canada\", \"Britain\", \"Germany\", \"Britain\", \"United States\", \"New Zealand\", \"United States\", \"United States\", \"Britain\", \"United States\", \"United States\", \"United States\", \"South Africa\", \"United States\", \"Canada\", \"United States\", \"United States\", \"Australia\", \"United States\", \"United States\", \"United States\", \"United States\", \"United States\", \"Australia\", \"United States\", \"Germany\", \"Hungary\", \"United States\"], \"Time\": [9.63, 9.75, 9.79, 9.69, 9.89, 9.91, 9.85, 9.86, 9.87, 9.87, 9.99, 10.04, 9.84, 9.89, 9.9, 9.96, 10.02, 10.04, 9.92, 9.97, 9.99, 9.99, 10.19, 10.22, 10.25, 10.25, 10.39, 10.06, 10.08, 10.14, 10.14, 10.24, 10.33, 9.95, 10.04, 10.07, 10.0, 10.2, 10.2, 10.2, 10.2, 10.3, 10.5, 10.5, 10.6, 10.4, 10.4, 10.4, 10.3, 10.4, 10.4, 10.3, 10.4, 10.5, 10.3, 10.3, 10.4, 10.8, 10.9, 10.9, 10.6, 10.8, 10.9, 10.8, 10.9, 10.9, 10.8, 10.9, 10.9, 10.8, 11.0, 11.0, 11.2, 11.3, 11.3, 11.0, 11.2, 11.2, 11.0, 11.1, 11.2, 12.0, 12.2, 12.6, 12.6], \"Speed\": [10.384215991692626, 10.256410256410257, 10.21450459652707, 10.319917440660475, 10.111223458038422, 10.090817356205852, 10.152284263959391, 10.141987829614605, 10.131712259371835, 10.131712259371835, 10.01001001001001, 9.9601593625498, 10.16260162601626, 10.111223458038422, 10.1010101010101, 10.04016064257028, 9.980039920159681, 9.9601593625498, 10.080645161290322, 10.030090270812437, 10.01001001001001, 10.01001001001001, 9.813542688910697, 9.784735812133071, 9.75609756097561, 9.75609756097561, 9.624639076034649, 9.940357852882704, 9.920634920634921, 9.861932938856015, 9.861932938856015, 9.765625, 9.68054211035818, 10.050251256281408, 9.9601593625498, 9.930486593843098, 10.0, 9.803921568627452, 9.803921568627452, 9.803921568627452, 9.803921568627452, 9.70873786407767, 9.523809523809524, 9.523809523809524, 9.433962264150944, 9.615384615384615, 9.615384615384615, 9.615384615384615, 9.70873786407767, 9.615384615384615, 9.615384615384615, 9.70873786407767, 9.615384615384615, 9.523809523809524, 9.70873786407767, 9.70873786407767, 9.615384615384615, 9.25925925925926, 9.174311926605505, 9.174311926605505, 9.433962264150944, 9.25925925925926, 9.174311926605505, 9.25925925925926, 9.174311926605505, 9.174311926605505, 9.25925925925926, 9.174311926605505, 9.174311926605505, 9.25925925925926, 9.090909090909092, 9.090909090909092, 8.928571428571429, 8.849557522123893, 8.849557522123893, 9.090909090909092, 8.928571428571429, 8.928571428571429, 9.090909090909092, 9.00900900900901, 8.928571428571429, 8.333333333333334, 8.196721311475411, 7.936507936507937, 7.936507936507937], \"Abbrev\": [\"JAM\", \"JAM\", \"USA\", \"JAM\", \"TRI\", \"USA\", \"USA\", \"POR\", \"USA\", \"USA\", \"TRI\", \"BAR\", \"CAN\", \"NAM\", \"TRI\", \"GBR\", \"NAM\", \"USA\", \"USA\", \"GBR\", \"USA\", \"USA\", \"USA\", \"CAN\", \"GBR\", \"CUB\", \"BUL\", \"TRI\", \"JAM\", \"URS\", \"URS\", \"USA\", \"JAM\", \"USA\", \"JAM\", \"USA\", \"USA\", \"CUB\", \"CAN\", \"EUA\", \"USA\", \"GBR\", \"USA\", \"USA\", \"AUS\", \"USA\", \"JAM\", \"GBR\", \"USA\", \"USA\", \"PAN\", \"USA\", \"USA\", \"NED\", \"USA\", \"USA\", \"GER\", \"CAN\", \"GBR\", \"GER\", \"GBR\", \"USA\", \"NZL\", \"USA\", \"USA\", \"GBR\", \"USA\", \"USA\", \"USA\", \"RSA\", \"USA\", \"CAN\", \"USA\", \"USA\", \"AUS\", \"USA\", \"USA\", \"USA\", \"USA\", \"USA\", \"AUS\", \"USA\", \"GER\", \"HUN\", \"USA\"], \"MedalFill\": [\"#efcf6d\", \"#cccccc\", \"#c59e8a\", \"#efcf6d\", \"#cccccc\", \"#c59e8a\", \"#efcf6d\", \"#cccccc\", \"#c59e8a\", \"#efcf6d\", \"#cccccc\", \"#c59e8a\", \"#efcf6d\", \"#cccccc\", \"#c59e8a\", \"#efcf6d\", \"#cccccc\", \"#c59e8a\", \"#efcf6d\", \"#cccccc\", \"#c59e8a\", \"#efcf6d\", \"#cccccc\", \"#c59e8a\", \"#efcf6d\", \"#cccccc\", \"#c59e8a\", \"#efcf6d\", \"#cccccc\", \"#c59e8a\", \"#efcf6d\", \"#cccccc\", \"#c59e8a\", \"#efcf6d\", \"#cccccc\", \"#c59e8a\", \"#efcf6d\", \"#cccccc\", \"#c59e8a\", \"#efcf6d\", \"#cccccc\", \"#c59e8a\", \"#efcf6d\", \"#cccccc\", \"#c59e8a\", \"#efcf6d\", \"#cccccc\", \"#c59e8a\", \"#efcf6d\", \"#cccccc\", \"#c59e8a\", \"#efcf6d\", \"#cccccc\", \"#c59e8a\", \"#efcf6d\", \"#cccccc\", \"#c59e8a\", \"#efcf6d\", \"#cccccc\", \"#c59e8a\", \"#efcf6d\", \"#cccccc\", \"#c59e8a\", \"#efcf6d\", \"#cccccc\", \"#c59e8a\", \"#efcf6d\", \"#cccccc\", \"#c59e8a\", \"#efcf6d\", \"#cccccc\", \"#c59e8a\", \"#efcf6d\", \"#cccccc\", \"#c59e8a\", \"#efcf6d\", \"#cccccc\", \"#c59e8a\", \"#efcf6d\", \"#cccccc\", \"#c59e8a\", \"#efcf6d\", \"#cccccc\", \"#c59e8a\", \"#c59e8a\"], \"SelectedName\": [null, null, null, null, null, null, null, null, null, null, null, null, null, null, null, null, null, null, \"Carl Lewis\", null, null, null, null, null, null, null, null, null, null, null, null, null, null, \"Jim Hines\", null, null, null, null, null, null, null, null, null, null, null, null, null, null, null, null, null, \"Jesse Owens\", null, null, null, null, null, null, null, null, null, null, null, null, null, null, null, null, null, null, null, null, null, null, null, null, null, null, null, null, null, \"Thomas Burke\", null, null, null], \"Medal\": [\"gold\", \"silver\", \"bronze\", \"gold\", \"silver\", \"bronze\", \"gold\", \"silver\", \"bronze\", \"gold\", \"silver\", \"bronze\", \"gold\", \"silver\", \"bronze\", \"gold\", \"silver\", \"bronze\", \"gold\", \"silver\", \"bronze\", \"gold\", \"silver\", \"bronze\", \"gold\", \"silver\", \"bronze\", \"gold\", \"silver\", \"bronze\", \"gold\", \"silver\", \"bronze\", \"gold\", \"silver\", \"bronze\", \"gold\", \"silver\", \"bronze\", \"gold\", \"silver\", \"bronze\", \"gold\", \"silver\", \"bronze\", \"gold\", \"silver\", \"bronze\", \"gold\", \"silver\", \"bronze\", \"gold\", \"silver\", \"bronze\", \"gold\", \"silver\", \"bronze\", \"gold\", \"silver\", \"bronze\", \"gold\", \"silver\", \"bronze\", \"gold\", \"silver\", \"bronze\", \"gold\", \"silver\", \"bronze\", \"gold\", \"silver\", \"bronze\", \"gold\", \"silver\", \"bronze\", \"gold\", \"silver\", \"bronze\", \"gold\", \"silver\", \"bronze\", \"gold\", \"silver\", \"bronze\", \"bronze\"], \"MetersBack\": [0.0, 1.2307692307692242, 1.6343207354443168, 0.6191950464396134, 2.628918099089983, 2.825428859737633, 2.2335025380710527, 2.33265720081135, 2.4316109422492294, 2.4316109422492294, 3.6036036036036, 4.083665338645403, 2.1341463414634054, 2.628918099089983, 2.7272727272727226, 3.3132530120481896, 3.8922155688622673, 4.083665338645403, 2.923387096774188, 3.4102306920762215, 3.6036036036036, 3.6036036036036, 5.49558390578998, 5.772994129158516, 6.048780487804873, 6.048780487804873, 7.314725697786328, 4.274353876739556, 4.46428571428571, 5.02958579881656, 5.02958579881656, 5.957031249999989, 6.776379477250716, 3.2160804020100353, 4.083665338645403, 4.369414101290959, 3.699999999999992, 5.588235294117638, 5.588235294117638, 5.588235294117638, 5.588235294117638, 6.504854368932033, 8.285714285714274, 8.285714285714274, 9.150943396226408, 7.40384615384615, 7.40384615384615, 7.40384615384615, 6.504854368932033, 7.40384615384615, 7.40384615384615, 6.504854368932033, 7.40384615384615, 8.285714285714274, 6.504854368932033, 6.504854368932033, 7.40384615384615, 10.833333333333329, 11.651376146788984, 11.651376146788984, 9.150943396226408, 10.833333333333329, 11.651376146788984, 10.833333333333329, 11.651376146788984, 11.651376146788984, 10.833333333333329, 11.651376146788984, 11.651376146788984, 10.833333333333329, 12.454545454545451, 12.454545454545451, 14.017857142857126, 14.778761061946899, 14.778761061946899, 12.454545454545451, 14.017857142857126, 14.017857142857126, 12.454545454545451, 13.24324324324323, 14.017857142857126, 19.74999999999999, 21.065573770491795, 23.571428571428566, 23.571428571428566]}}, \"type\": \"ColumnDataSource\", \"id\": \"afd6bdfb-3052-4244-8b00-cf91997d343f\"}]}, \"title\": \"Bokeh Application\"}};\n",
       "            var render_items = [{\"notebook_comms_target\": \"c21e48a9-7ad5-4408-b6c1-7a5fa52a6322\", \"docid\": \"2f73e64e-5537-42a0-8087-60fa9277cbe0\", \"elementid\": \"20e3a3d4-38a3-48b5-8971-e28aca868520\", \"modelid\": \"8b057d9b-2a73-4d6c-87d4-2a6d650e6f1a\"}];\n",
       "            \n",
       "            Bokeh.embed.embed_items(docs_json, render_items);\n",
       "        });\n",
       "      },\n",
       "      function(Bokeh) {\n",
       "      }\n",
       "    ];\n",
       "  \n",
       "    function run_inline_js() {\n",
       "      for (var i = 0; i < inline_js.length; i++) {\n",
       "        inline_js[i](window.Bokeh);\n",
       "      }\n",
       "    }\n",
       "  \n",
       "    if (window._bokeh_is_loading === 0) {\n",
       "      console.log(\"Bokeh: BokehJS loaded, going straight to plotting\");\n",
       "      run_inline_js();\n",
       "    } else {\n",
       "      load_libs(js_urls, function() {\n",
       "        console.log(\"Bokeh: BokehJS plotting callback run at\", now());\n",
       "        run_inline_js();\n",
       "      });\n",
       "    }\n",
       "  }(this));\n",
       "</script>"
      ]
     },
     "metadata": {},
     "output_type": "display_data"
    },
    {
     "data": {
      "text/plain": [
       "<bokeh.io._CommsHandle at 0x7ff52ee16410>"
      ]
     },
     "execution_count": 9,
     "metadata": {},
     "output_type": "execute_result"
    }
   ],
   "source": [
    "show(plot)"
   ]
  },
  {
   "cell_type": "markdown",
   "metadata": {},
   "source": [
    "## Adding Axes and Grids"
   ]
  },
  {
   "cell_type": "code",
   "execution_count": 10,
   "metadata": {
    "collapsed": false
   },
   "outputs": [],
   "source": [
    "from bokeh.models import Grid, LinearAxis, SingleIntervalTicker"
   ]
  },
  {
   "cell_type": "code",
   "execution_count": 11,
   "metadata": {
    "collapsed": false
   },
   "outputs": [
    {
     "data": {
      "text/plain": [
       "<bokeh.models.renderers.GlyphRenderer at 0x7ff505c293d0>"
      ]
     },
     "execution_count": 11,
     "metadata": {},
     "output_type": "execute_result"
    }
   ],
   "source": [
    "xdr = Range1d(start=sprint.MetersBack.max()+2, end=0)  # +2 is for padding\n",
    "ydr = DataRange1d(range_padding=0.05)  \n",
    "\n",
    "plot = Plot(x_range=xdr, y_range=ydr, **plot_options)\n",
    "plot.add_glyph(source, medal_glyph)\n",
    "plot.add_glyph(source, athlete_glyph)\n",
    "plot.add_glyph(no_olympics_glyph)"
   ]
  },
  {
   "cell_type": "code",
   "execution_count": 12,
   "metadata": {
    "collapsed": true
   },
   "outputs": [],
   "source": [
    "xticker = SingleIntervalTicker(interval=5, num_minor_ticks=0)\n",
    "xaxis = LinearAxis(ticker=xticker, axis_line_color=None, major_tick_line_color=None,\n",
    "                   axis_label=\"Meters behind 2012 Bolt\", axis_label_text_font_size=\"10pt\", \n",
    "                   axis_label_text_font_style=\"bold\")\n",
    "plot.add_layout(xaxis, \"below\")\n",
    "\n",
    "xgrid = Grid(dimension=0, ticker=xaxis.ticker, grid_line_dash=\"dashed\")\n",
    "plot.add_layout(xgrid)\n",
    "\n",
    "yticker = SingleIntervalTicker(interval=12, num_minor_ticks=0)\n",
    "yaxis = LinearAxis(ticker=yticker, major_tick_in=-5, major_tick_out=10)\n",
    "plot.add_layout(yaxis, \"right\")"
   ]
  },
  {
   "cell_type": "code",
   "execution_count": 13,
   "metadata": {
    "collapsed": false
   },
   "outputs": [
    {
     "data": {
      "text/html": [
       "\n",
       "\n",
       "    <div class=\"plotdiv\" id=\"7ebfbabf-3e43-4896-9f8b-979fc179880e\"></div>\n",
       "<script type=\"text/javascript\">\n",
       "  \n",
       "  (function(global) {\n",
       "    function now() {\n",
       "      return new Date();\n",
       "    }\n",
       "  \n",
       "    if (typeof (window._bokeh_onload_callbacks) === \"undefined\") {\n",
       "      window._bokeh_onload_callbacks = [];\n",
       "    }\n",
       "  \n",
       "    function run_callbacks() {\n",
       "      window._bokeh_onload_callbacks.forEach(function(callback) { callback() });\n",
       "      delete window._bokeh_onload_callbacks\n",
       "      console.info(\"Bokeh: all callbacks have finished\");\n",
       "    }\n",
       "  \n",
       "    function load_libs(js_urls, callback) {\n",
       "      window._bokeh_onload_callbacks.push(callback);\n",
       "      if (window._bokeh_is_loading > 0) {\n",
       "        console.log(\"Bokeh: BokehJS is being loaded, scheduling callback at\", now());\n",
       "        return null;\n",
       "      }\n",
       "      if (js_urls == null || js_urls.length === 0) {\n",
       "        run_callbacks();\n",
       "        return null;\n",
       "      }\n",
       "      console.log(\"Bokeh: BokehJS not loaded, scheduling load and callback at\", now());\n",
       "      window._bokeh_is_loading = js_urls.length;\n",
       "      for (var i = 0; i < js_urls.length; i++) {\n",
       "        var url = js_urls[i];\n",
       "        var s = document.createElement('script');\n",
       "        s.src = url;\n",
       "        s.async = false;\n",
       "        s.onreadystatechange = s.onload = function() {\n",
       "          window._bokeh_is_loading--;\n",
       "          if (window._bokeh_is_loading === 0) {\n",
       "            console.log(\"Bokeh: all BokehJS libraries loaded\");\n",
       "            run_callbacks()\n",
       "          }\n",
       "        };\n",
       "        s.onerror = function() {\n",
       "          console.warn(\"failed to load library \" + url);\n",
       "        };\n",
       "        console.log(\"Bokeh: injecting script tag for BokehJS library: \", url);\n",
       "        document.getElementsByTagName(\"head\")[0].appendChild(s);\n",
       "      }\n",
       "    };var element = document.getElementById(\"7ebfbabf-3e43-4896-9f8b-979fc179880e\");\n",
       "    if (element == null) {\n",
       "      console.log(\"Bokeh: ERROR: autoload.js configured with elementid '7ebfbabf-3e43-4896-9f8b-979fc179880e' but no matching script tag was found. \")\n",
       "      return false;\n",
       "    }var js_urls = [];\n",
       "  \n",
       "    var inline_js = [\n",
       "      function(Bokeh) {\n",
       "        Bokeh.$(function() {\n",
       "            var docs_json = {\"5197ab0c-09cf-47e6-9850-c87e30bee22a\": {\"version\": \"0.11.0\", \"roots\": {\"root_ids\": [\"99feae47-3b6f-4b35-ae30-999b707be5d2\"], \"references\": [{\"attributes\": {\"nonselection_glyph\": null, \"data_source\": {\"type\": \"ColumnDataSource\", \"id\": \"afd6bdfb-3052-4244-8b00-cf91997d343f\"}, \"selection_glyph\": null, \"hover_glyph\": null, \"glyph\": {\"type\": \"Text\", \"id\": \"ede595c3-3dfc-470b-bff7-da1244f6ecbf\"}}, \"type\": \"GlyphRenderer\", \"id\": \"a1cf8cc6-b099-43c9-b0d7-ff740e41a2ff\"}, {\"attributes\": {\"callback\": null, \"end\": 0, \"start\": 25.571428571428566}, \"type\": \"Range1d\", \"id\": \"ea49294f-e2c2-436e-8af7-d2ad42325cb1\"}, {\"attributes\": {\"plot\": {\"type\": \"Plot\", \"id\": \"99feae47-3b6f-4b35-ae30-999b707be5d2\"}, \"axis_label_text_font_style\": \"bold\", \"axis_label_text_font_size\": {\"value\": \"10pt\"}, \"axis_line_color\": {\"value\": null}, \"major_tick_line_color\": {\"value\": null}, \"axis_label\": \"Meters behind 2012 Bolt\", \"formatter\": {\"type\": \"BasicTickFormatter\", \"id\": \"853dda45-d217-48a7-a052-3d419624e94a\"}, \"ticker\": {\"type\": \"SingleIntervalTicker\", \"id\": \"35ef741e-6048-42ca-9152-e6a747376bf8\"}}, \"type\": \"LinearAxis\", \"id\": \"83186d2a-0c7a-45d9-9dd3-bfbf2f594ff2\"}, {\"attributes\": {\"interval\": 5, \"num_minor_ticks\": 0}, \"type\": \"SingleIntervalTicker\", \"id\": \"35ef741e-6048-42ca-9152-e6a747376bf8\"}, {\"attributes\": {\"line_color\": {\"field\": \"MedalLine\"}, \"fill_color\": {\"field\": \"MedalFill\"}, \"fill_alpha\": {\"value\": 0.5}, \"radius\": {\"units\": \"screen\", \"value\": 5}, \"y\": {\"field\": \"Year\"}, \"x\": {\"field\": \"MetersBack\"}}, \"type\": \"Circle\", \"id\": \"9ced6f76-f84e-4151-99d8-d46add7f90b2\"}, {\"attributes\": {\"nonselection_glyph\": null, \"data_source\": {\"type\": \"ColumnDataSource\", \"id\": \"4ee9be49-eeb0-44a6-ba4f-b5ca1a2c1937\"}, \"selection_glyph\": null, \"hover_glyph\": null, \"glyph\": {\"type\": \"Text\", \"id\": \"506e78d7-8287-4080-a8b5-395b94b9b3fe\"}}, \"type\": \"GlyphRenderer\", \"id\": \"4902d60f-a15a-4f82-b185-3c20e794fbb5\"}, {\"attributes\": {\"callback\": null}, \"type\": \"ColumnDataSource\", \"id\": \"4ee9be49-eeb0-44a6-ba4f-b5ca1a2c1937\"}, {\"attributes\": {\"range_padding\": 0.05, \"callback\": null}, \"type\": \"DataRange1d\", \"id\": \"8487fe09-c33f-45ac-8e26-ec5eca31251a\"}, {\"attributes\": {}, \"type\": \"BasicTickFormatter\", \"id\": \"853dda45-d217-48a7-a052-3d419624e94a\"}, {\"attributes\": {\"text\": {\"field\": \"SelectedName\"}, \"text_font_size\": {\"value\": \"9pt\"}, \"y\": {\"field\": \"Year\"}, \"x_offset\": {\"value\": 10}, \"text_baseline\": \"middle\", \"x\": {\"field\": \"MetersBack\"}}, \"type\": \"Text\", \"id\": \"ede595c3-3dfc-470b-bff7-da1244f6ecbf\"}, {\"attributes\": {\"text\": {\"value\": \"No Olympics in 1940 or 1944\"}, \"text_font_size\": {\"value\": \"9pt\"}, \"text_align\": \"center\", \"text_color\": {\"value\": \"silver\"}, \"y\": {\"value\": 1942}, \"text_baseline\": \"middle\", \"x\": {\"value\": 7.5}, \"text_font_style\": \"italic\"}, \"type\": \"Text\", \"id\": \"506e78d7-8287-4080-a8b5-395b94b9b3fe\"}, {\"attributes\": {\"x_range\": {\"type\": \"Range1d\", \"id\": \"ea49294f-e2c2-436e-8af7-d2ad42325cb1\"}, \"right\": [{\"type\": \"LinearAxis\", \"id\": \"02253578-f4fe-49f2-ad0f-85231f334702\"}], \"title\": \"Usain Bolt vs. 116 years of Olympic sprinters\", \"toolbar_location\": null, \"outline_line_color\": {\"value\": null}, \"plot_width\": 800, \"renderers\": [{\"type\": \"GlyphRenderer\", \"id\": \"a00f8160-9cb3-453f-bd95-8b650fc28116\"}, {\"type\": \"GlyphRenderer\", \"id\": \"a1cf8cc6-b099-43c9-b0d7-ff740e41a2ff\"}, {\"type\": \"GlyphRenderer\", \"id\": \"4902d60f-a15a-4f82-b185-3c20e794fbb5\"}, {\"type\": \"LinearAxis\", \"id\": \"83186d2a-0c7a-45d9-9dd3-bfbf2f594ff2\"}, {\"type\": \"Grid\", \"id\": \"8f5e5abd-8ca2-43a8-bc44-f030e7820470\"}, {\"type\": \"LinearAxis\", \"id\": \"02253578-f4fe-49f2-ad0f-85231f334702\"}], \"below\": [{\"type\": \"LinearAxis\", \"id\": \"83186d2a-0c7a-45d9-9dd3-bfbf2f594ff2\"}], \"tool_events\": {\"type\": \"ToolEvents\", \"id\": \"a456e6ab-2758-48b0-a131-f77b7a142a77\"}, \"plot_height\": 480, \"y_range\": {\"type\": \"DataRange1d\", \"id\": \"8487fe09-c33f-45ac-8e26-ec5eca31251a\"}}, \"type\": \"Plot\", \"id\": \"99feae47-3b6f-4b35-ae30-999b707be5d2\"}, {\"attributes\": {}, \"type\": \"BasicTickFormatter\", \"id\": \"ea5cae77-e7be-49eb-953f-a8e822a44b9e\"}, {\"attributes\": {\"ticker\": {\"type\": \"SingleIntervalTicker\", \"id\": \"c230d686-0602-4315-a2ed-32f3ad9df3ef\"}, \"plot\": {\"type\": \"Plot\", \"id\": \"99feae47-3b6f-4b35-ae30-999b707be5d2\"}, \"formatter\": {\"type\": \"BasicTickFormatter\", \"id\": \"ea5cae77-e7be-49eb-953f-a8e822a44b9e\"}, \"major_tick_in\": -5, \"major_tick_out\": 10}, \"type\": \"LinearAxis\", \"id\": \"02253578-f4fe-49f2-ad0f-85231f334702\"}, {\"attributes\": {}, \"type\": \"ToolEvents\", \"id\": \"a456e6ab-2758-48b0-a131-f77b7a142a77\"}, {\"attributes\": {\"interval\": 12, \"num_minor_ticks\": 0}, \"type\": \"SingleIntervalTicker\", \"id\": \"c230d686-0602-4315-a2ed-32f3ad9df3ef\"}, {\"attributes\": {\"callback\": null, \"column_names\": [\"index\", \"MedalFill\", \"Name\", \"MedalLine\", \"Country\", \"Time\", \"Speed\", \"Abbrev\", \"Year\", \"SelectedName\", \"Medal\", \"MetersBack\"], \"data\": {\"index\": [0, 1, 2, 3, 4, 5, 6, 7, 8, 9, 10, 11, 12, 13, 14, 15, 16, 17, 18, 19, 20, 21, 22, 23, 24, 25, 26, 27, 28, 29, 30, 31, 32, 33, 34, 35, 36, 37, 38, 39, 40, 41, 42, 43, 44, 45, 46, 47, 48, 49, 50, 51, 52, 53, 54, 55, 56, 57, 58, 59, 60, 61, 62, 63, 64, 65, 66, 67, 68, 69, 70, 71, 72, 73, 74, 75, 76, 77, 78, 79, 80, 81, 82, 83, 84], \"MedalLine\": [\"#c8a850\", \"#b0b0b1\", \"#98715d\", \"#c8a850\", \"#b0b0b1\", \"#98715d\", \"#c8a850\", \"#b0b0b1\", \"#98715d\", \"#c8a850\", \"#b0b0b1\", \"#98715d\", \"#c8a850\", \"#b0b0b1\", \"#98715d\", \"#c8a850\", \"#b0b0b1\", \"#98715d\", \"#c8a850\", \"#b0b0b1\", \"#98715d\", \"#c8a850\", \"#b0b0b1\", \"#98715d\", \"#c8a850\", \"#b0b0b1\", \"#98715d\", \"#c8a850\", \"#b0b0b1\", \"#98715d\", \"#c8a850\", \"#b0b0b1\", \"#98715d\", \"#c8a850\", \"#b0b0b1\", \"#98715d\", \"#c8a850\", \"#b0b0b1\", \"#98715d\", \"#c8a850\", \"#b0b0b1\", \"#98715d\", \"#c8a850\", \"#b0b0b1\", \"#98715d\", \"#c8a850\", \"#b0b0b1\", \"#98715d\", \"#c8a850\", \"#b0b0b1\", \"#98715d\", \"#c8a850\", \"#b0b0b1\", \"#98715d\", \"#c8a850\", \"#b0b0b1\", \"#98715d\", \"#c8a850\", \"#b0b0b1\", \"#98715d\", \"#c8a850\", \"#b0b0b1\", \"#98715d\", \"#c8a850\", \"#b0b0b1\", \"#98715d\", \"#c8a850\", \"#b0b0b1\", \"#98715d\", \"#c8a850\", \"#b0b0b1\", \"#98715d\", \"#c8a850\", \"#b0b0b1\", \"#98715d\", \"#c8a850\", \"#b0b0b1\", \"#98715d\", \"#c8a850\", \"#b0b0b1\", \"#98715d\", \"#c8a850\", \"#b0b0b1\", \"#98715d\", \"#98715d\"], \"Name\": [\"Usain Bolt\", \"Yohan Blake\", \"Justin Gatlin\", \"Usain Bolt\", \"Richard Thompson\", \"Walter Dix\", \"Justin Gatlin\", \"Francis Obikwelu\", \"Maurice Greene\", \"Maurice Greene\", \"Ato Boldon\", \"Obadele Thompson\", \"Donovan Bailey\", \"Frankie Fredericks\", \"Ato Boldon\", \"Linford Christie\", \"Frankie Fredericks\", \"Dennis Mitchell\", \"Carl Lewis\", \"Linford Christie\", \"Calvin Smith\", \"Carl Lewis\", \"Sam Graddy\", \"Ben Johnson\", \"Allan Wells\", \"Silvio Leonard Tartabull\", \"Petar Petrov\", \"Hasely Crawford\", \"Donald Quarrie\", \"Valery Borzov\", \"Valery Borzov\", \"Robert Taylor\", \"Lennox Miller\", \"Jim Hines\", \"Lennox Miller\", \"Charles Greene\", \"Bob Hayes\", \"Enrique Figuerola Camue\", \"Harry Jerome\", \"Armin Hary\", \"David Sime\", \"Peter Radford\", \"Bobby Joe Morrow\", \"W. Thane Baker\", \"Hector Hogan\", \"Lindy Remigino\", \"Herbert McKenley\", \"E. McDonald Bailey\", \"W. Harrison Dillard\", \"H. Norwood \\\"Barney\\\" Ewell\", \"Lloyd LaBeach\", \"Jesse Owens\", \"Ralph Metcalfe\", \"Martinus Osendarp\", \"T. \\\"Eddie\\\" Tolan\", \"Ralph Metcalfe\", \"Arthur Jonath\", \"Percy Williams\", \"John \\\"Jack\\\" London\", \"Georg Lammers\", \"Harold Abrahams\", \"Jackson Scholz\", \"Arthur Porritt\", \"Charles Paddock\", \"Morris Kirksey\", \"Harry Edward\", \"Ralph Craig\", \"Alvah Meyer\", \"Donald Lippincott\", \"Reginald Walker\", \"James Rector\", \"Robert Kerr\", \"Charles \\\"Archie\\\" Hahn\", \"Fay Moulton\", \"Nigel Barker\", \"Charles \\\"Archie\\\" Hahn\", \"Nathaniel Cartmell\", \"Bill Hogenson\", \"Frank Jarvis\", \"J. Walter Tewksbury\", \"Stanley Rowley\", \"Thomas Burke\", \"Fritz Hofmann\", \"Alojz Sokol\", \"Francis Lane\"], \"Year\": [2012, 2012, 2012, 2008, 2008, 2008, 2004, 2004, 2004, 2000, 2000, 2000, 1996, 1996, 1996, 1992, 1992, 1992, 1988, 1988, 1988, 1984, 1984, 1984, 1980, 1980, 1980, 1976, 1976, 1976, 1972, 1972, 1972, 1968, 1968, 1968, 1964, 1964, 1964, 1960, 1960, 1960, 1956, 1956, 1956, 1952, 1952, 1952, 1948, 1948, 1948, 1936, 1936, 1936, 1932, 1932, 1932, 1928, 1928, 1928, 1924, 1924, 1924, 1920, 1920, 1920, 1912, 1912, 1912, 1908, 1908, 1908, 1906, 1906, 1906, 1904, 1904, 1904, 1900, 1900, 1900, 1896, 1896, 1896, 1896], \"Country\": [\"Jamaica\", \"Jamaica\", \"United States\", \"Jamaica\", \"Trinidad and Tobago\", \"United States\", \"United States\", \"Portugal\", \"United States\", \"United States\", \"Trinidad and Tobago\", \"Barbados\", \"Canada\", \"Namibia\", \"Trinidad and Tobago\", \"Britain\", \"Namibia\", \"United States\", \"United States\", \"Britain\", \"United States\", \"United States\", \"United States\", \"Canada\", \"Britain\", \"Cuba\", \"Bulgaria\", \"Trinidad and Tobago\", \"Jamaica\", \"Soviet Union\", \"Soviet Union\", \"United States\", \"Jamaica\", \"United States\", \"Jamaica\", \"United States\", \"United States\", \"Cuba\", \"Canada\", \"United Team of Germany\", \"United States\", \"Britain\", \"United States\", \"United States\", \"Australia\", \"United States\", \"Jamaica\", \"Britain\", \"United States\", \"United States\", \"Panama\", \"United States\", \"United States\", \"Netherlands\", \"United States\", \"United States\", \"Germany\", \"Canada\", \"Britain\", \"Germany\", \"Britain\", \"United States\", \"New Zealand\", \"United States\", \"United States\", \"Britain\", \"United States\", \"United States\", \"United States\", \"South Africa\", \"United States\", \"Canada\", \"United States\", \"United States\", \"Australia\", \"United States\", \"United States\", \"United States\", \"United States\", \"United States\", \"Australia\", \"United States\", \"Germany\", \"Hungary\", \"United States\"], \"Time\": [9.63, 9.75, 9.79, 9.69, 9.89, 9.91, 9.85, 9.86, 9.87, 9.87, 9.99, 10.04, 9.84, 9.89, 9.9, 9.96, 10.02, 10.04, 9.92, 9.97, 9.99, 9.99, 10.19, 10.22, 10.25, 10.25, 10.39, 10.06, 10.08, 10.14, 10.14, 10.24, 10.33, 9.95, 10.04, 10.07, 10.0, 10.2, 10.2, 10.2, 10.2, 10.3, 10.5, 10.5, 10.6, 10.4, 10.4, 10.4, 10.3, 10.4, 10.4, 10.3, 10.4, 10.5, 10.3, 10.3, 10.4, 10.8, 10.9, 10.9, 10.6, 10.8, 10.9, 10.8, 10.9, 10.9, 10.8, 10.9, 10.9, 10.8, 11.0, 11.0, 11.2, 11.3, 11.3, 11.0, 11.2, 11.2, 11.0, 11.1, 11.2, 12.0, 12.2, 12.6, 12.6], \"Speed\": [10.384215991692626, 10.256410256410257, 10.21450459652707, 10.319917440660475, 10.111223458038422, 10.090817356205852, 10.152284263959391, 10.141987829614605, 10.131712259371835, 10.131712259371835, 10.01001001001001, 9.9601593625498, 10.16260162601626, 10.111223458038422, 10.1010101010101, 10.04016064257028, 9.980039920159681, 9.9601593625498, 10.080645161290322, 10.030090270812437, 10.01001001001001, 10.01001001001001, 9.813542688910697, 9.784735812133071, 9.75609756097561, 9.75609756097561, 9.624639076034649, 9.940357852882704, 9.920634920634921, 9.861932938856015, 9.861932938856015, 9.765625, 9.68054211035818, 10.050251256281408, 9.9601593625498, 9.930486593843098, 10.0, 9.803921568627452, 9.803921568627452, 9.803921568627452, 9.803921568627452, 9.70873786407767, 9.523809523809524, 9.523809523809524, 9.433962264150944, 9.615384615384615, 9.615384615384615, 9.615384615384615, 9.70873786407767, 9.615384615384615, 9.615384615384615, 9.70873786407767, 9.615384615384615, 9.523809523809524, 9.70873786407767, 9.70873786407767, 9.615384615384615, 9.25925925925926, 9.174311926605505, 9.174311926605505, 9.433962264150944, 9.25925925925926, 9.174311926605505, 9.25925925925926, 9.174311926605505, 9.174311926605505, 9.25925925925926, 9.174311926605505, 9.174311926605505, 9.25925925925926, 9.090909090909092, 9.090909090909092, 8.928571428571429, 8.849557522123893, 8.849557522123893, 9.090909090909092, 8.928571428571429, 8.928571428571429, 9.090909090909092, 9.00900900900901, 8.928571428571429, 8.333333333333334, 8.196721311475411, 7.936507936507937, 7.936507936507937], \"Abbrev\": [\"JAM\", \"JAM\", \"USA\", \"JAM\", \"TRI\", \"USA\", \"USA\", \"POR\", \"USA\", \"USA\", \"TRI\", \"BAR\", \"CAN\", \"NAM\", \"TRI\", \"GBR\", \"NAM\", \"USA\", \"USA\", \"GBR\", \"USA\", \"USA\", \"USA\", \"CAN\", \"GBR\", \"CUB\", \"BUL\", \"TRI\", \"JAM\", \"URS\", \"URS\", \"USA\", \"JAM\", \"USA\", \"JAM\", \"USA\", \"USA\", \"CUB\", \"CAN\", \"EUA\", \"USA\", \"GBR\", \"USA\", \"USA\", \"AUS\", \"USA\", \"JAM\", \"GBR\", \"USA\", \"USA\", \"PAN\", \"USA\", \"USA\", \"NED\", \"USA\", \"USA\", \"GER\", \"CAN\", \"GBR\", \"GER\", \"GBR\", \"USA\", \"NZL\", \"USA\", \"USA\", \"GBR\", \"USA\", \"USA\", \"USA\", \"RSA\", \"USA\", \"CAN\", \"USA\", \"USA\", \"AUS\", \"USA\", \"USA\", \"USA\", \"USA\", \"USA\", \"AUS\", \"USA\", \"GER\", \"HUN\", \"USA\"], \"MedalFill\": [\"#efcf6d\", \"#cccccc\", \"#c59e8a\", \"#efcf6d\", \"#cccccc\", \"#c59e8a\", \"#efcf6d\", \"#cccccc\", \"#c59e8a\", \"#efcf6d\", \"#cccccc\", \"#c59e8a\", \"#efcf6d\", \"#cccccc\", \"#c59e8a\", \"#efcf6d\", \"#cccccc\", \"#c59e8a\", \"#efcf6d\", \"#cccccc\", \"#c59e8a\", \"#efcf6d\", \"#cccccc\", \"#c59e8a\", \"#efcf6d\", \"#cccccc\", \"#c59e8a\", \"#efcf6d\", \"#cccccc\", \"#c59e8a\", \"#efcf6d\", \"#cccccc\", \"#c59e8a\", \"#efcf6d\", \"#cccccc\", \"#c59e8a\", \"#efcf6d\", \"#cccccc\", \"#c59e8a\", \"#efcf6d\", \"#cccccc\", \"#c59e8a\", \"#efcf6d\", \"#cccccc\", \"#c59e8a\", \"#efcf6d\", \"#cccccc\", \"#c59e8a\", \"#efcf6d\", \"#cccccc\", \"#c59e8a\", \"#efcf6d\", \"#cccccc\", \"#c59e8a\", \"#efcf6d\", \"#cccccc\", \"#c59e8a\", \"#efcf6d\", \"#cccccc\", \"#c59e8a\", \"#efcf6d\", \"#cccccc\", \"#c59e8a\", \"#efcf6d\", \"#cccccc\", \"#c59e8a\", \"#efcf6d\", \"#cccccc\", \"#c59e8a\", \"#efcf6d\", \"#cccccc\", \"#c59e8a\", \"#efcf6d\", \"#cccccc\", \"#c59e8a\", \"#efcf6d\", \"#cccccc\", \"#c59e8a\", \"#efcf6d\", \"#cccccc\", \"#c59e8a\", \"#efcf6d\", \"#cccccc\", \"#c59e8a\", \"#c59e8a\"], \"SelectedName\": [null, null, null, null, null, null, null, null, null, null, null, null, null, null, null, null, null, null, \"Carl Lewis\", null, null, null, null, null, null, null, null, null, null, null, null, null, null, \"Jim Hines\", null, null, null, null, null, null, null, null, null, null, null, null, null, null, null, null, null, \"Jesse Owens\", null, null, null, null, null, null, null, null, null, null, null, null, null, null, null, null, null, null, null, null, null, null, null, null, null, null, null, null, null, \"Thomas Burke\", null, null, null], \"Medal\": [\"gold\", \"silver\", \"bronze\", \"gold\", \"silver\", \"bronze\", \"gold\", \"silver\", \"bronze\", \"gold\", \"silver\", \"bronze\", \"gold\", \"silver\", \"bronze\", \"gold\", \"silver\", \"bronze\", \"gold\", \"silver\", \"bronze\", \"gold\", \"silver\", \"bronze\", \"gold\", \"silver\", \"bronze\", \"gold\", \"silver\", \"bronze\", \"gold\", \"silver\", \"bronze\", \"gold\", \"silver\", \"bronze\", \"gold\", \"silver\", \"bronze\", \"gold\", \"silver\", \"bronze\", \"gold\", \"silver\", \"bronze\", \"gold\", \"silver\", \"bronze\", \"gold\", \"silver\", \"bronze\", \"gold\", \"silver\", \"bronze\", \"gold\", \"silver\", \"bronze\", \"gold\", \"silver\", \"bronze\", \"gold\", \"silver\", \"bronze\", \"gold\", \"silver\", \"bronze\", \"gold\", \"silver\", \"bronze\", \"gold\", \"silver\", \"bronze\", \"gold\", \"silver\", \"bronze\", \"gold\", \"silver\", \"bronze\", \"gold\", \"silver\", \"bronze\", \"gold\", \"silver\", \"bronze\", \"bronze\"], \"MetersBack\": [0.0, 1.2307692307692242, 1.6343207354443168, 0.6191950464396134, 2.628918099089983, 2.825428859737633, 2.2335025380710527, 2.33265720081135, 2.4316109422492294, 2.4316109422492294, 3.6036036036036, 4.083665338645403, 2.1341463414634054, 2.628918099089983, 2.7272727272727226, 3.3132530120481896, 3.8922155688622673, 4.083665338645403, 2.923387096774188, 3.4102306920762215, 3.6036036036036, 3.6036036036036, 5.49558390578998, 5.772994129158516, 6.048780487804873, 6.048780487804873, 7.314725697786328, 4.274353876739556, 4.46428571428571, 5.02958579881656, 5.02958579881656, 5.957031249999989, 6.776379477250716, 3.2160804020100353, 4.083665338645403, 4.369414101290959, 3.699999999999992, 5.588235294117638, 5.588235294117638, 5.588235294117638, 5.588235294117638, 6.504854368932033, 8.285714285714274, 8.285714285714274, 9.150943396226408, 7.40384615384615, 7.40384615384615, 7.40384615384615, 6.504854368932033, 7.40384615384615, 7.40384615384615, 6.504854368932033, 7.40384615384615, 8.285714285714274, 6.504854368932033, 6.504854368932033, 7.40384615384615, 10.833333333333329, 11.651376146788984, 11.651376146788984, 9.150943396226408, 10.833333333333329, 11.651376146788984, 10.833333333333329, 11.651376146788984, 11.651376146788984, 10.833333333333329, 11.651376146788984, 11.651376146788984, 10.833333333333329, 12.454545454545451, 12.454545454545451, 14.017857142857126, 14.778761061946899, 14.778761061946899, 12.454545454545451, 14.017857142857126, 14.017857142857126, 12.454545454545451, 13.24324324324323, 14.017857142857126, 19.74999999999999, 21.065573770491795, 23.571428571428566, 23.571428571428566]}}, \"type\": \"ColumnDataSource\", \"id\": \"afd6bdfb-3052-4244-8b00-cf91997d343f\"}, {\"attributes\": {\"plot\": {\"type\": \"Plot\", \"id\": \"99feae47-3b6f-4b35-ae30-999b707be5d2\"}, \"grid_line_dash\": [6], \"ticker\": {\"type\": \"SingleIntervalTicker\", \"id\": \"35ef741e-6048-42ca-9152-e6a747376bf8\"}}, \"type\": \"Grid\", \"id\": \"8f5e5abd-8ca2-43a8-bc44-f030e7820470\"}, {\"attributes\": {\"nonselection_glyph\": null, \"data_source\": {\"type\": \"ColumnDataSource\", \"id\": \"afd6bdfb-3052-4244-8b00-cf91997d343f\"}, \"selection_glyph\": null, \"hover_glyph\": null, \"glyph\": {\"type\": \"Circle\", \"id\": \"9ced6f76-f84e-4151-99d8-d46add7f90b2\"}}, \"type\": \"GlyphRenderer\", \"id\": \"a00f8160-9cb3-453f-bd95-8b650fc28116\"}]}, \"title\": \"Bokeh Application\"}};\n",
       "            var render_items = [{\"notebook_comms_target\": \"0fb9c86c-de35-49bf-983b-03eee79762c8\", \"docid\": \"5197ab0c-09cf-47e6-9850-c87e30bee22a\", \"elementid\": \"7ebfbabf-3e43-4896-9f8b-979fc179880e\", \"modelid\": \"99feae47-3b6f-4b35-ae30-999b707be5d2\"}];\n",
       "            \n",
       "            Bokeh.embed.embed_items(docs_json, render_items);\n",
       "        });\n",
       "      },\n",
       "      function(Bokeh) {\n",
       "      }\n",
       "    ];\n",
       "  \n",
       "    function run_inline_js() {\n",
       "      for (var i = 0; i < inline_js.length; i++) {\n",
       "        inline_js[i](window.Bokeh);\n",
       "      }\n",
       "    }\n",
       "  \n",
       "    if (window._bokeh_is_loading === 0) {\n",
       "      console.log(\"Bokeh: BokehJS loaded, going straight to plotting\");\n",
       "      run_inline_js();\n",
       "    } else {\n",
       "      load_libs(js_urls, function() {\n",
       "        console.log(\"Bokeh: BokehJS plotting callback run at\", now());\n",
       "        run_inline_js();\n",
       "      });\n",
       "    }\n",
       "  }(this));\n",
       "</script>"
      ]
     },
     "metadata": {},
     "output_type": "display_data"
    },
    {
     "data": {
      "text/plain": [
       "<bokeh.io._CommsHandle at 0x7ff505c29fd0>"
      ]
     },
     "execution_count": 13,
     "metadata": {},
     "output_type": "execute_result"
    }
   ],
   "source": [
    "show(plot)"
   ]
  },
  {
   "cell_type": "markdown",
   "metadata": {},
   "source": [
    "## Adding a Hover Tool"
   ]
  },
  {
   "cell_type": "code",
   "execution_count": 13,
   "metadata": {
    "collapsed": false
   },
   "outputs": [],
   "source": [
    "from bokeh.models import HoverTool"
   ]
  },
  {
   "cell_type": "code",
   "execution_count": 14,
   "metadata": {
    "collapsed": false
   },
   "outputs": [],
   "source": [
    "tooltips = \"\"\"\n",
    "<div>\n",
    "    <span style=\"font-size: 15px;\">@Name</span>&nbsp;\n",
    "    <span style=\"font-size: 10px; color: #666;\">(@Abbrev)</span>\n",
    "</div>\n",
    "<div>\n",
    "    <span style=\"font-size: 17px; font-weight: bold;\">@Time{0.00}</span>&nbsp;\n",
    "    <span style=\"font-size: 10px; color: #666;\">@Year</span>\n",
    "</div>\n",
    "<div style=\"font-size: 11px; color: #666;\">@{MetersBack}{0.00} meters behind</div>\n",
    "\"\"\""
   ]
  },
  {
   "cell_type": "code",
   "execution_count": 15,
   "metadata": {
    "collapsed": true
   },
   "outputs": [],
   "source": [
    "xdr = Range1d(start=sprint.MetersBack.max()+2, end=0)  # +2 is for padding\n",
    "ydr = DataRange1d(range_padding=0.05)  \n",
    "\n",
    "plot = Plot(x_range=xdr, y_range=ydr, **plot_options)\n",
    "medal = plot.add_glyph(source, medal_glyph)  # we need this renderer to configure the hover tool\n",
    "plot.add_glyph(source, athlete_glyph)\n",
    "plot.add_glyph(no_olympics_glyph)\n",
    "\n",
    "xticker = SingleIntervalTicker(interval=5, num_minor_ticks=0)\n",
    "xaxis = LinearAxis(ticker=xticker, axis_line_color=None, major_tick_line_color=None,\n",
    "                   axis_label=\"Meters behind 2012 Bolt\", axis_label_text_font_size=\"10pt\", \n",
    "                   axis_label_text_font_style=\"bold\")\n",
    "plot.add_layout(xaxis, \"below\")\n",
    "\n",
    "xgrid = Grid(dimension=0, ticker=xaxis.ticker, grid_line_dash=\"dashed\")\n",
    "plot.add_layout(xgrid)\n",
    "\n",
    "yticker = SingleIntervalTicker(interval=12, num_minor_ticks=0)\n",
    "yaxis = LinearAxis(ticker=yticker, major_tick_in=-5, major_tick_out=10)\n",
    "plot.add_layout(yaxis, \"right\")"
   ]
  },
  {
   "cell_type": "code",
   "execution_count": 16,
   "metadata": {
    "collapsed": true
   },
   "outputs": [],
   "source": [
    "hover = HoverTool(tooltips=tooltips, renderers=[medal])\n",
    "plot.add_tools(hover)"
   ]
  },
  {
   "cell_type": "code",
   "execution_count": 17,
   "metadata": {
    "collapsed": false
   },
   "outputs": [
    {
     "data": {
      "text/html": [
       "<script type=\"text/javascript\">\n",
       "        Bokeh.$(function() {\n",
       "        var all_models = [{\"attributes\": {\"doc\": null, \"y\": {\"field\": \"Year\"}, \"fill_color\": {\"field\": \"MedalFill\"}, \"id\": \"bd30e9f3-a934-4cf1-807f-32057e5603d7\", \"fill_alpha\": {\"value\": 0.5}, \"tags\": [], \"x\": {\"field\": \"MetersBack\"}, \"radius_units\": \"screen\", \"line_color\": {\"field\": \"MedalLine\"}, \"radius\": {\"units\": \"screen\", \"value\": 5}}, \"type\": \"Circle\", \"id\": \"bd30e9f3-a934-4cf1-807f-32057e5603d7\"}, {\"attributes\": {\"doc\": null, \"dimension\": 0, \"plot\": {\"type\": \"Plot\", \"id\": \"7743b7b0-1b65-4f09-9998-0a2e900bccc2\"}, \"tags\": [], \"id\": \"00a7a7fc-0f54-4f76-bc4b-bba560911315\", \"ticker\": {\"type\": \"SingleIntervalTicker\", \"id\": \"92d91938-5d37-48e3-940d-306a2b0da55b\"}, \"grid_line_dash\": [6]}, \"type\": \"Grid\", \"id\": \"00a7a7fc-0f54-4f76-bc4b-bba560911315\"}, {\"attributes\": {\"doc\": null, \"callback\": null, \"tags\": [], \"start\": 25.571428571428566, \"end\": 0, \"id\": \"121210d4-787d-451a-8e9f-624296df30ff\"}, \"type\": \"Range1d\", \"id\": \"121210d4-787d-451a-8e9f-624296df30ff\"}, {\"attributes\": {\"doc\": null, \"axis_line_color\": null, \"plot\": {\"type\": \"Plot\", \"id\": \"7743b7b0-1b65-4f09-9998-0a2e900bccc2\"}, \"formatter\": {\"type\": \"BasicTickFormatter\", \"id\": \"a2af63e6-d902-40af-bec7-40624d508e68\"}, \"tags\": [], \"axis_label\": \"Meters behind 2012 Bolt\", \"id\": \"0cb227ce-e9b4-4a69-b612-44df6bb9476c\", \"axis_label_text_font_style\": \"bold\", \"major_tick_line_color\": null, \"axis_label_text_font_size\": {\"value\": \"10pt\"}, \"ticker\": {\"type\": \"SingleIntervalTicker\", \"id\": \"92d91938-5d37-48e3-940d-306a2b0da55b\"}}, \"type\": \"LinearAxis\", \"id\": \"0cb227ce-e9b4-4a69-b612-44df6bb9476c\"}, {\"attributes\": {\"nonselection_glyph\": null, \"doc\": null, \"data_source\": {\"type\": \"ColumnDataSource\", \"id\": \"ed92d465-76ea-4ec4-aac4-7838116b10eb\"}, \"selection_glyph\": null, \"tags\": [], \"id\": \"d6bcbdb7-2f47-470a-8625-7ad4157d11eb\", \"glyph\": {\"type\": \"Text\", \"id\": \"2413c73e-ebb6-4453-b54a-83fecb833123\"}}, \"type\": \"GlyphRenderer\", \"id\": \"d6bcbdb7-2f47-470a-8625-7ad4157d11eb\"}, {\"attributes\": {\"doc\": null, \"tooltips\": \"\\n<div>\\n    <span style=\\\"font-size: 15px;\\\">@Name</span>&nbsp;\\n    <span style=\\\"font-size: 10px; color: #666;\\\">(@Abbrev)</span>\\n</div>\\n<div>\\n    <span style=\\\"font-size: 17px; font-weight: bold;\\\">@Time{0.00}</span>&nbsp;\\n    <span style=\\\"font-size: 10px; color: #666;\\\">@Year</span>\\n</div>\\n<div style=\\\"font-size: 11px; color: #666;\\\">@{MetersBack}{0.00} meters behind</div>\\n\", \"names\": [], \"plot\": {\"type\": \"Plot\", \"id\": \"7743b7b0-1b65-4f09-9998-0a2e900bccc2\"}, \"tags\": [], \"renderers\": [{\"type\": \"GlyphRenderer\", \"id\": \"5fc8253c-bd69-4eca-abc1-69ab68c8758d\"}], \"id\": \"a5513814-d002-4496-acfe-70a05fef045a\", \"callback\": null}, \"type\": \"HoverTool\", \"id\": \"a5513814-d002-4496-acfe-70a05fef045a\"}, {\"attributes\": {\"doc\": null, \"tags\": [], \"id\": \"ed5b0a84-2cc9-4490-9a42-b98b6f27951a\", \"geometries\": []}, \"type\": \"ToolEvents\", \"id\": \"ed5b0a84-2cc9-4490-9a42-b98b6f27951a\"}, {\"attributes\": {\"doc\": null, \"ticker\": {\"type\": \"SingleIntervalTicker\", \"id\": \"a091759f-6e1d-4757-9d29-2684a1cdb285\"}, \"major_tick_in\": -5, \"formatter\": {\"type\": \"BasicTickFormatter\", \"id\": \"3db66317-8203-4dcc-b102-e1e479ff8b8b\"}, \"tags\": [], \"id\": \"e31a4d8a-e888-46b9-b479-127012eb13cf\", \"major_tick_out\": 10, \"plot\": {\"type\": \"Plot\", \"id\": \"7743b7b0-1b65-4f09-9998-0a2e900bccc2\"}}, \"type\": \"LinearAxis\", \"id\": \"e31a4d8a-e888-46b9-b479-127012eb13cf\"}, {\"attributes\": {\"doc\": null, \"y\": {\"field\": \"Year\"}, \"text_align\": \"left\", \"tags\": [], \"x\": {\"field\": \"MetersBack\"}, \"text\": {\"field\": \"SelectedName\"}, \"id\": \"0e3c911f-396f-4483-ba15-9b046a93a42c\", \"text_font_size\": {\"value\": \"9pt\"}, \"text_baseline\": \"middle\", \"x_offset\": {\"value\": 10}}, \"type\": \"Text\", \"id\": \"0e3c911f-396f-4483-ba15-9b046a93a42c\"}, {\"attributes\": {\"doc\": null, \"y\": {\"value\": 1942}, \"text_align\": \"center\", \"x\": {\"value\": 7.5}, \"tags\": [], \"text_font_style\": \"italic\", \"text\": {\"value\": \"No Olympics in 1940 or 1944\"}, \"id\": \"2413c73e-ebb6-4453-b54a-83fecb833123\", \"text_font_size\": {\"value\": \"9pt\"}, \"text_baseline\": \"middle\", \"text_color\": {\"value\": \"silver\"}}, \"type\": \"Text\", \"id\": \"2413c73e-ebb6-4453-b54a-83fecb833123\"}, {\"attributes\": {\"doc\": null, \"tags\": [], \"id\": \"3db66317-8203-4dcc-b102-e1e479ff8b8b\"}, \"type\": \"BasicTickFormatter\", \"id\": \"3db66317-8203-4dcc-b102-e1e479ff8b8b\"}, {\"attributes\": {\"doc\": null, \"y_range\": {\"type\": \"DataRange1d\", \"id\": \"a65895cf-2bf3-412d-adfc-9535ed00b7f4\"}, \"renderers\": [{\"type\": \"GlyphRenderer\", \"id\": \"5fc8253c-bd69-4eca-abc1-69ab68c8758d\"}, {\"type\": \"GlyphRenderer\", \"id\": \"c08f1691-9e3b-42e1-af53-dd6458a94ec0\"}, {\"type\": \"GlyphRenderer\", \"id\": \"d6bcbdb7-2f47-470a-8625-7ad4157d11eb\"}, {\"type\": \"LinearAxis\", \"id\": \"0cb227ce-e9b4-4a69-b612-44df6bb9476c\"}, {\"type\": \"Grid\", \"id\": \"00a7a7fc-0f54-4f76-bc4b-bba560911315\"}, {\"type\": \"LinearAxis\", \"id\": \"e31a4d8a-e888-46b9-b479-127012eb13cf\"}], \"plot_width\": 800, \"outline_line_color\": null, \"above\": [], \"plot_height\": 480, \"tools\": [{\"type\": \"HoverTool\", \"id\": \"a5513814-d002-4496-acfe-70a05fef045a\"}], \"id\": \"7743b7b0-1b65-4f09-9998-0a2e900bccc2\", \"tags\": [], \"right\": [{\"type\": \"LinearAxis\", \"id\": \"e31a4d8a-e888-46b9-b479-127012eb13cf\"}], \"x_range\": {\"type\": \"Range1d\", \"id\": \"121210d4-787d-451a-8e9f-624296df30ff\"}, \"title\": \"Usain Bolt vs. 116 years of Olympic sprinters\", \"tool_events\": {\"type\": \"ToolEvents\", \"id\": \"ed5b0a84-2cc9-4490-9a42-b98b6f27951a\"}, \"below\": [{\"type\": \"LinearAxis\", \"id\": \"0cb227ce-e9b4-4a69-b612-44df6bb9476c\"}], \"extra_y_ranges\": {}, \"extra_x_ranges\": {}, \"left\": [], \"toolbar_location\": null}, \"type\": \"Plot\", \"id\": \"7743b7b0-1b65-4f09-9998-0a2e900bccc2\"}, {\"attributes\": {\"nonselection_glyph\": null, \"doc\": null, \"data_source\": {\"type\": \"ColumnDataSource\", \"id\": \"d5ed295d-7ad0-4c98-96cb-62fc16d800a6\"}, \"selection_glyph\": null, \"tags\": [], \"id\": \"c08f1691-9e3b-42e1-af53-dd6458a94ec0\", \"glyph\": {\"type\": \"Text\", \"id\": \"0e3c911f-396f-4483-ba15-9b046a93a42c\"}}, \"type\": \"GlyphRenderer\", \"id\": \"c08f1691-9e3b-42e1-af53-dd6458a94ec0\"}, {\"attributes\": {\"interval\": 12, \"num_minor_ticks\": 0, \"doc\": null, \"tags\": [], \"id\": \"a091759f-6e1d-4757-9d29-2684a1cdb285\"}, \"type\": \"SingleIntervalTicker\", \"id\": \"a091759f-6e1d-4757-9d29-2684a1cdb285\"}, {\"attributes\": {\"doc\": null, \"tags\": [], \"id\": \"a2af63e6-d902-40af-bec7-40624d508e68\"}, \"type\": \"BasicTickFormatter\", \"id\": \"a2af63e6-d902-40af-bec7-40624d508e68\"}, {\"attributes\": {\"doc\": null, \"selected\": {\"0d\": {\"indices\": [], \"flag\": false}, \"1d\": {\"indices\": []}, \"2d\": {\"indices\": []}}, \"column_names\": [], \"callback\": null, \"tags\": [], \"id\": \"ed92d465-76ea-4ec4-aac4-7838116b10eb\", \"data\": {}}, \"type\": \"ColumnDataSource\", \"id\": \"ed92d465-76ea-4ec4-aac4-7838116b10eb\"}, {\"attributes\": {\"doc\": null, \"renderers\": [], \"names\": [], \"tags\": [], \"range_padding\": 0.05, \"id\": \"a65895cf-2bf3-412d-adfc-9535ed00b7f4\", \"callback\": null}, \"type\": \"DataRange1d\", \"id\": \"a65895cf-2bf3-412d-adfc-9535ed00b7f4\"}, {\"attributes\": {\"doc\": null, \"selected\": {\"0d\": {\"indices\": [], \"flag\": false}, \"1d\": {\"indices\": []}, \"2d\": {\"indices\": []}}, \"column_names\": [\"Speed\", \"Time\", \"Medal\", \"MedalFill\", \"SelectedName\", \"Year\", \"Country\", \"Abbrev\", \"index\", \"MetersBack\", \"Name\", \"MedalLine\"], \"callback\": null, \"tags\": [], \"id\": \"d5ed295d-7ad0-4c98-96cb-62fc16d800a6\", \"data\": {\"Speed\": [10.384215991692626, 10.256410256410257, 10.21450459652707, 10.319917440660475, 10.111223458038422, 10.090817356205852, 10.152284263959391, 10.141987829614605, 10.131712259371835, 10.131712259371835, 10.01001001001001, 9.9601593625498, 10.16260162601626, 10.111223458038422, 10.1010101010101, 10.04016064257028, 9.980039920159681, 9.9601593625498, 10.080645161290322, 10.030090270812437, 10.01001001001001, 10.01001001001001, 9.813542688910697, 9.784735812133071, 9.75609756097561, 9.75609756097561, 9.624639076034649, 9.940357852882704, 9.920634920634921, 9.861932938856015, 9.861932938856015, 9.765625, 9.68054211035818, 10.050251256281408, 9.9601593625498, 9.930486593843098, 10.0, 9.803921568627452, 9.803921568627452, 9.803921568627452, 9.803921568627452, 9.70873786407767, 9.523809523809524, 9.523809523809524, 9.433962264150944, 9.615384615384615, 9.615384615384615, 9.615384615384615, 9.70873786407767, 9.615384615384615, 9.615384615384615, 9.70873786407767, 9.615384615384615, 9.523809523809524, 9.70873786407767, 9.70873786407767, 9.615384615384615, 9.25925925925926, 9.174311926605505, 9.174311926605505, 9.433962264150944, 9.25925925925926, 9.174311926605505, 9.25925925925926, 9.174311926605505, 9.174311926605505, 9.25925925925926, 9.174311926605505, 9.174311926605505, 9.25925925925926, 9.090909090909092, 9.090909090909092, 8.928571428571429, 8.849557522123893, 8.849557522123893, 9.090909090909092, 8.928571428571429, 8.928571428571429, 9.090909090909092, 9.00900900900901, 8.928571428571429, 8.333333333333334, 8.196721311475411, 7.936507936507937, 7.936507936507937], \"Time\": [9.63, 9.75, 9.79, 9.69, 9.89, 9.91, 9.85, 9.86, 9.87, 9.87, 9.99, 10.04, 9.84, 9.89, 9.9, 9.96, 10.02, 10.04, 9.92, 9.97, 9.99, 9.99, 10.19, 10.22, 10.25, 10.25, 10.39, 10.06, 10.08, 10.14, 10.14, 10.24, 10.33, 9.95, 10.04, 10.07, 10.0, 10.2, 10.2, 10.2, 10.2, 10.3, 10.5, 10.5, 10.6, 10.4, 10.4, 10.4, 10.3, 10.4, 10.4, 10.3, 10.4, 10.5, 10.3, 10.3, 10.4, 10.8, 10.9, 10.9, 10.6, 10.8, 10.9, 10.8, 10.9, 10.9, 10.8, 10.9, 10.9, 10.8, 11.0, 11.0, 11.2, 11.3, 11.3, 11.0, 11.2, 11.2, 11.0, 11.1, 11.2, 12.0, 12.2, 12.6, 12.6], \"Medal\": [\"gold\", \"silver\", \"bronze\", \"gold\", \"silver\", \"bronze\", \"gold\", \"silver\", \"bronze\", \"gold\", \"silver\", \"bronze\", \"gold\", \"silver\", \"bronze\", \"gold\", \"silver\", \"bronze\", \"gold\", \"silver\", \"bronze\", \"gold\", \"silver\", \"bronze\", \"gold\", \"silver\", \"bronze\", \"gold\", \"silver\", \"bronze\", \"gold\", \"silver\", \"bronze\", \"gold\", \"silver\", \"bronze\", \"gold\", \"silver\", \"bronze\", \"gold\", \"silver\", \"bronze\", \"gold\", \"silver\", \"bronze\", \"gold\", \"silver\", \"bronze\", \"gold\", \"silver\", \"bronze\", \"gold\", \"silver\", \"bronze\", \"gold\", \"silver\", \"bronze\", \"gold\", \"silver\", \"bronze\", \"gold\", \"silver\", \"bronze\", \"gold\", \"silver\", \"bronze\", \"gold\", \"silver\", \"bronze\", \"gold\", \"silver\", \"bronze\", \"gold\", \"silver\", \"bronze\", \"gold\", \"silver\", \"bronze\", \"gold\", \"silver\", \"bronze\", \"gold\", \"silver\", \"bronze\", \"bronze\"], \"MedalFill\": [\"#efcf6d\", \"#cccccc\", \"#c59e8a\", \"#efcf6d\", \"#cccccc\", \"#c59e8a\", \"#efcf6d\", \"#cccccc\", \"#c59e8a\", \"#efcf6d\", \"#cccccc\", \"#c59e8a\", \"#efcf6d\", \"#cccccc\", \"#c59e8a\", \"#efcf6d\", \"#cccccc\", \"#c59e8a\", \"#efcf6d\", \"#cccccc\", \"#c59e8a\", \"#efcf6d\", \"#cccccc\", \"#c59e8a\", \"#efcf6d\", \"#cccccc\", \"#c59e8a\", \"#efcf6d\", \"#cccccc\", \"#c59e8a\", \"#efcf6d\", \"#cccccc\", \"#c59e8a\", \"#efcf6d\", \"#cccccc\", \"#c59e8a\", \"#efcf6d\", \"#cccccc\", \"#c59e8a\", \"#efcf6d\", \"#cccccc\", \"#c59e8a\", \"#efcf6d\", \"#cccccc\", \"#c59e8a\", \"#efcf6d\", \"#cccccc\", \"#c59e8a\", \"#efcf6d\", \"#cccccc\", \"#c59e8a\", \"#efcf6d\", \"#cccccc\", \"#c59e8a\", \"#efcf6d\", \"#cccccc\", \"#c59e8a\", \"#efcf6d\", \"#cccccc\", \"#c59e8a\", \"#efcf6d\", \"#cccccc\", \"#c59e8a\", \"#efcf6d\", \"#cccccc\", \"#c59e8a\", \"#efcf6d\", \"#cccccc\", \"#c59e8a\", \"#efcf6d\", \"#cccccc\", \"#c59e8a\", \"#efcf6d\", \"#cccccc\", \"#c59e8a\", \"#efcf6d\", \"#cccccc\", \"#c59e8a\", \"#efcf6d\", \"#cccccc\", \"#c59e8a\", \"#efcf6d\", \"#cccccc\", \"#c59e8a\", \"#c59e8a\"], \"SelectedName\": [null, null, null, null, null, null, null, null, null, null, null, null, null, null, null, null, null, null, \"Carl Lewis\", null, null, null, null, null, null, null, null, null, null, null, null, null, null, \"Jim Hines\", null, null, null, null, null, null, null, null, null, null, null, null, null, null, null, null, null, \"Jesse Owens\", null, null, null, null, null, null, null, null, null, null, null, null, null, null, null, null, null, null, null, null, null, null, null, null, null, null, null, null, null, \"Thomas Burke\", null, null, null], \"Year\": [2012, 2012, 2012, 2008, 2008, 2008, 2004, 2004, 2004, 2000, 2000, 2000, 1996, 1996, 1996, 1992, 1992, 1992, 1988, 1988, 1988, 1984, 1984, 1984, 1980, 1980, 1980, 1976, 1976, 1976, 1972, 1972, 1972, 1968, 1968, 1968, 1964, 1964, 1964, 1960, 1960, 1960, 1956, 1956, 1956, 1952, 1952, 1952, 1948, 1948, 1948, 1936, 1936, 1936, 1932, 1932, 1932, 1928, 1928, 1928, 1924, 1924, 1924, 1920, 1920, 1920, 1912, 1912, 1912, 1908, 1908, 1908, 1906, 1906, 1906, 1904, 1904, 1904, 1900, 1900, 1900, 1896, 1896, 1896, 1896], \"Country\": [\"Jamaica\", \"Jamaica\", \"United States\", \"Jamaica\", \"Trinidad and Tobago\", \"United States\", \"United States\", \"Portugal\", \"United States\", \"United States\", \"Trinidad and Tobago\", \"Barbados\", \"Canada\", \"Namibia\", \"Trinidad and Tobago\", \"Britain\", \"Namibia\", \"United States\", \"United States\", \"Britain\", \"United States\", \"United States\", \"United States\", \"Canada\", \"Britain\", \"Cuba\", \"Bulgaria\", \"Trinidad and Tobago\", \"Jamaica\", \"Soviet Union\", \"Soviet Union\", \"United States\", \"Jamaica\", \"United States\", \"Jamaica\", \"United States\", \"United States\", \"Cuba\", \"Canada\", \"United Team of Germany\", \"United States\", \"Britain\", \"United States\", \"United States\", \"Australia\", \"United States\", \"Jamaica\", \"Britain\", \"United States\", \"United States\", \"Panama\", \"United States\", \"United States\", \"Netherlands\", \"United States\", \"United States\", \"Germany\", \"Canada\", \"Britain\", \"Germany\", \"Britain\", \"United States\", \"New Zealand\", \"United States\", \"United States\", \"Britain\", \"United States\", \"United States\", \"United States\", \"South Africa\", \"United States\", \"Canada\", \"United States\", \"United States\", \"Australia\", \"United States\", \"United States\", \"United States\", \"United States\", \"United States\", \"Australia\", \"United States\", \"Germany\", \"Hungary\", \"United States\"], \"Abbrev\": [\"JAM\", \"JAM\", \"USA\", \"JAM\", \"TRI\", \"USA\", \"USA\", \"POR\", \"USA\", \"USA\", \"TRI\", \"BAR\", \"CAN\", \"NAM\", \"TRI\", \"GBR\", \"NAM\", \"USA\", \"USA\", \"GBR\", \"USA\", \"USA\", \"USA\", \"CAN\", \"GBR\", \"CUB\", \"BUL\", \"TRI\", \"JAM\", \"URS\", \"URS\", \"USA\", \"JAM\", \"USA\", \"JAM\", \"USA\", \"USA\", \"CUB\", \"CAN\", \"EUA\", \"USA\", \"GBR\", \"USA\", \"USA\", \"AUS\", \"USA\", \"JAM\", \"GBR\", \"USA\", \"USA\", \"PAN\", \"USA\", \"USA\", \"NED\", \"USA\", \"USA\", \"GER\", \"CAN\", \"GBR\", \"GER\", \"GBR\", \"USA\", \"NZL\", \"USA\", \"USA\", \"GBR\", \"USA\", \"USA\", \"USA\", \"RSA\", \"USA\", \"CAN\", \"USA\", \"USA\", \"AUS\", \"USA\", \"USA\", \"USA\", \"USA\", \"USA\", \"AUS\", \"USA\", \"GER\", \"HUN\", \"USA\"], \"index\": [0, 1, 2, 3, 4, 5, 6, 7, 8, 9, 10, 11, 12, 13, 14, 15, 16, 17, 18, 19, 20, 21, 22, 23, 24, 25, 26, 27, 28, 29, 30, 31, 32, 33, 34, 35, 36, 37, 38, 39, 40, 41, 42, 43, 44, 45, 46, 47, 48, 49, 50, 51, 52, 53, 54, 55, 56, 57, 58, 59, 60, 61, 62, 63, 64, 65, 66, 67, 68, 69, 70, 71, 72, 73, 74, 75, 76, 77, 78, 79, 80, 81, 82, 83, 84], \"MetersBack\": [0.0, 1.2307692307692242, 1.6343207354443168, 0.6191950464396134, 2.628918099089983, 2.825428859737633, 2.2335025380710527, 2.33265720081135, 2.4316109422492294, 2.4316109422492294, 3.6036036036036, 4.083665338645403, 2.1341463414634054, 2.628918099089983, 2.7272727272727226, 3.3132530120481896, 3.8922155688622673, 4.083665338645403, 2.923387096774188, 3.4102306920762215, 3.6036036036036, 3.6036036036036, 5.49558390578998, 5.772994129158516, 6.048780487804873, 6.048780487804873, 7.314725697786328, 4.274353876739556, 4.46428571428571, 5.02958579881656, 5.02958579881656, 5.957031249999989, 6.776379477250716, 3.2160804020100353, 4.083665338645403, 4.369414101290959, 3.699999999999992, 5.588235294117638, 5.588235294117638, 5.588235294117638, 5.588235294117638, 6.504854368932033, 8.285714285714274, 8.285714285714274, 9.150943396226408, 7.40384615384615, 7.40384615384615, 7.40384615384615, 6.504854368932033, 7.40384615384615, 7.40384615384615, 6.504854368932033, 7.40384615384615, 8.285714285714274, 6.504854368932033, 6.504854368932033, 7.40384615384615, 10.833333333333329, 11.651376146788984, 11.651376146788984, 9.150943396226408, 10.833333333333329, 11.651376146788984, 10.833333333333329, 11.651376146788984, 11.651376146788984, 10.833333333333329, 11.651376146788984, 11.651376146788984, 10.833333333333329, 12.454545454545451, 12.454545454545451, 14.017857142857126, 14.778761061946899, 14.778761061946899, 12.454545454545451, 14.017857142857126, 14.017857142857126, 12.454545454545451, 13.24324324324323, 14.017857142857126, 19.74999999999999, 21.065573770491795, 23.571428571428566, 23.571428571428566], \"Name\": [\"Usain Bolt\", \"Yohan Blake\", \"Justin Gatlin\", \"Usain Bolt\", \"Richard Thompson\", \"Walter Dix\", \"Justin Gatlin\", \"Francis Obikwelu\", \"Maurice Greene\", \"Maurice Greene\", \"Ato Boldon\", \"Obadele Thompson\", \"Donovan Bailey\", \"Frankie Fredericks\", \"Ato Boldon\", \"Linford Christie\", \"Frankie Fredericks\", \"Dennis Mitchell\", \"Carl Lewis\", \"Linford Christie\", \"Calvin Smith\", \"Carl Lewis\", \"Sam Graddy\", \"Ben Johnson\", \"Allan Wells\", \"Silvio Leonard Tartabull\", \"Petar Petrov\", \"Hasely Crawford\", \"Donald Quarrie\", \"Valery Borzov\", \"Valery Borzov\", \"Robert Taylor\", \"Lennox Miller\", \"Jim Hines\", \"Lennox Miller\", \"Charles Greene\", \"Bob Hayes\", \"Enrique Figuerola Camue\", \"Harry Jerome\", \"Armin Hary\", \"David Sime\", \"Peter Radford\", \"Bobby Joe Morrow\", \"W. Thane Baker\", \"Hector Hogan\", \"Lindy Remigino\", \"Herbert McKenley\", \"E. McDonald Bailey\", \"W. Harrison Dillard\", \"H. Norwood \\\"Barney\\\" Ewell\", \"Lloyd LaBeach\", \"Jesse Owens\", \"Ralph Metcalfe\", \"Martinus Osendarp\", \"T. \\\"Eddie\\\" Tolan\", \"Ralph Metcalfe\", \"Arthur Jonath\", \"Percy Williams\", \"John \\\"Jack\\\" London\", \"Georg Lammers\", \"Harold Abrahams\", \"Jackson Scholz\", \"Arthur Porritt\", \"Charles Paddock\", \"Morris Kirksey\", \"Harry Edward\", \"Ralph Craig\", \"Alvah Meyer\", \"Donald Lippincott\", \"Reginald Walker\", \"James Rector\", \"Robert Kerr\", \"Charles \\\"Archie\\\" Hahn\", \"Fay Moulton\", \"Nigel Barker\", \"Charles \\\"Archie\\\" Hahn\", \"Nathaniel Cartmell\", \"Bill Hogenson\", \"Frank Jarvis\", \"J. Walter Tewksbury\", \"Stanley Rowley\", \"Thomas Burke\", \"Fritz Hofmann\", \"Alojz Sokol\", \"Francis Lane\"], \"MedalLine\": [\"#c8a850\", \"#b0b0b1\", \"#98715d\", \"#c8a850\", \"#b0b0b1\", \"#98715d\", \"#c8a850\", \"#b0b0b1\", \"#98715d\", \"#c8a850\", \"#b0b0b1\", \"#98715d\", \"#c8a850\", \"#b0b0b1\", \"#98715d\", \"#c8a850\", \"#b0b0b1\", \"#98715d\", \"#c8a850\", \"#b0b0b1\", \"#98715d\", \"#c8a850\", \"#b0b0b1\", \"#98715d\", \"#c8a850\", \"#b0b0b1\", \"#98715d\", \"#c8a850\", \"#b0b0b1\", \"#98715d\", \"#c8a850\", \"#b0b0b1\", \"#98715d\", \"#c8a850\", \"#b0b0b1\", \"#98715d\", \"#c8a850\", \"#b0b0b1\", \"#98715d\", \"#c8a850\", \"#b0b0b1\", \"#98715d\", \"#c8a850\", \"#b0b0b1\", \"#98715d\", \"#c8a850\", \"#b0b0b1\", \"#98715d\", \"#c8a850\", \"#b0b0b1\", \"#98715d\", \"#c8a850\", \"#b0b0b1\", \"#98715d\", \"#c8a850\", \"#b0b0b1\", \"#98715d\", \"#c8a850\", \"#b0b0b1\", \"#98715d\", \"#c8a850\", \"#b0b0b1\", \"#98715d\", \"#c8a850\", \"#b0b0b1\", \"#98715d\", \"#c8a850\", \"#b0b0b1\", \"#98715d\", \"#c8a850\", \"#b0b0b1\", \"#98715d\", \"#c8a850\", \"#b0b0b1\", \"#98715d\", \"#c8a850\", \"#b0b0b1\", \"#98715d\", \"#c8a850\", \"#b0b0b1\", \"#98715d\", \"#c8a850\", \"#b0b0b1\", \"#98715d\", \"#98715d\"]}}, \"type\": \"ColumnDataSource\", \"id\": \"d5ed295d-7ad0-4c98-96cb-62fc16d800a6\"}, {\"attributes\": {\"interval\": 5, \"num_minor_ticks\": 0, \"doc\": null, \"tags\": [], \"id\": \"92d91938-5d37-48e3-940d-306a2b0da55b\"}, \"type\": \"SingleIntervalTicker\", \"id\": \"92d91938-5d37-48e3-940d-306a2b0da55b\"}, {\"attributes\": {\"nonselection_glyph\": null, \"doc\": null, \"data_source\": {\"type\": \"ColumnDataSource\", \"id\": \"d5ed295d-7ad0-4c98-96cb-62fc16d800a6\"}, \"selection_glyph\": null, \"tags\": [], \"id\": \"5fc8253c-bd69-4eca-abc1-69ab68c8758d\", \"glyph\": {\"type\": \"Circle\", \"id\": \"bd30e9f3-a934-4cf1-807f-32057e5603d7\"}}, \"type\": \"GlyphRenderer\", \"id\": \"5fc8253c-bd69-4eca-abc1-69ab68c8758d\"}];\n",
       "        Bokeh.load_models(all_models);\n",
       "        var plots = [{'modeltype': 'Plot', 'elementid': '8e6017b4-91ce-4e3d-9d6d-c7f7006d48f4', 'modelid': '7743b7b0-1b65-4f09-9998-0a2e900bccc2'}];\n",
       "        for (idx in plots) {\n",
       "        \tvar plot = plots[idx];\n",
       "        \tvar model = Bokeh.Collections(plot.modeltype).get(plot.modelid);\n",
       "        \tBokeh.logger.info('Realizing plot:')\n",
       "        \tBokeh.logger.info(' - modeltype: ' + plot.modeltype);\n",
       "        \tBokeh.logger.info(' - modelid: ' + plot.modelid);\n",
       "        \tBokeh.logger.info(' - elementid: ' + plot.elementid);\n",
       "        \tvar view = new model.default_view({\n",
       "        \t\tmodel: model,\n",
       "        \t\tel: '#' + plot.elementid\n",
       "        \t});\n",
       "        \tBokeh.index[plot.modelid] = view;\n",
       "        }\n",
       "    });\n",
       "    </script>\n",
       "<div class=\"plotdiv\" id=\"8e6017b4-91ce-4e3d-9d6d-c7f7006d48f4\"></div>\n",
       "\n"
      ]
     },
     "metadata": {},
     "output_type": "display_data"
    }
   ],
   "source": [
    "show(plot)"
   ]
  },
  {
   "cell_type": "markdown",
   "metadata": {},
   "source": [
    "## Three methods that are your friend"
   ]
  },
  {
   "cell_type": "markdown",
   "metadata": {},
   "source": [
    "`Plot`, `Chart`, and `Figure` all have three methods:\n",
    "\n",
    "* `p.add_glyph`\n",
    "* `p.add_tools`\n",
    "* `p.add_layout`"
   ]
  },
  {
   "cell_type": "markdown",
   "metadata": {},
   "source": [
    "# Exercizes"
   ]
  },
  {
   "cell_type": "code",
   "execution_count": 18,
   "metadata": {
    "collapsed": false
   },
   "outputs": [
    {
     "data": {
      "text/html": [
       "<div>\n",
       "<table border=\"1\" class=\"dataframe\">\n",
       "  <thead>\n",
       "    <tr style=\"text-align: right;\">\n",
       "      <th></th>\n",
       "      <th>fertility</th>\n",
       "      <th>life</th>\n",
       "      <th>population</th>\n",
       "      <th>region_color</th>\n",
       "    </tr>\n",
       "  </thead>\n",
       "  <tbody>\n",
       "    <tr>\n",
       "      <th>Afghanistan</th>\n",
       "      <td>7.671</td>\n",
       "      <td>33.639</td>\n",
       "      <td>9.129985</td>\n",
       "      <td>#fc8d59</td>\n",
       "    </tr>\n",
       "    <tr>\n",
       "      <th>Albania</th>\n",
       "      <td>5.711</td>\n",
       "      <td>65.475</td>\n",
       "      <td>3.802632</td>\n",
       "      <td>#e6f598</td>\n",
       "    </tr>\n",
       "    <tr>\n",
       "      <th>Algeria</th>\n",
       "      <td>7.653</td>\n",
       "      <td>47.953</td>\n",
       "      <td>9.630513</td>\n",
       "      <td>#fee08b</td>\n",
       "    </tr>\n",
       "    <tr>\n",
       "      <th>American Samoa</th>\n",
       "      <td>NaN</td>\n",
       "      <td>NaN</td>\n",
       "      <td>3.000000</td>\n",
       "      <td>#99d594</td>\n",
       "    </tr>\n",
       "    <tr>\n",
       "      <th>Andorra</th>\n",
       "      <td>NaN</td>\n",
       "      <td>NaN</td>\n",
       "      <td>3.000000</td>\n",
       "      <td>#e6f598</td>\n",
       "    </tr>\n",
       "  </tbody>\n",
       "</table>\n",
       "</div>"
      ],
      "text/plain": [
       "                fertility    life  population region_color\n",
       "Afghanistan         7.671  33.639    9.129985      #fc8d59\n",
       "Albania             5.711  65.475    3.802632      #e6f598\n",
       "Algeria             7.653  47.953    9.630513      #fee08b\n",
       "American Samoa        NaN     NaN    3.000000      #99d594\n",
       "Andorra               NaN     NaN    3.000000      #e6f598"
      ]
     },
     "execution_count": 18,
     "metadata": {},
     "output_type": "execute_result"
    }
   ],
   "source": [
    "from utils import get_gapminder_1964_data\n",
    "\n",
    "def get_plot():\n",
    "    return Plot(\n",
    "        x_range=Range1d(1, 9), y_range=Range1d(20, 100),\n",
    "        title=\"\", plot_width=800, plot_height=400,\n",
    "        outline_line_color=None, toolbar_location=None,\n",
    "    )\n",
    "\n",
    "df = get_gapminder_1964_data()\n",
    "df.head()"
   ]
  },
  {
   "cell_type": "code",
   "execution_count": null,
   "metadata": {
    "collapsed": false
   },
   "outputs": [],
   "source": [
    "# EXERCISE: Add Circles to the plot from the data in `df`. \n",
    "# With `fertility` for the x coordinates, `life` for the y coordinates.\n",
    "\n",
    "plot = get_plot()\n",
    "\n",
    "\n"
   ]
  },
  {
   "cell_type": "code",
   "execution_count": null,
   "metadata": {
    "collapsed": false
   },
   "outputs": [],
   "source": [
    "# EXERCISE: Color the circles by region_color & change the size of the color by population\n",
    "\n",
    "\n"
   ]
  },
  {
   "cell_type": "code",
   "execution_count": null,
   "metadata": {
    "collapsed": false
   },
   "outputs": [],
   "source": [
    "# EXERCISE: Add axes and grid lines\n",
    "\n"
   ]
  },
  {
   "cell_type": "code",
   "execution_count": null,
   "metadata": {
    "collapsed": true
   },
   "outputs": [],
   "source": [
    "# EXERCISE: Manually add a legend using Circle & Text. The color key is as follows \n",
    "\n",
    "region_name_and_color = [\n",
    "    ('America', '#3288bd'),\n",
    "    ('East Asia & Pacific', '#99d594'),\n",
    "    ('Europe & Central Asia', '#e6f598'),\n",
    "    ('Middle East & North Africa', '#fee08b'),\n",
    "    ('South Asia', '#fc8d59'),\n",
    "    ('Sub-Saharan Africa', '#d53e4f')\n",
    "]"
   ]
  },
  {
   "cell_type": "code",
   "execution_count": null,
   "metadata": {
    "collapsed": true
   },
   "outputs": [],
   "source": []
  }
 ],
 "metadata": {
  "kernelspec": {
   "display_name": "Python 2",
   "language": "python",
   "name": "python2"
  },
  "language_info": {
   "codemirror_mode": {
    "name": "ipython",
    "version": 2
   },
   "file_extension": ".py",
   "mimetype": "text/x-python",
   "name": "python",
   "nbconvert_exporter": "python",
   "pygments_lexer": "ipython2",
   "version": "2.7.11"
  }
 },
 "nbformat": 4,
 "nbformat_minor": 0
}
