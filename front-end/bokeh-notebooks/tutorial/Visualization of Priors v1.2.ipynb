{
 "cells": [
  {
   "cell_type": "markdown",
   "metadata": {
    "collapsed": true
   },
   "source": [
    "<table style=\"float:left; border:none\">\n",
    "   <tr style=\"border:none\">\n",
    "       <td style=\"border:none\">\n",
    "           <a href=\"http://bokeh.pydata.org/\">     \n",
    "           <img \n",
    "               src=\"http://bokeh.pydata.org/en/latest/_static/bokeh-transparent.png\" \n",
    "               style=\"width:70px\"\n",
    "           >\n",
    "           </a>    \n",
    "       </td>\n",
    "       <td style=\"border:none\">\n",
    "           <h1>Visualization of Priors v1.2</h1>\n",
    "       </td>\n",
    "   </tr>\n",
    "</table>"
   ]
  },
  {
   "cell_type": "code",
   "execution_count": 1,
   "metadata": {
    "collapsed": false
   },
   "outputs": [],
   "source": [
    "from bokeh.io import output_notebook, show\n",
    "from bokeh.plotting import figure\n",
    "from bokeh.io import output_file"
   ]
  },
  {
   "cell_type": "markdown",
   "metadata": {},
   "source": [
    "In this case, we are in the Jupyter notebook, so call `output_notebook()`. We only need to call this once, and all subsequent calls to `show()` will display inline in the notebook."
   ]
  },
  {
   "cell_type": "code",
   "execution_count": 2,
   "metadata": {
    "collapsed": false
   },
   "outputs": [
    {
     "data": {
      "text/html": [
       "\n",
       "\n",
       "    <script type=\"text/javascript\">\n",
       "      \n",
       "      (function(global) {\n",
       "        function now() {\n",
       "          return new Date();\n",
       "        }\n",
       "      \n",
       "        if (typeof (window._bokeh_onload_callbacks) === \"undefined\") {\n",
       "          window._bokeh_onload_callbacks = [];\n",
       "        }\n",
       "      \n",
       "        function run_callbacks() {\n",
       "          window._bokeh_onload_callbacks.forEach(function(callback) { callback() });\n",
       "          delete window._bokeh_onload_callbacks\n",
       "          console.info(\"Bokeh: all callbacks have finished\");\n",
       "        }\n",
       "      \n",
       "        function load_libs(js_urls, callback) {\n",
       "          window._bokeh_onload_callbacks.push(callback);\n",
       "          if (window._bokeh_is_loading > 0) {\n",
       "            console.log(\"Bokeh: BokehJS is being loaded, scheduling callback at\", now());\n",
       "            return null;\n",
       "          }\n",
       "          if (js_urls == null || js_urls.length === 0) {\n",
       "            run_callbacks();\n",
       "            return null;\n",
       "          }\n",
       "          console.log(\"Bokeh: BokehJS not loaded, scheduling load and callback at\", now());\n",
       "          window._bokeh_is_loading = js_urls.length;\n",
       "          for (var i = 0; i < js_urls.length; i++) {\n",
       "            var url = js_urls[i];\n",
       "            var s = document.createElement('script');\n",
       "            s.src = url;\n",
       "            s.async = false;\n",
       "            s.onreadystatechange = s.onload = function() {\n",
       "              window._bokeh_is_loading--;\n",
       "              if (window._bokeh_is_loading === 0) {\n",
       "                console.log(\"Bokeh: all BokehJS libraries loaded\");\n",
       "                run_callbacks()\n",
       "              }\n",
       "            };\n",
       "            s.onerror = function() {\n",
       "              console.warn(\"failed to load library \" + url);\n",
       "            };\n",
       "            console.log(\"Bokeh: injecting script tag for BokehJS library: \", url);\n",
       "            document.getElementsByTagName(\"head\")[0].appendChild(s);\n",
       "          }\n",
       "        };var js_urls = ['https://cdn.pydata.org/bokeh/release/bokeh-0.11.0.min.js', 'https://cdn.pydata.org/bokeh/release/bokeh-widgets-0.11.0.min.js', 'https://cdn.pydata.org/bokeh/release/bokeh-compiler-0.11.0.min.js'];\n",
       "      \n",
       "        var inline_js = [\n",
       "          function(Bokeh) {\n",
       "            Bokeh.set_log_level(\"info\");\n",
       "          },\n",
       "          function(Bokeh) {\n",
       "            console.log(\"Bokeh: injecting CSS: https://cdn.pydata.org/bokeh/release/bokeh-0.11.0.min.css\");\n",
       "            Bokeh.embed.inject_css(\"https://cdn.pydata.org/bokeh/release/bokeh-0.11.0.min.css\");\n",
       "            console.log(\"Bokeh: injecting CSS: https://cdn.pydata.org/bokeh/release/bokeh-widgets-0.11.0.min.css\");\n",
       "            Bokeh.embed.inject_css(\"https://cdn.pydata.org/bokeh/release/bokeh-widgets-0.11.0.min.css\");\n",
       "          }\n",
       "        ];\n",
       "      \n",
       "        function run_inline_js() {\n",
       "          for (var i = 0; i < inline_js.length; i++) {\n",
       "            inline_js[i](window.Bokeh);\n",
       "          }\n",
       "        }\n",
       "      \n",
       "        if (window._bokeh_is_loading === 0) {\n",
       "          console.log(\"Bokeh: BokehJS loaded, going straight to plotting\");\n",
       "          run_inline_js();\n",
       "        } else {\n",
       "          load_libs(js_urls, function() {\n",
       "            console.log(\"Bokeh: BokehJS plotting callback run at\", now());\n",
       "            run_inline_js();\n",
       "          });\n",
       "        }\n",
       "      }(this));\n",
       "    </script>\n",
       "    <div>\n",
       "        <a href=\"http://bokeh.pydata.org\" target=\"_blank\" class=\"bk-logo bk-logo-small bk-logo-notebook\"></a>\n",
       "        <span>BokehJS successfully loaded.</span>\n",
       "    </div>"
      ]
     },
     "metadata": {},
     "output_type": "display_data"
    }
   ],
   "source": [
    "output_notebook()"
   ]
  },
  {
   "cell_type": "code",
   "execution_count": 3,
   "metadata": {
    "collapsed": false
   },
   "outputs": [
    {
     "name": "stdout",
     "output_type": "stream",
     "text": [
      "10\n"
     ]
    }
   ],
   "source": [
    "ailments2= ['Stigmata - recentl calculi','Renal calculi','Hydronephosis','Inflammatory bowel disease','Bowel obstruction','Abdominal pain','Colonic-stool','Stasis-pelvis','Appendicitis','Diverticulosis']\n",
    "ailments = ['Diverticulosis','Appendicitis','Stasis-pelvis', 'Colonic-stool','Abdominal pain','Bowel obstruction','Inflammatory bowel disease','Hydronephosis','Renal calculi','Stigmata - recentl calculi']\n",
    "print len(ailments)\n",
    "jan2016 = [-1,-1,1,1,0,0,0,0,0,0]\n",
    "nov2014 = [0,0,0,1,-1,0,0,0,0,0]\n",
    "may2013 = [0,0,0,0,0,-1,-1,0,0,0]\n",
    "nov2012 = [0,0,0,0,0,0,0,-1,-1,-1]\n",
    "color_dict = {1:\"#33a02c\",0:\"#7E7E7E\",-1:\"firebrick\"}\n",
    "TOOLS = \"resize,hover,save\"\n",
    "\n",
    "p = figure(title=\"Visualization of Priors - CT Abdomen and Pelvis\",#plot_width=900, plot_height=900,\n",
    "           y_range = ailments2, x_range = ['Jan 2016','Nov 2014','May 2013','Nov 2012'])\n",
    "    #y_range=['0','1','2','3','4','5','6','7','8','9','10','11','12','13','14','15','16','17','18','19','21'],\n",
    "    #x_range=['1','2','3','4','5','6','7'])\n",
    "\n",
    "#p = figure(plot_width=800, plot_height=800)\n",
    "#p.quad(top=[3, 3, 3], bottom=[1, 1, 1], left=[1, 3, 5],\n",
    "#      right=[2.8, 4.8, 6.8], color=\"#B3DE69\")\n",
    "\n",
    "\n"
   ]
  },
  {
   "cell_type": "code",
   "execution_count": 4,
   "metadata": {
    "collapsed": false
   },
   "outputs": [],
   "source": [
    "t = [];\n",
    "b= [];\n",
    "l= [];\n",
    "r = [];\n",
    "for i in range(len(ailments)):\n",
    "    #p.quad(top=[1.8 +2*i], bottom=[2*i], left = [3], right = [3.8], color=\"white\")\n",
    "    p.quad(top=[0.8 +0.4+ i], bottom=[0.4+ i], left = [0.5], right = [1.3], color=color_dict[jan2016[9-i]])\n",
    "    p.quad(top=[0.8 +0.4+ i], bottom=[0.4+ i], left = [1.5], right = [2.3], color=color_dict[nov2014[9-i]])\n",
    "    p.quad(top=[0.8 +0.4+ i], bottom=[0.4+ i], left = [2.5], right = [3.3], color=color_dict[may2013[9-i]])\n",
    "    p.quad(top=[0.8 +0.4+ i], bottom=[0.4+ i], left = [3.5], right = [4.3], color=color_dict[nov2012[9-i]])\n",
    "    t.append(0.8 +0.4+ i)\n",
    "    b.append(0.4+ i)\n",
    "\n",
    "p.xaxis.axis_label = \"Dates\"\n",
    "#p.xaxis.axis_label_text_color = \"#aa6666\"\n",
    "#p.xaxis.axis_label_standoff = 30\n",
    "\n",
    "p.yaxis.axis_label = \"Ailments\"\n",
    "p.yaxis.major_label_text_font_size = \"12pt\"\n",
    "#p.yaxis.axis_label_text_font_style = \"italic\"\n",
    "#p.yaxis.major_label_text_font = \"helvetica\"\n",
    "#p.text([3]*len(ailments), [19, 17, 15, 13, 11, 9, 7, 5, 3, 1],\n",
    "      #text=ailments,text_color=\"#333333\",\n",
    "        #text_align=\"center\", text_font_size=\"12pt\")\n",
    "\n",
    "#p.text([1,2,3,4], [11, 11, 11, 11],\n",
    " #     text=['Jan 2016','Nov 2014','May 2013','Nov 2012'],text_color=\"#333333\",\n",
    "     #text_align=\"center\", text_font_size=\"12pt\")"
   ]
  },
  {
   "cell_type": "code",
   "execution_count": 5,
   "metadata": {
    "collapsed": false
   },
   "outputs": [
    {
     "name": "stdout",
     "output_type": "stream",
     "text": [
      "[0.4, 1.4, 2.4, 3.4, 4.4, 5.4, 6.4, 7.4, 8.4, 9.4]\n",
      "[1.2000000000000002, 2.2, 3.2, 4.2, 5.2, 6.2, 7.2, 8.2, 9.2, 10.2]\n"
     ]
    }
   ],
   "source": [
    "print b\n",
    "print t"
   ]
  },
  {
   "cell_type": "code",
   "execution_count": 6,
   "metadata": {
    "collapsed": false
   },
   "outputs": [
    {
     "data": {
      "text/html": [
       "\n",
       "\n",
       "    <div class=\"plotdiv\" id=\"49a4eac3-5c00-455f-98d3-464e85cc75fe\"></div>\n",
       "<script type=\"text/javascript\">\n",
       "  \n",
       "  (function(global) {\n",
       "    function now() {\n",
       "      return new Date();\n",
       "    }\n",
       "  \n",
       "    if (typeof (window._bokeh_onload_callbacks) === \"undefined\") {\n",
       "      window._bokeh_onload_callbacks = [];\n",
       "    }\n",
       "  \n",
       "    function run_callbacks() {\n",
       "      window._bokeh_onload_callbacks.forEach(function(callback) { callback() });\n",
       "      delete window._bokeh_onload_callbacks\n",
       "      console.info(\"Bokeh: all callbacks have finished\");\n",
       "    }\n",
       "  \n",
       "    function load_libs(js_urls, callback) {\n",
       "      window._bokeh_onload_callbacks.push(callback);\n",
       "      if (window._bokeh_is_loading > 0) {\n",
       "        console.log(\"Bokeh: BokehJS is being loaded, scheduling callback at\", now());\n",
       "        return null;\n",
       "      }\n",
       "      if (js_urls == null || js_urls.length === 0) {\n",
       "        run_callbacks();\n",
       "        return null;\n",
       "      }\n",
       "      console.log(\"Bokeh: BokehJS not loaded, scheduling load and callback at\", now());\n",
       "      window._bokeh_is_loading = js_urls.length;\n",
       "      for (var i = 0; i < js_urls.length; i++) {\n",
       "        var url = js_urls[i];\n",
       "        var s = document.createElement('script');\n",
       "        s.src = url;\n",
       "        s.async = false;\n",
       "        s.onreadystatechange = s.onload = function() {\n",
       "          window._bokeh_is_loading--;\n",
       "          if (window._bokeh_is_loading === 0) {\n",
       "            console.log(\"Bokeh: all BokehJS libraries loaded\");\n",
       "            run_callbacks()\n",
       "          }\n",
       "        };\n",
       "        s.onerror = function() {\n",
       "          console.warn(\"failed to load library \" + url);\n",
       "        };\n",
       "        console.log(\"Bokeh: injecting script tag for BokehJS library: \", url);\n",
       "        document.getElementsByTagName(\"head\")[0].appendChild(s);\n",
       "      }\n",
       "    };var element = document.getElementById(\"49a4eac3-5c00-455f-98d3-464e85cc75fe\");\n",
       "    if (element == null) {\n",
       "      console.log(\"Bokeh: ERROR: autoload.js configured with elementid '49a4eac3-5c00-455f-98d3-464e85cc75fe' but no matching script tag was found. \")\n",
       "      return false;\n",
       "    }var js_urls = [];\n",
       "  \n",
       "    var inline_js = [\n",
       "      function(Bokeh) {\n",
       "        Bokeh.$(function() {\n",
       "            var docs_json = {\"19495cf8-0cd6-4ff9-9ce6-0318cbc35500\": {\"version\": \"0.11.0\", \"roots\": {\"root_ids\": [\"e20eb945-2d41-4cc7-bbb5-8a4ced39b841\"], \"references\": [{\"attributes\": {\"nonselection_glyph\": {\"type\": \"Quad\", \"id\": \"743fa05c-2104-4710-8d68-db3854dd9045\"}, \"data_source\": {\"type\": \"ColumnDataSource\", \"id\": \"ae482129-9542-44ca-9d8e-b2750193530e\"}, \"selection_glyph\": null, \"hover_glyph\": null, \"glyph\": {\"type\": \"Quad\", \"id\": \"2ddd7a6c-cd31-4504-9e70-30f607c0807c\"}}, \"type\": \"GlyphRenderer\", \"id\": \"5c00b132-2673-4753-a22e-116c808aeb93\"}, {\"attributes\": {\"callback\": null, \"column_names\": [\"top\", \"left\", \"right\", \"bottom\"], \"data\": {\"top\": [3.2], \"left\": [1.5], \"right\": [2.3], \"bottom\": [2.4]}}, \"type\": \"ColumnDataSource\", \"id\": \"0ef2d792-d419-4b7d-9023-d46e7540b142\"}, {\"attributes\": {\"callback\": null, \"column_names\": [\"top\", \"left\", \"right\", \"bottom\"], \"data\": {\"top\": [6.2], \"left\": [0.5], \"right\": [1.3], \"bottom\": [5.4]}}, \"type\": \"ColumnDataSource\", \"id\": \"5ed1a60c-7996-473a-934b-c59901e9c842\"}, {\"attributes\": {\"line_color\": {\"value\": \"#7E7E7E\"}, \"right\": {\"field\": \"right\"}, \"fill_color\": {\"value\": \"#7E7E7E\"}, \"bottom\": {\"field\": \"bottom\"}, \"top\": {\"field\": \"top\"}, \"left\": {\"field\": \"left\"}}, \"type\": \"Quad\", \"id\": \"2ddd7a6c-cd31-4504-9e70-30f607c0807c\"}, {\"attributes\": {\"line_color\": {\"value\": \"#1f77b4\"}, \"line_alpha\": {\"value\": 0.1}, \"right\": {\"field\": \"right\"}, \"fill_color\": {\"value\": \"#1f77b4\"}, \"bottom\": {\"field\": \"bottom\"}, \"top\": {\"field\": \"top\"}, \"fill_alpha\": {\"value\": 0.1}, \"left\": {\"field\": \"left\"}}, \"type\": \"Quad\", \"id\": \"598b175b-3a9d-451f-88c8-621200aeb392\"}, {\"attributes\": {\"nonselection_glyph\": {\"type\": \"Quad\", \"id\": \"3da16cf3-0d6f-4410-8481-52e9c6dd04f8\"}, \"data_source\": {\"type\": \"ColumnDataSource\", \"id\": \"816722b5-70d8-416f-a8fd-f6dda83818ab\"}, \"selection_glyph\": null, \"hover_glyph\": null, \"glyph\": {\"type\": \"Quad\", \"id\": \"06524a45-fea4-415a-b800-79510faacb80\"}}, \"type\": \"GlyphRenderer\", \"id\": \"adfe9d84-202d-4307-98ba-5b0077e1c886\"}, {\"attributes\": {}, \"type\": \"CategoricalTicker\", \"id\": \"b8fd3026-e594-420a-8292-393bb1fa3138\"}, {\"attributes\": {\"line_color\": {\"value\": \"#7E7E7E\"}, \"right\": {\"field\": \"right\"}, \"fill_color\": {\"value\": \"#7E7E7E\"}, \"bottom\": {\"field\": \"bottom\"}, \"top\": {\"field\": \"top\"}, \"left\": {\"field\": \"left\"}}, \"type\": \"Quad\", \"id\": \"c24b9654-51fa-413b-9f48-1c0517d41783\"}, {\"attributes\": {\"callback\": null, \"column_names\": [\"top\", \"left\", \"right\", \"bottom\"], \"data\": {\"top\": [4.2], \"left\": [1.5], \"right\": [2.3], \"bottom\": [3.4]}}, \"type\": \"ColumnDataSource\", \"id\": \"c3ec8e49-41d2-48cd-ba6f-c4839dd0dc25\"}, {\"attributes\": {\"nonselection_glyph\": {\"type\": \"Quad\", \"id\": \"626d8ecf-4d1d-4b04-8bba-c1e2a3c7ca2a\"}, \"data_source\": {\"type\": \"ColumnDataSource\", \"id\": \"e127807f-3fac-430f-ae30-30248ad874ee\"}, \"selection_glyph\": null, \"hover_glyph\": null, \"glyph\": {\"type\": \"Quad\", \"id\": \"9f2584a5-c71c-42d6-b91e-d096dc09e64e\"}}, \"type\": \"GlyphRenderer\", \"id\": \"3d429e12-1b98-4f5f-a9c6-068b13d2eb6c\"}, {\"attributes\": {\"nonselection_glyph\": {\"type\": \"Quad\", \"id\": \"7cc6e674-9004-40bf-9770-dd16e2e303ca\"}, \"data_source\": {\"type\": \"ColumnDataSource\", \"id\": \"c0098c8e-6089-42a3-b6b1-037422d539c8\"}, \"selection_glyph\": null, \"hover_glyph\": null, \"glyph\": {\"type\": \"Quad\", \"id\": \"51f7fd4b-b91e-49c0-88fe-b8dbd057cdab\"}}, \"type\": \"GlyphRenderer\", \"id\": \"514ee0e4-f711-4382-ac41-d6ffc29a4be9\"}, {\"attributes\": {\"line_color\": {\"value\": \"#1f77b4\"}, \"line_alpha\": {\"value\": 0.1}, \"right\": {\"field\": \"right\"}, \"fill_color\": {\"value\": \"#1f77b4\"}, \"bottom\": {\"field\": \"bottom\"}, \"top\": {\"field\": \"top\"}, \"fill_alpha\": {\"value\": 0.1}, \"left\": {\"field\": \"left\"}}, \"type\": \"Quad\", \"id\": \"92bb6932-a92b-4c8b-8bff-dc0e3992520b\"}, {\"attributes\": {\"callback\": null, \"column_names\": [\"top\", \"left\", \"right\", \"bottom\"], \"data\": {\"top\": [9.2], \"left\": [3.5], \"right\": [4.3], \"bottom\": [8.4]}}, \"type\": \"ColumnDataSource\", \"id\": \"b03e0326-983b-4a77-bdd2-90b67ec14e55\"}, {\"attributes\": {\"line_color\": {\"value\": \"#1f77b4\"}, \"line_alpha\": {\"value\": 0.1}, \"right\": {\"field\": \"right\"}, \"fill_color\": {\"value\": \"#1f77b4\"}, \"bottom\": {\"field\": \"bottom\"}, \"top\": {\"field\": \"top\"}, \"fill_alpha\": {\"value\": 0.1}, \"left\": {\"field\": \"left\"}}, \"type\": \"Quad\", \"id\": \"eacb10c7-fd29-486c-87ad-4ed6195e19cc\"}, {\"attributes\": {\"line_color\": {\"value\": \"#7E7E7E\"}, \"right\": {\"field\": \"right\"}, \"fill_color\": {\"value\": \"#7E7E7E\"}, \"bottom\": {\"field\": \"bottom\"}, \"top\": {\"field\": \"top\"}, \"left\": {\"field\": \"left\"}}, \"type\": \"Quad\", \"id\": \"9e64ff9c-d8c3-41dc-8b53-2a3ddcd00375\"}, {\"attributes\": {}, \"type\": \"CategoricalTickFormatter\", \"id\": \"07cd5f43-90fe-425e-928c-a84e5f1c8ed3\"}, {\"attributes\": {\"line_color\": {\"value\": \"#7E7E7E\"}, \"right\": {\"field\": \"right\"}, \"fill_color\": {\"value\": \"#7E7E7E\"}, \"bottom\": {\"field\": \"bottom\"}, \"top\": {\"field\": \"top\"}, \"left\": {\"field\": \"left\"}}, \"type\": \"Quad\", \"id\": \"6187e23c-9f4d-4fa3-888d-38d905b41f3e\"}, {\"attributes\": {\"nonselection_glyph\": {\"type\": \"Quad\", \"id\": \"b2e301c0-d5ff-42f0-bf88-e6fcbf176dba\"}, \"data_source\": {\"type\": \"ColumnDataSource\", \"id\": \"521db376-e38a-46bf-a783-5910424997ee\"}, \"selection_glyph\": null, \"hover_glyph\": null, \"glyph\": {\"type\": \"Quad\", \"id\": \"fef083ab-0b68-464f-9cd0-1320311d1161\"}}, \"type\": \"GlyphRenderer\", \"id\": \"ee293233-a953-4097-9ad2-0d137da667b6\"}, {\"attributes\": {\"callback\": null, \"column_names\": [\"top\", \"left\", \"right\", \"bottom\"], \"data\": {\"top\": [2.2], \"left\": [0.5], \"right\": [1.3], \"bottom\": [1.4]}}, \"type\": \"ColumnDataSource\", \"id\": \"9969da3d-df32-453b-ba75-9ff00a875845\"}, {\"attributes\": {\"callback\": null, \"column_names\": [\"top\", \"left\", \"right\", \"bottom\"], \"data\": {\"top\": [8.2], \"left\": [0.5], \"right\": [1.3], \"bottom\": [7.4]}}, \"type\": \"ColumnDataSource\", \"id\": \"707a60cc-cc90-4d3c-aec4-ecee03cdf769\"}, {\"attributes\": {\"nonselection_glyph\": {\"type\": \"Quad\", \"id\": \"c36a8e59-2ea3-4745-b64f-4e643a1b94f5\"}, \"data_source\": {\"type\": \"ColumnDataSource\", \"id\": \"cde2bc12-47ea-458e-9a7a-f1dcb58b1891\"}, \"selection_glyph\": null, \"hover_glyph\": null, \"glyph\": {\"type\": \"Quad\", \"id\": \"b5cc60a8-6038-4773-856a-cad153e0bf1d\"}}, \"type\": \"GlyphRenderer\", \"id\": \"c57f98b8-b7c9-4b2e-a87a-c3a387066ba5\"}, {\"attributes\": {\"line_color\": {\"value\": \"firebrick\"}, \"right\": {\"field\": \"right\"}, \"fill_color\": {\"value\": \"firebrick\"}, \"bottom\": {\"field\": \"bottom\"}, \"top\": {\"field\": \"top\"}, \"left\": {\"field\": \"left\"}}, \"type\": \"Quad\", \"id\": \"d41b8003-5bf7-46e9-8ef8-41e59c525c6f\"}, {\"attributes\": {\"line_color\": {\"value\": \"#7E7E7E\"}, \"right\": {\"field\": \"right\"}, \"fill_color\": {\"value\": \"#7E7E7E\"}, \"bottom\": {\"field\": \"bottom\"}, \"top\": {\"field\": \"top\"}, \"left\": {\"field\": \"left\"}}, \"type\": \"Quad\", \"id\": \"98514720-121e-4aaa-9e8f-4b3e418d8f20\"}, {\"attributes\": {\"line_color\": {\"value\": \"#7E7E7E\"}, \"right\": {\"field\": \"right\"}, \"fill_color\": {\"value\": \"#7E7E7E\"}, \"bottom\": {\"field\": \"bottom\"}, \"top\": {\"field\": \"top\"}, \"left\": {\"field\": \"left\"}}, \"type\": \"Quad\", \"id\": \"0d4cddd0-d012-4be0-abb5-cf609de62b0f\"}, {\"attributes\": {\"callback\": null, \"column_names\": [\"top\", \"left\", \"right\", \"bottom\"], \"data\": {\"top\": [5.2], \"left\": [0.5], \"right\": [1.3], \"bottom\": [4.4]}}, \"type\": \"ColumnDataSource\", \"id\": \"c0098c8e-6089-42a3-b6b1-037422d539c8\"}, {\"attributes\": {\"nonselection_glyph\": {\"type\": \"Quad\", \"id\": \"d8046700-1fc3-47ed-8134-482aa9b28789\"}, \"data_source\": {\"type\": \"ColumnDataSource\", \"id\": \"e1b2ceaa-420d-4e59-9d50-594c475a28b6\"}, \"selection_glyph\": null, \"hover_glyph\": null, \"glyph\": {\"type\": \"Quad\", \"id\": \"0ebb679c-cd58-45f1-a339-f826909a0217\"}}, \"type\": \"GlyphRenderer\", \"id\": \"dc86e48c-0367-4738-a775-a24a6c9a658c\"}, {\"attributes\": {\"plot\": {\"subtype\": \"Figure\", \"type\": \"Plot\", \"id\": \"e20eb945-2d41-4cc7-bbb5-8a4ced39b841\"}, \"grid_line_color\": {\"value\": null}, \"ticker\": {\"type\": \"CategoricalTicker\", \"id\": \"32e76c85-4c3e-4e5b-a218-078a7affd7da\"}}, \"type\": \"Grid\", \"id\": \"52adeeef-ff2b-4511-b85f-f382bee5b7dc\"}, {\"attributes\": {\"line_color\": {\"value\": \"#1f77b4\"}, \"line_alpha\": {\"value\": 0.1}, \"right\": {\"field\": \"right\"}, \"fill_color\": {\"value\": \"#1f77b4\"}, \"bottom\": {\"field\": \"bottom\"}, \"top\": {\"field\": \"top\"}, \"fill_alpha\": {\"value\": 0.1}, \"left\": {\"field\": \"left\"}}, \"type\": \"Quad\", \"id\": \"ec07991b-aeb9-4666-9666-5854be783c9f\"}, {\"attributes\": {\"line_color\": {\"value\": \"#7E7E7E\"}, \"right\": {\"field\": \"right\"}, \"fill_color\": {\"value\": \"#7E7E7E\"}, \"bottom\": {\"field\": \"bottom\"}, \"top\": {\"field\": \"top\"}, \"left\": {\"field\": \"left\"}}, \"type\": \"Quad\", \"id\": \"0ebb679c-cd58-45f1-a339-f826909a0217\"}, {\"attributes\": {\"nonselection_glyph\": {\"type\": \"Quad\", \"id\": \"598b175b-3a9d-451f-88c8-621200aeb392\"}, \"data_source\": {\"type\": \"ColumnDataSource\", \"id\": \"3d6f9255-06e4-4882-ba76-36cbb4febd96\"}, \"selection_glyph\": null, \"hover_glyph\": null, \"glyph\": {\"type\": \"Quad\", \"id\": \"a0c1ce73-2237-4507-8433-bd20db98bdc2\"}}, \"type\": \"GlyphRenderer\", \"id\": \"08343fdb-e515-41fb-9d39-69fb9f04702b\"}, {\"attributes\": {\"callback\": null, \"column_names\": [\"top\", \"left\", \"right\", \"bottom\"], \"data\": {\"top\": [4.2], \"left\": [3.5], \"right\": [4.3], \"bottom\": [3.4]}}, \"type\": \"ColumnDataSource\", \"id\": \"68f6840c-ee43-417d-84eb-5eb604a5545a\"}, {\"attributes\": {\"line_color\": {\"value\": \"#33a02c\"}, \"right\": {\"field\": \"right\"}, \"fill_color\": {\"value\": \"#33a02c\"}, \"bottom\": {\"field\": \"bottom\"}, \"top\": {\"field\": \"top\"}, \"left\": {\"field\": \"left\"}}, \"type\": \"Quad\", \"id\": \"9f2584a5-c71c-42d6-b91e-d096dc09e64e\"}, {\"attributes\": {\"line_color\": {\"value\": \"#7E7E7E\"}, \"right\": {\"field\": \"right\"}, \"fill_color\": {\"value\": \"#7E7E7E\"}, \"bottom\": {\"field\": \"bottom\"}, \"top\": {\"field\": \"top\"}, \"left\": {\"field\": \"left\"}}, \"type\": \"Quad\", \"id\": \"0c7760c8-d5de-421b-9ee8-5358d98c54a5\"}, {\"attributes\": {\"line_color\": {\"value\": \"#1f77b4\"}, \"line_alpha\": {\"value\": 0.1}, \"right\": {\"field\": \"right\"}, \"fill_color\": {\"value\": \"#1f77b4\"}, \"bottom\": {\"field\": \"bottom\"}, \"top\": {\"field\": \"top\"}, \"fill_alpha\": {\"value\": 0.1}, \"left\": {\"field\": \"left\"}}, \"type\": \"Quad\", \"id\": \"fc92c2a8-7683-4e18-92d4-f6447a18dee7\"}, {\"attributes\": {\"callback\": null, \"column_names\": [\"top\", \"left\", \"right\", \"bottom\"], \"data\": {\"top\": [2.2], \"left\": [3.5], \"right\": [4.3], \"bottom\": [1.4]}}, \"type\": \"ColumnDataSource\", \"id\": \"45be36a4-c45a-4d4f-8d92-82416c96774a\"}, {\"attributes\": {\"line_color\": {\"value\": \"#1f77b4\"}, \"line_alpha\": {\"value\": 0.1}, \"right\": {\"field\": \"right\"}, \"fill_color\": {\"value\": \"#1f77b4\"}, \"bottom\": {\"field\": \"bottom\"}, \"top\": {\"field\": \"top\"}, \"fill_alpha\": {\"value\": 0.1}, \"left\": {\"field\": \"left\"}}, \"type\": \"Quad\", \"id\": \"2ed9d238-c828-4e9f-9d74-de92cda0c6b1\"}, {\"attributes\": {\"line_color\": {\"value\": \"#7E7E7E\"}, \"right\": {\"field\": \"right\"}, \"fill_color\": {\"value\": \"#7E7E7E\"}, \"bottom\": {\"field\": \"bottom\"}, \"top\": {\"field\": \"top\"}, \"left\": {\"field\": \"left\"}}, \"type\": \"Quad\", \"id\": \"7c654010-c71a-42ee-a4e1-baf66841dc94\"}, {\"attributes\": {\"line_color\": {\"value\": \"black\"}, \"line_alpha\": {\"value\": 1.0}, \"render_mode\": \"css\", \"bottom_units\": \"screen\", \"level\": \"overlay\", \"top_units\": \"screen\", \"fill_alpha\": {\"value\": 0.5}, \"plot\": null, \"left_units\": \"screen\", \"line_dash\": [4, 4], \"line_width\": {\"value\": 2}, \"right_units\": \"screen\", \"fill_color\": {\"value\": \"lightgrey\"}}, \"type\": \"BoxAnnotation\", \"id\": \"5f7482c4-cfc1-4351-b927-8a281b20323c\"}, {\"attributes\": {\"line_color\": {\"value\": \"firebrick\"}, \"right\": {\"field\": \"right\"}, \"fill_color\": {\"value\": \"firebrick\"}, \"bottom\": {\"field\": \"bottom\"}, \"top\": {\"field\": \"top\"}, \"left\": {\"field\": \"left\"}}, \"type\": \"Quad\", \"id\": \"593871e2-3e5b-4417-9264-22cfe6f75369\"}, {\"attributes\": {\"line_color\": {\"value\": \"firebrick\"}, \"right\": {\"field\": \"right\"}, \"fill_color\": {\"value\": \"firebrick\"}, \"bottom\": {\"field\": \"bottom\"}, \"top\": {\"field\": \"top\"}, \"left\": {\"field\": \"left\"}}, \"type\": \"Quad\", \"id\": \"fef083ab-0b68-464f-9cd0-1320311d1161\"}, {\"attributes\": {\"nonselection_glyph\": {\"type\": \"Quad\", \"id\": \"ae78f5ed-ba72-437d-b3ff-757f81bf73b0\"}, \"data_source\": {\"type\": \"ColumnDataSource\", \"id\": \"053cfca3-a3be-4cff-9e06-92f0fc5ccb68\"}, \"selection_glyph\": null, \"hover_glyph\": null, \"glyph\": {\"type\": \"Quad\", \"id\": \"1974fc25-d746-40ab-aa7e-0a8a32a23a3d\"}}, \"type\": \"GlyphRenderer\", \"id\": \"234ca5f6-9501-497a-b903-b3cb68dc37de\"}, {\"attributes\": {\"callback\": null, \"column_names\": [\"top\", \"left\", \"right\", \"bottom\"], \"data\": {\"top\": [5.2], \"left\": [2.5], \"right\": [3.3], \"bottom\": [4.4]}}, \"type\": \"ColumnDataSource\", \"id\": \"053cfca3-a3be-4cff-9e06-92f0fc5ccb68\"}, {\"attributes\": {\"plot\": {\"subtype\": \"Figure\", \"type\": \"Plot\", \"id\": \"e20eb945-2d41-4cc7-bbb5-8a4ced39b841\"}}, \"type\": \"WheelZoomTool\", \"id\": \"df008b42-1cf1-42ad-b7e2-978b425f6b49\"}, {\"attributes\": {\"callback\": null, \"column_names\": [\"top\", \"left\", \"right\", \"bottom\"], \"data\": {\"top\": [4.2], \"left\": [2.5], \"right\": [3.3], \"bottom\": [3.4]}}, \"type\": \"ColumnDataSource\", \"id\": \"9b2015b5-547c-4058-9998-e9fa030b556b\"}, {\"attributes\": {\"callback\": null, \"column_names\": [\"top\", \"left\", \"right\", \"bottom\"], \"data\": {\"top\": [10.2], \"left\": [3.5], \"right\": [4.3], \"bottom\": [9.4]}}, \"type\": \"ColumnDataSource\", \"id\": \"50c1fda5-5a07-4324-8c98-1b80c9300013\"}, {\"attributes\": {\"line_color\": {\"value\": \"#1f77b4\"}, \"line_alpha\": {\"value\": 0.1}, \"right\": {\"field\": \"right\"}, \"fill_color\": {\"value\": \"#1f77b4\"}, \"bottom\": {\"field\": \"bottom\"}, \"top\": {\"field\": \"top\"}, \"fill_alpha\": {\"value\": 0.1}, \"left\": {\"field\": \"left\"}}, \"type\": \"Quad\", \"id\": \"46548183-098c-4036-93b2-60ab2afee97d\"}, {\"attributes\": {\"plot\": {\"subtype\": \"Figure\", \"type\": \"Plot\", \"id\": \"e20eb945-2d41-4cc7-bbb5-8a4ced39b841\"}}, \"type\": \"ResizeTool\", \"id\": \"29e4a3a8-7061-4ffc-9e20-09fa87ca3236\"}, {\"attributes\": {\"line_color\": {\"value\": \"#1f77b4\"}, \"line_alpha\": {\"value\": 0.1}, \"right\": {\"field\": \"right\"}, \"fill_color\": {\"value\": \"#1f77b4\"}, \"bottom\": {\"field\": \"bottom\"}, \"top\": {\"field\": \"top\"}, \"fill_alpha\": {\"value\": 0.1}, \"left\": {\"field\": \"left\"}}, \"type\": \"Quad\", \"id\": \"2b36f584-d66f-4e3c-bb89-d727f970cbe7\"}, {\"attributes\": {\"plot\": {\"subtype\": \"Figure\", \"type\": \"Plot\", \"id\": \"e20eb945-2d41-4cc7-bbb5-8a4ced39b841\"}}, \"type\": \"PanTool\", \"id\": \"587c5f34-932b-47c2-a937-45c0f0b8a9f3\"}, {\"attributes\": {\"line_color\": {\"value\": \"firebrick\"}, \"right\": {\"field\": \"right\"}, \"fill_color\": {\"value\": \"firebrick\"}, \"bottom\": {\"field\": \"bottom\"}, \"top\": {\"field\": \"top\"}, \"left\": {\"field\": \"left\"}}, \"type\": \"Quad\", \"id\": \"06524a45-fea4-415a-b800-79510faacb80\"}, {\"attributes\": {\"line_color\": {\"value\": \"#7E7E7E\"}, \"right\": {\"field\": \"right\"}, \"fill_color\": {\"value\": \"#7E7E7E\"}, \"bottom\": {\"field\": \"bottom\"}, \"top\": {\"field\": \"top\"}, \"left\": {\"field\": \"left\"}}, \"type\": \"Quad\", \"id\": \"705091ea-e5f8-4a34-a311-815e510fefe9\"}, {\"attributes\": {\"nonselection_glyph\": {\"type\": \"Quad\", \"id\": \"eacb10c7-fd29-486c-87ad-4ed6195e19cc\"}, \"data_source\": {\"type\": \"ColumnDataSource\", \"id\": \"b79f56f3-37ac-4793-a031-b5c61ec392d0\"}, \"selection_glyph\": null, \"hover_glyph\": null, \"glyph\": {\"type\": \"Quad\", \"id\": \"ef753e04-6f4a-4b0e-891c-43ed08b563a7\"}}, \"type\": \"GlyphRenderer\", \"id\": \"76a7ddbe-848c-4eed-85c0-980438587570\"}, {\"attributes\": {\"line_color\": {\"value\": \"#1f77b4\"}, \"line_alpha\": {\"value\": 0.1}, \"right\": {\"field\": \"right\"}, \"fill_color\": {\"value\": \"#1f77b4\"}, \"bottom\": {\"field\": \"bottom\"}, \"top\": {\"field\": \"top\"}, \"fill_alpha\": {\"value\": 0.1}, \"left\": {\"field\": \"left\"}}, \"type\": \"Quad\", \"id\": \"d8046700-1fc3-47ed-8134-482aa9b28789\"}, {\"attributes\": {\"callback\": null, \"factors\": [\"Jan 2016\", \"Nov 2014\", \"May 2013\", \"Nov 2012\"]}, \"type\": \"FactorRange\", \"id\": \"91f8c6aa-7097-4116-9567-0dae5fbe9a01\"}, {\"attributes\": {\"callback\": null, \"column_names\": [\"top\", \"left\", \"right\", \"bottom\"], \"data\": {\"top\": [2.2], \"left\": [2.5], \"right\": [3.3], \"bottom\": [1.4]}}, \"type\": \"ColumnDataSource\", \"id\": \"874b9717-241c-45be-ac08-9ec5ca6c75d7\"}, {\"attributes\": {\"line_color\": {\"value\": \"#33a02c\"}, \"right\": {\"field\": \"right\"}, \"fill_color\": {\"value\": \"#33a02c\"}, \"bottom\": {\"field\": \"bottom\"}, \"top\": {\"field\": \"top\"}, \"left\": {\"field\": \"left\"}}, \"type\": \"Quad\", \"id\": \"269953e8-4112-4f9e-a859-bfacb24da583\"}, {\"attributes\": {\"callback\": null, \"column_names\": [\"top\", \"left\", \"right\", \"bottom\"], \"data\": {\"top\": [10.2], \"left\": [0.5], \"right\": [1.3], \"bottom\": [9.4]}}, \"type\": \"ColumnDataSource\", \"id\": \"521db376-e38a-46bf-a783-5910424997ee\"}, {\"attributes\": {\"line_color\": {\"value\": \"#7E7E7E\"}, \"right\": {\"field\": \"right\"}, \"fill_color\": {\"value\": \"#7E7E7E\"}, \"bottom\": {\"field\": \"bottom\"}, \"top\": {\"field\": \"top\"}, \"left\": {\"field\": \"left\"}}, \"type\": \"Quad\", \"id\": \"353f2846-e655-453e-abce-9fa2cc849353\"}, {\"attributes\": {\"line_color\": {\"value\": \"#1f77b4\"}, \"line_alpha\": {\"value\": 0.1}, \"right\": {\"field\": \"right\"}, \"fill_color\": {\"value\": \"#1f77b4\"}, \"bottom\": {\"field\": \"bottom\"}, \"top\": {\"field\": \"top\"}, \"fill_alpha\": {\"value\": 0.1}, \"left\": {\"field\": \"left\"}}, \"type\": \"Quad\", \"id\": \"791e89ef-398b-4c51-96f4-9ecd9e9d967c\"}, {\"attributes\": {\"callback\": null, \"column_names\": [\"top\", \"left\", \"right\", \"bottom\"], \"data\": {\"top\": [9.2], \"left\": [1.5], \"right\": [2.3], \"bottom\": [8.4]}}, \"type\": \"ColumnDataSource\", \"id\": \"e1b2ceaa-420d-4e59-9d50-594c475a28b6\"}, {\"attributes\": {\"callback\": null, \"column_names\": [\"top\", \"left\", \"right\", \"bottom\"], \"data\": {\"top\": [1.2000000000000002], \"left\": [0.5], \"right\": [1.3], \"bottom\": [0.4]}}, \"type\": \"ColumnDataSource\", \"id\": \"9ca3982f-568f-4946-93a5-d301df20f624\"}, {\"attributes\": {\"callback\": null, \"column_names\": [\"top\", \"left\", \"right\", \"bottom\"], \"data\": {\"top\": [7.2], \"left\": [1.5], \"right\": [2.3], \"bottom\": [6.4]}}, \"type\": \"ColumnDataSource\", \"id\": \"e127807f-3fac-430f-ae30-30248ad874ee\"}, {\"attributes\": {\"nonselection_glyph\": {\"type\": \"Quad\", \"id\": \"7b1bbc33-016c-418d-8583-b06f3c2e99db\"}, \"data_source\": {\"type\": \"ColumnDataSource\", \"id\": \"39548329-3711-49df-8eac-d56c073e028b\"}, \"selection_glyph\": null, \"hover_glyph\": null, \"glyph\": {\"type\": \"Quad\", \"id\": \"c05eae49-4ee4-4065-a885-2361f68de239\"}}, \"type\": \"GlyphRenderer\", \"id\": \"41597b3d-f1af-481e-8a07-61f44436f856\"}, {\"attributes\": {\"line_color\": {\"value\": \"#1f77b4\"}, \"line_alpha\": {\"value\": 0.1}, \"right\": {\"field\": \"right\"}, \"fill_color\": {\"value\": \"#1f77b4\"}, \"bottom\": {\"field\": \"bottom\"}, \"top\": {\"field\": \"top\"}, \"fill_alpha\": {\"value\": 0.1}, \"left\": {\"field\": \"left\"}}, \"type\": \"Quad\", \"id\": \"3da16cf3-0d6f-4410-8481-52e9c6dd04f8\"}, {\"attributes\": {}, \"type\": \"CategoricalTicker\", \"id\": \"32e76c85-4c3e-4e5b-a218-078a7affd7da\"}, {\"attributes\": {\"line_color\": {\"value\": \"#1f77b4\"}, \"line_alpha\": {\"value\": 0.1}, \"right\": {\"field\": \"right\"}, \"fill_color\": {\"value\": \"#1f77b4\"}, \"bottom\": {\"field\": \"bottom\"}, \"top\": {\"field\": \"top\"}, \"fill_alpha\": {\"value\": 0.1}, \"left\": {\"field\": \"left\"}}, \"type\": \"Quad\", \"id\": \"31c8339f-58ba-4e8b-939f-fa7505ca4fd0\"}, {\"attributes\": {\"callback\": null, \"column_names\": [\"top\", \"left\", \"right\", \"bottom\"], \"data\": {\"top\": [3.2], \"left\": [2.5], \"right\": [3.3], \"bottom\": [2.4]}}, \"type\": \"ColumnDataSource\", \"id\": \"ae482129-9542-44ca-9d8e-b2750193530e\"}, {\"attributes\": {\"x_range\": {\"type\": \"FactorRange\", \"id\": \"91f8c6aa-7097-4116-9567-0dae5fbe9a01\"}, \"title\": \"Visualization of Priors - CT Abdomen and Pelvis\", \"y_range\": {\"type\": \"FactorRange\", \"id\": \"2d8a3749-716f-466c-ac1d-c2f72e12a242\"}, \"renderers\": [{\"type\": \"CategoricalAxis\", \"id\": \"867694cc-7d88-4ff6-b640-f18c444013e8\"}, {\"type\": \"Grid\", \"id\": \"52adeeef-ff2b-4511-b85f-f382bee5b7dc\"}, {\"type\": \"CategoricalAxis\", \"id\": \"d3d6a4b6-1e31-488f-ad38-6729145da436\"}, {\"type\": \"Grid\", \"id\": \"a94ab0d6-f899-4a34-92dd-165dfc48a245\"}, {\"type\": \"BoxAnnotation\", \"id\": \"5f7482c4-cfc1-4351-b927-8a281b20323c\"}, {\"type\": \"GlyphRenderer\", \"id\": \"d4f72a98-7868-4efa-9f49-2f92afcb73d6\"}, {\"type\": \"GlyphRenderer\", \"id\": \"e30a8993-eb4f-4620-898c-a43c16895a68\"}, {\"type\": \"GlyphRenderer\", \"id\": \"d2ce895b-505c-418b-9432-185fd95196db\"}, {\"type\": \"GlyphRenderer\", \"id\": \"7020ba8a-5b26-4f8d-85cf-a7443e7cc515\"}, {\"type\": \"GlyphRenderer\", \"id\": \"406e17c9-a271-443c-819a-27a3f46ca244\"}, {\"type\": \"GlyphRenderer\", \"id\": \"e841b930-a1af-40d6-9e41-6e58880b6add\"}, {\"type\": \"GlyphRenderer\", \"id\": \"b4b89ef5-d114-4750-a860-bc3c533978e2\"}, {\"type\": \"GlyphRenderer\", \"id\": \"9752aae3-7c83-44e3-9e65-c566f254fa8a\"}, {\"type\": \"GlyphRenderer\", \"id\": \"4bec0fa0-fb33-41da-99db-481cd22f72e8\"}, {\"type\": \"GlyphRenderer\", \"id\": \"edef7242-c3ab-4826-9939-0e515edacc8c\"}, {\"type\": \"GlyphRenderer\", \"id\": \"5c00b132-2673-4753-a22e-116c808aeb93\"}, {\"type\": \"GlyphRenderer\", \"id\": \"adfe9d84-202d-4307-98ba-5b0077e1c886\"}, {\"type\": \"GlyphRenderer\", \"id\": \"f6705c6f-7183-40be-934f-de2641d1abc8\"}, {\"type\": \"GlyphRenderer\", \"id\": \"56bd7bc5-952e-4c54-b3a7-71a836c8c1f3\"}, {\"type\": \"GlyphRenderer\", \"id\": \"c7ecf875-67aa-43bb-9b64-deca6fcfe1fe\"}, {\"type\": \"GlyphRenderer\", \"id\": \"17d10094-1290-4d24-88b1-e8b19c7e027c\"}, {\"type\": \"GlyphRenderer\", \"id\": \"514ee0e4-f711-4382-ac41-d6ffc29a4be9\"}, {\"type\": \"GlyphRenderer\", \"id\": \"be82abe9-6265-4448-9e9a-236bb6204e9a\"}, {\"type\": \"GlyphRenderer\", \"id\": \"234ca5f6-9501-497a-b903-b3cb68dc37de\"}, {\"type\": \"GlyphRenderer\", \"id\": \"93e3ad44-02bd-4656-883e-1d7def831655\"}, {\"type\": \"GlyphRenderer\", \"id\": \"3019e9f2-9f00-476a-90f7-36c1945a59da\"}, {\"type\": \"GlyphRenderer\", \"id\": \"24de4c87-857f-4fcd-b3f0-20951ad46542\"}, {\"type\": \"GlyphRenderer\", \"id\": \"bb3d133f-e3ea-4b9a-90e2-c7c0fdf6d7b1\"}, {\"type\": \"GlyphRenderer\", \"id\": \"a4f22d1b-94b1-4e70-8321-89d4b7744d7b\"}, {\"type\": \"GlyphRenderer\", \"id\": \"08343fdb-e515-41fb-9d39-69fb9f04702b\"}, {\"type\": \"GlyphRenderer\", \"id\": \"3d429e12-1b98-4f5f-a9c6-068b13d2eb6c\"}, {\"type\": \"GlyphRenderer\", \"id\": \"9c83f683-9a72-4d8e-8b82-da25d55c7414\"}, {\"type\": \"GlyphRenderer\", \"id\": \"ec904275-5648-4291-8082-785748d234a8\"}, {\"type\": \"GlyphRenderer\", \"id\": \"01d075e8-43c9-48e8-a8d3-993c8e5bf5de\"}, {\"type\": \"GlyphRenderer\", \"id\": \"6f8f0d1f-e456-44f3-b6f4-76a0e302defd\"}, {\"type\": \"GlyphRenderer\", \"id\": \"3ae22c1b-15a9-481a-9756-87c9927b10db\"}, {\"type\": \"GlyphRenderer\", \"id\": \"76a7ddbe-848c-4eed-85c0-980438587570\"}, {\"type\": \"GlyphRenderer\", \"id\": \"41597b3d-f1af-481e-8a07-61f44436f856\"}, {\"type\": \"GlyphRenderer\", \"id\": \"dc86e48c-0367-4738-a775-a24a6c9a658c\"}, {\"type\": \"GlyphRenderer\", \"id\": \"a297c734-331a-4cdf-ab16-a10df71f8380\"}, {\"type\": \"GlyphRenderer\", \"id\": \"beb47244-88ce-4c53-9f6b-9c4123397ed4\"}, {\"type\": \"GlyphRenderer\", \"id\": \"ee293233-a953-4097-9ad2-0d137da667b6\"}, {\"type\": \"GlyphRenderer\", \"id\": \"ddf0fbc1-9d26-4972-b37c-3a3fc20a95d0\"}, {\"type\": \"GlyphRenderer\", \"id\": \"c57f98b8-b7c9-4b2e-a87a-c3a387066ba5\"}, {\"type\": \"GlyphRenderer\", \"id\": \"65c9cd84-d5bf-4323-9939-c3196d912008\"}], \"below\": [{\"type\": \"CategoricalAxis\", \"id\": \"867694cc-7d88-4ff6-b640-f18c444013e8\"}], \"tool_events\": {\"type\": \"ToolEvents\", \"id\": \"b0c38f9f-0eec-4cbe-a740-7783c94a5218\"}, \"tools\": [{\"type\": \"PanTool\", \"id\": \"587c5f34-932b-47c2-a937-45c0f0b8a9f3\"}, {\"type\": \"WheelZoomTool\", \"id\": \"df008b42-1cf1-42ad-b7e2-978b425f6b49\"}, {\"type\": \"BoxZoomTool\", \"id\": \"56d0d2b4-5b63-414c-ba2c-60aad755e2d9\"}, {\"type\": \"PreviewSaveTool\", \"id\": \"5a279524-ffdb-4d20-a533-2c420bd46999\"}, {\"type\": \"ResizeTool\", \"id\": \"29e4a3a8-7061-4ffc-9e20-09fa87ca3236\"}, {\"type\": \"ResetTool\", \"id\": \"1bfbd2ad-40cf-4214-a826-92ab0ac3fbf6\"}, {\"type\": \"HelpTool\", \"id\": \"d0c8a157-16d4-4cc2-b124-6f8792c613b6\"}], \"left\": [{\"type\": \"CategoricalAxis\", \"id\": \"d3d6a4b6-1e31-488f-ad38-6729145da436\"}]}, \"type\": \"Plot\", \"id\": \"e20eb945-2d41-4cc7-bbb5-8a4ced39b841\", \"subtype\": \"Figure\"}, {\"attributes\": {\"nonselection_glyph\": {\"type\": \"Quad\", \"id\": \"0af9cf35-a9c9-4513-ab88-eb547a2b6b46\"}, \"data_source\": {\"type\": \"ColumnDataSource\", \"id\": \"4c782b37-8b57-4a3e-b4f5-cc760056eba1\"}, \"selection_glyph\": null, \"hover_glyph\": null, \"glyph\": {\"type\": \"Quad\", \"id\": \"9e64ff9c-d8c3-41dc-8b53-2a3ddcd00375\"}}, \"type\": \"GlyphRenderer\", \"id\": \"ec904275-5648-4291-8082-785748d234a8\"}, {\"attributes\": {\"line_color\": {\"value\": \"#1f77b4\"}, \"line_alpha\": {\"value\": 0.1}, \"right\": {\"field\": \"right\"}, \"fill_color\": {\"value\": \"#1f77b4\"}, \"bottom\": {\"field\": \"bottom\"}, \"top\": {\"field\": \"top\"}, \"fill_alpha\": {\"value\": 0.1}, \"left\": {\"field\": \"left\"}}, \"type\": \"Quad\", \"id\": \"24379e1a-6896-41ce-b62f-8a9598bb7ade\"}, {\"attributes\": {\"nonselection_glyph\": {\"type\": \"Quad\", \"id\": \"ec07991b-aeb9-4666-9666-5854be783c9f\"}, \"data_source\": {\"type\": \"ColumnDataSource\", \"id\": \"9969da3d-df32-453b-ba75-9ff00a875845\"}, \"selection_glyph\": null, \"hover_glyph\": null, \"glyph\": {\"type\": \"Quad\", \"id\": \"d9dd158c-163b-4e41-aef0-725e98640899\"}}, \"type\": \"GlyphRenderer\", \"id\": \"406e17c9-a271-443c-819a-27a3f46ca244\"}, {\"attributes\": {\"nonselection_glyph\": {\"type\": \"Quad\", \"id\": \"fc92c2a8-7683-4e18-92d4-f6447a18dee7\"}, \"data_source\": {\"type\": \"ColumnDataSource\", \"id\": \"a86e6b02-7c10-459e-9f6a-cbe63444c4a9\"}, \"selection_glyph\": null, \"hover_glyph\": null, \"glyph\": {\"type\": \"Quad\", \"id\": \"b4d4fa5e-6f51-4b6f-ac24-ae2856a9710b\"}}, \"type\": \"GlyphRenderer\", \"id\": \"a4f22d1b-94b1-4e70-8321-89d4b7744d7b\"}, {\"attributes\": {\"line_color\": {\"value\": \"#1f77b4\"}, \"line_alpha\": {\"value\": 0.1}, \"right\": {\"field\": \"right\"}, \"fill_color\": {\"value\": \"#1f77b4\"}, \"bottom\": {\"field\": \"bottom\"}, \"top\": {\"field\": \"top\"}, \"fill_alpha\": {\"value\": 0.1}, \"left\": {\"field\": \"left\"}}, \"type\": \"Quad\", \"id\": \"b484bd13-6053-4291-a722-8cd9bbb83c3e\"}, {\"attributes\": {\"line_color\": {\"value\": \"#1f77b4\"}, \"line_alpha\": {\"value\": 0.1}, \"right\": {\"field\": \"right\"}, \"fill_color\": {\"value\": \"#1f77b4\"}, \"bottom\": {\"field\": \"bottom\"}, \"top\": {\"field\": \"top\"}, \"fill_alpha\": {\"value\": 0.1}, \"left\": {\"field\": \"left\"}}, \"type\": \"Quad\", \"id\": \"eb27a628-dc76-4f77-8b2f-abe4f27d698d\"}, {\"attributes\": {\"line_color\": {\"value\": \"#7E7E7E\"}, \"right\": {\"field\": \"right\"}, \"fill_color\": {\"value\": \"#7E7E7E\"}, \"bottom\": {\"field\": \"bottom\"}, \"top\": {\"field\": \"top\"}, \"left\": {\"field\": \"left\"}}, \"type\": \"Quad\", \"id\": \"66e3d2c7-cceb-4a17-8334-6f2adfbbf889\"}, {\"attributes\": {\"callback\": null, \"column_names\": [\"top\", \"left\", \"right\", \"bottom\"], \"data\": {\"top\": [5.2], \"left\": [3.5], \"right\": [4.3], \"bottom\": [4.4]}}, \"type\": \"ColumnDataSource\", \"id\": \"562b9dfc-159f-434a-9011-3cd05425c4ab\"}, {\"attributes\": {\"line_color\": {\"value\": \"#7E7E7E\"}, \"right\": {\"field\": \"right\"}, \"fill_color\": {\"value\": \"#7E7E7E\"}, \"bottom\": {\"field\": \"bottom\"}, \"top\": {\"field\": \"top\"}, \"left\": {\"field\": \"left\"}}, \"type\": \"Quad\", \"id\": \"7fc5ed4f-2d46-456a-96d7-a40615098f39\"}, {\"attributes\": {\"line_color\": {\"value\": \"#1f77b4\"}, \"line_alpha\": {\"value\": 0.1}, \"right\": {\"field\": \"right\"}, \"fill_color\": {\"value\": \"#1f77b4\"}, \"bottom\": {\"field\": \"bottom\"}, \"top\": {\"field\": \"top\"}, \"fill_alpha\": {\"value\": 0.1}, \"left\": {\"field\": \"left\"}}, \"type\": \"Quad\", \"id\": \"57be25f6-0d58-4ee9-9a41-634916c33fc7\"}, {\"attributes\": {\"callback\": null, \"column_names\": [\"top\", \"left\", \"right\", \"bottom\"], \"data\": {\"top\": [9.2], \"left\": [2.5], \"right\": [3.3], \"bottom\": [8.4]}}, \"type\": \"ColumnDataSource\", \"id\": \"2a3149cc-a8d9-4ed6-b63e-35196ecf798f\"}, {\"attributes\": {\"nonselection_glyph\": {\"type\": \"Quad\", \"id\": \"9de71245-3dc0-4513-8070-51831c2d5f2f\"}, \"data_source\": {\"type\": \"ColumnDataSource\", \"id\": \"874b9717-241c-45be-ac08-9ec5ca6c75d7\"}, \"selection_glyph\": null, \"hover_glyph\": null, \"glyph\": {\"type\": \"Quad\", \"id\": \"7fc5ed4f-2d46-456a-96d7-a40615098f39\"}}, \"type\": \"GlyphRenderer\", \"id\": \"b4b89ef5-d114-4750-a860-bc3c533978e2\"}, {\"attributes\": {\"nonselection_glyph\": {\"type\": \"Quad\", \"id\": \"b484bd13-6053-4291-a722-8cd9bbb83c3e\"}, \"data_source\": {\"type\": \"ColumnDataSource\", \"id\": \"50c1fda5-5a07-4324-8c98-1b80c9300013\"}, \"selection_glyph\": null, \"hover_glyph\": null, \"glyph\": {\"type\": \"Quad\", \"id\": \"2b8ad53b-e3ed-491c-86e4-37736573035b\"}}, \"type\": \"GlyphRenderer\", \"id\": \"65c9cd84-d5bf-4323-9939-c3196d912008\"}, {\"attributes\": {\"line_color\": {\"value\": \"#7E7E7E\"}, \"right\": {\"field\": \"right\"}, \"fill_color\": {\"value\": \"#7E7E7E\"}, \"bottom\": {\"field\": \"bottom\"}, \"top\": {\"field\": \"top\"}, \"left\": {\"field\": \"left\"}}, \"type\": \"Quad\", \"id\": \"b056ba1d-f25f-42dd-a7b0-4acd9998fe62\"}, {\"attributes\": {\"line_color\": {\"value\": \"#1f77b4\"}, \"line_alpha\": {\"value\": 0.1}, \"right\": {\"field\": \"right\"}, \"fill_color\": {\"value\": \"#1f77b4\"}, \"bottom\": {\"field\": \"bottom\"}, \"top\": {\"field\": \"top\"}, \"fill_alpha\": {\"value\": 0.1}, \"left\": {\"field\": \"left\"}}, \"type\": \"Quad\", \"id\": \"fa7e5f73-cb98-43b7-9848-5656f2e2cccf\"}, {\"attributes\": {\"line_color\": {\"value\": \"#7E7E7E\"}, \"right\": {\"field\": \"right\"}, \"fill_color\": {\"value\": \"#7E7E7E\"}, \"bottom\": {\"field\": \"bottom\"}, \"top\": {\"field\": \"top\"}, \"left\": {\"field\": \"left\"}}, \"type\": \"Quad\", \"id\": \"2b8ad53b-e3ed-491c-86e4-37736573035b\"}, {\"attributes\": {\"line_color\": {\"value\": \"#1f77b4\"}, \"line_alpha\": {\"value\": 0.1}, \"right\": {\"field\": \"right\"}, \"fill_color\": {\"value\": \"#1f77b4\"}, \"bottom\": {\"field\": \"bottom\"}, \"top\": {\"field\": \"top\"}, \"fill_alpha\": {\"value\": 0.1}, \"left\": {\"field\": \"left\"}}, \"type\": \"Quad\", \"id\": \"0af9cf35-a9c9-4513-ab88-eb547a2b6b46\"}, {\"attributes\": {\"line_color\": {\"value\": \"#1f77b4\"}, \"line_alpha\": {\"value\": 0.1}, \"right\": {\"field\": \"right\"}, \"fill_color\": {\"value\": \"#1f77b4\"}, \"bottom\": {\"field\": \"bottom\"}, \"top\": {\"field\": \"top\"}, \"fill_alpha\": {\"value\": 0.1}, \"left\": {\"field\": \"left\"}}, \"type\": \"Quad\", \"id\": \"e6d9a5f6-6cfd-49f5-aa93-24107b6306d2\"}, {\"attributes\": {\"nonselection_glyph\": {\"type\": \"Quad\", \"id\": \"439a32b2-8a5a-4e90-b8c3-aae1d4d2d0fa\"}, \"data_source\": {\"type\": \"ColumnDataSource\", \"id\": \"092f19fb-f569-4841-a305-8e575881e991\"}, \"selection_glyph\": null, \"hover_glyph\": null, \"glyph\": {\"type\": \"Quad\", \"id\": \"353f2846-e655-453e-abce-9fa2cc849353\"}}, \"type\": \"GlyphRenderer\", \"id\": \"d2ce895b-505c-418b-9432-185fd95196db\"}, {\"attributes\": {\"callback\": null, \"column_names\": [\"top\", \"left\", \"right\", \"bottom\"], \"data\": {\"top\": [7.2], \"left\": [0.5], \"right\": [1.3], \"bottom\": [6.4]}}, \"type\": \"ColumnDataSource\", \"id\": \"3d6f9255-06e4-4882-ba76-36cbb4febd96\"}, {\"attributes\": {}, \"type\": \"CategoricalTickFormatter\", \"id\": \"927b1f93-434c-4701-a612-9bd709ea9c28\"}, {\"attributes\": {\"line_color\": {\"value\": \"#1f77b4\"}, \"line_alpha\": {\"value\": 0.1}, \"right\": {\"field\": \"right\"}, \"fill_color\": {\"value\": \"#1f77b4\"}, \"bottom\": {\"field\": \"bottom\"}, \"top\": {\"field\": \"top\"}, \"fill_alpha\": {\"value\": 0.1}, \"left\": {\"field\": \"left\"}}, \"type\": \"Quad\", \"id\": \"7cc6e674-9004-40bf-9770-dd16e2e303ca\"}, {\"attributes\": {\"callback\": null, \"column_names\": [\"top\", \"left\", \"right\", \"bottom\"], \"data\": {\"top\": [3.2], \"left\": [0.5], \"right\": [1.3], \"bottom\": [2.4]}}, \"type\": \"ColumnDataSource\", \"id\": \"cc04d8bb-7695-4b61-b331-b5f71a53719b\"}, {\"attributes\": {\"line_color\": {\"value\": \"#1f77b4\"}, \"line_alpha\": {\"value\": 0.1}, \"right\": {\"field\": \"right\"}, \"fill_color\": {\"value\": \"#1f77b4\"}, \"bottom\": {\"field\": \"bottom\"}, \"top\": {\"field\": \"top\"}, \"fill_alpha\": {\"value\": 0.1}, \"left\": {\"field\": \"left\"}}, \"type\": \"Quad\", \"id\": \"56791c4f-a906-47de-8d34-13792ebd607e\"}, {\"attributes\": {\"line_color\": {\"value\": \"#1f77b4\"}, \"line_alpha\": {\"value\": 0.1}, \"right\": {\"field\": \"right\"}, \"fill_color\": {\"value\": \"#1f77b4\"}, \"bottom\": {\"field\": \"bottom\"}, \"top\": {\"field\": \"top\"}, \"fill_alpha\": {\"value\": 0.1}, \"left\": {\"field\": \"left\"}}, \"type\": \"Quad\", \"id\": \"ae78f5ed-ba72-437d-b3ff-757f81bf73b0\"}, {\"attributes\": {\"callback\": null, \"column_names\": [\"top\", \"left\", \"right\", \"bottom\"], \"data\": {\"top\": [7.2], \"left\": [2.5], \"right\": [3.3], \"bottom\": [6.4]}}, \"type\": \"ColumnDataSource\", \"id\": \"00c284d9-16d8-40ad-8b48-a5413ace0fa2\"}, {\"attributes\": {\"nonselection_glyph\": {\"type\": \"Quad\", \"id\": \"15cb92b3-401a-490e-9f5f-d75fc902d16e\"}, \"data_source\": {\"type\": \"ColumnDataSource\", \"id\": \"45be36a4-c45a-4d4f-8d92-82416c96774a\"}, \"selection_glyph\": null, \"hover_glyph\": null, \"glyph\": {\"type\": \"Quad\", \"id\": \"593871e2-3e5b-4417-9264-22cfe6f75369\"}}, \"type\": \"GlyphRenderer\", \"id\": \"9752aae3-7c83-44e3-9e65-c566f254fa8a\"}, {\"attributes\": {\"line_color\": {\"value\": \"#1f77b4\"}, \"line_alpha\": {\"value\": 0.1}, \"right\": {\"field\": \"right\"}, \"fill_color\": {\"value\": \"#1f77b4\"}, \"bottom\": {\"field\": \"bottom\"}, \"top\": {\"field\": \"top\"}, \"fill_alpha\": {\"value\": 0.1}, \"left\": {\"field\": \"left\"}}, \"type\": \"Quad\", \"id\": \"22ec16ed-2517-4135-9a51-c42b53307bbf\"}, {\"attributes\": {\"callback\": null, \"column_names\": [\"top\", \"left\", \"right\", \"bottom\"], \"data\": {\"top\": [10.2], \"left\": [2.5], \"right\": [3.3], \"bottom\": [9.4]}}, \"type\": \"ColumnDataSource\", \"id\": \"cde2bc12-47ea-458e-9a7a-f1dcb58b1891\"}, {\"attributes\": {\"nonselection_glyph\": {\"type\": \"Quad\", \"id\": \"e6d9a5f6-6cfd-49f5-aa93-24107b6306d2\"}, \"data_source\": {\"type\": \"ColumnDataSource\", \"id\": \"b03e0326-983b-4a77-bdd2-90b67ec14e55\"}, \"selection_glyph\": null, \"hover_glyph\": null, \"glyph\": {\"type\": \"Quad\", \"id\": \"c24b9654-51fa-413b-9f48-1c0517d41783\"}}, \"type\": \"GlyphRenderer\", \"id\": \"beb47244-88ce-4c53-9f6b-9c4123397ed4\"}, {\"attributes\": {\"callback\": null, \"column_names\": [\"top\", \"left\", \"right\", \"bottom\"], \"data\": {\"top\": [8.2], \"left\": [2.5], \"right\": [3.3], \"bottom\": [7.4]}}, \"type\": \"ColumnDataSource\", \"id\": \"af5ad4a9-a8b6-4c4e-bf74-53120b86c3a9\"}, {\"attributes\": {\"callback\": null, \"column_names\": [\"top\", \"left\", \"right\", \"bottom\"], \"data\": {\"top\": [1.2000000000000002], \"left\": [1.5], \"right\": [2.3], \"bottom\": [0.4]}}, \"type\": \"ColumnDataSource\", \"id\": \"8fdfba83-8bbb-47ef-a67e-cb39cca9d7b2\"}, {\"attributes\": {\"line_color\": {\"value\": \"firebrick\"}, \"right\": {\"field\": \"right\"}, \"fill_color\": {\"value\": \"firebrick\"}, \"bottom\": {\"field\": \"bottom\"}, \"top\": {\"field\": \"top\"}, \"left\": {\"field\": \"left\"}}, \"type\": \"Quad\", \"id\": \"1974fc25-d746-40ab-aa7e-0a8a32a23a3d\"}, {\"attributes\": {\"callback\": null, \"column_names\": [\"top\", \"left\", \"right\", \"bottom\"], \"data\": {\"top\": [6.2], \"left\": [2.5], \"right\": [3.3], \"bottom\": [5.4]}}, \"type\": \"ColumnDataSource\", \"id\": \"60cdd53b-df77-4e7b-a19c-063ed898f984\"}, {\"attributes\": {\"line_color\": {\"value\": \"#7E7E7E\"}, \"right\": {\"field\": \"right\"}, \"fill_color\": {\"value\": \"#7E7E7E\"}, \"bottom\": {\"field\": \"bottom\"}, \"top\": {\"field\": \"top\"}, \"left\": {\"field\": \"left\"}}, \"type\": \"Quad\", \"id\": \"d9dd158c-163b-4e41-aef0-725e98640899\"}, {\"attributes\": {\"line_color\": {\"value\": \"#7E7E7E\"}, \"right\": {\"field\": \"right\"}, \"fill_color\": {\"value\": \"#7E7E7E\"}, \"bottom\": {\"field\": \"bottom\"}, \"top\": {\"field\": \"top\"}, \"left\": {\"field\": \"left\"}}, \"type\": \"Quad\", \"id\": \"8b6e0cec-a234-4179-8102-eaee7c991fce\"}, {\"attributes\": {\"line_color\": {\"value\": \"#1f77b4\"}, \"line_alpha\": {\"value\": 0.1}, \"right\": {\"field\": \"right\"}, \"fill_color\": {\"value\": \"#1f77b4\"}, \"bottom\": {\"field\": \"bottom\"}, \"top\": {\"field\": \"top\"}, \"fill_alpha\": {\"value\": 0.1}, \"left\": {\"field\": \"left\"}}, \"type\": \"Quad\", \"id\": \"15cb92b3-401a-490e-9f5f-d75fc902d16e\"}, {\"attributes\": {\"line_color\": {\"value\": \"firebrick\"}, \"right\": {\"field\": \"right\"}, \"fill_color\": {\"value\": \"firebrick\"}, \"bottom\": {\"field\": \"bottom\"}, \"top\": {\"field\": \"top\"}, \"left\": {\"field\": \"left\"}}, \"type\": \"Quad\", \"id\": \"5325ffed-c4ad-4d7c-a250-0b3f8a1dcc54\"}, {\"attributes\": {\"line_color\": {\"value\": \"#7E7E7E\"}, \"right\": {\"field\": \"right\"}, \"fill_color\": {\"value\": \"#7E7E7E\"}, \"bottom\": {\"field\": \"bottom\"}, \"top\": {\"field\": \"top\"}, \"left\": {\"field\": \"left\"}}, \"type\": \"Quad\", \"id\": \"211479f3-d6cf-4c5d-a30d-8d7e15b005f8\"}, {\"attributes\": {\"callback\": null, \"column_names\": [\"top\", \"left\", \"right\", \"bottom\"], \"data\": {\"top\": [1.2000000000000002], \"left\": [2.5], \"right\": [3.3], \"bottom\": [0.4]}}, \"type\": \"ColumnDataSource\", \"id\": \"092f19fb-f569-4841-a305-8e575881e991\"}, {\"attributes\": {\"plot\": {\"subtype\": \"Figure\", \"type\": \"Plot\", \"id\": \"e20eb945-2d41-4cc7-bbb5-8a4ced39b841\"}}, \"type\": \"PreviewSaveTool\", \"id\": \"5a279524-ffdb-4d20-a533-2c420bd46999\"}, {\"attributes\": {\"line_color\": {\"value\": \"#1f77b4\"}, \"line_alpha\": {\"value\": 0.1}, \"right\": {\"field\": \"right\"}, \"fill_color\": {\"value\": \"#1f77b4\"}, \"bottom\": {\"field\": \"bottom\"}, \"top\": {\"field\": \"top\"}, \"fill_alpha\": {\"value\": 0.1}, \"left\": {\"field\": \"left\"}}, \"type\": \"Quad\", \"id\": \"439a32b2-8a5a-4e90-b8c3-aae1d4d2d0fa\"}, {\"attributes\": {\"line_color\": {\"value\": \"#1f77b4\"}, \"line_alpha\": {\"value\": 0.1}, \"right\": {\"field\": \"right\"}, \"fill_color\": {\"value\": \"#1f77b4\"}, \"bottom\": {\"field\": \"bottom\"}, \"top\": {\"field\": \"top\"}, \"fill_alpha\": {\"value\": 0.1}, \"left\": {\"field\": \"left\"}}, \"type\": \"Quad\", \"id\": \"9de71245-3dc0-4513-8070-51831c2d5f2f\"}, {\"attributes\": {\"line_color\": {\"value\": \"#1f77b4\"}, \"line_alpha\": {\"value\": 0.1}, \"right\": {\"field\": \"right\"}, \"fill_color\": {\"value\": \"#1f77b4\"}, \"bottom\": {\"field\": \"bottom\"}, \"top\": {\"field\": \"top\"}, \"fill_alpha\": {\"value\": 0.1}, \"left\": {\"field\": \"left\"}}, \"type\": \"Quad\", \"id\": \"c36a8e59-2ea3-4745-b64f-4e643a1b94f5\"}, {\"attributes\": {\"nonselection_glyph\": {\"type\": \"Quad\", \"id\": \"92bb6932-a92b-4c8b-8bff-dc0e3992520b\"}, \"data_source\": {\"type\": \"ColumnDataSource\", \"id\": \"56d8dd44-7f33-4cf1-9d98-5f59fbc2e81d\"}, \"selection_glyph\": null, \"hover_glyph\": null, \"glyph\": {\"type\": \"Quad\", \"id\": \"58a5c51d-24a3-4e41-a8a4-84ada7fdc1b6\"}}, \"type\": \"GlyphRenderer\", \"id\": \"6f8f0d1f-e456-44f3-b6f4-76a0e302defd\"}, {\"attributes\": {\"callback\": null, \"column_names\": [\"top\", \"left\", \"right\", \"bottom\"], \"data\": {\"top\": [8.2], \"left\": [1.5], \"right\": [2.3], \"bottom\": [7.4]}}, \"type\": \"ColumnDataSource\", \"id\": \"56d8dd44-7f33-4cf1-9d98-5f59fbc2e81d\"}, {\"attributes\": {\"line_color\": {\"value\": \"#1f77b4\"}, \"line_alpha\": {\"value\": 0.1}, \"right\": {\"field\": \"right\"}, \"fill_color\": {\"value\": \"#1f77b4\"}, \"bottom\": {\"field\": \"bottom\"}, \"top\": {\"field\": \"top\"}, \"fill_alpha\": {\"value\": 0.1}, \"left\": {\"field\": \"left\"}}, \"type\": \"Quad\", \"id\": \"ccbb970d-231d-42a8-8a9b-9d43e1956f60\"}, {\"attributes\": {\"callback\": null, \"column_names\": [\"top\", \"left\", \"right\", \"bottom\"], \"data\": {\"top\": [1.2000000000000002], \"left\": [3.5], \"right\": [4.3], \"bottom\": [0.4]}}, \"type\": \"ColumnDataSource\", \"id\": \"605abcfa-db2f-40e8-a481-ccf0c5d580af\"}, {\"attributes\": {\"line_color\": {\"value\": \"#1f77b4\"}, \"line_alpha\": {\"value\": 0.1}, \"right\": {\"field\": \"right\"}, \"fill_color\": {\"value\": \"#1f77b4\"}, \"bottom\": {\"field\": \"bottom\"}, \"top\": {\"field\": \"top\"}, \"fill_alpha\": {\"value\": 0.1}, \"left\": {\"field\": \"left\"}}, \"type\": \"Quad\", \"id\": \"0a65a219-02fa-4b23-ae67-c2cb5d700453\"}, {\"attributes\": {\"callback\": null, \"column_names\": [\"top\", \"left\", \"right\", \"bottom\"], \"data\": {\"top\": [2.2], \"left\": [1.5], \"right\": [2.3], \"bottom\": [1.4]}}, \"type\": \"ColumnDataSource\", \"id\": \"2119e72a-6d83-475e-bd77-e3f6f60930f6\"}, {\"attributes\": {\"line_color\": {\"value\": \"#7E7E7E\"}, \"right\": {\"field\": \"right\"}, \"fill_color\": {\"value\": \"#7E7E7E\"}, \"bottom\": {\"field\": \"bottom\"}, \"top\": {\"field\": \"top\"}, \"left\": {\"field\": \"left\"}}, \"type\": \"Quad\", \"id\": \"58a5c51d-24a3-4e41-a8a4-84ada7fdc1b6\"}, {\"attributes\": {\"line_color\": {\"value\": \"#1f77b4\"}, \"line_alpha\": {\"value\": 0.1}, \"right\": {\"field\": \"right\"}, \"fill_color\": {\"value\": \"#1f77b4\"}, \"bottom\": {\"field\": \"bottom\"}, \"top\": {\"field\": \"top\"}, \"fill_alpha\": {\"value\": 0.1}, \"left\": {\"field\": \"left\"}}, \"type\": \"Quad\", \"id\": \"b2e301c0-d5ff-42f0-bf88-e6fcbf176dba\"}, {\"attributes\": {\"callback\": null, \"column_names\": [\"top\", \"left\", \"right\", \"bottom\"], \"data\": {\"top\": [8.2], \"left\": [3.5], \"right\": [4.3], \"bottom\": [7.4]}}, \"type\": \"ColumnDataSource\", \"id\": \"b79f56f3-37ac-4793-a031-b5c61ec392d0\"}, {\"attributes\": {\"callback\": null, \"column_names\": [\"top\", \"left\", \"right\", \"bottom\"], \"data\": {\"top\": [6.2], \"left\": [1.5], \"right\": [2.3], \"bottom\": [5.4]}}, \"type\": \"ColumnDataSource\", \"id\": \"d88fe0ac-8a5f-4263-8189-9ed4e31e14b9\"}, {\"attributes\": {\"nonselection_glyph\": {\"type\": \"Quad\", \"id\": \"ccbb970d-231d-42a8-8a9b-9d43e1956f60\"}, \"data_source\": {\"type\": \"ColumnDataSource\", \"id\": \"0b7272f1-cd45-4d92-9913-3c622d5f6041\"}, \"selection_glyph\": null, \"hover_glyph\": null, \"glyph\": {\"type\": \"Quad\", \"id\": \"0d4cddd0-d012-4be0-abb5-cf609de62b0f\"}}, \"type\": \"GlyphRenderer\", \"id\": \"be82abe9-6265-4448-9e9a-236bb6204e9a\"}, {\"attributes\": {\"line_color\": {\"value\": \"#7E7E7E\"}, \"right\": {\"field\": \"right\"}, \"fill_color\": {\"value\": \"#7E7E7E\"}, \"bottom\": {\"field\": \"bottom\"}, \"top\": {\"field\": \"top\"}, \"left\": {\"field\": \"left\"}}, \"type\": \"Quad\", \"id\": \"ef753e04-6f4a-4b0e-891c-43ed08b563a7\"}, {\"attributes\": {\"nonselection_glyph\": {\"type\": \"Quad\", \"id\": \"24379e1a-6896-41ce-b62f-8a9598bb7ade\"}, \"data_source\": {\"type\": \"ColumnDataSource\", \"id\": \"2119e72a-6d83-475e-bd77-e3f6f60930f6\"}, \"selection_glyph\": null, \"hover_glyph\": null, \"glyph\": {\"type\": \"Quad\", \"id\": \"66f90e76-865d-4511-9407-689762b164a5\"}}, \"type\": \"GlyphRenderer\", \"id\": \"e841b930-a1af-40d6-9e41-6e58880b6add\"}, {\"attributes\": {\"nonselection_glyph\": {\"type\": \"Quad\", \"id\": \"2ed9d238-c828-4e9f-9d74-de92cda0c6b1\"}, \"data_source\": {\"type\": \"ColumnDataSource\", \"id\": \"af5ad4a9-a8b6-4c4e-bf74-53120b86c3a9\"}, \"selection_glyph\": null, \"hover_glyph\": null, \"glyph\": {\"type\": \"Quad\", \"id\": \"cf038b6f-5bbc-4796-ad39-5ba3b67a0750\"}}, \"type\": \"GlyphRenderer\", \"id\": \"3ae22c1b-15a9-481a-9756-87c9927b10db\"}, {\"attributes\": {\"plot\": {\"subtype\": \"Figure\", \"type\": \"Plot\", \"id\": \"e20eb945-2d41-4cc7-bbb5-8a4ced39b841\"}}, \"type\": \"ResetTool\", \"id\": \"1bfbd2ad-40cf-4214-a826-92ab0ac3fbf6\"}, {\"attributes\": {\"nonselection_glyph\": {\"type\": \"Quad\", \"id\": \"56791c4f-a906-47de-8d34-13792ebd607e\"}, \"data_source\": {\"type\": \"ColumnDataSource\", \"id\": \"c3ec8e49-41d2-48cd-ba6f-c4839dd0dc25\"}, \"selection_glyph\": null, \"hover_glyph\": null, \"glyph\": {\"type\": \"Quad\", \"id\": \"7c654010-c71a-42ee-a4e1-baf66841dc94\"}}, \"type\": \"GlyphRenderer\", \"id\": \"56bd7bc5-952e-4c54-b3a7-71a836c8c1f3\"}, {\"attributes\": {\"line_color\": {\"value\": \"#1f77b4\"}, \"line_alpha\": {\"value\": 0.1}, \"right\": {\"field\": \"right\"}, \"fill_color\": {\"value\": \"#1f77b4\"}, \"bottom\": {\"field\": \"bottom\"}, \"top\": {\"field\": \"top\"}, \"fill_alpha\": {\"value\": 0.1}, \"left\": {\"field\": \"left\"}}, \"type\": \"Quad\", \"id\": \"7b1bbc33-016c-418d-8583-b06f3c2e99db\"}, {\"attributes\": {\"callback\": null, \"column_names\": [\"top\", \"left\", \"right\", \"bottom\"], \"data\": {\"top\": [9.2], \"left\": [0.5], \"right\": [1.3], \"bottom\": [8.4]}}, \"type\": \"ColumnDataSource\", \"id\": \"39548329-3711-49df-8eac-d56c073e028b\"}, {\"attributes\": {\"nonselection_glyph\": {\"type\": \"Quad\", \"id\": \"9b84416c-3e63-47fe-b90e-0ab416e2ee28\"}, \"data_source\": {\"type\": \"ColumnDataSource\", \"id\": \"9ca3982f-568f-4946-93a5-d301df20f624\"}, \"selection_glyph\": null, \"hover_glyph\": null, \"glyph\": {\"type\": \"Quad\", \"id\": \"d8179c31-181e-45a0-9d05-eddda08db6c6\"}}, \"type\": \"GlyphRenderer\", \"id\": \"d4f72a98-7868-4efa-9f49-2f92afcb73d6\"}, {\"attributes\": {\"nonselection_glyph\": {\"type\": \"Quad\", \"id\": \"fa7e5f73-cb98-43b7-9848-5656f2e2cccf\"}, \"data_source\": {\"type\": \"ColumnDataSource\", \"id\": \"562b9dfc-159f-434a-9011-3cd05425c4ab\"}, \"selection_glyph\": null, \"hover_glyph\": null, \"glyph\": {\"type\": \"Quad\", \"id\": \"b056ba1d-f25f-42dd-a7b0-4acd9998fe62\"}}, \"type\": \"GlyphRenderer\", \"id\": \"93e3ad44-02bd-4656-883e-1d7def831655\"}, {\"attributes\": {\"line_color\": {\"value\": \"firebrick\"}, \"right\": {\"field\": \"right\"}, \"fill_color\": {\"value\": \"firebrick\"}, \"bottom\": {\"field\": \"bottom\"}, \"top\": {\"field\": \"top\"}, \"left\": {\"field\": \"left\"}}, \"type\": \"Quad\", \"id\": \"e28fe2ec-da9e-409a-9b00-01c69bd1a7c8\"}, {\"attributes\": {\"line_color\": {\"value\": \"#7E7E7E\"}, \"right\": {\"field\": \"right\"}, \"fill_color\": {\"value\": \"#7E7E7E\"}, \"bottom\": {\"field\": \"bottom\"}, \"top\": {\"field\": \"top\"}, \"left\": {\"field\": \"left\"}}, \"type\": \"Quad\", \"id\": \"b5cc60a8-6038-4773-856a-cad153e0bf1d\"}, {\"attributes\": {\"nonselection_glyph\": {\"type\": \"Quad\", \"id\": \"57be25f6-0d58-4ee9-9a41-634916c33fc7\"}, \"data_source\": {\"type\": \"ColumnDataSource\", \"id\": \"2a3149cc-a8d9-4ed6-b63e-35196ecf798f\"}, \"selection_glyph\": null, \"hover_glyph\": null, \"glyph\": {\"type\": \"Quad\", \"id\": \"8b6e0cec-a234-4179-8102-eaee7c991fce\"}}, \"type\": \"GlyphRenderer\", \"id\": \"a297c734-331a-4cdf-ab16-a10df71f8380\"}, {\"attributes\": {\"plot\": {\"subtype\": \"Figure\", \"type\": \"Plot\", \"id\": \"e20eb945-2d41-4cc7-bbb5-8a4ced39b841\"}, \"grid_line_dash\": [6, 4], \"grid_line_alpha\": {\"value\": 0.5}, \"ticker\": {\"type\": \"CategoricalTicker\", \"id\": \"b8fd3026-e594-420a-8292-393bb1fa3138\"}, \"dimension\": 1}, \"type\": \"Grid\", \"id\": \"a94ab0d6-f899-4a34-92dd-165dfc48a245\"}, {\"attributes\": {\"callback\": null, \"column_names\": [\"top\", \"left\", \"right\", \"bottom\"], \"data\": {\"top\": [10.2], \"left\": [1.5], \"right\": [2.3], \"bottom\": [9.4]}}, \"type\": \"ColumnDataSource\", \"id\": \"6fc2841e-75a5-421d-bcaa-896760ff6525\"}, {\"attributes\": {\"line_color\": {\"value\": \"#7E7E7E\"}, \"right\": {\"field\": \"right\"}, \"fill_color\": {\"value\": \"#7E7E7E\"}, \"bottom\": {\"field\": \"bottom\"}, \"top\": {\"field\": \"top\"}, \"left\": {\"field\": \"left\"}}, \"type\": \"Quad\", \"id\": \"51f7fd4b-b91e-49c0-88fe-b8dbd057cdab\"}, {\"attributes\": {\"nonselection_glyph\": {\"type\": \"Quad\", \"id\": \"c1746e3c-084f-498f-8484-fae23393310b\"}, \"data_source\": {\"type\": \"ColumnDataSource\", \"id\": \"9b2015b5-547c-4058-9998-e9fa030b556b\"}, \"selection_glyph\": null, \"hover_glyph\": null, \"glyph\": {\"type\": \"Quad\", \"id\": \"e28fe2ec-da9e-409a-9b00-01c69bd1a7c8\"}}, \"type\": \"GlyphRenderer\", \"id\": \"c7ecf875-67aa-43bb-9b64-deca6fcfe1fe\"}, {\"attributes\": {\"nonselection_glyph\": {\"type\": \"Quad\", \"id\": \"2b36f584-d66f-4e3c-bb89-d727f970cbe7\"}, \"data_source\": {\"type\": \"ColumnDataSource\", \"id\": \"707a60cc-cc90-4d3c-aec4-ecee03cdf769\"}, \"selection_glyph\": null, \"hover_glyph\": null, \"glyph\": {\"type\": \"Quad\", \"id\": \"269953e8-4112-4f9e-a859-bfacb24da583\"}}, \"type\": \"GlyphRenderer\", \"id\": \"01d075e8-43c9-48e8-a8d3-993c8e5bf5de\"}, {\"attributes\": {\"nonselection_glyph\": {\"type\": \"Quad\", \"id\": \"8ba2f767-3d80-4940-8799-30578483ee19\"}, \"data_source\": {\"type\": \"ColumnDataSource\", \"id\": \"cc04d8bb-7695-4b61-b331-b5f71a53719b\"}, \"selection_glyph\": null, \"hover_glyph\": null, \"glyph\": {\"type\": \"Quad\", \"id\": \"705091ea-e5f8-4a34-a311-815e510fefe9\"}}, \"type\": \"GlyphRenderer\", \"id\": \"4bec0fa0-fb33-41da-99db-481cd22f72e8\"}, {\"attributes\": {\"line_color\": {\"value\": \"firebrick\"}, \"right\": {\"field\": \"right\"}, \"fill_color\": {\"value\": \"firebrick\"}, \"bottom\": {\"field\": \"bottom\"}, \"top\": {\"field\": \"top\"}, \"left\": {\"field\": \"left\"}}, \"type\": \"Quad\", \"id\": \"c05eae49-4ee4-4065-a885-2361f68de239\"}, {\"attributes\": {\"line_color\": {\"value\": \"#1f77b4\"}, \"line_alpha\": {\"value\": 0.1}, \"right\": {\"field\": \"right\"}, \"fill_color\": {\"value\": \"#1f77b4\"}, \"bottom\": {\"field\": \"bottom\"}, \"top\": {\"field\": \"top\"}, \"fill_alpha\": {\"value\": 0.1}, \"left\": {\"field\": \"left\"}}, \"type\": \"Quad\", \"id\": \"b1e39897-5083-4fad-b733-0d09aa96e567\"}, {\"attributes\": {\"line_color\": {\"value\": \"#7E7E7E\"}, \"right\": {\"field\": \"right\"}, \"fill_color\": {\"value\": \"#7E7E7E\"}, \"bottom\": {\"field\": \"bottom\"}, \"top\": {\"field\": \"top\"}, \"left\": {\"field\": \"left\"}}, \"type\": \"Quad\", \"id\": \"0234e14c-155e-4632-8ba2-037eb9b3916b\"}, {\"attributes\": {\"line_color\": {\"value\": \"#1f77b4\"}, \"line_alpha\": {\"value\": 0.1}, \"right\": {\"field\": \"right\"}, \"fill_color\": {\"value\": \"#1f77b4\"}, \"bottom\": {\"field\": \"bottom\"}, \"top\": {\"field\": \"top\"}, \"fill_alpha\": {\"value\": 0.1}, \"left\": {\"field\": \"left\"}}, \"type\": \"Quad\", \"id\": \"626d8ecf-4d1d-4b04-8bba-c1e2a3c7ca2a\"}, {\"attributes\": {\"plot\": {\"subtype\": \"Figure\", \"type\": \"Plot\", \"id\": \"e20eb945-2d41-4cc7-bbb5-8a4ced39b841\"}, \"axis_label\": \"Dates\", \"formatter\": {\"type\": \"CategoricalTickFormatter\", \"id\": \"927b1f93-434c-4701-a612-9bd709ea9c28\"}, \"ticker\": {\"type\": \"CategoricalTicker\", \"id\": \"32e76c85-4c3e-4e5b-a218-078a7affd7da\"}}, \"type\": \"CategoricalAxis\", \"id\": \"867694cc-7d88-4ff6-b640-f18c444013e8\"}, {\"attributes\": {\"line_color\": {\"value\": \"#1f77b4\"}, \"line_alpha\": {\"value\": 0.1}, \"right\": {\"field\": \"right\"}, \"fill_color\": {\"value\": \"#1f77b4\"}, \"bottom\": {\"field\": \"bottom\"}, \"top\": {\"field\": \"top\"}, \"fill_alpha\": {\"value\": 0.1}, \"left\": {\"field\": \"left\"}}, \"type\": \"Quad\", \"id\": \"7fc920f6-d0ed-4eba-993e-6f52103612a2\"}, {\"attributes\": {\"nonselection_glyph\": {\"type\": \"Quad\", \"id\": \"7fc920f6-d0ed-4eba-993e-6f52103612a2\"}, \"data_source\": {\"type\": \"ColumnDataSource\", \"id\": \"d88fe0ac-8a5f-4263-8189-9ed4e31e14b9\"}, \"selection_glyph\": null, \"hover_glyph\": null, \"glyph\": {\"type\": \"Quad\", \"id\": \"d41b8003-5bf7-46e9-8ef8-41e59c525c6f\"}}, \"type\": \"GlyphRenderer\", \"id\": \"24de4c87-857f-4fcd-b3f0-20951ad46542\"}, {\"attributes\": {\"line_color\": {\"value\": \"#7E7E7E\"}, \"right\": {\"field\": \"right\"}, \"fill_color\": {\"value\": \"#7E7E7E\"}, \"bottom\": {\"field\": \"bottom\"}, \"top\": {\"field\": \"top\"}, \"left\": {\"field\": \"left\"}}, \"type\": \"Quad\", \"id\": \"66f90e76-865d-4511-9407-689762b164a5\"}, {\"attributes\": {\"line_color\": {\"value\": \"#1f77b4\"}, \"line_alpha\": {\"value\": 0.1}, \"right\": {\"field\": \"right\"}, \"fill_color\": {\"value\": \"#1f77b4\"}, \"bottom\": {\"field\": \"bottom\"}, \"top\": {\"field\": \"top\"}, \"fill_alpha\": {\"value\": 0.1}, \"left\": {\"field\": \"left\"}}, \"type\": \"Quad\", \"id\": \"c1746e3c-084f-498f-8484-fae23393310b\"}, {\"attributes\": {\"plot\": {\"subtype\": \"Figure\", \"type\": \"Plot\", \"id\": \"e20eb945-2d41-4cc7-bbb5-8a4ced39b841\"}, \"overlay\": {\"type\": \"BoxAnnotation\", \"id\": \"5f7482c4-cfc1-4351-b927-8a281b20323c\"}}, \"type\": \"BoxZoomTool\", \"id\": \"56d0d2b4-5b63-414c-ba2c-60aad755e2d9\"}, {\"attributes\": {\"plot\": {\"subtype\": \"Figure\", \"type\": \"Plot\", \"id\": \"e20eb945-2d41-4cc7-bbb5-8a4ced39b841\"}}, \"type\": \"HelpTool\", \"id\": \"d0c8a157-16d4-4cc2-b124-6f8792c613b6\"}, {\"attributes\": {\"line_color\": {\"value\": \"#7E7E7E\"}, \"right\": {\"field\": \"right\"}, \"fill_color\": {\"value\": \"#7E7E7E\"}, \"bottom\": {\"field\": \"bottom\"}, \"top\": {\"field\": \"top\"}, \"left\": {\"field\": \"left\"}}, \"type\": \"Quad\", \"id\": \"cf038b6f-5bbc-4796-ad39-5ba3b67a0750\"}, {\"attributes\": {\"nonselection_glyph\": {\"type\": \"Quad\", \"id\": \"b1e39897-5083-4fad-b733-0d09aa96e567\"}, \"data_source\": {\"type\": \"ColumnDataSource\", \"id\": \"68f6840c-ee43-417d-84eb-5eb604a5545a\"}, \"selection_glyph\": null, \"hover_glyph\": null, \"glyph\": {\"type\": \"Quad\", \"id\": \"c3942463-c07e-42d2-a2f6-4757852cbc65\"}}, \"type\": \"GlyphRenderer\", \"id\": \"17d10094-1290-4d24-88b1-e8b19c7e027c\"}, {\"attributes\": {\"line_color\": {\"value\": \"#1f77b4\"}, \"line_alpha\": {\"value\": 0.1}, \"right\": {\"field\": \"right\"}, \"fill_color\": {\"value\": \"#1f77b4\"}, \"bottom\": {\"field\": \"bottom\"}, \"top\": {\"field\": \"top\"}, \"fill_alpha\": {\"value\": 0.1}, \"left\": {\"field\": \"left\"}}, \"type\": \"Quad\", \"id\": \"56708fff-6f1d-4d79-800a-9b2118649e7e\"}, {\"attributes\": {}, \"type\": \"ToolEvents\", \"id\": \"b0c38f9f-0eec-4cbe-a740-7783c94a5218\"}, {\"attributes\": {\"line_color\": {\"value\": \"#1f77b4\"}, \"line_alpha\": {\"value\": 0.1}, \"right\": {\"field\": \"right\"}, \"fill_color\": {\"value\": \"#1f77b4\"}, \"bottom\": {\"field\": \"bottom\"}, \"top\": {\"field\": \"top\"}, \"fill_alpha\": {\"value\": 0.1}, \"left\": {\"field\": \"left\"}}, \"type\": \"Quad\", \"id\": \"b63b0bde-f0e5-406f-8d59-702113a1ba66\"}, {\"attributes\": {\"line_color\": {\"value\": \"#33a02c\"}, \"right\": {\"field\": \"right\"}, \"fill_color\": {\"value\": \"#33a02c\"}, \"bottom\": {\"field\": \"bottom\"}, \"top\": {\"field\": \"top\"}, \"left\": {\"field\": \"left\"}}, \"type\": \"Quad\", \"id\": \"a0c1ce73-2237-4507-8433-bd20db98bdc2\"}, {\"attributes\": {\"line_color\": {\"value\": \"#1f77b4\"}, \"line_alpha\": {\"value\": 0.1}, \"right\": {\"field\": \"right\"}, \"fill_color\": {\"value\": \"#1f77b4\"}, \"bottom\": {\"field\": \"bottom\"}, \"top\": {\"field\": \"top\"}, \"fill_alpha\": {\"value\": 0.1}, \"left\": {\"field\": \"left\"}}, \"type\": \"Quad\", \"id\": \"743fa05c-2104-4710-8d68-db3854dd9045\"}, {\"attributes\": {\"callback\": null, \"column_names\": [\"top\", \"left\", \"right\", \"bottom\"], \"data\": {\"top\": [4.2], \"left\": [0.5], \"right\": [1.3], \"bottom\": [3.4]}}, \"type\": \"ColumnDataSource\", \"id\": \"3d711297-aae2-4e80-b0a6-941337616b5c\"}, {\"attributes\": {\"nonselection_glyph\": {\"type\": \"Quad\", \"id\": \"0a65a219-02fa-4b23-ae67-c2cb5d700453\"}, \"data_source\": {\"type\": \"ColumnDataSource\", \"id\": \"60cdd53b-df77-4e7b-a19c-063ed898f984\"}, \"selection_glyph\": null, \"hover_glyph\": null, \"glyph\": {\"type\": \"Quad\", \"id\": \"66e3d2c7-cceb-4a17-8334-6f2adfbbf889\"}}, \"type\": \"GlyphRenderer\", \"id\": \"bb3d133f-e3ea-4b9a-90e2-c7c0fdf6d7b1\"}, {\"attributes\": {\"line_color\": {\"value\": \"#7E7E7E\"}, \"right\": {\"field\": \"right\"}, \"fill_color\": {\"value\": \"#7E7E7E\"}, \"bottom\": {\"field\": \"bottom\"}, \"top\": {\"field\": \"top\"}, \"left\": {\"field\": \"left\"}}, \"type\": \"Quad\", \"id\": \"2fb5d21c-3c01-496b-b3e8-76812d294796\"}, {\"attributes\": {\"line_color\": {\"value\": \"#7E7E7E\"}, \"right\": {\"field\": \"right\"}, \"fill_color\": {\"value\": \"#7E7E7E\"}, \"bottom\": {\"field\": \"bottom\"}, \"top\": {\"field\": \"top\"}, \"left\": {\"field\": \"left\"}}, \"type\": \"Quad\", \"id\": \"b4d4fa5e-6f51-4b6f-ac24-ae2856a9710b\"}, {\"attributes\": {\"callback\": null, \"column_names\": [\"top\", \"left\", \"right\", \"bottom\"], \"data\": {\"top\": [6.2], \"left\": [3.5], \"right\": [4.3], \"bottom\": [5.4]}}, \"type\": \"ColumnDataSource\", \"id\": \"a86e6b02-7c10-459e-9f6a-cbe63444c4a9\"}, {\"attributes\": {\"nonselection_glyph\": {\"type\": \"Quad\", \"id\": \"46548183-098c-4036-93b2-60ab2afee97d\"}, \"data_source\": {\"type\": \"ColumnDataSource\", \"id\": \"8fdfba83-8bbb-47ef-a67e-cb39cca9d7b2\"}, \"selection_glyph\": null, \"hover_glyph\": null, \"glyph\": {\"type\": \"Quad\", \"id\": \"211479f3-d6cf-4c5d-a30d-8d7e15b005f8\"}}, \"type\": \"GlyphRenderer\", \"id\": \"e30a8993-eb4f-4620-898c-a43c16895a68\"}, {\"attributes\": {\"callback\": null, \"column_names\": [\"top\", \"left\", \"right\", \"bottom\"], \"data\": {\"top\": [7.2], \"left\": [3.5], \"right\": [4.3], \"bottom\": [6.4]}}, \"type\": \"ColumnDataSource\", \"id\": \"4c782b37-8b57-4a3e-b4f5-cc760056eba1\"}, {\"attributes\": {\"line_color\": {\"value\": \"#7E7E7E\"}, \"right\": {\"field\": \"right\"}, \"fill_color\": {\"value\": \"#7E7E7E\"}, \"bottom\": {\"field\": \"bottom\"}, \"top\": {\"field\": \"top\"}, \"left\": {\"field\": \"left\"}}, \"type\": \"Quad\", \"id\": \"d8179c31-181e-45a0-9d05-eddda08db6c6\"}, {\"attributes\": {\"nonselection_glyph\": {\"type\": \"Quad\", \"id\": \"791e89ef-398b-4c51-96f4-9ecd9e9d967c\"}, \"data_source\": {\"type\": \"ColumnDataSource\", \"id\": \"6fc2841e-75a5-421d-bcaa-896760ff6525\"}, \"selection_glyph\": null, \"hover_glyph\": null, \"glyph\": {\"type\": \"Quad\", \"id\": \"98514720-121e-4aaa-9e8f-4b3e418d8f20\"}}, \"type\": \"GlyphRenderer\", \"id\": \"ddf0fbc1-9d26-4972-b37c-3a3fc20a95d0\"}, {\"attributes\": {\"nonselection_glyph\": {\"type\": \"Quad\", \"id\": \"22ec16ed-2517-4135-9a51-c42b53307bbf\"}, \"data_source\": {\"type\": \"ColumnDataSource\", \"id\": \"00c284d9-16d8-40ad-8b48-a5413ace0fa2\"}, \"selection_glyph\": null, \"hover_glyph\": null, \"glyph\": {\"type\": \"Quad\", \"id\": \"2fb5d21c-3c01-496b-b3e8-76812d294796\"}}, \"type\": \"GlyphRenderer\", \"id\": \"9c83f683-9a72-4d8e-8b82-da25d55c7414\"}, {\"attributes\": {\"nonselection_glyph\": {\"type\": \"Quad\", \"id\": \"eb27a628-dc76-4f77-8b2f-abe4f27d698d\"}, \"data_source\": {\"type\": \"ColumnDataSource\", \"id\": \"3d711297-aae2-4e80-b0a6-941337616b5c\"}, \"selection_glyph\": null, \"hover_glyph\": null, \"glyph\": {\"type\": \"Quad\", \"id\": \"0234e14c-155e-4632-8ba2-037eb9b3916b\"}}, \"type\": \"GlyphRenderer\", \"id\": \"f6705c6f-7183-40be-934f-de2641d1abc8\"}, {\"attributes\": {\"line_color\": {\"value\": \"#1f77b4\"}, \"line_alpha\": {\"value\": 0.1}, \"right\": {\"field\": \"right\"}, \"fill_color\": {\"value\": \"#1f77b4\"}, \"bottom\": {\"field\": \"bottom\"}, \"top\": {\"field\": \"top\"}, \"fill_alpha\": {\"value\": 0.1}, \"left\": {\"field\": \"left\"}}, \"type\": \"Quad\", \"id\": \"9b84416c-3e63-47fe-b90e-0ab416e2ee28\"}, {\"attributes\": {\"callback\": null, \"factors\": [\"Stigmata - recentl calculi\", \"Renal calculi\", \"Hydronephosis\", \"Inflammatory bowel disease\", \"Bowel obstruction\", \"Abdominal pain\", \"Colonic-stool\", \"Stasis-pelvis\", \"Appendicitis\", \"Diverticulosis\"]}, \"type\": \"FactorRange\", \"id\": \"2d8a3749-716f-466c-ac1d-c2f72e12a242\"}, {\"attributes\": {\"nonselection_glyph\": {\"type\": \"Quad\", \"id\": \"56708fff-6f1d-4d79-800a-9b2118649e7e\"}, \"data_source\": {\"type\": \"ColumnDataSource\", \"id\": \"605abcfa-db2f-40e8-a481-ccf0c5d580af\"}, \"selection_glyph\": null, \"hover_glyph\": null, \"glyph\": {\"type\": \"Quad\", \"id\": \"5325ffed-c4ad-4d7c-a250-0b3f8a1dcc54\"}}, \"type\": \"GlyphRenderer\", \"id\": \"7020ba8a-5b26-4f8d-85cf-a7443e7cc515\"}, {\"attributes\": {\"line_color\": {\"value\": \"#1f77b4\"}, \"line_alpha\": {\"value\": 0.1}, \"right\": {\"field\": \"right\"}, \"fill_color\": {\"value\": \"#1f77b4\"}, \"bottom\": {\"field\": \"bottom\"}, \"top\": {\"field\": \"top\"}, \"fill_alpha\": {\"value\": 0.1}, \"left\": {\"field\": \"left\"}}, \"type\": \"Quad\", \"id\": \"8ba2f767-3d80-4940-8799-30578483ee19\"}, {\"attributes\": {\"nonselection_glyph\": {\"type\": \"Quad\", \"id\": \"b63b0bde-f0e5-406f-8d59-702113a1ba66\"}, \"data_source\": {\"type\": \"ColumnDataSource\", \"id\": \"0ef2d792-d419-4b7d-9023-d46e7540b142\"}, \"selection_glyph\": null, \"hover_glyph\": null, \"glyph\": {\"type\": \"Quad\", \"id\": \"0c7760c8-d5de-421b-9ee8-5358d98c54a5\"}}, \"type\": \"GlyphRenderer\", \"id\": \"edef7242-c3ab-4826-9939-0e515edacc8c\"}, {\"attributes\": {\"callback\": null, \"column_names\": [\"top\", \"left\", \"right\", \"bottom\"], \"data\": {\"top\": [5.2], \"left\": [1.5], \"right\": [2.3], \"bottom\": [4.4]}}, \"type\": \"ColumnDataSource\", \"id\": \"0b7272f1-cd45-4d92-9913-3c622d5f6041\"}, {\"attributes\": {\"callback\": null, \"column_names\": [\"top\", \"left\", \"right\", \"bottom\"], \"data\": {\"top\": [3.2], \"left\": [3.5], \"right\": [4.3], \"bottom\": [2.4]}}, \"type\": \"ColumnDataSource\", \"id\": \"816722b5-70d8-416f-a8fd-f6dda83818ab\"}, {\"attributes\": {\"nonselection_glyph\": {\"type\": \"Quad\", \"id\": \"31c8339f-58ba-4e8b-939f-fa7505ca4fd0\"}, \"data_source\": {\"type\": \"ColumnDataSource\", \"id\": \"5ed1a60c-7996-473a-934b-c59901e9c842\"}, \"selection_glyph\": null, \"hover_glyph\": null, \"glyph\": {\"type\": \"Quad\", \"id\": \"6187e23c-9f4d-4fa3-888d-38d905b41f3e\"}}, \"type\": \"GlyphRenderer\", \"id\": \"3019e9f2-9f00-476a-90f7-36c1945a59da\"}, {\"attributes\": {\"ticker\": {\"type\": \"CategoricalTicker\", \"id\": \"b8fd3026-e594-420a-8292-393bb1fa3138\"}, \"plot\": {\"subtype\": \"Figure\", \"type\": \"Plot\", \"id\": \"e20eb945-2d41-4cc7-bbb5-8a4ced39b841\"}, \"axis_label\": \"Ailments\", \"formatter\": {\"type\": \"CategoricalTickFormatter\", \"id\": \"07cd5f43-90fe-425e-928c-a84e5f1c8ed3\"}, \"major_label_text_font_size\": {\"value\": \"12pt\"}}, \"type\": \"CategoricalAxis\", \"id\": \"d3d6a4b6-1e31-488f-ad38-6729145da436\"}, {\"attributes\": {\"line_color\": {\"value\": \"#7E7E7E\"}, \"right\": {\"field\": \"right\"}, \"fill_color\": {\"value\": \"#7E7E7E\"}, \"bottom\": {\"field\": \"bottom\"}, \"top\": {\"field\": \"top\"}, \"left\": {\"field\": \"left\"}}, \"type\": \"Quad\", \"id\": \"c3942463-c07e-42d2-a2f6-4757852cbc65\"}]}, \"title\": \"Bokeh Application\"}};\n",
       "            var render_items = [{\"notebook_comms_target\": \"b2da9f28-0af6-4be6-905c-f37610a55647\", \"docid\": \"19495cf8-0cd6-4ff9-9ce6-0318cbc35500\", \"elementid\": \"49a4eac3-5c00-455f-98d3-464e85cc75fe\", \"modelid\": \"e20eb945-2d41-4cc7-bbb5-8a4ced39b841\"}];\n",
       "            \n",
       "            Bokeh.embed.embed_items(docs_json, render_items);\n",
       "        });\n",
       "      },\n",
       "      function(Bokeh) {\n",
       "      }\n",
       "    ];\n",
       "  \n",
       "    function run_inline_js() {\n",
       "      for (var i = 0; i < inline_js.length; i++) {\n",
       "        inline_js[i](window.Bokeh);\n",
       "      }\n",
       "    }\n",
       "  \n",
       "    if (window._bokeh_is_loading === 0) {\n",
       "      console.log(\"Bokeh: BokehJS loaded, going straight to plotting\");\n",
       "      run_inline_js();\n",
       "    } else {\n",
       "      load_libs(js_urls, function() {\n",
       "        console.log(\"Bokeh: BokehJS plotting callback run at\", now());\n",
       "        run_inline_js();\n",
       "      });\n",
       "    }\n",
       "  }(this));\n",
       "</script>"
      ]
     },
     "metadata": {},
     "output_type": "display_data"
    },
    {
     "data": {
      "text/plain": [
       "<bokeh.io._CommsHandle at 0x7f0fd5045710>"
      ]
     },
     "execution_count": 6,
     "metadata": {},
     "output_type": "execute_result"
    }
   ],
   "source": [
    "#p.plot_width = 900\n",
    "#p.plot_height = 800\n",
    "\n",
    "p.xgrid.grid_line_color = None\n",
    "\n",
    "p.ygrid.grid_line_alpha = 0.5\n",
    "p.ygrid.grid_line_dash = [6, 4]\n",
    "\n",
    "\n",
    "output_file(\"past_abdomen_cts.html\")\n",
    "#p.grid.grid_line_color = None\n",
    "show(p)"
   ]
  },
  {
   "cell_type": "markdown",
   "metadata": {},
   "source": [
    "source"
   ]
  },
  {
   "cell_type": "code",
   "execution_count": 44,
   "metadata": {
    "collapsed": false
   },
   "outputs": [
    {
     "data": {
      "text/plain": [
       "<bokeh.models.sources.ColumnDataSource at 0x7f107af1c7d0>"
      ]
     },
     "execution_count": 44,
     "metadata": {},
     "output_type": "execute_result"
    }
   ],
   "source": [
    "source"
   ]
  },
  {
   "cell_type": "code",
   "execution_count": 45,
   "metadata": {
    "collapsed": false
   },
   "outputs": [
    {
     "data": {
      "text/plain": [
       "'group'"
      ]
     },
     "execution_count": 45,
     "metadata": {},
     "output_type": "execute_result"
    }
   ],
   "source": [
    "\"group\""
   ]
  },
  {
   "cell_type": "code",
   "execution_count": null,
   "metadata": {
    "collapsed": true
   },
   "outputs": [],
   "source": [
    "source."
   ]
  }
 ],
 "metadata": {
  "kernelspec": {
   "display_name": "Python 2",
   "language": "python",
   "name": "python2"
  },
  "language_info": {
   "codemirror_mode": {
    "name": "ipython",
    "version": 2
   },
   "file_extension": ".py",
   "mimetype": "text/x-python",
   "name": "python",
   "nbconvert_exporter": "python",
   "pygments_lexer": "ipython2",
   "version": "2.7.11"
  }
 },
 "nbformat": 4,
 "nbformat_minor": 0
}
