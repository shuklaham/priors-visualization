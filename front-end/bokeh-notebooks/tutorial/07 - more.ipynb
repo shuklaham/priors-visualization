{
 "cells": [
  {
   "cell_type": "markdown",
   "metadata": {},
   "source": [
    "<a href=\"http://bokeh.pydata.org/\"><img src=\"assets/images/bokeh-transparent.png\" style=\"width:70px; float: left;\"></a><h1>Bokeh Tutorial &mdash;  More</h1>\n",
    "\n",
    "----\n",
    "\n",
    "There are lots of things we haven't had time to tell you about. In general to learn more about bokeh, the following resources will hopefully be helpful:\n",
    "\n",
    "* Documentation - http://bokeh.pydata.org/en/latest\n",
    "* Bokeh examples - https://github.com/bokeh/bokeh/tree/master/examples/\n",
    "* Source code - https://github.com/bokeh/bokeh\n",
    "* Mailing list - https://groups.google.com/a/continuum.io/forum/#!forum/bokeh\n",
    "* StackOverflow (use #bokeh tag): http://stackoverflow.com/questions/tagged/bokeh\n",
    "\n",
    "----\n",
    "\n",
    "# Things we didn't have time to cover\n",
    "\n",
    "\n",
    "## WebGL\n",
    "\n",
    "WebGL allows you to plot large number of points without slowing down your interactions. Currently we only support Circle with WebGL, but work on Line is underway.\n",
    "\n",
    "http://bokeh.pydata.org/en/latest/docs/user_guide/webgl.html \n",
    "\n",
    "## Annotations\n",
    "\n",
    "Bokeh includes annotations to allow users to add supplemental information to their visualizations. This includes legends to identify the distinct variables and box annotations to highlight specific plot regions.\n",
    "\n",
    "http://bokeh.pydata.org/en/latest/docs/user_guide/plotting.html#adding-annotations\n",
    "\n",
    "\n",
    "## Bokeh server\n",
    "\n",
    "The Bokeh server provides additional capabilities, building a bridge between your plot on the client and the server\n",
    "\n",
    "* publishing Bokeh plots for wider audiences\n",
    "* streaming data to automatically updating plots\n",
    "* interactively visualizing very large datasets\n",
    "* building dashboards and apps with sophisticated interactions\n",
    "\n",
    "It is currently undergoing a major re-write\n",
    "\n",
    "## Different data sources\n",
    "\n",
    "In particular, the ajax data source can be useful for building streaming and downsampling visualizations:\n",
    "\n",
    "http://bokeh.pydata.org/en/latest/docs/reference/models/sources.html\n"
   ]
  },
  {
   "cell_type": "code",
   "execution_count": null,
   "metadata": {
    "collapsed": true
   },
   "outputs": [],
   "source": []
  }
 ],
 "metadata": {
  "kernelspec": {
   "display_name": "Python 2",
   "language": "python",
   "name": "python2"
  },
  "language_info": {
   "codemirror_mode": {
    "name": "ipython",
    "version": 2
   },
   "file_extension": ".py",
   "mimetype": "text/x-python",
   "name": "python",
   "nbconvert_exporter": "python",
   "pygments_lexer": "ipython2",
   "version": "2.7.11"
  }
 },
 "nbformat": 4,
 "nbformat_minor": 0
}
