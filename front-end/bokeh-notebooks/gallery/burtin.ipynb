{
 "cells": [
  {
   "cell_type": "code",
   "execution_count": 1,
   "metadata": {
    "collapsed": false
   },
   "outputs": [],
   "source": [
    "from math import log, sqrt"
   ]
  },
  {
   "cell_type": "code",
   "execution_count": 2,
   "metadata": {
    "collapsed": false
   },
   "outputs": [],
   "source": [
    "import numpy as np\n",
    "import pandas as pd\n",
    "from six.moves import cStringIO as StringIO"
   ]
  },
  {
   "cell_type": "code",
   "execution_count": 3,
   "metadata": {
    "collapsed": false
   },
   "outputs": [],
   "source": [
    "from bokeh.plotting import figure, output_notebook, show"
   ]
  },
  {
   "cell_type": "code",
   "execution_count": 4,
   "metadata": {
    "collapsed": false
   },
   "outputs": [],
   "source": [
    "antibiotics = \"\"\"\n",
    "bacteria,                        penicillin, streptomycin, neomycin, gram\n",
    "Mycobacterium tuberculosis,      800,        5,            2,        negative\n",
    "Salmonella schottmuelleri,       10,         0.8,          0.09,     negative\n",
    "Proteus vulgaris,                3,          0.1,          0.1,      negative\n",
    "Klebsiella pneumoniae,           850,        1.2,          1,        negative\n",
    "Brucella abortus,                1,          2,            0.02,     negative\n",
    "Pseudomonas aeruginosa,          850,        2,            0.4,      negative\n",
    "Escherichia coli,                100,        0.4,          0.1,      negative\n",
    "Salmonella (Eberthella) typhosa, 1,          0.4,          0.008,    negative\n",
    "Aerobacter aerogenes,            870,        1,            1.6,      negative\n",
    "Brucella antracis,               0.001,      0.01,         0.007,    positive\n",
    "Streptococcus fecalis,           1,          1,            0.1,      positive\n",
    "Staphylococcus aureus,           0.03,       0.03,         0.001,    positive\n",
    "Staphylococcus albus,            0.007,      0.1,          0.001,    positive\n",
    "Streptococcus hemolyticus,       0.001,      14,           10,       positive\n",
    "Streptococcus viridans,          0.005,      10,           40,       positive\n",
    "Diplococcus pneumoniae,          0.005,      11,           10,       positive\n",
    "\"\"\""
   ]
  },
  {
   "cell_type": "code",
   "execution_count": 5,
   "metadata": {
    "collapsed": false
   },
   "outputs": [],
   "source": [
    "drug_color = {\n",
    "    \"Penicillin\"   : \"#0d3362\",\n",
    "    \"Streptomycin\" : \"#c64737\",\n",
    "    \"Neomycin\"     : \"black\",\n",
    "}"
   ]
  },
  {
   "cell_type": "code",
   "execution_count": 6,
   "metadata": {
    "collapsed": false
   },
   "outputs": [],
   "source": [
    "gram_color = {\n",
    "    \"positive\" : \"#aeaeb8\",\n",
    "    \"negative\" : \"#e69584\",\n",
    "}"
   ]
  },
  {
   "cell_type": "code",
   "execution_count": 7,
   "metadata": {
    "collapsed": false
   },
   "outputs": [],
   "source": [
    "df = pd.read_csv(StringIO(antibiotics), skiprows=1, skipinitialspace=True, engine='python')"
   ]
  },
  {
   "cell_type": "code",
   "execution_count": 10,
   "metadata": {
    "collapsed": false
   },
   "outputs": [],
   "source": [
    "width = 800\n",
    "height = 800\n",
    "inner_radius = 90\n",
    "outer_radius = 300 - 10\n",
    "\n",
    "minr = sqrt(log(.001 * 1E4))\n",
    "maxr = sqrt(log(1000 * 1E4))\n",
    "a = (outer_radius - inner_radius) / (minr - maxr)\n",
    "b = inner_radius - a * maxr\n",
    "\n",
    "big_angle = 2.0 * np.pi / (len(df) + 1)\n",
    "small_angle = big_angle / 7"
   ]
  },
  {
   "cell_type": "code",
   "execution_count": 9,
   "metadata": {
    "collapsed": false
   },
   "outputs": [],
   "source": [
    "def rad(mic):\n",
    "    return a * np.sqrt(np.log(mic * 1E4)) + b"
   ]
  },
  {
   "cell_type": "code",
   "execution_count": 11,
   "metadata": {
    "collapsed": false
   },
   "outputs": [
    {
     "data": {
      "text/html": [
       "\n",
       "    \n",
       "<script type=\"text/javascript\" src=\"https://cdn.pydata.org/bokeh/dev/bokeh-0.11.0dev9.min.js\"></script>\n",
       "<script type=\"text/javascript\" src=\"https://cdn.pydata.org/bokeh/dev/bokeh-widgets-0.11.0dev9.min.js\"></script>\n",
       "<script type=\"text/javascript\" src=\"https://cdn.pydata.org/bokeh/dev/bokeh-compiler-0.11.0dev9.min.js\"></script>\n",
       "<script type=\"text/javascript\">\n",
       "    Bokeh.set_log_level(\"info\");\n",
       "</script>\n",
       "    \n",
       "<link rel=\"stylesheet\" href=\"https://cdn.pydata.org/bokeh/dev/bokeh-0.11.0dev9.min.css\" type=\"text/css\" />\n",
       "<link rel=\"stylesheet\" href=\"https://cdn.pydata.org/bokeh/dev/bokeh-widgets-0.11.0dev9.min.css\" type=\"text/css\" />\n",
       "    <div>\n",
       "        <a href=\"http://bokeh.pydata.org\" target=\"_blank\" class=\"bk-logo bk-logo-small bk-logo-notebook\"></a>\n",
       "        <span>BokehJS successfully loaded.</span>\n",
       "    </div>"
      ]
     },
     "metadata": {},
     "output_type": "display_data"
    }
   ],
   "source": [
    "output_notebook()"
   ]
  },
  {
   "cell_type": "code",
   "execution_count": 14,
   "metadata": {
    "collapsed": false
   },
   "outputs": [],
   "source": [
    "p = figure(plot_width=width, plot_height=height, title=\"\",\n",
    "           x_axis_type=None, y_axis_type=None,\n",
    "           x_range=(-420, 420), y_range=(-420, 420),\n",
    "           min_border=0, outline_line_color=\"black\",\n",
    "           background_fill_color=\"#f0e1d2\", border_fill_color=\"#f0e1d2\")"
   ]
  },
  {
   "cell_type": "code",
   "execution_count": 15,
   "metadata": {
    "collapsed": false
   },
   "outputs": [
    {
     "data": {
      "text/plain": [
       "<bokeh.models.renderers.GlyphRenderer at 0x105ca86d8>"
      ]
     },
     "execution_count": 15,
     "metadata": {},
     "output_type": "execute_result"
    }
   ],
   "source": [
    "# annular wedges\n",
    "angles = np.pi/2 - big_angle/2 - df.index.to_series()*big_angle\n",
    "colors = [gram_color[gram] for gram in df.gram]\n",
    "p.annular_wedge(0, 0, inner_radius, outer_radius, -big_angle+angles, angles, color=colors)"
   ]
  },
  {
   "cell_type": "code",
   "execution_count": 16,
   "metadata": {
    "collapsed": false
   },
   "outputs": [
    {
     "data": {
      "text/plain": [
       "<bokeh.models.renderers.GlyphRenderer at 0x10883f2b0>"
      ]
     },
     "execution_count": 16,
     "metadata": {},
     "output_type": "execute_result"
    }
   ],
   "source": [
    "# small wedges\n",
    "p.annular_wedge(0, 0, inner_radius, rad(df.penicillin), -big_angle+angles + 5*small_angle, \n",
    "                -big_angle+angles+6*small_angle, color=drug_color['Penicillin'])\n",
    "p.annular_wedge(0, 0, inner_radius, rad(df.streptomycin), -big_angle+angles + 3*small_angle, \n",
    "                -big_angle+angles+4*small_angle, color=drug_color['Streptomycin'])\n",
    "p.annular_wedge(0, 0, inner_radius, rad(df.neomycin), -big_angle+angles + 1*small_angle, \n",
    "                -big_angle+angles+2*small_angle, color=drug_color['Neomycin'])"
   ]
  },
  {
   "cell_type": "code",
   "execution_count": 17,
   "metadata": {
    "collapsed": false
   },
   "outputs": [
    {
     "data": {
      "text/plain": [
       "<bokeh.models.renderers.GlyphRenderer at 0x108820630>"
      ]
     },
     "execution_count": 17,
     "metadata": {},
     "output_type": "execute_result"
    }
   ],
   "source": [
    "# circular axes and lables\n",
    "labels = np.power(10.0, np.arange(-3, 4))\n",
    "radii = a * np.sqrt(np.log(labels * 1E4)) + b\n",
    "p.circle(0, 0, radius=radii, fill_color=None, line_color=\"white\")\n",
    "p.text(0, radii[:-1], [str(r) for r in labels[:-1]], \n",
    "       text_font_size=\"8pt\", text_align=\"center\", text_baseline=\"middle\")"
   ]
  },
  {
   "cell_type": "code",
   "execution_count": 18,
   "metadata": {
    "collapsed": false
   },
   "outputs": [
    {
     "data": {
      "text/plain": [
       "<bokeh.models.renderers.GlyphRenderer at 0x1085a9748>"
      ]
     },
     "execution_count": 18,
     "metadata": {},
     "output_type": "execute_result"
    }
   ],
   "source": [
    "# radial axes\n",
    "p.annular_wedge(0, 0, inner_radius-10, outer_radius+10, \n",
    "                -big_angle+angles, -big_angle+angles, color=\"black\")"
   ]
  },
  {
   "cell_type": "code",
   "execution_count": 19,
   "metadata": {
    "collapsed": false
   },
   "outputs": [
    {
     "data": {
      "text/plain": [
       "<bokeh.models.renderers.GlyphRenderer at 0x10883f748>"
      ]
     },
     "execution_count": 19,
     "metadata": {},
     "output_type": "execute_result"
    }
   ],
   "source": [
    "# bacteria labels\n",
    "xr = radii[0]*np.cos(np.array(-big_angle/2 + angles))\n",
    "yr = radii[0]*np.sin(np.array(-big_angle/2 + angles))\n",
    "label_angle=np.array(-big_angle/2+angles)\n",
    "label_angle[label_angle < -np.pi/2] += np.pi # easier to read labels on the left side\n",
    "p.text(xr, yr, df.bacteria, angle=label_angle, text_font_size=\"9pt\", text_align=\"center\", text_baseline=\"middle\")"
   ]
  },
  {
   "cell_type": "code",
   "execution_count": 20,
   "metadata": {
    "collapsed": false
   },
   "outputs": [
    {
     "data": {
      "text/plain": [
       "<bokeh.models.renderers.GlyphRenderer at 0x1088452b0>"
      ]
     },
     "execution_count": 20,
     "metadata": {},
     "output_type": "execute_result"
    }
   ],
   "source": [
    "# OK, these hand drawn legends are pretty clunky, will be improved in future release\n",
    "p.circle([-40, -40], [-370, -390], color=list(gram_color.values()), radius=5)\n",
    "p.text([-30, -30], [-370, -390], text=[\"Gram-\" + x for x in gram_color.keys()], \n",
    "       text_font_size=\"7pt\", text_align=\"left\", text_baseline=\"middle\")\n",
    "\n",
    "p.rect([-40, -40, -40], [18, 0, -18], width=30, height=13, color=list(drug_color.values()))\n",
    "p.text([-15, -15, -15], [18, 0, -18], text=list(drug_color.keys()),\n",
    "       text_font_size=\"9pt\", text_align=\"left\", text_baseline=\"middle\")"
   ]
  },
  {
   "cell_type": "code",
   "execution_count": 21,
   "metadata": {
    "collapsed": false
   },
   "outputs": [],
   "source": [
    "p.xgrid.grid_line_color = None\n",
    "p.ygrid.grid_line_color = None"
   ]
  },
  {
   "cell_type": "code",
   "execution_count": 22,
   "metadata": {
    "collapsed": false
   },
   "outputs": [
    {
     "data": {
      "text/html": [
       "\n",
       "\n",
       "    \n",
       "    \n",
       "    <script type=\"text/javascript\">\n",
       "        Bokeh.$(function() {\n",
       "        var docs_json = {\"43b6f443-7482-483d-ab95-8985a9eac607\": {\"version\": \"0.11.0dev9\", \"title\": \"Bokeh Application\", \"roots\": {\"root_ids\": [\"ade8eb9a-5608-44dc-b2b8-9ad4e57013f4\", \"0bb49d44-e5b8-4689-bb2a-744aa774625d\"], \"references\": [{\"type\": \"GlyphRenderer\", \"id\": \"9790335a-dfa0-481a-9a4c-d866b82f7983\", \"attributes\": {\"selection_glyph\": null, \"nonselection_glyph\": {\"type\": \"AnnularWedge\", \"id\": \"4128d127-09ce-4df8-9aa9-89da6ca7548c\"}, \"hover_glyph\": null, \"data_source\": {\"type\": \"ColumnDataSource\", \"id\": \"7e73aa83-89e9-456e-af8b-bf8a40f79827\"}, \"glyph\": {\"type\": \"AnnularWedge\", \"id\": \"b39723e2-01c8-46ad-afbf-182e525aead1\"}}}, {\"type\": \"PreviewSaveTool\", \"id\": \"b79c2ab4-3a61-472e-a2bc-c82146ea837b\", \"attributes\": {\"plot\": {\"type\": \"Plot\", \"subtype\": \"Figure\", \"id\": \"0bb49d44-e5b8-4689-bb2a-744aa774625d\"}}}, {\"type\": \"AnnularWedge\", \"id\": \"8b52802a-a3f2-4900-bbab-f60ff469ca7e\", \"attributes\": {\"end_angle\": {\"field\": \"end_angle\", \"units\": \"rad\"}, \"x\": {\"value\": 0}, \"start_angle\": {\"field\": \"start_angle\", \"units\": \"rad\"}, \"line_alpha\": {\"value\": 0.1}, \"line_color\": {\"value\": \"#1f77b4\"}, \"outer_radius\": {\"field\": \"outer_radius\", \"units\": \"data\"}, \"inner_radius\": {\"value\": 90, \"units\": \"data\"}, \"y\": {\"value\": 0}, \"fill_alpha\": {\"value\": 0.1}, \"fill_color\": {\"value\": \"#1f77b4\"}}}, {\"type\": \"ColumnDataSource\", \"id\": \"d032c1f1-9d11-4faa-b758-3420a608676c\", \"attributes\": {\"callback\": null, \"data\": {\"end_angle\": [1.3859967589366735, 1.0163976232202272, 0.646798487503781, 0.2771993517873348, -0.09239978392911152, -0.46199891964555784, -0.8315980553620039, -1.2011971910784505, -1.5707963267948966, -1.9403954625113427, -2.309994598227789, -2.6795937339442353, -3.0491928696606814, -3.4187920053771275, -3.7883911410935744, -4.15799027681002], \"start_angle\": [1.0163976232202272, 0.6467984875037809, 0.27719935178733474, -0.09239978392911147, -0.4619989196455578, -0.8315980553620042, -1.2011971910784502, -1.5707963267948968, -1.9403954625113429, -2.3099945982277887, -2.6795937339442353, -3.0491928696606814, -3.4187920053771275, -3.7883911410935736, -4.157990276810021, -4.527589412526466], \"line_color\": [\"#e69584\", \"#e69584\", \"#e69584\", \"#e69584\", \"#e69584\", \"#e69584\", \"#e69584\", \"#e69584\", \"#e69584\", \"#aeaeb8\", \"#aeaeb8\", \"#aeaeb8\", \"#aeaeb8\", \"#aeaeb8\", \"#aeaeb8\", \"#aeaeb8\"], \"fill_color\": [\"#e69584\", \"#e69584\", \"#e69584\", \"#e69584\", \"#e69584\", \"#e69584\", \"#e69584\", \"#e69584\", \"#e69584\", \"#aeaeb8\", \"#aeaeb8\", \"#aeaeb8\", \"#aeaeb8\", \"#aeaeb8\", \"#aeaeb8\", \"#aeaeb8\"]}, \"column_names\": [\"end_angle\", \"start_angle\", \"line_color\", \"fill_color\"]}}, {\"type\": \"Circle\", \"id\": \"fb3f7082-819c-41cc-a445-44b263d142c9\", \"attributes\": {\"x\": {\"field\": \"x\"}, \"radius\": {\"value\": 5, \"units\": \"data\"}, \"y\": {\"field\": \"y\"}, \"line_color\": {\"field\": \"line_color\"}, \"fill_color\": {\"field\": \"fill_color\"}}}, {\"type\": \"ColumnDataSource\", \"id\": \"dcd23b9c-e2c0-42b1-b484-33e84b6c9479\", \"attributes\": {\"callback\": null, \"data\": {\"x\": [104.76008319427433, 195.37173665750163, 259.59735449296807, 288.76291112556, 278.9294365201175, 231.42499591126946, 152.66532723443325, 53.28736016680539, -53.28736016680536, -152.6653272344331, -231.42499591126946, -278.9294365201175, -288.76291112556004, -259.5973544929681, -195.37173665750157, -104.76008319427434], \"angle\": [1.2011971910784505, 0.831598055362004, 0.46199891964555784, 0.09239978392911166, -0.2771993517873347, -0.646798487503781, -1.016397623220227, -1.3859967589366735, 1.3859967589366735, 1.0163976232202274, 0.6467984875037809, 0.2771993517873348, -0.0923997839291113, -0.4619989196455574, -0.8315980553620044, -1.2011971910784505], \"y\": [270.4169465272632, 214.31258599399115, 129.2641231751961, 26.757824244357604, -79.36226712090402, -174.76404454998436, -246.56296936158805, -285.06219890833154, -285.06219890833154, -246.56296936158816, -174.76404454998436, -79.3622671209041, 26.75782424435747, 129.26412317519595, 214.31258599399115, 270.4169465272632], \"text\": [\"Mycobacterium tuberculosis\", \"Salmonella schottmuelleri\", \"Proteus vulgaris\", \"Klebsiella pneumoniae\", \"Brucella abortus\", \"Pseudomonas aeruginosa\", \"Escherichia coli\", \"Salmonella (Eberthella) typhosa\", \"Aerobacter aerogenes\", \"Brucella antracis\", \"Streptococcus fecalis\", \"Staphylococcus aureus\", \"Staphylococcus albus\", \"Streptococcus hemolyticus\", \"Streptococcus viridans\", \"Diplococcus pneumoniae\"]}, \"column_names\": [\"x\", \"text\", \"angle\", \"y\"]}}, {\"type\": \"AnnularWedge\", \"id\": \"ac8e7fe7-d939-45ef-891c-3cdaeaadf6e7\", \"attributes\": {\"end_angle\": {\"field\": \"end_angle\", \"units\": \"rad\"}, \"x\": {\"value\": 0}, \"outer_radius\": {\"field\": \"outer_radius\", \"units\": \"data\"}, \"line_color\": {\"value\": \"#0d3362\"}, \"inner_radius\": {\"value\": 90, \"units\": \"data\"}, \"y\": {\"value\": 0}, \"start_angle\": {\"field\": \"start_angle\", \"units\": \"rad\"}, \"fill_color\": {\"value\": \"#0d3362\"}}}, {\"type\": \"ColumnDataSource\", \"id\": \"5a2053db-8514-4878-b8a4-06e00a1a8407\", \"attributes\": {\"callback\": null, \"data\": {\"y\": [290.0, 239.66267873058516, 201.03749361799578, 168.47495629784697, 139.7867850155062, 113.85069566245176], \"text\": [\"0.001\", \"0.01\", \"0.1\", \"1.0\", \"10.0\", \"100.0\"]}, \"column_names\": [\"text\", \"y\"]}}, {\"type\": \"WheelZoomTool\", \"id\": \"72f1dc72-74c6-462c-93ca-cc198be2afe2\", \"attributes\": {\"plot\": {\"type\": \"Plot\", \"subtype\": \"Figure\", \"id\": \"0bb49d44-e5b8-4689-bb2a-744aa774625d\"}}}, {\"type\": \"AnnularWedge\", \"id\": \"4128d127-09ce-4df8-9aa9-89da6ca7548c\", \"attributes\": {\"end_angle\": {\"field\": \"end_angle\", \"units\": \"rad\"}, \"x\": {\"value\": 0}, \"start_angle\": {\"field\": \"start_angle\", \"units\": \"rad\"}, \"line_alpha\": {\"value\": 0.1}, \"line_color\": {\"value\": \"#1f77b4\"}, \"outer_radius\": {\"field\": \"outer_radius\", \"units\": \"data\"}, \"inner_radius\": {\"value\": 90, \"units\": \"data\"}, \"y\": {\"value\": 0}, \"fill_alpha\": {\"value\": 0.1}, \"fill_color\": {\"value\": \"#1f77b4\"}}}, {\"type\": \"WheelZoomTool\", \"id\": \"49043c94-670f-476b-ad89-9a5d91296bdd\", \"attributes\": {\"plot\": {\"type\": \"Plot\", \"subtype\": \"Figure\", \"id\": \"ade8eb9a-5608-44dc-b2b8-9ad4e57013f4\"}}}, {\"type\": \"ResizeTool\", \"id\": \"f6481ab3-2c9d-42c2-8bb4-8914eb41618b\", \"attributes\": {\"plot\": {\"type\": \"Plot\", \"subtype\": \"Figure\", \"id\": \"ade8eb9a-5608-44dc-b2b8-9ad4e57013f4\"}}}, {\"type\": \"AnnularWedge\", \"id\": \"b39723e2-01c8-46ad-afbf-182e525aead1\", \"attributes\": {\"end_angle\": {\"field\": \"end_angle\", \"units\": \"rad\"}, \"x\": {\"value\": 0}, \"outer_radius\": {\"field\": \"outer_radius\", \"units\": \"data\"}, \"line_color\": {\"value\": \"#c64737\"}, \"inner_radius\": {\"value\": 90, \"units\": \"data\"}, \"y\": {\"value\": 0}, \"start_angle\": {\"field\": \"start_angle\", \"units\": \"rad\"}, \"fill_color\": {\"value\": \"#c64737\"}}}, {\"type\": \"Rect\", \"id\": \"7830be28-c10e-41f2-9044-49f0b13b2a40\", \"attributes\": {\"x\": {\"field\": \"x\"}, \"line_alpha\": {\"value\": 0.1}, \"width\": {\"value\": 30, \"units\": \"data\"}, \"height\": {\"value\": 13, \"units\": \"data\"}, \"line_color\": {\"value\": \"#1f77b4\"}, \"y\": {\"field\": \"y\"}, \"fill_alpha\": {\"value\": 0.1}, \"fill_color\": {\"value\": \"#1f77b4\"}}}, {\"type\": \"ResetTool\", \"id\": \"fb4faffb-e8c7-4069-81a2-4435f3c49b89\", \"attributes\": {\"plot\": {\"type\": \"Plot\", \"subtype\": \"Figure\", \"id\": \"ade8eb9a-5608-44dc-b2b8-9ad4e57013f4\"}}}, {\"type\": \"Circle\", \"id\": \"35cb20ba-1b4f-4e14-9397-b6378f3c62a6\", \"attributes\": {\"line_alpha\": {\"value\": 0.1}, \"x\": {\"value\": 0}, \"radius\": {\"field\": \"radius\", \"units\": \"data\"}, \"line_color\": {\"value\": \"#1f77b4\"}, \"y\": {\"value\": 0}, \"fill_alpha\": {\"value\": 0.1}, \"fill_color\": {\"value\": \"#1f77b4\"}}}, {\"type\": \"BoxZoomTool\", \"id\": \"adf26470-1f92-4b5f-a09b-d447cc2ae188\", \"attributes\": {\"overlay\": {\"type\": \"BoxAnnotation\", \"id\": \"0c090fb8-8c65-4881-9cf1-13744caebb2c\"}, \"plot\": {\"type\": \"Plot\", \"subtype\": \"Figure\", \"id\": \"0bb49d44-e5b8-4689-bb2a-744aa774625d\"}}}, {\"type\": \"GlyphRenderer\", \"id\": \"afff9f67-99fa-4422-9209-8bdabe15eef1\", \"attributes\": {\"selection_glyph\": null, \"nonselection_glyph\": {\"type\": \"Text\", \"id\": \"71c5857a-da3b-4af0-8de6-42f4eb490002\"}, \"hover_glyph\": null, \"data_source\": {\"type\": \"ColumnDataSource\", \"id\": \"e9eea355-62e2-4300-8bd8-a71a4555ce4c\"}, \"glyph\": {\"type\": \"Text\", \"id\": \"f1246909-96d8-4fb4-8c53-cc2087e109ba\"}}}, {\"type\": \"ResizeTool\", \"id\": \"f3b3c64f-af6d-40a1-b570-6afaec699aad\", \"attributes\": {\"plot\": {\"type\": \"Plot\", \"subtype\": \"Figure\", \"id\": \"0bb49d44-e5b8-4689-bb2a-744aa774625d\"}}}, {\"type\": \"BoxAnnotation\", \"id\": \"0c090fb8-8c65-4881-9cf1-13744caebb2c\", \"attributes\": {\"line_width\": {\"value\": 2}, \"line_alpha\": {\"value\": 1.0}, \"level\": \"overlay\", \"line_color\": {\"value\": \"black\"}, \"left_units\": \"screen\", \"fill_color\": {\"value\": \"lightgrey\"}, \"right_units\": \"screen\", \"bottom_units\": \"screen\", \"plot\": null, \"top_units\": \"screen\", \"line_dash\": [4, 4], \"fill_alpha\": {\"value\": 0.5}, \"render_mode\": \"css\"}}, {\"type\": \"AnnularWedge\", \"id\": \"185efebc-d6d3-429a-9135-26b2c03d0c5b\", \"attributes\": {\"end_angle\": {\"field\": \"end_angle\", \"units\": \"rad\"}, \"x\": {\"value\": 0}, \"outer_radius\": {\"value\": 290, \"units\": \"data\"}, \"line_color\": {\"field\": \"line_color\"}, \"inner_radius\": {\"value\": 90, \"units\": \"data\"}, \"y\": {\"value\": 0}, \"start_angle\": {\"field\": \"start_angle\", \"units\": \"rad\"}, \"fill_color\": {\"field\": \"fill_color\"}}}, {\"type\": \"Text\", \"id\": \"03d10bb6-64e8-4b6c-8572-7d5fd109fceb\", \"attributes\": {\"x\": {\"value\": 0}, \"text_color\": {\"value\": \"black\"}, \"text_baseline\": \"middle\", \"text_font_size\": {\"value\": \"8pt\"}, \"y\": {\"field\": \"y\"}, \"text_align\": \"center\"}}, {\"type\": \"Plot\", \"subtype\": \"Figure\", \"id\": \"0bb49d44-e5b8-4689-bb2a-744aa774625d\", \"attributes\": {\"tools\": [{\"type\": \"PanTool\", \"id\": \"1958e0d3-f851-4c5d-be21-aae14e57ec48\"}, {\"type\": \"WheelZoomTool\", \"id\": \"72f1dc72-74c6-462c-93ca-cc198be2afe2\"}, {\"type\": \"BoxZoomTool\", \"id\": \"adf26470-1f92-4b5f-a09b-d447cc2ae188\"}, {\"type\": \"PreviewSaveTool\", \"id\": \"b79c2ab4-3a61-472e-a2bc-c82146ea837b\"}, {\"type\": \"ResizeTool\", \"id\": \"f3b3c64f-af6d-40a1-b570-6afaec699aad\"}, {\"type\": \"ResetTool\", \"id\": \"67ad1524-3ca2-4c80-9011-e1d592c76c9c\"}, {\"type\": \"HelpTool\", \"id\": \"9784cd3b-cf8f-4055-8002-fb3e7e4d39fd\"}], \"tool_events\": {\"type\": \"ToolEvents\", \"id\": \"30346062-21a9-4a54-af5a-0e662706c858\"}, \"background_fill_color\": {\"value\": \"#f0e1d2\"}, \"min_border\": 0, \"outline_line_color\": {\"value\": \"black\"}, \"plot_width\": 800, \"border_fill_color\": {\"value\": \"#f0e1d2\"}, \"y_range\": {\"type\": \"Range1d\", \"id\": \"aba49dbc-9977-4287-80dc-6173d4dfe0c1\"}, \"plot_height\": 800, \"x_range\": {\"type\": \"Range1d\", \"id\": \"4f65b566-8f79-4e90-83c4-1a19b8d9ca67\"}, \"renderers\": [{\"type\": \"BoxAnnotation\", \"id\": \"0c090fb8-8c65-4881-9cf1-13744caebb2c\"}, {\"type\": \"GlyphRenderer\", \"id\": \"0ebca138-0f3a-4af4-a259-51d658c4f0d0\"}, {\"type\": \"GlyphRenderer\", \"id\": \"2248a8b3-ea87-4f84-b53b-1a849d2314ee\"}, {\"type\": \"GlyphRenderer\", \"id\": \"9790335a-dfa0-481a-9a4c-d866b82f7983\"}, {\"type\": \"GlyphRenderer\", \"id\": \"bd10ffda-dc77-4d7c-aa94-55bf549bc8ad\"}, {\"type\": \"GlyphRenderer\", \"id\": \"3994b080-dbcc-4e30-9cf0-985968c0ac1a\"}, {\"type\": \"GlyphRenderer\", \"id\": \"a59bcfe6-d3df-4364-8c9a-7f55c9948992\"}, {\"type\": \"GlyphRenderer\", \"id\": \"a9817b7b-6823-49b2-9d91-2b160fcc6ae5\"}, {\"type\": \"GlyphRenderer\", \"id\": \"0a92fdaa-1dc9-4ff4-8375-60ef1e712684\"}, {\"type\": \"GlyphRenderer\", \"id\": \"38da0fbc-bb7b-4217-9826-923b7b3b1b76\"}, {\"type\": \"GlyphRenderer\", \"id\": \"afff9f67-99fa-4422-9209-8bdabe15eef1\"}, {\"type\": \"GlyphRenderer\", \"id\": \"1fc0b27e-8f98-4d29-9d8b-b8049067f52b\"}, {\"type\": \"GlyphRenderer\", \"id\": \"0aa9b9e2-da7a-4a8b-823f-285428f9c667\"}]}}, {\"type\": \"Text\", \"id\": \"71c5857a-da3b-4af0-8de6-42f4eb490002\", \"attributes\": {\"x\": {\"field\": \"x\"}, \"text_alpha\": {\"value\": 0.1}, \"text_baseline\": \"middle\", \"text_font_size\": {\"value\": \"7pt\"}, \"y\": {\"field\": \"y\"}, \"text_color\": {\"value\": \"black\"}}}, {\"type\": \"GlyphRenderer\", \"id\": \"3994b080-dbcc-4e30-9cf0-985968c0ac1a\", \"attributes\": {\"selection_glyph\": null, \"nonselection_glyph\": {\"type\": \"Circle\", \"id\": \"35cb20ba-1b4f-4e14-9397-b6378f3c62a6\"}, \"hover_glyph\": null, \"data_source\": {\"type\": \"ColumnDataSource\", \"id\": \"42824adf-a96e-44d1-bc70-3627ae4cbe64\"}, \"glyph\": {\"type\": \"Circle\", \"id\": \"5abb44fd-9366-4619-9777-214ea3e22822\"}}}, {\"type\": \"Text\", \"id\": \"db25dae7-c4a1-4006-979f-39d6ed090c04\", \"attributes\": {\"x\": {\"field\": \"x\"}, \"text_alpha\": {\"value\": 0.1}, \"text_baseline\": \"middle\", \"text_font_size\": {\"value\": \"9pt\"}, \"y\": {\"field\": \"y\"}, \"text_color\": {\"value\": \"black\"}}}, {\"type\": \"Plot\", \"subtype\": \"Figure\", \"id\": \"ade8eb9a-5608-44dc-b2b8-9ad4e57013f4\", \"attributes\": {\"tools\": [{\"type\": \"PanTool\", \"id\": \"4dbfd3f9-d983-41d5-9a11-f9f8a06cd641\"}, {\"type\": \"WheelZoomTool\", \"id\": \"49043c94-670f-476b-ad89-9a5d91296bdd\"}, {\"type\": \"BoxZoomTool\", \"id\": \"d1e39ced-b767-42c7-93d1-10e5fe21949b\"}, {\"type\": \"PreviewSaveTool\", \"id\": \"1a5da565-7cf4-4523-96d0-90c8fb11eb73\"}, {\"type\": \"ResizeTool\", \"id\": \"f6481ab3-2c9d-42c2-8bb4-8914eb41618b\"}, {\"type\": \"ResetTool\", \"id\": \"fb4faffb-e8c7-4069-81a2-4435f3c49b89\"}, {\"type\": \"HelpTool\", \"id\": \"3f69db1c-553d-48aa-b68e-fd614ca92fa2\"}], \"tool_events\": {\"type\": \"ToolEvents\", \"id\": \"fee1ce96-6e0d-424c-868e-3e0163dac9b2\"}, \"background_fill_color\": {\"value\": \"#f0e1d2\"}, \"min_border\": 0, \"outline_line_color\": {\"value\": \"black\"}, \"plot_width\": 800, \"border_fill_color\": {\"value\": \"#f0e1d2\"}, \"y_range\": {\"type\": \"Range1d\", \"id\": \"0dfee0ae-1f62-4d85-94e3-00ac41d1c9e9\"}, \"plot_height\": 800, \"x_range\": {\"type\": \"Range1d\", \"id\": \"9e690b73-d966-4893-8c17-8fea64e3a095\"}, \"renderers\": [{\"type\": \"BoxAnnotation\", \"id\": \"74f58f8e-cd41-4bad-aca6-38089329b61f\"}]}}, {\"type\": \"GlyphRenderer\", \"id\": \"0ebca138-0f3a-4af4-a259-51d658c4f0d0\", \"attributes\": {\"selection_glyph\": null, \"nonselection_glyph\": {\"type\": \"AnnularWedge\", \"id\": \"9fff398c-b530-4ae8-9cdc-4a836a873086\"}, \"hover_glyph\": null, \"data_source\": {\"type\": \"ColumnDataSource\", \"id\": \"d032c1f1-9d11-4faa-b758-3420a608676c\"}, \"glyph\": {\"type\": \"AnnularWedge\", \"id\": \"185efebc-d6d3-429a-9135-26b2c03d0c5b\"}}}, {\"type\": \"AnnularWedge\", \"id\": \"97c06f3c-9730-408a-bab7-38c553095ba3\", \"attributes\": {\"end_angle\": {\"field\": \"end_angle\", \"units\": \"rad\"}, \"x\": {\"value\": 0}, \"outer_radius\": {\"value\": 300, \"units\": \"data\"}, \"inner_radius\": {\"value\": 80, \"units\": \"data\"}, \"y\": {\"value\": 0}, \"start_angle\": {\"field\": \"start_angle\", \"units\": \"rad\"}, \"fill_color\": {\"value\": \"black\"}}}, {\"type\": \"Text\", \"id\": \"5bb9af33-ad95-45f2-a28d-ef5fc3dac204\", \"attributes\": {\"text_baseline\": \"middle\", \"x\": {\"field\": \"x\"}, \"text_color\": {\"value\": \"black\"}, \"y\": {\"field\": \"y\"}, \"text_font_size\": {\"value\": \"9pt\"}}}, {\"type\": \"ColumnDataSource\", \"id\": \"7e73aa83-89e9-456e-af8b-bf8a40f79827\", \"attributes\": {\"callback\": null, \"data\": {\"end_angle\": [1.2275971293439107, 0.8579979936274644, 0.48839885791101834, 0.1187997221945721, -0.2507994135218742, -0.6203985492383206, -0.9899976849547667, -1.3595968206712132, -1.7291959563876593, -2.098795092104105, -2.4683942278205517, -2.837993363536998, -3.207592499253444, -3.57719163496989, -3.9467907706863374, -4.316389906402782], \"start_angle\": [1.17479725281299, 0.8051981170965435, 0.43559898138009745, 0.06599984566365122, -0.30359929005279507, -0.6731984257692415, -1.0427975614856875, -1.412396697202134, -1.78199583291858, -2.151594968635026, -2.5211941043514727, -2.890793240067919, -3.260392375784365, -3.629991511500811, -3.9995906472172584, -4.369189782933703], \"outer_radius\": [148.09389702866355, 171.43725698767838, 201.03749361799578, 166.08111883679086, 159.49517010860004, 159.49517010860004, 180.8815241029378, 180.8815241029378, 168.47495629784697, 239.66267873058516, 168.47495629784697, 220.2583199527764, 201.03749361799578, 135.84452353427264, 139.7867850155062, 138.66430573015015]}, \"column_names\": [\"end_angle\", \"outer_radius\", \"start_angle\"]}}, {\"type\": \"ColumnDataSource\", \"id\": \"8000c22f-9fe0-4baf-8a12-691f722a88ca\", \"attributes\": {\"callback\": null, \"data\": {\"end_angle\": [1.121997376282069, 0.7523982405656227, 0.3827991048491765, 0.013199969132730319, -0.356399166583716, -0.7259983023001624, -1.0955974380166085, -1.465196573733055, -1.834795709449501, -2.2043948451659467, -2.5739939808823933, -2.9435931165988394, -3.3131922523152855, -3.6827913880317316, -4.052390523748179, -4.421989659464624], \"start_angle\": [1.0691974997511482, 0.6995983640347018, 0.3299992283182556, -0.039599907398190574, -0.4091990431146369, -0.7787981788310833, -1.1483973145475292, -1.5179964502639758, -1.8875955859804219, -2.2571947216968677, -2.6267938574133143, -2.9963929931297604, -3.3659921288462065, -3.7355912645626526, -4.1051904002791, -4.474789535995545], \"outer_radius\": [159.49517010860004, 202.64889203801422, 201.03749361799578, 168.47495629784697, 227.18192696067584, 180.8815241029378, 201.03749361799578, 243.8781742537954, 162.35069204091852, 246.45224684191624, 201.03749361799578, 290.0, 290.0, 139.7867850155062, 123.8914127986476, 139.7867850155062]}, \"column_names\": [\"end_angle\", \"outer_radius\", \"start_angle\"]}}, {\"type\": \"Text\", \"id\": \"0e1dc4d8-1a9d-44f9-a66f-ce6b62366f64\", \"attributes\": {\"x\": {\"value\": 0}, \"text_alpha\": {\"value\": 0.1}, \"text_baseline\": \"middle\", \"text_font_size\": {\"value\": \"8pt\"}, \"y\": {\"field\": \"y\"}, \"text_color\": {\"value\": \"black\"}, \"text_align\": \"center\"}}, {\"type\": \"Range1d\", \"id\": \"0dfee0ae-1f62-4d85-94e3-00ac41d1c9e9\", \"attributes\": {\"callback\": null, \"start\": -420, \"end\": 420}}, {\"type\": \"GlyphRenderer\", \"id\": \"38da0fbc-bb7b-4217-9826-923b7b3b1b76\", \"attributes\": {\"selection_glyph\": null, \"nonselection_glyph\": {\"type\": \"Circle\", \"id\": \"706d0389-6e3f-4a0c-af05-da6ef4f0aa5e\"}, \"hover_glyph\": null, \"data_source\": {\"type\": \"ColumnDataSource\", \"id\": \"74e6261a-d102-4f2c-b76c-1cf8f5179550\"}, \"glyph\": {\"type\": \"Circle\", \"id\": \"fb3f7082-819c-41cc-a445-44b263d142c9\"}}}, {\"type\": \"ColumnDataSource\", \"id\": \"9676e5c8-9eb2-41d7-9a89-49ce2dc3f89c\", \"attributes\": {\"callback\": null, \"data\": {\"end_angle\": [1.3331968824057525, 0.9635977466893062, 0.5939986109728601, 0.2243994752564139, -0.1451996604600324, -0.5147987961764788, -0.8843979318929249, -1.2539970676093715, -1.6235962033258176, -1.9931953390422634, -2.3627944747587097, -2.732393610475156, -3.101992746191602, -3.471591881908048, -3.8411910176244954, -4.210790153340941], \"start_angle\": [1.2803970058748317, 0.9107978701583854, 0.5411987344419392, 0.17159959872549302, -0.1979995369909533, -0.5675986727073996, -0.9371978084238457, -1.3067969441402922, -1.6763960798567383, -2.045995215573184, -2.4155943512896307, -2.785193487006077, -3.154792622722523, -3.524391758438969, -3.8939908941554164, -4.263590029871862], \"outer_radius\": [92.23339948031361, 139.7867850155062, 154.38766386903586, 91.62507700950238, 168.47495629784697, 91.62507700950238, 113.85069566245176, 168.47495629784697, 91.39201867367399, 290.0, 168.47495629784697, 220.2583199527764, 246.45224684191624, 290.0, 253.12378014254972, 253.12378014254972]}, \"column_names\": [\"end_angle\", \"outer_radius\", \"start_angle\"]}}, {\"type\": \"ColumnDataSource\", \"id\": \"d3b88bee-2a55-4fd1-8d78-d7c86e7a20a4\", \"attributes\": {\"callback\": null, \"data\": {\"x\": [-40, -40, -40], \"y\": [18, 0, -18], \"line_color\": [\"#0d3362\", \"#c64737\", \"black\"], \"fill_color\": [\"#0d3362\", \"#c64737\", \"black\"]}, \"column_names\": [\"x\", \"y\", \"line_color\", \"fill_color\"]}}, {\"type\": \"ColumnDataSource\", \"id\": \"799e882e-89aa-414d-804c-e3e52b3258f7\", \"attributes\": {\"callback\": null, \"data\": {\"end_angle\": [1.0163976232202272, 0.6467984875037809, 0.27719935178733474, -0.09239978392911147, -0.4619989196455578, -0.8315980553620042, -1.2011971910784502, -1.5707963267948968, -1.9403954625113429, -2.3099945982277887, -2.6795937339442353, -3.0491928696606814, -3.4187920053771275, -3.7883911410935736, -4.157990276810021, -4.527589412526466], \"start_angle\": [1.0163976232202272, 0.6467984875037809, 0.27719935178733474, -0.09239978392911147, -0.4619989196455578, -0.8315980553620042, -1.2011971910784502, -1.5707963267948968, -1.9403954625113429, -2.3099945982277887, -2.6795937339442353, -3.0491928696606814, -3.4187920053771275, -3.7883911410935736, -4.157990276810021, -4.527589412526466]}, \"column_names\": [\"end_angle\", \"start_angle\"]}}, {\"type\": \"GlyphRenderer\", \"id\": \"bd10ffda-dc77-4d7c-aa94-55bf549bc8ad\", \"attributes\": {\"selection_glyph\": null, \"nonselection_glyph\": {\"type\": \"AnnularWedge\", \"id\": \"2dfaaa9f-a18c-4432-92b3-91a3a58a49ed\"}, \"hover_glyph\": null, \"data_source\": {\"type\": \"ColumnDataSource\", \"id\": \"8000c22f-9fe0-4baf-8a12-691f722a88ca\"}, \"glyph\": {\"type\": \"AnnularWedge\", \"id\": \"b9807ad9-f0cf-447b-aab5-b4cee8642f88\"}}}, {\"type\": \"AnnularWedge\", \"id\": \"9fff398c-b530-4ae8-9cdc-4a836a873086\", \"attributes\": {\"end_angle\": {\"field\": \"end_angle\", \"units\": \"rad\"}, \"x\": {\"value\": 0}, \"start_angle\": {\"field\": \"start_angle\", \"units\": \"rad\"}, \"line_alpha\": {\"value\": 0.1}, \"line_color\": {\"value\": \"#1f77b4\"}, \"outer_radius\": {\"value\": 290, \"units\": \"data\"}, \"inner_radius\": {\"value\": 90, \"units\": \"data\"}, \"y\": {\"value\": 0}, \"fill_alpha\": {\"value\": 0.1}, \"fill_color\": {\"value\": \"#1f77b4\"}}}, {\"type\": \"GlyphRenderer\", \"id\": \"0aa9b9e2-da7a-4a8b-823f-285428f9c667\", \"attributes\": {\"selection_glyph\": null, \"nonselection_glyph\": {\"type\": \"Text\", \"id\": \"db25dae7-c4a1-4006-979f-39d6ed090c04\"}, \"hover_glyph\": null, \"data_source\": {\"type\": \"ColumnDataSource\", \"id\": \"3a1f335f-fb40-4642-8a53-6e108a653d33\"}, \"glyph\": {\"type\": \"Text\", \"id\": \"5bb9af33-ad95-45f2-a28d-ef5fc3dac204\"}}}, {\"type\": \"PreviewSaveTool\", \"id\": \"1a5da565-7cf4-4523-96d0-90c8fb11eb73\", \"attributes\": {\"plot\": {\"type\": \"Plot\", \"subtype\": \"Figure\", \"id\": \"ade8eb9a-5608-44dc-b2b8-9ad4e57013f4\"}}}, {\"type\": \"Range1d\", \"id\": \"9e690b73-d966-4893-8c17-8fea64e3a095\", \"attributes\": {\"callback\": null, \"start\": -420, \"end\": 420}}, {\"type\": \"GlyphRenderer\", \"id\": \"2248a8b3-ea87-4f84-b53b-1a849d2314ee\", \"attributes\": {\"selection_glyph\": null, \"nonselection_glyph\": {\"type\": \"AnnularWedge\", \"id\": \"8b52802a-a3f2-4900-bbab-f60ff469ca7e\"}, \"hover_glyph\": null, \"data_source\": {\"type\": \"ColumnDataSource\", \"id\": \"9676e5c8-9eb2-41d7-9a89-49ce2dc3f89c\"}, \"glyph\": {\"type\": \"AnnularWedge\", \"id\": \"ac8e7fe7-d939-45ef-891c-3cdaeaadf6e7\"}}}, {\"type\": \"ToolEvents\", \"id\": \"30346062-21a9-4a54-af5a-0e662706c858\", \"attributes\": {}}, {\"type\": \"ColumnDataSource\", \"id\": \"3a1f335f-fb40-4642-8a53-6e108a653d33\", \"attributes\": {\"callback\": null, \"data\": {\"x\": [-15, -15, -15], \"y\": [18, 0, -18], \"text\": [\"Penicillin\", \"Streptomycin\", \"Neomycin\"]}, \"column_names\": [\"x\", \"text\", \"y\"]}}, {\"type\": \"HelpTool\", \"id\": \"3f69db1c-553d-48aa-b68e-fd614ca92fa2\", \"attributes\": {\"plot\": {\"type\": \"Plot\", \"subtype\": \"Figure\", \"id\": \"ade8eb9a-5608-44dc-b2b8-9ad4e57013f4\"}}}, {\"type\": \"ToolEvents\", \"id\": \"fee1ce96-6e0d-424c-868e-3e0163dac9b2\", \"attributes\": {}}, {\"type\": \"ResetTool\", \"id\": \"67ad1524-3ca2-4c80-9011-e1d592c76c9c\", \"attributes\": {\"plot\": {\"type\": \"Plot\", \"subtype\": \"Figure\", \"id\": \"0bb49d44-e5b8-4689-bb2a-744aa774625d\"}}}, {\"type\": \"PanTool\", \"id\": \"1958e0d3-f851-4c5d-be21-aae14e57ec48\", \"attributes\": {\"plot\": {\"type\": \"Plot\", \"subtype\": \"Figure\", \"id\": \"0bb49d44-e5b8-4689-bb2a-744aa774625d\"}}}, {\"type\": \"Text\", \"id\": \"81e27a9d-1b3a-4240-9a10-14327d746b1b\", \"attributes\": {\"x\": {\"field\": \"x\"}, \"text_font_size\": {\"value\": \"9pt\"}, \"text_alpha\": {\"value\": 0.1}, \"text_baseline\": \"middle\", \"angle\": {\"field\": \"angle\", \"units\": \"rad\"}, \"y\": {\"field\": \"y\"}, \"text_color\": {\"value\": \"black\"}, \"text_align\": \"center\"}}, {\"type\": \"GlyphRenderer\", \"id\": \"1fc0b27e-8f98-4d29-9d8b-b8049067f52b\", \"attributes\": {\"selection_glyph\": null, \"nonselection_glyph\": {\"type\": \"Rect\", \"id\": \"7830be28-c10e-41f2-9044-49f0b13b2a40\"}, \"hover_glyph\": null, \"data_source\": {\"type\": \"ColumnDataSource\", \"id\": \"d3b88bee-2a55-4fd1-8d78-d7c86e7a20a4\"}, \"glyph\": {\"type\": \"Rect\", \"id\": \"0b6c53a7-5796-4e3b-8e35-094e011755ee\"}}}, {\"type\": \"GlyphRenderer\", \"id\": \"a59bcfe6-d3df-4364-8c9a-7f55c9948992\", \"attributes\": {\"selection_glyph\": null, \"nonselection_glyph\": {\"type\": \"Text\", \"id\": \"0e1dc4d8-1a9d-44f9-a66f-ce6b62366f64\"}, \"hover_glyph\": null, \"data_source\": {\"type\": \"ColumnDataSource\", \"id\": \"5a2053db-8514-4878-b8a4-06e00a1a8407\"}, \"glyph\": {\"type\": \"Text\", \"id\": \"03d10bb6-64e8-4b6c-8572-7d5fd109fceb\"}}}, {\"type\": \"AnnularWedge\", \"id\": \"b9807ad9-f0cf-447b-aab5-b4cee8642f88\", \"attributes\": {\"end_angle\": {\"field\": \"end_angle\", \"units\": \"rad\"}, \"x\": {\"value\": 0}, \"outer_radius\": {\"field\": \"outer_radius\", \"units\": \"data\"}, \"inner_radius\": {\"value\": 90, \"units\": \"data\"}, \"y\": {\"value\": 0}, \"start_angle\": {\"field\": \"start_angle\", \"units\": \"rad\"}, \"fill_color\": {\"value\": \"black\"}}}, {\"type\": \"BoxAnnotation\", \"id\": \"74f58f8e-cd41-4bad-aca6-38089329b61f\", \"attributes\": {\"line_width\": {\"value\": 2}, \"line_alpha\": {\"value\": 1.0}, \"level\": \"overlay\", \"line_color\": {\"value\": \"black\"}, \"left_units\": \"screen\", \"fill_color\": {\"value\": \"lightgrey\"}, \"right_units\": \"screen\", \"bottom_units\": \"screen\", \"plot\": null, \"top_units\": \"screen\", \"line_dash\": [4, 4], \"fill_alpha\": {\"value\": 0.5}, \"render_mode\": \"css\"}}, {\"type\": \"Text\", \"id\": \"f1246909-96d8-4fb4-8c53-cc2087e109ba\", \"attributes\": {\"text_baseline\": \"middle\", \"x\": {\"field\": \"x\"}, \"text_color\": {\"value\": \"black\"}, \"y\": {\"field\": \"y\"}, \"text_font_size\": {\"value\": \"7pt\"}}}, {\"type\": \"HelpTool\", \"id\": \"9784cd3b-cf8f-4055-8002-fb3e7e4d39fd\", \"attributes\": {\"plot\": {\"type\": \"Plot\", \"subtype\": \"Figure\", \"id\": \"0bb49d44-e5b8-4689-bb2a-744aa774625d\"}}}, {\"type\": \"Rect\", \"id\": \"0b6c53a7-5796-4e3b-8e35-094e011755ee\", \"attributes\": {\"x\": {\"field\": \"x\"}, \"width\": {\"value\": 30, \"units\": \"data\"}, \"height\": {\"value\": 13, \"units\": \"data\"}, \"line_color\": {\"field\": \"line_color\"}, \"y\": {\"field\": \"y\"}, \"fill_color\": {\"field\": \"fill_color\"}}}, {\"type\": \"AnnularWedge\", \"id\": \"2dfaaa9f-a18c-4432-92b3-91a3a58a49ed\", \"attributes\": {\"end_angle\": {\"field\": \"end_angle\", \"units\": \"rad\"}, \"x\": {\"value\": 0}, \"start_angle\": {\"field\": \"start_angle\", \"units\": \"rad\"}, \"line_alpha\": {\"value\": 0.1}, \"line_color\": {\"value\": \"#1f77b4\"}, \"outer_radius\": {\"field\": \"outer_radius\", \"units\": \"data\"}, \"inner_radius\": {\"value\": 90, \"units\": \"data\"}, \"y\": {\"value\": 0}, \"fill_alpha\": {\"value\": 0.1}, \"fill_color\": {\"value\": \"#1f77b4\"}}}, {\"type\": \"BoxZoomTool\", \"id\": \"d1e39ced-b767-42c7-93d1-10e5fe21949b\", \"attributes\": {\"overlay\": {\"type\": \"BoxAnnotation\", \"id\": \"74f58f8e-cd41-4bad-aca6-38089329b61f\"}, \"plot\": {\"type\": \"Plot\", \"subtype\": \"Figure\", \"id\": \"ade8eb9a-5608-44dc-b2b8-9ad4e57013f4\"}}}, {\"type\": \"ColumnDataSource\", \"id\": \"74e6261a-d102-4f2c-b76c-1cf8f5179550\", \"attributes\": {\"callback\": null, \"data\": {\"x\": [-40, -40], \"y\": [-370, -390], \"line_color\": [\"#e69584\", \"#aeaeb8\"], \"fill_color\": [\"#e69584\", \"#aeaeb8\"]}, \"column_names\": [\"x\", \"y\", \"line_color\", \"fill_color\"]}}, {\"type\": \"ColumnDataSource\", \"id\": \"42824adf-a96e-44d1-bc70-3627ae4cbe64\", \"attributes\": {\"callback\": null, \"data\": {\"radius\": [290.0, 239.66267873058516, 201.03749361799578, 168.47495629784697, 139.7867850155062, 113.85069566245176, 90.0]}, \"column_names\": [\"radius\"]}}, {\"type\": \"GlyphRenderer\", \"id\": \"a9817b7b-6823-49b2-9d91-2b160fcc6ae5\", \"attributes\": {\"selection_glyph\": null, \"nonselection_glyph\": {\"type\": \"AnnularWedge\", \"id\": \"7487149d-c733-48ec-8af5-517fc24dae27\"}, \"hover_glyph\": null, \"data_source\": {\"type\": \"ColumnDataSource\", \"id\": \"799e882e-89aa-414d-804c-e3e52b3258f7\"}, \"glyph\": {\"type\": \"AnnularWedge\", \"id\": \"97c06f3c-9730-408a-bab7-38c553095ba3\"}}}, {\"type\": \"Circle\", \"id\": \"5abb44fd-9366-4619-9777-214ea3e22822\", \"attributes\": {\"x\": {\"value\": 0}, \"radius\": {\"field\": \"radius\", \"units\": \"data\"}, \"y\": {\"value\": 0}, \"line_color\": {\"value\": \"white\"}, \"fill_color\": {\"value\": null}}}, {\"type\": \"GlyphRenderer\", \"id\": \"0a92fdaa-1dc9-4ff4-8375-60ef1e712684\", \"attributes\": {\"selection_glyph\": null, \"nonselection_glyph\": {\"type\": \"Text\", \"id\": \"81e27a9d-1b3a-4240-9a10-14327d746b1b\"}, \"hover_glyph\": null, \"data_source\": {\"type\": \"ColumnDataSource\", \"id\": \"dcd23b9c-e2c0-42b1-b484-33e84b6c9479\"}, \"glyph\": {\"type\": \"Text\", \"id\": \"8c5a0f52-bf7d-443d-a63f-f566ac12337e\"}}}, {\"type\": \"AnnularWedge\", \"id\": \"7487149d-c733-48ec-8af5-517fc24dae27\", \"attributes\": {\"end_angle\": {\"field\": \"end_angle\", \"units\": \"rad\"}, \"x\": {\"value\": 0}, \"start_angle\": {\"field\": \"start_angle\", \"units\": \"rad\"}, \"line_alpha\": {\"value\": 0.1}, \"line_color\": {\"value\": \"#1f77b4\"}, \"outer_radius\": {\"value\": 300, \"units\": \"data\"}, \"inner_radius\": {\"value\": 80, \"units\": \"data\"}, \"y\": {\"value\": 0}, \"fill_alpha\": {\"value\": 0.1}, \"fill_color\": {\"value\": \"#1f77b4\"}}}, {\"type\": \"Text\", \"id\": \"8c5a0f52-bf7d-443d-a63f-f566ac12337e\", \"attributes\": {\"x\": {\"field\": \"x\"}, \"text_color\": {\"value\": \"black\"}, \"text_baseline\": \"middle\", \"text_font_size\": {\"value\": \"9pt\"}, \"y\": {\"field\": \"y\"}, \"angle\": {\"field\": \"angle\", \"units\": \"rad\"}, \"text_align\": \"center\"}}, {\"type\": \"Range1d\", \"id\": \"4f65b566-8f79-4e90-83c4-1a19b8d9ca67\", \"attributes\": {\"callback\": null, \"start\": -420, \"end\": 420}}, {\"type\": \"Range1d\", \"id\": \"aba49dbc-9977-4287-80dc-6173d4dfe0c1\", \"attributes\": {\"callback\": null, \"start\": -420, \"end\": 420}}, {\"type\": \"PanTool\", \"id\": \"4dbfd3f9-d983-41d5-9a11-f9f8a06cd641\", \"attributes\": {\"plot\": {\"type\": \"Plot\", \"subtype\": \"Figure\", \"id\": \"ade8eb9a-5608-44dc-b2b8-9ad4e57013f4\"}}}, {\"type\": \"ColumnDataSource\", \"id\": \"e9eea355-62e2-4300-8bd8-a71a4555ce4c\", \"attributes\": {\"callback\": null, \"data\": {\"x\": [-30, -30], \"y\": [-370, -390], \"text\": [\"Gram-negative\", \"Gram-positive\"]}, \"column_names\": [\"x\", \"text\", \"y\"]}}, {\"type\": \"Circle\", \"id\": \"706d0389-6e3f-4a0c-af05-da6ef4f0aa5e\", \"attributes\": {\"line_alpha\": {\"value\": 0.1}, \"x\": {\"field\": \"x\"}, \"radius\": {\"value\": 5, \"units\": \"data\"}, \"line_color\": {\"value\": \"#1f77b4\"}, \"y\": {\"field\": \"y\"}, \"fill_alpha\": {\"value\": 0.1}, \"fill_color\": {\"value\": \"#1f77b4\"}}}]}}};\n",
       "        var render_items = [{\"docid\": \"43b6f443-7482-483d-ab95-8985a9eac607\", \"modelid\": \"0bb49d44-e5b8-4689-bb2a-744aa774625d\", \"elementid\": \"8deec9fa-5568-4e56-a5c3-1cf846047df0\", \"notebook_comms_target\": \"6806c9c3-70d9-4b0f-b81d-a75314b71048\"}];\n",
       "        \n",
       "        Bokeh.embed.embed_items(docs_json, render_items);\n",
       "    });\n",
       "    </script>\n",
       "\n",
       "    <div class=\"plotdiv\" id=\"8deec9fa-5568-4e56-a5c3-1cf846047df0\"></div>\n",
       "\n"
      ]
     },
     "metadata": {},
     "output_type": "display_data"
    },
    {
     "data": {
      "text/plain": [
       "<bokeh.io._CommsHandle at 0x108855978>"
      ]
     },
     "execution_count": 22,
     "metadata": {},
     "output_type": "execute_result"
    }
   ],
   "source": [
    "show(p)"
   ]
  },
  {
   "cell_type": "code",
   "execution_count": null,
   "metadata": {
    "collapsed": false
   },
   "outputs": [],
   "source": []
  }
 ],
 "metadata": {
  "kernelspec": {
   "display_name": "Python 3",
   "language": "python",
   "name": "python3"
  },
  "language_info": {
   "codemirror_mode": {
    "name": "ipython",
    "version": 3
   },
   "file_extension": ".py",
   "mimetype": "text/x-python",
   "name": "python",
   "nbconvert_exporter": "python",
   "pygments_lexer": "ipython3",
   "version": "3.5.1"
  }
 },
 "nbformat": 4,
 "nbformat_minor": 0
}
