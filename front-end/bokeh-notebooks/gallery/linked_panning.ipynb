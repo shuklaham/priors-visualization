{
 "cells": [
  {
   "cell_type": "code",
   "execution_count": 1,
   "metadata": {
    "collapsed": false
   },
   "outputs": [],
   "source": [
    "import numpy as np"
   ]
  },
  {
   "cell_type": "code",
   "execution_count": 2,
   "metadata": {
    "collapsed": false
   },
   "outputs": [],
   "source": [
    "from bokeh.plotting import figure, gridplot, output_notebook, show\n",
    "from bokeh.models import ColumnDataSource"
   ]
  },
  {
   "cell_type": "code",
   "execution_count": 3,
   "metadata": {
    "collapsed": false
   },
   "outputs": [
    {
     "data": {
      "text/html": [
       "\n",
       "    \n",
       "<script type=\"text/javascript\" src=\"https://cdn.pydata.org/bokeh/dev/bokeh-0.11.0dev9.min.js\"></script>\n",
       "<script type=\"text/javascript\" src=\"https://cdn.pydata.org/bokeh/dev/bokeh-widgets-0.11.0dev9.min.js\"></script>\n",
       "<script type=\"text/javascript\" src=\"https://cdn.pydata.org/bokeh/dev/bokeh-compiler-0.11.0dev9.min.js\"></script>\n",
       "<script type=\"text/javascript\">\n",
       "    Bokeh.set_log_level(\"info\");\n",
       "</script>\n",
       "    \n",
       "<link rel=\"stylesheet\" href=\"https://cdn.pydata.org/bokeh/dev/bokeh-0.11.0dev9.min.css\" type=\"text/css\" />\n",
       "<link rel=\"stylesheet\" href=\"https://cdn.pydata.org/bokeh/dev/bokeh-widgets-0.11.0dev9.min.css\" type=\"text/css\" />\n",
       "    <div>\n",
       "        <a href=\"http://bokeh.pydata.org\" target=\"_blank\" class=\"bk-logo bk-logo-small bk-logo-notebook\"></a>\n",
       "        <span>BokehJS successfully loaded.</span>\n",
       "    </div>"
      ]
     },
     "metadata": {},
     "output_type": "display_data"
    }
   ],
   "source": [
    "output_notebook()"
   ]
  },
  {
   "cell_type": "code",
   "execution_count": 4,
   "metadata": {
    "collapsed": true
   },
   "outputs": [],
   "source": [
    "x = list(range(11))\n",
    "y0 = x\n",
    "y1 = [10-xx for xx in x]\n",
    "y2 = [abs(xx-5) for xx in x]"
   ]
  },
  {
   "cell_type": "code",
   "execution_count": 5,
   "metadata": {
    "collapsed": false
   },
   "outputs": [
    {
     "data": {
      "text/plain": [
       "<bokeh.models.renderers.GlyphRenderer at 0x1088084e0>"
      ]
     },
     "execution_count": 5,
     "metadata": {},
     "output_type": "execute_result"
    }
   ],
   "source": [
    "# create a new plot\n",
    "s1 = figure(width=250, plot_height=250, title=None)\n",
    "s1.circle(x, y0, size=10, color=\"navy\", alpha=0.5)\n",
    "\n",
    "# Linked panning in Bokeh is expressed by sharing ranges between\n",
    "# plots. Note below that s2 is reated with the `x_range` and `y_range` \n",
    "# keyword arguments, and supplied with the same ranges from s1. Here, \n",
    "# this links both axes together.\n",
    "s2 = figure(width=250, height=250, x_range=s1.x_range, y_range=s1.y_range, title=None)\n",
    "s2.triangle(x, y1, size=10, color=\"firebrick\", alpha=0.5)\n",
    "\n",
    "# It is possible to share just one range or the other, to link plots\n",
    "# along only one dimension. For the third plot, we only link the x-axis\n",
    "s3 = figure(width=250, height=250, x_range=s1.x_range, title=None)\n",
    "s3.square(x, y2, size=10, color=\"olive\", alpha=0.5)"
   ]
  },
  {
   "cell_type": "code",
   "execution_count": 10,
   "metadata": {
    "collapsed": true
   },
   "outputs": [],
   "source": [
    "# by default we can't pan outside the range of the data. Disable bounds for this demo\n",
    "s1.x_range.bounds = s2.x_range.bounds = s2.x_range.bounds = None\n",
    "s1.y_range.bounds = s2.y_range.bounds = s2.y_range.bounds = None"
   ]
  },
  {
   "cell_type": "code",
   "execution_count": 11,
   "metadata": {
    "collapsed": false
   },
   "outputs": [
    {
     "data": {
      "text/html": [
       "\n",
       "\n",
       "    \n",
       "    \n",
       "    <script type=\"text/javascript\">\n",
       "        Bokeh.$(function() {\n",
       "        var docs_json = {\"df6ada1d-76c6-43d9-a558-b978613bb57d\": {\"roots\": {\"root_ids\": [\"145adbd6-567d-4154-85be-5ada2dfdacda\", \"607e7510-0063-4e0c-bc10-c5ef539ec6df\", \"3b2ea56d-3a37-48d7-9fdf-e6b18b460032\", \"17c7b22d-95be-4410-879b-8872f9b05d0b\"], \"references\": [{\"attributes\": {\"ticker\": {\"id\": \"f23547dd-74bc-43b8-8c48-3215778cb271\", \"type\": \"BasicTicker\"}, \"formatter\": {\"id\": \"ac48d7f7-b08d-4f50-884c-e5956de52bd0\", \"type\": \"BasicTickFormatter\"}, \"plot\": {\"id\": \"4c7f5c64-5429-4d46-9cf3-eb5bedafd6dd\", \"subtype\": \"Figure\", \"type\": \"Plot\"}}, \"id\": \"39e4f64c-3ca4-4de1-b291-2dd44c7464e4\", \"type\": \"LinearAxis\"}, {\"attributes\": {\"ticker\": {\"id\": \"506f3e8a-9a41-40ee-9df2-505c643c1506\", \"type\": \"BasicTicker\"}, \"plot\": {\"id\": \"981c49ce-3d19-4d18-a877-d7e61dc82a6d\", \"subtype\": \"Figure\", \"type\": \"Plot\"}}, \"id\": \"413f36b6-fe32-4cb7-a11f-ea9f97695686\", \"type\": \"Grid\"}, {\"attributes\": {\"ticker\": {\"id\": \"506f3e8a-9a41-40ee-9df2-505c643c1506\", \"type\": \"BasicTicker\"}, \"formatter\": {\"id\": \"604ef691-18c4-4155-bb83-d4291df342c0\", \"type\": \"BasicTickFormatter\"}, \"plot\": {\"id\": \"981c49ce-3d19-4d18-a877-d7e61dc82a6d\", \"subtype\": \"Figure\", \"type\": \"Plot\"}}, \"id\": \"b9ffb6fd-2c42-43d5-911e-cc608d674ffd\", \"type\": \"LinearAxis\"}, {\"attributes\": {\"callback\": null}, \"id\": \"10053554-dd18-452b-9d29-7113f32b8dd1\", \"type\": \"DataRange1d\"}, {\"attributes\": {\"y\": {\"field\": \"y\"}, \"x\": {\"field\": \"x\"}, \"size\": {\"units\": \"screen\", \"value\": 10}, \"fill_color\": {\"value\": \"firebrick\"}, \"fill_alpha\": {\"value\": 0.5}, \"line_alpha\": {\"value\": 0.5}, \"line_color\": {\"value\": \"firebrick\"}}, \"id\": \"3dd24eff-c579-4913-8ba6-7a89c6782449\", \"type\": \"Triangle\"}, {\"attributes\": {\"data\": {\"x\": [0, 1, 2, 3, 4, 5, 6, 7, 8, 9, 10], \"y\": [5, 4, 3, 2, 1, 0, 1, 2, 3, 4, 5]}, \"callback\": null, \"column_names\": [\"y\", \"x\"]}, \"id\": \"bb3fc0d3-1bd5-4588-81d4-45f4266bd26f\", \"type\": \"ColumnDataSource\"}, {\"attributes\": {}, \"id\": \"46b09c3f-ee2c-4704-a070-aef2f2991065\", \"type\": \"BasicTicker\"}, {\"attributes\": {\"line_width\": {\"value\": 2}, \"bottom_units\": \"screen\", \"level\": \"overlay\", \"top_units\": \"screen\", \"fill_alpha\": {\"value\": 0.5}, \"fill_color\": {\"value\": \"lightgrey\"}, \"line_dash\": [4, 4], \"render_mode\": \"css\", \"plot\": null, \"right_units\": \"screen\", \"line_alpha\": {\"value\": 1.0}, \"line_color\": {\"value\": \"black\"}, \"left_units\": \"screen\"}, \"id\": \"036ab8c1-cba2-4b3d-ac88-e628a928bdc1\", \"type\": \"BoxAnnotation\"}, {\"attributes\": {\"ticker\": {\"id\": \"7f0b7702-eab5-4c6f-9b32-9f495f330425\", \"type\": \"BasicTicker\"}, \"formatter\": {\"id\": \"27559add-c936-4c14-8ce6-054c932d2f33\", \"type\": \"BasicTickFormatter\"}, \"plot\": {\"id\": \"c8a04216-e432-4fdc-a59c-94cbcd986d9b\", \"subtype\": \"Figure\", \"type\": \"Plot\"}}, \"id\": \"619fa5ca-e6c6-4936-99d2-e7e07645e685\", \"type\": \"LinearAxis\"}, {\"attributes\": {\"plot_height\": 250, \"y_range\": {\"id\": \"f262b6da-fa2c-4e52-9519-ba22b9716d7d\", \"type\": \"DataRange1d\"}, \"x_range\": {\"id\": \"ad22a587-ac4f-4496-afcf-1f7445587c44\", \"type\": \"DataRange1d\"}, \"title\": null, \"below\": [{\"id\": \"6bc82383-acf3-4ca0-8e4a-a9400af58ef3\", \"type\": \"LinearAxis\"}], \"renderers\": [{\"id\": \"6bc82383-acf3-4ca0-8e4a-a9400af58ef3\", \"type\": \"LinearAxis\"}, {\"id\": \"2643c888-c66e-4311-b937-443f282444dd\", \"type\": \"Grid\"}, {\"id\": \"39e4f64c-3ca4-4de1-b291-2dd44c7464e4\", \"type\": \"LinearAxis\"}, {\"id\": \"4aae9999-81f8-4524-be24-7f19e665a79c\", \"type\": \"Grid\"}, {\"id\": \"67c8ce09-8404-4ec0-835f-13c750c6b241\", \"type\": \"BoxAnnotation\"}, {\"id\": \"0f46f2ca-4f61-4d88-b661-fb2e7d235fcb\", \"type\": \"GlyphRenderer\"}], \"left\": [{\"id\": \"39e4f64c-3ca4-4de1-b291-2dd44c7464e4\", \"type\": \"LinearAxis\"}], \"tools\": [{\"id\": \"a7b4f570-c087-46f3-96b0-bb6209a7aca8\", \"type\": \"PanTool\"}, {\"id\": \"f3f660a8-4740-4f17-86ab-a7f230ad3fc5\", \"type\": \"WheelZoomTool\"}, {\"id\": \"1641e5ab-4fae-423a-be0c-e87002fabff0\", \"type\": \"BoxZoomTool\"}, {\"id\": \"fd616a9a-0e49-405b-b696-96c335adb0a3\", \"type\": \"PreviewSaveTool\"}, {\"id\": \"4076aefd-9232-4007-be57-ef5a0fdff941\", \"type\": \"ResizeTool\"}, {\"id\": \"26d0b92a-5c3d-4dac-99b4-43aae56fcc50\", \"type\": \"ResetTool\"}, {\"id\": \"f90b13da-5c90-4fd3-a8a0-67286d2bf978\", \"type\": \"HelpTool\"}], \"plot_width\": 250, \"tool_events\": {\"id\": \"e7b643c7-d71f-47f0-826f-6e2ff4db11bb\", \"type\": \"ToolEvents\"}}, \"id\": \"4c7f5c64-5429-4d46-9cf3-eb5bedafd6dd\", \"subtype\": \"Figure\", \"type\": \"Plot\"}, {\"attributes\": {\"ticker\": {\"id\": \"46b09c3f-ee2c-4704-a070-aef2f2991065\", \"type\": \"BasicTicker\"}, \"plot\": {\"id\": \"c8a04216-e432-4fdc-a59c-94cbcd986d9b\", \"subtype\": \"Figure\", \"type\": \"Plot\"}}, \"id\": \"1d8778dd-47ed-43f9-bafd-14a26a38ac44\", \"type\": \"Grid\"}, {\"attributes\": {\"y\": {\"field\": \"y\"}, \"x\": {\"field\": \"x\"}, \"size\": {\"units\": \"screen\", \"value\": 10}, \"fill_color\": {\"value\": \"navy\"}, \"fill_alpha\": {\"value\": 0.5}, \"line_alpha\": {\"value\": 0.5}, \"line_color\": {\"value\": \"navy\"}}, \"id\": \"60143c22-82a6-4393-ad8e-db4d902fa8ce\", \"type\": \"Circle\"}, {\"attributes\": {\"toolbar_location\": null, \"children\": [[{\"id\": \"4c7f5c64-5429-4d46-9cf3-eb5bedafd6dd\", \"subtype\": \"Figure\", \"type\": \"Plot\"}, {\"id\": \"c8a04216-e432-4fdc-a59c-94cbcd986d9b\", \"subtype\": \"Figure\", \"type\": \"Plot\"}, {\"id\": \"981c49ce-3d19-4d18-a877-d7e61dc82a6d\", \"subtype\": \"Figure\", \"type\": \"Plot\"}]]}, \"id\": \"17c7b22d-95be-4410-879b-8872f9b05d0b\", \"type\": \"GridPlot\"}, {\"attributes\": {\"toolbar_location\": null, \"children\": [[{\"id\": \"4c7f5c64-5429-4d46-9cf3-eb5bedafd6dd\", \"subtype\": \"Figure\", \"type\": \"Plot\"}, {\"id\": \"c8a04216-e432-4fdc-a59c-94cbcd986d9b\", \"subtype\": \"Figure\", \"type\": \"Plot\"}, {\"id\": \"981c49ce-3d19-4d18-a877-d7e61dc82a6d\", \"subtype\": \"Figure\", \"type\": \"Plot\"}]]}, \"id\": \"145adbd6-567d-4154-85be-5ada2dfdacda\", \"type\": \"GridPlot\"}, {\"attributes\": {}, \"id\": \"27559add-c936-4c14-8ce6-054c932d2f33\", \"type\": \"BasicTickFormatter\"}, {\"attributes\": {}, \"id\": \"10d6862c-2753-49e3-91e3-47d310a065ea\", \"type\": \"BasicTicker\"}, {\"attributes\": {}, \"id\": \"b7a36c4d-cad0-4d5c-82bd-ec439a14a254\", \"type\": \"ToolEvents\"}, {\"attributes\": {\"plot\": {\"id\": \"c8a04216-e432-4fdc-a59c-94cbcd986d9b\", \"subtype\": \"Figure\", \"type\": \"Plot\"}, \"overlay\": {\"id\": \"9120b0c6-563f-45d4-a25c-6084602650aa\", \"type\": \"BoxAnnotation\"}}, \"id\": \"2f50af7f-adbf-4721-aec8-0cd4b6d80b89\", \"type\": \"BoxZoomTool\"}, {\"attributes\": {}, \"id\": \"3c6ccf7c-c4ed-4c2f-bcbf-47bf8977f201\", \"type\": \"BasicTickFormatter\"}, {\"attributes\": {\"plot\": {\"id\": \"c8a04216-e432-4fdc-a59c-94cbcd986d9b\", \"subtype\": \"Figure\", \"type\": \"Plot\"}}, \"id\": \"6b82eece-af1f-4ad0-a04e-9ffe8df4c341\", \"type\": \"ResizeTool\"}, {\"attributes\": {\"plot\": {\"id\": \"981c49ce-3d19-4d18-a877-d7e61dc82a6d\", \"subtype\": \"Figure\", \"type\": \"Plot\"}, \"overlay\": {\"id\": \"036ab8c1-cba2-4b3d-ac88-e628a928bdc1\", \"type\": \"BoxAnnotation\"}}, \"id\": \"63157253-7724-4fd6-aeaa-1c961defcf58\", \"type\": \"BoxZoomTool\"}, {\"attributes\": {}, \"id\": \"f23547dd-74bc-43b8-8c48-3215778cb271\", \"type\": \"BasicTicker\"}, {\"attributes\": {\"y\": {\"field\": \"y\"}, \"x\": {\"field\": \"x\"}, \"size\": {\"units\": \"screen\", \"value\": 10}, \"fill_color\": {\"value\": \"#1f77b4\"}, \"fill_alpha\": {\"value\": 0.1}, \"line_alpha\": {\"value\": 0.1}, \"line_color\": {\"value\": \"#1f77b4\"}}, \"id\": \"e2de2c65-3c8b-4605-be8a-17cca511eab9\", \"type\": \"Circle\"}, {\"attributes\": {\"ticker\": {\"id\": \"10d6862c-2753-49e3-91e3-47d310a065ea\", \"type\": \"BasicTicker\"}, \"formatter\": {\"id\": \"3c6ccf7c-c4ed-4c2f-bcbf-47bf8977f201\", \"type\": \"BasicTickFormatter\"}, \"plot\": {\"id\": \"4c7f5c64-5429-4d46-9cf3-eb5bedafd6dd\", \"subtype\": \"Figure\", \"type\": \"Plot\"}}, \"id\": \"6bc82383-acf3-4ca0-8e4a-a9400af58ef3\", \"type\": \"LinearAxis\"}, {\"attributes\": {\"plot\": {\"id\": \"4c7f5c64-5429-4d46-9cf3-eb5bedafd6dd\", \"subtype\": \"Figure\", \"type\": \"Plot\"}}, \"id\": \"f90b13da-5c90-4fd3-a8a0-67286d2bf978\", \"type\": \"HelpTool\"}, {\"attributes\": {\"y\": {\"field\": \"y\"}, \"x\": {\"field\": \"x\"}, \"size\": {\"units\": \"screen\", \"value\": 10}, \"fill_color\": {\"value\": \"olive\"}, \"fill_alpha\": {\"value\": 0.5}, \"line_alpha\": {\"value\": 0.5}, \"line_color\": {\"value\": \"olive\"}}, \"id\": \"53332d44-40ab-4782-8a42-38838050dbca\", \"type\": \"Square\"}, {\"attributes\": {\"plot\": {\"id\": \"c8a04216-e432-4fdc-a59c-94cbcd986d9b\", \"subtype\": \"Figure\", \"type\": \"Plot\"}}, \"id\": \"7d43979a-7933-499c-a15d-61a6f0a52047\", \"type\": \"HelpTool\"}, {\"attributes\": {\"plot\": {\"id\": \"981c49ce-3d19-4d18-a877-d7e61dc82a6d\", \"subtype\": \"Figure\", \"type\": \"Plot\"}}, \"id\": \"70186d91-00e1-446e-b32b-c3f578eff0cd\", \"type\": \"WheelZoomTool\"}, {\"attributes\": {}, \"id\": \"bb20c3cf-a39a-447f-99c7-d82925415a24\", \"type\": \"BasicTickFormatter\"}, {\"attributes\": {\"plot\": {\"id\": \"981c49ce-3d19-4d18-a877-d7e61dc82a6d\", \"subtype\": \"Figure\", \"type\": \"Plot\"}}, \"id\": \"c85e514f-d6fe-4175-b3be-750186e64472\", \"type\": \"ResetTool\"}, {\"attributes\": {\"plot\": {\"id\": \"4c7f5c64-5429-4d46-9cf3-eb5bedafd6dd\", \"subtype\": \"Figure\", \"type\": \"Plot\"}}, \"id\": \"26d0b92a-5c3d-4dac-99b4-43aae56fcc50\", \"type\": \"ResetTool\"}, {\"attributes\": {\"ticker\": {\"id\": \"2deb5a39-8dc6-485a-a356-c5f6d76b2f6c\", \"type\": \"BasicTicker\"}, \"formatter\": {\"id\": \"bb20c3cf-a39a-447f-99c7-d82925415a24\", \"type\": \"BasicTickFormatter\"}, \"plot\": {\"id\": \"981c49ce-3d19-4d18-a877-d7e61dc82a6d\", \"subtype\": \"Figure\", \"type\": \"Plot\"}}, \"id\": \"af2908b7-72bd-405b-bb8c-75efd8131168\", \"type\": \"LinearAxis\"}, {\"attributes\": {\"data\": {\"x\": [0, 1, 2, 3, 4, 5, 6, 7, 8, 9, 10], \"y\": [10, 9, 8, 7, 6, 5, 4, 3, 2, 1, 0]}, \"callback\": null, \"column_names\": [\"y\", \"x\"]}, \"id\": \"02368569-aa6b-4c21-a539-023975e7b2e1\", \"type\": \"ColumnDataSource\"}, {\"attributes\": {\"plot\": {\"id\": \"981c49ce-3d19-4d18-a877-d7e61dc82a6d\", \"subtype\": \"Figure\", \"type\": \"Plot\"}}, \"id\": \"4a08ca3e-635e-4bf3-950b-6cec77324a11\", \"type\": \"ResizeTool\"}, {\"attributes\": {\"nonselection_glyph\": {\"id\": \"001e2faa-bb45-454c-9ebc-9b2cdd25ca9f\", \"type\": \"Triangle\"}, \"hover_glyph\": null, \"data_source\": {\"id\": \"02368569-aa6b-4c21-a539-023975e7b2e1\", \"type\": \"ColumnDataSource\"}, \"selection_glyph\": null, \"glyph\": {\"id\": \"3dd24eff-c579-4913-8ba6-7a89c6782449\", \"type\": \"Triangle\"}}, \"id\": \"9bb0369b-525c-4fc0-b0d7-8a191977495b\", \"type\": \"GlyphRenderer\"}, {\"attributes\": {}, \"id\": \"15c9215f-3b4d-4ed5-8ea0-f150b7ede1a2\", \"type\": \"ToolEvents\"}, {\"attributes\": {\"toolbar_location\": null, \"children\": [[{\"id\": \"4c7f5c64-5429-4d46-9cf3-eb5bedafd6dd\", \"subtype\": \"Figure\", \"type\": \"Plot\"}, {\"id\": \"c8a04216-e432-4fdc-a59c-94cbcd986d9b\", \"subtype\": \"Figure\", \"type\": \"Plot\"}, {\"id\": \"981c49ce-3d19-4d18-a877-d7e61dc82a6d\", \"subtype\": \"Figure\", \"type\": \"Plot\"}]]}, \"id\": \"3b2ea56d-3a37-48d7-9fdf-e6b18b460032\", \"type\": \"GridPlot\"}, {\"attributes\": {\"toolbar_location\": null, \"children\": [[{\"id\": \"4c7f5c64-5429-4d46-9cf3-eb5bedafd6dd\", \"subtype\": \"Figure\", \"type\": \"Plot\"}, {\"id\": \"c8a04216-e432-4fdc-a59c-94cbcd986d9b\", \"subtype\": \"Figure\", \"type\": \"Plot\"}, {\"id\": \"981c49ce-3d19-4d18-a877-d7e61dc82a6d\", \"subtype\": \"Figure\", \"type\": \"Plot\"}]]}, \"id\": \"607e7510-0063-4e0c-bc10-c5ef539ec6df\", \"type\": \"GridPlot\"}, {\"attributes\": {\"plot_height\": 250, \"y_range\": {\"id\": \"f262b6da-fa2c-4e52-9519-ba22b9716d7d\", \"type\": \"DataRange1d\"}, \"x_range\": {\"id\": \"ad22a587-ac4f-4496-afcf-1f7445587c44\", \"type\": \"DataRange1d\"}, \"title\": null, \"below\": [{\"id\": \"05229702-d4ce-4662-bd70-d71a2d26b122\", \"type\": \"LinearAxis\"}], \"renderers\": [{\"id\": \"05229702-d4ce-4662-bd70-d71a2d26b122\", \"type\": \"LinearAxis\"}, {\"id\": \"1d8778dd-47ed-43f9-bafd-14a26a38ac44\", \"type\": \"Grid\"}, {\"id\": \"619fa5ca-e6c6-4936-99d2-e7e07645e685\", \"type\": \"LinearAxis\"}, {\"id\": \"a13c92e5-8b9a-486a-9954-ff31a79133f2\", \"type\": \"Grid\"}, {\"id\": \"9120b0c6-563f-45d4-a25c-6084602650aa\", \"type\": \"BoxAnnotation\"}, {\"id\": \"9bb0369b-525c-4fc0-b0d7-8a191977495b\", \"type\": \"GlyphRenderer\"}], \"left\": [{\"id\": \"619fa5ca-e6c6-4936-99d2-e7e07645e685\", \"type\": \"LinearAxis\"}], \"tools\": [{\"id\": \"13413d89-9089-4951-af39-3bd79d1b210a\", \"type\": \"PanTool\"}, {\"id\": \"9b14711d-6761-4be6-8fe3-ea7610c110b8\", \"type\": \"WheelZoomTool\"}, {\"id\": \"2f50af7f-adbf-4721-aec8-0cd4b6d80b89\", \"type\": \"BoxZoomTool\"}, {\"id\": \"f99d3086-00bf-437c-bcc6-8f2195decc0a\", \"type\": \"PreviewSaveTool\"}, {\"id\": \"6b82eece-af1f-4ad0-a04e-9ffe8df4c341\", \"type\": \"ResizeTool\"}, {\"id\": \"ed3d391c-141e-458b-9495-5a4834b08034\", \"type\": \"ResetTool\"}, {\"id\": \"7d43979a-7933-499c-a15d-61a6f0a52047\", \"type\": \"HelpTool\"}], \"plot_width\": 250, \"tool_events\": {\"id\": \"b7a36c4d-cad0-4d5c-82bd-ec439a14a254\", \"type\": \"ToolEvents\"}}, \"id\": \"c8a04216-e432-4fdc-a59c-94cbcd986d9b\", \"subtype\": \"Figure\", \"type\": \"Plot\"}, {\"attributes\": {}, \"id\": \"7f0b7702-eab5-4c6f-9b32-9f495f330425\", \"type\": \"BasicTicker\"}, {\"attributes\": {\"plot\": {\"id\": \"4c7f5c64-5429-4d46-9cf3-eb5bedafd6dd\", \"subtype\": \"Figure\", \"type\": \"Plot\"}, \"overlay\": {\"id\": \"67c8ce09-8404-4ec0-835f-13c750c6b241\", \"type\": \"BoxAnnotation\"}}, \"id\": \"1641e5ab-4fae-423a-be0c-e87002fabff0\", \"type\": \"BoxZoomTool\"}, {\"attributes\": {\"line_width\": {\"value\": 2}, \"bottom_units\": \"screen\", \"level\": \"overlay\", \"top_units\": \"screen\", \"fill_alpha\": {\"value\": 0.5}, \"fill_color\": {\"value\": \"lightgrey\"}, \"line_dash\": [4, 4], \"render_mode\": \"css\", \"plot\": null, \"right_units\": \"screen\", \"line_alpha\": {\"value\": 1.0}, \"line_color\": {\"value\": \"black\"}, \"left_units\": \"screen\"}, \"id\": \"67c8ce09-8404-4ec0-835f-13c750c6b241\", \"type\": \"BoxAnnotation\"}, {\"attributes\": {}, \"id\": \"ac48d7f7-b08d-4f50-884c-e5956de52bd0\", \"type\": \"BasicTickFormatter\"}, {\"attributes\": {\"ticker\": {\"id\": \"f23547dd-74bc-43b8-8c48-3215778cb271\", \"type\": \"BasicTicker\"}, \"plot\": {\"id\": \"4c7f5c64-5429-4d46-9cf3-eb5bedafd6dd\", \"subtype\": \"Figure\", \"type\": \"Plot\"}, \"dimension\": 1}, \"id\": \"4aae9999-81f8-4524-be24-7f19e665a79c\", \"type\": \"Grid\"}, {\"attributes\": {\"plot\": {\"id\": \"4c7f5c64-5429-4d46-9cf3-eb5bedafd6dd\", \"subtype\": \"Figure\", \"type\": \"Plot\"}}, \"id\": \"fd616a9a-0e49-405b-b696-96c335adb0a3\", \"type\": \"PreviewSaveTool\"}, {\"attributes\": {\"plot\": {\"id\": \"981c49ce-3d19-4d18-a877-d7e61dc82a6d\", \"subtype\": \"Figure\", \"type\": \"Plot\"}}, \"id\": \"fcac7163-d336-46fd-8c92-5a51a5e99902\", \"type\": \"HelpTool\"}, {\"attributes\": {\"plot\": {\"id\": \"c8a04216-e432-4fdc-a59c-94cbcd986d9b\", \"subtype\": \"Figure\", \"type\": \"Plot\"}}, \"id\": \"f99d3086-00bf-437c-bcc6-8f2195decc0a\", \"type\": \"PreviewSaveTool\"}, {\"attributes\": {\"plot\": {\"id\": \"c8a04216-e432-4fdc-a59c-94cbcd986d9b\", \"subtype\": \"Figure\", \"type\": \"Plot\"}}, \"id\": \"9b14711d-6761-4be6-8fe3-ea7610c110b8\", \"type\": \"WheelZoomTool\"}, {\"attributes\": {\"plot\": {\"id\": \"4c7f5c64-5429-4d46-9cf3-eb5bedafd6dd\", \"subtype\": \"Figure\", \"type\": \"Plot\"}}, \"id\": \"f3f660a8-4740-4f17-86ab-a7f230ad3fc5\", \"type\": \"WheelZoomTool\"}, {\"attributes\": {\"plot\": {\"id\": \"c8a04216-e432-4fdc-a59c-94cbcd986d9b\", \"subtype\": \"Figure\", \"type\": \"Plot\"}}, \"id\": \"13413d89-9089-4951-af39-3bd79d1b210a\", \"type\": \"PanTool\"}, {\"attributes\": {\"plot\": {\"id\": \"981c49ce-3d19-4d18-a877-d7e61dc82a6d\", \"subtype\": \"Figure\", \"type\": \"Plot\"}}, \"id\": \"846236df-f6e7-4150-a1e2-18612f097a90\", \"type\": \"PreviewSaveTool\"}, {\"attributes\": {\"plot\": {\"id\": \"981c49ce-3d19-4d18-a877-d7e61dc82a6d\", \"subtype\": \"Figure\", \"type\": \"Plot\"}}, \"id\": \"76a9fc9d-45b4-4bb6-9429-6b62b53f7bee\", \"type\": \"PanTool\"}, {\"attributes\": {\"ticker\": {\"id\": \"2deb5a39-8dc6-485a-a356-c5f6d76b2f6c\", \"type\": \"BasicTicker\"}, \"plot\": {\"id\": \"981c49ce-3d19-4d18-a877-d7e61dc82a6d\", \"subtype\": \"Figure\", \"type\": \"Plot\"}, \"dimension\": 1}, \"id\": \"f1477f79-5310-4d3b-8665-599f56d4ee66\", \"type\": \"Grid\"}, {\"attributes\": {}, \"id\": \"506f3e8a-9a41-40ee-9df2-505c643c1506\", \"type\": \"BasicTicker\"}, {\"attributes\": {\"nonselection_glyph\": {\"id\": \"e2de2c65-3c8b-4605-be8a-17cca511eab9\", \"type\": \"Circle\"}, \"hover_glyph\": null, \"data_source\": {\"id\": \"96efeeec-6224-4b68-abd5-045f7e87c849\", \"type\": \"ColumnDataSource\"}, \"selection_glyph\": null, \"glyph\": {\"id\": \"60143c22-82a6-4393-ad8e-db4d902fa8ce\", \"type\": \"Circle\"}}, \"id\": \"0f46f2ca-4f61-4d88-b661-fb2e7d235fcb\", \"type\": \"GlyphRenderer\"}, {\"attributes\": {\"nonselection_glyph\": {\"id\": \"903de1ba-69d0-4241-b15d-df34bb403912\", \"type\": \"Square\"}, \"hover_glyph\": null, \"data_source\": {\"id\": \"bb3fc0d3-1bd5-4588-81d4-45f4266bd26f\", \"type\": \"ColumnDataSource\"}, \"selection_glyph\": null, \"glyph\": {\"id\": \"53332d44-40ab-4782-8a42-38838050dbca\", \"type\": \"Square\"}}, \"id\": \"80d85b20-ebe7-44c6-91ca-9368c6b87378\", \"type\": \"GlyphRenderer\"}, {\"attributes\": {\"y\": {\"field\": \"y\"}, \"x\": {\"field\": \"x\"}, \"size\": {\"units\": \"screen\", \"value\": 10}, \"fill_color\": {\"value\": \"#1f77b4\"}, \"fill_alpha\": {\"value\": 0.1}, \"line_alpha\": {\"value\": 0.1}, \"line_color\": {\"value\": \"#1f77b4\"}}, \"id\": \"903de1ba-69d0-4241-b15d-df34bb403912\", \"type\": \"Square\"}, {\"attributes\": {}, \"id\": \"604ef691-18c4-4155-bb83-d4291df342c0\", \"type\": \"BasicTickFormatter\"}, {\"attributes\": {\"plot\": {\"id\": \"c8a04216-e432-4fdc-a59c-94cbcd986d9b\", \"subtype\": \"Figure\", \"type\": \"Plot\"}}, \"id\": \"ed3d391c-141e-458b-9495-5a4834b08034\", \"type\": \"ResetTool\"}, {\"attributes\": {\"ticker\": {\"id\": \"7f0b7702-eab5-4c6f-9b32-9f495f330425\", \"type\": \"BasicTicker\"}, \"plot\": {\"id\": \"c8a04216-e432-4fdc-a59c-94cbcd986d9b\", \"subtype\": \"Figure\", \"type\": \"Plot\"}, \"dimension\": 1}, \"id\": \"a13c92e5-8b9a-486a-9954-ff31a79133f2\", \"type\": \"Grid\"}, {\"attributes\": {\"y\": {\"field\": \"y\"}, \"x\": {\"field\": \"x\"}, \"size\": {\"units\": \"screen\", \"value\": 10}, \"fill_color\": {\"value\": \"#1f77b4\"}, \"fill_alpha\": {\"value\": 0.1}, \"line_alpha\": {\"value\": 0.1}, \"line_color\": {\"value\": \"#1f77b4\"}}, \"id\": \"001e2faa-bb45-454c-9ebc-9b2cdd25ca9f\", \"type\": \"Triangle\"}, {\"attributes\": {\"plot_height\": 250, \"y_range\": {\"id\": \"10053554-dd18-452b-9d29-7113f32b8dd1\", \"type\": \"DataRange1d\"}, \"x_range\": {\"id\": \"ad22a587-ac4f-4496-afcf-1f7445587c44\", \"type\": \"DataRange1d\"}, \"title\": null, \"below\": [{\"id\": \"b9ffb6fd-2c42-43d5-911e-cc608d674ffd\", \"type\": \"LinearAxis\"}], \"renderers\": [{\"id\": \"b9ffb6fd-2c42-43d5-911e-cc608d674ffd\", \"type\": \"LinearAxis\"}, {\"id\": \"413f36b6-fe32-4cb7-a11f-ea9f97695686\", \"type\": \"Grid\"}, {\"id\": \"af2908b7-72bd-405b-bb8c-75efd8131168\", \"type\": \"LinearAxis\"}, {\"id\": \"f1477f79-5310-4d3b-8665-599f56d4ee66\", \"type\": \"Grid\"}, {\"id\": \"036ab8c1-cba2-4b3d-ac88-e628a928bdc1\", \"type\": \"BoxAnnotation\"}, {\"id\": \"80d85b20-ebe7-44c6-91ca-9368c6b87378\", \"type\": \"GlyphRenderer\"}], \"left\": [{\"id\": \"af2908b7-72bd-405b-bb8c-75efd8131168\", \"type\": \"LinearAxis\"}], \"tools\": [{\"id\": \"76a9fc9d-45b4-4bb6-9429-6b62b53f7bee\", \"type\": \"PanTool\"}, {\"id\": \"70186d91-00e1-446e-b32b-c3f578eff0cd\", \"type\": \"WheelZoomTool\"}, {\"id\": \"63157253-7724-4fd6-aeaa-1c961defcf58\", \"type\": \"BoxZoomTool\"}, {\"id\": \"846236df-f6e7-4150-a1e2-18612f097a90\", \"type\": \"PreviewSaveTool\"}, {\"id\": \"4a08ca3e-635e-4bf3-950b-6cec77324a11\", \"type\": \"ResizeTool\"}, {\"id\": \"c85e514f-d6fe-4175-b3be-750186e64472\", \"type\": \"ResetTool\"}, {\"id\": \"fcac7163-d336-46fd-8c92-5a51a5e99902\", \"type\": \"HelpTool\"}], \"plot_width\": 250, \"tool_events\": {\"id\": \"15c9215f-3b4d-4ed5-8ea0-f150b7ede1a2\", \"type\": \"ToolEvents\"}}, \"id\": \"981c49ce-3d19-4d18-a877-d7e61dc82a6d\", \"subtype\": \"Figure\", \"type\": \"Plot\"}, {\"attributes\": {}, \"id\": \"2cc71785-6211-458f-bc58-c28a5fb7df59\", \"type\": \"BasicTickFormatter\"}, {\"attributes\": {}, \"id\": \"e7b643c7-d71f-47f0-826f-6e2ff4db11bb\", \"type\": \"ToolEvents\"}, {\"attributes\": {\"plot\": {\"id\": \"4c7f5c64-5429-4d46-9cf3-eb5bedafd6dd\", \"subtype\": \"Figure\", \"type\": \"Plot\"}}, \"id\": \"4076aefd-9232-4007-be57-ef5a0fdff941\", \"type\": \"ResizeTool\"}, {\"attributes\": {\"callback\": null, \"bounds\": null}, \"id\": \"ad22a587-ac4f-4496-afcf-1f7445587c44\", \"type\": \"DataRange1d\"}, {\"attributes\": {\"ticker\": {\"id\": \"10d6862c-2753-49e3-91e3-47d310a065ea\", \"type\": \"BasicTicker\"}, \"plot\": {\"id\": \"4c7f5c64-5429-4d46-9cf3-eb5bedafd6dd\", \"subtype\": \"Figure\", \"type\": \"Plot\"}}, \"id\": \"2643c888-c66e-4311-b937-443f282444dd\", \"type\": \"Grid\"}, {\"attributes\": {\"ticker\": {\"id\": \"46b09c3f-ee2c-4704-a070-aef2f2991065\", \"type\": \"BasicTicker\"}, \"formatter\": {\"id\": \"2cc71785-6211-458f-bc58-c28a5fb7df59\", \"type\": \"BasicTickFormatter\"}, \"plot\": {\"id\": \"c8a04216-e432-4fdc-a59c-94cbcd986d9b\", \"subtype\": \"Figure\", \"type\": \"Plot\"}}, \"id\": \"05229702-d4ce-4662-bd70-d71a2d26b122\", \"type\": \"LinearAxis\"}, {\"attributes\": {\"callback\": null, \"bounds\": null}, \"id\": \"f262b6da-fa2c-4e52-9519-ba22b9716d7d\", \"type\": \"DataRange1d\"}, {\"attributes\": {\"data\": {\"x\": [0, 1, 2, 3, 4, 5, 6, 7, 8, 9, 10], \"y\": [0, 1, 2, 3, 4, 5, 6, 7, 8, 9, 10]}, \"callback\": null, \"column_names\": [\"y\", \"x\"]}, \"id\": \"96efeeec-6224-4b68-abd5-045f7e87c849\", \"type\": \"ColumnDataSource\"}, {\"attributes\": {\"line_width\": {\"value\": 2}, \"bottom_units\": \"screen\", \"level\": \"overlay\", \"top_units\": \"screen\", \"fill_alpha\": {\"value\": 0.5}, \"fill_color\": {\"value\": \"lightgrey\"}, \"line_dash\": [4, 4], \"render_mode\": \"css\", \"plot\": null, \"right_units\": \"screen\", \"line_alpha\": {\"value\": 1.0}, \"line_color\": {\"value\": \"black\"}, \"left_units\": \"screen\"}, \"id\": \"9120b0c6-563f-45d4-a25c-6084602650aa\", \"type\": \"BoxAnnotation\"}, {\"attributes\": {}, \"id\": \"2deb5a39-8dc6-485a-a356-c5f6d76b2f6c\", \"type\": \"BasicTicker\"}, {\"attributes\": {\"plot\": {\"id\": \"4c7f5c64-5429-4d46-9cf3-eb5bedafd6dd\", \"subtype\": \"Figure\", \"type\": \"Plot\"}}, \"id\": \"a7b4f570-c087-46f3-96b0-bb6209a7aca8\", \"type\": \"PanTool\"}]}, \"title\": \"Bokeh Application\", \"version\": \"0.11.0dev9\"}};\n",
       "        var render_items = [{\"notebook_comms_target\": \"3abc90a6-7a94-4039-a5db-e47bcf0d39eb\", \"modelid\": \"17c7b22d-95be-4410-879b-8872f9b05d0b\", \"elementid\": \"9da69b62-119d-463a-b088-343a1b90727b\", \"docid\": \"df6ada1d-76c6-43d9-a558-b978613bb57d\"}];\n",
       "        \n",
       "        Bokeh.embed.embed_items(docs_json, render_items);\n",
       "    });\n",
       "    </script>\n",
       "\n",
       "    <div class=\"plotdiv\" id=\"9da69b62-119d-463a-b088-343a1b90727b\"></div>\n",
       "\n"
      ]
     },
     "metadata": {},
     "output_type": "display_data"
    },
    {
     "data": {
      "text/plain": [
       "<bokeh.io._CommsHandle at 0x1088549b0>"
      ]
     },
     "execution_count": 11,
     "metadata": {},
     "output_type": "execute_result"
    }
   ],
   "source": [
    "p = gridplot([[s1, s2, s3]], toolbar_location=None)\n",
    "\n",
    "# show the results\n",
    "show(p)\n",
    "\n",
    "# pan the plots below"
   ]
  },
  {
   "cell_type": "code",
   "execution_count": null,
   "metadata": {
    "collapsed": false
   },
   "outputs": [],
   "source": []
  },
  {
   "cell_type": "code",
   "execution_count": null,
   "metadata": {
    "collapsed": true
   },
   "outputs": [],
   "source": []
  },
  {
   "cell_type": "code",
   "execution_count": null,
   "metadata": {
    "collapsed": true
   },
   "outputs": [],
   "source": []
  }
 ],
 "metadata": {
  "kernelspec": {
   "display_name": "Python 3",
   "language": "python",
   "name": "python3"
  },
  "language_info": {
   "codemirror_mode": {
    "name": "ipython",
    "version": 3
   },
   "file_extension": ".py",
   "mimetype": "text/x-python",
   "name": "python",
   "nbconvert_exporter": "python",
   "pygments_lexer": "ipython3",
   "version": "3.5.1"
  }
 },
 "nbformat": 4,
 "nbformat_minor": 0
}
