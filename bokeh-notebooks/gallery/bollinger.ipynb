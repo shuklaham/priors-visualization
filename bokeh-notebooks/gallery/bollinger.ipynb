{
 "cells": [
  {
   "cell_type": "code",
   "execution_count": 1,
   "metadata": {
    "collapsed": false
   },
   "outputs": [],
   "source": [
    "from bokeh.plotting import figure, output_notebook, show\n",
    "import numpy as np"
   ]
  },
  {
   "cell_type": "code",
   "execution_count": 2,
   "metadata": {
    "collapsed": false
   },
   "outputs": [
    {
     "data": {
      "text/html": [
       "\n",
       "    \n",
       "<script type=\"text/javascript\" src=\"https://cdn.pydata.org/bokeh/dev/bokeh-0.11.0dev9.min.js\"></script>\n",
       "<script type=\"text/javascript\" src=\"https://cdn.pydata.org/bokeh/dev/bokeh-widgets-0.11.0dev9.min.js\"></script>\n",
       "<script type=\"text/javascript\" src=\"https://cdn.pydata.org/bokeh/dev/bokeh-compiler-0.11.0dev9.min.js\"></script>\n",
       "<script type=\"text/javascript\">\n",
       "    Bokeh.set_log_level(\"info\");\n",
       "</script>\n",
       "    \n",
       "<link rel=\"stylesheet\" href=\"https://cdn.pydata.org/bokeh/dev/bokeh-0.11.0dev9.min.css\" type=\"text/css\" />\n",
       "<link rel=\"stylesheet\" href=\"https://cdn.pydata.org/bokeh/dev/bokeh-widgets-0.11.0dev9.min.css\" type=\"text/css\" />\n",
       "    <div>\n",
       "        <a href=\"http://bokeh.pydata.org\" target=\"_blank\" class=\"bk-logo bk-logo-small bk-logo-notebook\"></a>\n",
       "        <span>BokehJS successfully loaded.</span>\n",
       "    </div>"
      ]
     },
     "metadata": {},
     "output_type": "display_data"
    }
   ],
   "source": [
    "output_notebook()"
   ]
  },
  {
   "cell_type": "code",
   "execution_count": 3,
   "metadata": {
    "collapsed": false
   },
   "outputs": [],
   "source": [
    "# define Bollinger bands\n",
    "upperband = np.random.random_integers(100, 150, size=100)\n",
    "lowerband = upperband - 100\n",
    "x_data = np.arange(1, 101)"
   ]
  },
  {
   "cell_type": "code",
   "execution_count": 4,
   "metadata": {
    "collapsed": false
   },
   "outputs": [],
   "source": [
    "# shading glyph for Bollinger bands\n",
    "band_x = np.append(x_data, x_data[::-1]) \n",
    "band_y = np.append(lowerband, upperband[::-1])  "
   ]
  },
  {
   "cell_type": "code",
   "execution_count": 5,
   "metadata": {
    "collapsed": false
   },
   "outputs": [],
   "source": [
    "p = figure(x_axis_type='datetime')\n",
    "p.title = 'Bollinger Bands'\n",
    "p.plot_height = 600\n",
    "p.plot_width = 800\n",
    "p.grid.grid_line_alpha = 0.4"
   ]
  },
  {
   "cell_type": "code",
   "execution_count": 6,
   "metadata": {
    "collapsed": false
   },
   "outputs": [
    {
     "data": {
      "text/plain": [
       "<bokeh.models.renderers.GlyphRenderer at 0x105ce86d8>"
      ]
     },
     "execution_count": 6,
     "metadata": {},
     "output_type": "execute_result"
    }
   ],
   "source": [
    "p.patch(band_x, band_y, color='#7570B3', fill_alpha=0.2)"
   ]
  },
  {
   "cell_type": "code",
   "execution_count": 7,
   "metadata": {
    "collapsed": false
   },
   "outputs": [
    {
     "data": {
      "text/html": [
       "\n",
       "\n",
       "    \n",
       "    \n",
       "    <script type=\"text/javascript\">\n",
       "        Bokeh.$(function() {\n",
       "        var docs_json = {\"3796d720-43db-4e90-9ce3-b2944c73cfe0\": {\"title\": \"Bokeh Application\", \"version\": \"0.11.0dev9\", \"roots\": {\"references\": [{\"attributes\": {}, \"id\": \"9914383b-e9c6-460f-9182-a620d781f9e6\", \"type\": \"ToolEvents\"}, {\"attributes\": {\"plot\": {\"subtype\": \"Figure\", \"id\": \"3c3b09dc-e54f-4c35-bb55-ee2852e5b303\", \"type\": \"Plot\"}}, \"id\": \"ac0f1dcb-679e-429a-82c5-6c10689d7f39\", \"type\": \"PanTool\"}, {\"attributes\": {\"plot\": {\"subtype\": \"Figure\", \"id\": \"3c3b09dc-e54f-4c35-bb55-ee2852e5b303\", \"type\": \"Plot\"}}, \"id\": \"c1d02db2-55aa-4fcd-9400-da9c06cbcf28\", \"type\": \"ResetTool\"}, {\"attributes\": {\"days\": [1, 4, 7, 10, 13, 16, 19, 22, 25, 28]}, \"id\": \"986263a3-de45-4b6b-a9d4-2caf9e7f3c34\", \"type\": \"DaysTicker\"}, {\"attributes\": {\"data\": {\"y\": [38, 3, 13, 39, 14, 35, 39, 12, 11, 20, 10, 31, 36, 28, 21, 11, 35, 45, 21, 26, 7, 46, 49, 21, 32, 3, 36, 16, 1, 13, 7, 45, 7, 8, 22, 21, 16, 47, 46, 34, 1, 2, 10, 40, 40, 47, 19, 19, 21, 15, 46, 15, 19, 0, 13, 31, 34, 38, 42, 47, 27, 2, 0, 27, 21, 28, 28, 20, 7, 13, 9, 15, 37, 2, 9, 21, 9, 33, 2, 49, 16, 48, 33, 31, 48, 2, 33, 18, 18, 15, 27, 5, 33, 4, 42, 39, 20, 48, 6, 24, 124, 106, 148, 120, 139, 142, 104, 133, 105, 127, 115, 118, 118, 133, 102, 148, 131, 133, 148, 116, 149, 102, 133, 109, 121, 109, 102, 137, 115, 109, 113, 107, 120, 128, 128, 121, 127, 100, 102, 127, 147, 142, 138, 134, 131, 113, 100, 119, 115, 146, 115, 121, 119, 119, 147, 140, 140, 110, 102, 101, 134, 146, 147, 116, 121, 122, 108, 107, 145, 107, 113, 101, 116, 136, 103, 132, 121, 149, 146, 107, 126, 121, 145, 135, 111, 121, 128, 136, 131, 110, 120, 111, 112, 139, 135, 114, 139, 113, 103, 138], \"x\": [1, 2, 3, 4, 5, 6, 7, 8, 9, 10, 11, 12, 13, 14, 15, 16, 17, 18, 19, 20, 21, 22, 23, 24, 25, 26, 27, 28, 29, 30, 31, 32, 33, 34, 35, 36, 37, 38, 39, 40, 41, 42, 43, 44, 45, 46, 47, 48, 49, 50, 51, 52, 53, 54, 55, 56, 57, 58, 59, 60, 61, 62, 63, 64, 65, 66, 67, 68, 69, 70, 71, 72, 73, 74, 75, 76, 77, 78, 79, 80, 81, 82, 83, 84, 85, 86, 87, 88, 89, 90, 91, 92, 93, 94, 95, 96, 97, 98, 99, 100, 100, 99, 98, 97, 96, 95, 94, 93, 92, 91, 90, 89, 88, 87, 86, 85, 84, 83, 82, 81, 80, 79, 78, 77, 76, 75, 74, 73, 72, 71, 70, 69, 68, 67, 66, 65, 64, 63, 62, 61, 60, 59, 58, 57, 56, 55, 54, 53, 52, 51, 50, 49, 48, 47, 46, 45, 44, 43, 42, 41, 40, 39, 38, 37, 36, 35, 34, 33, 32, 31, 30, 29, 28, 27, 26, 25, 24, 23, 22, 21, 20, 19, 18, 17, 16, 15, 14, 13, 12, 11, 10, 9, 8, 7, 6, 5, 4, 3, 2, 1]}, \"column_names\": [\"y\", \"x\"], \"callback\": null}, \"id\": \"39c1cb79-b738-4cf1-b7d3-1bb1c1db0cad\", \"type\": \"ColumnDataSource\"}, {\"attributes\": {\"days\": [1, 8, 15, 22]}, \"id\": \"51bea2ee-cbca-42ee-b355-559a338aaec2\", \"type\": \"DaysTicker\"}, {\"attributes\": {\"selection_glyph\": null, \"hover_glyph\": null, \"data_source\": {\"id\": \"39c1cb79-b738-4cf1-b7d3-1bb1c1db0cad\", \"type\": \"ColumnDataSource\"}, \"glyph\": {\"id\": \"c59104be-67cb-4a5d-b8c5-72a8a5410f98\", \"type\": \"Patch\"}, \"nonselection_glyph\": {\"id\": \"f29bc7de-ebd4-43bf-8a7d-cda3f6e8b47b\", \"type\": \"Patch\"}}, \"id\": \"e81a1de9-bc32-4500-9046-9ee88cdbd54a\", \"type\": \"GlyphRenderer\"}, {\"attributes\": {\"plot\": {\"subtype\": \"Figure\", \"id\": \"3c3b09dc-e54f-4c35-bb55-ee2852e5b303\", \"type\": \"Plot\"}}, \"id\": \"ca1c126b-7b76-4622-b453-7fc1f6567ddf\", \"type\": \"PreviewSaveTool\"}, {\"attributes\": {\"plot\": {\"subtype\": \"Figure\", \"id\": \"3c3b09dc-e54f-4c35-bb55-ee2852e5b303\", \"type\": \"Plot\"}}, \"id\": \"35b699db-a64c-4853-8ce3-6d99d4041407\", \"type\": \"HelpTool\"}, {\"attributes\": {\"months\": [0, 1, 2, 3, 4, 5, 6, 7, 8, 9, 10, 11]}, \"id\": \"b3cb6f76-eae4-4f0f-a052-59dccc7714a5\", \"type\": \"MonthsTicker\"}, {\"attributes\": {\"plot\": {\"subtype\": \"Figure\", \"id\": \"3c3b09dc-e54f-4c35-bb55-ee2852e5b303\", \"type\": \"Plot\"}}, \"id\": \"0ad6b051-5986-4179-b0df-bc5e9988fba7\", \"type\": \"ResizeTool\"}, {\"attributes\": {\"plot\": {\"subtype\": \"Figure\", \"id\": \"3c3b09dc-e54f-4c35-bb55-ee2852e5b303\", \"type\": \"Plot\"}, \"overlay\": {\"id\": \"c88ed2de-9035-49e5-996c-fb9e274f0f71\", \"type\": \"BoxAnnotation\"}}, \"id\": \"98321c9c-f92c-408c-b97f-66ed2563134f\", \"type\": \"BoxZoomTool\"}, {\"attributes\": {\"days\": [1, 15]}, \"id\": \"b120a091-de52-4272-a626-30ba95a98ff1\", \"type\": \"DaysTicker\"}, {\"attributes\": {\"ticker\": {\"id\": \"2700558b-7b19-4213-9cdd-fa405d7fb0ae\", \"type\": \"BasicTicker\"}, \"plot\": {\"subtype\": \"Figure\", \"id\": \"3c3b09dc-e54f-4c35-bb55-ee2852e5b303\", \"type\": \"Plot\"}, \"formatter\": {\"id\": \"0790d1d3-82b3-416c-8e50-12be813a7b94\", \"type\": \"BasicTickFormatter\"}}, \"id\": \"c30e49eb-1d08-49db-95c4-f882785a68fa\", \"type\": \"LinearAxis\"}, {\"attributes\": {\"ticker\": {\"id\": \"7420322a-c8a7-4de4-962a-e5ee6a989c26\", \"type\": \"DatetimeTicker\"}, \"plot\": {\"subtype\": \"Figure\", \"id\": \"3c3b09dc-e54f-4c35-bb55-ee2852e5b303\", \"type\": \"Plot\"}, \"grid_line_alpha\": {\"value\": 0.4}}, \"id\": \"ac171408-e6b1-4a54-83b1-0e959a755cbb\", \"type\": \"Grid\"}, {\"attributes\": {\"y\": {\"field\": \"y\"}, \"fill_alpha\": {\"value\": 0.2}, \"x\": {\"field\": \"x\"}, \"line_color\": {\"value\": \"#7570B3\"}, \"fill_color\": {\"value\": \"#7570B3\"}}, \"id\": \"c59104be-67cb-4a5d-b8c5-72a8a5410f98\", \"type\": \"Patch\"}, {\"attributes\": {}, \"id\": \"2700558b-7b19-4213-9cdd-fa405d7fb0ae\", \"type\": \"BasicTicker\"}, {\"attributes\": {\"x_range\": {\"id\": \"5fa47f4a-30a9-4e2a-9ebb-e4baf6440185\", \"type\": \"DataRange1d\"}, \"title\": \"Bollinger Bands\", \"tools\": [{\"id\": \"ac0f1dcb-679e-429a-82c5-6c10689d7f39\", \"type\": \"PanTool\"}, {\"id\": \"c630ecd7-d10f-4b40-9ab3-fdd7332c0067\", \"type\": \"WheelZoomTool\"}, {\"id\": \"98321c9c-f92c-408c-b97f-66ed2563134f\", \"type\": \"BoxZoomTool\"}, {\"id\": \"ca1c126b-7b76-4622-b453-7fc1f6567ddf\", \"type\": \"PreviewSaveTool\"}, {\"id\": \"0ad6b051-5986-4179-b0df-bc5e9988fba7\", \"type\": \"ResizeTool\"}, {\"id\": \"c1d02db2-55aa-4fcd-9400-da9c06cbcf28\", \"type\": \"ResetTool\"}, {\"id\": \"35b699db-a64c-4853-8ce3-6d99d4041407\", \"type\": \"HelpTool\"}], \"renderers\": [{\"id\": \"c5018a46-5ae9-49f0-9657-574c253d6eb8\", \"type\": \"DatetimeAxis\"}, {\"id\": \"ac171408-e6b1-4a54-83b1-0e959a755cbb\", \"type\": \"Grid\"}, {\"id\": \"c30e49eb-1d08-49db-95c4-f882785a68fa\", \"type\": \"LinearAxis\"}, {\"id\": \"2cc6c329-6d2b-45db-ab57-7c4ae0ee7a6a\", \"type\": \"Grid\"}, {\"id\": \"c88ed2de-9035-49e5-996c-fb9e274f0f71\", \"type\": \"BoxAnnotation\"}, {\"id\": \"e81a1de9-bc32-4500-9046-9ee88cdbd54a\", \"type\": \"GlyphRenderer\"}], \"plot_width\": 800, \"below\": [{\"id\": \"c5018a46-5ae9-49f0-9657-574c253d6eb8\", \"type\": \"DatetimeAxis\"}], \"left\": [{\"id\": \"c30e49eb-1d08-49db-95c4-f882785a68fa\", \"type\": \"LinearAxis\"}], \"y_range\": {\"id\": \"817e5406-e7eb-48ba-a958-8a9747a9d463\", \"type\": \"DataRange1d\"}, \"tool_events\": {\"id\": \"9914383b-e9c6-460f-9182-a620d781f9e6\", \"type\": \"ToolEvents\"}}, \"id\": \"3c3b09dc-e54f-4c35-bb55-ee2852e5b303\", \"subtype\": \"Figure\", \"type\": \"Plot\"}, {\"attributes\": {}, \"id\": \"a2b784c1-fa5a-4cca-90b2-3b05ed7afa57\", \"type\": \"YearsTicker\"}, {\"attributes\": {\"num_minor_ticks\": 0, \"max_interval\": 500.0}, \"id\": \"4b7ca36e-5ef3-48b4-b2d3-4926c3282d08\", \"type\": \"AdaptiveTicker\"}, {\"attributes\": {\"months\": [0, 6]}, \"id\": \"d6e1d296-30d3-4f52-8b77-754b4e13eb9e\", \"type\": \"MonthsTicker\"}, {\"attributes\": {}, \"id\": \"8f094b6c-b7d4-4365-99ba-4b9cb927713b\", \"type\": \"DatetimeTickFormatter\"}, {\"attributes\": {\"num_minor_ticks\": 0, \"base\": 24, \"min_interval\": 3600000.0, \"mantissas\": [1, 2, 4, 6, 8, 12], \"max_interval\": 43200000.0}, \"id\": \"c04f9c85-1a65-465c-900e-d676f84031e5\", \"type\": \"AdaptiveTicker\"}, {\"attributes\": {\"dimension\": 1, \"ticker\": {\"id\": \"2700558b-7b19-4213-9cdd-fa405d7fb0ae\", \"type\": \"BasicTicker\"}, \"plot\": {\"subtype\": \"Figure\", \"id\": \"3c3b09dc-e54f-4c35-bb55-ee2852e5b303\", \"type\": \"Plot\"}, \"grid_line_alpha\": {\"value\": 0.4}}, \"id\": \"2cc6c329-6d2b-45db-ab57-7c4ae0ee7a6a\", \"type\": \"Grid\"}, {\"attributes\": {\"line_dash\": [4, 4], \"level\": \"overlay\", \"plot\": null, \"fill_alpha\": {\"value\": 0.5}, \"line_color\": {\"value\": \"black\"}, \"line_alpha\": {\"value\": 1.0}, \"line_width\": {\"value\": 2}, \"left_units\": \"screen\", \"render_mode\": \"css\", \"right_units\": \"screen\", \"fill_color\": {\"value\": \"lightgrey\"}, \"bottom_units\": \"screen\", \"top_units\": \"screen\"}, \"id\": \"c88ed2de-9035-49e5-996c-fb9e274f0f71\", \"type\": \"BoxAnnotation\"}, {\"attributes\": {\"num_minor_ticks\": 5}, \"id\": \"7420322a-c8a7-4de4-962a-e5ee6a989c26\", \"type\": \"DatetimeTicker\"}, {\"attributes\": {\"months\": [0, 4, 8]}, \"id\": \"72e1d4aa-d8b0-40aa-9593-9497169f09f2\", \"type\": \"MonthsTicker\"}, {\"attributes\": {\"months\": [0, 2, 4, 6, 8, 10]}, \"id\": \"ab5db25c-5616-4cce-8f5c-520736d486c3\", \"type\": \"MonthsTicker\"}, {\"attributes\": {\"ticker\": {\"id\": \"7420322a-c8a7-4de4-962a-e5ee6a989c26\", \"type\": \"DatetimeTicker\"}, \"plot\": {\"subtype\": \"Figure\", \"id\": \"3c3b09dc-e54f-4c35-bb55-ee2852e5b303\", \"type\": \"Plot\"}, \"formatter\": {\"id\": \"8f094b6c-b7d4-4365-99ba-4b9cb927713b\", \"type\": \"DatetimeTickFormatter\"}}, \"id\": \"c5018a46-5ae9-49f0-9657-574c253d6eb8\", \"type\": \"DatetimeAxis\"}, {\"attributes\": {\"callback\": null}, \"id\": \"817e5406-e7eb-48ba-a958-8a9747a9d463\", \"type\": \"DataRange1d\"}, {\"attributes\": {\"num_minor_ticks\": 0, \"base\": 60, \"min_interval\": 1000.0, \"mantissas\": [1, 2, 5, 10, 15, 20, 30], \"max_interval\": 1800000.0}, \"id\": \"716dc72b-660b-45fc-9dce-c1672ff8b114\", \"type\": \"AdaptiveTicker\"}, {\"attributes\": {\"callback\": null}, \"id\": \"5fa47f4a-30a9-4e2a-9ebb-e4baf6440185\", \"type\": \"DataRange1d\"}, {\"attributes\": {\"days\": [1, 2, 3, 4, 5, 6, 7, 8, 9, 10, 11, 12, 13, 14, 15, 16, 17, 18, 19, 20, 21, 22, 23, 24, 25, 26, 27, 28, 29, 30, 31]}, \"id\": \"5aec4a3d-8e28-451d-8f32-68180d9a37ab\", \"type\": \"DaysTicker\"}, {\"attributes\": {\"plot\": {\"subtype\": \"Figure\", \"id\": \"3c3b09dc-e54f-4c35-bb55-ee2852e5b303\", \"type\": \"Plot\"}}, \"id\": \"c630ecd7-d10f-4b40-9ab3-fdd7332c0067\", \"type\": \"WheelZoomTool\"}, {\"attributes\": {\"fill_alpha\": {\"value\": 0.1}, \"x\": {\"field\": \"x\"}, \"fill_color\": {\"value\": \"#1f77b4\"}, \"y\": {\"field\": \"y\"}, \"line_color\": {\"value\": \"#1f77b4\"}, \"line_alpha\": {\"value\": 0.1}}, \"id\": \"f29bc7de-ebd4-43bf-8a7d-cda3f6e8b47b\", \"type\": \"Patch\"}, {\"attributes\": {}, \"id\": \"0790d1d3-82b3-416c-8e50-12be813a7b94\", \"type\": \"BasicTickFormatter\"}], \"root_ids\": [\"3c3b09dc-e54f-4c35-bb55-ee2852e5b303\"]}}};\n",
       "        var render_items = [{\"docid\": \"3796d720-43db-4e90-9ce3-b2944c73cfe0\", \"modelid\": \"3c3b09dc-e54f-4c35-bb55-ee2852e5b303\", \"notebook_comms_target\": \"e7a6d0b9-dc64-40bc-ba39-771b6d54155d\", \"elementid\": \"02f3e9f8-ef8a-4212-b6ad-e311bd09782d\"}];\n",
       "        \n",
       "        Bokeh.embed.embed_items(docs_json, render_items);\n",
       "    });\n",
       "    </script>\n",
       "\n",
       "    <div class=\"plotdiv\" id=\"02f3e9f8-ef8a-4212-b6ad-e311bd09782d\"></div>\n",
       "\n"
      ]
     },
     "metadata": {},
     "output_type": "display_data"
    },
    {
     "data": {
      "text/plain": [
       "<bokeh.io._CommsHandle at 0x10881e2b0>"
      ]
     },
     "execution_count": 7,
     "metadata": {},
     "output_type": "execute_result"
    }
   ],
   "source": [
    "show(p)"
   ]
  },
  {
   "cell_type": "code",
   "execution_count": null,
   "metadata": {
    "collapsed": false
   },
   "outputs": [],
   "source": []
  }
 ],
 "metadata": {
  "kernelspec": {
   "display_name": "Python 3",
   "language": "python",
   "name": "python3"
  },
  "language_info": {
   "codemirror_mode": {
    "name": "ipython",
    "version": 3
   },
   "file_extension": ".py",
   "mimetype": "text/x-python",
   "name": "python",
   "nbconvert_exporter": "python",
   "pygments_lexer": "ipython3",
   "version": "3.5.1"
  }
 },
 "nbformat": 4,
 "nbformat_minor": 0
}
