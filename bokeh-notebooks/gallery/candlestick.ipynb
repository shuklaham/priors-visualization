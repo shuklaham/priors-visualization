{
 "cells": [
  {
   "cell_type": "code",
   "execution_count": 1,
   "metadata": {
    "collapsed": false
   },
   "outputs": [],
   "source": [
    "from math import pi\n",
    "import pandas as pd\n",
    "\n",
    "from bokeh.sampledata.stocks import MSFT\n",
    "from bokeh.plotting import figure, output_notebook, show"
   ]
  },
  {
   "cell_type": "code",
   "execution_count": 2,
   "metadata": {
    "collapsed": false
   },
   "outputs": [],
   "source": [
    "df = pd.DataFrame(MSFT)[:50]\n",
    "df['date'] = pd.to_datetime(df['date'])\n",
    "\n",
    "mids = (df.open + df.close)/2\n",
    "spans = abs(df.close-df.open)\n",
    "\n",
    "inc = df.close > df.open\n",
    "dec = df.open > df.close\n",
    "w = 12*60*60*1000 # half day in ms"
   ]
  },
  {
   "cell_type": "code",
   "execution_count": 3,
   "metadata": {
    "collapsed": false
   },
   "outputs": [
    {
     "data": {
      "text/html": [
       "\n",
       "    \n",
       "<script type=\"text/javascript\" src=\"https://cdn.pydata.org/bokeh/dev/bokeh-0.11.0dev9.min.js\"></script>\n",
       "<script type=\"text/javascript\" src=\"https://cdn.pydata.org/bokeh/dev/bokeh-widgets-0.11.0dev9.min.js\"></script>\n",
       "<script type=\"text/javascript\" src=\"https://cdn.pydata.org/bokeh/dev/bokeh-compiler-0.11.0dev9.min.js\"></script>\n",
       "<script type=\"text/javascript\">\n",
       "    Bokeh.set_log_level(\"info\");\n",
       "</script>\n",
       "    \n",
       "<link rel=\"stylesheet\" href=\"https://cdn.pydata.org/bokeh/dev/bokeh-0.11.0dev9.min.css\" type=\"text/css\" />\n",
       "<link rel=\"stylesheet\" href=\"https://cdn.pydata.org/bokeh/dev/bokeh-widgets-0.11.0dev9.min.css\" type=\"text/css\" />\n",
       "    <div>\n",
       "        <a href=\"http://bokeh.pydata.org\" target=\"_blank\" class=\"bk-logo bk-logo-small bk-logo-notebook\"></a>\n",
       "        <span>BokehJS successfully loaded.</span>\n",
       "    </div>"
      ]
     },
     "metadata": {},
     "output_type": "display_data"
    }
   ],
   "source": [
    "output_notebook()"
   ]
  },
  {
   "cell_type": "code",
   "execution_count": 4,
   "metadata": {
    "collapsed": false
   },
   "outputs": [],
   "source": [
    "p = figure(x_axis_type=\"datetime\", plot_width=1000)\n",
    "p.title = \"MSFT Candlestick\"\n",
    "p.xaxis.major_label_orientation = pi/4\n",
    "p.grid.grid_line_alpha=0.3"
   ]
  },
  {
   "cell_type": "code",
   "execution_count": 5,
   "metadata": {
    "collapsed": false
   },
   "outputs": [
    {
     "data": {
      "text/plain": [
       "<bokeh.models.renderers.GlyphRenderer at 0x1089ab358>"
      ]
     },
     "execution_count": 5,
     "metadata": {},
     "output_type": "execute_result"
    }
   ],
   "source": [
    "p.segment(df.date, df.high, df.date, df.low, color='black')\n",
    "p.rect(df.date[inc], mids[inc], w, spans[inc], fill_color=\"#D5E1DD\", line_color=\"black\")\n",
    "p.rect(df.date[dec], mids[dec], w, spans[dec], fill_color=\"#F2583E\", line_color=\"black\")"
   ]
  },
  {
   "cell_type": "code",
   "execution_count": 6,
   "metadata": {
    "collapsed": false
   },
   "outputs": [
    {
     "data": {
      "text/html": [
       "\n",
       "\n",
       "    \n",
       "    \n",
       "    <script type=\"text/javascript\">\n",
       "        Bokeh.$(function() {\n",
       "        var docs_json = {\"150ac2be-5814-4a8a-9789-8922697eef8f\": {\"version\": \"0.11.0dev9\", \"title\": \"Bokeh Application\", \"roots\": {\"root_ids\": [\"c917372e-4a01-44a3-9397-ee9cdc8d3aca\"], \"references\": [{\"attributes\": {\"line_color\": {\"value\": \"#1f77b4\"}, \"fill_color\": {\"value\": \"#1f77b4\"}, \"width\": {\"units\": \"data\", \"value\": 43200000}, \"line_alpha\": {\"value\": 0.1}, \"x\": {\"field\": \"x\"}, \"height\": {\"units\": \"data\", \"field\": \"height\"}, \"y\": {\"field\": \"y\"}, \"fill_alpha\": {\"value\": 0.1}}, \"id\": \"7274fcfd-305e-447f-8b67-ba8f13e659a1\", \"type\": \"Rect\"}, {\"attributes\": {}, \"id\": \"6bdc590a-1c69-4325-b0ec-b666caf9aeed\", \"type\": \"DatetimeTickFormatter\"}, {\"attributes\": {\"plot\": {\"subtype\": \"Figure\", \"id\": \"c917372e-4a01-44a3-9397-ee9cdc8d3aca\", \"type\": \"Plot\"}, \"ticker\": {\"id\": \"f35b370a-5449-4b88-8a86-4aaf8ec4be7f\", \"type\": \"BasicTicker\"}, \"formatter\": {\"id\": \"bd314d00-9999-4ffd-8961-1e45dc5dc47f\", \"type\": \"BasicTickFormatter\"}}, \"id\": \"a298c587-a2bd-461d-9bbd-7f1d13332886\", \"type\": \"LinearAxis\"}, {\"attributes\": {}, \"id\": \"c633a366-2704-489a-9126-51c1dd10f281\", \"type\": \"YearsTicker\"}, {\"attributes\": {\"months\": [0, 1, 2, 3, 4, 5, 6, 7, 8, 9, 10, 11]}, \"id\": \"21414913-4260-4e9e-8466-b208079157d0\", \"type\": \"MonthsTicker\"}, {\"attributes\": {\"max_interval\": 43200000.0, \"min_interval\": 3600000.0, \"base\": 24, \"mantissas\": [1, 2, 4, 6, 8, 12], \"num_minor_ticks\": 0}, \"id\": \"064eda26-10b3-4fcf-843f-ece1173eb57b\", \"type\": \"AdaptiveTicker\"}, {\"attributes\": {\"data_source\": {\"id\": \"b2ea7e71-eee1-41e0-b3d6-16ea85458bf8\", \"type\": \"ColumnDataSource\"}, \"hover_glyph\": null, \"selection_glyph\": null, \"glyph\": {\"id\": \"6ea404ac-ab89-4408-902d-ca7184fa8cfc\", \"type\": \"Rect\"}, \"nonselection_glyph\": {\"id\": \"7274fcfd-305e-447f-8b67-ba8f13e659a1\", \"type\": \"Rect\"}}, \"id\": \"7e9d5400-c0f8-47a1-9f51-c2802992fa44\", \"type\": \"GlyphRenderer\"}, {\"attributes\": {\"y0\": {\"field\": \"y0\"}, \"x1\": {\"field\": \"x1\"}, \"y1\": {\"field\": \"y1\"}, \"x0\": {\"field\": \"x0\"}}, \"id\": \"0ab8a9e8-9374-435a-9a55-9ae6506a8949\", \"type\": \"Segment\"}, {\"attributes\": {\"plot\": {\"subtype\": \"Figure\", \"id\": \"c917372e-4a01-44a3-9397-ee9cdc8d3aca\", \"type\": \"Plot\"}, \"grid_line_alpha\": {\"value\": 0.3}, \"ticker\": {\"id\": \"f35b370a-5449-4b88-8a86-4aaf8ec4be7f\", \"type\": \"BasicTicker\"}, \"dimension\": 1}, \"id\": \"4d581066-0374-4251-a10a-b8db97d69ed6\", \"type\": \"Grid\"}, {\"attributes\": {\"line_color\": {\"value\": \"#1f77b4\"}, \"y1\": {\"field\": \"y1\"}, \"x0\": {\"field\": \"x0\"}, \"y0\": {\"field\": \"y0\"}, \"x1\": {\"field\": \"x1\"}, \"line_alpha\": {\"value\": 0.1}}, \"id\": \"bfe5d290-9b4f-4586-8e02-d025f551c4fd\", \"type\": \"Segment\"}, {\"attributes\": {\"days\": [1, 4, 7, 10, 13, 16, 19, 22, 25, 28]}, \"id\": \"0bd2acfb-7700-474b-bfea-4deec7f59f32\", \"type\": \"DaysTicker\"}, {\"attributes\": {\"plot\": {\"subtype\": \"Figure\", \"id\": \"c917372e-4a01-44a3-9397-ee9cdc8d3aca\", \"type\": \"Plot\"}}, \"id\": \"36bcf108-f0c5-462a-8287-437d222a6b5c\", \"type\": \"HelpTool\"}, {\"attributes\": {\"days\": [1, 8, 15, 22]}, \"id\": \"cdadc95b-17bb-46f2-a574-0709c27d683a\", \"type\": \"DaysTicker\"}, {\"subtype\": \"Figure\", \"attributes\": {\"tools\": [{\"id\": \"1f1c4b3f-ed4f-4157-b619-c196298bfb0b\", \"type\": \"PanTool\"}, {\"id\": \"bdb5abac-e7d3-4e36-a58e-3d4ce4ec5701\", \"type\": \"WheelZoomTool\"}, {\"id\": \"8271586e-5564-4455-a98a-6161493ec375\", \"type\": \"BoxZoomTool\"}, {\"id\": \"cee5424d-8593-492c-9c92-e2a5081e5570\", \"type\": \"PreviewSaveTool\"}, {\"id\": \"eecf5f2c-a03f-4461-a42c-6d1f35f3b1fe\", \"type\": \"ResizeTool\"}, {\"id\": \"ba09e9cb-2873-4699-8fce-1a749cc8b84a\", \"type\": \"ResetTool\"}, {\"id\": \"36bcf108-f0c5-462a-8287-437d222a6b5c\", \"type\": \"HelpTool\"}], \"renderers\": [{\"id\": \"eb295de0-f072-4f39-9d95-495a63cb99bc\", \"type\": \"DatetimeAxis\"}, {\"id\": \"285881dd-28b4-4bfd-bcb1-206eac5b4356\", \"type\": \"Grid\"}, {\"id\": \"a298c587-a2bd-461d-9bbd-7f1d13332886\", \"type\": \"LinearAxis\"}, {\"id\": \"4d581066-0374-4251-a10a-b8db97d69ed6\", \"type\": \"Grid\"}, {\"id\": \"2c6ad5e3-3ed4-4756-a8f6-de697e231dd9\", \"type\": \"BoxAnnotation\"}, {\"id\": \"a3db213b-e16a-4cd8-a37d-a94ff12a8aee\", \"type\": \"GlyphRenderer\"}, {\"id\": \"7e9d5400-c0f8-47a1-9f51-c2802992fa44\", \"type\": \"GlyphRenderer\"}, {\"id\": \"494b475f-4e81-4f27-bac6-d29eea199ab8\", \"type\": \"GlyphRenderer\"}], \"below\": [{\"id\": \"eb295de0-f072-4f39-9d95-495a63cb99bc\", \"type\": \"DatetimeAxis\"}], \"plot_width\": 1000, \"left\": [{\"id\": \"a298c587-a2bd-461d-9bbd-7f1d13332886\", \"type\": \"LinearAxis\"}], \"y_range\": {\"id\": \"a97c6dba-caca-4210-bdb7-ed7e9dfdc6ba\", \"type\": \"DataRange1d\"}, \"x_range\": {\"id\": \"bac2c597-eea9-42d6-aac5-2ca0a7bf2d04\", \"type\": \"DataRange1d\"}, \"title\": \"MSFT Candlestick\", \"tool_events\": {\"id\": \"cce5cef7-e5f9-4179-a3af-08f8aba35143\", \"type\": \"ToolEvents\"}}, \"id\": \"c917372e-4a01-44a3-9397-ee9cdc8d3aca\", \"type\": \"Plot\"}, {\"attributes\": {\"max_interval\": 1800000.0, \"min_interval\": 1000.0, \"base\": 60, \"mantissas\": [1, 2, 5, 10, 15, 20, 30], \"num_minor_ticks\": 0}, \"id\": \"a17cb151-bd38-4eda-b837-7276a47d1319\", \"type\": \"AdaptiveTicker\"}, {\"attributes\": {\"plot\": {\"subtype\": \"Figure\", \"id\": \"c917372e-4a01-44a3-9397-ee9cdc8d3aca\", \"type\": \"Plot\"}}, \"id\": \"bdb5abac-e7d3-4e36-a58e-3d4ce4ec5701\", \"type\": \"WheelZoomTool\"}, {\"attributes\": {\"days\": [1, 15]}, \"id\": \"14445339-e073-4d4e-a16b-1d5817de7b03\", \"type\": \"DaysTicker\"}, {\"attributes\": {\"callback\": null, \"column_names\": [\"y0\", \"x1\", \"x0\", \"y1\"], \"data\": {\"y0\": [94.09, 95.37, 98.87, 97.37, 97.5, 96.19, 100.0, 102.5, 100.25, 99.25, 96.62, 96.69, 99.5, 99.75, 103.12, 105.62, 112.87, 115.0, 108.25, 107.44, 108.94, 108.62, 108.25, 96.5, 92.0, 88.5, 88.0, 89.37, 88.62, 86.06, 82.25, 82.25, 79.5, 76.0, 81.94, 81.5, 79.87, 68.0, 69.5, 71.12, 69.94, 71.0, 74.0, 73.5, 70.81, 71.25, 71.81, 71.37, 70.44, 67.87], \"x1\": [951868800000.0, 951955200000.0, 952041600000.0, 952300800000.0, 952387200000.0, 952473600000.0, 952560000000.0, 952646400000.0, 952905600000.0, 952992000000.0, 953078400000.0, 953164800000.0, 953251200000.0, 953510400000.0, 953596800000.0, 953683200000.0, 953769600000.0, 953856000000.0, 954115200000.0, 954201600000.0, 954288000000.0, 954374400000.0, 954460800000.0, 954720000000.0, 954806400000.0, 954892800000.0, 954979200000.0, 955065600000.0, 955324800000.0, 955411200000.0, 955497600000.0, 955584000000.0, 955670400000.0, 955929600000.0, 956016000000.0, 956102400000.0, 956188800000.0, 956534400000.0, 956620800000.0, 956707200000.0, 956793600000.0, 956880000000.0, 957139200000.0, 957225600000.0, 957312000000.0, 957398400000.0, 957484800000.0, 957744000000.0, 957830400000.0, 957916800000.0], \"y1\": [88.94, 91.12, 93.87, 90.12, 91.94, 91.0, 95.0, 99.5, 97.5, 95.12, 93.69, 93.25, 94.5, 96.5, 96.5, 101.12, 106.62, 109.56, 103.94, 102.37, 105.12, 102.5, 104.12, 90.0, 84.94, 85.87, 85.27, 85.0, 86.0, 83.5, 78.75, 79.0, 73.25, 73.0, 75.87, 78.12, 77.5, 65.0, 67.62, 67.37, 67.37, 68.25, 71.69, 69.5, 68.81, 69.31, 69.87, 69.69, 67.5, 65.75], \"x0\": [951868800000.0, 951955200000.0, 952041600000.0, 952300800000.0, 952387200000.0, 952473600000.0, 952560000000.0, 952646400000.0, 952905600000.0, 952992000000.0, 953078400000.0, 953164800000.0, 953251200000.0, 953510400000.0, 953596800000.0, 953683200000.0, 953769600000.0, 953856000000.0, 954115200000.0, 954201600000.0, 954288000000.0, 954374400000.0, 954460800000.0, 954720000000.0, 954806400000.0, 954892800000.0, 954979200000.0, 955065600000.0, 955324800000.0, 955411200000.0, 955497600000.0, 955584000000.0, 955670400000.0, 955929600000.0, 956016000000.0, 956102400000.0, 956188800000.0, 956534400000.0, 956620800000.0, 956707200000.0, 956793600000.0, 956880000000.0, 957139200000.0, 957225600000.0, 957312000000.0, 957398400000.0, 957484800000.0, 957744000000.0, 957830400000.0, 957916800000.0]}}, \"id\": \"6e1cb8fb-baea-4a55-a4c8-e77f717ecc7e\", \"type\": \"ColumnDataSource\"}, {\"attributes\": {}, \"id\": \"f35b370a-5449-4b88-8a86-4aaf8ec4be7f\", \"type\": \"BasicTicker\"}, {\"attributes\": {}, \"id\": \"bd314d00-9999-4ffd-8961-1e45dc5dc47f\", \"type\": \"BasicTickFormatter\"}, {\"attributes\": {\"line_color\": {\"value\": \"black\"}, \"fill_color\": {\"value\": \"lightgrey\"}, \"level\": \"overlay\", \"left_units\": \"screen\", \"plot\": null, \"bottom_units\": \"screen\", \"line_alpha\": {\"value\": 1.0}, \"top_units\": \"screen\", \"line_width\": {\"value\": 2}, \"line_dash\": [4, 4], \"right_units\": \"screen\", \"fill_alpha\": {\"value\": 0.5}, \"render_mode\": \"css\"}, \"id\": \"2c6ad5e3-3ed4-4756-a8f6-de697e231dd9\", \"type\": \"BoxAnnotation\"}, {\"attributes\": {\"line_color\": {\"value\": \"#1f77b4\"}, \"fill_color\": {\"value\": \"#1f77b4\"}, \"width\": {\"units\": \"data\", \"value\": 43200000}, \"line_alpha\": {\"value\": 0.1}, \"x\": {\"field\": \"x\"}, \"height\": {\"units\": \"data\", \"field\": \"height\"}, \"y\": {\"field\": \"y\"}, \"fill_alpha\": {\"value\": 0.1}}, \"id\": \"73663923-485f-400c-98bf-ee8df19cac37\", \"type\": \"Rect\"}, {\"attributes\": {\"max_interval\": 500.0, \"num_minor_ticks\": 0}, \"id\": \"b1a7b784-8e0c-4fec-9224-7c3dba449fa7\", \"type\": \"AdaptiveTicker\"}, {\"attributes\": {\"plot\": {\"subtype\": \"Figure\", \"id\": \"c917372e-4a01-44a3-9397-ee9cdc8d3aca\", \"type\": \"Plot\"}, \"ticker\": {\"id\": \"9a4dd2a5-31e7-4b57-96f4-9dbffc4ba414\", \"type\": \"DatetimeTicker\"}, \"formatter\": {\"id\": \"6bdc590a-1c69-4325-b0ec-b666caf9aeed\", \"type\": \"DatetimeTickFormatter\"}, \"major_label_orientation\": 0.7853981633974483}, \"id\": \"eb295de0-f072-4f39-9d95-495a63cb99bc\", \"type\": \"DatetimeAxis\"}, {\"attributes\": {\"days\": [1, 2, 3, 4, 5, 6, 7, 8, 9, 10, 11, 12, 13, 14, 15, 16, 17, 18, 19, 20, 21, 22, 23, 24, 25, 26, 27, 28, 29, 30, 31]}, \"id\": \"15276e23-49c8-4545-a92e-5c60de4db9d0\", \"type\": \"DaysTicker\"}, {\"attributes\": {}, \"id\": \"cce5cef7-e5f9-4179-a3af-08f8aba35143\", \"type\": \"ToolEvents\"}, {\"attributes\": {\"data_source\": {\"id\": \"f2b6795f-ca6a-482f-851f-1b906d58e323\", \"type\": \"ColumnDataSource\"}, \"hover_glyph\": null, \"selection_glyph\": null, \"glyph\": {\"id\": \"093dfb12-ed08-4ab3-8bf1-f5d6b08b548d\", \"type\": \"Rect\"}, \"nonselection_glyph\": {\"id\": \"73663923-485f-400c-98bf-ee8df19cac37\", \"type\": \"Rect\"}}, \"id\": \"494b475f-4e81-4f27-bac6-d29eea199ab8\", \"type\": \"GlyphRenderer\"}, {\"attributes\": {\"x\": {\"field\": \"x\"}, \"height\": {\"units\": \"data\", \"field\": \"height\"}, \"y\": {\"field\": \"y\"}, \"fill_color\": {\"value\": \"#D5E1DD\"}, \"width\": {\"units\": \"data\", \"value\": 43200000}}, \"id\": \"6ea404ac-ab89-4408-902d-ca7184fa8cfc\", \"type\": \"Rect\"}, {\"attributes\": {\"plot\": {\"subtype\": \"Figure\", \"id\": \"c917372e-4a01-44a3-9397-ee9cdc8d3aca\", \"type\": \"Plot\"}}, \"id\": \"cee5424d-8593-492c-9c92-e2a5081e5570\", \"type\": \"PreviewSaveTool\"}, {\"attributes\": {\"months\": [0, 6]}, \"id\": \"06ab038b-4985-445e-88cc-6b05cd8c0811\", \"type\": \"MonthsTicker\"}, {\"attributes\": {\"plot\": {\"subtype\": \"Figure\", \"id\": \"c917372e-4a01-44a3-9397-ee9cdc8d3aca\", \"type\": \"Plot\"}}, \"id\": \"eecf5f2c-a03f-4461-a42c-6d1f35f3b1fe\", \"type\": \"ResizeTool\"}, {\"attributes\": {\"plot\": {\"subtype\": \"Figure\", \"id\": \"c917372e-4a01-44a3-9397-ee9cdc8d3aca\", \"type\": \"Plot\"}, \"grid_line_alpha\": {\"value\": 0.3}, \"ticker\": {\"id\": \"9a4dd2a5-31e7-4b57-96f4-9dbffc4ba414\", \"type\": \"DatetimeTicker\"}}, \"id\": \"285881dd-28b4-4bfd-bcb1-206eac5b4356\", \"type\": \"Grid\"}, {\"attributes\": {\"callback\": null}, \"id\": \"bac2c597-eea9-42d6-aac5-2ca0a7bf2d04\", \"type\": \"DataRange1d\"}, {\"attributes\": {\"data_source\": {\"id\": \"6e1cb8fb-baea-4a55-a4c8-e77f717ecc7e\", \"type\": \"ColumnDataSource\"}, \"hover_glyph\": null, \"selection_glyph\": null, \"glyph\": {\"id\": \"0ab8a9e8-9374-435a-9a55-9ae6506a8949\", \"type\": \"Segment\"}, \"nonselection_glyph\": {\"id\": \"bfe5d290-9b4f-4586-8e02-d025f551c4fd\", \"type\": \"Segment\"}}, \"id\": \"a3db213b-e16a-4cd8-a37d-a94ff12a8aee\", \"type\": \"GlyphRenderer\"}, {\"attributes\": {\"callback\": null}, \"id\": \"a97c6dba-caca-4210-bdb7-ed7e9dfdc6ba\", \"type\": \"DataRange1d\"}, {\"attributes\": {\"plot\": {\"subtype\": \"Figure\", \"id\": \"c917372e-4a01-44a3-9397-ee9cdc8d3aca\", \"type\": \"Plot\"}}, \"id\": \"ba09e9cb-2873-4699-8fce-1a749cc8b84a\", \"type\": \"ResetTool\"}, {\"attributes\": {\"plot\": {\"subtype\": \"Figure\", \"id\": \"c917372e-4a01-44a3-9397-ee9cdc8d3aca\", \"type\": \"Plot\"}}, \"id\": \"1f1c4b3f-ed4f-4157-b619-c196298bfb0b\", \"type\": \"PanTool\"}, {\"attributes\": {\"x\": {\"field\": \"x\"}, \"height\": {\"units\": \"data\", \"field\": \"height\"}, \"y\": {\"field\": \"y\"}, \"fill_color\": {\"value\": \"#F2583E\"}, \"width\": {\"units\": \"data\", \"value\": 43200000}}, \"id\": \"093dfb12-ed08-4ab3-8bf1-f5d6b08b548d\", \"type\": \"Rect\"}, {\"attributes\": {\"months\": [0, 2, 4, 6, 8, 10]}, \"id\": \"8ed04b9b-d33d-4357-b2eb-1b6916e3cdb7\", \"type\": \"MonthsTicker\"}, {\"attributes\": {\"callback\": null, \"column_names\": [\"x\", \"height\", \"y\"], \"data\": {\"x\": [952300800000.0, 952387200000.0, 952992000000.0, 953164800000.0, 953510400000.0, 953856000000.0, 954115200000.0, 954374400000.0, 954720000000.0, 954806400000.0, 954892800000.0, 954979200000.0, 955324800000.0, 955411200000.0, 955497600000.0, 955584000000.0, 955670400000.0, 956102400000.0, 956534400000.0, 956707200000.0, 956880000000.0, 957225600000.0, 957744000000.0, 957830400000.0, 957916800000.0], \"height\": [5.3799999999999955, 3.25, 3.5, 0.5699999999999932, 1.3799999999999955, 0.9300000000000068, 3.7099999999999937, 2.819999999999993, 3.569999999999993, 3.0, 1.8799999999999955, 1.8700000000000045, 2.5600000000000023, 1.25, 2.75, 1.6200000000000045, 5.0, 2.75, 0.6299999999999955, 2.0, 1.0, 2.9399999999999977, 1.1299999999999955, 2.3799999999999955, 1.5600000000000023], \"y\": [93.31, 94.495, 96.87, 95.655, 98.06, 112.155, 105.91499999999999, 104.78, 92.655, 90.06, 87.31, 86.935, 87.34, 84.495, 80.745, 80.06, 76.62, 80.065, 66.935, 69.0, 70.25, 71.34, 70.375, 69.0, 66.97]}}, \"id\": \"f2b6795f-ca6a-482f-851f-1b906d58e323\", \"type\": \"ColumnDataSource\"}, {\"attributes\": {\"months\": [0, 4, 8]}, \"id\": \"80d521b8-a8bc-410a-af20-961dfaab9d3e\", \"type\": \"MonthsTicker\"}, {\"attributes\": {\"callback\": null, \"column_names\": [\"x\", \"height\", \"y\"], \"data\": {\"x\": [951868800000.0, 951955200000.0, 952041600000.0, 952473600000.0, 952560000000.0, 952646400000.0, 952905600000.0, 953078400000.0, 953251200000.0, 953596800000.0, 953683200000.0, 953769600000.0, 954201600000.0, 954288000000.0, 954460800000.0, 955065600000.0, 955929600000.0, 956016000000.0, 956188800000.0, 956620800000.0, 956793600000.0, 957139200000.0, 957312000000.0, 957398400000.0, 957484800000.0], \"height\": [1.1899999999999977, 1.5600000000000023, 1.3700000000000045, 1.75, 4.689999999999998, 1.4399999999999977, 0.37999999999999545, 0.8100000000000023, 4.1200000000000045, 6.0, 0.4399999999999977, 5.060000000000002, 0.6899999999999977, 2.0, 0.25, 2.0600000000000023, 1.6200000000000045, 4.060000000000002, 0.3199999999999932, 0.6200000000000045, 2.3700000000000045, 0.5699999999999932, 0.18999999999999773, 0.12999999999999545, 0.8700000000000045], \"y\": [90.215, 92.59, 95.435, 94.685, 97.655, 100.28, 97.81, 94.965, 97.31, 99.75, 103.03, 109.34, 103.965, 106.19, 106.125, 88.03, 75.06, 78.53, 78.78, 69.06, 68.625, 73.155, 70.465, 70.375, 70.685]}}, \"id\": \"b2ea7e71-eee1-41e0-b3d6-16ea85458bf8\", \"type\": \"ColumnDataSource\"}, {\"attributes\": {\"plot\": {\"subtype\": \"Figure\", \"id\": \"c917372e-4a01-44a3-9397-ee9cdc8d3aca\", \"type\": \"Plot\"}, \"overlay\": {\"id\": \"2c6ad5e3-3ed4-4756-a8f6-de697e231dd9\", \"type\": \"BoxAnnotation\"}}, \"id\": \"8271586e-5564-4455-a98a-6161493ec375\", \"type\": \"BoxZoomTool\"}, {\"attributes\": {\"num_minor_ticks\": 5}, \"id\": \"9a4dd2a5-31e7-4b57-96f4-9dbffc4ba414\", \"type\": \"DatetimeTicker\"}]}}};\n",
       "        var render_items = [{\"elementid\": \"83b15dd1-4b15-43db-a42f-46651c1aae0e\", \"notebook_comms_target\": \"fd59e5ee-0266-45bb-afc5-31c121a6b5df\", \"docid\": \"150ac2be-5814-4a8a-9789-8922697eef8f\", \"modelid\": \"c917372e-4a01-44a3-9397-ee9cdc8d3aca\"}];\n",
       "        \n",
       "        Bokeh.embed.embed_items(docs_json, render_items);\n",
       "    });\n",
       "    </script>\n",
       "\n",
       "    <div class=\"plotdiv\" id=\"83b15dd1-4b15-43db-a42f-46651c1aae0e\"></div>\n",
       "\n"
      ]
     },
     "metadata": {},
     "output_type": "display_data"
    },
    {
     "data": {
      "text/plain": [
       "<bokeh.io._CommsHandle at 0x1089c8438>"
      ]
     },
     "execution_count": 6,
     "metadata": {},
     "output_type": "execute_result"
    }
   ],
   "source": [
    "show(p)"
   ]
  },
  {
   "cell_type": "code",
   "execution_count": null,
   "metadata": {
    "collapsed": false
   },
   "outputs": [],
   "source": []
  }
 ],
 "metadata": {
  "kernelspec": {
   "display_name": "Python 3",
   "language": "python",
   "name": "python3"
  },
  "language_info": {
   "codemirror_mode": {
    "name": "ipython",
    "version": 3
   },
   "file_extension": ".py",
   "mimetype": "text/x-python",
   "name": "python",
   "nbconvert_exporter": "python",
   "pygments_lexer": "ipython3",
   "version": "3.5.1"
  }
 },
 "nbformat": 4,
 "nbformat_minor": 0
}
